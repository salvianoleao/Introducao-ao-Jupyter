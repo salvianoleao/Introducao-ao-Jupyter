{
 "cells": [
  {
   "cell_type": "markdown",
   "metadata": {},
   "source": [
    "<img src=\"../Figs/Cab_IF_Red_01.png\" alt=\"drawing\" width=\"80%\"/>\n",
    "\n",
    "\n",
    "<!--\n",
    "\n",
    "<img href=\"Figs/Cab_IF_Red_01.png\" style=\"width: 80%;\" /> doesn't work\n",
    "\n",
    "![Logotipo do IF](../Figs/Cab_IF_Red_01.png){ width=50% }\n",
    "\n",
    "<h1> <span style=\"color:blue\">Curso de Python</span> </h1> \n",
    "-->\n",
    "\n",
    "<p style=\"margin-bottom:1cm;\"> </p>\n",
    "\n",
    "\n",
    "<center> <font size=\"6\" color=\"blue\">Curso de Python</font> </center>\n",
    "\n",
    "\n",
    "<font size=\"4\" color=\"blue\">**Prof. :** Salviano A. Leão -- Instituto de Física - UFG-GO</font>\n",
    "\n"
   ]
  },
  {
   "cell_type": "markdown",
   "metadata": {},
   "source": [
    "# Entrada e Saída"
   ]
  },
  {
   "cell_type": "markdown",
   "metadata": {},
   "source": [
    "## Sumário  <a name=\"sumario\"></a>\n",
    "* [Introdução](#IO-Introducao)\n",
    "* [Imprimindo na Saída Padrão (normalmente na tela)](#IO-Impressao)\n",
    "  - [Impressão Simples](#IO-imp-simp)\n",
    "  - [Impressão Formatada](#IO-imp-form)\n",
    "  - [\"str\" e \"\\_\\_str\\_\\_\"](#IO-string)\n",
    "  - [“repr” e “\\_\\_repr\\_\\_”](#IO-repr)\n",
    "* [Novo estilo de formatar string](#IO-form-str-new)\n",
    "* [Mudanças do Python 2 para o Python 3: `print`](#IO-python-2-to-3)\n",
    "* [Lendo e Escrevendo em arquivos](#IO-ler-escrever-arq)\n",
    "  - [Exemplo de leitura de arquivos](#IO-exemp-ler-arq)\n",
    "\n",
    "\n",
    "## Introdução <a name=\"IO-Introducao\"></a>\n",
    "\n",
    "Nesta seção, descrevemos a impressão, que inclui o uso da função `print`, os especificadores de formato`%` antigo e os novos especificadores de formato `{}`.\n",
    "\n",
    "In this section, we describe printing, which includes the use of the `print` function, the old-style `%` format specifiers  and the new style `{}` format specifiers.\n",
    "\n",
    "\n",
    "## Imprimindo na Saída Padrão (normalmente na tela)   <a name=\"IO-Impressao\"></a>\n",
    "\n",
    "\n",
    "A função `print` é o comando mais comumente usado para imprimir informações para o \"*dispositivo de saída padrão*\", que normalmente é a tela.\n",
    "\n",
    "Há dois modos para usar a impressão.\n",
    "\n",
    "\n",
    "### Impressão Simples <a name=\"IO-imp-simp\"></a>\n",
    "\n",
    "A maneira mais fácil de usar o comando `print` é listar as variáveis a serem impressas, separadas por vírgula. Aqui estão alguns exemplos:"
   ]
  },
  {
   "cell_type": "code",
   "execution_count": null,
   "metadata": {},
   "outputs": [],
   "source": [
    "a = 10\n",
    "b = 'O python é'\n",
    "c = \"O python\"\n",
    "print(a)"
   ]
  },
  {
   "cell_type": "code",
   "execution_count": null,
   "metadata": {
    "scrolled": true
   },
   "outputs": [],
   "source": [
    "print(b)"
   ]
  },
  {
   "cell_type": "code",
   "execution_count": null,
   "metadata": {},
   "outputs": [],
   "source": [
    "print(b, a)"
   ]
  },
  {
   "cell_type": "code",
   "execution_count": null,
   "metadata": {},
   "outputs": [],
   "source": [
    "print(\"A reposta é\", a)"
   ]
  },
  {
   "cell_type": "code",
   "execution_count": null,
   "metadata": {},
   "outputs": [],
   "source": [
    "print(\"A reposta é\", a, \"e a string contém:\", b)"
   ]
  },
  {
   "cell_type": "code",
   "execution_count": null,
   "metadata": {},
   "outputs": [],
   "source": [
    "print(\"A reposta é\", a, \"e a string lê\", b)"
   ]
  },
  {
   "cell_type": "markdown",
   "metadata": {},
   "source": [
    "O Python adiciona um espaço entre cada objeto que está sendo impresso.\n",
    "\n",
    "O Python imprime uma nova linha após cada chamada de impressão. Para suprimir isso, use o parâmetro `end =`:"
   ]
  },
  {
   "cell_type": "code",
   "execution_count": null,
   "metadata": {},
   "outputs": [],
   "source": [
    "print(\"Imprimindo na primeira linha\", end='')\n",
    "print(\"...e a impressão continua ainda na primeira linha.\")"
   ]
  },
  {
   "cell_type": "markdown",
   "metadata": {},
   "source": [
    "### Impressão  Formatada <a name=\"IO-imp-form\"></a>\n",
    "\n",
    "A maneira mais sofisticada de formatar a saída usa uma sintaxe muito semelhante à `fprintf` do Matlab (e também semelhante à `printf` do C).\n",
    "\n",
    "A estrutura geral é que existe uma string contendo especificadores de formato, seguida por um sinal de porcentagem e uma tupla que contém as variáveis a serem impressas no lugar dos especificadores de formato."
   ]
  },
  {
   "cell_type": "code",
   "execution_count": null,
   "metadata": {},
   "outputs": [],
   "source": [
    "print(\"a = %d e b = %d\" % (10,20))"
   ]
  },
  {
   "cell_type": "markdown",
   "metadata": {},
   "source": [
    "Uma string pode conter identificadores de formato (como `%f` para formatar como um float, `%d` para formatar como um inteiro, e `%s` para formatar como uma string):"
   ]
  },
  {
   "cell_type": "code",
   "execution_count": 2,
   "metadata": {
    "ExecuteTime": {
     "end_time": "2019-08-14T13:39:38.162666Z",
     "start_time": "2019-08-14T13:39:38.158888Z"
    }
   },
   "outputs": [
    {
     "name": "stdout",
     "output_type": "stream",
     "text": [
      "Pi = 3.14\n",
      "Pi =  3.14\n"
     ]
    }
   ],
   "source": [
    "from math import pi\n",
    "print(\"Pi = %4.2f\" % pi) \n",
    "print(\"Pi = %5.2f\" % pi) "
   ]
  },
  {
   "cell_type": "code",
   "execution_count": 3,
   "metadata": {
    "ExecuteTime": {
     "end_time": "2019-08-14T13:39:41.751014Z",
     "start_time": "2019-08-14T13:39:41.747568Z"
    }
   },
   "outputs": [
    {
     "name": "stdout",
     "output_type": "stream",
     "text": [
      "Pi = 123456789012345\n",
      "Pi =      3.142\n"
     ]
    }
   ],
   "source": [
    "print(\"Pi = 123456789012345\") # Régua\n",
    "print(\"Pi = %10.3f\" % pi)"
   ]
  },
  {
   "cell_type": "code",
   "execution_count": null,
   "metadata": {},
   "outputs": [],
   "source": [
    "print(\"Pi = 123456789012345\")\n",
    "print(\"Pi = %10.8f\" % pi)"
   ]
  },
  {
   "cell_type": "code",
   "execution_count": null,
   "metadata": {},
   "outputs": [],
   "source": [
    "print(\"Pi = %d\" % pi)\n",
    "print(\"Pi = %5d\" % pi)"
   ]
  },
  {
   "cell_type": "markdown",
   "metadata": {},
   "source": [
    "O especificador de formato do tipo `%W.Df` significa que um float deve ser impresso com uma largura total de caracteres `W` e dígitos `D` atrás do ponto decimal. (Isto é idêntico ao Matlab e C, por exemplo.)\n",
    "\n",
    "Para imprimir mais de um objeto, forneça vários especificadores de formato e liste vários objetos na tupla:"
   ]
  },
  {
   "cell_type": "code",
   "execution_count": null,
   "metadata": {},
   "outputs": [],
   "source": [
    "print(\"Pi = %9.7f, 142*pi = %12.8f and pi^2 = %12.10f.\" % (pi,142*pi,pi**2))"
   ]
  },
  {
   "cell_type": "markdown",
   "metadata": {},
   "source": [
    "Note que a conversão de um especificador de formato e de uma tupla de variáveis em string não depende do comando `print`:"
   ]
  },
  {
   "cell_type": "code",
   "execution_count": null,
   "metadata": {},
   "outputs": [],
   "source": [
    "from math import pi\n",
    "\"pi = %f\" % pi"
   ]
  },
  {
   "cell_type": "markdown",
   "metadata": {},
   "source": [
    "Isso significa que podemos converter objetos em strings onde quer que precisemos, e podemos decidir imprimir as sequências de caracteres mais tarde - não há necessidade de acoplar a formatação de perto para o código que faz a impressão.\n",
    "\n",
    "Visão geral dos especificadores de formato mais corriqueiros usando as unidades astronômicas como um exemplo:"
   ]
  },
  {
   "cell_type": "code",
   "execution_count": null,
   "metadata": {},
   "outputs": [],
   "source": [
    "AU = 149597870700  # unidade astronomica  [m]\n",
    "\"%f\" % AU          # linha 1 da tabela"
   ]
  },
  {
   "cell_type": "markdown",
   "metadata": {},
   "source": [
    "## Formatação avançada\n",
    "\n",
    "Para uma formatação específica de tipo mais avançados, você pode usar qualquer um dos códigos de tipo de conversão listados na Tabela abixo em expressões de formatação; eles aparecem após `o%` de caracteres em alvos de substituição. Os programadores C reconhecerão a maior parte deles porque a formatação de seqüência de caracteres Python suporta todos os códigos de formato C impresso habituais (mas retorna o resultado, em vez de exibi-lo, como printf). Alguns dos códigos de formato na tabela fornecem formas alternativas de formatar o mesmo tipo; por exemplo, `%e`, `%f` e `%g` fornecem formas alternativas de formatar números de ponto flutuante.\n",
    "\n",
    "\n",
    "\n",
    "Tipos de códigos para formatação de strings:\n",
    "\n",
    "| Código | Signigicado |\n",
    "|:-------| :-----------|\n",
    "| s      | String (ou qualquer objeto `str(X)` string) |\n",
    "| r      | o mesmo que s, mas usa `repr`, não `str` |\n",
    "| c      | Carácter (`int` ou `str`) |\n",
    "| d      | Decimal (inteiro na base-10) \\\n",
    "| i      | Inteiro |\n",
    "| u      | O mesmo que d (obsoleto: não é mais sem sinal) |\n",
    "| o      | Inteiro Octal (base 8) |\n",
    "| x      | Inteiro Hex (base 16) |\n",
    "| X      | O mesmo que  x, mas usa letras maiúsculas |\n",
    "| e      | Ponto flutuante com exponente, mas usa letras minúsculas |\n",
    "| E      | O mesmo que  e, mas usa letras maiúsculas |\n",
    "| f      | Ponto flutuante decimal |\n",
    "| F      | O mesmo que  f, mas usa letras maiúsculas |\n",
    "| g      | Ponto flutuante e or f |\n",
    "| G      | Ponto flutuante E or F |\n",
    "| %      | Literal % (codificado como %%) |\n",
    "\n",
    " A estrutura geral dos alvos de conversão tem a seguinte forma:\n",
    "\n",
    "```python\n",
    "%[(keyname)][flags][width][.precision]typecode\n",
    "```\n",
    "\n",
    "Os caracteres do código de tipo estão na primeira coluna da Tabela acima aparecem no final do formato da string alvo. Entre o `%` e o caractere do código de tipo, pode-se fazer o seguinte:\n",
    "\n",
    "- Fornecer um `keyname` para indexar o dicionário usado no lado direito da expressão\n",
    "- Uma lista `flags` que especificam coisas como uma justificação à esquerda (-), sinal numérico (+), um espaço em branco antes de números positivos e a - para negativos (um espaço) e preenchimentoscom zeros (0).\n",
    "\n",
    "| Flag | Significado |\n",
    "|:-------| :-----------|\n",
    "| # | Usado com o, x ou X para especificar se o valor é prededido de 0, 0o, 0O, 0x ou 0X respectivamente |\n",
    "| 0 | A conversão resultará em um campo preenchido por zero para os valores númericos |\n",
    "| - | O valor convertido é ajustado a esquerda |\n",
    "| \" \" | Espaço, sem sinal (o sinal de menos), ele serṕa escritao com espaços em branco inseridos |\n",
    "| + | Um caracter de sinal, \"+\" ou \"-\" irá preceder a conversão, ela sobrescreve a flag espaço |\n",
    "\n",
    "Vejamos alguns exemplos:\n",
    "```python\n",
    ">>> print(\"%#5X\"% (47))\n",
    " 0X2F\n",
    ">>> print(\"%5X\"% (47))\n",
    "   2F\n",
    ">>> print(\"%#5.4X\"% (47))\n",
    "0X002F\n",
    ">>> print(\"%#5o\"% (25))\n",
    " 0o31\n",
    ">>> print(\"%+d\"% (42))\n",
    "+42\n",
    ">>> print(\"% d\"% (42))\n",
    " 42\n",
    ">>> print(\"%+2d\"% (42))\n",
    "+42\n",
    ">>> print(\"% 2d\"% (42))\n",
    " 42\n",
    ">>> print(\"%2d\"% (42))\n",
    "42\n",
    "```\n",
    "\n",
    "- Dê uma largura de campo mínima total para o texto substituído\n",
    "- Defina o número de dígitos (precisão) para exibir após um ponto decimal para números de ponto flutuante.\n",
    "\n",
    "Tanto as partes `width` e `precision` também podem ser codificadas como `*` para especificar que elas devem levar seus valores do próximo item nos valores de entrada no lado direito da expressão (útil quando isso não é conhecido até o tempo de execução). E se você não precisa de nenhuma dessas ferramentas extras, um simples `%s` na seqüência de formato será substituído pela string de impressão padrão do valor correspondente, independentemente do tipo.\n",
    "\n",
    "### Referência\n",
    "\n",
    "Para maiores detalhes sobre a formatação consulte o [Manual do Pyhton 3](https://docs.python.org/3/library/string.html#format-specification-mini-language).\n",
    "\n",
    "\n",
    "### Alguns exemplos de uso\n",
    "\n",
    "| Especificador         |         Estilo         |  Exemplo de saída para AU|\n",
    "|:------------------|:---------------------:|----------------------:|\n",
    "| `%f` |    ponto flutuante       |  `149597870700.000000`|\n",
    "| `%e` |  notação exponencial     |         `1.495979e+11`|\n",
    "| `%g` | o mais curto de %e ou %f |          `1.49598e+11`|\n",
    "| `%d` |        inteiro           |         `149597870700`|\n",
    "| `%s` |  `str()` |         `149597870700`|\n",
    "| `%r` | `repr()` |        `149597870700L`|\n",
    "\n",
    "\n",
    "\n",
    "\n",
    "## “str” e “\\_\\_str\\_\\_”  <a name=\"IO-string\"></a>\n",
    "\n",
    "Todos os objetos em Python devem fornecer um método `__str__` que retorna uma representação de string agradável do objeto. Esse método `a.__str__()` é chamado quando aplicamos a função `str` ao objeto `a`:"
   ]
  },
  {
   "cell_type": "code",
   "execution_count": null,
   "metadata": {},
   "outputs": [],
   "source": [
    "print(\"1) \", \"%#5X\"% (47))\n",
    "print(\"2) \", \"%5X\"% (47))\n",
    "print(\"3) \", \"%#5.4X\"% (47))\n",
    "print(\"4) \", \"%#5o\"% (25))\n",
    "print(\"5) \", \"%+d\"% (42))\n",
    "print(\"6) \", \"% d\"% (42))\n",
    "print(\"7) \", \"%+2d\"% (42))\n",
    "print(\"8) \", \"% 2d\"% (42))\n",
    "print(\"9) \", \"%2d\"% (42))"
   ]
  },
  {
   "cell_type": "code",
   "execution_count": null,
   "metadata": {},
   "outputs": [],
   "source": [
    "a = 3.14\n",
    "a.__str__()\n",
    "type(a)"
   ]
  },
  {
   "cell_type": "code",
   "execution_count": null,
   "metadata": {},
   "outputs": [],
   "source": [
    "c=\"hoje é o pi day: \" + a.__str__()\n",
    "print(c)"
   ]
  },
  {
   "cell_type": "code",
   "execution_count": null,
   "metadata": {},
   "outputs": [],
   "source": [
    "str(a)"
   ]
  },
  {
   "cell_type": "code",
   "execution_count": null,
   "metadata": {},
   "outputs": [],
   "source": [
    "c=\"hoje é o pi day: \" + str(a)\n",
    "print(c)"
   ]
  },
  {
   "cell_type": "markdown",
   "metadata": {},
   "source": [
    "A função `str` é extremamente conveniente, pois permite imprimir objetos mais complicados, como"
   ]
  },
  {
   "cell_type": "code",
   "execution_count": null,
   "metadata": {},
   "outputs": [],
   "source": [
    "b = [3, 4.2, ['abacate', 'banana', 'pera'], (0, 1)]\n",
    "str(b)"
   ]
  },
  {
   "cell_type": "markdown",
   "metadata": {},
   "source": [
    "A forma como o Python imprime isto é pelo método `__str__` do objeto de lista. Isso imprimirá o primeiro colchete aberto `[` e então chamará o método `__str__` do primeiro objeto, isto é, o inteiro 3. Isso produzirá `3`. Em seguida, o método `__str__` do objeto de lista imprime a vírgula `,` e move-se para chamar o método `__str__` do próximo elemento na lista (ou seja, `4.2`) para imprimir a si mesmo. Desta forma, qualquer objeto composto pode ser representado como uma *string* (sequência de caracteres), pedindo aos objetos mantidos que se convertam em strings.\n",
    "\n",
    "O método string do objeto `x` é chamado implicitamente, quando nós\n",
    "\n",
    "- usamos o especificador de formato \"%s\" para imprimir `x`\n",
    "\n",
    "- passar o objeto `x` diretamente para o comando print:\n",
    "\n",
    "<!-- -->"
   ]
  },
  {
   "cell_type": "code",
   "execution_count": null,
   "metadata": {},
   "outputs": [],
   "source": [
    "print(b)"
   ]
  },
  {
   "cell_type": "code",
   "execution_count": null,
   "metadata": {},
   "outputs": [],
   "source": [
    "print(\"%s\" % b)"
   ]
  },
  {
   "cell_type": "markdown",
   "metadata": {},
   "source": [
    "## “repr” e “\\_\\_repr\\_\\_” <a name=\"IO-repr\"></a>\n",
    "\n",
    "Uma segunda função, `repr`, deve converter um dado objeto em uma apresentação de string *de modo que esta string possa ser usada para recriar o objeto usando a função `eval`*. A função `repr` geralmente fornecerá uma string mais detalhada do que `str`. Aplicando `repr` ao objeto `x` tentará chamar `x.__repr__()`."
   ]
  },
  {
   "cell_type": "code",
   "execution_count": 4,
   "metadata": {
    "ExecuteTime": {
     "end_time": "2019-08-14T13:41:23.797523Z",
     "start_time": "2019-08-14T13:41:23.793703Z"
    }
   },
   "outputs": [
    {
     "name": "stdout",
     "output_type": "stream",
     "text": [
      "17\n",
      "3.141592653589793\n"
     ]
    }
   ],
   "source": [
    "from math import pi as a1\n",
    "print(len(str(a1)))\n",
    "print(str(a1))"
   ]
  },
  {
   "cell_type": "code",
   "execution_count": 5,
   "metadata": {
    "ExecuteTime": {
     "end_time": "2019-08-14T13:41:26.485804Z",
     "start_time": "2019-08-14T13:41:26.478248Z"
    }
   },
   "outputs": [
    {
     "name": "stdout",
     "output_type": "stream",
     "text": [
      "17\n",
      "3.141592653589793\n"
     ]
    }
   ],
   "source": [
    "print(len(repr(a1)))\n",
    "print(repr(a1))"
   ]
  },
  {
   "cell_type": "code",
   "execution_count": 8,
   "metadata": {
    "ExecuteTime": {
     "end_time": "2019-08-14T13:42:54.638068Z",
     "start_time": "2019-08-14T13:42:54.634022Z"
    }
   },
   "outputs": [
    {
     "name": "stdout",
     "output_type": "stream",
     "text": [
      "3.141592653589793\n",
      "7.283185307179586\n"
     ]
    }
   ],
   "source": [
    "numero_como_string = repr(a1)\n",
    "a2 = eval(numero_como_string)  # calcula a  string \n",
    "print(a2)\n",
    "print(2*a2+1)"
   ]
  },
  {
   "cell_type": "code",
   "execution_count": 10,
   "metadata": {
    "ExecuteTime": {
     "end_time": "2019-08-14T13:43:22.590550Z",
     "start_time": "2019-08-14T13:43:22.586431Z"
    }
   },
   "outputs": [
    {
     "data": {
      "text/plain": [
       "0.0"
      ]
     },
     "execution_count": 10,
     "metadata": {},
     "output_type": "execute_result"
    }
   ],
   "source": [
    "a2-a1                      # -> repr é uma representação  exata "
   ]
  },
  {
   "cell_type": "code",
   "execution_count": 11,
   "metadata": {
    "ExecuteTime": {
     "end_time": "2019-08-14T13:43:23.394648Z",
     "start_time": "2019-08-14T13:43:23.390048Z"
    }
   },
   "outputs": [
    {
     "data": {
      "text/plain": [
       "0.0"
      ]
     },
     "execution_count": 11,
     "metadata": {},
     "output_type": "execute_result"
    }
   ],
   "source": [
    "a1-eval(repr(a1))"
   ]
  },
  {
   "cell_type": "code",
   "execution_count": 12,
   "metadata": {
    "ExecuteTime": {
     "end_time": "2019-08-14T13:43:26.365954Z",
     "start_time": "2019-08-14T13:43:26.361853Z"
    }
   },
   "outputs": [
    {
     "data": {
      "text/plain": [
       "0.0"
      ]
     },
     "execution_count": 12,
     "metadata": {},
     "output_type": "execute_result"
    }
   ],
   "source": [
    "a1-eval(str(a1))           # -> já a str perdeu alguns poucos digitos"
   ]
  },
  {
   "cell_type": "markdown",
   "metadata": {},
   "source": [
    "Podemos converter um objeto em sua apresentação `str()` ou `repr` usando os especificadores de formato `%s` e `%r`, respectivamente."
   ]
  },
  {
   "cell_type": "code",
   "execution_count": 13,
   "metadata": {
    "ExecuteTime": {
     "end_time": "2019-08-14T13:43:32.996720Z",
     "start_time": "2019-08-14T13:43:32.993008Z"
    }
   },
   "outputs": [
    {
     "data": {
      "text/plain": [
       "'3.141592653589793'"
      ]
     },
     "execution_count": 13,
     "metadata": {},
     "output_type": "execute_result"
    }
   ],
   "source": [
    "import math\n",
    "\"%s\" % math.pi"
   ]
  },
  {
   "cell_type": "code",
   "execution_count": 14,
   "metadata": {
    "ExecuteTime": {
     "end_time": "2019-08-14T13:43:33.991124Z",
     "start_time": "2019-08-14T13:43:33.987562Z"
    }
   },
   "outputs": [
    {
     "data": {
      "text/plain": [
       "'3.141592653589793'"
      ]
     },
     "execution_count": 14,
     "metadata": {},
     "output_type": "execute_result"
    }
   ],
   "source": [
    "\"%r\" % math.pi"
   ]
  },
  {
   "cell_type": "markdown",
   "metadata": {},
   "source": [
    "## Novo estilo de formatar string <a name=\"IO-form-str-new\"></a>\n",
    "\n",
    "Um novo sistema de formatação incorporada permite mais flexibilidade para casos complexos, ao custo de ser um pouco mais longo. Para maiores informações consulte o manual do [Format Specification Mini-Language](https://docs.python.org/3/library/string.html#format-specification-mini-language) e o [PyFormat](https://pyformat.info/) a qual possui uma série de exemplos.\n",
    "\n",
    "Idéias básicas em exemplos:"
   ]
  },
  {
   "cell_type": "code",
   "execution_count": 17,
   "metadata": {
    "ExecuteTime": {
     "end_time": "2019-08-14T13:47:33.460892Z",
     "start_time": "2019-08-14T13:47:33.456488Z"
    }
   },
   "outputs": [
    {
     "data": {
      "text/plain": [
       "['Pedro', 'Kauara', 'Victor', 'Patricia']"
      ]
     },
     "execution_count": 17,
     "metadata": {},
     "output_type": "execute_result"
    }
   ],
   "source": [
    "Alunos=['Pedro', 'Kauara', 'Victor', 'Patricia']\n",
    "Notas=[4.5, 7.8, 6.0, 8.2]\n",
    "Freq=[52, 48, 56, 54]\n",
    "Alunos"
   ]
  },
  {
   "cell_type": "code",
   "execution_count": 18,
   "metadata": {
    "ExecuteTime": {
     "end_time": "2019-08-14T13:47:38.143639Z",
     "start_time": "2019-08-14T13:47:38.139401Z"
    }
   },
   "outputs": [
    {
     "name": "stdout",
     "output_type": "stream",
     "text": [
      "O/A Pedro teve nota 4.5 e frequência 0052\n",
      "O/A Kauara teve nota 7.8 e frequência 0048\n",
      "O/A Victor teve nota 6.0 e frequência 0056\n",
      "O/A Patricia teve nota 8.2 e frequência 0054\n"
     ]
    }
   ],
   "source": [
    "for i in range(n):\n",
    "    a = \"O/A {0:s} teve nota {1:3.1f} e frequência {2:04d}\".format(Alunos[i],Notas[i],Freq[i])\n",
    "    print(a)"
   ]
  },
  {
   "cell_type": "code",
   "execution_count": 26,
   "metadata": {
    "ExecuteTime": {
     "end_time": "2019-08-14T13:57:24.365463Z",
     "start_time": "2019-08-14T13:57:24.352051Z"
    }
   },
   "outputs": [
    {
     "name": "stdout",
     "output_type": "stream",
     "text": [
      "Notas_finais_Curso_Mat_1_2019-1.csv\n",
      "O/A Pedro teve nota 4.5 e frequência 0052\n",
      "O/A Kauara teve nota 7.8 e frequência 0048\n",
      "O/A Victor teve nota 6.0 e frequência 0056\n",
      "O/A Patricia teve nota 8.2 e frequência 0054\n"
     ]
    }
   ],
   "source": [
    "Curso=\"Mat 1\"\n",
    "Periodo=\"1\"\n",
    "Ano=\"2019\"\n",
    "\n",
    "Nome = \"Notas_finais_Curso_\"+str(Curso.replace(\" \",\"_\"))+\"_\"+str(Ano)+str(\"-\")+str(Periodo)+\".csv\"\n",
    "print(Nome)\n",
    "for i in range(n):\n",
    "    a = \"O/A {0:s} teve nota {1:3.1f} e frequência {2:04d}\".format(Alunos[i],Notas[i],Freq[i])\n",
    "    print(a)\n",
    "    \n",
    "# gerando um arquivo\n",
    "out_file = open(Nome, \"w\")          # o 'w' é o padrão para escrita \n",
    "for i in range(n):\n",
    "    a = \"O/A {0:s} teve nota\".format(Alunos[i])\n",
    "    a = a + \" {0:3.1f} e frequência {1:04d}\\n\".format(Notas[i],Freq[i])\n",
    "    out_file.write(a)\n",
    "\n",
    "out_file.close() "
   ]
  },
  {
   "cell_type": "code",
   "execution_count": 28,
   "metadata": {
    "ExecuteTime": {
     "end_time": "2019-08-14T13:57:43.011853Z",
     "start_time": "2019-08-14T13:57:42.899292Z"
    }
   },
   "outputs": [
    {
     "name": "stdout",
     "output_type": "stream",
     "text": [
      "O/A Pedro teve nota 4.5 e frequência 0052\r\n",
      "O/A Kauara teve nota 7.8 e frequência 0048\r\n",
      "O/A Victor teve nota 6.0 e frequência 0056\r\n",
      "O/A Patricia teve nota 8.2 e frequência 0054\r\n"
     ]
    }
   ],
   "source": [
    "!cat Notas_finais_Curso_Mat_1_2019-1.csv"
   ]
  },
  {
   "cell_type": "code",
   "execution_count": 29,
   "metadata": {
    "ExecuteTime": {
     "end_time": "2019-08-14T13:58:49.122032Z",
     "start_time": "2019-08-14T13:58:49.116620Z"
    }
   },
   "outputs": [
    {
     "data": {
      "text/plain": [
       "[['Pedro', 'Kauara', 'Victor', 'Patricia'],\n",
       " [4.5, 7.8, 6.0, 8.2],\n",
       " [52, 48, 56, 54]]"
      ]
     },
     "execution_count": 29,
     "metadata": {},
     "output_type": "execute_result"
    }
   ],
   "source": [
    "L=[Alunos, Notas, Freq]\n",
    "L"
   ]
  },
  {
   "cell_type": "code",
   "execution_count": 30,
   "metadata": {
    "ExecuteTime": {
     "end_time": "2019-08-14T13:59:18.803462Z",
     "start_time": "2019-08-14T13:59:18.799297Z"
    }
   },
   "outputs": [
    {
     "data": {
      "text/plain": [
       "'Kauara'"
      ]
     },
     "execution_count": 30,
     "metadata": {},
     "output_type": "execute_result"
    }
   ],
   "source": [
    "L[0][1]"
   ]
  },
  {
   "cell_type": "code",
   "execution_count": 31,
   "metadata": {
    "ExecuteTime": {
     "end_time": "2019-08-14T14:00:11.437435Z",
     "start_time": "2019-08-14T14:00:11.432756Z"
    }
   },
   "outputs": [
    {
     "name": "stdout",
     "output_type": "stream",
     "text": [
      "O/A aluno Pedro teve nota 4.5 e frequencia 52\n",
      "\n",
      "O/A aluno Kauara teve nota 7.8 e frequencia 48\n",
      "\n",
      "O/A aluno Victor teve nota 6.0 e frequencia 56\n",
      "\n",
      "O/A aluno Patricia teve nota 8.2 e frequencia 54\n",
      "\n"
     ]
    }
   ],
   "source": [
    "for i in range(n):\n",
    "    a = \"O/A aluno {:s}\".format(L[0][i])\n",
    "    a=a+\" teve nota {:3.1f} \".format(L[1][i])\n",
    "    a=a+ \"e frequencia {:02d}\\n\".format(L[2][i])\n",
    "    print(a)"
   ]
  },
  {
   "cell_type": "code",
   "execution_count": 32,
   "metadata": {
    "ExecuteTime": {
     "end_time": "2019-08-14T14:00:15.527441Z",
     "start_time": "2019-08-14T14:00:15.372849Z"
    }
   },
   "outputs": [
    {
     "name": "stdout",
     "output_type": "stream",
     "text": [
      " 73.0 ; 51.0 ; 91.0 ; 95.0 ; 98.0 ; 50.0 ; 98.0 ; 36.0 ; 29.0 ; 49.0 ; \n",
      " 38.0 ; 30.0 ; 51.0 ; 14.0 ; 41.0 ; 12.0 ; 44.0 ; 63.0 ; 67.0 ; 71.0 ; \n",
      " 10.0 ; 51.0 ; 58.0 ;  4.0 ; 74.0 ; 77.0 ; 36.0 ; 26.0 ; 12.0 ; 96.0 ; \n",
      " 77.0 ; 27.0 ; 49.0 ; 49.0 ; 27.0 ; 73.0 ; 75.0 ; 49.0 ; 20.0 ; 39.0 ; \n",
      " 11.0 ; 61.0 ; 33.0 ; 46.0 ; 55.0 ; 73.0 ; 51.0 ; 57.0 ; 48.0 ;  8.0 ; \n",
      " 19.0 ; 10.0 ; 25.0 ; 44.0 ; 59.0 ; 56.0 ; 80.0 ; 23.0 ; 69.0 ; 19.0 ; \n",
      " 58.0 ; 49.0 ; 60.0 ; 49.0 ;  1.0 ; 12.0 ; 24.0 ; 65.0 ; 89.0 ;  5.0 ; \n",
      "  2.0 ; 81.0 ; 68.0 ; 35.0 ; 78.0 ;  0.0 ; 14.0 ; 48.0 ; 21.0 ; 89.0 ; \n",
      " 31.0 ; 25.0 ; 30.0 ; 64.0 ; 40.0 ;  7.0 ; 86.0 ; 18.0 ; 30.0 ; 61.0 ; \n",
      " 87.0 ; 81.0 ; 46.0 ; 80.0 ; 87.0 ; 88.0 ; 25.0 ; 75.0 ; 61.0 ; 32.0 ; \n"
     ]
    }
   ],
   "source": [
    "import numpy as np\n",
    "n =10\n",
    "Mat = np.random.randint(0,100,(n,n))\n",
    "Mat\n",
    "for i in range(n):\n",
    "    a = \" \"\n",
    "    for j in range(n):\n",
    "        a=a+\"{:4.1f} ; \".format(Mat[i,j])\n",
    "    print(a)"
   ]
  },
  {
   "cell_type": "code",
   "execution_count": null,
   "metadata": {},
   "outputs": [],
   "source": [
    "\"{} precisa {} pontos\".format('Pedro', 4)     # inseri os valores na ordem"
   ]
  },
  {
   "cell_type": "code",
   "execution_count": null,
   "metadata": {},
   "outputs": [],
   "source": [
    "\"{0} precisa {1:03d} pontos\".format(Aluno, Nota)   # index qual o elemento"
   ]
  },
  {
   "cell_type": "code",
   "execution_count": null,
   "metadata": {},
   "outputs": [],
   "source": [
    "\"{1} precisa {0} pontos\".format(Aluno, Nota)"
   ]
  },
  {
   "cell_type": "code",
   "execution_count": null,
   "metadata": {},
   "outputs": [],
   "source": [
    "\"{0} precisa {1} pontos. O {0} é um sujeito esperto, mas é nota {1}\".format(Aluno, Nota)  # referencia o elemento para\n"
   ]
  },
  {
   "cell_type": "code",
   "execution_count": null,
   "metadata": {},
   "outputs": [],
   "source": [
    "\"{nome} precisa {numero} pontos.\".format(  # referencia o elemento para\n",
    "    nome='Pedro',numero=4)                 # imprimir pelo nome"
   ]
  },
  {
   "cell_type": "code",
   "execution_count": null,
   "metadata": {},
   "outputs": [],
   "source": [
    "\"{nome} precisa {numero} pontos. O {nome} é um sujeito esperto, mas é nota {numero}\".format(  # referencia o elemento para\n",
    "    nome='Pedro',numero=4)                # imprimir pelo nome"
   ]
  },
  {
   "cell_type": "code",
   "execution_count": null,
   "metadata": {},
   "outputs": [],
   "source": [
    "\"Pi é aproximadamente {:g}.\".format(math.pi)     # Pode-se usar o estilo antigo de formatar o float"
   ]
  },
  {
   "cell_type": "code",
   "execution_count": null,
   "metadata": {},
   "outputs": [],
   "source": [
    "a = \"Pi é aproximadamente {:.2f}.\".format(math.pi)   # e a precisão"
   ]
  },
  {
   "cell_type": "code",
   "execution_count": null,
   "metadata": {},
   "outputs": [],
   "source": [
    "print(type(a), a)"
   ]
  },
  {
   "cell_type": "code",
   "execution_count": null,
   "metadata": {},
   "outputs": [],
   "source": [
    "\"Pi é aproximadamente {:6.2f}.\".format(math.pi)  # e o tamanho"
   ]
  },
  {
   "cell_type": "code",
   "execution_count": null,
   "metadata": {},
   "outputs": [],
   "source": [
    "\"Pi é aproximadamente {:6.4f}.\".format(math.pi)  # e o tamanho"
   ]
  },
  {
   "cell_type": "markdown",
   "metadata": {},
   "source": [
    "Para imprimir um número preenchedo com zeros faça"
   ]
  },
  {
   "cell_type": "code",
   "execution_count": null,
   "metadata": {},
   "outputs": [],
   "source": [
    "print('{0:04d}'.format(4))"
   ]
  },
  {
   "cell_type": "markdown",
   "metadata": {},
   "source": [
    "Esta é uma forma poderosa e elegante de formatação de strings, que está sendo gradualmente mais usada.\n",
    "\n",
    "#####  Para maiores informações consulte\n",
    "\n",
    "-   Exemplos <http://docs.python.org/library/string.html#format-examples>\n",
    "\n",
    "-   [Python Enhancement Proposal 3101](http://www.python.org/dev/peps/pep-3101/)\n",
    "\n",
    "-   [Python library String Formatting Operations](http://docs.python.org/library/stdtypes.html#string-formatting-operations)\n",
    "\n",
    "-   [Formatação antiga de string](http://docs.python.org/tutorial/inputoutput.html#old-string-formatting)\n",
    "\n",
    "-   [Introduction to Fancier Output Formatting, Python tutorial, section 7.1](http://docs.python.org/tutorial/inputoutput.html)"
   ]
  },
  {
   "cell_type": "markdown",
   "metadata": {},
   "source": [
    "## Mudanças do Python 2 para o Python 3: `print`  <a name=\"IO-python-2-to-3\"></a>\n",
    "\n",
    "Uma mudança (talvez a mais óbvia) de Python 2 para Python 3 é que o comando `print` perde seu status especial. No Python 2, poderíamos imprimir \"Olá mundo Python\" usando:\n",
    "\n",
    "\n",
    "```python\n",
    "print \"Olá mundo Python\"             # valido no Python 2.x\n",
    "```"
   ]
  },
  {
   "cell_type": "markdown",
   "metadata": {},
   "source": [
    "Efetivamente, chamamos a função `print` com o argumento `Olá mundo Python`. Todas as outras funções em Python são chamadas de tal forma que o argumento é colocado entre parênteses, i.e.\n"
   ]
  },
  {
   "cell_type": "code",
   "execution_count": null,
   "metadata": {
    "ExecuteTime": {
     "end_time": "2018-04-25T19:12:48.890030Z",
     "start_time": "2018-04-25T19:12:48.886498Z"
    }
   },
   "outputs": [],
   "source": [
    "print(\"Olá mundo Python\")               # valido no Python 3.x"
   ]
  },
  {
   "cell_type": "markdown",
   "metadata": {},
   "source": [
    "Esta é a nova convenção *necessária* no Python 3 (e *permitido* para a versão recente do Python 2.x.)\n",
    "\n",
    "Tudo o que aprendemos sobre a formatação de strings usando o operador de porcentagem ainda funciona da mesma maneira:"
   ]
  },
  {
   "cell_type": "code",
   "execution_count": null,
   "metadata": {
    "ExecuteTime": {
     "end_time": "2018-04-25T19:12:53.156133Z",
     "start_time": "2018-04-25T19:12:53.142478Z"
    }
   },
   "outputs": [],
   "source": [
    "import math\n",
    "a = math.pi\n",
    "\"o pi = %f\" % a           # formataçao de string "
   ]
  },
  {
   "cell_type": "code",
   "execution_count": null,
   "metadata": {
    "ExecuteTime": {
     "end_time": "2018-04-25T19:13:56.982172Z",
     "start_time": "2018-04-25T19:13:56.978563Z"
    }
   },
   "outputs": [],
   "source": [
    "print(\"o pi = %f\" % a)    # print válido no  2.7 e 3.x"
   ]
  },
  {
   "cell_type": "code",
   "execution_count": null,
   "metadata": {
    "ExecuteTime": {
     "end_time": "2018-04-25T19:13:57.684969Z",
     "start_time": "2018-04-25T19:13:57.679236Z"
    }
   },
   "outputs": [],
   "source": [
    "\"Valor curto de pi = %.2f, e longo de pi = %.12f.\" % (a, a)"
   ]
  },
  {
   "cell_type": "code",
   "execution_count": null,
   "metadata": {
    "ExecuteTime": {
     "end_time": "2018-04-25T19:13:59.903915Z",
     "start_time": "2018-04-25T19:13:59.895712Z"
    }
   },
   "outputs": [],
   "source": [
    "print(\"Valor curto de pi = %.2f, e longo de pi = %.12f.\" % (a, a))"
   ]
  },
  {
   "cell_type": "code",
   "execution_count": null,
   "metadata": {
    "ExecuteTime": {
     "end_time": "2018-04-25T19:14:03.485225Z",
     "start_time": "2018-04-25T19:14:03.480933Z"
    }
   },
   "outputs": [],
   "source": [
    "print(\"Valor curto de pi = %.2f, e longo de pi = %.12f.\" % (a, a))"
   ]
  },
  {
   "cell_type": "code",
   "execution_count": null,
   "metadata": {
    "ExecuteTime": {
     "end_time": "2018-04-25T19:17:56.351441Z",
     "start_time": "2018-04-25T19:17:56.328999Z"
    }
   },
   "outputs": [],
   "source": [
    "# 1. Escrevendo em um arquivo \n",
    "out_file = open(\"texto.txt\", \"w\")          # o 'w' é o padrão para escrita \n",
    "out_file.write(\"Escrevendo um texto para o arquivo. Essa é a primeira linha do arquivo.\\n\"+\\\n",
    "               \"Já essa é a segunda linha do arquivo\")\n",
    "out_file.close()                          # fecha o arquivo"
   ]
  },
  {
   "cell_type": "code",
   "execution_count": null,
   "metadata": {
    "ExecuteTime": {
     "end_time": "2018-04-25T19:18:02.258194Z",
     "start_time": "2018-04-25T19:18:02.143268Z"
    }
   },
   "outputs": [],
   "source": [
    "!cat texto.txt"
   ]
  },
  {
   "cell_type": "code",
   "execution_count": null,
   "metadata": {
    "ExecuteTime": {
     "end_time": "2018-04-25T19:18:38.418652Z",
     "start_time": "2018-04-25T19:18:38.414311Z"
    }
   },
   "outputs": [],
   "source": [
    "# 2. Lendo um arquivo}\n",
    "in_file = open(\"texto.txt\", \"r\")          # O 'r' é o padrão para leitura\n",
    "texto = in_file.read()                    # lê todo o arquivo na\n",
    "                                          # variável string chamada \"texto\"\n",
    "in_file.close()                           # fecha o arquivo \n",
    " \n",
    "# 3. Mostra os dados\n",
    "print(texto)"
   ]
  },
  {
   "cell_type": "code",
   "execution_count": null,
   "metadata": {
    "ExecuteTime": {
     "end_time": "2018-04-25T19:18:44.667986Z",
     "start_time": "2018-04-25T19:18:44.663778Z"
    }
   },
   "outputs": [],
   "source": [
    "type(texto)"
   ]
  },
  {
   "cell_type": "code",
   "execution_count": null,
   "metadata": {
    "ExecuteTime": {
     "end_time": "2018-04-25T19:18:50.689770Z",
     "start_time": "2018-04-25T19:18:50.684610Z"
    }
   },
   "outputs": [],
   "source": [
    "texto.split(\".\")"
   ]
  },
  {
   "cell_type": "code",
   "execution_count": null,
   "metadata": {},
   "outputs": [],
   "source": [
    "texto.split(\".\")[2]"
   ]
  },
  {
   "cell_type": "code",
   "execution_count": null,
   "metadata": {
    "ExecuteTime": {
     "end_time": "2018-04-25T19:18:56.761512Z",
     "start_time": "2018-04-25T19:18:56.757210Z"
    }
   },
   "outputs": [],
   "source": [
    "texto.lower()"
   ]
  },
  {
   "cell_type": "code",
   "execution_count": null,
   "metadata": {
    "ExecuteTime": {
     "end_time": "2018-04-25T19:18:59.761311Z",
     "start_time": "2018-04-25T19:18:59.757787Z"
    }
   },
   "outputs": [],
   "source": [
    "texto.upper()"
   ]
  },
  {
   "cell_type": "code",
   "execution_count": null,
   "metadata": {
    "ExecuteTime": {
     "end_time": "2018-04-25T19:19:03.189069Z",
     "start_time": "2018-04-25T19:19:03.183023Z"
    }
   },
   "outputs": [],
   "source": [
    "texto.rfind(\"um\")"
   ]
  },
  {
   "cell_type": "code",
   "execution_count": null,
   "metadata": {
    "ExecuteTime": {
     "end_time": "2018-04-25T19:19:41.326528Z",
     "start_time": "2018-04-25T19:19:41.323673Z"
    }
   },
   "outputs": [],
   "source": [
    "texto1=texto.replace(\"um\",\"UM\")"
   ]
  },
  {
   "cell_type": "code",
   "execution_count": null,
   "metadata": {
    "ExecuteTime": {
     "end_time": "2018-04-25T19:19:43.550481Z",
     "start_time": "2018-04-25T19:19:43.544796Z"
    }
   },
   "outputs": [],
   "source": [
    "texto1"
   ]
  },
  {
   "cell_type": "code",
   "execution_count": null,
   "metadata": {
    "ExecuteTime": {
     "end_time": "2018-04-25T19:19:55.109507Z",
     "start_time": "2018-04-25T19:19:55.105344Z"
    }
   },
   "outputs": [],
   "source": [
    "def troca(texto, palavra):\n",
    "    u=palavra.upper()\n",
    "    texto=texto.replace(palavra,u)\n",
    "    return texto\n",
    "\n",
    "w=\"linha\"\n",
    "texto=troca(texto,w)\n",
    "print(texto)"
   ]
  },
  {
   "cell_type": "markdown",
   "metadata": {},
   "source": [
    "## Lendo e Escrevendo em arquivos <a name=\"IO-ler-escrever-arq\"></a>\n",
    "\n",
    "Aqui está um programa que\n",
    "\n",
    "1. grava algum texto em um arquivo com o nome `texto.txt`,\n",
    "\n",
    "2. e depois lê o texto novamente e\n",
    "\n",
    "3. imprime-o na tela.\n",
    "\n",
    "\n",
    "<!-- -->"
   ]
  },
  {
   "cell_type": "markdown",
   "metadata": {},
   "source": [
    "Os dados armazenados no arquivo `texto.txt` são:\n",
    "\n",
    "```\n",
    "Escrevendo um texto para o arquivo. Essa é a primeira linha do arquivo.\n",
    "Já essa é a segunda linha do arquivo.\n",
    "```"
   ]
  },
  {
   "cell_type": "markdown",
   "metadata": {},
   "source": [
    "Em mais detalhes, você abriu um arquivo com o comando `open` e atribuiu esse objeto de arquivo aberto à variável `out_file`. Em seguida, escrevemos dados para o arquivo usando o método `out_file.write`. Observe que no exemplo acima, damos uma string ao método `write`. Podemos, é claro, usar toda a formatação que discutimos anteriormente - veja [Impressão formatada](#IO-imp-form) e [Novo estilo de formatar string](#IO-form-str-new). Por exemplo, para gravar este arquivo com a tabela de nomes `tabela.txt`, podemos usar este programa Python. É uma boa prática fechar `close()` os arquivos quando concluímos a sua leitura e a escrita. Se um programa Python for deixado de forma controlada (ou seja, não através de um corte de energia ou de um erro improvável no idioma Python ou no sistema operacional), ele fechará todos os arquivos abertos assim que os objetos do arquivo forem destruídos. No entanto, fechá-los ativamente logo que possível é melhor estilo e o mais seguro.\n",
    "\n",
    "\n",
    "\n",
    "### Exemplo de leitura de arquivos <a name=\"IO-exemp-ler-arq\"></a>\n",
    "\n",
    "\n",
    "Utilizamos um arquivo chamado `meu-arq.txt` contendo as seguintes 3 linhas de texto para os exemplos abaixo:\n",
    "\n",
    "\n",
    "   > Esta é a primeira linha.\n",
    "     Esta é a segunda linha.\n",
    "     Esta é a terceira e última linha.\n",
    "     \n",
    "Vamos abrir ele com o comando `open()`, o qual retorna um objeto de arquivo, e é comumente usado com dois argumentos: `open(nome-do-arquivo, mode)`.\n",
    "\n",
    "O primeiro argumento é uma string contendo o nome do arquivo. O segundo argumento é uma outra string contendo alguns caracteres os quais descrevem a maneira que o arquivo será usado. O modo pode ser `'r'` quando o arquivo só será lido, `'w'` apenas para escrever (um arquivo existente com o mesmo nome será apagado) e `'a'` abre o arquivo para acrescentar; quaisquer dados gravados ao arquivo são automaticamente adicionados ao final. `'r+'` abre o arquivo para leitura e escrita. O argumento mode é opcional; `'r'` será assumido se for omitido.\n",
    "\n",
    "Normalmente, os arquivos são abertos no modo de texto, ou seja, você lê e escreve strings de e para o arquivo, que são codificados em uma codificação específica. Se a codificação não for especificada, o padrão é dependente da plataforma (consulte o manual do comando `open()`). A opção `'b'` anexado ao modo abre o arquivo no modo binário: agora os dados são lidos e escritos sob a forma de objetos bytes. Este modo deve ser usado para todos os arquivos que não contêm texto.\n",
    "\n",
    "No modo de texto, o padrão quando se lê é converter terminais de linha específicos da plataforma (`\\n` no Unix, `\\r\\n` no Windows) para apenas `\\n`. Ao escrever no modo de texto, o padrão é converter ocorrências de `\\n` de volta para terminações de linha específicas da plataforma. Esta modificação nos bastidores dos dados de arquivos é ótima para arquivos de texto, mas corromperá dados binários como os arquivos JPEG ou EXE. Tenha muito cuidado para usar o modo binário ao ler e gravar esses arquivos."
   ]
  },
  {
   "cell_type": "code",
   "execution_count": null,
   "metadata": {
    "ExecuteTime": {
     "end_time": "2018-04-25T19:21:37.548242Z",
     "start_time": "2018-04-25T19:21:37.498782Z"
    }
   },
   "outputs": [],
   "source": [
    "f = open('meu-arq.txt', 'w')\n",
    "f.write('Esta é a primeira linha.\\n'\n",
    "        'Esta é a segunda linha.\\n'\n",
    "        'Esta é a terceira e última linha.')\n",
    "f.close()"
   ]
  },
  {
   "cell_type": "code",
   "execution_count": null,
   "metadata": {
    "ExecuteTime": {
     "end_time": "2018-04-25T19:21:39.994986Z",
     "start_time": "2018-04-25T19:21:39.885808Z"
    }
   },
   "outputs": [],
   "source": [
    "!cat meu-arq.txt"
   ]
  },
  {
   "cell_type": "markdown",
   "metadata": {},
   "source": [
    "#### fileobject.read()\n",
    "\n",
    "O método `fileobject.read()` lê todo o arquivo e o retorna como uma string (incluindo novos caracteres de linha).\n"
   ]
  },
  {
   "cell_type": "code",
   "execution_count": null,
   "metadata": {
    "ExecuteTime": {
     "end_time": "2018-04-25T19:23:08.971782Z",
     "start_time": "2018-04-25T19:23:08.961029Z"
    }
   },
   "outputs": [],
   "source": [
    "f = open('meu-arq.txt', 'r')\n",
    "texto=f.read()\n",
    "texto1= texto.split(\"\\n\")\n",
    "print(texto1[1])"
   ]
  },
  {
   "cell_type": "code",
   "execution_count": null,
   "metadata": {
    "ExecuteTime": {
     "end_time": "2018-04-25T19:23:19.119890Z",
     "start_time": "2018-04-25T19:23:19.117068Z"
    }
   },
   "outputs": [],
   "source": [
    "f.close()"
   ]
  },
  {
   "cell_type": "markdown",
   "metadata": {},
   "source": [
    "#### fileobject.readlines()\n",
    "\n",
    "O método `fileobject.readlines()` retorna uma lista de strings, onde cada elemento da lista corresponde a uma linha na string:\n"
   ]
  },
  {
   "cell_type": "code",
   "execution_count": null,
   "metadata": {
    "ExecuteTime": {
     "end_time": "2018-04-25T19:23:42.836971Z",
     "start_time": "2018-04-25T19:23:42.831632Z"
    }
   },
   "outputs": [],
   "source": [
    "f = open('meu-arq.txt', 'r')\n",
    "f.readlines()"
   ]
  },
  {
   "cell_type": "code",
   "execution_count": null,
   "metadata": {
    "ExecuteTime": {
     "end_time": "2018-04-25T19:23:58.901573Z",
     "start_time": "2018-04-25T19:23:58.898420Z"
    }
   },
   "outputs": [],
   "source": [
    "f.close()"
   ]
  },
  {
   "cell_type": "markdown",
   "metadata": {},
   "source": [
    "Isso é freqüentemente usado para iterar sobre as linhas e fazer algo com cada linha. Por exemplo:\n"
   ]
  },
  {
   "cell_type": "code",
   "execution_count": null,
   "metadata": {
    "ExecuteTime": {
     "end_time": "2018-05-02T19:18:57.101557Z",
     "start_time": "2018-05-02T19:18:57.094882Z"
    }
   },
   "outputs": [],
   "source": [
    "f = open('meu-arq.txt', 'r')\n",
    "for line in f.readlines():\n",
    "    print(\"%d characters\" % len(line))\n",
    "f.close()"
   ]
  },
  {
   "cell_type": "code",
   "execution_count": 34,
   "metadata": {
    "ExecuteTime": {
     "end_time": "2019-08-14T14:06:07.081087Z",
     "start_time": "2019-08-14T14:06:06.964844Z"
    }
   },
   "outputs": [],
   "source": [
    "!mkdir -p data"
   ]
  },
  {
   "cell_type": "code",
   "execution_count": 35,
   "metadata": {
    "ExecuteTime": {
     "end_time": "2019-08-14T14:06:08.793103Z",
     "start_time": "2019-08-14T14:06:08.777589Z"
    }
   },
   "outputs": [
    {
     "name": "stdout",
     "output_type": "stream",
     "text": [
      "Writing data/dados0.dat\n"
     ]
    }
   ],
   "source": [
    "%%writefile data/dados0.dat\n",
    "# x   y    erro_x erro_y\n",
    "  1   3     0.5    0.5\n",
    "  4   19    0.5    0.5\n",
    "  6   28    0.5    1.5\n",
    "  12  44    0.5    2.5\n",
    "  20  83    0.5    3.5"
   ]
  },
  {
   "cell_type": "code",
   "execution_count": 36,
   "metadata": {
    "ExecuteTime": {
     "end_time": "2019-08-14T14:06:13.817136Z",
     "start_time": "2019-08-14T14:06:13.704890Z"
    }
   },
   "outputs": [
    {
     "name": "stdout",
     "output_type": "stream",
     "text": [
      "# x   y    erro_x erro_y\r\n",
      "  1   3     0.5    0.5\r\n",
      "  4   19    0.5    0.5\r\n",
      "  6   28    0.5    1.5\r\n",
      "  12  44    0.5    2.5\r\n",
      "  20  83    0.5    3.5\r\n"
     ]
    }
   ],
   "source": [
    "!cat data/dados0.dat"
   ]
  },
  {
   "cell_type": "code",
   "execution_count": 37,
   "metadata": {
    "ExecuteTime": {
     "end_time": "2019-08-14T14:08:54.978423Z",
     "start_time": "2019-08-14T14:08:54.966531Z"
    }
   },
   "outputs": [
    {
     "name": "stdout",
     "output_type": "stream",
     "text": [
      "# x   y    erro_x erro_y\n",
      "\n",
      "1 3 0.5 0.5  =>  1 3 0.5 0.5\n",
      "4 19 0.5 0.5  =>  4 19 0.5 0.5\n",
      "6 28 0.5 1.5  =>  6 28 0.5 1.5\n",
      "12 44 0.5 2.5  =>  12 44 0.5 2.5\n",
      "20 83 0.5 3.5  =>  20 83 0.5 3.5\n"
     ]
    }
   ],
   "source": [
    "f = open('data/dados0.dat', 'r')\n",
    "head0 = f.readline()     # Lê a primeira linha com o cabeçalho\n",
    "#linhas = f.readlines()\n",
    "print(head0)\n",
    "linha=[]\n",
    "for i in range(5):\n",
    "    linha = f.readline() \n",
    "    #print(linha)\n",
    "    c = \" \".join(linha.split()) # Remove espaços em brancos extras\n",
    "    #print(type(c[0]))\n",
    "    l = c.split() # cria um lista com as colunas. Separou-se as colunas pelos espaços em branco\n",
    "    x = int(l[0])\n",
    "    y = int(l[1])\n",
    "    xe = float(l[2])\n",
    "    ye = float(l[3])\n",
    "    print(c,\" => \", x, y, xe, ye)\n",
    "f.close()"
   ]
  },
  {
   "cell_type": "code",
   "execution_count": 38,
   "metadata": {
    "ExecuteTime": {
     "end_time": "2019-08-14T14:09:06.222229Z",
     "start_time": "2019-08-14T14:09:06.212096Z"
    }
   },
   "outputs": [
    {
     "name": "stdout",
     "output_type": "stream",
     "text": [
      "# x   y    erro_x erro_y\n",
      "\n",
      "['1', '3', '0.5', '0.5']\n",
      "['4', '19', '0.5', '0.5']\n",
      "['6', '28', '0.5', '1.5']\n",
      "['12', '44', '0.5', '2.5']\n",
      "['20', '83', '0.5', '3.5']\n"
     ]
    }
   ],
   "source": [
    "f = open('data/dados0.dat', 'r')\n",
    "head0 = f.readline()\n",
    "#linhas = f.readlines()\n",
    "print(head0)\n",
    "linha=[]\n",
    "for i in range(5):\n",
    "    linha = f.readline()\n",
    "    c = linha.lstrip()\n",
    "    l = c.split()\n",
    "    print(l)\n",
    "f.close()\n"
   ]
  },
  {
   "cell_type": "markdown",
   "metadata": {},
   "source": [
    "Observe que isso irá ler o arquivo completo em uma lista de strings quando o método `readlines()` é chamado. Isso não é problema se soubermos que o arquivo é pequeno e cabe na memória da máquina.\n",
    "\n",
    "Se assim for, também podemos fechar o arquivo antes de processarmos os dados, por exemplo:\n",
    "\n"
   ]
  },
  {
   "cell_type": "code",
   "execution_count": null,
   "metadata": {
    "ExecuteTime": {
     "end_time": "2018-05-02T19:41:54.389060Z",
     "start_time": "2018-05-02T19:41:54.384167Z"
    }
   },
   "outputs": [],
   "source": [
    "f = open('meu-arq.txt', 'r')\n",
    "lines = f.readlines()\n",
    "f.close()\n",
    "for line in lines:\n",
    "    print(\"%d characters\" % len(line))"
   ]
  },
  {
   "cell_type": "markdown",
   "metadata": {},
   "source": [
    "#### Iterando sobre linhas (objeto de arquivo)\n",
    "\n",
    "Existe uma possibilidade mais nítida de ler um arquivo linha a linha, o qual (i) só lerá uma linha de cada vez (e é, portanto, adequado para arquivos grandes também) e (ii) resulta em código mais compacto:\n"
   ]
  },
  {
   "cell_type": "code",
   "execution_count": null,
   "metadata": {
    "ExecuteTime": {
     "end_time": "2018-05-02T19:42:27.887113Z",
     "start_time": "2018-05-02T19:42:27.881159Z"
    }
   },
   "outputs": [],
   "source": [
    "f = open('meu-arq.txt', 'r')\n",
    "for line in f:\n",
    "    print(\"%d characters\" % len(line))\n",
    "    print(\"%s\" % line)\n",
    "f.close()"
   ]
  },
  {
   "cell_type": "code",
   "execution_count": 39,
   "metadata": {
    "ExecuteTime": {
     "end_time": "2019-08-14T14:10:22.780868Z",
     "start_time": "2019-08-14T14:10:22.774633Z"
    }
   },
   "outputs": [],
   "source": [
    "f = open('Animals.txt', 'w')\n",
    "f.write('cat0:dog0:mice0:10\\n'\n",
    "        'cat1:dog1:mice1:20\\n'\n",
    "        'cat2:dog2:mice2:30\\n'\n",
    "        'cat3:dog3:mice3:40')\n",
    "f.close()"
   ]
  },
  {
   "cell_type": "code",
   "execution_count": 40,
   "metadata": {
    "ExecuteTime": {
     "end_time": "2019-08-14T14:10:27.525053Z",
     "start_time": "2019-08-14T14:10:27.413352Z"
    }
   },
   "outputs": [
    {
     "name": "stdout",
     "output_type": "stream",
     "text": [
      "cat0:dog0:mice0:10\r\n",
      "cat1:dog1:mice1:20\r\n",
      "cat2:dog2:mice2:30\r\n",
      "cat3:dog3:mice3:40"
     ]
    }
   ],
   "source": [
    "!cat Animals.txt"
   ]
  },
  {
   "cell_type": "code",
   "execution_count": null,
   "metadata": {
    "ExecuteTime": {
     "end_time": "2018-05-02T19:43:13.760382Z",
     "start_time": "2018-05-02T19:43:13.757418Z"
    }
   },
   "outputs": [],
   "source": [
    "Animals=[['cat0','dog0','mice0',10],['cat1','dog1','mice1',20], ['cat2','dog2','mice2',30], ['cat3','dog3','mice3',40] ]"
   ]
  },
  {
   "cell_type": "code",
   "execution_count": null,
   "metadata": {
    "ExecuteTime": {
     "end_time": "2018-05-02T19:43:22.453778Z",
     "start_time": "2018-05-02T19:43:22.448653Z"
    }
   },
   "outputs": [],
   "source": [
    "for i,j in enumerate(Animals):\n",
    "    print(Animals[i][:])"
   ]
  },
  {
   "cell_type": "markdown",
   "metadata": {},
   "source": [
    "Vamos usar o módluo csv do python, considere o seguinte exemplo:"
   ]
  },
  {
   "cell_type": "code",
   "execution_count": null,
   "metadata": {
    "ExecuteTime": {
     "end_time": "2018-05-02T19:44:44.387091Z",
     "start_time": "2018-05-02T19:44:44.375681Z"
    }
   },
   "outputs": [],
   "source": [
    "import csv\n",
    "with open('Animals.txt', newline='\\n') as f:\n",
    "    reader = csv.reader(f)\n",
    "    for row in reader:\n",
    "        print(row)"
   ]
  },
  {
   "cell_type": "code",
   "execution_count": 41,
   "metadata": {
    "ExecuteTime": {
     "end_time": "2019-08-14T14:10:33.036835Z",
     "start_time": "2019-08-14T14:10:33.029855Z"
    }
   },
   "outputs": [
    {
     "name": "stdout",
     "output_type": "stream",
     "text": [
      "['cat0', 'dog0', 'mice0', '10']\n",
      "['cat1', 'dog1', 'mice1', '20']\n",
      "['cat2', 'dog2', 'mice2', '30']\n",
      "['cat3', 'dog3', 'mice3', '40']\n"
     ]
    }
   ],
   "source": [
    "# Lendo um arquivo com um formato alternativo\n",
    "import csv\n",
    "with open('Animals.txt', newline='\\n') as f:\n",
    "    reader = csv.reader(f, delimiter=':', quoting=csv.QUOTE_NONE)\n",
    "    for row in reader:\n",
    "        print(row)"
   ]
  },
  {
   "cell_type": "code",
   "execution_count": null,
   "metadata": {
    "ExecuteTime": {
     "end_time": "2018-04-25T20:28:43.436413Z",
     "start_time": "2018-04-25T20:28:43.424409Z"
    }
   },
   "outputs": [],
   "source": [
    "# A correspondente forma de escrita de um csv\n",
    "import csv\n",
    "with open('Animals.csv', 'w', newline='', encoding='utf-8') as f:\n",
    "    writer = csv.writer(f, delimiter=';')  \n",
    "    writer.writerows(Animals)"
   ]
  },
  {
   "cell_type": "code",
   "execution_count": null,
   "metadata": {
    "ExecuteTime": {
     "end_time": "2018-04-25T20:28:47.653397Z",
     "start_time": "2018-04-25T20:28:47.538982Z"
    }
   },
   "outputs": [],
   "source": [
    "! cat Animals.csv"
   ]
  },
  {
   "cell_type": "code",
   "execution_count": null,
   "metadata": {
    "ExecuteTime": {
     "end_time": "2018-05-02T19:53:28.714132Z",
     "start_time": "2018-05-02T19:53:28.707159Z"
    }
   },
   "outputs": [],
   "source": [
    "from sys import argv\n",
    "\n",
    "#filename = input(\"Please enter the name of a file: \")\n",
    "#f = open(filename,'r')\n",
    "f=open('Animals.txt','r')\n",
    "print(\"Number of times each animal visited each station:\")\n",
    "print(\"Number  Animal Id       Station 1    Station 2\")\n",
    "\n",
    "for line in f:\n",
    "    line = line.rstrip() # remove \"\\n\"\n",
    "    (Predador1Id, AnimalID, OutroId, n) = line.split(':')\n",
    "    print(n, Predador1Id, AnimalID, OutroId)\n",
    "f.close()\n",
    "print(type(n[0]))"
   ]
  },
  {
   "cell_type": "code",
   "execution_count": null,
   "metadata": {
    "ExecuteTime": {
     "end_time": "2018-05-02T20:08:48.712819Z",
     "start_time": "2018-05-02T20:08:48.703894Z"
    }
   },
   "outputs": [],
   "source": [
    "f=open('data/dados0.dat','r')\n",
    "line = f.readline()  # Lê a primeira linha com o cabeçalho\n",
    "print(line)\n",
    "for line in f:\n",
    "    line = line.rstrip() # remove \"\\n\"\n",
    "    c = \" \".join(line.split()) # Remove espaços em brancos extras\n",
    "    (x, y, xe, ye) = c.split(' ') # Separa as colunas da linha\n",
    "    print('x =(',x,'+/-',xe,')  e  y = (',y,'+/-',ye,')')\n",
    "f.close()"
   ]
  },
  {
   "cell_type": "markdown",
   "metadata": {},
   "source": [
    "Aqui, o manipulador de arquivos `f` atua como no iterador e retornará a próxima linha em cada iteração subsequente do loop for até o final do arquivo ser alcançado (e então o loop for é terminado).\n",
    "\n",
    "\n",
    "##### Mais leitura\n",
    "\n",
    "[Methods of File objects, Tutorial, Section 7.2.1](http://docs.python.org/tutorial/inputoutput.html#methods-of-file-objects)"
   ]
  },
  {
   "cell_type": "markdown",
   "metadata": {},
   "source": [
    "## Leitura diretamente do teclado "
   ]
  },
  {
   "cell_type": "markdown",
   "metadata": {},
   "source": [
    "O Notebook adicionou um suporte para a entrada de dados diretamente do teclado, que feita pela função `raw_input`, conforme exemplo a seguir:"
   ]
  },
  {
   "cell_type": "code",
   "execution_count": null,
   "metadata": {
    "ExecuteTime": {
     "end_time": "2018-05-02T20:17:17.049474Z",
     "start_time": "2018-05-02T20:17:17.045899Z"
    }
   },
   "outputs": [],
   "source": [
    "# Python 3 compat\n",
    "import sys\n",
    "if sys.version_info[0] >= 3:\n",
    "    raw_input = input"
   ]
  },
  {
   "cell_type": "code",
   "execution_count": null,
   "metadata": {
    "ExecuteTime": {
     "end_time": "2018-05-02T20:17:26.119267Z",
     "start_time": "2018-05-02T20:17:20.697716Z"
    }
   },
   "outputs": [],
   "source": [
    "nome = raw_input(\"Qual é o seu nome? \")\n",
    "nome"
   ]
  },
  {
   "cell_type": "markdown",
   "metadata": {},
   "source": [
    "**Somente para o Python 2:** a entrada `eval` funciona também (entrada é apenas `eval(raw_input (prompt))`)"
   ]
  },
  {
   "cell_type": "code",
   "execution_count": null,
   "metadata": {
    "ExecuteTime": {
     "end_time": "2018-05-02T20:17:41.384186Z",
     "start_time": "2018-05-02T20:17:32.679322Z"
    }
   },
   "outputs": [],
   "source": [
    "Idade = input(\"Quantos anos você tem? \")\n",
    "Idade, type(Idade)"
   ]
  },
  {
   "cell_type": "markdown",
   "metadata": {},
   "source": [
    "Em para obter um número é necessário fazer uma conversão direta, da seguinte forma:"
   ]
  },
  {
   "cell_type": "code",
   "execution_count": null,
   "metadata": {
    "ExecuteTime": {
     "end_time": "2018-05-02T20:18:16.837376Z",
     "start_time": "2018-05-02T20:18:11.782188Z"
    }
   },
   "outputs": [],
   "source": [
    "Idade = int(input(\"Quantos anos você tem? \"))\n",
    "Idade, type(Idade)"
   ]
  },
  {
   "cell_type": "code",
   "execution_count": null,
   "metadata": {
    "ExecuteTime": {
     "end_time": "2018-05-02T20:18:09.096588Z",
     "start_time": "2018-05-02T20:18:09.092122Z"
    }
   },
   "outputs": [],
   "source": [
    "int(3.6)"
   ]
  },
  {
   "cell_type": "markdown",
   "metadata": {
    "collapsed": true
   },
   "source": [
    "# Códigos Para Estrutura e Análise de Dados"
   ]
  },
  {
   "cell_type": "markdown",
   "metadata": {},
   "source": [
    "## Caso simples\n",
    "\n",
    "Vamos gravar os pontos de uma função em um arquivo e depois vamos ler o arquivo e fazer o gráfico dele:\n"
   ]
  },
  {
   "cell_type": "code",
   "execution_count": null,
   "metadata": {
    "ExecuteTime": {
     "end_time": "2018-11-09T09:46:06.478410Z",
     "start_time": "2018-11-09T09:46:06.299960Z"
    }
   },
   "outputs": [],
   "source": [
    "# permite que se mostre os gráficos nesse ambiente\n",
    "%matplotlib inline "
   ]
  },
  {
   "cell_type": "code",
   "execution_count": null,
   "metadata": {
    "ExecuteTime": {
     "end_time": "2018-11-09T09:46:07.201519Z",
     "start_time": "2018-11-09T09:46:07.195087Z"
    }
   },
   "outputs": [],
   "source": [
    "# Fazendo o gráfico da função\n",
    "import numpy as np                  # obtém acesso aos rápidos arrays da numpy \n",
    "import matplotlib.pyplot as plt     # Para fazer os gráficos das funções\n",
    "\n",
    "# Definindo a função\n",
    "def f(x):\n",
    "    return np.exp(x) - 6*x\n",
    "\n",
    "x0 = -5     # Valor inicial de x\n",
    "xf = 5      # Valor final de x\n",
    "dx = 0.1    # Passo da discretização dx = (xf - x0)/(np-1)\n",
    "\n",
    "x = np.arange(x0, xf, dx)           # cria um vetor de dados x-data\n",
    "y = f(x)                            # calcula o vetor de dados y-data\n",
    "y1 = np.exp(x)\n",
    "\n",
    "n=len(x)\n",
    "\n",
    "print(n)"
   ]
  },
  {
   "cell_type": "code",
   "execution_count": null,
   "metadata": {
    "ExecuteTime": {
     "end_time": "2018-11-09T09:46:13.187598Z",
     "start_time": "2018-11-09T09:46:13.126873Z"
    }
   },
   "outputs": [],
   "source": [
    "# Cria um arquivo de dados sem formatação\n",
    "f = open('Dados1.dat', 'w')\n",
    "for i in range(n):\n",
    "    f.write(str(x[i])+'\\t'+str(y[i])+'\\t'+str(y1[i])+'\\n')\n",
    "f.close()"
   ]
  },
  {
   "cell_type": "code",
   "execution_count": null,
   "metadata": {
    "ExecuteTime": {
     "end_time": "2018-11-09T09:46:14.478557Z",
     "start_time": "2018-11-09T09:46:14.330238Z"
    }
   },
   "outputs": [],
   "source": [
    "!head Dados1.dat"
   ]
  },
  {
   "cell_type": "code",
   "execution_count": null,
   "metadata": {
    "ExecuteTime": {
     "end_time": "2018-11-09T09:46:17.538883Z",
     "start_time": "2018-11-09T09:46:17.340398Z"
    }
   },
   "outputs": [],
   "source": [
    "!tail Dados1.dat"
   ]
  },
  {
   "cell_type": "code",
   "execution_count": null,
   "metadata": {
    "ExecuteTime": {
     "end_time": "2018-11-09T09:46:20.788830Z",
     "start_time": "2018-11-09T09:46:20.612039Z"
    }
   },
   "outputs": [],
   "source": [
    "!wc -l Dados1.dat"
   ]
  },
  {
   "cell_type": "code",
   "execution_count": null,
   "metadata": {
    "ExecuteTime": {
     "end_time": "2018-11-09T09:46:21.429357Z",
     "start_time": "2018-11-09T09:46:21.410090Z"
    }
   },
   "outputs": [],
   "source": [
    "# Cria um arquivo de dados com formatação\n",
    "f = open('Dados2.dat', 'w')\n",
    "for i in range(n):\n",
    "    a = \"{0:5.2f}\\t\\t{1:8.4f}\\t\\t{2:0<14.9g}\\n\".format(x[i],y[i],y1[i])\n",
    "    f.write(a)\n",
    "f.close()"
   ]
  },
  {
   "cell_type": "code",
   "execution_count": null,
   "metadata": {
    "ExecuteTime": {
     "end_time": "2018-11-09T09:46:24.096108Z",
     "start_time": "2018-11-09T09:46:23.986071Z"
    }
   },
   "outputs": [],
   "source": [
    "!head Dados2.dat"
   ]
  },
  {
   "cell_type": "code",
   "execution_count": null,
   "metadata": {
    "ExecuteTime": {
     "end_time": "2018-11-09T09:46:27.523315Z",
     "start_time": "2018-11-09T09:46:27.410834Z"
    }
   },
   "outputs": [],
   "source": [
    "!tail Dados2.dat"
   ]
  },
  {
   "cell_type": "markdown",
   "metadata": {},
   "source": [
    "Vamos usar a biblioteca do numpy para ler:"
   ]
  },
  {
   "cell_type": "code",
   "execution_count": null,
   "metadata": {
    "ExecuteTime": {
     "end_time": "2018-11-09T10:27:14.565226Z",
     "start_time": "2018-11-09T10:27:14.559230Z"
    }
   },
   "outputs": [],
   "source": [
    "Dados= np.loadtxt('Dados1.dat') # Lê o arquivo de dados"
   ]
  },
  {
   "cell_type": "markdown",
   "metadata": {},
   "source": [
    "O formato da matriz Dados é dado por:"
   ]
  },
  {
   "cell_type": "code",
   "execution_count": null,
   "metadata": {
    "ExecuteTime": {
     "end_time": "2018-11-09T10:27:20.769735Z",
     "start_time": "2018-11-09T10:27:20.760784Z"
    }
   },
   "outputs": [],
   "source": [
    "np.shape(Dados) # Mostra a forma da matriz usada para armazenar os dados lidos"
   ]
  },
  {
   "cell_type": "code",
   "execution_count": null,
   "metadata": {
    "ExecuteTime": {
     "end_time": "2018-11-09T09:46:37.441432Z",
     "start_time": "2018-11-09T09:46:37.436694Z"
    }
   },
   "outputs": [],
   "source": [
    "Dados[:,0]"
   ]
  },
  {
   "cell_type": "code",
   "execution_count": null,
   "metadata": {
    "ExecuteTime": {
     "end_time": "2018-11-09T09:46:41.262455Z",
     "start_time": "2018-11-09T09:46:41.259001Z"
    }
   },
   "outputs": [],
   "source": [
    "# Forma mais simples\n",
    "x1=Dados[0:n-1,0]\n",
    "y1=Dados[0:n-1,1]\n",
    "y11=Dados[0:n-1,2]"
   ]
  },
  {
   "cell_type": "code",
   "execution_count": null,
   "metadata": {
    "ExecuteTime": {
     "end_time": "2018-11-09T09:46:41.941712Z",
     "start_time": "2018-11-09T09:46:41.938321Z"
    }
   },
   "outputs": [],
   "source": [
    "# Forma mais trabalhosa\n",
    "for i in range(n-1):\n",
    "    x[i] = Dados[i,0]          # cria um vetor de dados x-data\n",
    "    y[i] = Dados[i,1]          # calcula o vetor de dados y-data\n",
    "    y1[i] = Dados[i,2]"
   ]
  },
  {
   "cell_type": "code",
   "execution_count": null,
   "metadata": {
    "ExecuteTime": {
     "end_time": "2018-11-09T09:46:44.537260Z",
     "start_time": "2018-11-09T09:46:44.204472Z"
    }
   },
   "outputs": [],
   "source": [
    "largura = 10  # Largura da figura\n",
    "altura  = 5   # Altura da figura\n",
    "plt.figure(figsize =(largura, altura))     # Define o tamanho do gráfico\n",
    "plt.grid()                       # Habilita a grade \n",
    "plt.xlabel('x')\n",
    "plt.ylabel('y')\n",
    "plt.title('Função transcendental')\n",
    "plt.plot(x1, y1)   # Faz o gráfico\n",
    "plt.plot(x1, y11)\n",
    "plt.show()"
   ]
  },
  {
   "cell_type": "markdown",
   "metadata": {},
   "source": [
    "## Biblioteca da Numpy"
   ]
  },
  {
   "cell_type": "markdown",
   "metadata": {},
   "source": [
    " Antes de iniciar devo advertir que este material é um resumo de uma biblioteca enorme, se você deseja informação detalhada a respeito dela clique aqui ou procure no google sobre numpy documentation. Exemplos do uso desta biblioteca podem ser encontrados em nullege.com\n",
    "\n",
    "A principal diferença com as listas é que as matrizes no numpy são de um tipo só ou seja, nas listas da para misturar string, inteiros, reais, complexos, etc, o que você bem entender; já nos vetores do numpy você só pode usar objetos de um mesmo tipo ou inteiros, ou reais ou complexos (sendo que cada um deles pode ser de diversas precisões, como se mostra na tabela embaixo) \n",
    "\n",
    "O numpy possui uma função para ler desde um arquivo uma tabela de dado, a função `loadtxt()` e seu uso é muito simples, como se mostra no exemplo embaixo (use os dados: Dados1.dat): "
   ]
  },
  {
   "cell_type": "code",
   "execution_count": null,
   "metadata": {
    "ExecuteTime": {
     "end_time": "2018-05-02T20:28:37.672071Z",
     "start_time": "2018-05-02T20:28:37.657516Z"
    }
   },
   "outputs": [],
   "source": [
    "#from numpy import *\n",
    "import numpy as np\n",
    " \n",
    "print ('\\nLendo todos os dados e armazenando em uma matriz')\n",
    "DataIn = np.loadtxt('Dados1.dat')\n",
    "print (DataIn)"
   ]
  },
  {
   "cell_type": "code",
   "execution_count": null,
   "metadata": {
    "ExecuteTime": {
     "end_time": "2018-05-02T20:28:38.669702Z",
     "start_time": "2018-05-02T20:28:38.657710Z"
    }
   },
   "outputs": [],
   "source": [
    "print ('\\nLendo dado a dado da matriz')\n",
    "for line in DataIn:\n",
    "    print (line[0], line[1], line[2])"
   ]
  },
  {
   "cell_type": "code",
   "execution_count": null,
   "metadata": {
    "ExecuteTime": {
     "end_time": "2018-05-02T20:28:45.175023Z",
     "start_time": "2018-05-02T20:28:45.168984Z"
    }
   },
   "outputs": [],
   "source": [
    "print ('\\nUsando unpack')\n",
    "x, y, y1 = np.loadtxt('Dados1.dat', unpack=True)"
   ]
  },
  {
   "cell_type": "code",
   "execution_count": null,
   "metadata": {
    "ExecuteTime": {
     "end_time": "2018-05-02T20:28:46.036634Z",
     "start_time": "2018-05-02T20:28:46.010679Z"
    }
   },
   "outputs": [],
   "source": [
    "for i in range(len(x)):\n",
    "    print (x[i], y[i], y1[i])"
   ]
  },
  {
   "cell_type": "code",
   "execution_count": null,
   "metadata": {
    "ExecuteTime": {
     "end_time": "2018-05-02T20:28:47.061211Z",
     "start_time": "2018-05-02T20:28:47.055309Z"
    }
   },
   "outputs": [],
   "source": [
    "print ('\\nUsando unpack para ler colunas especificas')\n",
    "x, y = np.loadtxt('Dados1.dat', unpack=True, usecols=[0,1])\n",
    " "
   ]
  },
  {
   "cell_type": "code",
   "execution_count": null,
   "metadata": {
    "ExecuteTime": {
     "end_time": "2018-05-02T20:25:40.936405Z",
     "start_time": "2018-05-02T20:25:40.876776Z"
    }
   },
   "outputs": [],
   "source": [
    "for i in range(len(x)): \n",
    "    print (x[i], y[i])"
   ]
  },
  {
   "cell_type": "markdown",
   "metadata": {},
   "source": [
    " Observe que foi colocada a opção `unpack=True` para permitir que a matriz lida fosse separada em vetores que foram armazenados nas variáveis x, y, y1. Além dessa opção existe varias outras como pode se ver no [manual de referencia (em ingles) da função `loadtxt()`](http://www.pbx-brasil.com/Pesquisa/Ferramentas/ProgramandoPython/aula112/linkLocal/Numpy_Example_List_With_Doc.html#loadtxt) mas uma outra opção que devemos prestar atenção é a opção `delimiter=` essa opção espera uma string que diz para a função utilizar aquela string como separador, por exemplo `delimiter=','`, caso não seja definido um delimitador se utiliza o valor padrão que é o espaço em branco. Algumas vezes nossos dados tem algumas linhas de comentário, a função `savetxt()` permite pular os comentarios sem dar erro se colocada a opção `comments='#'`, note que da forma como colocado aqui diz que o símbolo utilizado para comentar é o `'#'`, mas poderia ser outro. Um outro ponto forte desta função é que ela lê de forma transparente dados que estão \"gzipados\".\n",
    "\n",
    "Quando queremos salvar uma matriz no disco o numpy possui a função `savetxt()`. As opções desta função são poucas:\n",
    "\n",
    "> numpy.savetxt(nome, Array, fmt='%.18e', delimiter=' ')\n",
    "\n",
    "onde nome é o nome do arquivo que será criado como os dados e Array é a variável de tipo `numpy.array` que tem os dados. A formatação é do mesmo tipo que vimos anteriormente (clique aqui para ver formatação em detalhe) a qual também podemos utilizar com `loadtxt()`, mas para ter uma ideia rápida a formatação segue a forma:\n",
    "\n",
    "> %[flags][largura][.precisão]código\n",
    "\n",
    "Vejamos um exemplo: "
   ]
  },
  {
   "cell_type": "code",
   "execution_count": null,
   "metadata": {
    "ExecuteTime": {
     "end_time": "2018-05-02T20:29:34.084818Z",
     "start_time": "2018-05-02T20:29:34.065169Z"
    }
   },
   "outputs": [],
   "source": [
    "import numpy as np\n",
    " \n",
    "a = np.array([[1.0, 1.0, 0.05], [2.0, 4.0, 0.025], [3.0, 9.0, 0.32], [4.0, 16, 0.03], [5.0, 25, 0.1]])\n",
    " \n",
    "print(a)\n",
    " \n",
    "np.savetxt('Dados3.dat', a)"
   ]
  },
  {
   "cell_type": "code",
   "execution_count": null,
   "metadata": {
    "ExecuteTime": {
     "end_time": "2018-05-02T20:29:38.495012Z",
     "start_time": "2018-05-02T20:29:38.383490Z"
    }
   },
   "outputs": [],
   "source": [
    "!cat Dados3.dat"
   ]
  },
  {
   "cell_type": "markdown",
   "metadata": {
    "collapsed": true
   },
   "source": [
    "Observe que como não foi dada uma formatação ele imprime cada coluna com toda a precisão que possui por padrão. Se tivéssemos colocado como nome 'dados.dat.gz' a função savetxt() automaticamente gziparia os dados. A função `savetext()` permite que se defina o formato de saída com a opção `fmt` e o separador de campo. Para maires detalhes do uso da [função `savetext()` leia o manual](https://docs.scipy.org/doc/numpy/reference/generated/numpy.savetxt.html). Vejamos alguns exemplos, mas inicialmente vamos gerar uma matriz pequena para ilustrar esse ponto:"
   ]
  },
  {
   "cell_type": "code",
   "execution_count": null,
   "metadata": {
    "ExecuteTime": {
     "end_time": "2018-05-02T20:31:23.763818Z",
     "start_time": "2018-05-02T20:31:23.754245Z"
    }
   },
   "outputs": [],
   "source": [
    "import numpy as np\n",
    "Mat = np.array([[11,12,13,14,15],\n",
    "                [21,22,23,24,25],\n",
    "                [31,32,33,34,35]])"
   ]
  },
  {
   "cell_type": "code",
   "execution_count": null,
   "metadata": {
    "ExecuteTime": {
     "end_time": "2018-05-02T20:32:31.911591Z",
     "start_time": "2018-05-02T20:32:31.893012Z"
    }
   },
   "outputs": [],
   "source": [
    "# Considere o primeiro caso com o separador de campo o tab\n",
    "np.savetxt('Lixo.txt', Mat, fmt='%1.3f', delimiter='\\t', newline='\\n', \n",
    "           header='# Este é um arquivo de teste', footer='', comments='# ')"
   ]
  },
  {
   "cell_type": "code",
   "execution_count": null,
   "metadata": {
    "ExecuteTime": {
     "end_time": "2018-05-02T20:32:35.374625Z",
     "start_time": "2018-05-02T20:32:35.264165Z"
    }
   },
   "outputs": [],
   "source": [
    "!cat Lixo.txt"
   ]
  },
  {
   "cell_type": "code",
   "execution_count": null,
   "metadata": {
    "ExecuteTime": {
     "end_time": "2018-05-02T20:35:20.812767Z",
     "start_time": "2018-05-02T20:35:20.803435Z"
    }
   },
   "outputs": [],
   "source": [
    "# considere o segundo caso com 4 digitos inteiros e 2TABs como separador\n",
    "np.savetxt('Lixo.txt', Mat, fmt='%04d', delimiter='\\t\\t', newline='\\n', header='', footer='', comments='# ')"
   ]
  },
  {
   "cell_type": "code",
   "execution_count": null,
   "metadata": {
    "ExecuteTime": {
     "end_time": "2018-05-02T20:35:24.063742Z",
     "start_time": "2018-05-02T20:35:23.948376Z"
    },
    "scrolled": true
   },
   "outputs": [],
   "source": [
    "!cat Lixo.txt"
   ]
  },
  {
   "cell_type": "markdown",
   "metadata": {},
   "source": [
    "Você também pode usar para escrever expressões, como (observe que o número de entradas na expressão é o mesmo que o número de colunas na matriz:"
   ]
  },
  {
   "cell_type": "code",
   "execution_count": null,
   "metadata": {
    "ExecuteTime": {
     "end_time": "2018-05-02T20:35:44.510112Z",
     "start_time": "2018-05-02T20:35:44.501885Z"
    }
   },
   "outputs": [],
   "source": [
    "# Considere um terceiro caso no escreve-se uma expressão:\n",
    "np.savetxt('Lixo.txt', Mat, fmt='( %1.1f + %1.1f ) / (%1.1f * %1.1f) + %1.1f',  delimiter='\\t')"
   ]
  },
  {
   "cell_type": "code",
   "execution_count": null,
   "metadata": {
    "ExecuteTime": {
     "end_time": "2018-05-02T20:35:48.649245Z",
     "start_time": "2018-05-02T20:35:48.537823Z"
    }
   },
   "outputs": [],
   "source": [
    "!cat Lixo.txt"
   ]
  },
  {
   "cell_type": "markdown",
   "metadata": {},
   "source": [
    "## Trabalhando com um conjunto de dados"
   ]
  },
  {
   "cell_type": "markdown",
   "metadata": {},
   "source": [
    "Às vezes os dados obtidos de um experimento são armazenados em arquivos diferentes, no qual cada arquivo contém os dados para os diferentes assuntos, ensaios, condições, etc. Este texto apresenta uma solução comum e simples para escrever um código para analisar esses dados. A idéia básica é que o nome do arquivo seja criado de forma estruturada e que se possa usar isso para executar uma sequência de procedimentos dentro de um ou mais loops aninhados.\n",
    "\n",
    "Por exemplo, considere que as duas primeiras letras do nome do arquivo codificam as iniciais do nome do assunto, as duas letras seguintes as condições diferentes e os dois últimos caracteres o número do ensaio."
   ]
  },
  {
   "cell_type": "code",
   "execution_count": null,
   "metadata": {},
   "outputs": [],
   "source": [
    "assuntos  = ['Temperatura', 'Tempo']\n",
    "condicoes = ['Cond1', 'Cond2']\n",
    "ensaios   = ['Amostra_01', 'Amostra_02', 'Amostra_03']"
   ]
  },
  {
   "cell_type": "markdown",
   "metadata": {},
   "source": [
    "Poderíamos abrir e processar esses arquivos com:"
   ]
  },
  {
   "cell_type": "code",
   "execution_count": null,
   "metadata": {},
   "outputs": [],
   "source": [
    "for assunto in assuntos:\n",
    "    for condicao in condicoes:\n",
    "        for ensaio in ensaios:\n",
    "            arquivo = assunto + \"_\" + condicao + \"_\" + ensaio\n",
    "            print(arquivo)\n",
    "            # Lê o arquivo, processa os dados e salva os resultados"
   ]
  },
  {
   "cell_type": "markdown",
   "metadata": {},
   "source": [
    "O problema com esse código é que se um mais arquivos estão faltando ou corrompido (o que é típico), ele irá quebrar. Uma solução é ler o arquivo dentro de uma função `try`. O `try ... except` manipula exceções, como uma falha na leitura de um arquivo e, em seguida, podemos usar uma instrução `continue` para ignorar cada iteração que falhou no loop interno.\n",
    "\n",
    "Vamos criar alguns arquivos e implementar essa idéia.\n"
   ]
  },
  {
   "cell_type": "markdown",
   "metadata": {},
   "source": [
    "## Lendo e salvando arquivos"
   ]
  },
  {
   "cell_type": "markdown",
   "metadata": {},
   "source": [
    "e os dados estiverem em formato de texto ([ASCII](http://en.wikipedia.org/wiki/ASCII)), é mais fácil ler o arquivo com o [`numpy`](http://www.numpy.org/) via a função [`loadtxt`](http://docs.scipy.org/doc/numpy/reference/generated/numpy.loadtxt.html) ou com o [`pandas`](http://pandas.pydata.org/) via a função [`read_csv`](http://pandas.pydata.org/pandas-docs/stable/generated/pandas.io.parsers.read_csv.html). Ambas as funções se comportam de forma semelhante; Elas podem pular um certo número de primeiras linhas, ler arquivos com diferentes separadores de colunas, ler números e letras, etc. O `read_csv` tende a ser mais rápido, mas retorna um `pandas` [`DataFrame`](http://pandas.pydata.org/pandas-docs/dev/generated/pandas.DataFrame.html), que pode não ser útil se você não estiver usando o `pandas` (mas você deve estar).\n",
    "\n",
    "Para salvar dados em um arquivo, podemos usar as funções de contrapartida `savetxt` e `to_csv`:\n"
   ]
  },
  {
   "cell_type": "code",
   "execution_count": null,
   "metadata": {},
   "outputs": [],
   "source": [
    "!mkdir data"
   ]
  },
  {
   "cell_type": "code",
   "execution_count": null,
   "metadata": {},
   "outputs": [],
   "source": [
    "import numpy as np\n",
    "\n",
    "path = './data/'\n",
    "extensao = '.dat'\n",
    "\n",
    "for assunto in assuntos:\n",
    "    for condicao in condicoes:\n",
    "        for ensaio in ensaios:\n",
    "            arquivo = path + assunto + \"_\" + condicao + \"_\" + ensaio + extensao\n",
    "            dados = np.random.randn(5, 3)\n",
    "            cabecalho = 'Col A\\t\\tCol B\\t\\tCol C'\n",
    "            np.savetxt(arquivo, dados, fmt='%g',\n",
    "                       delimiter='\\t', header = cabecalho, comments = '')\n",
    "            print('Arquivo: ', arquivo, 'salvo')"
   ]
  },
  {
   "cell_type": "markdown",
   "metadata": {},
   "source": [
    "Camos listar o conteúdo do arquivo"
   ]
  },
  {
   "cell_type": "code",
   "execution_count": null,
   "metadata": {},
   "outputs": [],
   "source": [
    "!cat ./data/Temperatura_Cond1_Amostra_02.dat"
   ]
  },
  {
   "cell_type": "markdown",
   "metadata": {},
   "source": [
    "Para exemplificar usei o comando './../' para mover para cima um diretório relativamente ao meu diretório corrente (veja o <a href=\"http://en.wikipedia.org/wiki/Cd_(command)\"> cd (comando)</a>).\n",
    "\n",
    "Vamos remover um dos arquivos:\n"
   ]
  },
  {
   "cell_type": "code",
   "execution_count": null,
   "metadata": {},
   "outputs": [],
   "source": [
    "import os\n",
    "os.remove('./data/Temperatura_Cond1_Amostra_02.dat')"
   ]
  },
  {
   "cell_type": "markdown",
   "metadata": {},
   "source": [
    "Agora vamos ler os dados nesses arquivos e lidar com um possível arquivo ausente ou corrompido:"
   ]
  },
  {
   "cell_type": "code",
   "execution_count": null,
   "metadata": {},
   "outputs": [],
   "source": [
    "for assunto in assuntos:\n",
    "    for condicao in condicoes:\n",
    "        for ensaio in ensaios:\n",
    "            arquivo = path + assunto + \"_\" + condicao + \"_\" + ensaio + extensao            \n",
    "            try:\n",
    "                dados = np.loadtxt(arquivo, skiprows=1)\n",
    "            except Exception as err:\n",
    "                print(arquivo, err)          \n",
    "                continue\n",
    "            else:\n",
    "                print(arquivo, 'lido e carregado')\n",
    "            \n",
    "            # processa os dados\n",
    "            # ...\n",
    "            # salva os resultados"
   ]
  },
  {
   "cell_type": "code",
   "execution_count": null,
   "metadata": {},
   "outputs": [],
   "source": [
    "type(dados)"
   ]
  },
  {
   "cell_type": "code",
   "execution_count": null,
   "metadata": {},
   "outputs": [],
   "source": [
    "dados"
   ]
  },
  {
   "cell_type": "code",
   "execution_count": null,
   "metadata": {},
   "outputs": [],
   "source": [
    "dados[:,1]"
   ]
  },
  {
   "cell_type": "code",
   "execution_count": null,
   "metadata": {},
   "outputs": [],
   "source": [
    "dados[0,0]"
   ]
  },
  {
   "cell_type": "code",
   "execution_count": null,
   "metadata": {},
   "outputs": [],
   "source": [
    "dados[4,0]"
   ]
  },
  {
   "cell_type": "code",
   "execution_count": null,
   "metadata": {},
   "outputs": [],
   "source": [
    "# Fazendo o gráfico da função\n",
    "import numpy as np                  # obtém acesso aos rápidos arrays da numpy \n",
    "import matplotlib.pyplot as plt     # Para fazer os gráficos das funções\n",
    "%matplotlib inline\n",
    "\n",
    "n=5\n",
    "x=np.zeros(n)\n",
    "y=np.zeros(n)\n",
    "y1=np.zeros(n)\n",
    "\n",
    "for i in range(n):\n",
    "    x[i] = dados[i][0]          # cria um vetor de dados x-data\n",
    "    y[i] = dados[i][1]                          # calcula o vetor de dados y-data\n",
    "    y1[i] = dados[i][2]\n",
    "\n",
    "\n",
    "largura = 10  # Largura da figura\n",
    "altura  = 5   # Altura da figura\n",
    "plt.figure(figsize =(largura, altura))     # Define o tamanho do gráfico\n",
    "plt.grid()                       # Habilita a grade \n",
    "plt.xlabel('x')\n",
    "plt.ylabel('y')\n",
    "plt.title('Função transcendental')\n",
    "plt.plot(x, y, 'bo')   # Faz o gráfico\n",
    "plt.plot(x, y1, 'bo')     # Faz o gráfico\n",
    "#plt.plot(x, y2, label=\"6x\")         # Faz o gráfico\n",
    "#plt.legend(loc=\"upper left\")        # Habilita as legendas\n",
    "plt.show()"
   ]
  },
  {
   "cell_type": "markdown",
   "metadata": {},
   "source": [
    "## Armazenando os resultados"
   ]
  },
  {
   "cell_type": "markdown",
   "metadata": {},
   "source": [
    "Os resultados da análise para cada arquivo podem ser armazenados em uma variável de maneiras diferentes.\n",
    "Podemos armazenar os resultados em uma variável multidimensional onde cada dimensão corresponde aos diferentes índices nos loops. Com os dados acima, isso produziria `results (s, c, t)`, um array $2\\times 2\\times 3$. Ou podemos armazenar tudo em um array bidimensional onde, por exemplo, cada linha corresponde a cada combinação de assunto, condição e julgamento.\n",
    "\n",
    "Vamos tentar ambas as maneiras:"
   ]
  },
  {
   "cell_type": "code",
   "execution_count": null,
   "metadata": {},
   "outputs": [],
   "source": [
    "resultados = np.empty(shape=(2, 2, 3, 3))*np.NaN\n",
    "for s, assunto in enumerate(assuntos):\n",
    "    for c, condicao in enumerate(condicoes):\n",
    "        for t, ensaio in enumerate(ensaios):\n",
    "            arquivo = path + assunto + \"_\" + condicao + \"_\" + ensaio + extensao \n",
    "            try:\n",
    "                dados = np.loadtxt(arquivo, skiprows=1)\n",
    "            except Exception as err:\n",
    "                #print(arquivo, err)          \n",
    "                continue\n",
    "            else:\n",
    "                #print(arquivo, 'lido e carregado')\n",
    "                pass\n",
    "            \n",
    "            resultados[s, c, t, :] = np.mean(dados, axis=0)\n",
    "            \n",
    "print(resultados.shape)\n",
    "print(resultados)"
   ]
  },
  {
   "cell_type": "markdown",
   "metadata": {},
   "source": [
    "Um problema com esta abordagem é que, para muitas dimensões, os dados ficam enrolados e pode ser difícil de lê-lo.\n",
    "\n",
    "Os resultados para o primeiro sujeito, condição e julgamento são:"
   ]
  },
  {
   "cell_type": "code",
   "execution_count": null,
   "metadata": {},
   "outputs": [],
   "source": [
    "resultados[0, 0, 0, :]"
   ]
  },
  {
   "cell_type": "markdown",
   "metadata": {},
   "source": [
    "Podemos usar a segunda abordagem e armazenar os resultados em uma matriz bidimensional:"
   ]
  },
  {
   "cell_type": "code",
   "execution_count": null,
   "metadata": {},
   "outputs": [],
   "source": [
    "resultados = np.empty(shape=(2*2*3, 3))*np.NaN\n",
    "resultados2 = np.empty(shape=(2*2*3, 3))*np.NaN\n",
    "ind = 0\n",
    "for s, assunto in enumerate(assuntos):\n",
    "    for c, condicao in enumerate(condicoes):\n",
    "        for t, ensaio in enumerate(ensaios):\n",
    "            ind += 1\n",
    "            arquivo = path + assunto + \"_\" + condicao + \"_\" + ensaio + extensao \n",
    "            try:\n",
    "                dados = np.loadtxt(arquivo, skiprows=1)\n",
    "            except Exception as err:\n",
    "                #print(arquivo, err)          \n",
    "                continue\n",
    "            else:\n",
    "                #print(arquivo, 'lido e carregado')\n",
    "                pass\n",
    "            \n",
    "            # Primeiro modo de usar um índice:\n",
    "            resultados[ind-1, :] = np.mean(dados, axis=0)\n",
    "            # Segundo modo de usar um índice: \n",
    "            resultados2[len(condicoes)*len(ensaios)*s + len(ensaios)*c + t, :] = np.mean(dados, axis=0)\n",
    "            \n",
    "print(resultados.shape)\n",
    "print(resultados)\n",
    "print(resultados2.shape)\n",
    "print(resultados2)"
   ]
  },
  {
   "cell_type": "markdown",
   "metadata": {},
   "source": [
    "Podemos criar colunas que identifiquem o assunto, condição e julgamento, o que pode ser útil para a execução de análises estatísticas:"
   ]
  },
  {
   "cell_type": "code",
   "execution_count": null,
   "metadata": {},
   "outputs": [],
   "source": [
    "resultados = np.empty(shape=(2*2*3, 3))*np.NaN\n",
    "ind = 0\n",
    "indexes = []\n",
    "for s, assunto in enumerate(assuntos):\n",
    "    for c, condicao in enumerate(condicoes):\n",
    "        for t, ensaio in enumerate(ensaios):\n",
    "            ind += 1\n",
    "            indexes.append([s, c, t])\n",
    "            arquivo = path + assunto + \"_\" + condicao + \"_\" + ensaio + extensao \n",
    "            try:\n",
    "                dados = np.loadtxt(arquivo, skiprows=1)\n",
    "            except Exception as err:\n",
    "                #print(arquivo, err)          \n",
    "                continue\n",
    "            else:\n",
    "                #print(arquivo, 'lido e carregado')\n",
    "                pass\n",
    "            \n",
    "            resultados[ind-1, :] = np.mean(dados, axis=0)\n",
    "  \n",
    "resultados = np.hstack((np.array(indexes), resultados))\n",
    "print(resultados.shape)\n",
    "print(resultados)"
   ]
  },
  {
   "cell_type": "markdown",
   "metadata": {},
   "source": [
    "Estas são apenas algumas abordagens genéricas possíveis para analisar dados em vários arquivos.\n",
    "\n",
    "E podemos salvar os resultados em um arquivo:"
   ]
  },
  {
   "cell_type": "code",
   "execution_count": null,
   "metadata": {},
   "outputs": [],
   "source": [
    "arquivo = path + 'resultados.dat'\n",
    "header = 'Assunto\\tCondicao\\tTentativa\\tCol A\\tCol B\\tCol C'\n",
    "np.savetxt(arquivo, resultados, fmt='%d\\t%d\\t%d\\t%g\\t%g\\t%g',\n",
    "           delimiter='\\t', header = cabecalho, comments = '')\n",
    "print('Arquivo', arquivo, 'salvo')"
   ]
  },
  {
   "cell_type": "code",
   "execution_count": null,
   "metadata": {},
   "outputs": [],
   "source": [
    "!cat ./data/resultados.dat"
   ]
  },
  {
   "cell_type": "code",
   "execution_count": null,
   "metadata": {},
   "outputs": [],
   "source": []
  }
 ],
 "metadata": {
  "kernelspec": {
   "display_name": "Python 3",
   "language": "python",
   "name": "python3"
  },
  "language_info": {
   "codemirror_mode": {
    "name": "ipython",
    "version": 3
   },
   "file_extension": ".py",
   "mimetype": "text/x-python",
   "name": "python",
   "nbconvert_exporter": "python",
   "pygments_lexer": "ipython3",
   "version": "3.6.8"
  },
  "latex_envs": {
   "LaTeX_envs_menu_present": true,
   "autoclose": false,
   "autocomplete": true,
   "bibliofile": "biblio.bib",
   "cite_by": "apalike",
   "current_citInitial": 1,
   "eqLabelWithNumbers": true,
   "eqNumInitial": 1,
   "hotkeys": {
    "equation": "Ctrl-E",
    "itemize": "Ctrl-I"
   },
   "labels_anchors": false,
   "latex_user_defs": false,
   "report_style_numbering": false,
   "user_envs_cfg": false
  },
  "nbTranslate": {
   "displayLangs": [
    "pt",
    "en"
   ],
   "hotkey": "alt-t",
   "langInMainMenu": true,
   "sourceLang": "en",
   "targetLang": "pt",
   "useGoogleTranslate": true
  },
  "toc": {
   "base_numbering": 1,
   "nav_menu": {},
   "number_sections": true,
   "sideBar": true,
   "skip_h1_title": false,
   "title_cell": "Table of Contents",
   "title_sidebar": "Contents",
   "toc_cell": false,
   "toc_position": {},
   "toc_section_display": "block",
   "toc_window_display": false
  },
  "varInspector": {
   "cols": {
    "lenName": 16,
    "lenType": 16,
    "lenVar": 40
   },
   "kernels_config": {
    "python": {
     "delete_cmd_postfix": "",
     "delete_cmd_prefix": "del ",
     "library": "var_list.py",
     "varRefreshCmd": "print(var_dic_list())"
    },
    "r": {
     "delete_cmd_postfix": ") ",
     "delete_cmd_prefix": "rm(",
     "library": "var_list.r",
     "varRefreshCmd": "cat(var_dic_list()) "
    }
   },
   "types_to_exclude": [
    "module",
    "function",
    "builtin_function_or_method",
    "instance",
    "_Feature"
   ],
   "window_display": false
  }
 },
 "nbformat": 4,
 "nbformat_minor": 1
}
