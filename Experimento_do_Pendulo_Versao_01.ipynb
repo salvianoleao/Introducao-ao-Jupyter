{
 "cells": [
  {
   "cell_type": "markdown",
   "metadata": {},
   "source": [
    "# Experimentos: Medida do período de um pêndulo simples"
   ]
  },
  {
   "cell_type": "markdown",
   "metadata": {},
   "source": [
    "## Medição do período na aproximação de pequenos ângulos.\n",
    "\n",
    "\n",
    "A medida deve ser feita para 4 comprimento diferentes. Note que o erro da media do comprimento $U_l$ é dado por:\n",
    "\n",
    "$$\n",
    "u_l=\\frac{\\Delta r}{\\sqrt{3}} \n",
    "$$\n",
    "\n",
    "mas como $\\Delta r = 1,0$ mm, temos então que $u_l=0,58$ mm.\n",
    "\n",
    "\n",
    "| Comprimento | Tamanho (mm) | Erro $u_l$  (mm) |\n",
    "| :---------- | ------------ | ---------------- |\n",
    "| $L_1$       | 700,00       | 0,58             |\n",
    "| $L_2$       | 750,00       | 0,58             |\n",
    "| $L_3$       | 800,00       | 0,58             |\n",
    "| $L_4$       | 850,00       | 0,58             |\n",
    "\n",
    "Para cada comprimento devemos medir 15 vezes o valor do período. Considerando $g=9.78$ m/s$^2$\n",
    "\n",
    " \n",
    "\n",
    "| Medida ($L_1 = 700,00$ mm) | Período |\n",
    "| -------------------------- | ------- |\n",
    "| 1                          | 1.4063  |\n",
    "| 2                          | 1.4063  |\n",
    "| ...                        | ...     |\n",
    "| 14                         | 1.4063  |\n",
    "| 15                         | 1.4063  |\n",
    "| Média                      | 1.4063  |\n",
    "| Desvio padrão              | 0       |\n",
    "\n",
    "\n",
    "\n",
    "| Medida ($L_2 = 750,00$ mm) | Período |\n",
    "| -------------------------- | ------- |\n",
    "| 1                          | 1.5069  |\n",
    "| 2                          | 1.5069  |\n",
    "| ...                        | ...     |\n",
    "| 14                         | 1.5069  |\n",
    "| 15                         | 1.5069  |\n",
    "| Média                      | 1.5069  |\n",
    "| Desvio padrão              | 0       |\n",
    "\n",
    "\n",
    "\n",
    "| Medida ($L_3 = 800,00$ mm) | Período |\n",
    "| -------------------------- | ------- |\n",
    "| 1                          | 1.6073  |\n",
    "| 2                          | 1.6073  |\n",
    "| ...                        | ...     |\n",
    "| 14                         | 1.6073  |\n",
    "| 15                         | 1.6073  |\n",
    "| Média                      | 1.6073  |\n",
    "| Desvio padrão              | 0       |\n",
    "\n",
    "\n",
    "\n",
    "| Medida ($L_4 = 850,00$ mm) | Período |\n",
    "| -------------------------- | ------- |\n",
    "| 1                          | 1.7078  |\n",
    "| 2                          | 1.7078  |\n",
    "| ...                        | ...     |\n",
    "| 14                         | 1.7078  |\n",
    "| 15                         | 1.7078  |\n",
    "| Média                      | 1.7078  |\n",
    "| Desvio padrão              | 0       |\n",
    "\n",
    "\n",
    "Solte o pêndulo de um ângulo menor ou igual a $10^{\\circ}$, conforme ilustrado pela figura ao lado. Meça três vezes o período de uma oscilação completa com o cronômetro.\n",
    "\n",
    "- **Período do pêndulo para  $L_1$ :** 1.4063 s\n",
    "- **Período do pêndulo para  $L_2$ :** 1.5069 s\n",
    "- **Período do pêndulo para  $L_3$ :** 1.6073 s\n",
    "- **Período do pêndulo para  $L_4$ :** 1.7078 s\n",
    "\n",
    "\n",
    "$$\n",
    "\\boxed{ T^2 =\\frac{4\\pi^2}{g} \\ell} \\qquad\\qquad \\text{ou} \\qquad\\qquad \\boxed{ T = \\sqrt{\\frac{4\\pi^2}{g} \\ell} }\n",
    "$$\n",
    "\n",
    "\n",
    "\n",
    "| $N$  | $L$ (mm)  | $T$ (s) | $T^2$ (s$^2$) | $L\\cdot T^2$ (m$\\cdot$s$^2$) | $L^2$ (m$^2$) |\n",
    "| ---- | :-------- | :------ | :------------ | :--------------------------- | :------------ |\n",
    "| 1    | 700,00    | 1.4063  | 1.9777        | 1.3844                       | 0.4900        |\n",
    "| 2    | 750,00    | 1.5069  | 2.2707        | 1.7030                       | 0.5625        |\n",
    "| 3    | 800,00    | 1.6073  | 2.5834        | 2.0667                       | 0.6400        |\n",
    "| 4    | 850,00    | 1.7078  | 2.9166        | 2.4791                       | 0.7225        |\n",
    "| $\\sum$ | 3100,00 | 6.2283  | 9.7484        | 7.6332                       | 2.4150        |\n"
   ]
  },
  {
   "cell_type": "markdown",
   "metadata": {},
   "source": [
    "# Gerando os resultado experimentais "
   ]
  },
  {
   "cell_type": "markdown",
   "metadata": {},
   "source": [
    "Será necessário instalar a biblioteca \n",
    "\n",
    "```bash\n",
    "sudo -H pip3 install scikit-learn\n",
    "```\n",
    " \n",
    "Para os usuários do Anaconda\n",
    "\n",
    "\n",
    "```bash\n",
    "conda install scikit-learn\n",
    "```\n",
    " \n",
    "Para os usuários do Anaconda\n",
    "\n",
    "\n",
    "\n",
    "Para maiores detalhes sobre a biblioteca pandas veja:\n",
    "\n",
    "- [Pandas](https://pandas.pydata.org/pandas-docs/stable/ecosystem.html)\n",
    "\n",
    "- [scikit-learn](https://scikit-learn.org/stable/documentation.html)\n",
    "\n",
    "- [Estatística Descritiva com Python](http://felipegalvao.com.br/blog/2016/03/31/estatistica-descritiva-com-python/)\n"
   ]
  },
  {
   "cell_type": "code",
   "execution_count": 1,
   "metadata": {
    "ExecuteTime": {
     "end_time": "2019-08-14T14:11:34.126602Z",
     "start_time": "2019-08-14T14:11:32.747230Z"
    }
   },
   "outputs": [],
   "source": [
    "# Importando as biblioteca a serem usada\n",
    "import numpy as np                  # obtém acesso aos rápidos arrays da numpy \n",
    "import matplotlib.pyplot as plt     # Para fazer os gráficos das funções\n",
    "import pandas as pd                 # Para ler e fazer as tabelas de dados\n",
    "# permite que se mostre os gráficos nesse ambiente\n",
    "%matplotlib inline "
   ]
  },
  {
   "cell_type": "code",
   "execution_count": 2,
   "metadata": {
    "ExecuteTime": {
     "end_time": "2019-08-14T14:11:37.680825Z",
     "start_time": "2019-08-14T14:11:37.677543Z"
    }
   },
   "outputs": [],
   "source": [
    "a = np.random.rand()"
   ]
  },
  {
   "cell_type": "code",
   "execution_count": 3,
   "metadata": {
    "ExecuteTime": {
     "end_time": "2019-08-14T14:14:19.673123Z",
     "start_time": "2019-08-14T14:14:19.666103Z"
    }
   },
   "outputs": [],
   "source": [
    "g=9.782\n",
    "def periodo_rnd(l, taxa):\n",
    "    aux = l*((4.0*np.pi*np.pi)/g)\n",
    "    if np.random.rand() >= 0.50 :\n",
    "        t = aux + taxa*aux*np.random.rand()\n",
    "    else:\n",
    "        t = aux - taxa*aux*np.random.rand()\n",
    "    return np.sqrt(t)    "
   ]
  },
  {
   "cell_type": "code",
   "execution_count": 4,
   "metadata": {
    "ExecuteTime": {
     "end_time": "2019-08-14T14:14:22.419723Z",
     "start_time": "2019-08-14T14:14:22.414185Z"
    }
   },
   "outputs": [
    {
     "name": "stdout",
     "output_type": "stream",
     "text": [
      "1.6682229520973213\n",
      "1.675321566474829\n",
      "1.6554746842824242\n",
      "1.6880773146100094\n",
      "1.6877889896336868\n",
      "1.6708451565784959\n",
      "1.6714080870333894\n",
      "1.6624473109084623\n",
      "1.65269545830701\n",
      "1.6504427065349607\n"
     ]
    }
   ],
   "source": [
    "# Aqui vemos que há um resultado diferente toda vez que a função é chamada\n",
    "tx =0.05\n",
    "for x in range(0,10):\n",
    "    print(periodo_rnd(0.7, tx))"
   ]
  },
  {
   "cell_type": "code",
   "execution_count": 5,
   "metadata": {
    "ExecuteTime": {
     "end_time": "2019-08-14T14:14:50.018639Z",
     "start_time": "2019-08-14T14:14:50.009363Z"
    }
   },
   "outputs": [
    {
     "data": {
      "text/plain": [
       "1.680796206157556"
      ]
     },
     "execution_count": 5,
     "metadata": {},
     "output_type": "execute_result"
    }
   ],
   "source": [
    "periodo_rnd(0.7,0.0)"
   ]
  },
  {
   "cell_type": "markdown",
   "metadata": {},
   "source": [
    "Vamoas construir o primeiro conjunto de dados"
   ]
  },
  {
   "cell_type": "code",
   "execution_count": 7,
   "metadata": {
    "ExecuteTime": {
     "end_time": "2019-08-13T10:31:10.285592Z",
     "start_time": "2019-08-13T10:31:10.266744Z"
    }
   },
   "outputs": [],
   "source": [
    "# Tabela 1\n",
    "n=15   # Número de medidas\n",
    "L=0.7\n",
    "tx=0.05\n",
    "Nome = str('Tabela_L_')+str(int(L*1000))+'.dat'\n",
    "f = open(Nome , 'w')\n",
    "for i in range(1,n+1):\n",
    "    linha = str(i)+\"\\t\"+str(periodo_rnd(L,tx)) +\"\\n\"\n",
    "    f.write( linha )\n",
    "f.close()"
   ]
  },
  {
   "cell_type": "code",
   "execution_count": 8,
   "metadata": {
    "ExecuteTime": {
     "end_time": "2019-08-13T10:31:11.215050Z",
     "start_time": "2019-08-13T10:31:11.103868Z"
    }
   },
   "outputs": [
    {
     "name": "stdout",
     "output_type": "stream",
     "text": [
      "1\t1.7089907640178532\r\n",
      "2\t1.6667826804225723\r\n",
      "3\t1.7127334061445338\r\n",
      "4\t1.6983418236062797\r\n",
      "5\t1.6433628160641969\r\n",
      "6\t1.651223470926718\r\n",
      "7\t1.651092669017822\r\n",
      "8\t1.6608384578522228\r\n",
      "9\t1.6798004507969468\r\n",
      "10\t1.6592166989743424\r\n",
      "11\t1.705442802171351\r\n",
      "12\t1.7086315031468209\r\n",
      "13\t1.6532395060484568\r\n",
      "14\t1.653871319939166\r\n",
      "15\t1.7066166839902217\r\n"
     ]
    }
   ],
   "source": [
    "! cat Tabela_L_700.dat"
   ]
  },
  {
   "cell_type": "code",
   "execution_count": 9,
   "metadata": {
    "ExecuteTime": {
     "end_time": "2019-08-13T10:31:11.740507Z",
     "start_time": "2019-08-13T10:31:11.733333Z"
    }
   },
   "outputs": [],
   "source": [
    "# Gera tabela dat/csv sem cabeçalho\n",
    "def gera_tab(n,L,tx):\n",
    "    Nome = str('Tabela_L_')+str(int(L*1000))+'.csv'\n",
    "    f = open(Nome , 'w')\n",
    "    for i in range(1,n+1):\n",
    "        linha = str(i)+\"\\t\"+str(periodo_rnd(L,tx)) +\"\\n\"\n",
    "        f.write( linha )\n",
    "    f.close()"
   ]
  },
  {
   "cell_type": "code",
   "execution_count": 10,
   "metadata": {
    "ExecuteTime": {
     "end_time": "2019-08-13T10:31:13.385330Z",
     "start_time": "2019-08-13T10:31:13.336041Z"
    }
   },
   "outputs": [],
   "source": [
    "# Tabela 2\n",
    "gera_tab(15,0.75,0.05)"
   ]
  },
  {
   "cell_type": "code",
   "execution_count": 11,
   "metadata": {
    "ExecuteTime": {
     "end_time": "2019-08-13T10:31:14.153232Z",
     "start_time": "2019-08-13T10:31:14.043063Z"
    }
   },
   "outputs": [
    {
     "name": "stdout",
     "output_type": "stream",
     "text": [
      "1\t1.777749305602855\r\n",
      "2\t1.7539763334470866\r\n",
      "3\t1.733843758895281\r\n",
      "4\t1.771855506097772\r\n",
      "5\t1.7000648616399192\r\n",
      "6\t1.7485912183245513\r\n",
      "7\t1.7475805246195772\r\n",
      "8\t1.767307637717951\r\n",
      "9\t1.7531248751853012\r\n",
      "10\t1.765716408896421\r\n",
      "11\t1.7141626212869743\r\n",
      "12\t1.7592121850593903\r\n",
      "13\t1.7778830121275275\r\n",
      "14\t1.777495445673304\r\n",
      "15\t1.745325227669681\r\n"
     ]
    }
   ],
   "source": [
    "! cat Tabela_L_750.csv"
   ]
  },
  {
   "cell_type": "code",
   "execution_count": 12,
   "metadata": {
    "ExecuteTime": {
     "end_time": "2019-08-13T10:31:16.697699Z",
     "start_time": "2019-08-13T10:31:16.579514Z"
    }
   },
   "outputs": [],
   "source": [
    "# Gerando Tabela 3\n",
    "gera_tab(15,0.80,0.05)\n",
    "# Gerando tabela 4\n",
    "gera_tab(15,0.85,0.05)"
   ]
  },
  {
   "cell_type": "code",
   "execution_count": 13,
   "metadata": {
    "ExecuteTime": {
     "end_time": "2019-08-13T10:31:17.384631Z",
     "start_time": "2019-08-13T10:31:17.273421Z"
    }
   },
   "outputs": [
    {
     "name": "stdout",
     "output_type": "stream",
     "text": [
      "1\t1.8307680355585083\r\n",
      "2\t1.767386326317396\r\n",
      "3\t1.7635109090094534\r\n",
      "4\t1.8342301801340595\r\n",
      "5\t1.8385360600430847\r\n",
      "6\t1.8275086005280856\r\n",
      "7\t1.7596919703051874\r\n",
      "8\t1.7873624238741401\r\n",
      "9\t1.8114304798966523\r\n",
      "10\t1.783354385084038\r\n",
      "11\t1.8198238553431643\r\n",
      "12\t1.8311169873760622\r\n",
      "13\t1.7719188635226373\r\n",
      "14\t1.794725012954397\r\n",
      "15\t1.7684962877857007\r\n"
     ]
    }
   ],
   "source": [
    "! cat Tabela_L_800.csv"
   ]
  },
  {
   "cell_type": "code",
   "execution_count": 10,
   "metadata": {
    "ExecuteTime": {
     "end_time": "2019-08-14T14:17:43.319353Z",
     "start_time": "2019-08-14T14:17:43.311854Z"
    }
   },
   "outputs": [],
   "source": [
    "# Tabela csv: acrescenta o cabeçalho\n",
    "def gera_tabcsv(n,L,tx):\n",
    "    Nome = str('Tabela_L_')+str(int(L*1000))+'.csv'\n",
    "    f = open(Nome , 'w')\n",
    "    linha='Medida ' + \"\\t\" + \"Período\\n\"\n",
    "    f.write( linha )\n",
    "    for i in range(1,n+1):\n",
    "        linha = str(i)+\"\\t\"+str(periodo_rnd(L,tx)) +\"\\n\"\n",
    "        f.write( linha )\n",
    "    f.close()"
   ]
  },
  {
   "cell_type": "code",
   "execution_count": 15,
   "metadata": {
    "ExecuteTime": {
     "end_time": "2019-08-13T10:31:20.467049Z",
     "start_time": "2019-08-13T10:31:20.403033Z"
    }
   },
   "outputs": [],
   "source": [
    "#Gera tabela csv Com cabeçalho\n",
    "gera_tabcsv(15,0.65,0.05)"
   ]
  },
  {
   "cell_type": "code",
   "execution_count": 16,
   "metadata": {
    "ExecuteTime": {
     "end_time": "2019-08-13T10:31:21.373033Z",
     "start_time": "2019-08-13T10:31:21.261556Z"
    }
   },
   "outputs": [
    {
     "name": "stdout",
     "output_type": "stream",
     "text": [
      "Medida \tPeríodo\r\n",
      "1\t1.6062377945338466\r\n",
      "2\t1.63477293741737\r\n",
      "3\t1.6257955563643303\r\n",
      "4\t1.6382193311432116\r\n",
      "5\t1.6282455022275266\r\n",
      "6\t1.6115986961726898\r\n",
      "7\t1.644071265877963\r\n",
      "8\t1.6534332232709295\r\n",
      "9\t1.5805231542817135\r\n",
      "10\t1.592181372759923\r\n",
      "11\t1.6135585037610356\r\n",
      "12\t1.6185408867823556\r\n",
      "13\t1.5872286614267819\r\n",
      "14\t1.5923064977044181\r\n",
      "15\t1.632309431066494\r\n"
     ]
    }
   ],
   "source": [
    "! cat Tabela_L_650.csv"
   ]
  },
  {
   "cell_type": "code",
   "execution_count": 17,
   "metadata": {
    "ExecuteTime": {
     "end_time": "2019-08-13T10:31:22.117199Z",
     "start_time": "2019-08-13T10:31:21.926382Z"
    }
   },
   "outputs": [],
   "source": [
    "! rm -f Tabela_L_*.csv"
   ]
  },
  {
   "cell_type": "markdown",
   "metadata": {},
   "source": [
    "A seguir mostramos como podemos fazer tudo junto:"
   ]
  },
  {
   "cell_type": "code",
   "execution_count": 6,
   "metadata": {
    "ExecuteTime": {
     "end_time": "2019-08-14T14:16:48.724530Z",
     "start_time": "2019-08-14T14:16:48.712306Z"
    }
   },
   "outputs": [],
   "source": [
    "# Vamos fazer tudo junto\n",
    "N=50\n",
    "tx=0.05\n",
    "# Gera lista automaticamente\n",
    "# Comp = [ i/100 for i in range(50,95,5) ]\n",
    "# Gera lista explicita\n",
    "Comp = [0.70, 0.75, 0.80, 0.85, 0.90]\n",
    "for L in Comp:\n",
    "    Nome='Tabela_L_'+str(int(L*1000))+'.csv'\n",
    "    f = open(Nome, 'w')\n",
    "    linha='Medida ' + \"\\t\" + \"Período\\n\"\n",
    "    f.write( linha )\n",
    "    for i in range(1,N+1):\n",
    "        linha = str(i)+\"\\t\"+str(periodo_rnd(L,tx)) +\"\\n\"\n",
    "        f.write( linha )\n",
    "    f.close()"
   ]
  },
  {
   "cell_type": "markdown",
   "metadata": {},
   "source": [
    " Entretanto não estamos fazendo uso das funções criadas anteriormente, nesse caso teríamos"
   ]
  },
  {
   "cell_type": "code",
   "execution_count": 7,
   "metadata": {
    "ExecuteTime": {
     "end_time": "2019-08-14T14:16:52.235351Z",
     "start_time": "2019-08-14T14:16:52.005363Z"
    }
   },
   "outputs": [
    {
     "name": "stdout",
     "output_type": "stream",
     "text": [
      "-rw-r--r-- 1 salviano salviano  177 ago 14 10:55 'Notas_finais_Curso_Mat 1_2019-1.csv'\r\n",
      "-rw-r--r-- 1 salviano salviano  177 ago 14 10:57  Notas_finais_Curso_Mat_1_2019-1.csv\r\n",
      "-rw-r--r-- 1 salviano salviano 1,1K ago 14 11:16  Tabela_L_700.csv\r\n",
      "-rw-r--r-- 1 salviano salviano 1,1K ago 14 11:16  Tabela_L_750.csv\r\n",
      "-rw-r--r-- 1 salviano salviano 1,1K ago 14 11:16  Tabela_L_800.csv\r\n",
      "-rw-r--r-- 1 salviano salviano 1,1K ago 14 11:16  Tabela_L_850.csv\r\n",
      "-rw-r--r-- 1 salviano salviano 1,1K ago 14 11:16  Tabela_L_900.csv\r\n"
     ]
    }
   ],
   "source": [
    "# Vamos remover todos os arquivos antes\n",
    "! ls -alh *.csv\n",
    "! rm -f *.csv"
   ]
  },
  {
   "cell_type": "code",
   "execution_count": 11,
   "metadata": {
    "ExecuteTime": {
     "end_time": "2019-08-14T14:17:53.051584Z",
     "start_time": "2019-08-14T14:17:53.034080Z"
    }
   },
   "outputs": [
    {
     "name": "stdout",
     "output_type": "stream",
     "text": [
      "L =  0.5\n",
      "L =  0.55\n",
      "L =  0.6\n",
      "L =  0.65\n",
      "L =  0.7\n",
      "L =  0.75\n",
      "L =  0.8\n",
      "L =  0.85\n",
      "L =  0.9\n",
      "L =  0.95\n"
     ]
    }
   ],
   "source": [
    "# Vamos fazer tudo junto\n",
    "N=50\n",
    "tx=0.05\n",
    "# Gera lista automaticamente: [0.70, 0.75, 0.80, 0.85, 0.90, 0.95]\n",
    "Comprimentos = [ i/100 for i in range(50,100,5) ]\n",
    "for L in Comprimentos:\n",
    "    print(\"L = \", L)\n",
    "    gera_tabcsv(N,L,tx)"
   ]
  },
  {
   "cell_type": "code",
   "execution_count": 12,
   "metadata": {
    "ExecuteTime": {
     "end_time": "2019-08-14T14:17:56.844066Z",
     "start_time": "2019-08-14T14:17:56.728383Z"
    }
   },
   "outputs": [
    {
     "name": "stdout",
     "output_type": "stream",
     "text": [
      "Tabela_L_500.csv  Tabela_L_650.csv  Tabela_L_800.csv  Tabela_L_950.csv\r\n",
      "Tabela_L_550.csv  Tabela_L_700.csv  Tabela_L_850.csv\r\n",
      "Tabela_L_600.csv  Tabela_L_750.csv  Tabela_L_900.csv\r\n"
     ]
    }
   ],
   "source": [
    "# No Rwindows dir *.dat\n",
    "! ls *.csv"
   ]
  },
  {
   "cell_type": "code",
   "execution_count": 13,
   "metadata": {
    "ExecuteTime": {
     "end_time": "2019-08-14T14:17:59.081669Z",
     "start_time": "2019-08-14T14:17:58.963418Z"
    }
   },
   "outputs": [
    {
     "name": "stdout",
     "output_type": "stream",
     "text": [
      "Medida \tPeríodo\r\n",
      "1\t1.8155295427239782\r\n",
      "2\t1.8220331887883652\r\n",
      "3\t1.7648251554867807\r\n",
      "4\t1.7931947977838858\r\n",
      "5\t1.8238629361065257\r\n",
      "6\t1.771908268808903\r\n",
      "7\t1.7603727407525114\r\n",
      "8\t1.7794167368096656\r\n",
      "9\t1.8084218821665188\r\n",
      "10\t1.8230154132595404\r\n",
      "11\t1.8314501002967898\r\n",
      "12\t1.7578121473040338\r\n",
      "13\t1.8156059657503707\r\n",
      "14\t1.7754486134227654\r\n",
      "15\t1.8039520356147447\r\n",
      "16\t1.8214687047818647\r\n",
      "17\t1.8400641201838694\r\n",
      "18\t1.8260873350718863\r\n",
      "19\t1.8020832982070416\r\n",
      "20\t1.77456475968193\r\n",
      "21\t1.8278687793502462\r\n",
      "22\t1.7715292307367314\r\n",
      "23\t1.8340004381388502\r\n",
      "24\t1.7651518125622925\r\n",
      "25\t1.8178024167361493\r\n",
      "26\t1.8035530548729763\r\n",
      "27\t1.8279704052484382\r\n",
      "28\t1.7838943364682438\r\n",
      "29\t1.8002219864160434\r\n",
      "30\t1.7823792073977938\r\n",
      "31\t1.7839066286534062\r\n",
      "32\t1.7997269171641364\r\n",
      "33\t1.7598676875619121\r\n",
      "34\t1.7798347468613067\r\n",
      "35\t1.7775688934600538\r\n",
      "36\t1.8008526627391932\r\n",
      "37\t1.779831899743564\r\n",
      "38\t1.8091225655242777\r\n",
      "39\t1.8174407345026664\r\n",
      "40\t1.827444146486277\r\n",
      "41\t1.770566746555114\r\n",
      "42\t1.8158994932093913\r\n",
      "43\t1.7695946754962715\r\n",
      "44\t1.8246864945332528\r\n",
      "45\t1.7800526014414786\r\n",
      "46\t1.7880730244827663\r\n",
      "47\t1.7786750116886583\r\n",
      "48\t1.7965217150970791\r\n",
      "49\t1.7700764140102732\r\n",
      "50\t1.796387168135445\r\n"
     ]
    }
   ],
   "source": [
    "# No Rwindows type Tabela_L_800.dat\n",
    "! cat Tabela_L_800.csv"
   ]
  },
  {
   "cell_type": "code",
   "execution_count": 14,
   "metadata": {
    "ExecuteTime": {
     "end_time": "2019-08-14T14:18:22.997189Z",
     "start_time": "2019-08-14T14:18:22.991238Z"
    }
   },
   "outputs": [
    {
     "name": "stdout",
     "output_type": "stream",
     "text": [
      "['./Tabela_L_550.csv', './Tabela_L_850.csv', './Tabela_L_950.csv', './Tabela_L_650.csv', './Tabela_L_700.csv', './Tabela_L_750.csv', './Tabela_L_500.csv', './Tabela_L_600.csv', './Tabela_L_900.csv', './Tabela_L_800.csv']\n"
     ]
    }
   ],
   "source": [
    "# para obter todos os arquivos com extensão csv no diretório corrente\n",
    "import glob, os\n",
    "#Mudar o diretório caso seja necessário\n",
    "#os.chdir(\"/IYPT\")\n",
    "Arqs=glob.glob('./*.csv')\n",
    "print(Arqs)"
   ]
  },
  {
   "cell_type": "code",
   "execution_count": 24,
   "metadata": {
    "ExecuteTime": {
     "end_time": "2019-08-13T10:31:35.475939Z",
     "start_time": "2019-08-13T10:31:35.472801Z"
    }
   },
   "outputs": [
    {
     "name": "stdout",
     "output_type": "stream",
     "text": [
      "['./Tabela_L_500.csv', './Tabela_L_550.csv', './Tabela_L_600.csv', './Tabela_L_650.csv', './Tabela_L_700.csv', './Tabela_L_750.csv', './Tabela_L_800.csv', './Tabela_L_850.csv', './Tabela_L_900.csv', './Tabela_L_950.csv']\n"
     ]
    }
   ],
   "source": [
    "# Vamos colocar em ordem crescente os arquivos\n",
    "Arqs.sort()\n",
    "print(Arqs)"
   ]
  },
  {
   "cell_type": "code",
   "execution_count": 16,
   "metadata": {
    "ExecuteTime": {
     "end_time": "2019-08-14T14:19:56.355143Z",
     "start_time": "2019-08-14T14:19:56.302466Z"
    }
   },
   "outputs": [],
   "source": [
    "# Vamos ler as cinco tabelas CSV de forma manual\n",
    "TabL1 = pd.read_csv('Tabela_L_700.csv', delimiter='\\t')  #le o conjunto de dados\n",
    "TabL2 = pd.read_csv('Tabela_L_750.csv', delimiter='\\t')  #le o conjunto de dados\n",
    "TabL3 = pd.read_csv('Tabela_L_800.csv', delimiter='\\t')  #le o conjunto de dados\n",
    "TabL4 = pd.read_csv('Tabela_L_850.csv', delimiter='\\t')  #le o conjunto de dados\n",
    "TabL5 = pd.read_csv('Tabela_L_900.csv', delimiter='\\t')  #le o conjunto de dados"
   ]
  },
  {
   "cell_type": "code",
   "execution_count": null,
   "metadata": {
    "ExecuteTime": {
     "end_time": "2019-08-13T10:31:38.897169Z",
     "start_time": "2019-08-13T10:31:38.675973Z"
    }
   },
   "outputs": [],
   "source": [
    "#Para quem fez no excel, faça assim, descomente a linha abaixo e execute\n",
    "#TabL1 = pd.read_excel('Tabela_L_700.xlsx')"
   ]
  },
  {
   "cell_type": "code",
   "execution_count": 18,
   "metadata": {
    "ExecuteTime": {
     "end_time": "2019-08-14T14:20:13.615288Z",
     "start_time": "2019-08-14T14:20:13.571204Z"
    }
   },
   "outputs": [
    {
     "data": {
      "text/html": [
       "<div>\n",
       "<style scoped>\n",
       "    .dataframe tbody tr th:only-of-type {\n",
       "        vertical-align: middle;\n",
       "    }\n",
       "\n",
       "    .dataframe tbody tr th {\n",
       "        vertical-align: top;\n",
       "    }\n",
       "\n",
       "    .dataframe thead th {\n",
       "        text-align: right;\n",
       "    }\n",
       "</style>\n",
       "<table border=\"1\" class=\"dataframe\">\n",
       "  <thead>\n",
       "    <tr style=\"text-align: right;\">\n",
       "      <th></th>\n",
       "      <th>Medida</th>\n",
       "      <th>Período</th>\n",
       "    </tr>\n",
       "  </thead>\n",
       "  <tbody>\n",
       "    <tr>\n",
       "      <th>count</th>\n",
       "      <td>50.00000</td>\n",
       "      <td>50.000000</td>\n",
       "    </tr>\n",
       "    <tr>\n",
       "      <th>mean</th>\n",
       "      <td>25.50000</td>\n",
       "      <td>1.682074</td>\n",
       "    </tr>\n",
       "    <tr>\n",
       "      <th>std</th>\n",
       "      <td>14.57738</td>\n",
       "      <td>0.025877</td>\n",
       "    </tr>\n",
       "    <tr>\n",
       "      <th>min</th>\n",
       "      <td>1.00000</td>\n",
       "      <td>1.638979</td>\n",
       "    </tr>\n",
       "    <tr>\n",
       "      <th>25%</th>\n",
       "      <td>13.25000</td>\n",
       "      <td>1.660198</td>\n",
       "    </tr>\n",
       "    <tr>\n",
       "      <th>50%</th>\n",
       "      <td>25.50000</td>\n",
       "      <td>1.683310</td>\n",
       "    </tr>\n",
       "    <tr>\n",
       "      <th>75%</th>\n",
       "      <td>37.75000</td>\n",
       "      <td>1.708591</td>\n",
       "    </tr>\n",
       "    <tr>\n",
       "      <th>max</th>\n",
       "      <td>50.00000</td>\n",
       "      <td>1.720632</td>\n",
       "    </tr>\n",
       "  </tbody>\n",
       "</table>\n",
       "</div>"
      ],
      "text/plain": [
       "        Medida     Período\n",
       "count  50.00000  50.000000\n",
       "mean   25.50000   1.682074\n",
       "std    14.57738   0.025877\n",
       "min     1.00000   1.638979\n",
       "25%    13.25000   1.660198\n",
       "50%    25.50000   1.683310\n",
       "75%    37.75000   1.708591\n",
       "max    50.00000   1.720632"
      ]
     },
     "execution_count": 18,
     "metadata": {},
     "output_type": "execute_result"
    }
   ],
   "source": [
    "TabL1.describe()"
   ]
  },
  {
   "cell_type": "markdown",
   "metadata": {},
   "source": [
    "Vamos obter os valores médios dos períodos de cada tabela"
   ]
  },
  {
   "cell_type": "code",
   "execution_count": 19,
   "metadata": {
    "ExecuteTime": {
     "end_time": "2019-08-14T14:21:40.465103Z",
     "start_time": "2019-08-14T14:21:40.458046Z"
    }
   },
   "outputs": [
    {
     "name": "stdout",
     "output_type": "stream",
     "text": [
      "Medida     25.500000\n",
      "Período     1.682074\n",
      "dtype: float64\n",
      "1.682074247713684\n"
     ]
    }
   ],
   "source": [
    "# Média\n",
    "print(TabL1.mean(axis = 0))\n",
    "T1m=TabL1.mean(axis = 0)[1]\n",
    "print(T1m)"
   ]
  },
  {
   "cell_type": "code",
   "execution_count": 30,
   "metadata": {
    "ExecuteTime": {
     "end_time": "2019-08-13T10:32:21.481777Z",
     "start_time": "2019-08-13T10:32:21.477757Z"
    }
   },
   "outputs": [
    {
     "name": "stdout",
     "output_type": "stream",
     "text": [
      "0.024742707540526473\n"
     ]
    }
   ],
   "source": [
    "# Desvio padrão\n",
    "print(TabL1.std()[1])"
   ]
  },
  {
   "cell_type": "code",
   "execution_count": 21,
   "metadata": {
    "ExecuteTime": {
     "end_time": "2019-08-14T14:23:14.232190Z",
     "start_time": "2019-08-14T14:23:14.219039Z"
    }
   },
   "outputs": [],
   "source": [
    "# Definindo os períodos médios\n",
    "T1m = TabL1.mean(axis = 0)[1]\n",
    "T2m = TabL2.mean(axis = 0)[1]\n",
    "T3m = TabL3.mean(axis = 0)[1]\n",
    "T4m = TabL4.mean(axis = 0)[1]\n",
    "T5m = TabL5.mean(axis = 0)[1]"
   ]
  },
  {
   "cell_type": "markdown",
   "metadata": {},
   "source": [
    "\n",
    "| $N$  | $L$ (mm)  | $T$ (s) | $T^2$ (s$^2$) | $L\\cdot T^2$ (m$\\cdot$s$^2$) | $L^2$ (m$^2$) |\n",
    "| ---- | :-------- | :------ | :------------ | :--------------------------- | :------------ |\n",
    "| 1    | 700,00    | 1.4063  | 1.9777        | 1.3844                       | 0.4900        |\n",
    "| 2    | 750,00    | 1.5069  | 2.2707        | 1.7030                       | 0.5625        |\n",
    "| 3    | 800,00    | 1.6073  | 2.5834        | 2.0667                       | 0.6400        |\n",
    "| 4    | 850,00    | 1.7078  | 2.9166        | 2.4791                       | 0.7225        |\n",
    "| $\\sum$ | 3100,00 | 6.2283  | 9.7484        | 7.6332                       | 2.4150        |\n"
   ]
  },
  {
   "cell_type": "code",
   "execution_count": 22,
   "metadata": {
    "ExecuteTime": {
     "end_time": "2019-08-14T14:23:16.608925Z",
     "start_time": "2019-08-14T14:23:16.600698Z"
    }
   },
   "outputs": [],
   "source": [
    "#Cria uma DataFrame\n",
    "Tab = {\n",
    "       'N':[1, 2, 3, 4, 5],\n",
    "       'L':[0.70, 0.75, 0.80, 0.85, 0.90],\n",
    "       'T':[T1m, T2m, T3m, T4m, T5m],\n",
    "       }\n",
    "df = pd.DataFrame(Tab, columns=['N', 'L', 'T'] )"
   ]
  },
  {
   "cell_type": "code",
   "execution_count": 33,
   "metadata": {
    "ExecuteTime": {
     "end_time": "2019-08-13T10:32:27.745622Z",
     "start_time": "2019-08-13T10:32:27.738372Z"
    }
   },
   "outputs": [
    {
     "data": {
      "text/html": [
       "<div>\n",
       "<style scoped>\n",
       "    .dataframe tbody tr th:only-of-type {\n",
       "        vertical-align: middle;\n",
       "    }\n",
       "\n",
       "    .dataframe tbody tr th {\n",
       "        vertical-align: top;\n",
       "    }\n",
       "\n",
       "    .dataframe thead th {\n",
       "        text-align: right;\n",
       "    }\n",
       "</style>\n",
       "<table border=\"1\" class=\"dataframe\">\n",
       "  <thead>\n",
       "    <tr style=\"text-align: right;\">\n",
       "      <th></th>\n",
       "      <th>N</th>\n",
       "      <th>L</th>\n",
       "      <th>T</th>\n",
       "    </tr>\n",
       "  </thead>\n",
       "  <tbody>\n",
       "    <tr>\n",
       "      <th>0</th>\n",
       "      <td>1</td>\n",
       "      <td>0.70</td>\n",
       "      <td>1.684181</td>\n",
       "    </tr>\n",
       "    <tr>\n",
       "      <th>1</th>\n",
       "      <td>2</td>\n",
       "      <td>0.75</td>\n",
       "      <td>1.740857</td>\n",
       "    </tr>\n",
       "    <tr>\n",
       "      <th>2</th>\n",
       "      <td>3</td>\n",
       "      <td>0.80</td>\n",
       "      <td>1.789618</td>\n",
       "    </tr>\n",
       "    <tr>\n",
       "      <th>3</th>\n",
       "      <td>4</td>\n",
       "      <td>0.85</td>\n",
       "      <td>1.847765</td>\n",
       "    </tr>\n",
       "    <tr>\n",
       "      <th>4</th>\n",
       "      <td>5</td>\n",
       "      <td>0.90</td>\n",
       "      <td>1.907378</td>\n",
       "    </tr>\n",
       "  </tbody>\n",
       "</table>\n",
       "</div>"
      ],
      "text/plain": [
       "   N     L         T\n",
       "0  1  0.70  1.684181\n",
       "1  2  0.75  1.740857\n",
       "2  3  0.80  1.789618\n",
       "3  4  0.85  1.847765\n",
       "4  5  0.90  1.907378"
      ]
     },
     "execution_count": 33,
     "metadata": {},
     "output_type": "execute_result"
    }
   ],
   "source": [
    "df"
   ]
  },
  {
   "cell_type": "code",
   "execution_count": 23,
   "metadata": {
    "ExecuteTime": {
     "end_time": "2019-08-14T14:23:43.531118Z",
     "start_time": "2019-08-14T14:23:43.210385Z"
    }
   },
   "outputs": [],
   "source": [
    "# Vamos adicionar as colunas que faltam:\n",
    "df['T2']  = df['T']**2\n",
    "df['LT2'] = df['L']*df['T2']\n",
    "df['L2']  = df['L']*df['L']"
   ]
  },
  {
   "cell_type": "code",
   "execution_count": 24,
   "metadata": {
    "ExecuteTime": {
     "end_time": "2019-08-14T14:23:45.263472Z",
     "start_time": "2019-08-14T14:23:45.241010Z"
    }
   },
   "outputs": [
    {
     "data": {
      "text/html": [
       "<div>\n",
       "<style scoped>\n",
       "    .dataframe tbody tr th:only-of-type {\n",
       "        vertical-align: middle;\n",
       "    }\n",
       "\n",
       "    .dataframe tbody tr th {\n",
       "        vertical-align: top;\n",
       "    }\n",
       "\n",
       "    .dataframe thead th {\n",
       "        text-align: right;\n",
       "    }\n",
       "</style>\n",
       "<table border=\"1\" class=\"dataframe\">\n",
       "  <thead>\n",
       "    <tr style=\"text-align: right;\">\n",
       "      <th></th>\n",
       "      <th>N</th>\n",
       "      <th>L</th>\n",
       "      <th>T</th>\n",
       "      <th>T2</th>\n",
       "      <th>LT2</th>\n",
       "      <th>L2</th>\n",
       "    </tr>\n",
       "  </thead>\n",
       "  <tbody>\n",
       "    <tr>\n",
       "      <th>0</th>\n",
       "      <td>1</td>\n",
       "      <td>0.70</td>\n",
       "      <td>1.682074</td>\n",
       "      <td>2.829374</td>\n",
       "      <td>1.980562</td>\n",
       "      <td>0.4900</td>\n",
       "    </tr>\n",
       "    <tr>\n",
       "      <th>1</th>\n",
       "      <td>2</td>\n",
       "      <td>0.75</td>\n",
       "      <td>1.739346</td>\n",
       "      <td>3.025325</td>\n",
       "      <td>2.268994</td>\n",
       "      <td>0.5625</td>\n",
       "    </tr>\n",
       "    <tr>\n",
       "      <th>2</th>\n",
       "      <td>3</td>\n",
       "      <td>0.80</td>\n",
       "      <td>1.797032</td>\n",
       "      <td>3.229325</td>\n",
       "      <td>2.583460</td>\n",
       "      <td>0.6400</td>\n",
       "    </tr>\n",
       "    <tr>\n",
       "      <th>3</th>\n",
       "      <td>4</td>\n",
       "      <td>0.85</td>\n",
       "      <td>1.849523</td>\n",
       "      <td>3.420734</td>\n",
       "      <td>2.907624</td>\n",
       "      <td>0.7225</td>\n",
       "    </tr>\n",
       "    <tr>\n",
       "      <th>4</th>\n",
       "      <td>5</td>\n",
       "      <td>0.90</td>\n",
       "      <td>1.905391</td>\n",
       "      <td>3.630516</td>\n",
       "      <td>3.267464</td>\n",
       "      <td>0.8100</td>\n",
       "    </tr>\n",
       "  </tbody>\n",
       "</table>\n",
       "</div>"
      ],
      "text/plain": [
       "   N     L         T        T2       LT2      L2\n",
       "0  1  0.70  1.682074  2.829374  1.980562  0.4900\n",
       "1  2  0.75  1.739346  3.025325  2.268994  0.5625\n",
       "2  3  0.80  1.797032  3.229325  2.583460  0.6400\n",
       "3  4  0.85  1.849523  3.420734  2.907624  0.7225\n",
       "4  5  0.90  1.905391  3.630516  3.267464  0.8100"
      ]
     },
     "execution_count": 24,
     "metadata": {},
     "output_type": "execute_result"
    }
   ],
   "source": [
    "df"
   ]
  },
  {
   "cell_type": "code",
   "execution_count": 25,
   "metadata": {
    "ExecuteTime": {
     "end_time": "2019-08-14T14:23:50.825325Z",
     "start_time": "2019-08-14T14:23:50.788762Z"
    }
   },
   "outputs": [
    {
     "data": {
      "text/html": [
       "<div>\n",
       "<style scoped>\n",
       "    .dataframe tbody tr th:only-of-type {\n",
       "        vertical-align: middle;\n",
       "    }\n",
       "\n",
       "    .dataframe tbody tr th {\n",
       "        vertical-align: top;\n",
       "    }\n",
       "\n",
       "    .dataframe thead th {\n",
       "        text-align: right;\n",
       "    }\n",
       "</style>\n",
       "<table border=\"1\" class=\"dataframe\">\n",
       "  <thead>\n",
       "    <tr style=\"text-align: right;\">\n",
       "      <th></th>\n",
       "      <th>N</th>\n",
       "      <th>L</th>\n",
       "      <th>T</th>\n",
       "      <th>T2</th>\n",
       "      <th>LT2</th>\n",
       "      <th>L2</th>\n",
       "    </tr>\n",
       "  </thead>\n",
       "  <tbody>\n",
       "    <tr>\n",
       "      <th>count</th>\n",
       "      <td>5.000000</td>\n",
       "      <td>5.000000</td>\n",
       "      <td>5.000000</td>\n",
       "      <td>5.000000</td>\n",
       "      <td>5.000000</td>\n",
       "      <td>5.000000</td>\n",
       "    </tr>\n",
       "    <tr>\n",
       "      <th>mean</th>\n",
       "      <td>3.000000</td>\n",
       "      <td>0.800000</td>\n",
       "      <td>1.794673</td>\n",
       "      <td>3.227055</td>\n",
       "      <td>2.601621</td>\n",
       "      <td>0.645000</td>\n",
       "    </tr>\n",
       "    <tr>\n",
       "      <th>std</th>\n",
       "      <td>1.581139</td>\n",
       "      <td>0.079057</td>\n",
       "      <td>0.088051</td>\n",
       "      <td>0.315889</td>\n",
       "      <td>0.508348</td>\n",
       "      <td>0.126578</td>\n",
       "    </tr>\n",
       "    <tr>\n",
       "      <th>min</th>\n",
       "      <td>1.000000</td>\n",
       "      <td>0.700000</td>\n",
       "      <td>1.682074</td>\n",
       "      <td>2.829374</td>\n",
       "      <td>1.980562</td>\n",
       "      <td>0.490000</td>\n",
       "    </tr>\n",
       "    <tr>\n",
       "      <th>25%</th>\n",
       "      <td>2.000000</td>\n",
       "      <td>0.750000</td>\n",
       "      <td>1.739346</td>\n",
       "      <td>3.025325</td>\n",
       "      <td>2.268994</td>\n",
       "      <td>0.562500</td>\n",
       "    </tr>\n",
       "    <tr>\n",
       "      <th>50%</th>\n",
       "      <td>3.000000</td>\n",
       "      <td>0.800000</td>\n",
       "      <td>1.797032</td>\n",
       "      <td>3.229325</td>\n",
       "      <td>2.583460</td>\n",
       "      <td>0.640000</td>\n",
       "    </tr>\n",
       "    <tr>\n",
       "      <th>75%</th>\n",
       "      <td>4.000000</td>\n",
       "      <td>0.850000</td>\n",
       "      <td>1.849523</td>\n",
       "      <td>3.420734</td>\n",
       "      <td>2.907624</td>\n",
       "      <td>0.722500</td>\n",
       "    </tr>\n",
       "    <tr>\n",
       "      <th>max</th>\n",
       "      <td>5.000000</td>\n",
       "      <td>0.900000</td>\n",
       "      <td>1.905391</td>\n",
       "      <td>3.630516</td>\n",
       "      <td>3.267464</td>\n",
       "      <td>0.810000</td>\n",
       "    </tr>\n",
       "  </tbody>\n",
       "</table>\n",
       "</div>"
      ],
      "text/plain": [
       "              N         L         T        T2       LT2        L2\n",
       "count  5.000000  5.000000  5.000000  5.000000  5.000000  5.000000\n",
       "mean   3.000000  0.800000  1.794673  3.227055  2.601621  0.645000\n",
       "std    1.581139  0.079057  0.088051  0.315889  0.508348  0.126578\n",
       "min    1.000000  0.700000  1.682074  2.829374  1.980562  0.490000\n",
       "25%    2.000000  0.750000  1.739346  3.025325  2.268994  0.562500\n",
       "50%    3.000000  0.800000  1.797032  3.229325  2.583460  0.640000\n",
       "75%    4.000000  0.850000  1.849523  3.420734  2.907624  0.722500\n",
       "max    5.000000  0.900000  1.905391  3.630516  3.267464  0.810000"
      ]
     },
     "execution_count": 25,
     "metadata": {},
     "output_type": "execute_result"
    }
   ],
   "source": [
    "# Fornece informações a respeito dos dados\n",
    "df.describe()"
   ]
  },
  {
   "cell_type": "code",
   "execution_count": 26,
   "metadata": {
    "ExecuteTime": {
     "end_time": "2019-08-14T14:24:11.434682Z",
     "start_time": "2019-08-14T14:24:11.411883Z"
    }
   },
   "outputs": [],
   "source": [
    "# Vamos exportar essa tabela organizada para um arquivo csv\n",
    "Nome='Tabela_Final.csv'\n",
    "df.to_csv(Nome, sep='\\t')"
   ]
  },
  {
   "cell_type": "code",
   "execution_count": 39,
   "metadata": {
    "ExecuteTime": {
     "end_time": "2019-08-13T10:34:56.158783Z",
     "start_time": "2019-08-13T10:34:56.046181Z"
    }
   },
   "outputs": [
    {
     "name": "stdout",
     "output_type": "stream",
     "text": [
      "\tN\tL\tT\tT2\tLT2\tL2\r\n",
      "0\t1\t0.7\t1.6841810133001525\t2.836465685560728\t1.9855259798925096\t0.48999999999999994\r\n",
      "1\t2\t0.75\t1.7408573721283473\t3.0305843900936154\t2.2729382925702115\t0.5625\r\n",
      "2\t3\t0.8\t1.7896178804338576\t3.202732157968573\t2.5621857263748584\t0.6400000000000001\r\n",
      "3\t4\t0.85\t1.8477652396837723\t3.4142363809836285\t2.902100923836084\t0.7224999999999999\r\n",
      "4\t5\t0.9\t1.9073784479517275\t3.6380925437107408\t3.274283289339667\t0.81\r\n"
     ]
    }
   ],
   "source": [
    "# Vamos ver como ficou a tabela\n",
    "! cat Tabela_Final.csv"
   ]
  },
  {
   "cell_type": "code",
   "execution_count": 27,
   "metadata": {
    "ExecuteTime": {
     "end_time": "2019-08-14T14:24:38.730026Z",
     "start_time": "2019-08-14T14:24:38.723818Z"
    }
   },
   "outputs": [],
   "source": [
    "# Vamos calcular as somas:\n",
    "SL=df['L'].sum()\n",
    "SL2=df['L2'].sum()\n",
    "SLT2=df['LT2'].sum()\n",
    "ST2=df['T2'].sum()"
   ]
  },
  {
   "cell_type": "code",
   "execution_count": 28,
   "metadata": {
    "ExecuteTime": {
     "end_time": "2019-08-14T14:24:41.183405Z",
     "start_time": "2019-08-14T14:24:41.173986Z"
    }
   },
   "outputs": [
    {
     "name": "stdout",
     "output_type": "stream",
     "text": [
      "0.030745788707065458 3.9953865082793527\n"
     ]
    }
   ],
   "source": [
    "n = 5 # Número de linha \n",
    "A = (SL2*ST2-SL*SLT2)/(n*SL2-SL*SL)\n",
    "B = (n*SLT2-SL*ST2)/(n*SL2-SL*SL)\n",
    "print(A, B)"
   ]
  },
  {
   "cell_type": "code",
   "execution_count": 29,
   "metadata": {
    "ExecuteTime": {
     "end_time": "2019-08-14T14:24:48.710739Z",
     "start_time": "2019-08-14T14:24:48.706904Z"
    }
   },
   "outputs": [
    {
     "name": "stdout",
     "output_type": "stream",
     "text": [
      "0.030745788707065458 3.9953865082793527\n"
     ]
    }
   ],
   "source": [
    "print(A, B)"
   ]
  },
  {
   "cell_type": "markdown",
   "metadata": {},
   "source": [
    "A reta que estamos procurando erá:\n",
    "\n",
    "$$\n",
    "T^2 (L) = A + B*L\n",
    "$$"
   ]
  },
  {
   "cell_type": "code",
   "execution_count": 30,
   "metadata": {
    "ExecuteTime": {
     "end_time": "2019-08-14T14:25:04.172288Z",
     "start_time": "2019-08-14T14:25:02.974446Z"
    }
   },
   "outputs": [],
   "source": [
    "# Vamos primeiro vfazer um ajuste com a scipy\n",
    "from scipy.optimize import curve_fit\n",
    "\n",
    "def Reta(t, a, b):\n",
    "    return a + b*t "
   ]
  },
  {
   "cell_type": "code",
   "execution_count": 31,
   "metadata": {
    "ExecuteTime": {
     "end_time": "2019-08-14T14:25:33.741063Z",
     "start_time": "2019-08-14T14:25:33.643517Z"
    }
   },
   "outputs": [
    {
     "name": "stdout",
     "output_type": "stream",
     "text": [
      "Coeficientes do ajuste:  [0.03074579 3.99538651]\n",
      "Coeficientes da Regressão Linear):  0.030745788707065458 3.9953865082793527\n",
      "\n",
      "Matriz de Covariância:\n",
      " [[ 0.00055829 -0.00069245]\n",
      " [-0.00069245  0.00086556]]\n"
     ]
    }
   ],
   "source": [
    "l = np.array([0.70, 0.75, 0.80, 0.85, 0.90])\n",
    "p = df['T2'].to_numpy()\n",
    "fitParams, fitCovariances = curve_fit(Reta, l, p)\n",
    "print ('Coeficientes do ajuste: ', fitParams)\n",
    "print ('Coeficientes da Regressão Linear): ', A, B)\n",
    "print ('\\nMatriz de Covariância:\\n', fitCovariances)"
   ]
  },
  {
   "cell_type": "code",
   "execution_count": 32,
   "metadata": {
    "ExecuteTime": {
     "end_time": "2019-08-14T14:25:59.568837Z",
     "start_time": "2019-08-14T14:25:59.212113Z"
    }
   },
   "outputs": [
    {
     "data": {
      "image/png": "[encoded data removed]",
      "text/plain": [
       "<Figure size 720x432 with 1 Axes>"
      ]
     },
     "metadata": {
      "needs_background": "light"
     },
     "output_type": "display_data"
    },
    {
     "data": {
      "text/plain": [
       "<Figure size 432x288 with 0 Axes>"
      ]
     },
     "metadata": {},
     "output_type": "display_data"
    }
   ],
   "source": [
    "largura = 10  # Largura da figura\n",
    "altura  = 6   # Altura da figura\n",
    "plt.figure(figsize =(largura, altura))     # Define o tamanho do gráfico\n",
    "#plt.figure(figsize =(largura, altura), tight_layout=True)     # Define o tamanho do gráfico\n",
    "\n",
    "plt.xlabel('L (m)', fontsize = 16)\n",
    "plt.ylabel('T2 (s2)', fontsize = 16)\n",
    "plt.title('O período quadrado em função do comprimento', fontsize=16, color='r')\n",
    "\n",
    "\n",
    "#plt.xlim(0,4.1)\n",
    "# Faz o gráfico dos dados como círculos vermelhos e com barras de erro verticais\n",
    "plt.errorbar(l, p, fmt = 'ro', yerr = 0.2)\n",
    "# agora o gráfico da curva de melhor ajuste e também as curvas sigma +- 1 \n",
    "# (A raiz quadrada do elemento da diagonal da matriz de covariância é a \n",
    "#  incerteza no parâmetro de ajuste.)\n",
    "sigma = [np.sqrt(fitCovariances[0,0]), \\\n",
    "         np.sqrt(fitCovariances[1,1]) ]\n",
    "plt.plot(l, Reta(l, fitParams[0], fitParams[1]),\\\n",
    "         l, Reta(l, fitParams[0] + sigma[0], fitParams[1] - sigma[1]),\\\n",
    "         l, Reta(l, fitParams[0] - sigma[0], fitParams[1] + sigma[1]) \\\n",
    "         )\n",
    "plt.show()\n",
    "# Salvar um gráfico em um arquivo\n",
    "plt.savefig('DataFitted.pdf', bbox_inches=0, dpi=600)"
   ]
  },
  {
   "cell_type": "markdown",
   "metadata": {},
   "source": [
    "## Usando a scikit-learn"
   ]
  },
  {
   "cell_type": "code",
   "execution_count": 46,
   "metadata": {
    "ExecuteTime": {
     "end_time": "2019-08-13T10:35:19.841121Z",
     "start_time": "2019-08-13T10:35:17.582219Z"
    }
   },
   "outputs": [],
   "source": [
    "# Para a usar a biblioteca scikit-learn\n",
    "from sklearn.linear_model import LinearRegression  # Faz a regressão linear"
   ]
  },
  {
   "cell_type": "code",
   "execution_count": 47,
   "metadata": {
    "ExecuteTime": {
     "end_time": "2019-08-13T10:35:19.881880Z",
     "start_time": "2019-08-13T10:35:19.878261Z"
    }
   },
   "outputs": [],
   "source": [
    "# Preparando dados para a regressão linear\n",
    "l = df['L'].values.reshape(-1, 1)  # valores convertidos em um array do numpy \n",
    "P = df['T2'].values.reshape(-1, 1)  # valores convertidos em um array do numpy "
   ]
  },
  {
   "cell_type": "code",
   "execution_count": 48,
   "metadata": {
    "ExecuteTime": {
     "end_time": "2019-08-13T10:35:20.111920Z",
     "start_time": "2019-08-13T10:35:20.083175Z"
    }
   },
   "outputs": [],
   "source": [
    "linear_reg = LinearRegression()     # cria o objeto para a classe\n",
    "linear_reg.fit(l, P)                # realiza a regressão linear\n",
    "T_pred = linear_reg.predict(l)      # faz as predições"
   ]
  },
  {
   "cell_type": "code",
   "execution_count": 49,
   "metadata": {
    "ExecuteTime": {
     "end_time": "2019-08-13T10:35:21.177758Z",
     "start_time": "2019-08-13T10:35:21.173841Z"
    }
   },
   "outputs": [
    {
     "name": "stdout",
     "output_type": "stream",
     "text": [
      "[0.0453731]\n",
      "[[3.97381141]]\n"
     ]
    }
   ],
   "source": [
    "# Para obter os coeficientes da regressão linear \n",
    "As = linear_reg.intercept_    # O coeficiente de intercepatação da reta como eixo da ordenada\n",
    "Bs = linear_reg.coef_         # O coeficiente angular da reta\n",
    "print(linear_reg.intercept_)  # To retrieve the intercept:\n",
    "print(linear_reg.coef_)       # O coeficiente angular da reta"
   ]
  },
  {
   "cell_type": "code",
   "execution_count": 50,
   "metadata": {
    "ExecuteTime": {
     "end_time": "2019-08-13T10:35:23.951890Z",
     "start_time": "2019-08-13T10:35:23.944709Z"
    }
   },
   "outputs": [
    {
     "name": "stdout",
     "output_type": "stream",
     "text": [
      "0.04537310015939511 3.973811414380066\n"
     ]
    }
   ],
   "source": [
    "print(A,B)"
   ]
  },
  {
   "cell_type": "markdown",
   "metadata": {},
   "source": [
    "Obtivemos as  predições do T_pred. Agora vamos visualizar o conjunto de dados e a linha de regressão:"
   ]
  },
  {
   "cell_type": "code",
   "execution_count": 51,
   "metadata": {
    "ExecuteTime": {
     "end_time": "2019-08-13T10:35:25.802803Z",
     "start_time": "2019-08-13T10:35:25.572619Z"
    },
    "scrolled": true
   },
   "outputs": [
    {
     "data": {
      "image/png": "[encoded data removed]",
      "text/plain": [
       "<Figure size 720x432 with 1 Axes>"
      ]
     },
     "metadata": {
      "needs_background": "light"
     },
     "output_type": "display_data"
    }
   ],
   "source": [
    "largura = 10  # Largura da figura\n",
    "altura  = 6   # Altura da figura\n",
    "plt.figure(figsize =(largura, altura))     # Define o tamanho do gráfico\n",
    "plt.scatter(l, P,color='red', label=\"Dados\")\n",
    "plt.plot(l, T_pred, color='blue', label=\"Ajuste\")\n",
    "plt.legend()\n",
    "plt.show()"
   ]
  },
  {
   "cell_type": "code",
   "execution_count": null,
   "metadata": {
    "ExecuteTime": {
     "end_time": "2019-08-08T20:07:00.705752Z",
     "start_time": "2019-08-08T20:06:55.576794Z"
    }
   },
   "outputs": [],
   "source": []
  }
 ],
 "metadata": {
  "kernelspec": {
   "display_name": "Python 3",
   "language": "python",
   "name": "python3"
  },
  "language_info": {
   "codemirror_mode": {
    "name": "ipython",
    "version": 3
   },
   "file_extension": ".py",
   "mimetype": "text/x-python",
   "name": "python",
   "nbconvert_exporter": "python",
   "pygments_lexer": "ipython3",
   "version": "3.6.8"
  },
  "latex_envs": {
   "LaTeX_envs_menu_present": true,
   "autoclose": false,
   "autocomplete": false,
   "bibliofile": "biblio.bib",
   "cite_by": "apalike",
   "current_citInitial": 1,
   "eqLabelWithNumbers": true,
   "eqNumInitial": 1,
   "hotkeys": {
    "equation": "Ctrl-E",
    "itemize": "Ctrl-I"
   },
   "labels_anchors": false,
   "latex_user_defs": false,
   "report_style_numbering": false,
   "user_envs_cfg": false
  },
  "nbTranslate": {
   "displayLangs": [
    "*"
   ],
   "hotkey": "alt-t",
   "langInMainMenu": true,
   "sourceLang": "en",
   "targetLang": "fr",
   "useGoogleTranslate": true
  },
  "toc": {
   "base_numbering": 1,
   "nav_menu": {},
   "number_sections": true,
   "sideBar": true,
   "skip_h1_title": false,
   "title_cell": "Table of Contents",
   "title_sidebar": "Contents",
   "toc_cell": false,
   "toc_position": {},
   "toc_section_display": true,
   "toc_window_display": false
  },
  "varInspector": {
   "cols": {
    "lenName": 16,
    "lenType": 16,
    "lenVar": 40
   },
   "kernels_config": {
    "python": {
     "delete_cmd_postfix": "",
     "delete_cmd_prefix": "del ",
     "library": "var_list.py",
     "varRefreshCmd": "print(var_dic_list())"
    },
    "r": {
     "delete_cmd_postfix": ") ",
     "delete_cmd_prefix": "rm(",
     "library": "var_list.r",
     "varRefreshCmd": "cat(var_dic_list()) "
    }
   },
   "types_to_exclude": [
    "module",
    "function",
    "builtin_function_or_method",
    "instance",
    "_Feature"
   ],
   "window_display": false
  }
 },
 "nbformat": 4,
 "nbformat_minor": 2
}
