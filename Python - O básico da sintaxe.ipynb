{
 "cells": [
  {
   "cell_type": "markdown",
   "metadata": {},
   "source": [
    "# Python - O básico da sintaxe  Um guia rápido e básico da linguagem Python.\n",
    "\n",
    "[Referência](http://www.devfuria.com.br/python/sintaxe-basica/)\n",
    "\n",
    "Este é um pequeno guia sobre a sintaxe de Python.\n"
   ]
  },
  {
   "cell_type": "markdown",
   "metadata": {},
   "source": [
    "## Variáveis\n",
    "\n",
    "Uma variável não pode ser utilizada em uma expressão sem ter sido inicializada\n",
    "\n",
    "Não existe \"criação automática\" de variáveis.\n",
    "\n",
    "Exemplo de atribuição:"
   ]
  },
  {
   "cell_type": "code",
   "execution_count": 2,
   "metadata": {
    "ExecuteTime": {
     "end_time": "2019-08-14T12:38:15.290601Z",
     "start_time": "2019-08-14T12:38:15.287703Z"
    }
   },
   "outputs": [],
   "source": [
    "taxa  = 4.2\n",
    "euros = 150\n",
    "reais = euros * taxa"
   ]
  },
  {
   "cell_type": "markdown",
   "metadata": {},
   "source": [
    "As variáveis `euros` e  `taxa` devem ser inicializadas, se não o erro `name 'euros' is not defined` será exibido.\n",
    "\n",
    "Também podemos inicializar mais de uma variável dessa forma..."
   ]
  },
  {
   "cell_type": "code",
   "execution_count": 4,
   "metadata": {
    "ExecuteTime": {
     "end_time": "2019-08-14T12:39:00.065992Z",
     "start_time": "2019-08-14T12:39:00.062112Z"
    }
   },
   "outputs": [
    {
     "name": "stdout",
     "output_type": "stream",
     "text": [
      "a =  10 b =  20\n"
     ]
    }
   ],
   "source": [
    "a, b = 10, 20\n",
    "print('a = ', a, 'b = ', b)"
   ]
  },
  {
   "cell_type": "markdown",
   "metadata": {},
   "source": [
    "## Valor nulo (null)\n",
    "\n",
    "Em Python, `None` equivale ao valor nulo (null).\n",
    "\n",
    "Podemos iniciar as variáveis com o valor `None`."
   ]
  },
  {
   "cell_type": "code",
   "execution_count": 5,
   "metadata": {
    "ExecuteTime": {
     "end_time": "2019-08-14T12:39:07.548202Z",
     "start_time": "2019-08-14T12:39:07.545180Z"
    }
   },
   "outputs": [],
   "source": [
    "reais = None"
   ]
  },
  {
   "cell_type": "markdown",
   "metadata": {},
   "source": [
    "## Saídas\n",
    "\n",
    "Saída simples válido para a versão 3 de Python."
   ]
  },
  {
   "cell_type": "code",
   "execution_count": null,
   "metadata": {},
   "outputs": [],
   "source": [
    "print(\"Welcome to Python!\")"
   ]
  },
  {
   "cell_type": "markdown",
   "metadata": {},
   "source": [
    "Saída mais elaborada."
   ]
  },
  {
   "cell_type": "code",
   "execution_count": null,
   "metadata": {},
   "outputs": [],
   "source": [
    "string_1 = \"Camelot\"\n",
    "string_2 = \"place\"\n",
    "print(\"Let's not go to %s. 'Tis a silly %s.\" % (string_1, string_2))"
   ]
  },
  {
   "cell_type": "markdown",
   "metadata": {},
   "source": [
    "Veja na documentação oficial as [diferenças entre as versões 2 e 3](https://docs.python.org/3.0/whatsnew/3.0.html#print-is-a-function).\n",
    "\n",
    "## Entradas"
   ]
  },
  {
   "cell_type": "code",
   "execution_count": null,
   "metadata": {},
   "outputs": [],
   "source": [
    "name  = input(\"What is your name?\")\n",
    "quest = input(\"What is your quest?\")\n",
    "color = input(\"What is your favorite color?\")\n",
    "\n",
    "print(\"Ah, so your name is %s, your quest is %s, \" \\\n",
    "\"and your favorite color is %s.\" % (name, quest, color) )"
   ]
  },
  {
   "cell_type": "markdown",
   "metadata": {},
   "source": [
    "## Endentação\n",
    "\n",
    "Python usa endentação como delimitação de bloco, portanto devemos endentar corretamente o código fonte.\n",
    "\n",
    "Abaixo vemos um código endentado de forma errada:"
   ]
  },
  {
   "cell_type": "code",
   "execution_count": 6,
   "metadata": {
    "ExecuteTime": {
     "end_time": "2019-08-14T12:39:30.376653Z",
     "start_time": "2019-08-14T12:39:30.370217Z"
    }
   },
   "outputs": [
    {
     "ename": "IndentationError",
     "evalue": "expected an indented block (<ipython-input-6-178f3ed7322a>, line 2)",
     "output_type": "error",
     "traceback": [
      "\u001b[0;36m  File \u001b[0;32m\"<ipython-input-6-178f3ed7322a>\"\u001b[0;36m, line \u001b[0;32m2\u001b[0m\n\u001b[0;31m    eggs = 12\u001b[0m\n\u001b[0m       ^\u001b[0m\n\u001b[0;31mIndentationError\u001b[0m\u001b[0;31m:\u001b[0m expected an indented block\n"
     ]
    }
   ],
   "source": [
    "def spam():\n",
    "eggs = 12\n",
    "return eggs\n",
    "\n",
    "print(spam())"
   ]
  },
  {
   "cell_type": "markdown",
   "metadata": {},
   "source": [
    "Abaixo, vemos o mesmo código corrigido:"
   ]
  },
  {
   "cell_type": "code",
   "execution_count": 7,
   "metadata": {
    "ExecuteTime": {
     "end_time": "2019-08-14T12:39:36.210083Z",
     "start_time": "2019-08-14T12:39:36.206445Z"
    }
   },
   "outputs": [
    {
     "name": "stdout",
     "output_type": "stream",
     "text": [
      "12\n"
     ]
    }
   ],
   "source": [
    "def spam():\n",
    "    eggs = 12\n",
    "    return eggs\n",
    "\n",
    "print(spam())"
   ]
  },
  {
   "cell_type": "markdown",
   "metadata": {},
   "source": [
    "### Blocos\n",
    "\n",
    "Como visto acima, Python usa endentação como delimitação de bloco.\n",
    "\n",
    "Abaixo vemos os comandos que aceitam blocos:\n",
    "\n",
    "- if/elif/else\n",
    "- for/else\n",
    "- while/else\n",
    "- def\n",
    "- try/except  /finally/else\n",
    "- class\n",
    "- with\n",
    "\n",
    "Se o bloco tem apenas um comando, pode-se escrever tudo em uma linha:"
   ]
  },
  {
   "cell_type": "code",
   "execution_count": null,
   "metadata": {},
   "outputs": [],
   "source": [
    "if n < 0: print('Valor inválido')"
   ]
  },
  {
   "cell_type": "markdown",
   "metadata": {},
   "source": [
    "## Comentários\n",
    "\n",
    "Em linha."
   ]
  },
  {
   "cell_type": "code",
   "execution_count": null,
   "metadata": {},
   "outputs": [],
   "source": [
    "# comentário de linha\n",
    "\"\"\" Esse é de bloco mas está em uma linha só \"\"\""
   ]
  },
  {
   "cell_type": "markdown",
   "metadata": {},
   "source": [
    "Em bloco."
   ]
  },
  {
   "cell_type": "code",
   "execution_count": null,
   "metadata": {},
   "outputs": [],
   "source": [
    "\"\"\"\n",
    "comentários\n",
    "comentários\n",
    "comentários\n",
    "\"\"\""
   ]
  },
  {
   "cell_type": "markdown",
   "metadata": {},
   "source": [
    "Aspas simples também funciona."
   ]
  },
  {
   "cell_type": "code",
   "execution_count": null,
   "metadata": {},
   "outputs": [],
   "source": [
    "'''\n",
    "this is\n",
    "a multi-line\n",
    "comment, i am handy for commenting out whole\n",
    "chunks of code very fast\n",
    "'''"
   ]
  },
  {
   "cell_type": "markdown",
   "metadata": {},
   "source": [
    "## Tipos de dados básicos\n",
    "\n",
    "| Números:         | int, long, float, complex |\n",
    "| ---------------- | ------------------------- |\n",
    "| Strings:         | str e unicode             |\n",
    "| Listas e tuplas: | list, tuple               |\n",
    "| Dicionários:     | dict                      |\n",
    "| Arquivos:        | file                      |\n",
    "| Booleanos:       | bool (True, False)        |\n",
    "| Conjuntos:       | set, frozenset            |\n",
    "| None:            |                           |\n",
    "\n",
    "Se, por exemplo, você digitar no console `dict` ele retornará:"
   ]
  },
  {
   "cell_type": "code",
   "execution_count": null,
   "metadata": {},
   "outputs": [],
   "source": [
    "<class 'dict'>"
   ]
  },
  {
   "cell_type": "markdown",
   "metadata": {},
   "source": [
    "A função `type()` mostra o tipo do dado, veja alguns exemplos."
   ]
  },
  {
   "cell_type": "code",
   "execution_count": null,
   "metadata": {},
   "outputs": [],
   "source": [
    "type(\"text\")        # <class 'str'>\n",
    "type(1)             # <class 'int'>\n",
    "type(0.99)          # <class 'float'>"
   ]
  },
  {
   "cell_type": "markdown",
   "metadata": {},
   "source": [
    "Também é possível elaborar as seguintes expressões."
   ]
  },
  {
   "cell_type": "code",
   "execution_count": null,
   "metadata": {},
   "outputs": [],
   "source": [
    "type(1) == int      # True\n",
    "type(0.99) == float # True"
   ]
  },
  {
   "cell_type": "markdown",
   "metadata": {},
   "source": [
    "## Números\n",
    "\n",
    "Python possui `+ - * /`, nem precisava falar!.\n",
    "\n",
    "Mas talvez você se pergunte como calcular uma potência."
   ]
  },
  {
   "cell_type": "code",
   "execution_count": null,
   "metadata": {},
   "outputs": [],
   "source": [
    "10 ** 2 # print(100)"
   ]
  },
  {
   "cell_type": "markdown",
   "metadata": {},
   "source": [
    "...ou o resto da divisão com o operador módulo `%`."
   ]
  },
  {
   "cell_type": "code",
   "execution_count": null,
   "metadata": {},
   "outputs": [],
   "source": [
    "3 % 2 = 1\n",
    "5 % 2 = 1"
   ]
  },
  {
   "cell_type": "markdown",
   "metadata": {},
   "source": [
    "Veja também algumas funções matemáticas:"
   ]
  },
  {
   "cell_type": "code",
   "execution_count": null,
   "metadata": {},
   "outputs": [],
   "source": [
    "max(5, 6, 7) # 7\n",
    "min(5, 6, 7) # 5\n",
    "abs(-1)      # 1"
   ]
  },
  {
   "cell_type": "markdown",
   "metadata": {},
   "source": [
    "Para trabalhar com números randômicos será preciso importar o módulo `random`."
   ]
  },
  {
   "cell_type": "code",
   "execution_count": null,
   "metadata": {},
   "outputs": [],
   "source": [
    "import random\n",
    "random.randint(1, 10)"
   ]
  },
  {
   "cell_type": "markdown",
   "metadata": {},
   "source": [
    "O código acima irá gerar números randômicos entre 1 e 10 (incluindo o 1 e o 10).\n",
    "\n",
    "## Strings\n",
    "\n",
    "Concatenamos strings com o sinal `+`."
   ]
  },
  {
   "cell_type": "code",
   "execution_count": null,
   "metadata": {},
   "outputs": [],
   "source": [
    "\"Spam \" + \"and\" + \" eggs\""
   ]
  },
  {
   "cell_type": "markdown",
   "metadata": {},
   "source": [
    "Quando concatenamos com um número, precisamos fazer a conversão."
   ]
  },
  {
   "cell_type": "code",
   "execution_count": null,
   "metadata": {},
   "outputs": [],
   "source": [
    "\"The value of pi is around \" + str(3.14)"
   ]
  },
  {
   "cell_type": "markdown",
   "metadata": {},
   "source": [
    "Escapamos (scape) caracters com o sinal `\\`"
   ]
  },
  {
   "cell_type": "code",
   "execution_count": null,
   "metadata": {},
   "outputs": [],
   "source": [
    "'There's a snake in my boot!'  # errado\n",
    "'There\\'s a snake in my boot!' # correto"
   ]
  },
  {
   "cell_type": "markdown",
   "metadata": {},
   "source": [
    "### Métodos básicos de string\n",
    "\n",
    "| função    | descrição                                                    |\n",
    "| --------- | ------------------------------------------------------------ |\n",
    "| len()     | mostra o tamanho da string                                   |\n",
    "| lower()   | caixa baixa                                                  |\n",
    "| upper()   | caixa alta                                                   |\n",
    "| str()     | converte em string                                           |\n",
    "| isalpha() | retorna False se a string contiver algum caracter que não seja letras |\n",
    "\n",
    "Exemplo, `\"flavio.upper()\"` equivale a `FLAVIO`.\n",
    "\n",
    "### Acessando pelo index"
   ]
  },
  {
   "cell_type": "code",
   "execution_count": null,
   "metadata": {},
   "outputs": [],
   "source": [
    "+---+---+---+---+---+---+\n",
    "| p | y | t | h | o | n |\n",
    "+---+---+---+---+---+---+\n",
    "  0   1   2   3   4   5\n",
    "\"python\"[0] # 'p'\n",
    "\"python\"[1] # 'y'\n",
    "\"python\"[2] # 't'\n",
    "\"python\"[3] # 'h'\n",
    "\"python\"[4] # 'o'\n",
    "\"python\"[5] # 'n'"
   ]
  },
  {
   "cell_type": "markdown",
   "metadata": {},
   "source": [
    "Leia mais sobre [fatiamento de sequências](http://www.devfuria.com.br/python/sequencias-fatiamento/).\n",
    "\n",
    "### Percorrendo strings (string lopping)"
   ]
  },
  {
   "cell_type": "code",
   "execution_count": null,
   "metadata": {},
   "outputs": [],
   "source": [
    "for letter in \"python\":\n",
    "    print(letter)\n",
    "\n",
    "\"\"\"\n",
    "p\n",
    "y\n",
    "t\n",
    "h\n",
    "o\n",
    "n\n",
    "\"\"\""
   ]
  },
  {
   "cell_type": "markdown",
   "metadata": {},
   "source": [
    "Leia mais sobre [strings](http://www.devfuria.com.br/python/strings/).\n",
    "\n",
    "## Controle de fluxo (condicionais)"
   ]
  },
  {
   "cell_type": "code",
   "execution_count": null,
   "metadata": {},
   "outputs": [],
   "source": [
    "if expressao == True:\n",
    "    print(\"true\")\n",
    "else:\n",
    "    print(\"false\")\n",
    "if answer > 5:\n",
    "    return 1\n",
    "elif answer < 5:\n",
    "    return -1\n",
    "else:\n",
    "    return 0"
   ]
  },
  {
   "cell_type": "markdown",
   "metadata": {},
   "source": [
    "Leia mais sobre [estruturas condicionais](http://www.devfuria.com.br/python/estruturas-condicionais/).\n",
    "\n",
    "## Laços de repetição\n",
    "\n",
    "Exemplo com `for`..."
   ]
  },
  {
   "cell_type": "code",
   "execution_count": null,
   "metadata": {},
   "outputs": [],
   "source": [
    "lista = [\"p\", \"y\", \"t\", \"h\", \"o\", \"n\"]\n",
    "for item in lista:\n",
    "    print item\n",
    "\"\"\"\n",
    "p\n",
    "y\n",
    "t\n",
    "h\n",
    "o\n",
    "n\n",
    "\"\"\""
   ]
  },
  {
   "cell_type": "markdown",
   "metadata": {},
   "source": [
    "Exempo com `while`..."
   ]
  },
  {
   "cell_type": "code",
   "execution_count": null,
   "metadata": {},
   "outputs": [],
   "source": [
    "count = 0\n",
    "while count <= 5:\n",
    "    print(count)\n",
    "    count += 1\n",
    "# 0 1 2 3 4 5"
   ]
  },
  {
   "cell_type": "markdown",
   "metadata": {},
   "source": [
    "Leia mais sobre [laços de repetição](http://www.devfuria.com.br/python/lacos-de-repeticao/).\n",
    "\n",
    "## Funções"
   ]
  },
  {
   "cell_type": "code",
   "execution_count": null,
   "metadata": {},
   "outputs": [],
   "source": [
    "def foo():\n",
    "    return \"retorno da função\"\n",
    "\n",
    "print(foo()) # \"retorno da função\""
   ]
  },
  {
   "cell_type": "markdown",
   "metadata": {},
   "source": [
    "Outro exemplo"
   ]
  },
  {
   "cell_type": "code",
   "execution_count": null,
   "metadata": {},
   "outputs": [],
   "source": [
    "def add_two(a, b):\n",
    "    c = a + b\n",
    "    return c"
   ]
  },
  {
   "cell_type": "markdown",
   "metadata": {},
   "source": [
    "Leia mais sobre [funções](http://www.devfuria.com.br/python/functions/).\n",
    "\n",
    "## Imports\n",
    "\n",
    "Para importar um módulo utilizamos o `import`."
   ]
  },
  {
   "cell_type": "code",
   "execution_count": null,
   "metadata": {},
   "outputs": [],
   "source": [
    "import math\n",
    "print(math.sqrt(25))"
   ]
  },
  {
   "cell_type": "markdown",
   "metadata": {},
   "source": [
    "O código acima importará todos os módulos de `math`, para importar apenas o necessário utilizamos `from`."
   ]
  },
  {
   "cell_type": "code",
   "execution_count": null,
   "metadata": {},
   "outputs": [],
   "source": [
    "from math import sqrt"
   ]
  },
  {
   "cell_type": "markdown",
   "metadata": {},
   "source": [
    "No terminal, para diminuir a digitação, costuma-se importar todas as funções de `math` dessa forma:"
   ]
  },
  {
   "cell_type": "code",
   "execution_count": null,
   "metadata": {},
   "outputs": [],
   "source": [
    "from math import *"
   ]
  },
  {
   "cell_type": "markdown",
   "metadata": {},
   "source": [
    "Em geral, a prática do `import *` de um módulo ou pacote é desaprovada, uma vez que muitas vezes dificulta a leitura do código.\n",
    "\n",
    "Leia mais sobre [imports](http://www.devfuria.com.br/python/imports/).\n",
    "\n",
    "## Datas"
   ]
  },
  {
   "cell_type": "code",
   "execution_count": null,
   "metadata": {},
   "outputs": [],
   "source": [
    "from datetime import datetime\n",
    "now = datetime.now()\n",
    "print(now)\n",
    "print(now.year)\n",
    "print(now.month)\n",
    "print(now.day)"
   ]
  },
  {
   "cell_type": "markdown",
   "metadata": {},
   "source": [
    "Para imprimir a data no formato brasileiro:"
   ]
  },
  {
   "cell_type": "code",
   "execution_count": null,
   "metadata": {},
   "outputs": [],
   "source": [
    "print('%s/%s/%s' % (now.day, now.month, now.year))"
   ]
  },
  {
   "cell_type": "markdown",
   "metadata": {},
   "source": [
    "Imprimindo as horas:"
   ]
  },
  {
   "cell_type": "code",
   "execution_count": null,
   "metadata": {},
   "outputs": [],
   "source": [
    "print('%s:%s:%s' % (now.hour, now.minute, now.second))"
   ]
  },
  {
   "cell_type": "markdown",
   "metadata": {},
   "source": [
    "## Listas (lists)"
   ]
  },
  {
   "cell_type": "code",
   "execution_count": null,
   "metadata": {},
   "outputs": [],
   "source": [
    "animals = [\"pangolin\", \"cassowary\", \"sloth\", \"dog\"];\n",
    "animals[0]   # 'pangolin'\n",
    "animals[1]   # 'cassowary'\n",
    "animals[2]   # 'sloth'\n",
    "animals[3]   # 'dog'"
   ]
  },
  {
   "cell_type": "markdown",
   "metadata": {},
   "source": [
    "Ao acessar um índice inexistente recebemos um erro."
   ]
  },
  {
   "cell_type": "code",
   "execution_count": null,
   "metadata": {},
   "outputs": [],
   "source": [
    "animals[4]   # IndexError: list index out of range"
   ]
  },
  {
   "cell_type": "markdown",
   "metadata": {},
   "source": [
    "A função `len()` retorna o tamanho da lista."
   ]
  },
  {
   "cell_type": "code",
   "execution_count": null,
   "metadata": {},
   "outputs": [],
   "source": [
    "len(animals) # 4"
   ]
  },
  {
   "cell_type": "markdown",
   "metadata": {},
   "source": [
    "### Python - O básico de listas  O básico de lista em Python\n",
    "\n",
    "Abaixo temos um exemplo de uma lista:"
   ]
  },
  {
   "cell_type": "code",
   "execution_count": null,
   "metadata": {},
   "outputs": [],
   "source": [
    "animals = [\"pangolin\", \"cassowary\", \"sloth\", \"dog\"];\n",
    "animals[0]   # 'pangolin'\n",
    "animals[1]   # 'cassowary'\n",
    "animals[2]   # 'sloth'\n",
    "animals[3]   # 'dog'"
   ]
  },
  {
   "cell_type": "markdown",
   "metadata": {},
   "source": [
    "Contamos o índice da lista a partir do zero, veja:"
   ]
  },
  {
   "cell_type": "code",
   "execution_count": null,
   "metadata": {},
   "outputs": [],
   "source": [
    "+-------------+-------------+-------------+-------------+-------------+\n",
    "| \"pangolin\"  | \"cassowary\" |   \"sloth\"   |    \"dog\"    |lanca um erro|\n",
    "+-------------+-------------+-------------+-------------+-------------+\n",
    "      0              1             2              3            4"
   ]
  },
  {
   "cell_type": "markdown",
   "metadata": {},
   "source": [
    "Ao acessar um índice inexistente recebemos um erro."
   ]
  },
  {
   "cell_type": "code",
   "execution_count": null,
   "metadata": {},
   "outputs": [],
   "source": [
    "animals[4]   # IndexError: list index out of range"
   ]
  },
  {
   "cell_type": "markdown",
   "metadata": {},
   "source": [
    "Podemos fatiar (leia-se acessar) um lista de diversas formas, veja a matéria sobre [fatiamento de sequencias](http://www.devfuria.com.br/python/sequencias-fatiamento/).\n",
    "\n",
    "### Para criar uma lista\n",
    "\n",
    "Podemos criar uma lista vazia."
   ]
  },
  {
   "cell_type": "code",
   "execution_count": null,
   "metadata": {},
   "outputs": [],
   "source": [
    "lis = []"
   ]
  },
  {
   "cell_type": "markdown",
   "metadata": {},
   "source": [
    "Podemos criar uma lista com alguns itens separados por vírgula."
   ]
  },
  {
   "cell_type": "code",
   "execution_count": null,
   "metadata": {},
   "outputs": [],
   "source": [
    "lis = ['a', 'b', 'c']"
   ]
  },
  {
   "cell_type": "markdown",
   "metadata": {},
   "source": [
    "Podemos criar uma lista através do \"list comprehension\""
   ]
  },
  {
   "cell_type": "code",
   "execution_count": null,
   "metadata": {},
   "outputs": [],
   "source": [
    "[x for x in iterable]"
   ]
  },
  {
   "cell_type": "markdown",
   "metadata": {},
   "source": [
    "Ou também podemos utilizar a função interna (built in) [list()](http://www.devfuria.com.br/python/built-in/list/)."
   ]
  },
  {
   "cell_type": "code",
   "execution_count": null,
   "metadata": {},
   "outputs": [],
   "source": [
    "lis = list() # equivalente a l = []\n",
    "lis = list(['a', 'b', 'c']) # equivalente a l = ['a', 'b, 'c']"
   ]
  },
  {
   "cell_type": "markdown",
   "metadata": {},
   "source": [
    "### Percorrendo a lista (list looping)\n",
    "\n",
    "Abaixo vemos um exemplo de como percorrer um lista na sua forma mas simples."
   ]
  },
  {
   "cell_type": "code",
   "execution_count": null,
   "metadata": {},
   "outputs": [],
   "source": [
    "myList = [1, 2, 3, 4]\n",
    "for number in myList:\n",
    "    print number * 2\n",
    "# 2\n",
    "# 4\n",
    "# 6\n",
    "# 8"
   ]
  },
  {
   "cell_type": "markdown",
   "metadata": {},
   "source": [
    "Abaixo incrementamos a implementação com a função interna [enumarate()](http://www.devfuria.com.br/python/built-in/enumerate). ela irá numerar a lista."
   ]
  },
  {
   "cell_type": "code",
   "execution_count": null,
   "metadata": {},
   "outputs": [],
   "source": [
    "choices = ['pizza', 'pasta', 'salad', 'nachos']\n",
    "\n",
    "print 'Your choices are:'\n",
    "for index, item in enumerate(choices):\n",
    "    print index, item\n",
    "\n",
    "\"\"\"\n",
    "Your choices are:\n",
    "0 pizza\n",
    "1 pasta\n",
    "2 salad\n",
    "3 nachos\n",
    "\"\"\""
   ]
  },
  {
   "cell_type": "markdown",
   "metadata": {},
   "source": [
    "### Copiando listas\n",
    "\n",
    "Se quisermos copiar uma lista podemos realizar uma simples atribuição, mas manteremos uma relação entre as duas, ou melhor, ambas apontam para o mesmo objeto e as alterações em uma afetará a outra."
   ]
  },
  {
   "cell_type": "code",
   "execution_count": null,
   "metadata": {},
   "outputs": [],
   "source": [
    "list_a = [6, 7, 8, 9]\n",
    "list_b = lista_a"
   ]
  },
  {
   "cell_type": "markdown",
   "metadata": {},
   "source": [
    "Temos uma cópia mas ambas apontam para o mesmo objeto.\n",
    "\n",
    "### Clonando listas\n",
    "\n",
    "Se quisermos copiar uma lista sem manter a referência entre elas, podemos utilizar o operador de fatia `[:]`."
   ]
  },
  {
   "cell_type": "code",
   "execution_count": null,
   "metadata": {},
   "outputs": [],
   "source": [
    "list_a = [6, 7, 8, 9]\n",
    "list_b = lista_a[:]"
   ]
  },
  {
   "cell_type": "markdown",
   "metadata": {},
   "source": [
    "Temos cópias independentes, um clone.\n",
    "\n",
    "### Juntando listas (join lists)"
   ]
  },
  {
   "cell_type": "code",
   "execution_count": null,
   "metadata": {},
   "outputs": [],
   "source": [
    "m = [1, 2, 3]\n",
    "n = [4, 5, 6]\n",
    "o = m + n\n",
    "print(o) # [1, 2, 3, 4, 5, 6]\n",
    "\n",
    "o += [7, 8, 9]\n",
    "print(o) # [1, 2, 3, 4, 5, 6, 7, 8, 9]"
   ]
  },
  {
   "cell_type": "markdown",
   "metadata": {},
   "source": [
    "### Funções nativas para listas\n",
    "\n",
    "#### append()"
   ]
  },
  {
   "cell_type": "code",
   "execution_count": null,
   "metadata": {},
   "outputs": [],
   "source": [
    "nums = [\"um\"]\n",
    "print(nums) # ['um']\n",
    "\n",
    "nums.append(\"dois\")\n",
    "nums.append(\"tres\")\n",
    "nums.append(\"quatro\")\n",
    "print(nums) # ['um', 'dois', 'tres', 'quatro']"
   ]
  },
  {
   "cell_type": "markdown",
   "metadata": {},
   "source": [
    "#### index()\n",
    "\n",
    "A função `index()` retorna o index de determinado elemento."
   ]
  },
  {
   "cell_type": "code",
   "execution_count": null,
   "metadata": {},
   "outputs": [],
   "source": [
    "animals = [\"ant\", \"bat\", \"cat\"]\n",
    "print(animals.index(\"bat\")) # 1"
   ]
  },
  {
   "cell_type": "markdown",
   "metadata": {},
   "source": [
    "Se você procurar por um item que não existe um erro será lançado."
   ]
  },
  {
   "cell_type": "code",
   "execution_count": null,
   "metadata": {},
   "outputs": [],
   "source": [
    "print(animals.index(\"dog\")\n",
    "Traceback (most recent call last):\n",
    "  File \"<stdin>\", line 1, in <module>\n",
    "ValueError: 'dog' is not in list"
   ]
  },
  {
   "cell_type": "markdown",
   "metadata": {},
   "source": [
    "Por tanto, se o seu objetivo é saber se um item pertence a lista utilize o operador de teste de inlclusão `in`."
   ]
  },
  {
   "cell_type": "code",
   "execution_count": null,
   "metadata": {},
   "outputs": [],
   "source": [
    ">>> animals = [\"ant\", \"bat\", \"cat\"]\n",
    ">>> 'dog' in animals\n",
    "False\n",
    ">>> 'cat' in animals\n",
    "True"
   ]
  },
  {
   "cell_type": "markdown",
   "metadata": {},
   "source": [
    "#### insert()"
   ]
  },
  {
   "cell_type": "code",
   "execution_count": null,
   "metadata": {},
   "outputs": [],
   "source": [
    "animals = [\"ant\", \"bat\", \"cat\"]\n",
    "animals.insert(1, \"dog\")\n",
    "print(animals) # [\"ant\", \"dog\", \"bat\", \"cat\"]"
   ]
  },
  {
   "cell_type": "markdown",
   "metadata": {},
   "source": [
    "#### remove()\n",
    "\n",
    "Remove através do valor"
   ]
  },
  {
   "cell_type": "code",
   "execution_count": null,
   "metadata": {},
   "outputs": [],
   "source": [
    "animals = [\"ant\", \"bat\", \"cat\"]\n",
    "animals.remove(\"ant\")\n",
    "print(animals) # [\"bat\", \"cat\"]"
   ]
  },
  {
   "cell_type": "markdown",
   "metadata": {},
   "source": [
    "#### pop()\n",
    "\n",
    "Remove através do índice (retorna o valor removido)."
   ]
  },
  {
   "cell_type": "code",
   "execution_count": null,
   "metadata": {},
   "outputs": [],
   "source": [
    "animals = [\"ant\", \"bat\", \"cat\"]\n",
    "animals.pop(0) # 'ant'\n",
    "print(animals) # [\"bat\", \"cat\"]"
   ]
  },
  {
   "cell_type": "markdown",
   "metadata": {},
   "source": [
    "Semelhante a utilização de `del()`:"
   ]
  },
  {
   "cell_type": "code",
   "execution_count": null,
   "metadata": {},
   "outputs": [],
   "source": [
    "animals = [\"ant\", \"bat\", \"cat\"]\n",
    "del(animals[0])\n",
    "print(animals) # [\"bat\", \"cat\"]"
   ]
  },
  {
   "cell_type": "markdown",
   "metadata": {},
   "source": [
    "#### sort()"
   ]
  },
  {
   "cell_type": "code",
   "execution_count": null,
   "metadata": {},
   "outputs": [],
   "source": [
    "lista = [\"c\", \"b\", \"a\"]\n",
    "print(lista) # ['c', 'b', 'a']\n",
    "\n",
    "lista.sort()\n",
    "print(lista) # ['a', 'b', 'c']"
   ]
  },
  {
   "cell_type": "markdown",
   "metadata": {},
   "source": [
    "Para ordenar uma lista também é possível utilizar a função interna [sorted()](https://docs.python.org/3.4/library/functions.html#sorted), exemplo:"
   ]
  },
  {
   "cell_type": "code",
   "execution_count": null,
   "metadata": {},
   "outputs": [],
   "source": [
    "sorted([5, 2, 3, 1, 4]) # [1, 2, 3, 4, 5]"
   ]
  },
  {
   "cell_type": "markdown",
   "metadata": {},
   "source": [
    "Uma observação importante é que a função `sort()` não retorna a lista, então..."
   ]
  },
  {
   "cell_type": "code",
   "execution_count": null,
   "metadata": {},
   "outputs": [],
   "source": [
    "lista = [\"c\", \"b\", \"a\"]\n",
    "print(lista.sort()) # None"
   ]
  },
  {
   "cell_type": "markdown",
   "metadata": {},
   "source": [
    "... já a função `sorted()` retorna a lista `['a', 'b', 'c']` veja:"
   ]
  },
  {
   "cell_type": "code",
   "execution_count": null,
   "metadata": {
    "lines_to_next_cell": 2
   },
   "outputs": [],
   "source": [
    "lista = [\"c\", \"b\", \"a\"]\n",
    "print(sorted(lista))\n",
    "# ['a', 'b', 'c']"
   ]
  },
  {
   "cell_type": "markdown",
   "metadata": {},
   "source": [
    "##    range()\n",
    "\n",
    "A função `range()` retorna uma lista de inteiros. Seu conteúdo é definido pelos argumentos, veja:\n",
    "\n",
    "- range(terminal)\n",
    "- range(start, terminal)\n",
    "- range(start, terminal, step_size)\n",
    "\n",
    "Exemplos:"
   ]
  },
  {
   "cell_type": "code",
   "execution_count": null,
   "metadata": {},
   "outputs": [],
   "source": [
    "range(4)\n",
    "[0, 1, 2, 3]\n",
    "\n",
    "range(2, 8)\n",
    "[2, 3, 4, 5, 6, 7]\n",
    "\n",
    "range(2, 13, 3)\n",
    "[2, 5, 8, 11]"
   ]
  },
  {
   "cell_type": "markdown",
   "metadata": {},
   "source": [
    "Percorrendo (lopping):"
   ]
  },
  {
   "cell_type": "code",
   "execution_count": null,
   "metadata": {},
   "outputs": [],
   "source": [
    "for i in range(20):\n",
    "    print(i)"
   ]
  },
  {
   "cell_type": "markdown",
   "metadata": {},
   "source": [
    "## Dicionários (dictionaries)"
   ]
  },
  {
   "cell_type": "code",
   "execution_count": null,
   "metadata": {},
   "outputs": [],
   "source": [
    "people = {\n",
    "    \"name\": \"joao\",\n",
    "    \"age\": 39,\n",
    "    \"skylls\": ['python', 'ruby', 'php']\n",
    "}\n",
    "\n",
    "print(people['name'])\n",
    "print(people['age'])\n",
    "print(people['skylls'])\n",
    "\n",
    "\"\"\"\n",
    "joao\n",
    "40\n",
    "['python', 'ruby', 'php']\n",
    "\"\"\""
   ]
  },
  {
   "cell_type": "markdown",
   "metadata": {},
   "source": [
    "Leia mais sobre [dicinonários](http://www.devfuria.com.br/python/dicionarios-dictionaries/).\n",
    "\n",
    "## Lambdas\n",
    "\n",
    "Exemplo:"
   ]
  },
  {
   "cell_type": "code",
   "execution_count": null,
   "metadata": {},
   "outputs": [],
   "source": [
    "g = lambda x: x * 2\n",
    "print(g(6))\n",
    "# 12"
   ]
  },
  {
   "cell_type": "markdown",
   "metadata": {},
   "source": [
    "Para facilitar o entendimento, veja código abaixo, ele é similar."
   ]
  },
  {
   "cell_type": "code",
   "execution_count": null,
   "metadata": {},
   "outputs": [],
   "source": [
    "def f(x):\n",
    "    return x * 2\n",
    "print(f(6))\n",
    "# 12"
   ]
  },
  {
   "cell_type": "markdown",
   "metadata": {},
   "source": [
    "## OOP - Programação Orientada a Objetos\n",
    "\n",
    "Abaixo vemos um exemplo de classe em Python."
   ]
  },
  {
   "cell_type": "code",
   "execution_count": null,
   "metadata": {},
   "outputs": [],
   "source": [
    "class Triangle(object):\n",
    "\n",
    "    def __init__(self, angle1, angle2, angle3):\n",
    "        self.angle1 = angle1\n",
    "        self.angle2 = angle2\n",
    "        self.angle3 = angle3\n",
    "\n",
    "    def sum_triangle(self):\n",
    "        return self.angle1 + self.angle2 + self.angle3\n",
    "\n",
    "    def check_angles(self):\n",
    "        if(self.triangle() == 180):\n",
    "            return True\n",
    "        else:\n",
    "            return False"
   ]
  },
  {
   "cell_type": "markdown",
   "metadata": {},
   "source": [
    "Abaixo vemos um exemplo simples de como **instanciar** uma classe em Python."
   ]
  },
  {
   "cell_type": "code",
   "execution_count": null,
   "metadata": {},
   "outputs": [],
   "source": [
    "figure = Triangle(30, 40, 50)"
   ]
  },
  {
   "cell_type": "markdown",
   "metadata": {},
   "source": [
    "Leia mais sobre [Programação Orientada a Objetos](http://www.devfuria.com.br/python/programacao-orientada-objetos/).\n"
   ]
  },
  {
   "cell_type": "markdown",
   "metadata": {},
   "source": [
    "# Programação Orientada a Objetos em Python  \n",
    "\n",
    "Este artigo é um primeiro passo em direção a programação orientada a objetos através da linguagem Python\n",
    "\n",
    "Uma classe consiste da palavra chave `class` seguida de seu nome e da classe herdada entre parênteses.\n",
    "\n",
    "Abaixo, criamos a classe vazia `Car` que herda de `object`."
   ]
  },
  {
   "cell_type": "code",
   "execution_count": null,
   "metadata": {},
   "outputs": [],
   "source": [
    "class Carro(object):\n",
    "    pass"
   ]
  },
  {
   "cell_type": "markdown",
   "metadata": {},
   "source": [
    "A palavra `pass` serve para criarmos um classe vazia.\n",
    "\n",
    "Podemos definir a classe sem especificar a herança como no exemplo abaixo."
   ]
  },
  {
   "cell_type": "code",
   "execution_count": null,
   "metadata": {},
   "outputs": [],
   "source": [
    "class Carro():\n",
    "    pass"
   ]
  },
  {
   "cell_type": "markdown",
   "metadata": {},
   "source": [
    "Mas é uma convenção comum sempre herdar de `object`, a não ser, obviamente, que você decida herdar de outra classe.\n",
    "\n",
    "As classes antigas que não seguem esse estilo são consideradas \"old style\".\n",
    "\n",
    "## Instanciando\n",
    "\n",
    "Para instanciar a classe não é preciso o operador `new` muito comum em outras linguagens."
   ]
  },
  {
   "cell_type": "code",
   "execution_count": null,
   "metadata": {},
   "outputs": [],
   "source": [
    "Fusca = Carro()"
   ]
  },
  {
   "cell_type": "markdown",
   "metadata": {},
   "source": [
    "## Instâncias Abertas\n",
    "\n",
    "> Instâncias podem receber atributos (propriedades) dinamicamente, por isso às vezes é útil criar classes vazias. (Luciano Ramalho)\n",
    "\n",
    "Em outras palavras, podemos definir as propriedades dinamicamente."
   ]
  },
  {
   "cell_type": "code",
   "execution_count": null,
   "metadata": {},
   "outputs": [],
   "source": [
    "class Carro(object):\n",
    "    pass\n",
    "\n",
    "Fusca = Carro(object)\n",
    "fusca.estado = \"novo\"\n",
    "print(fusca.estado) # novo"
   ]
  },
  {
   "cell_type": "markdown",
   "metadata": {},
   "source": [
    "O atributo definido dessa forma é considerado **da instância**.\n",
    "\n",
    "## Atributos da classe\n",
    "\n",
    "Podemos definir a propriedade (o atributo) na classe."
   ]
  },
  {
   "cell_type": "code",
   "execution_count": null,
   "metadata": {},
   "outputs": [],
   "source": [
    "class Carro(object):\n",
    "   estado = \"novo\"\n",
    "\n",
    "print(Carro.estado) # 'novo'"
   ]
  },
  {
   "cell_type": "markdown",
   "metadata": {},
   "source": [
    "Note bem o código acima, reparou que não precisamos instanciar a classe ? Simplesmente acessamos o atributo (que é da classe) diretamente `Carro.estado`.\n",
    "\n",
    "Por outro lado, repare que a propriedade também se encontra disponível nas instâncias."
   ]
  },
  {
   "cell_type": "code",
   "execution_count": null,
   "metadata": {},
   "outputs": [],
   "source": [
    "c = Carro()\n",
    "print(c.estado) # novo"
   ]
  },
  {
   "cell_type": "markdown",
   "metadata": {},
   "source": [
    "Em Python precisamos atentar que \"as coisas\" ou são da classe ou são da instância.\n",
    "\n",
    "## self explícito\n",
    "\n",
    "Esta é uma peculiaridade da linguagem.\n",
    "\n",
    "Fazemos referência a classe através da palavra `self` e todo método deve aceitar como (primeiro) parâmetro a palavra `self` que se refere ao próprio objeto."
   ]
  },
  {
   "cell_type": "code",
   "execution_count": null,
   "metadata": {},
   "outputs": [],
   "source": [
    "class Carro(object):\n",
    "    def dirigir(self):\n",
    "        self.estado = \"usado\"\n",
    "\n",
    "c = Carro()\n",
    "print(c.estado) # AttributeError: 'Carro' object has no attribute 'estado'\n",
    "c.dirigir()\n",
    "print(c.estado) # 'usado'"
   ]
  },
  {
   "cell_type": "markdown",
   "metadata": {},
   "source": [
    "Podemos alterar as propriedades através dos métodos."
   ]
  },
  {
   "cell_type": "code",
   "execution_count": null,
   "metadata": {},
   "outputs": [],
   "source": [
    "class Carro(object):\n",
    "    estado = \"novo\"\n",
    "    def dirigir(self):\n",
    "        self.estado = \"usado\"\n",
    "\n",
    "#\n",
    "# 1 exemplo\n",
    "#\n",
    "porsche = Carro()\n",
    "porsche.dirigir()\n",
    "print(porsche.estado) # usado\n",
    "\n",
    "#\n",
    "# 2 exemplo\n",
    "#\n",
    "ferrari = Carro()\n",
    "print(ferrari.estado) # novo"
   ]
  },
  {
   "cell_type": "markdown",
   "metadata": {},
   "source": [
    "## Método construtor __init__\n",
    "\n",
    "Abaixo, criamos a classe `Carro` com um método construtor `__init__`. Neste exemplo, somos obrigados a instanciar a classe passando exatamente um parâmetro, nem mais nem menos."
   ]
  },
  {
   "cell_type": "code",
   "execution_count": null,
   "metadata": {},
   "outputs": [],
   "source": [
    "class Carro(object):\n",
    "    def __init__(self, estado):\n",
    "        self.estado = estado\n",
    "\n",
    "bmw = Carro('semi-novo')\n",
    "print(bmw.estado) # 'semi-novo'"
   ]
  },
  {
   "cell_type": "markdown",
   "metadata": {},
   "source": [
    "## Herança"
   ]
  },
  {
   "cell_type": "code",
   "execution_count": null,
   "metadata": {},
   "outputs": [],
   "source": [
    "class Veiculo(object):\n",
    "    estado = \"novo\"\n",
    "\n",
    "class Carro(Veiculo):\n",
    "    pass\n",
    "\n",
    "bmw = Carro()\n",
    "print(bmw.estado) # 'novo'"
   ]
  }
 ],
 "metadata": {
  "finalized": {
   "timestamp": 1575292239455,
   "trusted": false
  },
  "jupytext": {
   "cell_metadata_filter": "-all",
   "notebook_metadata_filter": "-all",
   "text_representation": {
    "extension": ".md",
    "format_name": "markdown"
   }
  },
  "kernelspec": {
   "display_name": "Visbrain",
   "language": "python",
   "name": "visbrain"
  },
  "language_info": {
   "codemirror_mode": {
    "name": "ipython",
    "version": 3
   },
   "file_extension": ".py",
   "mimetype": "text/x-python",
   "name": "python",
   "nbconvert_exporter": "python",
   "pygments_lexer": "ipython3",
   "version": "3.6.9"
  },
  "latex_envs": {
   "LaTeX_envs_menu_present": true,
   "autoclose": false,
   "autocomplete": false,
   "bibliofile": "biblio.bib",
   "cite_by": "apalike",
   "current_citInitial": 1,
   "eqLabelWithNumbers": true,
   "eqNumInitial": 1,
   "hotkeys": {
    "equation": "Ctrl-E",
    "itemize": "Ctrl-I"
   },
   "labels_anchors": false,
   "latex_user_defs": false,
   "report_style_numbering": false,
   "user_envs_cfg": false
  },
  "nbTranslate": {
   "displayLangs": [
    "pt",
    "en"
   ],
   "hotkey": "alt-t",
   "langInMainMenu": true,
   "sourceLang": "en",
   "targetLang": "pt",
   "useGoogleTranslate": true
  },
  "toc": {
   "base_numbering": 1,
   "nav_menu": {},
   "number_sections": true,
   "sideBar": true,
   "skip_h1_title": false,
   "title_cell": "Table of Contents",
   "title_sidebar": "Contents",
   "toc_cell": false,
   "toc_position": {},
   "toc_section_display": true,
   "toc_window_display": false
  }
 },
 "nbformat": 4,
 "nbformat_minor": 2
}
