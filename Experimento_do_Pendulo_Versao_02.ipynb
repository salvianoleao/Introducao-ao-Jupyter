{
 "cells": [
  {
   "cell_type": "markdown",
   "metadata": {},
   "source": [
    "# Experimentos: Medida do período de um pêndulo simples"
   ]
  },
  {
   "cell_type": "markdown",
   "metadata": {},
   "source": [
    "## Medição do período na aproximação de pequenos ângulos.\n",
    "\n",
    "\n",
    "A medida deve ser feita para 4 comprimento diferentes. Note que o erro da media do comprimento $U_l$ é dado por:\n",
    "\n",
    "$$\n",
    "u_l=\\frac{\\Delta r}{\\sqrt{3}} \n",
    "$$\n",
    "\n",
    "mas como $\\Delta r = 1,0$ mm, temos então que $u_l=0,58$ mm.\n",
    "\n",
    "\n",
    "| Comprimento | Tamanho (mm) | Erro $u_l$  (mm) |\n",
    "| :---------- | ------------ | ---------------- |\n",
    "| $L_1$       | 700,00       | 0,58             |\n",
    "| $L_2$       | 750,00       | 0,58             |\n",
    "| $L_3$       | 800,00       | 0,58             |\n",
    "| $L_4$       | 850,00       | 0,58             |\n",
    "\n",
    "Para cada comprimento devemos medir 15 vezes o valor do período. Considerando $g=9.78$ m/s$^2$\n",
    "\n",
    " \n",
    "\n",
    "| Medida ($L_1 = 700,00$ mm) | Período |\n",
    "| -------------------------- | ------- |\n",
    "| 1                          | 1.4063  |\n",
    "| 2                          | 1.4063  |\n",
    "| ...                        | ...     |\n",
    "| 14                         | 1.4063  |\n",
    "| 15                         | 1.4063  |\n",
    "| Média                      | 1.4063  |\n",
    "| Desvio padrão              | 0       |\n",
    "\n",
    "\n",
    "\n",
    "| Medida ($L_2 = 750,00$ mm) | Período |\n",
    "| -------------------------- | ------- |\n",
    "| 1                          | 1.5069  |\n",
    "| 2                          | 1.5069  |\n",
    "| ...                        | ...     |\n",
    "| 14                         | 1.5069  |\n",
    "| 15                         | 1.5069  |\n",
    "| Média                      | 1.5069  |\n",
    "| Desvio padrão              | 0       |\n",
    "\n",
    "\n",
    "\n",
    "| Medida ($L_3 = 800,00$ mm) | Período |\n",
    "| -------------------------- | ------- |\n",
    "| 1                          | 1.6073  |\n",
    "| 2                          | 1.6073  |\n",
    "| ...                        | ...     |\n",
    "| 14                         | 1.6073  |\n",
    "| 15                         | 1.6073  |\n",
    "| Média                      | 1.6073  |\n",
    "| Desvio padrão              | 0       |\n",
    "\n",
    "\n",
    "\n",
    "| Medida ($L_4 = 850,00$ mm) | Período |\n",
    "| -------------------------- | ------- |\n",
    "| 1                          | 1.7078  |\n",
    "| 2                          | 1.7078  |\n",
    "| ...                        | ...     |\n",
    "| 14                         | 1.7078  |\n",
    "| 15                         | 1.7078  |\n",
    "| Média                      | 1.7078  |\n",
    "| Desvio padrão              | 0       |\n",
    "\n",
    "\n",
    "Solte o pêndulo de um ângulo menor ou igual a $10^{\\circ}$, conforme ilustrado pela figura ao lado. Meça três vezes o período de uma oscilação completa com o cronômetro.\n",
    "\n",
    "- **Período do pêndulo para  $L_1$ :** 1.4063 s\n",
    "- **Período do pêndulo para  $L_2$ :** 1.5069 s\n",
    "- **Período do pêndulo para  $L_3$ :** 1.6073 s\n",
    "- **Período do pêndulo para  $L_4$ :** 1.7078 s\n",
    "\n",
    "\n",
    "$$\n",
    "\\boxed{ T^2 =\\frac{4\\pi^2}{g} \\ell} \\qquad\\qquad \\text{ou} \\qquad\\qquad \\boxed{ T = \\sqrt{\\frac{4\\pi^2}{g} \\ell} }\n",
    "$$\n",
    "\n",
    "\n",
    "\n",
    "| $N$  | $L$ (mm)  | $T$ (s) | $T^2$ (s$^2$) | $L\\cdot T^2$ (m$\\cdot$s$^2$) | $L^2$ (m$^2$) |\n",
    "| ---- | :-------- | :------ | :------------ | :--------------------------- | :------------ |\n",
    "| 1    | 700,00    | 1.4063  | 1.9777        | 1.3844                       | 0.4900        |\n",
    "| 2    | 750,00    | 1.5069  | 2.2707        | 1.7030                       | 0.5625        |\n",
    "| 3    | 800,00    | 1.6073  | 2.5834        | 2.0667                       | 0.6400        |\n",
    "| 4    | 850,00    | 1.7078  | 2.9166        | 2.4791                       | 0.7225        |\n",
    "| $\\sum$ | 3100,00 | 6.2283  | 9.7484        | 7.6332                       | 2.4150        |\n"
   ]
  },
  {
   "cell_type": "markdown",
   "metadata": {},
   "source": [
    "# Gerando os resultado experimentais "
   ]
  },
  {
   "cell_type": "markdown",
   "metadata": {},
   "source": [
    "Será necessário instalar a biblioteca \n",
    "\n",
    "```bash\n",
    "sudo -H pip3 install scikit-learn\n",
    "```\n",
    " \n",
    "Para os usuários do Anaconda\n",
    "\n",
    "\n",
    "```bash\n",
    "conda install scikit-learn\n",
    "```\n",
    " \n",
    "Para os usuários do Anaconda\n",
    "\n",
    "\n",
    "\n",
    "Para maiores detalhes sobre a biblioteca pandas veja:\n",
    "\n",
    "- [Pandas](https://pandas.pydata.org/pandas-docs/stable/ecosystem.html)\n",
    "\n",
    "- [scikit-learn](https://scikit-learn.org/stable/documentation.html)\n",
    "\n",
    "- [Estatística Descritiva com Python](http://felipegalvao.com.br/blog/2016/03/31/estatistica-descritiva-com-python/)\n"
   ]
  },
  {
   "cell_type": "code",
   "execution_count": 1,
   "metadata": {
    "ExecuteTime": {
     "end_time": "2019-08-14T17:26:16.835092Z",
     "start_time": "2019-08-14T17:26:09.859177Z"
    }
   },
   "outputs": [],
   "source": [
    "# Importando as biblioteca a serem usada\n",
    "import numpy as np                  # obtém acesso aos rápidos arrays da numpy \n",
    "import matplotlib.pyplot as plt     # Para fazer os gráficos das funções\n",
    "import pandas as pd                 # Para ler e fazer as tabelas de dados\n",
    "from sklearn.linear_model import LinearRegression  # Faz a regressão linear\n",
    "# permite que se mostre os gráficos nesse ambiente\n",
    "%matplotlib inline "
   ]
  },
  {
   "cell_type": "code",
   "execution_count": 2,
   "metadata": {
    "ExecuteTime": {
     "end_time": "2019-08-14T14:31:45.334253Z",
     "start_time": "2019-08-14T14:31:45.329911Z"
    }
   },
   "outputs": [
    {
     "name": "stdout",
     "output_type": "stream",
     "text": [
      "0.059297467112726765\n"
     ]
    }
   ],
   "source": [
    "# Essa função gera um número aleatório\n",
    "a = np.random.rand()\n",
    "print(a)"
   ]
  },
  {
   "cell_type": "code",
   "execution_count": 2,
   "metadata": {
    "ExecuteTime": {
     "end_time": "2019-08-14T17:26:16.857358Z",
     "start_time": "2019-08-14T17:26:16.850825Z"
    }
   },
   "outputs": [],
   "source": [
    "g=9.782\n",
    "def periodo_rnd(l, taxa):\n",
    "    aux = l*((4.0*np.pi*np.pi)/g)\n",
    "    if np.random.rand() >= 0.50 :\n",
    "        t = aux + taxa*aux*np.random.rand()\n",
    "    else:\n",
    "        t = aux - taxa*aux*np.random.rand()\n",
    "    return np.sqrt(t)    "
   ]
  },
  {
   "cell_type": "code",
   "execution_count": 3,
   "metadata": {
    "ExecuteTime": {
     "end_time": "2019-08-14T17:26:27.264622Z",
     "start_time": "2019-08-14T17:26:27.258405Z"
    }
   },
   "outputs": [
    {
     "name": "stdout",
     "output_type": "stream",
     "text": [
      "1.7091449349247236\n",
      "1.6802938065831585\n",
      "1.711266850724171\n",
      "1.7167873195416656\n",
      "1.6400582683096236\n",
      "1.6741680844504851\n",
      "1.6897735406700611\n",
      "1.6979656367090559\n",
      "1.7221845437854808\n",
      "1.6529488947363806\n"
     ]
    }
   ],
   "source": [
    "# Aqui vemos que há um resultado diferente toda vez que a função é chamada\n",
    "tx =0.05\n",
    "for x in range(0,10):\n",
    "    print(periodo_rnd(0.7, tx))"
   ]
  },
  {
   "cell_type": "code",
   "execution_count": 5,
   "metadata": {
    "ExecuteTime": {
     "end_time": "2019-08-14T14:31:45.420846Z",
     "start_time": "2019-08-14T14:31:45.364925Z"
    }
   },
   "outputs": [
    {
     "data": {
      "text/plain": [
       "1.680796206157556"
      ]
     },
     "execution_count": 5,
     "metadata": {},
     "output_type": "execute_result"
    }
   ],
   "source": [
    "periodo_rnd(0.7,0.0)"
   ]
  },
  {
   "cell_type": "markdown",
   "metadata": {},
   "source": [
    "Vamoas construir o primeiro conjunto de dados"
   ]
  },
  {
   "cell_type": "code",
   "execution_count": 6,
   "metadata": {
    "ExecuteTime": {
     "end_time": "2019-08-14T14:31:45.433956Z",
     "start_time": "2019-08-14T14:31:45.423425Z"
    }
   },
   "outputs": [],
   "source": [
    "# Tabela 1\n",
    "n=15   # Número de medidas\n",
    "L=0.7\n",
    "tx=0.05\n",
    "Nome = str('Tabela_L_')+str(int(L*1000))+'.dat'\n",
    "f = open(Nome , 'w')\n",
    "for i in range(1,n+1):\n",
    "    linha = str(i)+\"\\t\"+str(periodo_rnd(L,tx)) +\"\\n\"\n",
    "    f.write( linha )\n",
    "f.close()"
   ]
  },
  {
   "cell_type": "code",
   "execution_count": 7,
   "metadata": {
    "ExecuteTime": {
     "end_time": "2019-08-14T14:31:45.556888Z",
     "start_time": "2019-08-14T14:31:45.436685Z"
    }
   },
   "outputs": [
    {
     "name": "stdout",
     "output_type": "stream",
     "text": [
      "1\t1.6518753743078607\r\n",
      "2\t1.651926654976219\r\n",
      "3\t1.642190587605288\r\n",
      "4\t1.7126908825361051\r\n",
      "5\t1.6689871957659377\r\n",
      "6\t1.6926458428651416\r\n",
      "7\t1.6723212314201206\r\n",
      "8\t1.662759989148853\r\n",
      "9\t1.6467688898230455\r\n",
      "10\t1.6650077433191304\r\n",
      "11\t1.6485867282213704\r\n",
      "12\t1.6792222464976638\r\n",
      "13\t1.6866467666730782\r\n",
      "14\t1.6541308429149264\r\n",
      "15\t1.7215144982358541\r\n"
     ]
    }
   ],
   "source": [
    "! cat Tabela_L_700.dat"
   ]
  },
  {
   "cell_type": "code",
   "execution_count": 8,
   "metadata": {
    "ExecuteTime": {
     "end_time": "2019-08-14T14:31:45.680310Z",
     "start_time": "2019-08-14T14:31:45.561922Z"
    }
   },
   "outputs": [],
   "source": [
    "# Remove o arquivo anterior\n",
    "! rm -f Tabela_L_700.dat"
   ]
  },
  {
   "cell_type": "code",
   "execution_count": 9,
   "metadata": {
    "ExecuteTime": {
     "end_time": "2019-08-14T14:31:45.689589Z",
     "start_time": "2019-08-14T14:31:45.684877Z"
    }
   },
   "outputs": [],
   "source": [
    "# Gera tabela dat/csv sem cabeçalho\n",
    "def gera_tab(n,L,tx):\n",
    "    Nome = str('Tabela_L_')+str(int(L*1000))+'.csv'\n",
    "    f = open(Nome , 'w')\n",
    "    for i in range(1,n+1):\n",
    "        linha = str(i)+\"\\t\"+str(periodo_rnd(L,tx)) +\"\\n\"\n",
    "        f.write( linha )\n",
    "    f.close()"
   ]
  },
  {
   "cell_type": "code",
   "execution_count": 10,
   "metadata": {
    "ExecuteTime": {
     "end_time": "2019-08-14T14:31:45.698961Z",
     "start_time": "2019-08-14T14:31:45.692688Z"
    }
   },
   "outputs": [],
   "source": [
    "# Tabela 2\n",
    "gera_tab(15,0.75,0.05)"
   ]
  },
  {
   "cell_type": "code",
   "execution_count": 11,
   "metadata": {
    "ExecuteTime": {
     "end_time": "2019-08-14T14:31:45.840022Z",
     "start_time": "2019-08-14T14:31:45.701190Z"
    }
   },
   "outputs": [
    {
     "name": "stdout",
     "output_type": "stream",
     "text": [
      "1\t1.7623439930838756\r\n",
      "2\t1.7567661325217478\r\n",
      "3\t1.721951883232439\r\n",
      "4\t1.773177171941971\r\n",
      "5\t1.754591256953523\r\n",
      "6\t1.7294604414664314\r\n",
      "7\t1.7652703380718013\r\n",
      "8\t1.7067944505129302\r\n",
      "9\t1.725237825818547\r\n",
      "10\t1.726998719360813\r\n",
      "11\t1.706914399252665\r\n",
      "12\t1.701227051487356\r\n",
      "13\t1.705759954258108\r\n",
      "14\t1.7039906177283206\r\n",
      "15\t1.7478767419851213\r\n"
     ]
    }
   ],
   "source": [
    "! cat Tabela_L_750.csv"
   ]
  },
  {
   "cell_type": "code",
   "execution_count": 12,
   "metadata": {
    "ExecuteTime": {
     "end_time": "2019-08-14T14:31:45.848780Z",
     "start_time": "2019-08-14T14:31:45.842191Z"
    }
   },
   "outputs": [],
   "source": [
    "# Gerando Tabela 3\n",
    "gera_tab(15,0.80,0.05)\n",
    "# Gerando tabela 4\n",
    "gera_tab(15,0.85,0.05)"
   ]
  },
  {
   "cell_type": "code",
   "execution_count": 13,
   "metadata": {
    "ExecuteTime": {
     "end_time": "2019-08-14T14:31:45.976270Z",
     "start_time": "2019-08-14T14:31:45.851493Z"
    }
   },
   "outputs": [
    {
     "name": "stdout",
     "output_type": "stream",
     "text": [
      "1\t1.7744640441488906\r\n",
      "2\t1.7932752942623\r\n",
      "3\t1.8269151124732812\r\n",
      "4\t1.7988156271257263\r\n",
      "5\t1.7765663444193849\r\n",
      "6\t1.80566146351299\r\n",
      "7\t1.8340678794512848\r\n",
      "8\t1.7538056183382427\r\n",
      "9\t1.7959527937451176\r\n",
      "10\t1.8242259793510012\r\n",
      "11\t1.805253596564297\r\n",
      "12\t1.754002209583415\r\n",
      "13\t1.7580339990082674\r\n",
      "14\t1.8239787979069564\r\n",
      "15\t1.793308331962064\r\n"
     ]
    }
   ],
   "source": [
    "! cat Tabela_L_800.csv"
   ]
  },
  {
   "cell_type": "code",
   "execution_count": 34,
   "metadata": {
    "ExecuteTime": {
     "end_time": "2019-08-14T17:35:28.900864Z",
     "start_time": "2019-08-14T17:35:28.786668Z"
    }
   },
   "outputs": [],
   "source": [
    "# Remove os arquivos anteriores\n",
    "! rm -f Tabela_L_*.csv"
   ]
  },
  {
   "cell_type": "code",
   "execution_count": 4,
   "metadata": {
    "ExecuteTime": {
     "end_time": "2019-08-14T17:26:58.556909Z",
     "start_time": "2019-08-14T17:26:58.549004Z"
    }
   },
   "outputs": [],
   "source": [
    "# Tabela csv: acrescenta o cabeçalho\n",
    "def gera_tabcsv(n,L,tx):\n",
    "    Nome = str('Tabela_L_')+str(int(L*1000))+'.csv'\n",
    "    f = open(Nome , 'w')\n",
    "    linha='Medida ' + \"\\t\" + \"Período\\n\"\n",
    "    f.write( linha )\n",
    "    for i in range(1,n+1):\n",
    "        linha = str(i)+\"\\t\"+str(periodo_rnd(L,tx)) +\"\\n\"\n",
    "        f.write( linha )\n",
    "    f.close()"
   ]
  },
  {
   "cell_type": "code",
   "execution_count": 16,
   "metadata": {
    "ExecuteTime": {
     "end_time": "2019-08-14T14:31:46.119064Z",
     "start_time": "2019-08-14T14:31:46.106949Z"
    }
   },
   "outputs": [],
   "source": [
    "#Gera tabela csv Com cabeçalho\n",
    "gera_tabcsv(15,0.65,0.05)"
   ]
  },
  {
   "cell_type": "code",
   "execution_count": 17,
   "metadata": {
    "ExecuteTime": {
     "end_time": "2019-08-14T14:31:46.247840Z",
     "start_time": "2019-08-14T14:31:46.122299Z"
    }
   },
   "outputs": [
    {
     "name": "stdout",
     "output_type": "stream",
     "text": [
      "Medida \tPeríodo\r\n",
      "1\t1.6490533975147394\r\n",
      "2\t1.6558184868772305\r\n",
      "3\t1.6370548646129506\r\n",
      "4\t1.6082438783031674\r\n",
      "5\t1.5972648735760144\r\n",
      "6\t1.6474532207667538\r\n",
      "7\t1.6577257634279374\r\n",
      "8\t1.5996356856441591\r\n",
      "9\t1.578938173117565\r\n",
      "10\t1.6587715026909762\r\n",
      "11\t1.6571254590796427\r\n",
      "12\t1.5997378075993198\r\n",
      "13\t1.6187986754079244\r\n",
      "14\t1.5949109398007206\r\n",
      "15\t1.5824315141859189\r\n"
     ]
    }
   ],
   "source": [
    "! cat Tabela_L_650.csv"
   ]
  },
  {
   "cell_type": "code",
   "execution_count": 60,
   "metadata": {
    "ExecuteTime": {
     "end_time": "2019-08-14T17:42:27.907933Z",
     "start_time": "2019-08-14T17:42:27.795738Z"
    }
   },
   "outputs": [],
   "source": [
    "! rm -f Tabela_L_*.csv"
   ]
  },
  {
   "cell_type": "markdown",
   "metadata": {},
   "source": [
    "A seguir mostramos como podemos fazer tudo junto:"
   ]
  },
  {
   "cell_type": "code",
   "execution_count": 61,
   "metadata": {
    "ExecuteTime": {
     "end_time": "2019-08-14T17:42:35.294039Z",
     "start_time": "2019-08-14T17:42:35.282122Z"
    }
   },
   "outputs": [
    {
     "name": "stdout",
     "output_type": "stream",
     "text": [
      "L =  0.7\n",
      "L =  0.75\n",
      "L =  0.8\n",
      "L =  0.85\n",
      "L =  0.9\n"
     ]
    }
   ],
   "source": [
    "# Vamos fazer tudo junto\n",
    "N=50\n",
    "tx=0.05\n",
    "# Lista elas podem ser de ambas as formas, a primeira é mais geral\n",
    "#Comp = [i/100 for i in range(70,95,5)]\n",
    "Comp = [0.70, 0.75, 0.80, 0.85, 0.90]\n",
    "for L in Comp:\n",
    "    print(\"L = \", L)\n",
    "    Nome='Tabela_L_'+str(int(L*1000))+'.csv'\n",
    "    f = open(Nome, 'w')\n",
    "    for i in range(1,N+1):\n",
    "        linha = str(i)+\"\\t\"+str(periodo_rnd(L,tx)) +\"\\n\"\n",
    "        f.write( linha )\n",
    "    f.close()"
   ]
  },
  {
   "cell_type": "markdown",
   "metadata": {},
   "source": [
    " Entretanto não estamos fazendo uso das funções criadas anteriormente, nesse caso teríamos"
   ]
  },
  {
   "cell_type": "code",
   "execution_count": 122,
   "metadata": {
    "ExecuteTime": {
     "end_time": "2019-08-14T17:45:44.868798Z",
     "start_time": "2019-08-14T17:45:44.752287Z"
    }
   },
   "outputs": [],
   "source": [
    "# Vamos remover todos os arquivos antes\n",
    "! rm -f *.csv"
   ]
  },
  {
   "cell_type": "code",
   "execution_count": 123,
   "metadata": {
    "ExecuteTime": {
     "end_time": "2019-08-14T17:45:46.499196Z",
     "start_time": "2019-08-14T17:45:46.490830Z"
    }
   },
   "outputs": [
    {
     "name": "stdout",
     "output_type": "stream",
     "text": [
      "L =  0.5\n",
      "L =  0.55\n",
      "L =  0.6\n",
      "L =  0.65\n",
      "L =  0.7\n",
      "L =  0.75\n",
      "L =  0.8\n",
      "L =  0.85\n",
      "L =  0.9\n",
      "L =  0.95\n"
     ]
    }
   ],
   "source": [
    "# Vamos fazer tudo junto\n",
    "N=50\n",
    "tx=0.05\n",
    "Comprimentos = [ i/100 for i in range(50,100,5) ]\n",
    "for L in Comprimentos:\n",
    "    print(\"L = \", L)\n",
    "    gera_tabcsv(N,L,tx)"
   ]
  },
  {
   "cell_type": "code",
   "execution_count": 124,
   "metadata": {
    "ExecuteTime": {
     "end_time": "2019-08-14T17:45:49.808991Z",
     "start_time": "2019-08-14T17:45:49.691694Z"
    }
   },
   "outputs": [],
   "source": [
    "! rm -f Tabela_Final.csv"
   ]
  },
  {
   "cell_type": "code",
   "execution_count": 125,
   "metadata": {
    "ExecuteTime": {
     "end_time": "2019-08-14T17:45:50.438568Z",
     "start_time": "2019-08-14T17:45:50.434884Z"
    }
   },
   "outputs": [
    {
     "name": "stdout",
     "output_type": "stream",
     "text": [
      "['./Tabela_L_650.csv', './Tabela_L_950.csv', './Tabela_L_600.csv', './Tabela_L_800.csv', './Tabela_L_700.csv', './Tabela_L_900.csv', './Tabela_L_750.csv', './Tabela_L_850.csv', './Tabela_L_550.csv', './Tabela_L_500.csv']\n"
     ]
    }
   ],
   "source": [
    "# Para obter todos os arquivos com extensão csv no diretório corrente\n",
    "import glob, os\n",
    "#Mudar o diretório caso seja necessário\n",
    "#os.chdir(\"/IYPT\")\n",
    "Arqs=glob.glob('./*.csv')\n",
    "print(Arqs)"
   ]
  },
  {
   "cell_type": "code",
   "execution_count": 126,
   "metadata": {
    "ExecuteTime": {
     "end_time": "2019-08-14T17:45:51.634433Z",
     "start_time": "2019-08-14T17:45:51.630486Z"
    }
   },
   "outputs": [
    {
     "name": "stdout",
     "output_type": "stream",
     "text": [
      "['./Tabela_L_500.csv', './Tabela_L_550.csv', './Tabela_L_600.csv', './Tabela_L_650.csv', './Tabela_L_700.csv', './Tabela_L_750.csv', './Tabela_L_800.csv', './Tabela_L_850.csv', './Tabela_L_900.csv', './Tabela_L_950.csv']\n"
     ]
    }
   ],
   "source": [
    "# Vamos colocar em ordem crescente os arquivos\n",
    "Arqs.sort()\n",
    "print(Arqs)"
   ]
  },
  {
   "cell_type": "code",
   "execution_count": 127,
   "metadata": {
    "ExecuteTime": {
     "end_time": "2019-08-14T17:45:52.688922Z",
     "start_time": "2019-08-14T17:45:52.686025Z"
    }
   },
   "outputs": [
    {
     "name": "stdout",
     "output_type": "stream",
     "text": [
      "10\n"
     ]
    }
   ],
   "source": [
    "# O número de arquivos encontrados é\n",
    "print(len(Arqs))"
   ]
  },
  {
   "cell_type": "code",
   "execution_count": 128,
   "metadata": {
    "ExecuteTime": {
     "end_time": "2019-08-14T17:45:53.551613Z",
     "start_time": "2019-08-14T17:45:53.524121Z"
    }
   },
   "outputs": [],
   "source": [
    "# Vamos criar uma matriz numpy cujas as linhas \n",
    "# são o número de medidas e as colunas são o número de arquivos encontrados\n",
    "nl = N\n",
    "nc = len(Arqs)\n",
    "MatP=np.zeros((nl,nc))  # Matriz com todas medidas dos períodos\n",
    "Pmed = []   # Lista vazia para inserir os períodos médios\n",
    "# Vamos iniciar o tratamento dos dados\n",
    "i = 0\n",
    "for arq in Arqs :\n",
    "    TabL = pd.read_csv(arq, delimiter='\\t')     # lê o conjunto de dados\n",
    "    X1 = TabL.iloc[:, 0].values.reshape(-1, 1)  # valores convertidos em um array do numpy \n",
    "    T  = TabL.iloc[:, 1].values.reshape(-1, 1)  # -1 significa calcula a dimensão das linhas, mas tem uma 1 coluna\n",
    "    MatP[:,i]= T[:,0]\n",
    "    Pmed.append(TabL.mean(axis = 0)[1])         # Obtenho o período médio\n",
    "    i = i + 1"
   ]
  },
  {
   "cell_type": "code",
   "execution_count": 129,
   "metadata": {
    "ExecuteTime": {
     "end_time": "2019-08-14T17:45:55.597783Z",
     "start_time": "2019-08-14T17:45:55.593532Z"
    }
   },
   "outputs": [
    {
     "name": "stdout",
     "output_type": "stream",
     "text": [
      "[1.4165659553298757, 1.488759447916824, 1.5527362354405065, 1.619130560276968, 1.6839199425150462, 1.7404288850826592, 1.8003153076929994, 1.8481917046424154, 1.9005425704546122, 1.9616215341664383]\n"
     ]
    }
   ],
   "source": [
    "print(Pmed)"
   ]
  },
  {
   "cell_type": "markdown",
   "metadata": {},
   "source": [
    "Precisamos da seguinte tabela:\n",
    "\n",
    "\n",
    "| $N$  | $L$ (mm)  | $T$ (s) | $T^2$ (s$^2$) | $L\\cdot T^2$ (m$\\cdot$s$^2$) | $L^2$ (m$^2$) |\n",
    "| ---- | :-------- | :------ | :------------ | :--------------------------- | :------------ |\n",
    "| 1    | 700,00    | 1.4063  | 1.9777        | 1.3844                       | 0.4900        |\n",
    "| 2    | 750,00    | 1.5069  | 2.2707        | 1.7030                       | 0.5625        |\n",
    "| 3    | 800,00    | 1.6073  | 2.5834        | 2.0667                       | 0.6400        |\n",
    "| 4    | 850,00    | 1.7078  | 2.9166        | 2.4791                       | 0.7225        |\n",
    "| $\\sum$ | 3100,00 | 6.2283  | 9.7484        | 7.6332                       | 2.4150        |\n",
    "\n",
    "\n",
    "Vamos contruir ela"
   ]
  },
  {
   "cell_type": "code",
   "execution_count": 130,
   "metadata": {
    "ExecuteTime": {
     "end_time": "2019-08-14T17:45:57.365363Z",
     "start_time": "2019-08-14T17:45:57.356726Z"
    }
   },
   "outputs": [],
   "source": [
    "#Cria uma DataFrame com os daodos\n",
    "Tab = {\n",
    "       'N':[i for i in range(1,nc+1)],\n",
    "       'L':Comprimentos,\n",
    "       'T':Pmed,\n",
    "       }\n",
    "df = pd.DataFrame(Tab, columns=['N', 'L', 'T'] )"
   ]
  },
  {
   "cell_type": "code",
   "execution_count": 131,
   "metadata": {
    "ExecuteTime": {
     "end_time": "2019-08-14T17:45:58.537443Z",
     "start_time": "2019-08-14T17:45:58.528258Z"
    }
   },
   "outputs": [
    {
     "data": {
      "text/html": [
       "<div>\n",
       "<style scoped>\n",
       "    .dataframe tbody tr th:only-of-type {\n",
       "        vertical-align: middle;\n",
       "    }\n",
       "\n",
       "    .dataframe tbody tr th {\n",
       "        vertical-align: top;\n",
       "    }\n",
       "\n",
       "    .dataframe thead th {\n",
       "        text-align: right;\n",
       "    }\n",
       "</style>\n",
       "<table border=\"1\" class=\"dataframe\">\n",
       "  <thead>\n",
       "    <tr style=\"text-align: right;\">\n",
       "      <th></th>\n",
       "      <th>N</th>\n",
       "      <th>L</th>\n",
       "      <th>T</th>\n",
       "    </tr>\n",
       "  </thead>\n",
       "  <tbody>\n",
       "    <tr>\n",
       "      <th>0</th>\n",
       "      <td>1</td>\n",
       "      <td>0.50</td>\n",
       "      <td>1.416566</td>\n",
       "    </tr>\n",
       "    <tr>\n",
       "      <th>1</th>\n",
       "      <td>2</td>\n",
       "      <td>0.55</td>\n",
       "      <td>1.488759</td>\n",
       "    </tr>\n",
       "    <tr>\n",
       "      <th>2</th>\n",
       "      <td>3</td>\n",
       "      <td>0.60</td>\n",
       "      <td>1.552736</td>\n",
       "    </tr>\n",
       "    <tr>\n",
       "      <th>3</th>\n",
       "      <td>4</td>\n",
       "      <td>0.65</td>\n",
       "      <td>1.619131</td>\n",
       "    </tr>\n",
       "    <tr>\n",
       "      <th>4</th>\n",
       "      <td>5</td>\n",
       "      <td>0.70</td>\n",
       "      <td>1.683920</td>\n",
       "    </tr>\n",
       "    <tr>\n",
       "      <th>5</th>\n",
       "      <td>6</td>\n",
       "      <td>0.75</td>\n",
       "      <td>1.740429</td>\n",
       "    </tr>\n",
       "    <tr>\n",
       "      <th>6</th>\n",
       "      <td>7</td>\n",
       "      <td>0.80</td>\n",
       "      <td>1.800315</td>\n",
       "    </tr>\n",
       "    <tr>\n",
       "      <th>7</th>\n",
       "      <td>8</td>\n",
       "      <td>0.85</td>\n",
       "      <td>1.848192</td>\n",
       "    </tr>\n",
       "    <tr>\n",
       "      <th>8</th>\n",
       "      <td>9</td>\n",
       "      <td>0.90</td>\n",
       "      <td>1.900543</td>\n",
       "    </tr>\n",
       "    <tr>\n",
       "      <th>9</th>\n",
       "      <td>10</td>\n",
       "      <td>0.95</td>\n",
       "      <td>1.961622</td>\n",
       "    </tr>\n",
       "  </tbody>\n",
       "</table>\n",
       "</div>"
      ],
      "text/plain": [
       "    N     L         T\n",
       "0   1  0.50  1.416566\n",
       "1   2  0.55  1.488759\n",
       "2   3  0.60  1.552736\n",
       "3   4  0.65  1.619131\n",
       "4   5  0.70  1.683920\n",
       "5   6  0.75  1.740429\n",
       "6   7  0.80  1.800315\n",
       "7   8  0.85  1.848192\n",
       "8   9  0.90  1.900543\n",
       "9  10  0.95  1.961622"
      ]
     },
     "execution_count": 131,
     "metadata": {},
     "output_type": "execute_result"
    }
   ],
   "source": [
    "df"
   ]
  },
  {
   "cell_type": "code",
   "execution_count": 132,
   "metadata": {
    "ExecuteTime": {
     "end_time": "2019-08-14T17:45:59.503252Z",
     "start_time": "2019-08-14T17:45:59.484423Z"
    }
   },
   "outputs": [
    {
     "data": {
      "text/html": [
       "<div>\n",
       "<style scoped>\n",
       "    .dataframe tbody tr th:only-of-type {\n",
       "        vertical-align: middle;\n",
       "    }\n",
       "\n",
       "    .dataframe tbody tr th {\n",
       "        vertical-align: top;\n",
       "    }\n",
       "\n",
       "    .dataframe thead th {\n",
       "        text-align: right;\n",
       "    }\n",
       "</style>\n",
       "<table border=\"1\" class=\"dataframe\">\n",
       "  <thead>\n",
       "    <tr style=\"text-align: right;\">\n",
       "      <th></th>\n",
       "      <th>N</th>\n",
       "      <th>L</th>\n",
       "      <th>T</th>\n",
       "    </tr>\n",
       "  </thead>\n",
       "  <tbody>\n",
       "    <tr>\n",
       "      <th>count</th>\n",
       "      <td>10.00000</td>\n",
       "      <td>10.000000</td>\n",
       "      <td>10.000000</td>\n",
       "    </tr>\n",
       "    <tr>\n",
       "      <th>mean</th>\n",
       "      <td>5.50000</td>\n",
       "      <td>0.725000</td>\n",
       "      <td>1.701221</td>\n",
       "    </tr>\n",
       "    <tr>\n",
       "      <th>std</th>\n",
       "      <td>3.02765</td>\n",
       "      <td>0.151383</td>\n",
       "      <td>0.181276</td>\n",
       "    </tr>\n",
       "    <tr>\n",
       "      <th>min</th>\n",
       "      <td>1.00000</td>\n",
       "      <td>0.500000</td>\n",
       "      <td>1.416566</td>\n",
       "    </tr>\n",
       "    <tr>\n",
       "      <th>25%</th>\n",
       "      <td>3.25000</td>\n",
       "      <td>0.612500</td>\n",
       "      <td>1.569335</td>\n",
       "    </tr>\n",
       "    <tr>\n",
       "      <th>50%</th>\n",
       "      <td>5.50000</td>\n",
       "      <td>0.725000</td>\n",
       "      <td>1.712174</td>\n",
       "    </tr>\n",
       "    <tr>\n",
       "      <th>75%</th>\n",
       "      <td>7.75000</td>\n",
       "      <td>0.837500</td>\n",
       "      <td>1.836223</td>\n",
       "    </tr>\n",
       "    <tr>\n",
       "      <th>max</th>\n",
       "      <td>10.00000</td>\n",
       "      <td>0.950000</td>\n",
       "      <td>1.961622</td>\n",
       "    </tr>\n",
       "  </tbody>\n",
       "</table>\n",
       "</div>"
      ],
      "text/plain": [
       "              N          L          T\n",
       "count  10.00000  10.000000  10.000000\n",
       "mean    5.50000   0.725000   1.701221\n",
       "std     3.02765   0.151383   0.181276\n",
       "min     1.00000   0.500000   1.416566\n",
       "25%     3.25000   0.612500   1.569335\n",
       "50%     5.50000   0.725000   1.712174\n",
       "75%     7.75000   0.837500   1.836223\n",
       "max    10.00000   0.950000   1.961622"
      ]
     },
     "execution_count": 132,
     "metadata": {},
     "output_type": "execute_result"
    }
   ],
   "source": [
    "df.describe()"
   ]
  },
  {
   "cell_type": "code",
   "execution_count": 133,
   "metadata": {
    "ExecuteTime": {
     "end_time": "2019-08-14T17:46:00.307305Z",
     "start_time": "2019-08-14T17:46:00.299163Z"
    }
   },
   "outputs": [],
   "source": [
    "# Vamos adicionar as colunas que faltam:\n",
    "df['T2']=df['T']**2\n",
    "df['LT2'] = df['L']*df['T2']\n",
    "df['L2'] = df['L']*df['L']"
   ]
  },
  {
   "cell_type": "code",
   "execution_count": 134,
   "metadata": {
    "ExecuteTime": {
     "end_time": "2019-08-14T17:46:01.581910Z",
     "start_time": "2019-08-14T17:46:01.571295Z"
    }
   },
   "outputs": [
    {
     "data": {
      "text/html": [
       "<div>\n",
       "<style scoped>\n",
       "    .dataframe tbody tr th:only-of-type {\n",
       "        vertical-align: middle;\n",
       "    }\n",
       "\n",
       "    .dataframe tbody tr th {\n",
       "        vertical-align: top;\n",
       "    }\n",
       "\n",
       "    .dataframe thead th {\n",
       "        text-align: right;\n",
       "    }\n",
       "</style>\n",
       "<table border=\"1\" class=\"dataframe\">\n",
       "  <thead>\n",
       "    <tr style=\"text-align: right;\">\n",
       "      <th></th>\n",
       "      <th>N</th>\n",
       "      <th>L</th>\n",
       "      <th>T</th>\n",
       "      <th>T2</th>\n",
       "      <th>LT2</th>\n",
       "      <th>L2</th>\n",
       "    </tr>\n",
       "  </thead>\n",
       "  <tbody>\n",
       "    <tr>\n",
       "      <th>0</th>\n",
       "      <td>1</td>\n",
       "      <td>0.50</td>\n",
       "      <td>1.416566</td>\n",
       "      <td>2.006659</td>\n",
       "      <td>1.003330</td>\n",
       "      <td>0.2500</td>\n",
       "    </tr>\n",
       "    <tr>\n",
       "      <th>1</th>\n",
       "      <td>2</td>\n",
       "      <td>0.55</td>\n",
       "      <td>1.488759</td>\n",
       "      <td>2.216405</td>\n",
       "      <td>1.219023</td>\n",
       "      <td>0.3025</td>\n",
       "    </tr>\n",
       "    <tr>\n",
       "      <th>2</th>\n",
       "      <td>3</td>\n",
       "      <td>0.60</td>\n",
       "      <td>1.552736</td>\n",
       "      <td>2.410990</td>\n",
       "      <td>1.446594</td>\n",
       "      <td>0.3600</td>\n",
       "    </tr>\n",
       "    <tr>\n",
       "      <th>3</th>\n",
       "      <td>4</td>\n",
       "      <td>0.65</td>\n",
       "      <td>1.619131</td>\n",
       "      <td>2.621584</td>\n",
       "      <td>1.704029</td>\n",
       "      <td>0.4225</td>\n",
       "    </tr>\n",
       "    <tr>\n",
       "      <th>4</th>\n",
       "      <td>5</td>\n",
       "      <td>0.70</td>\n",
       "      <td>1.683920</td>\n",
       "      <td>2.835586</td>\n",
       "      <td>1.984910</td>\n",
       "      <td>0.4900</td>\n",
       "    </tr>\n",
       "    <tr>\n",
       "      <th>5</th>\n",
       "      <td>6</td>\n",
       "      <td>0.75</td>\n",
       "      <td>1.740429</td>\n",
       "      <td>3.029093</td>\n",
       "      <td>2.271820</td>\n",
       "      <td>0.5625</td>\n",
       "    </tr>\n",
       "    <tr>\n",
       "      <th>6</th>\n",
       "      <td>7</td>\n",
       "      <td>0.80</td>\n",
       "      <td>1.800315</td>\n",
       "      <td>3.241135</td>\n",
       "      <td>2.592908</td>\n",
       "      <td>0.6400</td>\n",
       "    </tr>\n",
       "    <tr>\n",
       "      <th>7</th>\n",
       "      <td>8</td>\n",
       "      <td>0.85</td>\n",
       "      <td>1.848192</td>\n",
       "      <td>3.415813</td>\n",
       "      <td>2.903441</td>\n",
       "      <td>0.7225</td>\n",
       "    </tr>\n",
       "    <tr>\n",
       "      <th>8</th>\n",
       "      <td>9</td>\n",
       "      <td>0.90</td>\n",
       "      <td>1.900543</td>\n",
       "      <td>3.612062</td>\n",
       "      <td>3.250856</td>\n",
       "      <td>0.8100</td>\n",
       "    </tr>\n",
       "    <tr>\n",
       "      <th>9</th>\n",
       "      <td>10</td>\n",
       "      <td>0.95</td>\n",
       "      <td>1.961622</td>\n",
       "      <td>3.847959</td>\n",
       "      <td>3.655561</td>\n",
       "      <td>0.9025</td>\n",
       "    </tr>\n",
       "  </tbody>\n",
       "</table>\n",
       "</div>"
      ],
      "text/plain": [
       "    N     L         T        T2       LT2      L2\n",
       "0   1  0.50  1.416566  2.006659  1.003330  0.2500\n",
       "1   2  0.55  1.488759  2.216405  1.219023  0.3025\n",
       "2   3  0.60  1.552736  2.410990  1.446594  0.3600\n",
       "3   4  0.65  1.619131  2.621584  1.704029  0.4225\n",
       "4   5  0.70  1.683920  2.835586  1.984910  0.4900\n",
       "5   6  0.75  1.740429  3.029093  2.271820  0.5625\n",
       "6   7  0.80  1.800315  3.241135  2.592908  0.6400\n",
       "7   8  0.85  1.848192  3.415813  2.903441  0.7225\n",
       "8   9  0.90  1.900543  3.612062  3.250856  0.8100\n",
       "9  10  0.95  1.961622  3.847959  3.655561  0.9025"
      ]
     },
     "execution_count": 134,
     "metadata": {},
     "output_type": "execute_result"
    }
   ],
   "source": [
    "df"
   ]
  },
  {
   "cell_type": "code",
   "execution_count": 135,
   "metadata": {
    "ExecuteTime": {
     "end_time": "2019-08-14T17:46:02.312025Z",
     "start_time": "2019-08-14T17:46:02.283432Z"
    }
   },
   "outputs": [
    {
     "data": {
      "text/html": [
       "<div>\n",
       "<style scoped>\n",
       "    .dataframe tbody tr th:only-of-type {\n",
       "        vertical-align: middle;\n",
       "    }\n",
       "\n",
       "    .dataframe tbody tr th {\n",
       "        vertical-align: top;\n",
       "    }\n",
       "\n",
       "    .dataframe thead th {\n",
       "        text-align: right;\n",
       "    }\n",
       "</style>\n",
       "<table border=\"1\" class=\"dataframe\">\n",
       "  <thead>\n",
       "    <tr style=\"text-align: right;\">\n",
       "      <th></th>\n",
       "      <th>N</th>\n",
       "      <th>L</th>\n",
       "      <th>T</th>\n",
       "      <th>T2</th>\n",
       "      <th>LT2</th>\n",
       "      <th>L2</th>\n",
       "    </tr>\n",
       "  </thead>\n",
       "  <tbody>\n",
       "    <tr>\n",
       "      <th>count</th>\n",
       "      <td>10.00000</td>\n",
       "      <td>10.000000</td>\n",
       "      <td>10.000000</td>\n",
       "      <td>10.000000</td>\n",
       "      <td>10.000000</td>\n",
       "      <td>10.000000</td>\n",
       "    </tr>\n",
       "    <tr>\n",
       "      <th>mean</th>\n",
       "      <td>5.50000</td>\n",
       "      <td>0.725000</td>\n",
       "      <td>1.701221</td>\n",
       "      <td>2.923729</td>\n",
       "      <td>2.203247</td>\n",
       "      <td>0.546250</td>\n",
       "    </tr>\n",
       "    <tr>\n",
       "      <th>std</th>\n",
       "      <td>3.02765</td>\n",
       "      <td>0.151383</td>\n",
       "      <td>0.181276</td>\n",
       "      <td>0.613305</td>\n",
       "      <td>0.890157</td>\n",
       "      <td>0.220338</td>\n",
       "    </tr>\n",
       "    <tr>\n",
       "      <th>min</th>\n",
       "      <td>1.00000</td>\n",
       "      <td>0.500000</td>\n",
       "      <td>1.416566</td>\n",
       "      <td>2.006659</td>\n",
       "      <td>1.003330</td>\n",
       "      <td>0.250000</td>\n",
       "    </tr>\n",
       "    <tr>\n",
       "      <th>25%</th>\n",
       "      <td>3.25000</td>\n",
       "      <td>0.612500</td>\n",
       "      <td>1.569335</td>\n",
       "      <td>2.463638</td>\n",
       "      <td>1.510953</td>\n",
       "      <td>0.375625</td>\n",
       "    </tr>\n",
       "    <tr>\n",
       "      <th>50%</th>\n",
       "      <td>5.50000</td>\n",
       "      <td>0.725000</td>\n",
       "      <td>1.712174</td>\n",
       "      <td>2.932340</td>\n",
       "      <td>2.128365</td>\n",
       "      <td>0.526250</td>\n",
       "    </tr>\n",
       "    <tr>\n",
       "      <th>75%</th>\n",
       "      <td>7.75000</td>\n",
       "      <td>0.837500</td>\n",
       "      <td>1.836223</td>\n",
       "      <td>3.372143</td>\n",
       "      <td>2.825808</td>\n",
       "      <td>0.701875</td>\n",
       "    </tr>\n",
       "    <tr>\n",
       "      <th>max</th>\n",
       "      <td>10.00000</td>\n",
       "      <td>0.950000</td>\n",
       "      <td>1.961622</td>\n",
       "      <td>3.847959</td>\n",
       "      <td>3.655561</td>\n",
       "      <td>0.902500</td>\n",
       "    </tr>\n",
       "  </tbody>\n",
       "</table>\n",
       "</div>"
      ],
      "text/plain": [
       "              N          L          T         T2        LT2         L2\n",
       "count  10.00000  10.000000  10.000000  10.000000  10.000000  10.000000\n",
       "mean    5.50000   0.725000   1.701221   2.923729   2.203247   0.546250\n",
       "std     3.02765   0.151383   0.181276   0.613305   0.890157   0.220338\n",
       "min     1.00000   0.500000   1.416566   2.006659   1.003330   0.250000\n",
       "25%     3.25000   0.612500   1.569335   2.463638   1.510953   0.375625\n",
       "50%     5.50000   0.725000   1.712174   2.932340   2.128365   0.526250\n",
       "75%     7.75000   0.837500   1.836223   3.372143   2.825808   0.701875\n",
       "max    10.00000   0.950000   1.961622   3.847959   3.655561   0.902500"
      ]
     },
     "execution_count": 135,
     "metadata": {},
     "output_type": "execute_result"
    }
   ],
   "source": [
    "# Fornece informações a respeito dos dados\n",
    "df.describe()"
   ]
  },
  {
   "cell_type": "code",
   "execution_count": 136,
   "metadata": {
    "ExecuteTime": {
     "end_time": "2019-08-14T17:46:03.121511Z",
     "start_time": "2019-08-14T17:46:03.114697Z"
    }
   },
   "outputs": [],
   "source": [
    "# Vamos exportar essa tabela organizada para um arquivo csv\n",
    "Nome='Tabela_Final.csv'\n",
    "df.to_csv(Nome, sep='\\t')"
   ]
  },
  {
   "cell_type": "code",
   "execution_count": 137,
   "metadata": {
    "ExecuteTime": {
     "end_time": "2019-08-14T17:46:04.096145Z",
     "start_time": "2019-08-14T17:46:03.983759Z"
    }
   },
   "outputs": [
    {
     "name": "stdout",
     "output_type": "stream",
     "text": [
      "\tN\tL\tT\tT2\tLT2\tL2\r\n",
      "0\t1\t0.5\t1.4165659553298757\t2.0066591057996437\t1.0033295528998218\t0.25\r\n",
      "1\t2\t0.55\t1.488759447916824\t2.2164046937616066\t1.2190225815688838\t0.30250000000000005\r\n",
      "2\t3\t0.6\t1.5527362354405065\t2.410989816849956\t1.4465938901099735\t0.36\r\n",
      "3\t4\t0.65\t1.619130560276968\t2.621583771222808\t1.7040294512948253\t0.42250000000000004\r\n",
      "4\t5\t0.7\t1.6839199425150462\t2.8355863727998765\t1.9849104609599133\t0.48999999999999994\r\n",
      "5\t6\t0.75\t1.7404288850826592\t3.0290927040300684\t2.2718195280225513\t0.5625\r\n",
      "6\t7\t0.8\t1.8003153076929994\t3.241135207113739\t2.592908165690991\t0.6400000000000001\r\n",
      "7\t8\t0.85\t1.8481917046424154\t3.4158125771090373\t2.9034406905426815\t0.7224999999999999\r\n",
      "8\t9\t0.9\t1.9005425704546122\t3.6120620621102244\t3.2508558558992022\t0.81\r\n",
      "9\t10\t0.95\t1.9616215341664383\t3.8479590433054907\t3.655561091140216\t0.9025\r\n"
     ]
    }
   ],
   "source": [
    "! cat Tabela_Final.csv"
   ]
  },
  {
   "cell_type": "code",
   "execution_count": 138,
   "metadata": {
    "ExecuteTime": {
     "end_time": "2019-08-14T17:46:04.678169Z",
     "start_time": "2019-08-14T17:46:04.671682Z"
    }
   },
   "outputs": [],
   "source": [
    "# Vamos calcular as somas:\n",
    "SL=df['L'].sum()\n",
    "SL2=df['L2'].sum()\n",
    "SLT2=df['LT2'].sum()\n",
    "ST2=df['T2'].sum()"
   ]
  },
  {
   "cell_type": "code",
   "execution_count": 139,
   "metadata": {
    "ExecuteTime": {
     "end_time": "2019-08-14T17:46:05.427667Z",
     "start_time": "2019-08-14T17:46:05.423870Z"
    }
   },
   "outputs": [
    {
     "name": "stdout",
     "output_type": "stream",
     "text": [
      "-0.01296748952777169 4.050615206811059\n"
     ]
    }
   ],
   "source": [
    "A = (SL2*ST2-SL*SLT2)/(nc*SL2-SL*SL)\n",
    "B = (nc*SLT2-SL*ST2)/(nc*SL2-SL*SL)\n",
    "print(A, B)"
   ]
  },
  {
   "cell_type": "markdown",
   "metadata": {},
   "source": [
    "A reta que estamos procurando erá:\n",
    "\n",
    "$$\n",
    "T^2 (L) = A + B*L\n",
    "$$"
   ]
  },
  {
   "cell_type": "code",
   "execution_count": 140,
   "metadata": {
    "ExecuteTime": {
     "end_time": "2019-08-14T17:46:12.055125Z",
     "start_time": "2019-08-14T17:46:12.052259Z"
    }
   },
   "outputs": [],
   "source": [
    "# Vamos primeiro vfazer um ajuste com a scipy\n",
    "from scipy.optimize import curve_fit\n",
    "\n",
    "def Reta(t, a, b):\n",
    "    return a + b*t "
   ]
  },
  {
   "cell_type": "code",
   "execution_count": 141,
   "metadata": {
    "ExecuteTime": {
     "end_time": "2019-08-14T17:46:13.421129Z",
     "start_time": "2019-08-14T17:46:13.414397Z"
    }
   },
   "outputs": [
    {
     "name": "stdout",
     "output_type": "stream",
     "text": [
      "Coeficientes do ajuste:  [-0.01296749  4.05061521]\n",
      "Coeficientes da Regressão Linear):  -0.01296748952777169 4.050615206811059\n",
      "\n",
      "Matriz de Covariância:\n",
      " [[ 0.00041109 -0.00054562]\n",
      " [-0.00054562  0.00075257]]\n"
     ]
    }
   ],
   "source": [
    "l = np.array(Comprimentos)\n",
    "p = df['T2'].to_numpy()\n",
    "fitParams, fitCovariances = curve_fit(Reta, l, p)\n",
    "print ('Coeficientes do ajuste: ', fitParams)\n",
    "print ('Coeficientes da Regressão Linear): ', A, B)\n",
    "print ('\\nMatriz de Covariância:\\n', fitCovariances)"
   ]
  },
  {
   "cell_type": "code",
   "execution_count": 142,
   "metadata": {
    "ExecuteTime": {
     "end_time": "2019-08-14T17:46:14.911969Z",
     "start_time": "2019-08-14T17:46:14.696819Z"
    }
   },
   "outputs": [
    {
     "data": {
      "image/png": "[encoded data removed]",
      "text/plain": [
       "<Figure size 720x432 with 1 Axes>"
      ]
     },
     "metadata": {
      "needs_background": "light"
     },
     "output_type": "display_data"
    },
    {
     "data": {
      "text/plain": [
       "<Figure size 432x288 with 0 Axes>"
      ]
     },
     "metadata": {},
     "output_type": "display_data"
    }
   ],
   "source": [
    "largura = 10  # Largura da figura\n",
    "altura  = 6   # Altura da figura\n",
    "plt.figure(figsize =(largura, altura))     # Define o tamanho do gráfico\n",
    "#plt.figure(figsize =(largura, altura), tight_layout=True)     # Define o tamanho do gráfico\n",
    "\n",
    "plt.xlabel('L (m)', fontsize = 16)\n",
    "plt.ylabel('T2 (s2)', fontsize = 16)\n",
    "plt.title('O período quadrado em função do comprimento', fontsize=16, color='r')\n",
    "\n",
    "\n",
    "ll = np.array( [ i/100 for i in range(0,100,5) ] )\n",
    "#plt.xlim(0,1.0)\n",
    "#plt.ylim(0,5.0)\n",
    "# Faz o gráfico dos dados como círculos vermelhos e com barras de erro verticais\n",
    "plt.errorbar(l, p, fmt = 'ro', yerr = 0.2)\n",
    "# agora o gráfico da curva de melhor ajuste e também as curvas sigma +- 1 \n",
    "# (A raiz quadrada do elemento da diagonal da matriz de covariância é a \n",
    "#  incerteza no parâmetro de ajuste.)\n",
    "sigma = [np.sqrt(fitCovariances[0,0]), \\\n",
    "         np.sqrt(fitCovariances[1,1]) ]\n",
    "plt.plot(ll, Reta(ll, fitParams[0], fitParams[1]), \\\n",
    "         l, Reta(l, fitParams[0], fitParams[1]),\\\n",
    "         l, Reta(l, fitParams[0] + sigma[0], fitParams[1] - sigma[1]),\\\n",
    "         l, Reta(l, fitParams[0] - sigma[0], fitParams[1] + sigma[1]),\n",
    "         )\n",
    "plt.show()\n",
    "# Salvar um gráfico em um arquivo\n",
    "plt.savefig('DataFitted.pdf', bbox_inches=0, dpi=600)"
   ]
  },
  {
   "cell_type": "markdown",
   "metadata": {},
   "source": [
    "## <https://github.com/salvianoleao/IntroducaoJupyter>"
   ]
  },
  {
   "cell_type": "code",
   "execution_count": null,
   "metadata": {},
   "outputs": [],
   "source": []
  }
 ],
 "metadata": {
  "kernelspec": {
   "display_name": "Python 3",
   "language": "python",
   "name": "python3"
  },
  "language_info": {
   "codemirror_mode": {
    "name": "ipython",
    "version": 3
   },
   "file_extension": ".py",
   "mimetype": "text/x-python",
   "name": "python",
   "nbconvert_exporter": "python",
   "pygments_lexer": "ipython3",
   "version": "3.6.8"
  },
  "latex_envs": {
   "LaTeX_envs_menu_present": true,
   "autoclose": false,
   "autocomplete": false,
   "bibliofile": "biblio.bib",
   "cite_by": "apalike",
   "current_citInitial": 1,
   "eqLabelWithNumbers": true,
   "eqNumInitial": 1,
   "hotkeys": {
    "equation": "Ctrl-E",
    "itemize": "Ctrl-I"
   },
   "labels_anchors": false,
   "latex_user_defs": false,
   "report_style_numbering": false,
   "user_envs_cfg": false
  },
  "nbTranslate": {
   "displayLangs": [
    "*"
   ],
   "hotkey": "alt-t",
   "langInMainMenu": true,
   "sourceLang": "en",
   "targetLang": "fr",
   "useGoogleTranslate": true
  },
  "toc": {
   "base_numbering": 1,
   "nav_menu": {},
   "number_sections": true,
   "sideBar": true,
   "skip_h1_title": false,
   "title_cell": "Table of Contents",
   "title_sidebar": "Contents",
   "toc_cell": false,
   "toc_position": {},
   "toc_section_display": true,
   "toc_window_display": false
  },
  "varInspector": {
   "cols": {
    "lenName": 16,
    "lenType": 16,
    "lenVar": 40
   },
   "kernels_config": {
    "python": {
     "delete_cmd_postfix": "",
     "delete_cmd_prefix": "del ",
     "library": "var_list.py",
     "varRefreshCmd": "print(var_dic_list())"
    },
    "r": {
     "delete_cmd_postfix": ") ",
     "delete_cmd_prefix": "rm(",
     "library": "var_list.r",
     "varRefreshCmd": "cat(var_dic_list()) "
    }
   },
   "types_to_exclude": [
    "module",
    "function",
    "builtin_function_or_method",
    "instance",
    "_Feature"
   ],
   "window_display": false
  }
 },
 "nbformat": 4,
 "nbformat_minor": 2
}
