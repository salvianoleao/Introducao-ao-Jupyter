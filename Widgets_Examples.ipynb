{
 "cells": [
  {
   "cell_type": "code",
   "execution_count": 1,
   "metadata": {},
   "outputs": [],
   "source": [
    "import matplotlib.pyplot as plt\n",
    "import numpy as np\n",
    "from ipywidgets import interact\n",
    "from ipywidgets.widgets import IntSlider, Dropdown\n",
    "plt.ion()"
   ]
  },
  {
   "cell_type": "markdown",
   "metadata": {},
   "source": [
    "# Ipywidgets"
   ]
  },
  {
   "cell_type": "code",
   "execution_count": 2,
   "metadata": {},
   "outputs": [],
   "source": [
    "data = np.logspace(0, 2, 100)\n",
    "data = np.tile(data, [100, 1])\n",
    "data += np.random.randn(100, 100) * 50\n",
    "data += np.linspace(0, 1000, 100)[:, np.newaxis]"
   ]
  },
  {
   "cell_type": "code",
   "execution_count": 3,
   "metadata": {},
   "outputs": [
    {
     "data": {
      "application/vnd.jupyter.widget-view+json": {
       "model_id": "952fb2bc95654ddaa234a824ef6bc9f0",
       "version_major": 2,
       "version_minor": 0
      },
      "text/plain": [
       "interactive(children=(IntSlider(value=0, description='ii', max=99), Dropdown(description='cmap', options=('coo…"
      ]
     },
     "metadata": {},
     "output_type": "display_data"
    },
    {
     "data": {
      "text/plain": [
       "<function __main__.plot_data(ii, cmap)>"
      ]
     },
     "execution_count": 3,
     "metadata": {},
     "output_type": "execute_result"
    }
   ],
   "source": [
    "cmaps = ['coolwarm', 'viridis', 'magma']\n",
    "def plot_data(ii, cmap):\n",
    "    fig, ax = plt.subplots()\n",
    "    cmap = plt.get_cmap(cmap)\n",
    "    color = cmap(ii / 100.)\n",
    "    ax.plot(data[ii], color=color)\n",
    "    ax.set_ylim([0, 1000])\n",
    "    plt.show()\n",
    "    \n",
    "interact(plot_data, ii=IntSlider(0, 0, 99), cmap=Dropdown(options=cmaps))"
   ]
  },
  {
   "cell_type": "markdown",
   "metadata": {},
   "source": [
    "# Python-markdown"
   ]
  },
  {
   "cell_type": "code",
   "execution_count": 4,
   "metadata": {},
   "outputs": [],
   "source": [
    "a = 'markdown!'\n",
    "b = 2"
   ]
  },
  {
   "cell_type": "markdown",
   "metadata": {
    "variables": {
     " a ": "markdown!",
     " b ": "2"
    }
   },
   "source": [
    "**Double-click this cell, then hit `shift+enter`**\n",
    "\n",
    "this is {{ a }}\n",
    "\n",
    "it is {{ b }} cool!"
   ]
  },
  {
   "cell_type": "code",
   "execution_count": null,
   "metadata": {},
   "outputs": [],
   "source": []
  }
 ],
 "metadata": {
  "kernelspec": {
   "display_name": "Python 3",
   "language": "python",
   "name": "python3"
  },
  "language_info": {
   "codemirror_mode": {
    "name": "ipython",
    "version": 3
   },
   "file_extension": ".py",
   "mimetype": "text/x-python",
   "name": "python",
   "nbconvert_exporter": "python",
   "pygments_lexer": "ipython3",
   "version": "3.7.2"
  }
 },
 "nbformat": 4,
 "nbformat_minor": 2
}
