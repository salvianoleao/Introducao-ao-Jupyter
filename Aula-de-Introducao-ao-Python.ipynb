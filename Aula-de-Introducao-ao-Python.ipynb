{
 "cells": [
  {
   "cell_type": "markdown",
   "metadata": {},
   "source": [
    "<img src=\"Figs/Cab_IF_Red_01.png\" alt=\"drawing\" width=\"80%\"/>\n",
    "\n",
    "\n",
    "<!-- \n",
    "<img href=\"Figs/Cab_IF_Red_01.png\" style=\"width: 80%;\" /> doesn't work\n",
    "\n",
    "![Logotipo do IF](../Figs/Cab_IF_Red_01.png){ width=50% }\n",
    "\n",
    "<h1> <span style=\"color:blue\">Curso de Física Computacional </span> </h1> \n",
    "\n",
    "\n",
    "<p style=\"margin-bottom:1cm;\"> </p>\n",
    "\n",
    "\n",
    "<center> <font size=\"6\" color=\"blue\">Curso de Física Computacional</font> </center>\n",
    "-->\n",
    "\n",
    "<font size=\"4\" color=\"blue\">**Prof. :** Salviano A. Leão -- Instituto de Física - UFG-GO</font>\n"
   ]
  },
  {
   "cell_type": "markdown",
   "metadata": {},
   "source": [
    "# Tipos de Dados e Estrutura de Dados¶"
   ]
  },
  {
   "cell_type": "markdown",
   "metadata": {},
   "source": [
    "# Sumário  <a name=\"CP3-sumario\"></a> \n",
    "\n",
    "* [Variáveis](#CP3-variaveis)\n",
    "* [O que é um tipo?](#CP3-o-que-e-um-tipo)\n",
    "* [Números](#CP3-numeros)\n",
    "  - [Outras informações](#CP3-num-outras-inf)\n",
    "  - [Números inteiros](#CP3-numeros-inteiros)\n",
    "    + [Limite dos inteiros](#CP3-limite-int)\n",
    "  - [Números de ponto flutuante](#CP3-numeros-float)\n",
    "  - [Erro de Representação](#CP3-Erros-de-Representação)\n",
    "  - [Números complexos](#CP3-numeros-complexos) \n",
    "  - [Funções aplicáveis a todos os tipos de números](#CP3-func-numeros)\n",
    "* [Sequências](#CP3-sequencias)\n",
    "  - [Sequência tipo 1: String](#CP3-sequencias-t1)\n",
    "  - [Sequência tipo 2: Lista](#CP3-sequencias-t2)\n",
    "    + [O comando range()](#CP3-cmd-range)\n",
    "  - [Sequência tipo 3: Tupla](#CP3-sequencias-t3)\n",
    "  - [Indexando Sequências](#CP3-index-seq)\n",
    "  - [Fatiamento de sequências](#CP3-fat-seq)\n",
    "  - [Expressões asteriscos](#CP3-Exp-asterisco)\n",
    "  - [Exemplo: Ano Bissexto](#CP3-Ex-ano-bissexto)\n",
    "* [Conjuntos (set e frozenset)](#CP3-Conjuntos)\n",
    "  - [O que são sets](#CP3-OQSSets)\n",
    "  - [Operações lógicas](#CP3-OperacoesLogicas)\n",
    "  - [União](#CP3-Uniao)\n",
    "  - [Interseção](#CP3-Intersecao)\n",
    "  - [Diferença](#CP3-Diferencas)\n",
    "  - [Diferença Simétrica](#CP3-DifSim)\n",
    "  - [Pertinência](#CP3-Pertinencia)\n",
    "  - [Subconjuntos](#CP3-Subconjuntos)\n",
    "  - [Operações entre conjuntos set e frozenset](#CP3-Op-set-frozenset)\n",
    "* [Dicionários](#CP3-dicionarios)\n",
    "  - [Exemplo de uso dos dicionários](#CP3-Exemplo-dicionarios)\n",
    "* [Passando argumentos para funções](#CP3-pass-arg-func)\n",
    "  - [Chamada por valor](#CP3-func-cham-valor)\n",
    "  - [Chamada por referência](#CP3-func-cham-ref)\n",
    "* [Passagem de Argumentos no Python](#CP3-pass-arg-py)\n",
    "  - [Considerações Sobre Performance](#CP3-performance)\n",
    "  - [Modificações Inadevertidas de Dados ](#CP3-mod-in-dados)\n",
    "  - [Copiando objetos](#CP3-cop-objs)\n",
    "* [Igualdade e Identidade/Semelhança](#CP3-Igualdade-identidade)\n",
    "  - [Igualdade](#CP3-Igualdade)\n",
    "  - [Identidade/Semelhança](#CP3-Identidade)\n",
    "  - [Exemplo: Igualdade e identidade](#CP3-Exemplo-ig-id)"
   ]
  },
  {
   "cell_type": "markdown",
   "metadata": {},
   "source": [
    "# Variáveis <a name=\"CP3-variaveis\"></a>\n",
    "\n",
    "\n",
    "Variáveis no interpretador Python são criadas através da atribuição e destruídas pelo coletor de lixo (garbage collector), quando não existem mais referências a elas.\n",
    "\n",
    "Os nomes das variáveis devem começar com letra (sem acentuação) ou sublinhado (_) e seguido por letras (sem acentuação), dígitos ou sublinhados (_), sendo que maiúsculas e minúsculas são consideradas diferentes.\n",
    "\n",
    "\n",
    "## O que é um tipo? <a name=\"CP3-o-que-e-um-tipo\"></a>\n",
    "\n",
    "\n",
    "Existem vários tipos simples de dados pré-definidos no Python, tais como:\n",
    "\n",
    "+ Números (inteiros, reais, complexos, ... )\n",
    "+ Texto\n",
    "\n",
    "Além disso, existem tipos que funcionam como coleções. Os principais são:\n",
    "\n",
    "+ Lista\n",
    "+ Tupla\n",
    "+ Dicionário\n",
    "+ Conjuntos\n",
    "\n",
    "Os tipos no Python podem ser:\n",
    "\n",
    "+ Mutáveis: permitem que os conteúdos das variáveis sejam alterados.\n",
    "+ Imutáveis: não permitem que os conteúdos das variáveis sejam alterados.\n",
    "\n",
    "Em Python, os nomes de variáveis são referências, que podem ser alteradas em tempos de execução.\n",
    "\n",
    "Os tipos e rotinas mais comuns estão implementados na forma de *builtins*, ou seja, eles estão sempre disponíveis em tempo de execução, sem a necessdade de importar nenhuma biblioteca.\n",
    "\n",
    "O Python conhece diferentes tipos de dados. Para encontrar o tipo de uma variável, use a função `type()`. Como exemplo considere as seguintes atribuições:"
   ]
  },
  {
   "cell_type": "code",
   "execution_count": 1,
   "metadata": {
    "ExecuteTime": {
     "end_time": "2018-05-23T11:08:34.915715Z",
     "start_time": "2018-05-23T11:08:34.901688Z"
    }
   },
   "outputs": [
    {
     "data": {
      "text/plain": [
       "int"
      ]
     },
     "execution_count": 1,
     "metadata": {},
     "output_type": "execute_result"
    }
   ],
   "source": [
    "a = 45\n",
    "type(a)"
   ]
  },
  {
   "cell_type": "code",
   "execution_count": 3,
   "metadata": {
    "ExecuteTime": {
     "end_time": "2018-05-23T11:08:51.845694Z",
     "start_time": "2018-05-23T11:08:51.838438Z"
    }
   },
   "outputs": [
    {
     "data": {
      "text/plain": [
       "str"
      ]
     },
     "execution_count": 3,
     "metadata": {},
     "output_type": "execute_result"
    }
   ],
   "source": [
    "b = 'Isso é uma string. Um texto ou palavra são strings. '\n",
    "type(b)"
   ]
  },
  {
   "cell_type": "code",
   "execution_count": 4,
   "metadata": {
    "ExecuteTime": {
     "end_time": "2018-05-23T11:08:56.592238Z",
     "start_time": "2018-05-23T11:08:56.539029Z"
    }
   },
   "outputs": [
    {
     "ename": "NameError",
     "evalue": "name 'z' is not defined",
     "output_type": "error",
     "traceback": [
      "\u001b[0;31m---------------------------------------------------------------------------\u001b[0m",
      "\u001b[0;31mNameError\u001b[0m                                 Traceback (most recent call last)",
      "\u001b[0;32m<ipython-input-4-a4ab4f5004e4>\u001b[0m in \u001b[0;36m<module>\u001b[0;34m()\u001b[0m\n\u001b[0;32m----> 1\u001b[0;31m \u001b[0mtype\u001b[0m\u001b[0;34m(\u001b[0m\u001b[0mz\u001b[0m\u001b[0;34m)\u001b[0m\u001b[0;34m\u001b[0m\u001b[0m\n\u001b[0m",
      "\u001b[0;31mNameError\u001b[0m: name 'z' is not defined"
     ]
    }
   ],
   "source": [
    "type(z)"
   ]
  },
  {
   "cell_type": "markdown",
   "metadata": {},
   "source": [
    "No python os operadores + e * atuam nas strings concatenando elas. Vejamos os examplos a seguir:"
   ]
  },
  {
   "cell_type": "code",
   "execution_count": 5,
   "metadata": {
    "ExecuteTime": {
     "end_time": "2018-05-23T11:09:12.832836Z",
     "start_time": "2018-05-23T11:09:12.830137Z"
    }
   },
   "outputs": [],
   "source": [
    "c=\"O que é isso? \" + b"
   ]
  },
  {
   "cell_type": "code",
   "execution_count": 7,
   "metadata": {
    "ExecuteTime": {
     "end_time": "2018-05-23T11:10:08.287036Z",
     "start_time": "2018-05-23T11:10:08.284125Z"
    }
   },
   "outputs": [
    {
     "name": "stdout",
     "output_type": "stream",
     "text": [
      "O que é isso? Isso é uma string. Um texto ou palavra são strings.  O que é isso? Isso é uma string. Um texto ou palavra são strings. O que é isso? Isso é uma string. Um texto ou palavra são strings. \n"
     ]
    }
   ],
   "source": [
    "print(c,2*c)"
   ]
  },
  {
   "cell_type": "code",
   "execution_count": 9,
   "metadata": {
    "ExecuteTime": {
     "end_time": "2018-05-23T11:11:04.031054Z",
     "start_time": "2018-05-23T11:11:04.023395Z"
    }
   },
   "outputs": [
    {
     "name": "stdout",
     "output_type": "stream",
     "text": [
      "Temos Thiago Thiago \n"
     ]
    }
   ],
   "source": [
    "d=\"Thiago \"\n",
    "print(\"Temos\", 2*d)"
   ]
  },
  {
   "cell_type": "markdown",
   "metadata": {},
   "source": [
    "O python é uma linguagem de tipagem dinâmica, observer que antes c era do tipo string a agora:"
   ]
  },
  {
   "cell_type": "code",
   "execution_count": 10,
   "metadata": {
    "ExecuteTime": {
     "end_time": "2018-05-23T11:12:13.682749Z",
     "start_time": "2018-05-23T11:12:13.678206Z"
    }
   },
   "outputs": [
    {
     "data": {
      "text/plain": [
       "complex"
      ]
     },
     "execution_count": 10,
     "metadata": {},
     "output_type": "execute_result"
    }
   ],
   "source": [
    "c = 2 + 1j\n",
    "type(c)"
   ]
  },
  {
   "cell_type": "code",
   "execution_count": 11,
   "metadata": {
    "ExecuteTime": {
     "end_time": "2018-05-23T11:12:14.749472Z",
     "start_time": "2018-05-23T11:12:14.743295Z"
    }
   },
   "outputs": [
    {
     "name": "stdout",
     "output_type": "stream",
     "text": [
      "(2+1j)\n"
     ]
    }
   ],
   "source": [
    "print(c)"
   ]
  },
  {
   "cell_type": "code",
   "execution_count": 12,
   "metadata": {
    "ExecuteTime": {
     "end_time": "2018-05-23T11:12:15.639986Z",
     "start_time": "2018-05-23T11:12:15.635661Z"
    }
   },
   "outputs": [
    {
     "data": {
      "text/plain": [
       "list"
      ]
     },
     "execution_count": 12,
     "metadata": {},
     "output_type": "execute_result"
    }
   ],
   "source": [
    "d = [1, 3, 56]\n",
    "type(d)"
   ]
  },
  {
   "cell_type": "code",
   "execution_count": 13,
   "metadata": {
    "ExecuteTime": {
     "end_time": "2018-05-23T11:12:16.837382Z",
     "start_time": "2018-05-23T11:12:16.833469Z"
    }
   },
   "outputs": [
    {
     "name": "stdout",
     "output_type": "stream",
     "text": [
      "(2+1j) [1, 3, 56]\n"
     ]
    }
   ],
   "source": [
    "print(c, d)"
   ]
  },
  {
   "cell_type": "markdown",
   "metadata": {},
   "source": [
    " Números <a name=\"CP3-numeros\"></a> \n",
    "\n",
    "Python oferece alguns tipos numéricos na forma de *builtins*:\n",
    "\n",
    "+ Inteiro (*int*): i = 1\n",
    "+ Real de ponto flutuante (*float*): f = 3.14\n",
    "+ Complexo (*complex*): c = 3 + 4j\n",
    "\n",
    "Além dos números inteiros convencionais, existem também os inteiros longos, que tem dimensão arbitrária e são limitados pela memória disponível. As conversões entre inteiro e longo são realizadas de forma automática. A função *builtin int()* pode ser usada para converter outros tipos para inteiro, incluindo mudanças de base.\n",
    "\n",
    "## Outras informações <a name=\"CP3-num-outras-inf\"></a>\n",
    "\n",
    "-   Introdução Informal aos números. [Python tutorial, section 3.1.1](http://docs.python.org/tutorial/introduction.html#using-python-as-a-calculator)\n",
    "\n",
    "-   Biblioteca de Referência do Python: uma visão formal do tipos numéricos, <http://docs.python.org/library/stdtypes.html#numeric-types-int-float-long-complex>\n",
    "\n",
    "-   Como Pensar Como um Cientista da Computação [seção 2.1](https://panda.ime.usp.br/pensepy/static/pensepy/) ou no original em inglês Think Python, [Sec 2.1](http://www.greenteapress.com/thinkpython/html/book003.html)\n",
    "\n",
    "\n",
    "Os tipos numéricos builtin são os inteiros, os números de ponto flutuante (veja [Números de ponto flutuante](#Números de ponto flutuante)) e os números complexos de ponto flutuante ([Números complexos](#Números complexos)).\n",
    "\n",
    "## Inteiros <a name=\"CP3-numeros-inteiros\"></a> \n",
    "\n",
    "Os numeros inteiros já foram visto em [Capítulo 2](02-Uma-poderosa-calculadora.ipynb). Os alertas quanto aos cuidados que se deve ter na divisão de inteiros já foi feito em ([integer division](02-Uma-poderosa-calculadora.ipynb#Divisão Inteira (Integer division))).\n",
    "\n",
    "Se precisamos converter uma string contendo um número inteiro para um inteiro podemos usar a função `int()`:"
   ]
  },
  {
   "cell_type": "code",
   "execution_count": 16,
   "metadata": {
    "ExecuteTime": {
     "end_time": "2018-05-23T11:16:25.154513Z",
     "start_time": "2018-05-23T11:16:25.147853Z"
    }
   },
   "outputs": [
    {
     "name": "stdout",
     "output_type": "stream",
     "text": [
      "A variável a é do tipo <class 'str'>  e o seu conteúdo é:  34j\n",
      "A variável x é do tipo <class 'complex'>  e o seu conteúdo é:  34j\n",
      "x+2 =  (2+34j)\n"
     ]
    }
   ],
   "source": [
    "a = '34j'       # a é uma string contendo os caracteres 3 e 4\n",
    "print(\"A variável a é do tipo\", type(a),\" e o seu conteúdo é: \", a)\n",
    "x = complex(a)     # x será um número inteiro, como pode ser visto\n",
    "print(\"A variável x é do tipo\", type(x),\" e o seu conteúdo é: \", x)\n",
    "print(\"x+2 = \", x+2)"
   ]
  },
  {
   "cell_type": "code",
   "execution_count": null,
   "metadata": {},
   "outputs": [],
   "source": [
    "a."
   ]
  },
  {
   "cell_type": "code",
   "execution_count": 15,
   "metadata": {
    "ExecuteTime": {
     "end_time": "2018-05-23T11:16:20.320478Z",
     "start_time": "2018-05-23T11:16:20.316635Z"
    }
   },
   "outputs": [
    {
     "name": "stdout",
     "output_type": "stream",
     "text": [
      "34.0 <class 'float'>\n"
     ]
    }
   ],
   "source": [
    "b=x.imag\n",
    "print(b, type(b))"
   ]
  },
  {
   "cell_type": "code",
   "execution_count": 17,
   "metadata": {
    "ExecuteTime": {
     "end_time": "2018-05-23T11:23:40.782020Z",
     "start_time": "2018-05-23T11:23:40.773075Z"
    }
   },
   "outputs": [
    {
     "name": "stdout",
     "output_type": "stream",
     "text": [
      "-34j\n"
     ]
    }
   ],
   "source": [
    "c=complex.conjugate(x)\n",
    "print(c)"
   ]
  },
  {
   "cell_type": "code",
   "execution_count": null,
   "metadata": {
    "collapsed": true
   },
   "outputs": [],
   "source": [
    "a+3"
   ]
  },
  {
   "cell_type": "markdown",
   "metadata": {},
   "source": [
    "A função `int()` também converterá números de ponto flutuante em inteiros:"
   ]
  },
  {
   "cell_type": "code",
   "execution_count": 18,
   "metadata": {
    "ExecuteTime": {
     "end_time": "2018-05-23T11:23:45.410207Z",
     "start_time": "2018-05-23T11:23:45.405610Z"
    }
   },
   "outputs": [
    {
     "name": "stdout",
     "output_type": "stream",
     "text": [
      "7 7\n"
     ]
    }
   ],
   "source": [
    "print(int(7.2),int(7.8))"
   ]
  },
  {
   "cell_type": "markdown",
   "metadata": {},
   "source": [
    "Note que int irá truncar qualquer parte não-inteira de um número de ponto flutuante. Para arredondar use a função `round` um número de ponto flutuante para um inteiro, use o comando `round()`:"
   ]
  },
  {
   "cell_type": "code",
   "execution_count": 19,
   "metadata": {
    "ExecuteTime": {
     "end_time": "2018-05-23T11:24:21.131054Z",
     "start_time": "2018-05-23T11:24:21.126590Z"
    }
   },
   "outputs": [
    {
     "name": "stdout",
     "output_type": "stream",
     "text": [
      "8 6 9 9\n"
     ]
    }
   ],
   "source": [
    "print(round(7.9),round(6.2),round(8.51),round(9.459))"
   ]
  },
  {
   "cell_type": "markdown",
   "metadata": {},
   "source": [
    "### Limite dos inteiros <a name=\"CP3-limite-int\"></a>\n",
    "\n",
    "Inteiros em Python 3 são ilimitados; O Python atribuirá automaticamente mais memória conforme necessário à medida que os números crescerem. Isso significa que podemos calcular números muito grandes sem etapas especiais."
   ]
  },
  {
   "cell_type": "markdown",
   "metadata": {},
   "source": [
    "Em muitas outras linguagens de programação, como C e FORTRAN, os inteiros possuem um tamanho fixo - mais freqüentemente de 4 bytes, o que permite $2^{32}$ valores diferentes -, mas diferentes tipos estão disponíveis com tamanhos diferentes. Para números que se encaixam nesses limites, os cálculos podem ser mais rápidos, mas talvez seja necessário verificar se os números não ultrapassam os limites. Cálculo de um número além dos limites é chamado de *overflow de inteiro*, e pode produzir resultados bizarros.\n",
    "\n",
    "Mesmo em Python, precisamos estar cientes disso quando usamos numpy (ver [Capítulo 14](14-numpy.ipynb)). A biblioteca Numpy usa números inteiros com um tamanho fixo, porque armazena muitos deles juntos e precisa rrealizar seus calculos de forma eficiente com eles. [Numpy data types](http://docs.scipy.org/doc/numpy/user/basics.types.html) incluem um intervalo de tipos inteiros nomeados para o seu tamanho, por exemplo. `Int16` é um inteiro de 16 bits, com $2^{16}$ valores possíveis.\n",
    "\n",
    "Os tipos inteiros também podem ser *signed* ou *unsigned*. Os inteiros *signed* permitem valores positivos ou negativos, os inteiros *unsigned* permitem apenas valores positivos. Por exemplo:\n",
    "\n",
    "* uint16 (unsigned) varia de 0 até $2^{16}-1$\n",
    "* int16 (signed) varia de $-2^{15}$ até $2^{15}-1$"
   ]
  },
  {
   "cell_type": "code",
   "execution_count": 20,
   "metadata": {
    "ExecuteTime": {
     "end_time": "2018-05-23T11:24:56.786215Z",
     "start_time": "2018-05-23T11:24:56.782331Z"
    }
   },
   "outputs": [
    {
     "data": {
      "text/plain": [
       "128386736769305711787987440336884030939153183899282067208042689216338327514515572655843497544974135388905532206992407232627192909327221907243972101072974696425190847466522405309149824555844264549453097737939357514087057858078533628150628056866812409797518057530396617949008941650390625"
      ]
     },
     "execution_count": 20,
     "metadata": {},
     "output_type": "execute_result"
    }
   ],
   "source": [
    "35**184"
   ]
  },
  {
   "cell_type": "markdown",
   "metadata": {},
   "source": [
    "Para usar o último resultado use `_`:"
   ]
  },
  {
   "cell_type": "code",
   "execution_count": 21,
   "metadata": {
    "ExecuteTime": {
     "end_time": "2018-05-23T11:25:37.766348Z",
     "start_time": "2018-05-23T11:25:37.762105Z"
    }
   },
   "outputs": [
    {
     "data": {
      "text/plain": [
       "256773473538611423575974880673768061878306367798564134416085378432676655029031145311686995089948270777811064413984814465254385818654443814487944202145949392850381694933044810618299649111688529098906195475878715028174115716157067256301256113733624819595036115060793235898017883300781250"
      ]
     },
     "execution_count": 21,
     "metadata": {},
     "output_type": "execute_result"
    }
   ],
   "source": [
    "2*_"
   ]
  },
  {
   "cell_type": "code",
   "execution_count": 22,
   "metadata": {
    "ExecuteTime": {
     "end_time": "2018-05-23T11:26:20.549725Z",
     "start_time": "2018-05-23T11:26:20.545966Z"
    }
   },
   "outputs": [
    {
     "name": "stdout",
     "output_type": "stream",
     "text": [
      "256773473538611423575974880673768061878306367798564134416085378432676655029031145311686995089948270777811064413984814465254385818654443814487944202145949392850381694933044810618299649111688529098906195475878715028174115716157067256301256113733624819595036115060793235898017883300781250 285\n"
     ]
    }
   ],
   "source": [
    "a=str(_)\n",
    "print(a, len(a))"
   ]
  },
  {
   "cell_type": "markdown",
   "metadata": {},
   "source": [
    "## Números de ponto flutuante <a name=\"CP3-numeros-float\"></a> \n",
    "\n",
    "Uma string contendo um número de ponto flutuante pode ser convertida em um número de ponto flutuante usando o comando `float()`:"
   ]
  },
  {
   "cell_type": "code",
   "execution_count": 23,
   "metadata": {
    "ExecuteTime": {
     "end_time": "2018-05-23T11:26:41.118863Z",
     "start_time": "2018-05-23T11:26:41.113477Z"
    }
   },
   "outputs": [
    {
     "name": "stdout",
     "output_type": "stream",
     "text": [
      "A variável a é do tipo <class 'str'>  e o seu conteúdo é:  35.342\n",
      "A variável x é do tipo <class 'float'>  e o seu conteúdo é:  35.342\n",
      "x+1.102 =  36.443999999999996\n"
     ]
    }
   ],
   "source": [
    "a = '35.342'   # a é uma string \n",
    "print(\"A variável a é do tipo\", type(a),\" e o seu conteúdo é: \", a)\n",
    "x = float(a)     # x será um número de ponto flutuante, como pode ser visto\n",
    "print(\"A variável x é do tipo\", type(x),\" e o seu conteúdo é: \", x)\n",
    "print(\"x+1.102 = \", x+1.1020)"
   ]
  },
  {
   "cell_type": "code",
   "execution_count": 24,
   "metadata": {
    "ExecuteTime": {
     "end_time": "2018-05-23T11:26:41.890011Z",
     "start_time": "2018-05-23T11:26:41.885083Z"
    }
   },
   "outputs": [
    {
     "data": {
      "text/plain": [
       "float"
      ]
     },
     "execution_count": 24,
     "metadata": {},
     "output_type": "execute_result"
    }
   ],
   "source": [
    "type(b)"
   ]
  },
  {
   "cell_type": "markdown",
   "metadata": {},
   "source": [
    "<span style=\"color:red\"; font-size:160%;>\n",
    "<span style=\"background-color:yellow\"; font-family:'Liberations'; font-size: 14pt;>A sessão abaixo foi incluída simplesmente por uma questão de completeza, não precisa ser lida em, uma primeira leitura</span> </span>\n",
    "\n",
    "\n",
    "### Python `str()` ou `repr()` em um número de ponto flutuante?\n",
    "\n",
    "Muitas vezes precisamos converter objetos em sua representação de sequência de caracteres para saída agradável. Para fazer isso em python, podemos usar a função built-in `str()`. No entanto, pode não ser sempre a melhor função para usar. Isto é especialmente verdadeiro se queremos produzir com precisão número de ponto flutuante como uma string:\n",
    "\n",
    "```pyyhon\n",
    ">>> x = 1.000000000009\n",
    ">>> str(x)\n",
    "'1.00000000001'\n",
    "```\n",
    "\n",
    "No python 3 foi introduzida o módulo [`reprlib`](https://docs.python.org/3/library/reprlib.html?highlight=reprlib#module-reprlib) o qual fornece um meio para produzir representações de objeto com limites no tamanho das cadeias resultantes. Isso é usado no depurador Python e pode ser útil em outros contextos também.\n",
    "\n",
    "Este módulo fornece uma classe, uma instância e uma função:\n",
    "\n",
    "> class reprlib.Repr\n",
    ">\n",
    ">     Classe que fornece serviços de formatação úteis na implementação de funções semelhantes ao built-in `repr()`; Os limites de tamanho para diferentes tipos de objetos são adicionados para evitar a geração de representações que são excessivamente longas.\n",
    "\n",
    "\n",
    "Do manual do [python 3](https://docs.python.org/3/library/functions.html?highlight=repr#repr) a função `repr()` *retorna uma string contendo uma representação imprimível de um objeto. Para muitos tipos, essa função faz uma tentativa de retornar uma string que renderia um objeto com o mesmo valor quando passada para `eval()`, caso contrário a representação é uma string entre colchetes angulares que contém o nome do tipo do objeto em junto com informações adicionais, muitas vezes incluindo o nome e o endereço do objeto. Uma classe pode controlar o que essa função retorna para suas instâncias definindo um método `__repr__ ()`.*\n",
    "\n",
    "> Classe str (object = '')\n",
    ">\n",
    "> Retorna uma string contendo uma representação bem imprimível de um objeto. Para strings, isso retorna a sequência em si. A diferença com repr (objeto) é que str (objeto) nem sempre tenta retornar uma string que é aceitável para eval (); Seu objetivo é retornar uma sequência imprimível. Se nenhum argumento é fornecido, retorna a sequência vazia ' '.\n",
    "\n",
    "Então, se quisermos mostrar o número de ponto flutuante exato, precisamos usar `repr()` em vez de `str()`:\n",
    "\n",
    "```python\n",
    ">>> x = 1.000000000009\n",
    ">>> repr(x)\n",
    "'1.000000000009'\n",
    "```\n",
    "\n",
    "Curiosamente, chamar `str()` em uma tupla contendo um número de ponto flutuante produz o seguinte resultado:\n",
    "\n",
    "```python\n",
    ">>> X = (1.000000000009, 3)\n",
    ">>> str(x)\n",
    "'(1.000000000009, 3)'\n",
    "```\n",
    "\n",
    "Acontece que isso ocorre porque a impressão de uma tupla usa PyObject_Print que tem a seguinte documentação:\n",
    "\n",
    ">      int PyObject_Print(PyObject *o, FILE *fp, int flags)\n",
    ">\n",
    ">     Imprimir um objeto o, no arquivo fp. Retorna -1 em caso de erro. O argumento flags é usado para ativar certas opções de impressão. A única opção atualmente suportada é Py_PRINT_RAW; Se for dado, o `str()` do objeto ela é escrita em vez do `repr()`.\n",
    "\n",
    "A chamada para PyObject_Print dentro função de impressão tupla não tem o sinalizador Py_PRINT_RAW definido e, portanto, imprime o repr de cada objeto dentro dele. Portanto, mesmo se você chamar `str()` na tupla você terá suas representações representativas de objetos, o que pode não ser o que você está esperando!"
   ]
  },
  {
   "cell_type": "code",
   "execution_count": 25,
   "metadata": {
    "ExecuteTime": {
     "end_time": "2018-05-23T11:27:06.094613Z",
     "start_time": "2018-05-23T11:27:06.090059Z"
    }
   },
   "outputs": [
    {
     "data": {
      "text/plain": [
       "'(1.000000000009, 3)'"
      ]
     },
     "execution_count": 25,
     "metadata": {},
     "output_type": "execute_result"
    }
   ],
   "source": [
    "x = 1.000000000009\n",
    "X = (1.000000000009, 3)\n",
    "str(X)"
   ]
  },
  {
   "cell_type": "code",
   "execution_count": 26,
   "metadata": {
    "ExecuteTime": {
     "end_time": "2018-05-23T11:27:20.468841Z",
     "start_time": "2018-05-23T11:27:20.464874Z"
    }
   },
   "outputs": [
    {
     "data": {
      "text/plain": [
       "'1.000000000009'"
      ]
     },
     "execution_count": 26,
     "metadata": {},
     "output_type": "execute_result"
    }
   ],
   "source": [
    "repr(x)"
   ]
  },
  {
   "cell_type": "markdown",
   "metadata": {},
   "source": [
    "## Representação dos números de ponto flutuante\n",
    "\n",
    "Mairoes detalhes sobre os números de ponto flutuante são obtidos no excelente artigo [What Every Computer Scientist Should Know About Floating-Point Arithmetic](http://docs.oracle.com/cd/E19957-01/806-3568/ncg_goldberg.html) e na página [What Every Programmer Should Know About Floating-Point Arithmetic or Why don’t my numbers add up?](http://floating-point-gui.de/). Também é uma boa fonte o manual do python 3 a seção [15. Floating Point Arithmetic: Issues and Limitations](https://docs.python.org/3/tutorial/floatingpoint.html?highlight=float%20point) e a [Floating Point Arithmetic: Issues and Limitations](https://docs.python.org/3/library/decimal.html?highlight=float%20point). Uma relação completa dos [objetos de ponto flutuantes do python 3](https://docs.python.org/3/c-api/float.html?highlight=float%20point) e as funções intrínsecas do python 3 são encontradas na seção [2. Built-in Functions](https://docs.python.org/3/library/functions.html).\n",
    "\n",
    "\n",
    "Os números de ponto flutuante são representados no hardware do computador como frações na base 2 (binária). Por exemplo, a fração decimal 0.125 tem o seguinte valor\n",
    "\n",
    "$$ 0.125 = \\frac{1}{10}+\\frac{2}{100}+\\frac{5}{1000},$$\n",
    "\n",
    "e do mesmo modo a fração binária 0.001 tem o seguinte valor\n",
    "\n",
    "$$ 0.001 = \\frac{0}{2}+\\frac{0}{4}+\\frac{1}{8}.$$\n",
    "\n",
    "Essas duas frações possuem valores identicos, a única diferença real deve-se ao fato de que a primeira foi escrita na notação de fração na base 10 enquanto a segunda foi escrita na base 2.\n",
    "\n",
    "Infelizmente, a maioria das frações decimais não pode ser representada exatamente como frações binárias. Uma consequência disso é que, em geral, os números decimais de ponto flutuante que você digita são aproximados apenas pelos números binários de ponto flutuante que são realmente armazenados na máquina.\n",
    "\n",
    "O problema é mais fácil de entender no início na base 10. Considere a fração 1/3. Você pode aproximar isso como uma fração de base 10:\n",
    "\n",
    "$$0.3 \\qquad \\text{ou} \\qquad 0.33  \\qquad \\text{ou} \\qquad 0.333 \\qquad \\text{ou} \\qquad \\ldots $$\n",
    "\n",
    "Não importa quantos dígitos você está disposto a escrever, o resultado nunca será exatamente 1/3, mas será uma aproximação cada vez melhor de 1/3.\n",
    "\n",
    "Da mesma forma, não importa quantos dígitos de base 2 você está disposto a usar, o valor decimal 0.1 não pode ser representado exatamente como uma fração de base 2. Na base 2, 1/10 é a fracção de repetição infinita\n",
    "\n",
    "$$0.0001100110011001100110011001100110011001100110011 \\ldots$$\n",
    "\n",
    "Ao parar em qualquer número finito de bits, e obtém-se uma aproximação. Na maioria das máquinas de hoje, os números  de ponto flutuantes são aproximados usando uma fração binária com o numerador usando os primeiros 53 bits começando com o bit mais significativo e com o denominador como uma potência de dois. No caso de 1/10, a fracção binária é\n",
    "\n",
    "$$ 0.1 = \\frac{1}{10} = \\frac{3602879701896397}{2^{55}},$$\n",
    "\n",
    "o que está próximo mas não é exatamente igual ao valor verdadeiro de 1/10.\n",
    "\n",
    "Muitos usuários não estão cientes da aproximação devido à forma como os valores são exibidos. O Python só imprime uma aproximação decimal do valor decimal verdadeiro da aproximação binária armazenada pela máquina. Na maioria das máquinas, se o Python imprimisse o valor decimal verdadeiro da aproximação binária armazenada para 0.1, teria que exibir\n",
    "\n",
    "$$ 0.1 = 0.1000000000000000055511151231257827021181583404541015625 $$\n",
    "\n",
    "Isso é mais dígitos do que a maioria das pessoas achar útil, então Python mantém o número de dígitos gerenciável exibindo um valor arredondado em vez disso.\n",
    "\n",
    "Basta lembrar, mesmo que o resultado impresso pareça o valor exato de 1/10, o valor real armazenado é a fração binária representável mais próxima.\n",
    "\n",
    "Curiosamente, existem muitos números decimais diferentes que compartilham a mesma fração binária aproximada mais próxima. Por exemplo, os números 0.1 e 0.10000000000000001 e 0.1000000000000000055511151231257827021181583404541015625 são todos aproximados por\n",
    "\n",
    "$$\\frac{3602879701896397}{2^{55}}.$$\n",
    "\n",
    "Como todos esses valores decimais compartilham a mesma aproximação, qualquer um deles poderia ser exibido enquanto ainda preservando a invariante eval(repr(x)) == x.\n",
    "\n",
    "Historicamente, o prompt do Python e a função repr() incorporada escolheriam aquele com 17 dígitos significativos, 0.10000000000000001. Começando com Python 3.1, Python (na maioria dos sistemas) agora é capaz de escolher o mais curto destes e simplesmente exibir 0.1.\n",
    "\n",
    "Note que esta é a própria natureza do ponto flutuante binário: este não é um bug no Python, e não é um bug no seu código. Você verá o mesmo tipo de coisa em todas as linguagens de programação que suportam a aritmética de ponto flutuante do seu hardware (embora algumas linguagens de programação não exibam a diferença por padrão ou em todos os modos de saída).\n",
    "\n",
    "Para obter uma saída mais agradável, você pode usar a formatação de string para produzir um número limitado de dígitos significativos:"
   ]
  },
  {
   "cell_type": "code",
   "execution_count": 28,
   "metadata": {
    "ExecuteTime": {
     "end_time": "2018-05-23T11:28:19.691344Z",
     "start_time": "2018-05-23T11:28:19.687041Z"
    }
   },
   "outputs": [
    {
     "data": {
      "text/plain": [
       "'3.14159265359'"
      ]
     },
     "execution_count": 28,
     "metadata": {},
     "output_type": "execute_result"
    }
   ],
   "source": [
    "import math\n",
    "format(math.pi, '.12g')  # fornece 12 digitos significantes "
   ]
  },
  {
   "cell_type": "code",
   "execution_count": 32,
   "metadata": {
    "ExecuteTime": {
     "end_time": "2018-05-23T11:29:11.550098Z",
     "start_time": "2018-05-23T11:29:11.544934Z"
    }
   },
   "outputs": [
    {
     "data": {
      "text/plain": [
       "['__doc__',\n",
       " '__loader__',\n",
       " '__name__',\n",
       " '__package__',\n",
       " '__spec__',\n",
       " 'acos',\n",
       " 'acosh',\n",
       " 'asin',\n",
       " 'asinh',\n",
       " 'atan',\n",
       " 'atan2',\n",
       " 'atanh',\n",
       " 'ceil',\n",
       " 'copysign',\n",
       " 'cos',\n",
       " 'cosh',\n",
       " 'degrees',\n",
       " 'e',\n",
       " 'erf',\n",
       " 'erfc',\n",
       " 'exp',\n",
       " 'expm1',\n",
       " 'fabs',\n",
       " 'factorial',\n",
       " 'floor',\n",
       " 'fmod',\n",
       " 'frexp',\n",
       " 'fsum',\n",
       " 'gamma',\n",
       " 'gcd',\n",
       " 'hypot',\n",
       " 'inf',\n",
       " 'isclose',\n",
       " 'isfinite',\n",
       " 'isinf',\n",
       " 'isnan',\n",
       " 'ldexp',\n",
       " 'lgamma',\n",
       " 'log',\n",
       " 'log10',\n",
       " 'log1p',\n",
       " 'log2',\n",
       " 'modf',\n",
       " 'nan',\n",
       " 'pi',\n",
       " 'pow',\n",
       " 'radians',\n",
       " 'sin',\n",
       " 'sinh',\n",
       " 'sqrt',\n",
       " 'tan',\n",
       " 'tanh',\n",
       " 'trunc']"
      ]
     },
     "execution_count": 32,
     "metadata": {},
     "output_type": "execute_result"
    }
   ],
   "source": [
    "dir(math)"
   ]
  },
  {
   "cell_type": "code",
   "execution_count": 33,
   "metadata": {
    "ExecuteTime": {
     "end_time": "2018-05-23T11:29:23.699389Z",
     "start_time": "2018-05-23T11:29:23.695089Z"
    }
   },
   "outputs": [],
   "source": [
    "math.sin?"
   ]
  },
  {
   "cell_type": "code",
   "execution_count": 37,
   "metadata": {
    "ExecuteTime": {
     "end_time": "2018-05-23T11:30:49.922627Z",
     "start_time": "2018-05-23T11:30:49.914635Z"
    }
   },
   "outputs": [
    {
     "data": {
      "text/plain": [
       "'3.142'"
      ]
     },
     "execution_count": 37,
     "metadata": {},
     "output_type": "execute_result"
    }
   ],
   "source": [
    "format(math.pi, '.3f')   # fornece 2 digitos após o ponto decimal "
   ]
  },
  {
   "cell_type": "code",
   "execution_count": 38,
   "metadata": {
    "ExecuteTime": {
     "end_time": "2018-05-23T11:30:57.449701Z",
     "start_time": "2018-05-23T11:30:57.445370Z"
    }
   },
   "outputs": [
    {
     "data": {
      "text/plain": [
       "'3.141592653589793'"
      ]
     },
     "execution_count": 38,
     "metadata": {},
     "output_type": "execute_result"
    }
   ],
   "source": [
    "repr(math.pi)"
   ]
  },
  {
   "cell_type": "markdown",
   "metadata": {},
   "source": [
    "É importante perceber que isso é, em um sentido real, uma ilusão: você está simplesmente arredondando a exibição do verdadeiro valor da máquina.\n",
    "\n",
    "Uma ilusão pode gerar outra. Por exemplo, uma vez que 0.1 não é exatamente 1/10, somar três valores de 0.1 pode não resultar exatamente 0.3 assim:"
   ]
  },
  {
   "cell_type": "code",
   "execution_count": 39,
   "metadata": {
    "ExecuteTime": {
     "end_time": "2018-05-23T11:31:44.421817Z",
     "start_time": "2018-05-23T11:31:44.417660Z"
    }
   },
   "outputs": [
    {
     "data": {
      "text/plain": [
       "False"
      ]
     },
     "execution_count": 39,
     "metadata": {},
     "output_type": "execute_result"
    }
   ],
   "source": [
    ".1 + .1 + .1 == .3"
   ]
  },
  {
   "cell_type": "code",
   "execution_count": 40,
   "metadata": {
    "ExecuteTime": {
     "end_time": "2018-05-23T11:32:09.294543Z",
     "start_time": "2018-05-23T11:32:09.291067Z"
    }
   },
   "outputs": [
    {
     "data": {
      "text/plain": [
       "True"
      ]
     },
     "execution_count": 40,
     "metadata": {},
     "output_type": "execute_result"
    }
   ],
   "source": [
    "#para comparar esses números são iguais\n",
    "abs((.1+.1+.1)-.3)> 1.0e-20"
   ]
  },
  {
   "cell_type": "markdown",
   "metadata": {},
   "source": [
    "A representação interna é"
   ]
  },
  {
   "cell_type": "code",
   "execution_count": 41,
   "metadata": {
    "ExecuteTime": {
     "end_time": "2018-05-23T11:32:14.188043Z",
     "start_time": "2018-05-23T11:32:14.180209Z"
    }
   },
   "outputs": [
    {
     "data": {
      "text/plain": [
       "'0.30000000000000004'"
      ]
     },
     "execution_count": 41,
     "metadata": {},
     "output_type": "execute_result"
    }
   ],
   "source": [
    "repr(0.1+0.1+0.1)"
   ]
  },
  {
   "cell_type": "markdown",
   "metadata": {},
   "source": [
    "Além disso, uma vez que o 0.1 não pode chegar mais perto do valor exato de 1/10 e 0.3 não pode chegar mais perto do valor exato de 3/10, em seguida, o pré-arredondamento com função round() não pode ajudar:\n"
   ]
  },
  {
   "cell_type": "code",
   "execution_count": 43,
   "metadata": {
    "ExecuteTime": {
     "end_time": "2018-05-23T11:33:24.475107Z",
     "start_time": "2018-05-23T11:33:24.470495Z"
    }
   },
   "outputs": [
    {
     "data": {
      "text/plain": [
       "True"
      ]
     },
     "execution_count": 43,
     "metadata": {},
     "output_type": "execute_result"
    }
   ],
   "source": [
    "round(.1 + .1 + .1, 10) == round(.3, 10)"
   ]
  },
  {
   "cell_type": "code",
   "execution_count": 44,
   "metadata": {
    "ExecuteTime": {
     "end_time": "2018-05-23T11:33:30.086302Z",
     "start_time": "2018-05-23T11:33:30.083300Z"
    }
   },
   "outputs": [],
   "source": [
    "round?"
   ]
  },
  {
   "cell_type": "markdown",
   "metadata": {},
   "source": [
    "Aritmética binária de ponto flutuante mantém muitas surpresas como esta. O problema com \"0.1\" é explicado em detalhes precisos abaixo, na seção \"Erro de Representação\". Veja Os [Perigos do Ponto Flutuante](http://www.lahey.com/float.htm) para um relato mais completo de outras surpresas comuns.\n",
    "\n",
    "Como se diz, perto do final, \"não há respostas fáceis\". Ainda assim, não se sinta excessivamente cauteloso com o ponto flutuante! Os erros nas operações de ponto flutuante (os floats) no Python são herdados do ponto flutuante hardware e na maioria das máquinas são da ordem de não mais do que 1 parte em $2^{53}$ por operação. Isso é mais do que adequado para a maioria das tarefas, mas você precisa ter em mente que não é aritmética decimal e que cada operação de flutuação pode sofrer um novo erro de arredondamento.\n",
    "\n",
    "Embora existam casos patológicos, para o uso mais casual de aritmética de ponto flutuante, você verá o resultado esperado no final se você simplesmente arredondar a exibição de seus resultados finais para o número de dígitos decimais que você espera. A função [str()](https://docs.python.org/3/library/stdtypes.html#str) geralmente é suficiente, e para um controle mais fino veja os especificadores de formato do método [str.format()](https://docs.python.org/3/library/stdtypes.html#str.format) em [Format String Syntax](https://docs.python.org/3/library/string.html#formatstrings).\n",
    "\n",
    "Para casos de uso que exigem representação decimal exata, tente usar o módulo decimal que implementa a aritmética decimal adequada para aplicativos de contabilidade e aplicações de alta precisão.\n",
    "\n",
    "Outra forma de aritmética exata é suportada pelo módulo de frações que implementam a aritmética baseada em números racionais (assim os números como 1/3 podem ser representados exatamente).\n",
    "\n",
    "Se você for um grande usuário de operações de ponto flutuante, você deve dar uma olhada no pacote Numérico Python e em muitos outros pacotes para operações matemáticas e estatísticas fornecidas pelo projeto SciPy. Consulte <https://scipy.org>.\n",
    "\n",
    "O Python fornece ferramentas que podem ajudar nessas raras ocasiões em que você realmente quer saber o valor exato de um número de ponto flutuante. O método [float.as_integer_ratio()](https://docs.python.org/3/library/stdtypes.html#float.as_integer_ratio) expressa o valor de um um número de ponto flutuante (um float) como uma fração:"
   ]
  },
  {
   "cell_type": "code",
   "execution_count": 45,
   "metadata": {
    "ExecuteTime": {
     "end_time": "2018-05-23T11:34:01.832639Z",
     "start_time": "2018-05-23T11:34:01.828230Z"
    }
   },
   "outputs": [
    {
     "data": {
      "text/plain": [
       "(3537115888337719, 1125899906842624)"
      ]
     },
     "execution_count": 45,
     "metadata": {},
     "output_type": "execute_result"
    }
   ],
   "source": [
    "x = 3.14159\n",
    "x.as_integer_ratio()"
   ]
  },
  {
   "cell_type": "markdown",
   "metadata": {},
   "source": [
    "Como a relação é exata, ela pode ser usada para recriar sem perdas o valor original:"
   ]
  },
  {
   "cell_type": "code",
   "execution_count": 46,
   "metadata": {
    "ExecuteTime": {
     "end_time": "2018-05-23T11:34:25.693511Z",
     "start_time": "2018-05-23T11:34:25.684980Z"
    }
   },
   "outputs": [
    {
     "data": {
      "text/plain": [
       "True"
      ]
     },
     "execution_count": 46,
     "metadata": {},
     "output_type": "execute_result"
    }
   ],
   "source": [
    "x == 3537115888337719 / 1125899906842624"
   ]
  },
  {
   "cell_type": "code",
   "execution_count": 47,
   "metadata": {
    "ExecuteTime": {
     "end_time": "2018-05-23T11:34:31.881564Z",
     "start_time": "2018-05-23T11:34:31.870115Z"
    }
   },
   "outputs": [
    {
     "data": {
      "text/plain": [
       "(3602879701896397, 36028797018963968)"
      ]
     },
     "execution_count": 47,
     "metadata": {},
     "output_type": "execute_result"
    }
   ],
   "source": [
    "k=0.1\n",
    "k.as_integer_ratio() #se esperaria ter uma razão 1/10, mas não é."
   ]
  },
  {
   "cell_type": "markdown",
   "metadata": {},
   "source": [
    "O método [float.hex()](https://docs.python.org/3/library/stdtypes.html#float.hex) expressa um número de ponto flutuante em hexadecimal (base 16), dando novamente o valor exato armazenado pelo seu computador:"
   ]
  },
  {
   "cell_type": "code",
   "execution_count": 48,
   "metadata": {
    "ExecuteTime": {
     "end_time": "2018-05-23T11:34:58.006099Z",
     "start_time": "2018-05-23T11:34:57.995199Z"
    }
   },
   "outputs": [
    {
     "data": {
      "text/plain": [
       "True"
      ]
     },
     "execution_count": 48,
     "metadata": {},
     "output_type": "execute_result"
    }
   ],
   "source": [
    "x == float.fromhex('0x1.921f9f01b866ep+1')"
   ]
  },
  {
   "cell_type": "markdown",
   "metadata": {},
   "source": [
    "Uma vez que a representação é exata, ela é útil para portar valores confiáveis em diferentes versões do Python (independente de plataforma) e trocar dados com outras linguagens de programação que suportam o mesmo formato (como o Java, o C99, o Fortan 2008, etc).\n",
    "\n",
    "Outra ferramenta útil é a função [math.fsum()](https://docs.python.org/3/library/math.html#math.fsum) que ajuda a mitigar a perda de precisão durante o somatório. Ele rastreia \"dígitos perdidos\" como valores são adicionados em um total rodando. Isso pode fazer uma diferença na precisão geral para que os erros não se acumulam ao ponto onde eles afetam o total final:"
   ]
  },
  {
   "cell_type": "code",
   "execution_count": 49,
   "metadata": {
    "ExecuteTime": {
     "end_time": "2018-05-23T11:35:02.432044Z",
     "start_time": "2018-05-23T11:35:02.428904Z"
    }
   },
   "outputs": [
    {
     "name": "stdout",
     "output_type": "stream",
     "text": [
      "False\n",
      "True\n"
     ]
    }
   ],
   "source": [
    "print(sum([0.1] * 10) == 1.0)\n",
    "print(math.fsum([0.1] * 10) == 1.0)"
   ]
  },
  {
   "cell_type": "markdown",
   "metadata": {},
   "source": [
    "## Erro de Representação <a name=\"CP3-Erros-de-Representação\"></a>\n",
    "\n",
    "Aqui será explicado o exemplo do número \"0.1\" em detalhes e será mostrado como se pode realizar uma análise exata de outros casos como este.\n",
    "\n",
    "O erro de representação refere-se ao fato de que algumas (na maioria das vezes, as frações decimais) não podem ser representadas exatamente como frações binárias (base 2). Esta é a principal razão pela qual o Python (ou Perl, C, C++, Java, Fortran e muitas outras linguagens) muitas vezes não exibirá o número decimal exato que você espera.\n",
    "\n",
    "Por que é que? 1/10 não é exatamente representável como uma fração binária. Quase todas as máquinas hoje (a patir  de novembro de 2000) usam a aritmética de ponto flutuante IEEE-754, e quase todas as plataformas mapeiam os número de ponto flutuante em Python para IEEE-754 \"dupla precisão\". A dupla precisão do 754 contêm 53 bits de precisão, por isso na entrada do computador se esforça para converter 0.1 para a fração mais próxima que pode da forma $J/2^N$ onde $J$ é um número inteiro contendo exatamente 53 bits. Reescrevendo\n",
    "\n",
    "$$ 1 / 10 ~= J / (2^N) $$\n",
    "\n",
    "como\n",
    "\n",
    "$$ J ~= 2^N / 10 $$\n",
    "\n",
    "e lembrando que J tem exatamente 53 bits (isto é $ \\ge 2^{52}$ mas $<2^{53}$), o melhor valor para $N$ é 56:"
   ]
  },
  {
   "cell_type": "code",
   "execution_count": 50,
   "metadata": {
    "ExecuteTime": {
     "end_time": "2018-05-23T11:35:13.547630Z",
     "start_time": "2018-05-23T11:35:13.542882Z"
    }
   },
   "outputs": [
    {
     "data": {
      "text/plain": [
       "True"
      ]
     },
     "execution_count": 50,
     "metadata": {},
     "output_type": "execute_result"
    }
   ],
   "source": [
    "2**52 <=  2**56 // 10  < 2**53"
   ]
  },
  {
   "cell_type": "markdown",
   "metadata": {},
   "source": [
    "Ou seja, 56 é o único valor para N que deixa J com exatamente 53 bits. O melhor valor possível para J é então aquele com o  quociente arredondado:"
   ]
  },
  {
   "cell_type": "code",
   "execution_count": 52,
   "metadata": {
    "ExecuteTime": {
     "end_time": "2018-05-23T11:36:30.264703Z",
     "start_time": "2018-05-23T11:36:30.261120Z"
    }
   },
   "outputs": [
    {
     "name": "stdout",
     "output_type": "stream",
     "text": [
      "5 6\n"
     ]
    }
   ],
   "source": [
    "a, b = 5, 6 #tupla\n",
    "print(a, b)"
   ]
  },
  {
   "cell_type": "code",
   "execution_count": 53,
   "metadata": {
    "ExecuteTime": {
     "end_time": "2018-05-23T11:36:48.908764Z",
     "start_time": "2018-05-23T11:36:48.905497Z"
    }
   },
   "outputs": [
    {
     "data": {
      "text/plain": [
       "6"
      ]
     },
     "execution_count": 53,
     "metadata": {},
     "output_type": "execute_result"
    }
   ],
   "source": [
    "q, r = divmod(2**56, 10)\n",
    "r"
   ]
  },
  {
   "cell_type": "markdown",
   "metadata": {},
   "source": [
    "Uma vez que o restante é mais da metade de 10, a melhor aproximação é obtida arredondando para cima:"
   ]
  },
  {
   "cell_type": "code",
   "execution_count": 54,
   "metadata": {
    "ExecuteTime": {
     "end_time": "2018-05-23T11:36:53.167865Z",
     "start_time": "2018-05-23T11:36:53.164407Z"
    }
   },
   "outputs": [
    {
     "data": {
      "text/plain": [
       "7205759403792794"
      ]
     },
     "execution_count": 54,
     "metadata": {},
     "output_type": "execute_result"
    }
   ],
   "source": [
    "q+1"
   ]
  },
  {
   "cell_type": "markdown",
   "metadata": {},
   "source": [
    "Portanto, a melhor aproximação possível para 1/10 em 754 dupla precisão é:\n",
    "\n",
    "$$7205759403792794 / 2^{56} = \\frac{7205759403792794}{2^{56}} $$\n",
    "\n",
    "Dividindo o numerador e o denominador por dois reduz-se a fração para:\n",
    "\n",
    "$$ 3602879701896397 / 2^{55} = \\frac{3602879701896397}{2^{55}} $$\n",
    "\n",
    "Note que, uma vez que arredondado para cima, este é realmente um pouco maior do que 1/10; Se não tivéssemos arredondado para cima, o quociente teria sido um pouco menor do que 1/10. Mas em nenhum caso pode ser exatamente 1/10!\n",
    "\n",
    "Então o computador nunca \"vê\" 1/10: o que ele vê é a fração exata dada acima, a melhor aproximação em precisão dupla que a 754 pode obter é:"
   ]
  },
  {
   "cell_type": "code",
   "execution_count": 55,
   "metadata": {
    "ExecuteTime": {
     "end_time": "2018-05-23T11:37:03.521460Z",
     "start_time": "2018-05-23T11:37:03.517177Z"
    }
   },
   "outputs": [
    {
     "data": {
      "text/plain": [
       "3602879701896397.0"
      ]
     },
     "execution_count": 55,
     "metadata": {},
     "output_type": "execute_result"
    }
   ],
   "source": [
    "0.1 * 2 ** 55"
   ]
  },
  {
   "cell_type": "markdown",
   "metadata": {},
   "source": [
    "Se multiplicarmos essa fração por $10^{55}$, podemos ver o valor acima de 55 dígitos decimais:"
   ]
  },
  {
   "cell_type": "code",
   "execution_count": 56,
   "metadata": {
    "ExecuteTime": {
     "end_time": "2018-05-23T11:37:08.454829Z",
     "start_time": "2018-05-23T11:37:08.446264Z"
    }
   },
   "outputs": [
    {
     "data": {
      "text/plain": [
       "1000000000000000055511151231257827021181583404541015625"
      ]
     },
     "execution_count": 56,
     "metadata": {},
     "output_type": "execute_result"
    }
   ],
   "source": [
    "3602879701896397 * 10 ** 55 // 2 ** 55"
   ]
  },
  {
   "cell_type": "markdown",
   "metadata": {},
   "source": [
    "O que significa que o número exato armazenado no computador é igual ao valor decimal 0.1000000000000000055511151231257827021181583404541015625. Em vez de exibir o valor decimal completo, muitas linguagens de programação (incluindo versões mais antigas do Python), arredondam o resultado para 17 dígitos significativos:"
   ]
  },
  {
   "cell_type": "code",
   "execution_count": 57,
   "metadata": {
    "ExecuteTime": {
     "end_time": "2018-05-23T11:37:25.912033Z",
     "start_time": "2018-05-23T11:37:25.906192Z"
    }
   },
   "outputs": [
    {
     "data": {
      "text/plain": [
       "'0.10000000000000001'"
      ]
     },
     "execution_count": 57,
     "metadata": {},
     "output_type": "execute_result"
    }
   ],
   "source": [
    "format(0.1, '.17f')"
   ]
  },
  {
   "cell_type": "markdown",
   "metadata": {},
   "source": [
    "As [frações](https://docs.python.org/3/library/fractions.html#module-fractions) e os [módulos decimais](https://docs.python.org/3/library/decimal.html#module-decimal) facilitam esses cálculos:"
   ]
  },
  {
   "cell_type": "code",
   "execution_count": 58,
   "metadata": {
    "ExecuteTime": {
     "end_time": "2018-05-23T11:37:32.252168Z",
     "start_time": "2018-05-23T11:37:32.244036Z"
    }
   },
   "outputs": [],
   "source": [
    "from decimal import Decimal\n",
    "from fractions import Fraction"
   ]
  },
  {
   "cell_type": "code",
   "execution_count": 59,
   "metadata": {
    "ExecuteTime": {
     "end_time": "2018-05-23T11:37:35.434444Z",
     "start_time": "2018-05-23T11:37:35.430375Z"
    }
   },
   "outputs": [
    {
     "data": {
      "text/plain": [
       "Fraction(3602879701896397, 36028797018963968)"
      ]
     },
     "execution_count": 59,
     "metadata": {},
     "output_type": "execute_result"
    }
   ],
   "source": [
    "Fraction.from_float(0.1)"
   ]
  },
  {
   "cell_type": "code",
   "execution_count": 60,
   "metadata": {
    "ExecuteTime": {
     "end_time": "2018-05-23T11:37:42.854771Z",
     "start_time": "2018-05-23T11:37:42.851203Z"
    }
   },
   "outputs": [
    {
     "data": {
      "text/plain": [
       "(3602879701896397, 36028797018963968)"
      ]
     },
     "execution_count": 60,
     "metadata": {},
     "output_type": "execute_result"
    }
   ],
   "source": [
    "(0.1).as_integer_ratio()"
   ]
  },
  {
   "cell_type": "code",
   "execution_count": 61,
   "metadata": {
    "ExecuteTime": {
     "end_time": "2018-05-23T11:37:46.153468Z",
     "start_time": "2018-05-23T11:37:46.150181Z"
    }
   },
   "outputs": [
    {
     "data": {
      "text/plain": [
       "Decimal('0.1000000000000000055511151231257827021181583404541015625')"
      ]
     },
     "execution_count": 61,
     "metadata": {},
     "output_type": "execute_result"
    }
   ],
   "source": [
    "Decimal.from_float(0.1)"
   ]
  },
  {
   "cell_type": "code",
   "execution_count": 62,
   "metadata": {
    "ExecuteTime": {
     "end_time": "2018-05-23T11:38:00.697074Z",
     "start_time": "2018-05-23T11:38:00.692559Z"
    }
   },
   "outputs": [
    {
     "data": {
      "text/plain": [
       "'0.10000000000000001'"
      ]
     },
     "execution_count": 62,
     "metadata": {},
     "output_type": "execute_result"
    }
   ],
   "source": [
    "format(Decimal.from_float(0.1), '.17')"
   ]
  },
  {
   "cell_type": "markdown",
   "metadata": {},
   "source": [
    "### Módulo Decimal\n",
    "\n",
    "O [módulo decimal](https://pymotw.com/2/decimal/) implementa a aritmética de ponto fixo e flutuante usando o modelo familiar para a maioria das pessoas, ao invés da versão de ponto flutuante IEEE implementada pela maioria do hardware do computador. Uma instância Decimal pode representar qualquer número exatamente, arredondar para cima ou para baixo e aplicar um limite ao número de dígitos significativos.\n",
    "\n",
    "### Decimal\n",
    "\n",
    "Os valores decimais são representados como instâncias da classe Decimal. O construtor toma como argumento um número inteiro, ou uma string. Os números de ponto flutuante devem ser convertidos em uma sequência de caracteres antes de serem usados para criar um decimal, permitindo que o chamador explicitamente lidar com o número de dígitos para valores que não podem ser expressos exatamente usando um hardware com representações de ponto flutuante."
   ]
  },
  {
   "cell_type": "code",
   "execution_count": 64,
   "metadata": {
    "ExecuteTime": {
     "end_time": "2018-05-23T11:39:29.665582Z",
     "start_time": "2018-05-23T11:39:29.660955Z"
    }
   },
   "outputs": [
    {
     "name": "stdout",
     "output_type": "stream",
     "text": [
      "Entrada              Saída               \n",
      "-------------------- --------------------\n",
      "5                    5                   \n",
      "3.14                 3.14                \n",
      "0.1                  0.1                 \n"
     ]
    }
   ],
   "source": [
    "import decimal\n",
    "\n",
    "fmt = '{0:<20} {1:<20}'\n",
    "print (fmt.format('Entrada', 'Saída'))\n",
    "print (fmt.format('-' * 20, '-' * 20))\n",
    "\n",
    "# Integer --> Números inteiros\n",
    "print (fmt.format(5, decimal.Decimal(5)))\n",
    "\n",
    "# String --> Palvras/textos\n",
    "print (fmt.format('3.14', decimal.Decimal('3.14')))\n",
    "\n",
    "# Float --> Números de ponto flutuantes\n",
    "print (fmt.format(repr(0.1), decimal.Decimal(str(0.1))))\n"
   ]
  },
  {
   "cell_type": "code",
   "execution_count": 69,
   "metadata": {
    "ExecuteTime": {
     "end_time": "2018-05-23T11:43:48.970438Z",
     "start_time": "2018-05-23T11:43:48.965764Z"
    }
   },
   "outputs": [
    {
     "name": "stdout",
     "output_type": "stream",
     "text": [
      "Temos 2.10 e 1.40 com 2.10 + 1.40 = 3.50\n"
     ]
    }
   ],
   "source": [
    "fmt='Temos {0:.2f} e {1:.2f} com {0:.2f} + {1:.2f} = {2:.2f}'\n",
    "x=2.1\n",
    "y=1.4\n",
    "z=x+y\n",
    "a=fmt.format(x,y,z)\n",
    "print(a)"
   ]
  },
  {
   "cell_type": "markdown",
   "metadata": {},
   "source": [
    "Observe que o valor de ponto flutuante de 0.1 não é representado como um valor exato, portanto, a representação como um números de ponto flutuante (um float) é diferente do valor Decimal.\n",
    "\n",
    "Menos convenientemente, Decimais também podem ser criados a partir de tuplas contendo uma sinalização (0 para positivo, 1 para negativo), uma tupla de dígitos e um expoente inteiro."
   ]
  },
  {
   "cell_type": "code",
   "execution_count": 70,
   "metadata": {
    "ExecuteTime": {
     "end_time": "2018-05-23T11:45:12.228340Z",
     "start_time": "2018-05-23T11:45:12.223671Z"
    }
   },
   "outputs": [
    {
     "name": "stdout",
     "output_type": "stream",
     "text": [
      "Entrada: (1, (1, 1), -2)\n",
      "Decimal: -0.11\n"
     ]
    }
   ],
   "source": [
    "import decimal\n",
    "\n",
    "# Tupla\n",
    "t = (1, (1, 1), -2)\n",
    "print ('Entrada:', t)\n",
    "print ('Decimal:', decimal.Decimal(t))"
   ]
  },
  {
   "cell_type": "markdown",
   "metadata": {},
   "source": [
    "### Aritmética\n",
    "\n",
    "Decimal sobrecarrega os operadores aritméticos simples assim que você tem um valor que você pode manipulá-lo em muito da mesma maneira como os tipos numéricos embutidos."
   ]
  },
  {
   "cell_type": "code",
   "execution_count": null,
   "metadata": {
    "collapsed": true
   },
   "outputs": [],
   "source": [
    "import decimal\n",
    "\n",
    "a = decimal.Decimal('5.1')\n",
    "b = decimal.Decimal('3.14')\n",
    "c = 4\n",
    "d = 3.14\n",
    "\n",
    "print ('a     =', a)\n",
    "print ('b     =', b)\n",
    "print ('c     =', c)\n",
    "print ('d     =', d)\n",
    "print ()\n",
    "\n",
    "print ('a + b =', a + b)\n",
    "print ('a - b =', a - b)\n",
    "print ('a * b =', a * b)\n",
    "print ('a / b =', a / b)\n",
    "print ()\n",
    "\n",
    "print ('a + c =', a + c)\n",
    "print ('a - c =', a - c)\n",
    "print ('a * c =', a * c)\n",
    "print ('a / c =', a / c)\n",
    "print ()\n",
    "\n",
    "print ('a + d =', float(a) + d)\n"
   ]
  },
  {
   "cell_type": "markdown",
   "metadata": {},
   "source": [
    "## Números complexos  <a name=\"CP3-numeros-complexos\"></a> \n",
    "\n",
    "Python (como Fortran e Matlab) tem incorporado números complexos, entretanto ele usa o símbolo 'j' (assim como nas engenharias) para identificar a parte imaginária do número. Aqui estão alguns exemplos de como usá-los:"
   ]
  },
  {
   "cell_type": "code",
   "execution_count": 71,
   "metadata": {
    "ExecuteTime": {
     "end_time": "2018-05-23T11:46:13.630855Z",
     "start_time": "2018-05-23T11:46:13.626784Z"
    }
   },
   "outputs": [
    {
     "data": {
      "text/plain": [
       "(1+3j)"
      ]
     },
     "execution_count": 71,
     "metadata": {},
     "output_type": "execute_result"
    }
   ],
   "source": [
    "x = 1 + 3j\n",
    "x"
   ]
  },
  {
   "cell_type": "code",
   "execution_count": 72,
   "metadata": {
    "ExecuteTime": {
     "end_time": "2018-05-23T11:46:14.366370Z",
     "start_time": "2018-05-23T11:46:14.361990Z"
    }
   },
   "outputs": [
    {
     "data": {
      "text/plain": [
       "3.1622776601683795"
      ]
     },
     "execution_count": 72,
     "metadata": {},
     "output_type": "execute_result"
    }
   ],
   "source": [
    "abs(x) "
   ]
  },
  {
   "cell_type": "code",
   "execution_count": 73,
   "metadata": {
    "ExecuteTime": {
     "end_time": "2018-05-23T11:46:14.816252Z",
     "start_time": "2018-05-23T11:46:14.811951Z"
    }
   },
   "outputs": [
    {
     "data": {
      "text/plain": [
       "1.0"
      ]
     },
     "execution_count": 73,
     "metadata": {},
     "output_type": "execute_result"
    }
   ],
   "source": [
    "x.real"
   ]
  },
  {
   "cell_type": "code",
   "execution_count": 74,
   "metadata": {
    "ExecuteTime": {
     "end_time": "2018-05-23T11:46:15.351432Z",
     "start_time": "2018-05-23T11:46:15.342485Z"
    }
   },
   "outputs": [
    {
     "data": {
      "text/plain": [
       "3.0"
      ]
     },
     "execution_count": 74,
     "metadata": {},
     "output_type": "execute_result"
    }
   ],
   "source": [
    "x.imag"
   ]
  },
  {
   "cell_type": "code",
   "execution_count": 75,
   "metadata": {
    "ExecuteTime": {
     "end_time": "2018-05-23T11:46:15.831635Z",
     "start_time": "2018-05-23T11:46:15.827326Z"
    }
   },
   "outputs": [
    {
     "data": {
      "text/plain": [
       "(10+0j)"
      ]
     },
     "execution_count": 75,
     "metadata": {},
     "output_type": "execute_result"
    }
   ],
   "source": [
    "x * x.conjugate()"
   ]
  },
  {
   "cell_type": "code",
   "execution_count": 76,
   "metadata": {
    "ExecuteTime": {
     "end_time": "2018-05-23T11:46:16.408292Z",
     "start_time": "2018-05-23T11:46:16.403756Z"
    }
   },
   "outputs": [
    {
     "data": {
      "text/plain": [
       "10.0"
      ]
     },
     "execution_count": 76,
     "metadata": {},
     "output_type": "execute_result"
    }
   ],
   "source": [
    "float((x * x.conjugate()).real)"
   ]
  },
  {
   "cell_type": "code",
   "execution_count": 77,
   "metadata": {
    "ExecuteTime": {
     "end_time": "2018-05-23T11:46:17.344304Z",
     "start_time": "2018-05-23T11:46:17.339962Z"
    }
   },
   "outputs": [
    {
     "data": {
      "text/plain": [
       "(3+9j)"
      ]
     },
     "execution_count": 77,
     "metadata": {},
     "output_type": "execute_result"
    }
   ],
   "source": [
    "3 * x"
   ]
  },
  {
   "cell_type": "markdown",
   "metadata": {},
   "source": [
    "Note que se você quiser executar operações mais complicadas (como a raiz quadrada, etc) você tem que usar o módulo `cmath` (Matemática complexa):"
   ]
  },
  {
   "cell_type": "code",
   "execution_count": 78,
   "metadata": {
    "ExecuteTime": {
     "end_time": "2018-05-23T11:46:22.281296Z",
     "start_time": "2018-05-23T11:46:22.244054Z"
    }
   },
   "outputs": [
    {
     "data": {
      "text/plain": [
       "(1.442615274452683+1.0397782600555705j)"
      ]
     },
     "execution_count": 78,
     "metadata": {},
     "output_type": "execute_result"
    }
   ],
   "source": [
    "import cmath\n",
    "cmath.sqrt(x)"
   ]
  },
  {
   "cell_type": "markdown",
   "metadata": {},
   "source": [
    "As funções matemáticas que estão disponibilizadas pela biblioteca `cmath`, podem ser listadas com o seguinte comando:"
   ]
  },
  {
   "cell_type": "code",
   "execution_count": 79,
   "metadata": {
    "ExecuteTime": {
     "end_time": "2018-05-23T11:46:23.926399Z",
     "start_time": "2018-05-23T11:46:23.922367Z"
    }
   },
   "outputs": [
    {
     "data": {
      "text/plain": [
       "['__doc__',\n",
       " '__file__',\n",
       " '__loader__',\n",
       " '__name__',\n",
       " '__package__',\n",
       " '__spec__',\n",
       " 'acos',\n",
       " 'acosh',\n",
       " 'asin',\n",
       " 'asinh',\n",
       " 'atan',\n",
       " 'atanh',\n",
       " 'cos',\n",
       " 'cosh',\n",
       " 'e',\n",
       " 'exp',\n",
       " 'isclose',\n",
       " 'isfinite',\n",
       " 'isinf',\n",
       " 'isnan',\n",
       " 'log',\n",
       " 'log10',\n",
       " 'phase',\n",
       " 'pi',\n",
       " 'polar',\n",
       " 'rect',\n",
       " 'sin',\n",
       " 'sinh',\n",
       " 'sqrt',\n",
       " 'tan',\n",
       " 'tanh']"
      ]
     },
     "execution_count": 79,
     "metadata": {},
     "output_type": "execute_result"
    }
   ],
   "source": [
    "dir(cmath)"
   ]
  },
  {
   "cell_type": "markdown",
   "metadata": {},
   "source": [
    "## Funções aplicáveis a todos os tipos de números  <a name=\"CP3-func-numeros\"></a> \n",
    "\n",
    "A função `abs()` retorna o valor absoluto de um número qualquer (também chamado de módulo):"
   ]
  },
  {
   "cell_type": "code",
   "execution_count": 80,
   "metadata": {
    "ExecuteTime": {
     "end_time": "2018-05-23T11:46:33.159420Z",
     "start_time": "2018-05-23T11:46:33.154165Z"
    }
   },
   "outputs": [
    {
     "name": "stdout",
     "output_type": "stream",
     "text": [
      "O módulo de a =  45.463\n",
      "O módulo de x =  5.0\n"
     ]
    }
   ],
   "source": [
    "a = -45.463\n",
    "x = 3 -4j \n",
    "print(\"O módulo de a = \", abs(a))\n",
    "print(\"O módulo de x = \", abs(x))"
   ]
  },
  {
   "cell_type": "markdown",
   "metadata": {},
   "source": [
    "Observe que `abs()` também funciona para números complexos (veja acima)."
   ]
  },
  {
   "cell_type": "markdown",
   "metadata": {},
   "source": [
    "# Sequências  <a name=\"CP3-sequencias\"></a>\n",
    "\n",
    "Strings, listas e tuplas são *sequências*. Elas podem ser *indexados* e *fatiadas* da mesma maneira.\n",
    "\n",
    "Tuplas e strings são \"imutáveis\" (o que basicamente significa que não podemos alterar elementos individuais dentro da tupla, e não podemos alterar caracteres individuais dentro de uma string) enquanto as listas são \"mutáveis\" (*isto é* podemos alterar elementos em uma lista.)\n",
    "\n",
    "As sequências compartilham as seguintes operações\n",
    "\n",
    "<table>\n",
    "<tr><td>`a[i]`</td><td>retorna *i*-ésio elemento de `a`</td></tr>\n",
    "<tr><td>`a[i:j]`</td><td>retorna os elementos de *i* até *j* − 1</td></tr>\n",
    "<tr><td>`len(a)`</td><td>retorna o número de elementos na sequência/td></tr>\n",
    "<tr><td>`min(a)`</td><td>retorna o menor valor da sequência</td></tr>\n",
    "<tr><td>`max(a)`</td><td>retorna o maior valor da sequência</td></tr>\n",
    "<tr><td>`x in a`</td><td>retorna `True` se `x` é um elemento de `a`</td></tr>\n",
    "<tr><td>`a + b`</td><td>concatena `a` e `b`</td></tr>\n",
    "<tr><td>`n * a`</td><td>cria `n` cópias da sequência `a`</td></tr>\n",
    "</table>"
   ]
  },
  {
   "cell_type": "markdown",
   "metadata": {},
   "source": [
    "## Sequência tipo 1: String  <a name=\"CP3-sequencias-t1\"></a>\n",
    "\n",
    "### Outras informações\n",
    "\n",
    "-   Introduction to strings, [Python tutorial 3.1.2](http://docs.python.org/tutorial/introduction.html#strings)\n",
    "\n",
    "Uma sequência de caracteres é uma sequência (imutável) de caracteres. Uma string pode ser definida usando aspas simples:"
   ]
  },
  {
   "cell_type": "code",
   "execution_count": 81,
   "metadata": {
    "ExecuteTime": {
     "end_time": "2018-05-23T11:46:43.114314Z",
     "start_time": "2018-05-23T11:46:43.111625Z"
    }
   },
   "outputs": [],
   "source": [
    "a = 'Olá Mundo'"
   ]
  },
  {
   "cell_type": "markdown",
   "metadata": {},
   "source": [
    "aspas duplas:"
   ]
  },
  {
   "cell_type": "code",
   "execution_count": null,
   "metadata": {
    "collapsed": true
   },
   "outputs": [],
   "source": [
    "a = \"Olá Mundo\""
   ]
  },
  {
   "cell_type": "markdown",
   "metadata": {},
   "source": [
    "ou aspas triplas de qualquer espécie"
   ]
  },
  {
   "cell_type": "code",
   "execution_count": null,
   "metadata": {
    "collapsed": true
   },
   "outputs": [],
   "source": [
    "a = \"\"\"Olá Mundo\"\"\"\n",
    "a = '''Olá Mundo'''"
   ]
  },
  {
   "cell_type": "markdown",
   "metadata": {},
   "source": [
    "O tipo de uma string é str e a string vazia é dada por ``\"\"``:"
   ]
  },
  {
   "cell_type": "code",
   "execution_count": null,
   "metadata": {
    "collapsed": true
   },
   "outputs": [],
   "source": [
    "a = \"Olá Mundo\"\n",
    "type(a)"
   ]
  },
  {
   "cell_type": "code",
   "execution_count": null,
   "metadata": {
    "collapsed": true
   },
   "outputs": [],
   "source": [
    "b = \"\"\n",
    "type(b)"
   ]
  },
  {
   "cell_type": "code",
   "execution_count": null,
   "metadata": {
    "collapsed": true
   },
   "outputs": [],
   "source": [
    "type(\"Olá Mundo\")"
   ]
  },
  {
   "cell_type": "code",
   "execution_count": null,
   "metadata": {
    "collapsed": true
   },
   "outputs": [],
   "source": [
    "type(\"\")"
   ]
  },
  {
   "cell_type": "markdown",
   "metadata": {},
   "source": [
    "O número de caracteres de uma string (que é o seu *comprimento*) pode ser obtido usando a função `len()`:"
   ]
  },
  {
   "cell_type": "code",
   "execution_count": null,
   "metadata": {
    "collapsed": true
   },
   "outputs": [],
   "source": [
    "a = \"Física computacional. Que maravilha!\"\n",
    "len(a)"
   ]
  },
  {
   "cell_type": "code",
   "execution_count": null,
   "metadata": {
    "collapsed": true
   },
   "outputs": [],
   "source": [
    "a = 'Física'\n",
    "len(a)"
   ]
  },
  {
   "cell_type": "code",
   "execution_count": null,
   "metadata": {
    "collapsed": true
   },
   "outputs": [],
   "source": [
    "len('Computacional')"
   ]
  },
  {
   "cell_type": "markdown",
   "metadata": {},
   "source": [
    "Você pode combinar (\"concatenar\") duas strings usando o operador `+`:"
   ]
  },
  {
   "cell_type": "code",
   "execution_count": null,
   "metadata": {
    "collapsed": true
   },
   "outputs": [],
   "source": [
    "'Física' + ' Computacional'"
   ]
  },
  {
   "cell_type": "markdown",
   "metadata": {},
   "source": [
    "O tipo string no python possui inúmeros métodos, incluindo por exemplo o `upper()` o qual returna a string passa em maíuscula. Os diversos métodos de uma string são: "
   ]
  },
  {
   "cell_type": "code",
   "execution_count": 82,
   "metadata": {
    "ExecuteTime": {
     "end_time": "2018-05-23T11:46:58.426941Z",
     "start_time": "2018-05-23T11:46:58.421278Z"
    }
   },
   "outputs": [
    {
     "data": {
      "text/plain": [
       "'FÍSICA COMPUTACIONAL. QUE MARAVILHA!'"
      ]
     },
     "execution_count": 82,
     "metadata": {},
     "output_type": "execute_result"
    }
   ],
   "source": [
    "a = \"Física computacional. Que maravilha!\"\n",
    "a.upper()"
   ]
  },
  {
   "cell_type": "code",
   "execution_count": 83,
   "metadata": {
    "ExecuteTime": {
     "end_time": "2018-05-23T11:47:04.084855Z",
     "start_time": "2018-05-23T11:47:04.080486Z"
    }
   },
   "outputs": [
    {
     "data": {
      "text/plain": [
       "'Física computacional. que maravilha!'"
      ]
     },
     "execution_count": 83,
     "metadata": {},
     "output_type": "execute_result"
    }
   ],
   "source": [
    "a.capitalize()"
   ]
  },
  {
   "cell_type": "code",
   "execution_count": 84,
   "metadata": {
    "ExecuteTime": {
     "end_time": "2018-05-23T11:47:07.439291Z",
     "start_time": "2018-05-23T11:47:07.431644Z"
    }
   },
   "outputs": [
    {
     "data": {
      "text/plain": [
       "'fÍSICA COMPUTACIONAL. qUE MARAVILHA!'"
      ]
     },
     "execution_count": 84,
     "metadata": {},
     "output_type": "execute_result"
    }
   ],
   "source": [
    "a.swapcase()"
   ]
  },
  {
   "cell_type": "code",
   "execution_count": 85,
   "metadata": {
    "ExecuteTime": {
     "end_time": "2018-05-23T11:47:10.663768Z",
     "start_time": "2018-05-23T11:47:10.659677Z"
    }
   },
   "outputs": [
    {
     "data": {
      "text/plain": [
       "'física computacional. que maravilha!'"
      ]
     },
     "execution_count": 85,
     "metadata": {},
     "output_type": "execute_result"
    }
   ],
   "source": [
    "a.lower()"
   ]
  },
  {
   "cell_type": "code",
   "execution_count": 86,
   "metadata": {
    "ExecuteTime": {
     "end_time": "2018-05-23T11:47:16.215376Z",
     "start_time": "2018-05-23T11:47:16.211968Z"
    }
   },
   "outputs": [
    {
     "data": {
      "text/plain": [
       "36"
      ]
     },
     "execution_count": 86,
     "metadata": {},
     "output_type": "execute_result"
    }
   ],
   "source": [
    "len(a)"
   ]
  },
  {
   "cell_type": "markdown",
   "metadata": {},
   "source": [
    "Uma lista de métodos de string disponíveis pode ser encontrada na [documentação de referência do Python](https://docs.python.org/3.6/library/string.html). Se um prompt de Python estiver disponível, use a função `dir` e `help` para recuperar esta informação, *isto é* `dir()` fornece a lista de métodos, `help` pode ser usado para aprender sobre cada método.\n",
    "\n",
    "Um método particularmente útil é `split()` que converte uma string em uma lista de strings:"
   ]
  },
  {
   "cell_type": "code",
   "execution_count": 87,
   "metadata": {
    "ExecuteTime": {
     "end_time": "2018-05-23T11:47:24.579605Z",
     "start_time": "2018-05-23T11:47:24.572550Z"
    }
   },
   "outputs": [
    {
     "data": {
      "text/plain": [
       "['Física', 'computacional.', 'Que', 'maravilha!']"
      ]
     },
     "execution_count": 87,
     "metadata": {},
     "output_type": "execute_result"
    }
   ],
   "source": [
    "a = \"Física computacional. Que maravilha!\"\n",
    "a.split()"
   ]
  },
  {
   "cell_type": "markdown",
   "metadata": {},
   "source": [
    "O método `split()` irá separar a string onde ele encontrar *um espaço em branco*. Espaço em branco significa qualquer caractere impresso como espaço em branco, como um espaço ou vários espaços ou uma tabulação (tab).\n",
    "\n",
    "Ao passar um caractere de separação para o método `split()`, uma string pode se dividir em partes diferentes. Suponha, por exemplo, que queremos obter uma lista de frases completas:"
   ]
  },
  {
   "cell_type": "code",
   "execution_count": 88,
   "metadata": {
    "ExecuteTime": {
     "end_time": "2018-05-23T11:47:41.258914Z",
     "start_time": "2018-05-23T11:47:41.250960Z"
    }
   },
   "outputs": [
    {
     "data": {
      "text/plain": [
       "['Física Computacional',\n",
       " ' Linguagens de Programação',\n",
       " ' Shell Script',\n",
       " ' Cálculo Numérico']"
      ]
     },
     "execution_count": 88,
     "metadata": {},
     "output_type": "execute_result"
    }
   ],
   "source": [
    "a = \"Física Computacional. Linguagens de Programação. Shell Script. Cálculo Numérico\"\n",
    "a.split(\".\")"
   ]
  },
  {
   "cell_type": "markdown",
   "metadata": {},
   "source": [
    "O método de string oposto a `split` é o `join` que pode ser usado da seguinte forma:"
   ]
  },
  {
   "cell_type": "code",
   "execution_count": null,
   "metadata": {
    "collapsed": true
   },
   "outputs": [],
   "source": [
    "a = \"Física Computacional. Linguagens de Programação. Shell Script. Cálculo Numérico\"\n",
    "s = a.split('.')\n",
    "s"
   ]
  },
  {
   "cell_type": "code",
   "execution_count": null,
   "metadata": {
    "collapsed": true
   },
   "outputs": [],
   "source": [
    "a[7:21]"
   ]
  },
  {
   "cell_type": "code",
   "execution_count": null,
   "metadata": {
    "collapsed": true
   },
   "outputs": [],
   "source": [
    "\".\".join(s)"
   ]
  },
  {
   "cell_type": "code",
   "execution_count": null,
   "metadata": {
    "collapsed": true
   },
   "outputs": [],
   "source": [
    "\" e\".join(s)"
   ]
  },
  {
   "cell_type": "markdown",
   "metadata": {},
   "source": [
    "### Conversões de código de caracteres\n",
    "\n",
    "Sobre o assunto das conversões, também é possível converter um único caractere para seu código inteiro subjacente (por exemplo, seu valor de byte ASCII), passando-o para a função interna embutida `ord()` - isso retorna o valor binário real usado para representar o caractere correspondente na memória. A função `chr()` executa a operação inversa, levando um código inteiro e convertendo-o para o caractere correspondente:"
   ]
  },
  {
   "cell_type": "code",
   "execution_count": null,
   "metadata": {
    "collapsed": true
   },
   "outputs": [],
   "source": [
    "ord('s')"
   ]
  },
  {
   "cell_type": "code",
   "execution_count": null,
   "metadata": {
    "collapsed": true
   },
   "outputs": [],
   "source": [
    "chr(110)"
   ]
  },
  {
   "cell_type": "markdown",
   "metadata": {},
   "source": [
    "Tecnicamente, ambos convertem personagens de e para seus ordinais Unicode ou \"pontos de código\", que são apenas o seu número de identificação no conjunto de caracteres subjacente."
   ]
  },
  {
   "cell_type": "markdown",
   "metadata": {},
   "source": [
    "## Sequência tipo 2: Lista <a name=\"CP3-sequencias-t2\"></a>\n",
    "\n",
    "##### Maiores informações \n",
    "\n",
    "-   Introduction to Lists, [Python tutorial, section 3.1.4](http://docs.python.org/tutorial/introduction.html#lists)\n",
    "\n",
    "Uma lista é uma sequência de objetos. Os objetos podem ser de qualquer tipo, por exemplo inteiros:"
   ]
  },
  {
   "cell_type": "code",
   "execution_count": 89,
   "metadata": {
    "ExecuteTime": {
     "end_time": "2018-05-23T11:48:55.617326Z",
     "start_time": "2018-05-23T11:48:55.614327Z"
    }
   },
   "outputs": [],
   "source": [
    "a = [34, 12, 54]"
   ]
  },
  {
   "cell_type": "markdown",
   "metadata": {},
   "source": [
    "ou strings, como a seguinte lista de animais em inglês"
   ]
  },
  {
   "cell_type": "code",
   "execution_count": 91,
   "metadata": {
    "ExecuteTime": {
     "end_time": "2018-05-23T11:49:05.762306Z",
     "start_time": "2018-05-23T11:49:05.759901Z"
    }
   },
   "outputs": [],
   "source": [
    "a = ['dog', 'cat', 'mouse', 'snake', 'bird']"
   ]
  },
  {
   "cell_type": "code",
   "execution_count": 93,
   "metadata": {
    "ExecuteTime": {
     "end_time": "2018-05-23T11:49:34.316577Z",
     "start_time": "2018-05-23T11:49:34.312519Z"
    }
   },
   "outputs": [
    {
     "name": "stdout",
     "output_type": "stream",
     "text": [
      "['dog', 'cat', 'mouse', 'snake', 'bird', 2.0, 2.0]\n"
     ]
    }
   ],
   "source": [
    "a.append(2.0)\n",
    "print(a)"
   ]
  },
  {
   "cell_type": "markdown",
   "metadata": {},
   "source": [
    "Uma lista vazia é criada com `[]`:"
   ]
  },
  {
   "cell_type": "code",
   "execution_count": 3,
   "metadata": {
    "collapsed": true
   },
   "outputs": [],
   "source": [
    "a = []"
   ]
  },
  {
   "cell_type": "markdown",
   "metadata": {},
   "source": [
    "O tipo é list:"
   ]
  },
  {
   "cell_type": "code",
   "execution_count": 4,
   "metadata": {},
   "outputs": [
    {
     "data": {
      "text/plain": [
       "list"
      ]
     },
     "execution_count": 4,
     "metadata": {},
     "output_type": "execute_result"
    }
   ],
   "source": [
    "type(a)"
   ]
  },
  {
   "cell_type": "code",
   "execution_count": 5,
   "metadata": {},
   "outputs": [
    {
     "data": {
      "text/plain": [
       "list"
      ]
     },
     "execution_count": 5,
     "metadata": {},
     "output_type": "execute_result"
    }
   ],
   "source": [
    "type([])"
   ]
  },
  {
   "cell_type": "markdown",
   "metadata": {},
   "source": [
    "Como com strings, o número de elementos em uma lista pode ser obtido usando a função `len()`:"
   ]
  },
  {
   "cell_type": "code",
   "execution_count": 6,
   "metadata": {},
   "outputs": [
    {
     "data": {
      "text/plain": [
       "5"
      ]
     },
     "execution_count": 6,
     "metadata": {},
     "output_type": "execute_result"
    }
   ],
   "source": [
    "a = ['dog', 'cat', 'mouse', 'snake', 'bird']\n",
    "len(a)"
   ]
  },
  {
   "cell_type": "code",
   "execution_count": 7,
   "metadata": {},
   "outputs": [
    {
     "data": {
      "text/plain": [
       "'mouse'"
      ]
     },
     "execution_count": 7,
     "metadata": {},
     "output_type": "execute_result"
    }
   ],
   "source": [
    "a[2]"
   ]
  },
  {
   "cell_type": "markdown",
   "metadata": {},
   "source": [
    "Também é possível *misturar* tipos diferentes na mesma lista:"
   ]
  },
  {
   "cell_type": "code",
   "execution_count": 94,
   "metadata": {
    "ExecuteTime": {
     "end_time": "2018-05-23T11:50:56.250068Z",
     "start_time": "2018-05-23T11:50:56.247328Z"
    }
   },
   "outputs": [],
   "source": [
    "ctes = [3.0e8, 'Speed of light', -1.602e-19, 'electron charge', 1/2, 'spin of electron', 9.8, 'acceleration of gravity']"
   ]
  },
  {
   "cell_type": "markdown",
   "metadata": {},
   "source": [
    "No Python, uma lista é um objeto. Portanto, é possível que uma lista contenha outras listas (porque uma lista mantém uma sequência de objetos):"
   ]
  },
  {
   "cell_type": "code",
   "execution_count": 95,
   "metadata": {
    "ExecuteTime": {
     "end_time": "2018-05-23T11:51:00.908181Z",
     "start_time": "2018-05-23T11:51:00.905523Z"
    }
   },
   "outputs": [],
   "source": [
    "a = [1, 4, 56, [5, 3, 1], 300, 400]"
   ]
  },
  {
   "cell_type": "code",
   "execution_count": 10,
   "metadata": {},
   "outputs": [
    {
     "data": {
      "text/plain": [
       "3"
      ]
     },
     "execution_count": 10,
     "metadata": {},
     "output_type": "execute_result"
    }
   ],
   "source": [
    "a[3][1]"
   ]
  },
  {
   "cell_type": "markdown",
   "metadata": {},
   "source": [
    "Ou você pode adicionar um objeto ao final de uma lista usando o método `append()`:"
   ]
  },
  {
   "cell_type": "code",
   "execution_count": 96,
   "metadata": {
    "ExecuteTime": {
     "end_time": "2018-05-23T11:52:05.719862Z",
     "start_time": "2018-05-23T11:52:05.715037Z"
    }
   },
   "outputs": [
    {
     "data": {
      "text/plain": [
       "[34, 56, 23, 42]"
      ]
     },
     "execution_count": 96,
     "metadata": {},
     "output_type": "execute_result"
    }
   ],
   "source": [
    "a = [34, 56, 23]\n",
    "a.append(42)\n",
    "a"
   ]
  },
  {
   "cell_type": "code",
   "execution_count": 98,
   "metadata": {
    "ExecuteTime": {
     "end_time": "2018-05-23T12:10:39.977690Z",
     "start_time": "2018-05-23T12:10:39.973138Z"
    }
   },
   "outputs": [
    {
     "data": {
      "text/plain": [
       "[56, 23, 42]"
      ]
     },
     "execution_count": 98,
     "metadata": {},
     "output_type": "execute_result"
    }
   ],
   "source": [
    "a[1:4]"
   ]
  },
  {
   "cell_type": "markdown",
   "metadata": {},
   "source": [
    "Você pode excluir um objeto de uma lista chamando o método `remove()` e passando o objeto a ser excluído. Por exemplo:"
   ]
  },
  {
   "cell_type": "code",
   "execution_count": 13,
   "metadata": {},
   "outputs": [
    {
     "data": {
      "text/plain": [
       "[34, 23, 42]"
      ]
     },
     "execution_count": 13,
     "metadata": {},
     "output_type": "execute_result"
    }
   ],
   "source": [
    "a = [34, 56, 23, 42]\n",
    "a.remove(56)\n",
    "a"
   ]
  },
  {
   "cell_type": "markdown",
   "metadata": {},
   "source": [
    "### O comando range() <a name=\"CP3-cmd-range\"></a>\n",
    "\n",
    "Um tipo especial de lista é frequentemente requerido (muitas vezes junto com `loops for`) e para isso existe um comando para gerar essa lista: o comando `range(n)` gera números inteiros começando de 0 e indo até *mas não incluindo* N. Aqui estão alguns exemplos:"
   ]
  },
  {
   "cell_type": "code",
   "execution_count": 99,
   "metadata": {
    "ExecuteTime": {
     "end_time": "2018-05-23T12:11:35.374313Z",
     "start_time": "2018-05-23T12:11:35.370050Z"
    }
   },
   "outputs": [
    {
     "data": {
      "text/plain": [
       "[0, 1, 2]"
      ]
     },
     "execution_count": 99,
     "metadata": {},
     "output_type": "execute_result"
    }
   ],
   "source": [
    "a=list(range(3))\n",
    "a"
   ]
  },
  {
   "cell_type": "code",
   "execution_count": 100,
   "metadata": {
    "ExecuteTime": {
     "end_time": "2018-05-23T12:12:06.135719Z",
     "start_time": "2018-05-23T12:12:06.131972Z"
    }
   },
   "outputs": [
    {
     "data": {
      "text/plain": [
       "[1, 3, 5, 7, 9]"
      ]
     },
     "execution_count": 100,
     "metadata": {},
     "output_type": "execute_result"
    }
   ],
   "source": [
    "list(range(1,10,2))"
   ]
  },
  {
   "cell_type": "markdown",
   "metadata": {},
   "source": [
    "Esse comando é freqüentemente usado com loops for. Por exemplo, para imprimir os números 0 <sup>2</sup>,1<sup>2</sup>,2 <sup>2</sup>,3<sup>2</sup>,...,10<sup>2</sup>, o seguinte programa pode ser usado:"
   ]
  },
  {
   "cell_type": "code",
   "execution_count": 102,
   "metadata": {
    "ExecuteTime": {
     "end_time": "2018-05-23T12:14:28.573534Z",
     "start_time": "2018-05-23T12:14:28.561031Z"
    }
   },
   "outputs": [
    {
     "name": "stdout",
     "output_type": "stream",
     "text": [
      "0 1 0\n",
      "0 2 0\n",
      "\n",
      "1 1 1\n",
      "1 2 1\n",
      "\n",
      "2 1 2\n",
      "2 2 4\n",
      "\n",
      "3 1 3\n",
      "3 2 9\n",
      "\n",
      "4 1 4\n",
      "4 2 16\n",
      "\n",
      "5 1 5\n",
      "5 2 25\n",
      "\n",
      "6 1 6\n",
      "6 2 36\n",
      "\n",
      "7 1 7\n",
      "7 2 49\n",
      "\n",
      "8 1 8\n",
      "8 2 64\n",
      "\n",
      "9 1 9\n",
      "9 2 81\n",
      "\n",
      "10 1 10\n",
      "10 2 100\n",
      "\n"
     ]
    }
   ],
   "source": [
    "for i in range(11):\n",
    "    #print(i ** 2)\n",
    "    for j in range(1,3):\n",
    "        print(i,j,i**j)\n",
    "    print()"
   ]
  },
  {
   "cell_type": "markdown",
   "metadata": {},
   "source": [
    "O comando `range()` assume um parâmetro opcional para o início da seqüência de números inteiros (start) e outro parâmetro opcional para o tamanho da etapa. Isto é frequentemente escrito como `range([start],stop,[step])` onde os argumentos entre colchetes (*isto é* start e step) são opcionais. Aqui apresentamos alguns exemplos:"
   ]
  },
  {
   "cell_type": "code",
   "execution_count": 17,
   "metadata": {},
   "outputs": [
    {
     "data": {
      "text/plain": [
       "[3, 4, 5, 6, 7, 8, 9]"
      ]
     },
     "execution_count": 17,
     "metadata": {},
     "output_type": "execute_result"
    }
   ],
   "source": [
    "list(range(3, 10))            # inicio=3, fim=9"
   ]
  },
  {
   "cell_type": "code",
   "execution_count": 18,
   "metadata": {},
   "outputs": [
    {
     "data": {
      "text/plain": [
       "[3, 5, 7, 9]"
      ]
     },
     "execution_count": 18,
     "metadata": {},
     "output_type": "execute_result"
    }
   ],
   "source": [
    "list(range(3, 10, 2))         # inicio=3, fim=9,  passo=2"
   ]
  },
  {
   "cell_type": "code",
   "execution_count": 19,
   "metadata": {},
   "outputs": [
    {
     "data": {
      "text/plain": [
       "[10, 9, 8, 7, 6, 5, 4, 3, 2, 1]"
      ]
     },
     "execution_count": 19,
     "metadata": {},
     "output_type": "execute_result"
    }
   ],
   "source": [
    "list(range(10, 0, -1))        # inicio=10, fim=1, passo=-1"
   ]
  },
  {
   "cell_type": "markdown",
   "metadata": {},
   "source": [
    "Por que estamos chamando `list(range ())`?\n",
    "\n",
    "No Python 3, `range()` gera os números sob demanda. Quando você usa `range()` em um loop for, isso é mais eficiente, porque ele não ocupa memória com uma lista de números. Passá-lo para `list()` obriga a gerar todos os seus números, para que possamos ver o que ele faz.\n",
    "\n",
    "Para obter o mesmo comportamento eficiente em Python 2, use `xrange()` em vez de `range()`."
   ]
  },
  {
   "cell_type": "markdown",
   "metadata": {},
   "source": [
    "## Sequência tipo 3: Tuplas  <a name=\"CP3-sequencias-t3\"></a>\n",
    "\n",
    "Uma *tupla* é uma sequência (imutável) de objetos. As tuplas são muito semelhantes em comportamento às listas, com a excepção de que elas não podem ser modificadas (isto é, são imutáveis).\n",
    "\n",
    "Por exemplo, os objetos em uma sequência podem ser de qualquer tipo:"
   ]
  },
  {
   "cell_type": "code",
   "execution_count": 103,
   "metadata": {
    "ExecuteTime": {
     "end_time": "2018-05-23T12:15:17.736964Z",
     "start_time": "2018-05-23T12:15:17.731864Z"
    }
   },
   "outputs": [
    {
     "data": {
      "text/plain": [
       "(1643, 1727, 'Newton')"
      ]
     },
     "execution_count": 103,
     "metadata": {},
     "output_type": "execute_result"
    }
   ],
   "source": [
    "a = (1643, 1727, 'Newton')\n",
    "a"
   ]
  },
  {
   "cell_type": "code",
   "execution_count": 104,
   "metadata": {
    "ExecuteTime": {
     "end_time": "2018-05-23T12:15:18.857620Z",
     "start_time": "2018-05-23T12:15:18.851393Z"
    }
   },
   "outputs": [
    {
     "data": {
      "text/plain": [
       "1643"
      ]
     },
     "execution_count": 104,
     "metadata": {},
     "output_type": "execute_result"
    }
   ],
   "source": [
    "a[0]"
   ]
  },
  {
   "cell_type": "markdown",
   "metadata": {},
   "source": [
    "Os parênteses não são necessários para definir uma tupla: apenas uma sequência de objetos separados por vírgulas é suficiente para definir uma tupla:"
   ]
  },
  {
   "cell_type": "code",
   "execution_count": 105,
   "metadata": {
    "ExecuteTime": {
     "end_time": "2018-05-23T12:15:20.857784Z",
     "start_time": "2018-05-23T12:15:20.853521Z"
    }
   },
   "outputs": [
    {
     "data": {
      "text/plain": [
       "(1879, 1955, 'Einstein')"
      ]
     },
     "execution_count": 105,
     "metadata": {},
     "output_type": "execute_result"
    }
   ],
   "source": [
    "a = 1879, 1955, 'Einstein'\n",
    "a"
   ]
  },
  {
   "cell_type": "code",
   "execution_count": 106,
   "metadata": {
    "ExecuteTime": {
     "end_time": "2018-05-23T12:15:21.822643Z",
     "start_time": "2018-05-23T12:15:21.817721Z"
    }
   },
   "outputs": [
    {
     "data": {
      "text/plain": [
       "(2, 'Nome', 4, 'Contribuição')"
      ]
     },
     "execution_count": 106,
     "metadata": {},
     "output_type": "execute_result"
    }
   ],
   "source": [
    "b=(2,'Nome',4,'Contribuição')\n",
    "b"
   ]
  },
  {
   "cell_type": "markdown",
   "metadata": {},
   "source": [
    "Embora seja uma boa prática incluir os parênteses o qual ajuda a mostrar a definição da tupla.\n",
    "\n",
    "Tuplas também podem ser usados para fazer duas tarefas ao mesmo tempo:"
   ]
  },
  {
   "cell_type": "code",
   "execution_count": 107,
   "metadata": {
    "ExecuteTime": {
     "end_time": "2018-05-23T12:15:24.203201Z",
     "start_time": "2018-05-23T12:15:24.199146Z"
    }
   },
   "outputs": [
    {
     "data": {
      "text/plain": [
       "10"
      ]
     },
     "execution_count": 107,
     "metadata": {},
     "output_type": "execute_result"
    }
   ],
   "source": [
    "x, y = 10, 20\n",
    "x"
   ]
  },
  {
   "cell_type": "code",
   "execution_count": 108,
   "metadata": {
    "ExecuteTime": {
     "end_time": "2018-05-23T12:15:28.012390Z",
     "start_time": "2018-05-23T12:15:28.008137Z"
    }
   },
   "outputs": [
    {
     "data": {
      "text/plain": [
       "20"
      ]
     },
     "execution_count": 108,
     "metadata": {},
     "output_type": "execute_result"
    }
   ],
   "source": [
    "y"
   ]
  },
  {
   "cell_type": "markdown",
   "metadata": {},
   "source": [
    "Isso pode ser usado para *trocar* objetos dentro de uma linha. Por exemplo"
   ]
  },
  {
   "cell_type": "code",
   "execution_count": 109,
   "metadata": {
    "ExecuteTime": {
     "end_time": "2018-05-23T12:16:13.341118Z",
     "start_time": "2018-05-23T12:16:13.334628Z"
    }
   },
   "outputs": [
    {
     "data": {
      "text/plain": [
       "2"
      ]
     },
     "execution_count": 109,
     "metadata": {},
     "output_type": "execute_result"
    }
   ],
   "source": [
    "x = 1\n",
    "y = 2\n",
    "x, y = y, x\n",
    "x"
   ]
  },
  {
   "cell_type": "code",
   "execution_count": 8,
   "metadata": {},
   "outputs": [
    {
     "data": {
      "text/plain": [
       "1"
      ]
     },
     "execution_count": 8,
     "metadata": {},
     "output_type": "execute_result"
    }
   ],
   "source": [
    "y"
   ]
  },
  {
   "cell_type": "markdown",
   "metadata": {},
   "source": [
    "## Exercício: lógica \n",
    "Notem que a grande caracterísitca da tupla foi trocar o de trocar o valor das variáveis sem usar uma variável auxiliar. Para dois valores arbitrários quaisquer `x = 7` e ` y = 15`, escreva um trecho de código sem usar tuplas e sem usar uma variável auxiliar para trocar o valor das variáveis:"
   ]
  },
  {
   "cell_type": "code",
   "execution_count": 28,
   "metadata": {},
   "outputs": [
    {
     "name": "stdout",
     "output_type": "stream",
     "text": [
      "O novo valor de x = 7  e y = 15 \n"
     ]
    }
   ],
   "source": [
    "x = 7; y =15\n",
    "pass # aqui você deve completar o código\n",
    "print('O novo valor de x = %d  e y = %d ' % (x,y))"
   ]
  },
  {
   "cell_type": "code",
   "execution_count": 12,
   "metadata": {},
   "outputs": [
    {
     "name": "stdout",
     "output_type": "stream",
     "text": [
      "9 8\n"
     ]
    }
   ],
   "source": []
  },
  {
   "cell_type": "markdown",
   "metadata": {},
   "source": [
    "Uma tupla vazia é dada por `()`:"
   ]
  },
  {
   "cell_type": "code",
   "execution_count": 1,
   "metadata": {},
   "outputs": [
    {
     "data": {
      "text/plain": [
       "0"
      ]
     },
     "execution_count": 1,
     "metadata": {},
     "output_type": "execute_result"
    }
   ],
   "source": [
    "t = ()\n",
    "len(t)"
   ]
  },
  {
   "cell_type": "code",
   "execution_count": 2,
   "metadata": {},
   "outputs": [
    {
     "data": {
      "text/plain": [
       "tuple"
      ]
     },
     "execution_count": 2,
     "metadata": {},
     "output_type": "execute_result"
    }
   ],
   "source": [
    "type(t)"
   ]
  },
  {
   "cell_type": "markdown",
   "metadata": {},
   "source": [
    "A notação para uma tupla que contém um valor pode parecer um pouco estranho no início:"
   ]
  },
  {
   "cell_type": "code",
   "execution_count": 3,
   "metadata": {},
   "outputs": [
    {
     "data": {
      "text/plain": [
       "tuple"
      ]
     },
     "execution_count": 3,
     "metadata": {},
     "output_type": "execute_result"
    }
   ],
   "source": [
    "t = (42,)\n",
    "type(t)"
   ]
  },
  {
   "cell_type": "code",
   "execution_count": 4,
   "metadata": {},
   "outputs": [
    {
     "data": {
      "text/plain": [
       "1"
      ]
     },
     "execution_count": 4,
     "metadata": {},
     "output_type": "execute_result"
    }
   ],
   "source": [
    "len(t)"
   ]
  },
  {
   "cell_type": "markdown",
   "metadata": {},
   "source": [
    "A vírgula extra é necessária para distinguir `(42,)` de `(42)`, onde neste último caso o parêntese seria lido como definindo a precedência do operador: `(42)` simplifica para `42` que é apenas um número:"
   ]
  },
  {
   "cell_type": "code",
   "execution_count": 5,
   "metadata": {},
   "outputs": [
    {
     "data": {
      "text/plain": [
       "int"
      ]
     },
     "execution_count": 5,
     "metadata": {},
     "output_type": "execute_result"
    }
   ],
   "source": [
    "t = (42)\n",
    "type(t)"
   ]
  },
  {
   "cell_type": "markdown",
   "metadata": {},
   "source": [
    "Este exemplo mostra a imutabilidade de uma tupla:"
   ]
  },
  {
   "cell_type": "code",
   "execution_count": 6,
   "metadata": {},
   "outputs": [
    {
     "data": {
      "text/plain": [
       "1643"
      ]
     },
     "execution_count": 6,
     "metadata": {},
     "output_type": "execute_result"
    }
   ],
   "source": [
    "a = (1643, 1727, 'Newton')\n",
    "a[0]"
   ]
  },
  {
   "cell_type": "markdown",
   "metadata": {},
   "source": [
    "Ao tentar atribuir um novo valor a um dos elementos da tupla, o python irá emitir uma mensagem de erro, conforme exemplo a seguir:"
   ]
  },
  {
   "cell_type": "code",
   "execution_count": 7,
   "metadata": {},
   "outputs": [
    {
     "ename": "TypeError",
     "evalue": "'tuple' object does not support item assignment",
     "output_type": "error",
     "traceback": [
      "\u001b[0;31m---------------------------------------------------------------------------\u001b[0m",
      "\u001b[0;31mTypeError\u001b[0m                                 Traceback (most recent call last)",
      "\u001b[0;32m<ipython-input-7-e1eedb83928b>\u001b[0m in \u001b[0;36m<module>\u001b[0;34m()\u001b[0m\n\u001b[0;32m----> 1\u001b[0;31m \u001b[0ma\u001b[0m\u001b[0;34m[\u001b[0m\u001b[0;36m0\u001b[0m\u001b[0;34m]\u001b[0m \u001b[0;34m=\u001b[0m \u001b[0;36m1642\u001b[0m\u001b[0;34m\u001b[0m\u001b[0m\n\u001b[0m",
      "\u001b[0;31mTypeError\u001b[0m: 'tuple' object does not support item assignment"
     ]
    }
   ],
   "source": [
    "a[0] = 1642"
   ]
  },
  {
   "cell_type": "markdown",
   "metadata": {},
   "source": [
    "A imutabilidade é a principal diferença entre uma tupla e uma lista (sendo esta última mutável). Devemos usar tuplas quando não queremos que o conteúdo mude. Observe que as funções Python que retornam mais de um valor, retornam-nas em tuplas (o que faz sentido porque você não deseja que esses valores sejam alterados). "
   ]
  },
  {
   "cell_type": "markdown",
   "metadata": {},
   "source": [
    "### Indexando Sequências  <a name=\"CP3-index-seq\"></a>\n",
    "\n",
    "##### Mais informação\n",
    "\n",
    "-   Introdução a strings e indexando em [Python tutorial, section 3.1.2](http://docs.python.org/tutorial/introduction.html#strings), a seção relevante inicia após a introdução das strings.\n",
    "\n",
    "Objetos individuais em listas podem ser acessados usando o índice do objeto e colchetes (`[` e `] `):"
   ]
  },
  {
   "cell_type": "code",
   "execution_count": 110,
   "metadata": {
    "ExecuteTime": {
     "end_time": "2018-05-23T12:17:04.602059Z",
     "start_time": "2018-05-23T12:17:04.591165Z"
    }
   },
   "outputs": [
    {
     "data": {
      "text/plain": [
       "'Galileo'"
      ]
     },
     "execution_count": 110,
     "metadata": {},
     "output_type": "execute_result"
    }
   ],
   "source": [
    "Cientistas = ['Galileo', 'Newton', 'Lagrange', 'Maxwell',\\ \n",
    "              'Einstein']\n",
    "Cientistas[0]"
   ]
  },
  {
   "cell_type": "code",
   "execution_count": 111,
   "metadata": {
    "ExecuteTime": {
     "end_time": "2018-05-23T12:17:11.246097Z",
     "start_time": "2018-05-23T12:17:11.236768Z"
    }
   },
   "outputs": [
    {
     "data": {
      "text/plain": [
       "'Newton'"
      ]
     },
     "execution_count": 111,
     "metadata": {},
     "output_type": "execute_result"
    }
   ],
   "source": [
    "Cientistas[1]"
   ]
  },
  {
   "cell_type": "code",
   "execution_count": 112,
   "metadata": {
    "ExecuteTime": {
     "end_time": "2018-05-23T12:17:13.842608Z",
     "start_time": "2018-05-23T12:17:13.838303Z"
    }
   },
   "outputs": [
    {
     "data": {
      "text/plain": [
       "'Lagrange'"
      ]
     },
     "execution_count": 112,
     "metadata": {},
     "output_type": "execute_result"
    }
   ],
   "source": [
    "Cientistas[2]"
   ]
  },
  {
   "cell_type": "markdown",
   "metadata": {},
   "source": [
    "Observe que Python (como C, mas diferente de Fortran e diferente de Matlab) começa a contar índices de zero!\n",
    "\n",
    "O Python fornece um atalho útil para recuperar o último elemento de uma lista: para este usa-se o índice \"-1\" onde o menos indica que é um elemento *da parte de trás* da lista, ou seja, o último elemento. Da mesma forma, o índice \"-2\" retornará o $2^{\\underline{o}}$ elemento:"
   ]
  },
  {
   "cell_type": "code",
   "execution_count": 113,
   "metadata": {
    "ExecuteTime": {
     "end_time": "2018-05-23T12:18:13.606394Z",
     "start_time": "2018-05-23T12:18:13.598992Z"
    }
   },
   "outputs": [
    {
     "data": {
      "text/plain": [
       "'Einstein'"
      ]
     },
     "execution_count": 113,
     "metadata": {},
     "output_type": "execute_result"
    }
   ],
   "source": [
    "Cientistas[-1]"
   ]
  },
  {
   "cell_type": "code",
   "execution_count": 114,
   "metadata": {
    "ExecuteTime": {
     "end_time": "2018-05-23T12:18:20.833565Z",
     "start_time": "2018-05-23T12:18:20.825860Z"
    }
   },
   "outputs": [
    {
     "data": {
      "text/plain": [
       "'Maxwell'"
      ]
     },
     "execution_count": 114,
     "metadata": {},
     "output_type": "execute_result"
    }
   ],
   "source": [
    "Cientistas[-2]"
   ]
  },
  {
   "cell_type": "markdown",
   "metadata": {},
   "source": [
    "Se você preferir, você pode pensar no índice `Cientistas[-1]` como sendo uma notação abreviada para `Cientistas[len(a)-1]`, isso ocorre, porque a indexação no python inicia ccom o `0`.\n",
    "\n",
    "Lembre-se que sequências de caracteres (como listas) também são um tipo de sequência e podem ser indexados da mesma maneira:"
   ]
  },
  {
   "cell_type": "code",
   "execution_count": 115,
   "metadata": {
    "ExecuteTime": {
     "end_time": "2018-05-23T12:22:07.796719Z",
     "start_time": "2018-05-23T12:22:07.792844Z"
    }
   },
   "outputs": [
    {
     "name": "stdout",
     "output_type": "stream",
     "text": [
      "10\n"
     ]
    }
   ],
   "source": [
    "a = \"Olá Mundo!\" \n",
    "a[0]\n",
    "print(len(a))"
   ]
  },
  {
   "cell_type": "code",
   "execution_count": 14,
   "metadata": {},
   "outputs": [
    {
     "data": {
      "text/plain": [
       "'l'"
      ]
     },
     "execution_count": 14,
     "metadata": {},
     "output_type": "execute_result"
    }
   ],
   "source": [
    "a[1]"
   ]
  },
  {
   "cell_type": "code",
   "execution_count": 15,
   "metadata": {},
   "outputs": [
    {
     "data": {
      "text/plain": [
       "'!'"
      ]
     },
     "execution_count": 15,
     "metadata": {},
     "output_type": "execute_result"
    }
   ],
   "source": [
    "a[10-1]"
   ]
  },
  {
   "cell_type": "code",
   "execution_count": 16,
   "metadata": {},
   "outputs": [
    {
     "data": {
      "text/plain": [
       "'!'"
      ]
     },
     "execution_count": 16,
     "metadata": {},
     "output_type": "execute_result"
    }
   ],
   "source": [
    "a[-1]"
   ]
  },
  {
   "cell_type": "code",
   "execution_count": 17,
   "metadata": {},
   "outputs": [
    {
     "data": {
      "text/plain": [
       "'o'"
      ]
     },
     "execution_count": 17,
     "metadata": {},
     "output_type": "execute_result"
    }
   ],
   "source": [
    "a[-2]"
   ]
  },
  {
   "cell_type": "markdown",
   "metadata": {},
   "source": [
    "## Fatiamento de sequências <a name=\"CP3-fat-seq\"></a>\n",
    "\n",
    "##### Mais informações\n",
    "\n",
    "-   Introdução a strings, indexando e fatiando em [Python tutorial, section 3.1.2](http://docs.python.org/tutorial/introduction.html#strings)\n",
    "\n",
    "*Fatiamento* de sequências pode ser usado para recuperar mais de um elemento. Por exemplo:"
   ]
  },
  {
   "cell_type": "code",
   "execution_count": 36,
   "metadata": {},
   "outputs": [
    {
     "data": {
      "text/plain": [
       "'Olá'"
      ]
     },
     "execution_count": 36,
     "metadata": {},
     "output_type": "execute_result"
    }
   ],
   "source": [
    "a = \"Olá Mundo!\" \n",
    "a[0:3]"
   ]
  },
  {
   "cell_type": "markdown",
   "metadata": {},
   "source": [
    "Ao escrever `a[0:3]` solicitamos os 3 primeiros elementos a partir do elemento 0. Similarmente:"
   ]
  },
  {
   "cell_type": "code",
   "execution_count": 19,
   "metadata": {},
   "outputs": [
    {
     "data": {
      "text/plain": [
       "'lá '"
      ]
     },
     "execution_count": 19,
     "metadata": {},
     "output_type": "execute_result"
    }
   ],
   "source": [
    "a[1:4]"
   ]
  },
  {
   "cell_type": "code",
   "execution_count": 20,
   "metadata": {},
   "outputs": [
    {
     "data": {
      "text/plain": [
       "'Ol'"
      ]
     },
     "execution_count": 20,
     "metadata": {},
     "output_type": "execute_result"
    }
   ],
   "source": [
    "a[0:2]"
   ]
  },
  {
   "cell_type": "code",
   "execution_count": 21,
   "metadata": {},
   "outputs": [
    {
     "data": {
      "text/plain": [
       "'Mundo'"
      ]
     },
     "execution_count": 21,
     "metadata": {},
     "output_type": "execute_result"
    }
   ],
   "source": [
    "a[4:9]"
   ]
  },
  {
   "cell_type": "code",
   "execution_count": 37,
   "metadata": {},
   "outputs": [
    {
     "data": {
      "text/plain": [
       "'OáMno'"
      ]
     },
     "execution_count": 37,
     "metadata": {},
     "output_type": "execute_result"
    }
   ],
   "source": [
    "a[0:9:2]"
   ]
  },
  {
   "cell_type": "code",
   "execution_count": 38,
   "metadata": {},
   "outputs": [
    {
     "data": {
      "text/plain": [
       "'O n!'"
      ]
     },
     "execution_count": 38,
     "metadata": {},
     "output_type": "execute_result"
    }
   ],
   "source": [
    "a[0:10:3]"
   ]
  },
  {
   "cell_type": "markdown",
   "metadata": {},
   "source": [
    "Podemos usar índices negativos para se referir ao final da sequência:"
   ]
  },
  {
   "cell_type": "code",
   "execution_count": 22,
   "metadata": {},
   "outputs": [
    {
     "data": {
      "text/plain": [
       "'Olá Mundo'"
      ]
     },
     "execution_count": 22,
     "metadata": {},
     "output_type": "execute_result"
    }
   ],
   "source": [
    "a[0:-1]"
   ]
  },
  {
   "cell_type": "markdown",
   "metadata": {},
   "source": [
    "Também é possível deixar de fora o início ou o índice final e isso retornará todos os elementos até o início ou o final da sequência. Aqui estão alguns exemplos para tornar isso mais claro:"
   ]
  },
  {
   "cell_type": "code",
   "execution_count": 23,
   "metadata": {},
   "outputs": [
    {
     "data": {
      "text/plain": [
       "'Olá '"
      ]
     },
     "execution_count": 23,
     "metadata": {},
     "output_type": "execute_result"
    }
   ],
   "source": [
    "a = \"Olá Mundo!\"\n",
    "a[:4]"
   ]
  },
  {
   "cell_type": "code",
   "execution_count": 24,
   "metadata": {},
   "outputs": [
    {
     "data": {
      "text/plain": [
       "'ndo!'"
      ]
     },
     "execution_count": 24,
     "metadata": {},
     "output_type": "execute_result"
    }
   ],
   "source": [
    "a[-4:]"
   ]
  },
  {
   "cell_type": "code",
   "execution_count": 25,
   "metadata": {},
   "outputs": [
    {
     "name": "stdout",
     "output_type": "stream",
     "text": [
      "!\n"
     ]
    }
   ],
   "source": [
    "n=len(a)\n",
    "print(a[n-1])"
   ]
  },
  {
   "cell_type": "code",
   "execution_count": 26,
   "metadata": {},
   "outputs": [
    {
     "data": {
      "text/plain": [
       "'Mundo!'"
      ]
     },
     "execution_count": 26,
     "metadata": {},
     "output_type": "execute_result"
    }
   ],
   "source": [
    "a[4:]"
   ]
  },
  {
   "cell_type": "code",
   "execution_count": 27,
   "metadata": {},
   "outputs": [
    {
     "data": {
      "text/plain": [
       "'o!'"
      ]
     },
     "execution_count": 27,
     "metadata": {},
     "output_type": "execute_result"
    }
   ],
   "source": [
    "a[-2:]"
   ]
  },
  {
   "cell_type": "code",
   "execution_count": 28,
   "metadata": {},
   "outputs": [
    {
     "data": {
      "text/plain": [
       "'Olá Mundo!'"
      ]
     },
     "execution_count": 28,
     "metadata": {},
     "output_type": "execute_result"
    }
   ],
   "source": [
    "a[:]"
   ]
  },
  {
   "cell_type": "markdown",
   "metadata": {},
   "source": [
    "Note que `a[:]` irá gerar uma *cópia* de `a`. O uso de índices no fatiamento é por algumas pessoas experientes contra-intuitivo. Se você se sentir desconfortável com o fatiamento, dê uma olhada nesta citação do [Python tutorial (section 3.1.2)](http://docs.python.org/tutorial/introduction.html#strings):\n",
    "\n",
    "> A melhor maneira de lembrar como as fatias funcionam é pensar nos índices como apontando entre caracteres, com a borda esquerda do primeiro caractere numerado 0. Então a borda direita do último caractere de uma sequência de 6 caracteres tem índice 6, por exemplo :\n",
    ">\n",
    ">      +---+---+---+---+---+---+\n",
    ">      | F | í | s | i | c | a |\n",
    ">      +---+---+---+---+---+---+\n",
    ">      0   1   2   3   4   5   6 <-- use para fatiar\n",
    ">     -6  -5  -4  -3  -2  -1     <-- use para fatiar\n",
    ">                                    a partir do fim\n",
    ">\n",
    "> A primeira linha de números dá a posição dos índices de corte 0 ... 6 na seqüência; A segunda linha dá os índices negativos correspondentes. A fatia de i para j consiste em todos os caracteres entre as margens i e j, respectivamente.\n",
    "\n",
    "Portanto, a afirmação importante é que para o *fatiamento* devemos pensar em índices apontando entre caracteres.\n",
    "\n",
    "Para *indexação* é melhor pensar nos índices referentes a caracteres. Aqui está um pequeno gráfico resumindo estas regras:\n",
    "\n",
    ">        0   1   2   3   4   5    <-- use para indexar\n",
    ">       -6  -5  -4  -3  -2  -1    <-- use para indexar\n",
    ">      +---+---+---+---+---+---+      a partir do fim\n",
    ">      | F | í | s | i | c | a |\n",
    ">      +---+---+---+---+---+---+\n",
    ">      0   1   2   3   4   5   6  <-- use para fatiar\n",
    ">     -6  -5  -4  -3  -2  -1      <-- use para fatiar\n",
    ">                                     a partir do fim\n",
    "\n",
    "\n",
    "Se você não tem certeza de qual é o índice correto, é sempre uma boa técnica brincar com um pequeno exemplo no prompt do Python para testar as coisas antes ou enquanto você escreve seu programa."
   ]
  },
  {
   "cell_type": "markdown",
   "metadata": {},
   "source": [
    "### Expressões asteriscos <a name=\"CP3-Exp-asterisco\"></a>\n",
    "\n",
    "\n",
    "Embora possamos usar o operador de fatiamento para acessar itens numa lista, em algumas situações, queremos tirar duas ou mais partes de uma lista de uma só vez. Isso pode ser feito por desempacotamento de sequências. Qualquer iterável (listas, tuplas, etc.) pode ser descompactado usando o operador de desempacotamento de sequência, um asterisco ou estrela (`*`). Quando usado com duas ou mais variáveis no lado esquerdo de uma atribuição, uma das quais é precedida por `*`, os itens são atribuídos às variáveis, com todas as sobras atribuídas à variável com asterisco (`*`). aqui estão alguns exemplos:"
   ]
  },
  {
   "cell_type": "code",
   "execution_count": 29,
   "metadata": {},
   "outputs": [
    {
     "name": "stdout",
     "output_type": "stream",
     "text": [
      "Primeiro =  7 \n",
      "Resto =  3 6 2 -4 0 9 5\n",
      "Primeiro =  Marcos \n",
      "Meio =  Ladir Mario Pedro Paulo Artur Jorge \n",
      "Último =  Fabio\n",
      "Diretórios internos =  ['', 'usr', 'local', 'bin'] Executável =  gvim\n"
     ]
    }
   ],
   "source": [
    "prim, *rest = [7, 3, 6, 2, -4, 0, 9, 5]\n",
    "print(\"Primeiro = \", prim,\"\\nResto = \", *rest)\n",
    "prim, *meio, ultimo = \"Marcos Ladir Mario Pedro Paulo Artur Jorge Fabio\".split()\n",
    "print(\"Primeiro = \", prim,\"\\nMeio = \", *meio, \"\\nÚltimo = \", ultimo)\n",
    "*diretorios, executavel = \"/usr/local/bin/gvim\".split(\"/\")\n",
    "print(\"Diretórios internos = \", diretorios, \"Executável = \", executavel)"
   ]
  },
  {
   "cell_type": "code",
   "execution_count": 30,
   "metadata": {},
   "outputs": [
    {
     "name": "stdout",
     "output_type": "stream",
     "text": [
      "1\n",
      "[3, 5, 7]\n",
      "9\n"
     ]
    }
   ],
   "source": [
    "L=[1,3,5,7,9]\n",
    "a,*b,c=L\n",
    "print(a)\n",
    "print(b)\n",
    "print(c)"
   ]
  },
  {
   "cell_type": "markdown",
   "metadata": {},
   "source": [
    "A função .split() separa o texto onde se deseja.\n",
    "Exemplo:"
   ]
  },
  {
   "cell_type": "code",
   "execution_count": 32,
   "metadata": {},
   "outputs": [
    {
     "name": "stdout",
     "output_type": "stream",
     "text": [
      "['vamos brincar um pouco com o python', ' Como ele é poderoso', ' E muito fácil', '']\n"
     ]
    }
   ],
   "source": [
    "texto= \"vamos brincar um pouco com o python. Como ele é poderoso. E muito fácil.\"\n",
    "print(texto.split(\".\"))"
   ]
  },
  {
   "cell_type": "code",
   "execution_count": null,
   "metadata": {
    "collapsed": true
   },
   "outputs": [],
   "source": []
  },
  {
   "cell_type": "markdown",
   "metadata": {},
   "source": [
    "Quando o operador de descompactação de sequência é usado como este, a expressão `*rest`, e expressões semelhantes, são chamadas de expressões asterisco ou com estrela (*starred*).\n",
    "\n",
    "Python também tem um conceito relacionado chamado argumentos asterisco (*starred*). Por exemplo, se tivermos a seguinte função que requer três argumentos:"
   ]
  },
  {
   "cell_type": "code",
   "execution_count": 116,
   "metadata": {
    "ExecuteTime": {
     "end_time": "2018-05-23T12:22:46.109395Z",
     "start_time": "2018-05-23T12:22:46.106525Z"
    }
   },
   "outputs": [],
   "source": [
    "def produto(x, y, z):\n",
    "    return x*y*z    # Note que aqui * é o operador multiplicação"
   ]
  },
  {
   "cell_type": "code",
   "execution_count": 117,
   "metadata": {
    "ExecuteTime": {
     "end_time": "2018-05-23T12:22:47.512971Z",
     "start_time": "2018-05-23T12:22:47.504702Z"
    }
   },
   "outputs": [
    {
     "name": "stdout",
     "output_type": "stream",
     "text": [
      "2 * 3 * 5 =  30\n"
     ]
    }
   ],
   "source": [
    "print(\"2 * 3 * 5 = \", produto(2,3,5))"
   ]
  },
  {
   "cell_type": "code",
   "execution_count": 35,
   "metadata": {},
   "outputs": [
    {
     "name": "stdout",
     "output_type": "stream",
     "text": [
      "2 * 3 * 5 =  30\n",
      "1 * 3 * 5 =  15\n"
     ]
    }
   ],
   "source": [
    "\n",
    "L=[2,3,5]\n",
    "print(\"2 * 3 * 5 = \", produto(*L))       #Aqui o * irá descompactar a lista\n",
    "print(\"1 * 3 * 5 = \", produto(1,*L[1:])) #Aqui o * irá descompactar a lista"
   ]
  },
  {
   "cell_type": "code",
   "execution_count": null,
   "metadata": {
    "collapsed": true
   },
   "outputs": [],
   "source": []
  },
  {
   "cell_type": "markdown",
   "metadata": {},
   "source": [
    "### Exemplo: Ano Bissexto  <a name=\"CP3-Ex-ano-bissexto\"></a>\n",
    "\n",
    "Chama-se ano [bissexto](https://pt.wikipedia.org/wiki/Ano_bissexto) o ano ao qual é acrescentado um dia extra, ficando ele com 366 dias, um dia a mais do que os anos normais de 365 dias, ocorrendo a cada quatro anos (exceto anos múltiplos de 100 que não são múltiplos de 400). Isto é feito com o objetivo de manter o calendário anual ajustado com a translação da Terra e com os eventos sazonais relacionados às estações do ano. O ano de 2016 foi bissexto e o próximo será 2020.\n",
    "\n",
    "Feitas as correções de calendário definiu-se a nova regra para o cálculo dos anos bissextos:\n",
    "\n",
    "* De 4 em 4 anos é ano bissexto.\n",
    "* De 100 em 100 anos não é ano bissexto.\n",
    "* De 400 em 400 anos é ano bissexto.\n",
    "* Prevalecem as últimas regras sobre as primeiras.\n",
    "\n",
    "Para melhor entender:\n",
    "\n",
    "* São bissextos todos os anos múltiplos de 400, p.ex: 1600, 2000, 2400, 2800...\n",
    "* São bissextos todos os múltiplos de 4, exceto se for múltiplo de 100 mas não de 400, p.ex: 1996, 2004, 2008, 2012, 2016…\n",
    "* Não são bissextos todos os demais anos.\n",
    "\n",
    "Essa regra aproxima o ano trópico pelo valor de 365,2425 dias.\n",
    "\n",
    "Em função da nossa longevidade média, é comum e compreensível que nos lembremos apenas da primeira regra, a de quatro em quatro anos, embora a correção dos anos bissextos seja mais complexa.\n",
    "\n",
    "Como curiosidade, o ano de 2000 foi o segundo ano em que a terceira regra foi aplicada. Contudo, como foi ano bissexto, o ano de 1900 foi a última vez que a regra da divisão por 100 foi aplicada até os dias atuais; a próxima ocorrerá apenas em 2100.\n",
    "\n",
    "#### Algoritmo de determinação\n",
    "\n",
    "Eis um pseudocódigo que determina quando um ano é bissexto ou não:\n",
    "\n",
    "```\n",
    "Inicio\n",
    "    Declare ano Inteiro;\n",
    "    Declare bissexto Booleano;\n",
    "    Leia(ano);\n",
    "    Se ( ano módulo 400 é 0 ) então\n",
    "        bissexto=Verdade;\n",
    "    Senão\n",
    "         Se (ano módulo 4 é 0 E ano módulo 100 é diferente de 0) então \n",
    "             bissexto=Verdade;\n",
    "         Senão\n",
    "             bissexto=Falso;\n",
    "Fim\n",
    "```\n",
    "\n",
    "A sua implementação no python é:"
   ]
  },
  {
   "cell_type": "code",
   "execution_count": 118,
   "metadata": {
    "ExecuteTime": {
     "end_time": "2018-05-23T12:24:47.267288Z",
     "start_time": "2018-05-23T12:24:41.175780Z"
    }
   },
   "outputs": [
    {
     "name": "stdout",
     "output_type": "stream",
     "text": [
      "Ano: 2018\n",
      "Não é um ano Bissexto\n"
     ]
    }
   ],
   "source": [
    "def bissexto(ano):\n",
    "    if ano % 400 == 0:\n",
    "        print(\"Ano Bissexto\")\n",
    "    elif ano % 4 == 0:\n",
    "        if ano % 100 != 0:\n",
    "            print(\"Ano Bissexto\")\n",
    "        else:\n",
    "            print(\"Não é um ano Bissexto\")\n",
    "    else:\n",
    "        print(\"Não é um ano Bissexto\")\n",
    "    \n",
    "ano = int(input(\"Ano: \"))\n",
    "bissexto(ano)"
   ]
  },
  {
   "cell_type": "markdown",
   "metadata": {},
   "source": [
    "Vamos usar uma lista para passar como argumento, para a função"
   ]
  },
  {
   "cell_type": "code",
   "execution_count": 40,
   "metadata": {},
   "outputs": [
    {
     "name": "stdout",
     "output_type": "stream",
     "text": [
      "[1904, 1908, 1912, 1916, 1920, 1924, 1928, 1932, 1936, 1940, 1944, 1948, 1952, 1956, 1960, 1964, 1968, 1972, 1976, 1980, 1984, 1988, 1992, 1996, 2000, 2004, 2008, 2012, 2016, 2020]\n"
     ]
    }
   ],
   "source": [
    "# Um outra forma:\n",
    "Periodo =[1900,2024]\n",
    "Bissextos = [y for y in range(Periodo[0],Periodo[1])\n",
    "             if (y % 4 == 0 and y % 100 != 0) or (y % 400 == 0)]\n",
    "print(Bissextos)"
   ]
  },
  {
   "cell_type": "code",
   "execution_count": 41,
   "metadata": {},
   "outputs": [
    {
     "name": "stdout",
     "output_type": "stream",
     "text": [
      "[1952, 1956, 1960, 1964, 1968, 1972, 1976, 1980, 1984, 1988, 1992, 1996, 2000, 2004, 2008, 2012, 2016, 2020, 2024, 2028, 2032, 2036, 2040, 2044, 2048, 2052, 2056, 2060]\n"
     ]
    }
   ],
   "source": [
    "# Uma outra forma:\n",
    "AnoInicial=1950 # Esse é o ano inicial\n",
    "AnoFinal=2060+1\n",
    "Periodo=[AnoInicial,AnoFinal]\n",
    "Bissextos = [y for y in range(Periodo[0],Periodo[1])\n",
    "             if (y % 4 == 0 and y % 100 != 0) or (y % 400 == 0)]\n",
    "print(Bissextos)"
   ]
  },
  {
   "cell_type": "markdown",
   "metadata": {},
   "source": [
    "## A função `enumerate()`\n",
    "\n",
    "Como fazemos para percorrer os elementos de uma lista? Pode-se usar um loop `for in`. Por exemplo,\n",
    "\n",
    "```pyhton\n",
    "\n",
    "```"
   ]
  },
  {
   "cell_type": "code",
   "execution_count": 1,
   "metadata": {},
   "outputs": [
    {
     "name": "stdout",
     "output_type": "stream",
     "text": [
      "['Olá', 'mundo,', 'o', 'python', 'é', '10!']\n"
     ]
    }
   ],
   "source": [
    "texto = \"Olá mundo, o python é 10!\"\n",
    "l1=texto.split(\" \")\n",
    "print(l1)"
   ]
  },
  {
   "cell_type": "code",
   "execution_count": 2,
   "metadata": {},
   "outputs": [
    {
     "name": "stdout",
     "output_type": "stream",
     "text": [
      "Olá\n",
      "mundo\n",
      "o\n",
      "python\n",
      "é\n",
      "10\n"
     ]
    }
   ],
   "source": [
    "l = ['Olá', 'mundo', 'o', 'python', 'é', '10']\n",
    "for x in l:\n",
    "    print(x)"
   ]
  },
  {
   "cell_type": "markdown",
   "metadata": {},
   "source": [
    "Outra forma de percorrer uma lista é através do acesso aos índices de cada elemento, conforme o exemplo:\n",
    "\n",
    "```pyhton\n",
    "    l = ['Olá', 'mundo', 'o', 'python', 'é', '10']\n",
    "    for i in range(0, len(l)):\n",
    "        print(l[i])\n",
    "```"
   ]
  },
  {
   "cell_type": "code",
   "execution_count": 3,
   "metadata": {},
   "outputs": [
    {
     "name": "stdout",
     "output_type": "stream",
     "text": [
      "Olá\n",
      "mundo\n",
      "o\n",
      "python\n",
      "é\n",
      "10\n"
     ]
    }
   ],
   "source": [
    "# Percorrendo elemento por elemento\n",
    "for i in range(0, len(l)):\n",
    "    print(l[i])"
   ]
  },
  {
   "cell_type": "markdown",
   "metadata": {},
   "source": [
    "O que é semelhante a uma construção usando um loop `while` (o qual ser visto em detalhes posteriormente)\n",
    "\n",
    "```pyhton\n",
    "    l = ['Olá', 'mundo', 'o', 'python', 'é', '10']\n",
    "    i = 0\n",
    "    while i < len(l):\n",
    "        print(l[i])\n",
    "        i = i + 1\n",
    "```"
   ]
  },
  {
   "cell_type": "code",
   "execution_count": 4,
   "metadata": {},
   "outputs": [
    {
     "name": "stdout",
     "output_type": "stream",
     "text": [
      "Olá\n",
      "mundo\n",
      "o\n",
      "python\n",
      "é\n",
      "10\n"
     ]
    }
   ],
   "source": [
    "i = 0\n",
    "while i < len(l):\n",
    "    print(l[i])\n",
    "    i = i + 1"
   ]
  },
  {
   "cell_type": "markdown",
   "metadata": {},
   "source": [
    "Qual é a diferença básica entre os dois últimos códigos (que usam o loop `for i in range` e o loop `while`) e o primeiro trecho de código apresentado (que usa o loop `for in`)? A diferença está no acesso ao índice, à posição do elemento na lista. Utilizando a estrutura `for elem in`, percorre-se a lista entretanto não se sabe qual é a posição do item atual. Há várias situações nas quais é necessário conhecer a posição do item ana lista, como por exemplo no caso de item repetidos, ou ainda se precisarmos escrever uma função que retorne uma lista contendo os índices das palavras que começam pelo caractere 'o'.\n",
    "\n",
    "Para contornar esse problema, existe a função `enumerate()`. Essa função pode receber como entrada uma lista e irá retornar um objeto do tipo enumerate, que poderá ser percorrido pelo loop `for`. Vejamos um exemplo simples:\n",
    "\n",
    "```pyhton\n",
    "    l = ['Olá', 'mundo', 'o', 'python', 'é', '10']\n",
    "    for i, x in enumerate(l):\n",
    "        print (i, x)\n",
    "```\n",
    "\n",
    "Isso irá gerar a seguinte saída:\n",
    "\n",
    "```pyhton\n",
    "    0 Olá\n",
    "    1 mundo\n",
    "    2 o\n",
    "    3 python\n",
    "    4 é\n",
    "    5 10\n",
    "```"
   ]
  },
  {
   "cell_type": "code",
   "execution_count": 6,
   "metadata": {},
   "outputs": [
    {
     "name": "stdout",
     "output_type": "stream",
     "text": [
      "0 Olá 10\n",
      "1 mundo é\n",
      "2 o python\n",
      "3 python o\n",
      "4 é mundo\n",
      "5 10 Olá\n"
     ]
    }
   ],
   "source": [
    "l = ['Olá', 'mundo', 'o', 'python', 'é', '10']\n",
    "for i, x in enumerate(l):\n",
    "    j = len(l)-i -1\n",
    "    print (i, x,l[j])"
   ]
  },
  {
   "cell_type": "markdown",
   "metadata": {},
   "source": [
    "Se desejarmos escrever uma função que retorne uma lista contendo as posições das palavras de uma lista que começam com a letra 'o'?\n",
    "\n",
    "```pyhton\n",
    "    def posicoesQueIniciamCom(lista, letra='o'):\n",
    "        result = []\n",
    "        for i, palavra in enumerate(lista):\n",
    "            if palavra.startswith(letra):\n",
    "                result.append(i)\n",
    "        return result\n",
    "\n",
    "    nomes = ['Note', 'que', 'os', 'opostos', 'repelem-se.', 'Isso', 'é', 'obvio.']\n",
    "    print (posicoesQueIniciamCom(nomes))\n",
    "```\n",
    "\n",
    "\n",
    "\n",
    "O resultado da execução do código acima será:\n",
    "\n",
    "```pyhton\n",
    "    [2, 3, 7]\n",
    "```"
   ]
  },
  {
   "cell_type": "code",
   "execution_count": 8,
   "metadata": {},
   "outputs": [
    {
     "name": "stdout",
     "output_type": "stream",
     "text": [
      "[2, 3, 7]\n"
     ]
    }
   ],
   "source": [
    "def posicoesQueIniciamCom(lista, letra='o'):\n",
    "    result = []\n",
    "    for i, palavra in enumerate(lista):\n",
    "        if palavra.startswith(letra):\n",
    "            result.append(i)\n",
    "    return result\n",
    "\n",
    "nomes = ['Note', 'que', 'os', 'opostos', 'repelem-se.', 'Isso', 'é', 'obvio.']\n",
    "print (posicoesQueIniciamCom(nomes))"
   ]
  },
  {
   "cell_type": "markdown",
   "metadata": {},
   "source": [
    "Assim, sempre que precisarmos dos índices dos elementos das listas (ou outros iteráveis) que estivermos percorrendo, podemos utilizar a função `enumerate()` para construir uma estrutura composta por pares índice-elemento."
   ]
  },
  {
   "cell_type": "markdown",
   "metadata": {},
   "source": [
    "## Os métodos disponíveis para  sequências (listas) <a name=\"CP3-Met-seq\"></a>"
   ]
  },
  {
   "cell_type": "markdown",
   "metadata": {},
   "source": [
    "Para os exemplos que se seguem considere a seguinte lista:\n",
    "\n",
    "```pyhton\n",
    "lst = [1, 3, 5, 7, 7, 9, 1, 5, 3]\n",
    "```\n",
    "\n",
    "### Verificando se há algo na lista\n",
    "\n",
    "Primeiro é necessário verificar se algo está dentro de uma lista ou não. E para isso, pode usar o operador in para isso:\n",
    "\n",
    "```pyhton\n",
    "3 in [1, 3, 5, 7] # => True\n",
    "```\n",
    "\n",
    "### Filtrando uma lista\n",
    "\n",
    "Nesse caso deseja-se encontrar todos os elementos em uma lista que satisfaçam uma determinada condição. Pode-se usar a compreensão de lista ou expressões de gerador para isso:\n",
    "\n",
    "```pyhton\n",
    "casados = [x for x in lst if sastifaz-alguma-condicao(x)]\n",
    "casados = (x for x in lst if x > 6)\n",
    "```\n",
    "\n",
    "Este último irá retornar um gerador que você pode imaginar como uma espécie de lista preguiçosa que só será construída assim que você iterar através dela. A propósito, o primeiro é exatamente equivalente a\n",
    "\n",
    "```pyhton\n",
    "casados = filter(sastifazer-a-condicao, lst)\n",
    "```\n",
    "No Python 2. Aqui você pode ver funções de ordem superior no trabalho. No Python 3, o filtro não retorna uma lista, mas um objeto semelhante a um gerador.\n",
    "\n",
    "\n",
    "### Encontrando a primeira ocorrência\n",
    "\n",
    "Se for necessário apenas o primeiro item da lista que corresponde a uma dada condição (mas você não sabe o que é ainda), é bom usar um loop `for` (possivelmente usando a cláusula else também, que não é realmente bem conhecida). Você também pode usar\n",
    "\n",
    "```pyhton\n",
    "next(x for x in lst if ...)\n",
    "```\n",
    "\n",
    "Que retornará o primeiro item  que satisfaz a condição ou ele retornará uma `StopIteration` se nenhum item for encontrado. Alternativamente, pode-se usar\n",
    "\n",
    "```pyhton\n",
    "next((x for x in lst if ...), [default value])\n",
    "```\n",
    "\n",
    "### Localizando a posição de um item em uma lista\n",
    "\n",
    "Para listas, há também o método `index()` que às vezes pode ser útil para saber onde um determinado elemento está na lista:\n",
    "\n",
    "```pyhton\n",
    "[1,2,3].index(2) # => 1\n",
    "[1,2,3].index(4) # => ValueError\n",
    "```\n",
    "\n",
    "No entanto, observe que se você tiver itens duplicados, o método  `.index()` sempre retorna o índice mais baixo, ou seja a primeira ocorrência:\n",
    "\n",
    "```pyhton\n",
    "[1,2,3,2].index(2) # => 1\n",
    "```\n",
    "Se houver itens duplicados e for necessário determinar todos os índices, ou seja, a localização na lista de cada um dos intens, então nesse caso pode usar a função `enumerate()` da seguinte forma:\n",
    "\n",
    "```pyhton\n",
    "[i for i,x in enumerate([1,2,3,2]) if x==2] # => [1, 3]\n",
    "```"
   ]
  },
  {
   "cell_type": "code",
   "execution_count": 48,
   "metadata": {},
   "outputs": [
    {
     "name": "stdout",
     "output_type": "stream",
     "text": [
      "['os', 'opostos', 'obvio']\n"
     ]
    }
   ],
   "source": [
    "texto = \"Note que os opostos repelem-se. Isto é obvio\"\n",
    "nomes = texto.split(\" \")\n",
    "l2=[x for x in nomes if x.startswith(\"o\")]\n",
    "print(l2)"
   ]
  },
  {
   "cell_type": "code",
   "execution_count": 49,
   "metadata": {},
   "outputs": [
    {
     "name": "stdout",
     "output_type": "stream",
     "text": [
      "True\n"
     ]
    }
   ],
   "source": [
    "print(\"opostos\" in l2)"
   ]
  },
  {
   "cell_type": "code",
   "execution_count": 50,
   "metadata": {},
   "outputs": [
    {
     "name": "stdout",
     "output_type": "stream",
     "text": [
      "[[2, 'os'], [3, 'opostos'], [7, 'obvio']]\n"
     ]
    }
   ],
   "source": [
    "l3 = [[i,x] for i,x in enumerate(nomes) if x.startswith(\"o\")]\n",
    "print(l3)"
   ]
  },
  {
   "cell_type": "code",
   "execution_count": 51,
   "metadata": {},
   "outputs": [
    {
     "data": {
      "text/plain": [
       "1"
      ]
     },
     "execution_count": 51,
     "metadata": {},
     "output_type": "execute_result"
    }
   ],
   "source": [
    "test=[]\n",
    "test = next((i for i, x in enumerate([1,2,3,2]) if x==2), None)\n",
    "test"
   ]
  },
  {
   "cell_type": "markdown",
   "metadata": {},
   "source": [
    "# Conjuntos (set e frozenset) <a name=\"CP3-Conjuntos\"></a>"
   ]
  },
  {
   "cell_type": "markdown",
   "metadata": {},
   "source": [
    "## O que são sets? <a name=\"CP3-OQSSets\"></a>\n",
    "\n",
    "Um tipo de conjunto (set) é um novo tipo de dados de coleções, disponíveis como builtins do Python, e usado para representar coleções desordenadas de elementos únicos.\n",
    "\n",
    "Um conjunto `set` é um tipo de dados de coleção que suporta o operador de associação (`in`), a função de tamanho (`len()`) e é iterável. Além disso, os tipos de conjunto fornecem pelo menos um método `set.isdisjoint()` e suportam comparações, bem como suportam os operadores lógicos (que no contexto de conjuntos são usados para união, interseção, etc.). O Python fornece dois tipos de conjuntos internos: o tipo de conjunto mutável `set` e o imutável  `frozenset`. Quando iterados, os tipos de conjuntos fornecem seus itens em uma ordem arbitrária.\n",
    "\n",
    "Somente objetos *hashable* podem ser adicionados a um conjunto. Objetos *hashable são objetos que possuem um método especial `__hash__()` cujo valor de retorno é sempre o mesmo durante todo o tempo de vida do objeto*, e que pode ser comparado pela igualdade usando o método especial `__eq__()`.\n",
    "\n",
    "Todos os tipos de dados imutáveis incorporados, como `float`, `frozenset`, `int`, `str` e `tuple`, são hashable e podem ser adicionados a conjuntos. Os tipos de dados mutáveis incorporados, como `dict`, `list` e `set`, não são hashable, uma vez que o seu valor de hash muda dependendo dos itens que contêm, para que não possam ser adicionados a conjuntos.\n",
    "\n",
    "Os tipos de conjuntos podem ser comparados usando os operadores de comparação padrão (`<`, `<=`, `==`, `! =`, `> =`, `>`). Note que, embora `==` e `! =` Tenham seus significados usuais, com as comparações sendo aplicadas item por item (e recursivamente para itens aninhados como tuplas ou conjuntos congelados dentro de conjuntos), os outros operadores de comparação realizam subconjuntos e superconjuntos, como veremos em breve.\n",
    "\n",
    "É importante sempre lembrar dos conjuntos por suas duas principais características:\n",
    "\n",
    "1. Os elementos não são armazenados em uma ordem específica e confiável;\n",
    "2. Conjuntos não contém elementos repetidos.\n",
    "\n",
    "A característica número 1 é importante, porque o desenvolvedor jamais deve confiar na ordenação de um conjunto, visto que a ordem em que os elementos são mantidos nos conjuntos varia de implementação para implementação do interpretador Python. Não é a toa que conjuntos não suportam indexação nem fatiamento (slicing). \n",
    "\n",
    "Um dos usos mais interessantes dos conjuntos é retirar dados repedidos de uma lista, pois não existe um método de lista que faça isso. Já nos conjuntos isso é automático, não existem dados repetidos.\n",
    "\n",
    "A diferença entre o `set` e o `frozenset`, é que o primeiro é mutável, já o segunto não. Considere o seguinte exemplo:"
   ]
  },
  {
   "cell_type": "code",
   "execution_count": 52,
   "metadata": {},
   "outputs": [
    {
     "name": "stdout",
     "output_type": "stream",
     "text": [
      "{1, 2, 3, 4}\n"
     ]
    },
    {
     "data": {
      "text/plain": [
       "set"
      ]
     },
     "execution_count": 52,
     "metadata": {},
     "output_type": "execute_result"
    }
   ],
   "source": [
    "s = {1, 2, 3, 4}\n",
    "print(s)\n",
    "type(s)"
   ]
  },
  {
   "cell_type": "code",
   "execution_count": 53,
   "metadata": {},
   "outputs": [
    {
     "name": "stdout",
     "output_type": "stream",
     "text": [
      "{'6', '2', '5', '1', '4', '3'}\n",
      "{'A', 'G', 'H', 'B', 'F', 'E', 'D', 'C'}\n"
     ]
    }
   ],
   "source": [
    "conjunto1=set('123456')\n",
    "print(conjunto1)\n",
    "conjunto3=set('ABCDEFGH')\n",
    "print(conjunto3)"
   ]
  },
  {
   "cell_type": "markdown",
   "metadata": {},
   "source": [
    "Veja que foi passado um tipo iterável para o set(nessa caso uma string), onde cada elemento torna-se um elemento do conjunto. "
   ]
  },
  {
   "cell_type": "markdown",
   "metadata": {},
   "source": [
    "Existem várias operações disponíveis nos conjuntos através de métodos, como as operações mais conhecidas de teoria dos conjuntos, como união, interseção e diferença."
   ]
  },
  {
   "cell_type": "code",
   "execution_count": 54,
   "metadata": {},
   "outputs": [
    {
     "name": "stdout",
     "output_type": "stream",
     "text": [
      "[4, 4, 5, 6, 7, 7, 8, 9, 9, 9]\n",
      "{4, 5, 6, 7, 8, 9}\n"
     ]
    }
   ],
   "source": [
    "L=[4,4,5,6,7,7,8,9,9,9] #Aqui define-se uma lista\n",
    "print(L)\n",
    "conjunto2 = set(L)      # Aqui atribui-se uam lista a um conjunto\n",
    "print(conjunto2)"
   ]
  },
  {
   "cell_type": "code",
   "execution_count": 55,
   "metadata": {},
   "outputs": [
    {
     "name": "stdout",
     "output_type": "stream",
     "text": [
      "<class 'list'>\n",
      "[4, 5, 6, 7, 8, 9]\n"
     ]
    }
   ],
   "source": [
    "l2 = list(conjunto2)\n",
    "print(type(l2))\n",
    "print(l2)"
   ]
  },
  {
   "cell_type": "code",
   "execution_count": 56,
   "metadata": {},
   "outputs": [
    {
     "data": {
      "text/plain": [
       "4"
      ]
     },
     "execution_count": 56,
     "metadata": {},
     "output_type": "execute_result"
    }
   ],
   "source": [
    "set.pop(conjunto2)"
   ]
  },
  {
   "cell_type": "code",
   "execution_count": 57,
   "metadata": {},
   "outputs": [
    {
     "name": "stdout",
     "output_type": "stream",
     "text": [
      "{5, 6, 7, 8, 9}\n",
      "5\n"
     ]
    }
   ],
   "source": [
    "print(conjunto2)\n",
    "print(len(conjunto2))"
   ]
  },
  {
   "cell_type": "code",
   "execution_count": 58,
   "metadata": {},
   "outputs": [
    {
     "data": {
      "text/plain": [
       "5"
      ]
     },
     "execution_count": 58,
     "metadata": {},
     "output_type": "execute_result"
    }
   ],
   "source": [
    "set.pop(conjunto2)"
   ]
  },
  {
   "cell_type": "markdown",
   "metadata": {},
   "source": [
    "Veja que ele realmente não permite elementos repetidos. Você deve ter percebido que os elementos não estão na mesma ordem que foram passados. Isso porquê conjuntos realmente não possuem nenhuma ordem. São iteráveis, ou seja, podemos fazer for x in meu_conjunto, `len(meu_conjunto)`, `x in meu_conjunto`. Mas como eles não possuem ordem, não é permitido indexação, nem fatiamento (slicing), algo tipo meu_conjunto2 está errado.\n",
    "\n",
    "A seguir serão feitas algumas operações entre conjuntos."
   ]
  },
  {
   "cell_type": "markdown",
   "metadata": {},
   "source": [
    "## Operações lógicas <a name=\"CP3-OperacoesLogicas\"></a>\n",
    "\n",
    "Também podemos usar os operadores"
   ]
  },
  {
   "cell_type": "code",
   "execution_count": 59,
   "metadata": {},
   "outputs": [
    {
     "data": {
      "text/plain": [
       "True"
      ]
     },
     "execution_count": 59,
     "metadata": {},
     "output_type": "execute_result"
    }
   ],
   "source": [
    "conjunto1 <= set('123456789')"
   ]
  },
  {
   "cell_type": "code",
   "execution_count": 30,
   "metadata": {},
   "outputs": [
    {
     "data": {
      "text/plain": [
       "False"
      ]
     },
     "execution_count": 30,
     "metadata": {},
     "output_type": "execute_result"
    }
   ],
   "source": [
    "set('123456789') < conjunto1"
   ]
  },
  {
   "cell_type": "markdown",
   "metadata": {},
   "source": [
    "## União <a name=\"CP3-Uniao\"></a>"
   ]
  },
  {
   "cell_type": "code",
   "execution_count": 119,
   "metadata": {
    "ExecuteTime": {
     "end_time": "2018-05-23T12:27:07.511346Z",
     "start_time": "2018-05-23T12:27:07.459073Z"
    }
   },
   "outputs": [],
   "source": [
    "%load_ext tikzmagic"
   ]
  },
  {
   "cell_type": "code",
   "execution_count": 120,
   "metadata": {
    "ExecuteTime": {
     "end_time": "2018-05-23T12:27:15.487100Z",
     "start_time": "2018-05-23T12:27:13.373324Z"
    }
   },
   "outputs": [
    {
     "data": {
      "image/png": "[encoded data removed]"
     },
     "metadata": {},
     "output_type": "display_data"
    }
   ],
   "source": [
    "%%tikz \n",
    "\\draw[ultra thick] (1,1) rectangle (9,6);\n",
    "\\draw[fill=red] (3.5,3.5) circle (2);\n",
    "\\draw[fill=red] (6.5,3.5) circle (2);\n",
    "\\draw[ultra thick] (3.5,3.5) circle (2) node{a};\n",
    "\\draw[ultra thick] (6.5,3.5) circle (2) node{b};"
   ]
  },
  {
   "cell_type": "code",
   "execution_count": 121,
   "metadata": {
    "ExecuteTime": {
     "end_time": "2018-05-23T12:27:20.021518Z",
     "start_time": "2018-05-23T12:27:20.018020Z"
    }
   },
   "outputs": [
    {
     "name": "stdout",
     "output_type": "stream",
     "text": [
      "{224, 'Física Matemática II', 'Física Computacional', 232, 240, 'Asc', 'Márcio', 220, 'Salviano'}\n"
     ]
    }
   ],
   "source": [
    "a = {232,\"Salviano\",220,\"Física Computacional\",\"Asc\"}\n",
    "b = {240, \"Márcio\",224,\"Física Matemática II\",\"Asc\"}\n",
    "print(a.union(b))"
   ]
  },
  {
   "cell_type": "markdown",
   "metadata": {},
   "source": [
    "## Interseção <a name=\"CP3-Intersecao\"></a>"
   ]
  },
  {
   "cell_type": "code",
   "execution_count": 122,
   "metadata": {
    "ExecuteTime": {
     "end_time": "2018-05-23T12:27:24.208484Z",
     "start_time": "2018-05-23T12:27:23.497421Z"
    }
   },
   "outputs": [
    {
     "data": {
      "image/png": "[encoded data removed]"
     },
     "metadata": {},
     "output_type": "display_data"
    }
   ],
   "source": [
    "%%tikz \n",
    "\\draw[ultra thick] (1,1) rectangle (9,6);\n",
    "\\begin{scope}\n",
    "  \\clip (6.5,3.5) circle (2);\n",
    "  \\fill[red,ultra thick] (3.5,3.5) circle (2);\n",
    "\\end{scope}\n",
    "\\draw[ultra thick] (3.5,3.5) circle (2) node{a};\n",
    "\\draw[ultra thick] (6.5,3.5) circle (2) node{b};"
   ]
  },
  {
   "cell_type": "code",
   "execution_count": 35,
   "metadata": {},
   "outputs": [
    {
     "name": "stdout",
     "output_type": "stream",
     "text": [
      "{'Asc'}\n"
     ]
    }
   ],
   "source": [
    "# Essa operação é muito útil quando precisamos descobrir elementos que duas listas possuem em comum:\n",
    "print(a.intersection(b))"
   ]
  },
  {
   "cell_type": "markdown",
   "metadata": {},
   "source": [
    "Considere duas listas, l1 e l2, tais que:"
   ]
  },
  {
   "cell_type": "code",
   "execution_count": 36,
   "metadata": {},
   "outputs": [
    {
     "name": "stdout",
     "output_type": "stream",
     "text": [
      "{2, 4, 6}\n"
     ]
    }
   ],
   "source": [
    "l1 = [1, 2, 3, 4, 5, 6]\n",
    "l2 = [2, 4, 6, 8, 10, 12]\n",
    "print(set(l1).intersection(l2))"
   ]
  },
  {
   "cell_type": "markdown",
   "metadata": {},
   "source": [
    "Perceba que convertemos l1 para conjunto para podermos usar o método `intersection`; já l2 não precisou ser convertida, pois esses métodos exigem que apenas o primeiro argumento seja um conjunto. Poderíamos obter o resultado da interseção como uma lista também:"
   ]
  },
  {
   "cell_type": "code",
   "execution_count": 37,
   "metadata": {},
   "outputs": [
    {
     "name": "stdout",
     "output_type": "stream",
     "text": [
      "[2, 4, 6]\n"
     ]
    }
   ],
   "source": [
    "l3 = list(set(l1).intersection(l2))\n",
    "print(l3)"
   ]
  },
  {
   "cell_type": "markdown",
   "metadata": {},
   "source": [
    "O método `intersection` não modifica os conjuntos recebidos como parâmetro. Se quisermos que o resultado da interseção seja gravado como novo valor do primeiro conjunto, ao invés de retornar o novo conjunto como resultado, podemos usar o método `intersection_update`:"
   ]
  },
  {
   "cell_type": "code",
   "execution_count": 38,
   "metadata": {},
   "outputs": [
    {
     "name": "stdout",
     "output_type": "stream",
     "text": [
      "{'Asc'}\n"
     ]
    }
   ],
   "source": [
    "a.intersection_update(b)\n",
    "print(a)"
   ]
  },
  {
   "cell_type": "markdown",
   "metadata": {},
   "source": [
    "## Diferença <a name=\"CP3-Diferencas\"></a>\n",
    "\n",
    "A diferença entre dois conjuntos A e B retorna somente os elementos de A que não estão em B, ou seja, retira de A todos os elementos comuns a ambos os conjuntos:"
   ]
  },
  {
   "cell_type": "code",
   "execution_count": 39,
   "metadata": {},
   "outputs": [
    {
     "name": "stderr",
     "output_type": "stream",
     "text": [
      "ERROR:root:Cell magic `%%tikz` not found.\n"
     ]
    }
   ],
   "source": [
    "%%tikz \n",
    "\\draw[ultra thick] (1,1) rectangle (9,6);\n",
    "\\draw[fill=red, ultra thick] (6.5,3.5) circle (2)  node{B};\n",
    "\\draw[fill=white,ultra thick] (3.5,3.5) circle (2) node{A};\n",
    "\\draw[ultra thick] (6.5,3.5) circle (2);"
   ]
  },
  {
   "cell_type": "code",
   "execution_count": 40,
   "metadata": {},
   "outputs": [
    {
     "name": "stdout",
     "output_type": "stream",
     "text": [
      "{1, 2}\n",
      "{8, 7}\n"
     ]
    }
   ],
   "source": [
    "A = {1,2,3,4,5,6}\n",
    "B = {3,4,5,6,7,8}\n",
    "print(A.difference(B))\n",
    "print(B.difference(A))"
   ]
  },
  {
   "cell_type": "markdown",
   "metadata": {},
   "source": [
    "Observe que A.difference(B) é o mesmo que A\\B e que B.difference(A) é o mesmo que B\\A.\n",
    "\n",
    "Assim como o método anterior, difference também não altera o conjunto sobre o qual é chamado. Para alterá-lo, é necessário usar o método `difference_update()`."
   ]
  },
  {
   "cell_type": "markdown",
   "metadata": {},
   "source": [
    "## Diferença Simétrica <a name=\"CP3-DifSim\"></a>\n",
    "\n",
    "Diferença simétrica é uma operação sobre os dois conjuntos, que retorna todos os elementos (de ambos os conjuntos A e B) que pertencem a somente um dos conjuntos."
   ]
  },
  {
   "cell_type": "code",
   "execution_count": 41,
   "metadata": {},
   "outputs": [
    {
     "name": "stderr",
     "output_type": "stream",
     "text": [
      "ERROR:root:Cell magic `%%tikz` not found.\n"
     ]
    }
   ],
   "source": [
    "%%tikz \n",
    "\\draw[ultra thick] (1,1) rectangle (9,6);\n",
    "\\draw[fill=red, ultra thick] (6.5,3.5) circle (2);\n",
    "\\draw[fill=red,ultra thick] (3.5,3.5) circle (2);\n",
    " \\begin{scope}\n",
    "  \\clip (6.5,3.5) circle (2);\n",
    "   \\fill[white,ultra thick] (3.5,3.5) circle (2);\n",
    " \\end{scope}\n",
    "\\draw[ultra thick] (3.5,3.5) circle (2) node{A};\n",
    "\\draw[ultra thick] (6.5,3.5) circle (2) node{B};"
   ]
  },
  {
   "cell_type": "code",
   "execution_count": 42,
   "metadata": {},
   "outputs": [
    {
     "name": "stdout",
     "output_type": "stream",
     "text": [
      "{1, 2, 7, 8}\n"
     ]
    }
   ],
   "source": [
    "print(A.symmetric_difference(B))"
   ]
  },
  {
   "cell_type": "markdown",
   "metadata": {},
   "source": [
    "## Pertinência <a name=\"CP3-Pertinencia\"></a>\n",
    "\n",
    "\n",
    "Além das operações tradicionais de união, interseção e diferença, também temos operações de verificação de pertinência. A seguir veremos algumas.\n",
    "\n",
    "Para verificar se um determinado elemento pertence a um conjunto, podemos usar o já conhecido operador de pertinência in:\n",
    "\n",
    "```python\n",
    ">>> A = {1,2,3,4,5,6}\n",
    ">>> B = {3,4,5,6,7,8}\n",
    ">>> 2 in A\n",
    "True\n",
    ">>> 7 in A\n",
    "False\n",
    "```"
   ]
  },
  {
   "cell_type": "code",
   "execution_count": 43,
   "metadata": {},
   "outputs": [
    {
     "name": "stdout",
     "output_type": "stream",
     "text": [
      "True\n",
      "False\n"
     ]
    }
   ],
   "source": [
    "A = {1,2,3,4,5,6}\n",
    "B = {3,4,5,6,7,8}\n",
    "print(2 in A)\n",
    "print(7 in A)"
   ]
  },
  {
   "cell_type": "markdown",
   "metadata": {},
   "source": [
    "## Subconjuntos <a name=\"CP3-Subconjuntos\"></a>"
   ]
  },
  {
   "cell_type": "markdown",
   "metadata": {},
   "source": [
    "Também podemos verificar se um conjunto é um subconjunto de outro:\n",
    "\n",
    "```python\n",
    ">>> A = {1,2,3,4,5,6}\n",
    ">>> C = {1, 2, 3}\n",
    ">>> C.issubset(A)\n",
    "True\n",
    ">>> A.issubset(C)\n",
    "False\n",
    "```"
   ]
  },
  {
   "cell_type": "code",
   "execution_count": 44,
   "metadata": {},
   "outputs": [
    {
     "name": "stdout",
     "output_type": "stream",
     "text": [
      "True\n",
      "False\n"
     ]
    }
   ],
   "source": [
    "C = {1, 2, 3}\n",
    "print(C.issubset(A))\n",
    "print(A.issubset(C))"
   ]
  },
  {
   "cell_type": "markdown",
   "metadata": {},
   "source": [
    "Além disso, podemos verificar se um conjunto é superconjunto de outro:\n",
    "\n",
    "```python\n",
    ">>> A.issuperset(C)\n",
    "True\n",
    "```"
   ]
  },
  {
   "cell_type": "code",
   "execution_count": 45,
   "metadata": {},
   "outputs": [
    {
     "data": {
      "text/plain": [
       "True"
      ]
     },
     "execution_count": 45,
     "metadata": {},
     "output_type": "execute_result"
    }
   ],
   "source": [
    "A.issuperset(C)"
   ]
  },
  {
   "cell_type": "markdown",
   "metadata": {},
   "source": [
    "Outra relação importante que podemos checar é a disjunção entre dois conjuntos. Dois conjuntos são disjuntos se tiverem interseção nula. Exemplo:\n",
    "\n",
    "```python\n",
    ">>> C = {1, 2, 3}\n",
    ">>> D = {4, 5, 6}\n",
    ">>> C.isdisjoint(D)\n",
    "True\n",
    "```"
   ]
  },
  {
   "cell_type": "code",
   "execution_count": 46,
   "metadata": {},
   "outputs": [
    {
     "data": {
      "text/plain": [
       "True"
      ]
     },
     "execution_count": 46,
     "metadata": {},
     "output_type": "execute_result"
    }
   ],
   "source": [
    "D = { 4, 5, 6}\n",
    "C.isdisjoint(D)"
   ]
  },
  {
   "cell_type": "markdown",
   "metadata": {},
   "source": [
    "Removendo elementos duplicados de uma sequência\n",
    "\n",
    "Por definição, um conjunto é uma coleção de valores únicos (e desordenados). Assim sendo, se passarmos ao construtor de conjuntos uma lista com valores repetidos, esses valores serão eliminados de forma a permanecer apenas um deles. Exemplo:\n",
    "\n",
    "```python\n",
    ">>> lista = [1, 2, 2, 3, 4, 5, 5, 7]\n",
    ">>> conjunto = set(lista)\n",
    ">>> print(conjunto)\n",
    "{1, 2, 3, 4, 5, 7}\n",
    "```"
   ]
  },
  {
   "cell_type": "code",
   "execution_count": 47,
   "metadata": {},
   "outputs": [
    {
     "name": "stdout",
     "output_type": "stream",
     "text": [
      "{1, 2, 3, 4, 5, 7}\n"
     ]
    }
   ],
   "source": [
    "lista = [1, 2, 2, 3, 4, 5, 5, 7]\n",
    "conjunto = set(lista)\n",
    "print(conjunto)"
   ]
  },
  {
   "cell_type": "markdown",
   "metadata": {},
   "source": [
    "Ou, se quisermos ter de volta uma lista, sem os elementos repetidos:\n",
    "\n",
    "```python\n",
    ">>> lista = list(set(lista))\n",
    "```"
   ]
  },
  {
   "cell_type": "code",
   "execution_count": 48,
   "metadata": {},
   "outputs": [
    {
     "name": "stdout",
     "output_type": "stream",
     "text": [
      "[1, 2, 3, 4, 5, 7]\n"
     ]
    }
   ],
   "source": [
    "lista = list(set(lista))\n",
    "print(lista)"
   ]
  },
  {
   "cell_type": "markdown",
   "metadata": {},
   "source": [
    "**ATENÇÃO:** a operação acima pode (e, com grandes chances, irá) bagunçar a lista. Ou seja, a ordem original irá se perder.\n",
    "\n",
    "```python\n",
    ">>> print(lista)\n",
    "[1, 2, 3, 4, 5, 7]\n",
    "```"
   ]
  },
  {
   "cell_type": "markdown",
   "metadata": {},
   "source": [
    "## Operações entre conjuntos set e frozenset <a name=\"CP3-Op-set-frozenset\"></a>\n",
    "\n",
    "\n",
    "Operações entre conjuntos mutáveis e imutáveis, ou seja, entre `sets` e `frozensets` são permitidas, mas veja que a ordem em que eles aparecem importa\n",
    "\n",
    "```python\n",
    ">>> set('234') | frozenset('45')\n",
    "set(['3', '2', '5', '4'])\n",
    ">>> frozenset('23') | set('567')\n",
    "frozenset(['3', '2', '5', '7', '6'])\n",
    "```"
   ]
  },
  {
   "cell_type": "code",
   "execution_count": 49,
   "metadata": {},
   "outputs": [
    {
     "data": {
      "text/plain": [
       "{'2', '3', '4', '5'}"
      ]
     },
     "execution_count": 49,
     "metadata": {},
     "output_type": "execute_result"
    }
   ],
   "source": [
    "set('234') | frozenset('45')"
   ]
  },
  {
   "cell_type": "code",
   "execution_count": 50,
   "metadata": {},
   "outputs": [
    {
     "data": {
      "text/plain": [
       "frozenset({'2', '3', '5', '6', '7'})"
      ]
     },
     "execution_count": 50,
     "metadata": {},
     "output_type": "execute_result"
    }
   ],
   "source": [
    "frozenset('23') | set('567')"
   ]
  },
  {
   "cell_type": "markdown",
   "metadata": {},
   "source": [
    "Outra coisa importante, é que podemos passar iteráveis tanto na criação do set como nas operações usando os métodos. Mas as operações usando os operadores devem ser obrigatoriamente entre sets:"
   ]
  },
  {
   "cell_type": "code",
   "execution_count": 51,
   "metadata": {},
   "outputs": [
    {
     "data": {
      "text/plain": [
       "{'4', '2', 5, '3', 6}"
      ]
     },
     "execution_count": 51,
     "metadata": {},
     "output_type": "execute_result"
    }
   ],
   "source": [
    "set('234').union([5,6])"
   ]
  },
  {
   "cell_type": "code",
   "execution_count": 52,
   "metadata": {},
   "outputs": [
    {
     "data": {
      "text/plain": [
       "{2, '2', 3, '3', 7, '4'}"
      ]
     },
     "execution_count": 52,
     "metadata": {},
     "output_type": "execute_result"
    }
   ],
   "source": [
    "set('234') | set([2,3,7])"
   ]
  },
  {
   "cell_type": "markdown",
   "metadata": {},
   "source": [
    "Os sets, por serem mutáveis, também possuem métodos que adicionar e remover novos elementos. Como os frozensets são imutáveis, não possuem esse métodos"
   ]
  },
  {
   "cell_type": "code",
   "execution_count": 54,
   "metadata": {},
   "outputs": [
    {
     "name": "stdout",
     "output_type": "stream",
     "text": [
      "{'c', 'b', 'a', 'd'}\n",
      "{'n', 'a', 'c', 'b', 'd'}\n"
     ]
    }
   ],
   "source": [
    "conjunto1 = set(['a','b','c','d'])\n",
    "print(conjunto1)\n",
    "conjunto1.update(set('nada'))\n",
    "print(conjunto1)"
   ]
  },
  {
   "cell_type": "markdown",
   "metadata": {},
   "source": [
    "O conjunto.update(outro_conjunto), atualiza conjunto adicionando os elementos de outro_conjunto. Tem também os métodos `set.add(x)`, `set.remove(x)`, `set.pop()`, `set.clear()`. Além do `set.discard(x)`, que só remove o elemento se ele existir, diferente do `remove()` que retorna KeyError caso o elemento não exista."
   ]
  },
  {
   "cell_type": "markdown",
   "metadata": {},
   "source": [
    "# Dicionários <a name=\"CP3-dicionarios\"></a>\n",
    "\n",
    "Os dicionários também são chamados \"associative arrays\" e \"hash tables\". Os dicionários são *conjuntos não-ordenados* de *pares de chave-valor*.\n",
    "\n",
    "Um dicionário vazio pode ser criado usando chaves:"
   ]
  },
  {
   "cell_type": "code",
   "execution_count": 55,
   "metadata": {
    "collapsed": true
   },
   "outputs": [],
   "source": [
    "d={}"
   ]
  },
  {
   "cell_type": "markdown",
   "metadata": {
    "collapsed": true
   },
   "source": [
    "## Exemplo de uso dos dicionários <a name=\"CP3-Exemplo-dicionarios\"></a>\n",
    "\n",
    "Considere o texto abaixo:\n",
    "\n",
    "### [Quais são as maiores descobertas da física contemporânea?](http://www.bbc.com/portuguese/noticias/2013/10/131005_descobertas_fisica_lk)\n",
    "\n",
    "\n",
    "Computadores com velocidade e capacidade descomunais ou materiais com \"superpoderes\" são algumas das tecnologias desenvolvidas a partir das descobertas mais importantes da física contemporânea.\n",
    "\n",
    "Mas como eleger as cinco mais importantes dos últimos 25 anos? Um grupo de especialistas assumiu a tarefa para celebrar o 25º aniversário da revista britânica especializada Physics World.\n",
    "\n",
    "\"Houve tantas descobertas assombrosas que nossa eleição final está inevitavelmente aberta ao debate\", escreveu Tushna Commissariat, uma das repórteres da publicação.\n",
    "\n",
    "As descobertas estão relacionadas abaixo, em ordem cronológica.\n",
    "\n",
    "* **Teletransporte quântico (1992):** A capacidade de transferir propriedades chave de uma partícula para outra - isto é, estados quânticos, sem utilizar um vínculo físico – é a base do desenvolvimento da computação quântica. Embora se encontrem em fase experimental, terão um papel protagonista no futuro, segundo especialistas.\n",
    "\n",
    "* **Condensado de Bose-Einstein (1995):** O quinto estado de agregação da matéria (os três mais conhecidos são o sólido, o líquido e o gasoso, sendo o plasma o quarto) se produz a temperaturas que se aproximam do zero absoluto. Os átomos se fundem a baixa energia e começam a comportar-se como ondas – e não como partículas. A descoberta pode gerar várias aplicações: instrumentos de medição e relógios atômicos mais exatos, e a capacidade de armazenar informação nos futuros computadores quânticos. Sua criação em laboratório reforçou as teorias quânticas fundamentais desenvolvidas pelo Prêmio Nobel de Física Enrico Fermi sobre o comportamento e a interação dos elétrons.\n",
    "\n",
    "* **A aceleração da expensão do universo (1997):** As evidência de uma misteriosa força antigravitacional, a energia escura, que causa a expansão do universo em um ritmo cada vez mais velóz confirmaram uma ideia originalmente proposta e depois descartada por Albert Einstein. Essa descoberta sacudiu as bases da cosmologia observacional e supôs um grande avanço na compreensão da evolução e do destino final do cosmo,a o constatar que está dominado por energia e não por matéria – e que além disso essa energia é escura.\n",
    "\n",
    "* **A prova de que os neutrinos têm massa (1998):** A evidência da massa mínima dos neutrinos é um passo chave para entender melhor umas das partículas subatômicas mais enigmáticas do modelo padrão – a teoria que descreve as interações e as partículas elementares de toda a matéria – e sua relação com a cosmologia e a astrofísica. Milhões de minúsculos neutrinos nos atravessam a cada segundo, sem tocar nada ou deixar rastros. Mas são essenciais em todos os átomos que existem e têm a chave para o que faz funcionar o Sol.\n",
    "\n",
    "* **O bóson de Higgs (2012):** Essa partícula elementar foi proposta na teoría em 1964 por Peter Higgs para explicar a razão da existência de massa nas partículas elementares. Seus rastros físicos foram descobertos por cientistas da Organização Europeia para a Investigação Nuclear (CERN).\n",
    "\n",
    "\n",
    "Agora vamos criar um dicionário com essas descorbertas, para ilustrar seu uso:"
   ]
  },
  {
   "cell_type": "code",
   "execution_count": 56,
   "metadata": {
    "collapsed": true
   },
   "outputs": [],
   "source": [
    "d[1992] = 'Teletransporte quântico'    # 1992 é a palavra-chave\n",
    "d[1995] = 'Condensado de Bose-Einstein'\n",
    "d[1997] = 'A aceleração da expansão do universo'\n",
    "d[1998] = 'A prova de que os neutrinos têm massa'\n",
    "d[2012] = 'O bóson de Higgs'"
   ]
  },
  {
   "cell_type": "code",
   "execution_count": 57,
   "metadata": {},
   "outputs": [
    {
     "data": {
      "text/plain": [
       "'O bóson de Higgs'"
      ]
     },
     "execution_count": 57,
     "metadata": {},
     "output_type": "execute_result"
    }
   ],
   "source": [
    "d[2012]"
   ]
  },
  {
   "cell_type": "markdown",
   "metadata": {},
   "source": [
    "`d.keys()` retorna a lista de todas as chaves:"
   ]
  },
  {
   "cell_type": "code",
   "execution_count": 58,
   "metadata": {},
   "outputs": [
    {
     "data": {
      "text/plain": [
       "dict_keys([1992, 1995, 2012, 1997, 1998])"
      ]
     },
     "execution_count": 58,
     "metadata": {},
     "output_type": "execute_result"
    }
   ],
   "source": [
    "d.keys()"
   ]
  },
  {
   "cell_type": "markdown",
   "metadata": {},
   "source": [
    "Podemos recuperar valores usando a palavra-chave como o índice:"
   ]
  },
  {
   "cell_type": "code",
   "execution_count": 59,
   "metadata": {},
   "outputs": [
    {
     "data": {
      "text/plain": [
       "'A aceleração da expansão do universo'"
      ]
     },
     "execution_count": 59,
     "metadata": {},
     "output_type": "execute_result"
    }
   ],
   "source": [
    "d[1997]"
   ]
  },
  {
   "cell_type": "markdown",
   "metadata": {},
   "source": [
    "Podemos obter um lista de todos os valores usando o método de dicinoários `.values()`, assim"
   ]
  },
  {
   "cell_type": "code",
   "execution_count": 60,
   "metadata": {},
   "outputs": [
    {
     "data": {
      "text/plain": [
       "dict_values(['Teletransporte quântico', 'Condensado de Bose-Einstein', 'O bóson de Higgs', 'A aceleração da expansão do universo', 'A prova de que os neutrinos têm massa'])"
      ]
     },
     "execution_count": 60,
     "metadata": {},
     "output_type": "execute_result"
    }
   ],
   "source": [
    "d.values()"
   ]
  },
  {
   "cell_type": "markdown",
   "metadata": {},
   "source": [
    "Outras formas de preencher um dicionário se os dados são conhecidos no momento da criação são:"
   ]
  },
  {
   "cell_type": "code",
   "execution_count": 61,
   "metadata": {},
   "outputs": [
    {
     "name": "stdout",
     "output_type": "stream",
     "text": [
      "dict_keys([1, 2, 3, 4, 5])\n",
      "dict_values([0, 4, 9, 16, 25])\n",
      "{1: 0, 2: 4, 3: 9, 4: 16, 5: 25}\n",
      "25\n"
     ]
    }
   ],
   "source": [
    "d2 = {2:4, 3:9, 4:16, 5:25, 1:0}\n",
    "print(d2.keys()), \n",
    "print(d2.values())\n",
    "print(d2)\n",
    "print(d2[5])"
   ]
  },
  {
   "cell_type": "code",
   "execution_count": 62,
   "metadata": {},
   "outputs": [
    {
     "name": "stdout",
     "output_type": "stream",
     "text": [
      "dict_keys(['x', 'c', 'b', 'a'])\n",
      "dict_values(['Mágico', 3, 2, 1])\n",
      "{'x': 'Mágico', 'c': 3, 'b': 2, 'a': 1}\n",
      "Mágico\n"
     ]
    }
   ],
   "source": [
    "d3 = dict(a=1, b=2, c=3, x='Mágico')\n",
    "print(d3.keys())\n",
    "print(d3.values())\n",
    "print(d3)\n",
    "print(d3['x'])"
   ]
  },
  {
   "cell_type": "code",
   "execution_count": 63,
   "metadata": {},
   "outputs": [
    {
     "name": "stdout",
     "output_type": "stream",
     "text": [
      "300000000.0\n"
     ]
    }
   ],
   "source": [
    "cte = dict(g=9.8, e=1.6e-19, h=6.34e-34, c=3.0e8)\n",
    "print(cte['c'])"
   ]
  },
  {
   "cell_type": "markdown",
   "metadata": {},
   "source": [
    "A função `dict()` cria um dicionário vazio.\n",
    "\n",
    "Outros métodos de dicionário úteis incluem `.values()`, `.items()` e `.get()`. Você pode usar `in` para verificar a presença de valores."
   ]
  },
  {
   "cell_type": "code",
   "execution_count": 64,
   "metadata": {},
   "outputs": [
    {
     "data": {
      "text/plain": [
       "dict_values(['Teletransporte quântico', 'Condensado de Bose-Einstein', 'O bóson de Higgs', 'A aceleração da expansão do universo', 'A prova de que os neutrinos têm massa'])"
      ]
     },
     "execution_count": 64,
     "metadata": {},
     "output_type": "execute_result"
    }
   ],
   "source": [
    "d.values()"
   ]
  },
  {
   "cell_type": "code",
   "execution_count": 65,
   "metadata": {},
   "outputs": [
    {
     "data": {
      "text/plain": [
       "dict_items([(1992, 'Teletransporte quântico'), (1995, 'Condensado de Bose-Einstein'), (2012, 'O bóson de Higgs'), (1997, 'A aceleração da expansão do universo'), (1998, 'A prova de que os neutrinos têm massa')])"
      ]
     },
     "execution_count": 65,
     "metadata": {},
     "output_type": "execute_result"
    }
   ],
   "source": [
    "d.items()"
   ]
  },
  {
   "cell_type": "code",
   "execution_count": 66,
   "metadata": {},
   "outputs": [
    {
     "data": {
      "text/plain": [
       "'O bóson de Higgs'"
      ]
     },
     "execution_count": 66,
     "metadata": {},
     "output_type": "execute_result"
    }
   ],
   "source": [
    "d.get(2012,'unknown')"
   ]
  },
  {
   "cell_type": "code",
   "execution_count": 67,
   "metadata": {},
   "outputs": [
    {
     "data": {
      "text/plain": [
       "'Teletransporte quântico'"
      ]
     },
     "execution_count": 67,
     "metadata": {},
     "output_type": "execute_result"
    }
   ],
   "source": [
    "d.get(1992,'unknown')"
   ]
  },
  {
   "cell_type": "code",
   "execution_count": 68,
   "metadata": {},
   "outputs": [
    {
     "data": {
      "text/plain": [
       "True"
      ]
     },
     "execution_count": 68,
     "metadata": {},
     "output_type": "execute_result"
    }
   ],
   "source": [
    "1998 in d"
   ]
  },
  {
   "cell_type": "code",
   "execution_count": 69,
   "metadata": {},
   "outputs": [
    {
     "data": {
      "text/plain": [
       "False"
      ]
     },
     "execution_count": 69,
     "metadata": {},
     "output_type": "execute_result"
    }
   ],
   "source": [
    "2010 in d"
   ]
  },
  {
   "cell_type": "markdown",
   "metadata": {},
   "source": [
    "O método `get(key, default)` fornecerá o valor para uma dada `key` se essa chave existir, caso contrário retornará o objeto `default`.\n",
    "\n",
    "Aqui está um exemplo mais complexo:"
   ]
  },
  {
   "cell_type": "code",
   "execution_count": 70,
   "metadata": {},
   "outputs": [
    {
     "name": "stdout",
     "output_type": "stream",
     "text": [
      "dict_keys(['Paulo', 'Maria', 'Pedro'])\n",
      "Paulo ocupa o cargo de:  Coordenador de Laboratório\n",
      "Maria ocupa o cargo de:  Técnica Administrativa\n",
      "Pedro ocupa o cargo de:  Diretor da Unidade\n"
     ]
    }
   ],
   "source": [
    "cargo = {}        # cria um dicionário vazio\n",
    "\n",
    "#adiciona os cargo \n",
    "cargo['Pedro'] = 'Diretor da Unidade'\n",
    "cargo['Paulo'] = 'Coordenador de Laboratório'\n",
    "cargo['Maria'] = 'Técnica Administrativa'\n",
    "\n",
    "print(cargo.keys())\n",
    "\n",
    "#relata os cargos no departamento pessoal\n",
    "for pessoa in cargo.keys():\n",
    "    print(pessoa, \"ocupa o cargo de: \", cargo[pessoa])"
   ]
  },
  {
   "cell_type": "markdown",
   "metadata": {},
   "source": [
    "Mais algumas questões técnicas:\n",
    "\n",
    "- A palavra-chave pode ser qualquer objeto Python (imutável). Isso inclui:\n",
    "\n",
    "     - Números\n",
    "\n",
    "     - strings\n",
    "\n",
    "     - tuplas.\n",
    "\n",
    "- dicionários são muito rápidos na recuperação de valores (quando dada a chave)\n",
    "\n",
    "Outro exemplo para demonstrar uma vantagem de usar dicionários sobre pares de listas:"
   ]
  },
  {
   "cell_type": "code",
   "execution_count": 71,
   "metadata": {},
   "outputs": [
    {
     "name": "stdout",
     "output_type": "stream",
     "text": [
      "Cássia trabalha na sala 230\n",
      "Salviano trabalha na sala 232\n",
      "Ladir trabalha na sala 220\n",
      "Caparica trabalha na sala 228\n",
      "Francisco trabalha na sala 238\n"
     ]
    }
   ],
   "source": [
    "dic = {}                         # cria um dicionário vazio\n",
    "\n",
    "dic[\"Salviano\"]   = \"sala 232\"     # Preenche o dicionário\n",
    "dic[\"Cássia\"]     = \"sala 230\"     #\"Salviano\" é a chave (key)\n",
    "dic[\"Caparica\"]   = \"sala 228\"     #\"sala 232\" é o valor (value)\n",
    "dic[\"Francisco\"]  = \"sala 238\"\n",
    "dic[\"Ladir\"]      = \"sala 220\"\n",
    "\n",
    "for key in dic.keys():\n",
    "    print(key, \"trabalha na\", dic[key])"
   ]
  },
  {
   "cell_type": "markdown",
   "metadata": {},
   "source": [
    "Sem dicionário:"
   ]
  },
  {
   "cell_type": "code",
   "execution_count": 72,
   "metadata": {},
   "outputs": [
    {
     "name": "stdout",
     "output_type": "stream",
     "text": [
      "Salviano trabalha na sala 232\n",
      "Cássia trabalha na sala 230\n",
      "Caparica trabalha na sala 228\n",
      "Francisco trabalha na sala 238\n",
      "Ladir trabalha na sala 220\n"
     ]
    }
   ],
   "source": [
    "professores = [\"Salviano\",  \"Cássia\",\"Caparica\",\"Francisco\",\"Ladir\"]\n",
    "salas       = [\"sala 232\",\"sala 230\",\"sala 228\", \"sala 238\",\"sala 220\"]\n",
    "\n",
    "#Há uma possível inconsistência já que temos duas listas\n",
    "if not len( professores ) == len( salas ):\n",
    "    raise RuntimeError(\"professores e salas diferem no tamanho\")\n",
    "\n",
    "for i in range( len( salas ) ):\n",
    "    print(professores[i],\"trabalha na\",salas[i])"
   ]
  },
  {
   "cell_type": "markdown",
   "metadata": {},
   "source": [
    "# Passando argumentos para funções <a name=\"CP3-pass-arg-func\"></a>\n",
    "\n",
    "\n",
    "Esta seção contém algumas idéias mais avançadas e faz uso de conceitos que só serão introduzidos posteriormente neste texto. A secção pode ser mais facilmente acessível numa fase posterior.\n",
    "\n",
    "Quando os objetos são passados para uma função, o Python sempre passa (o valor de) a referência ao objeto para a função. Efetivamente isto é chamando de função por referência, embora se possa referir-se a ela como chamada por valor (da referência).\n",
    "\n",
    "Revisamos o argumento passando por valor e referência antes de discutir a situação em Python com mais detalhes.\n",
    "\n",
    "## Chamada por valor <a name=\"CP3-func-cham-valor\"></a>\n",
    "\n",
    "Podemos esperar que se passarmos um objeto por valor para uma função, que modificações desse valor dentro da função não afetará o objeto (porque não passamos o objeto em si, mas apenas seu valor, que é uma cópia). Aqui está um exemplo desse comportamento (em C):\n",
    "\n",
    "```c\n",
    "#include <stdio.h>\n",
    "\n",
    "void pass_by_value(int m) {\n",
    "  printf(\"in pass_by_value: received m=%d\\n\",m);\n",
    "  m=42;\n",
    "  printf(\"in pass_by_value: changed to m=%d\\n\",m);\n",
    "}\n",
    "\n",
    "int main(void) {\n",
    "  int global_m = 1;\n",
    "  printf(\"global_m=%d\\n\",global_m);\n",
    "  pass_by_value(global_m);\n",
    "  printf(\"global_m=%d\\n\",global_m);\n",
    "  return 0;\n",
    "}\n",
    "```\n",
    "\n",
    "junto com sua correspondente saída:\n",
    "\n",
    "    global_m=1\n",
    "    in pass_by_value: received m=1\n",
    "    in pass_by_value: changed to m=42\n",
    "    global_m=1\n",
    "\n",
    "\n",
    "O valor `1` da variável global  `global_m` não é modificado quando a função `pass_by_value` muda seu argumento de entrada para 42."
   ]
  },
  {
   "cell_type": "markdown",
   "metadata": {},
   "source": [
    "## Chamada por referência <a name=\"CP3-func-cham-ref\"></a>\n",
    "\n",
    "Chamar uma função por referência, por outro lado, significa que o objeto dado a uma função é uma referência ao objeto. Isso significa que a função verá o mesmo objeto como no código que a está chamando (porque eles estão referenciando o mesmo objeto: podemos pensar na referência como um ponteiro para o local na memória onde o objeto está localizado). Quaisquer alterações que atuem sobre o objeto dentro da função, serão visíveis no objeto no nível de chamada (porque a função realmente opera no mesmo objeto, não uma cópia dele).\n",
    "\n",
    "Aqui está um exemplo mostrando isso usando ponteiros em C:\n",
    "\n",
    "```c\n",
    "#include <stdio.h>\n",
    "\n",
    "void pass_by_reference(int *m) {\n",
    "  printf(\"in pass_by_reference: received m=%d\\n\",*m);\n",
    "  *m=42;\n",
    "  printf(\"in pass_by_reference: changed to m=%d\\n\",*m);\n",
    "}\n",
    "\n",
    "int main(void) {\n",
    "  int global_m = 1;\n",
    "  printf(\"global_m=%d\\n\",global_m);\n",
    "  pass_by_reference(&global_m);\n",
    "  printf(\"global_m=%d\\n\",global_m);\n",
    "  return 0;\n",
    "}\n",
    "```\n",
    "\n",
    "junto com sua correspondente saída:\n",
    "\n",
    "    global_m=1\n",
    "    in pass_by_reference: received m=1\n",
    "    in pass_by_reference: changed to m=42\n",
    "    global_m=42"
   ]
  },
  {
   "cell_type": "markdown",
   "metadata": {},
   "source": [
    "C++ provides the ability to pass arguments as references by adding an ampersand in front of the argument name in the function definition:\n",
    "\n",
    "```cpp\n",
    "#include <stdio.h>\n",
    "\n",
    "void pass_by_reference(int &m) {\n",
    "  printf(\"in pass_by_reference: received m=%d\\n\",m);\n",
    "  m=42;\n",
    "  printf(\"in pass_by_reference: changed to m=%d\\n\",m);\n",
    "}\n",
    "\n",
    "int main(void) {\n",
    "  int global_m = 1;\n",
    "  printf(\"global_m=%d\\n\",global_m);\n",
    "  pass_by_reference(global_m);\n",
    "  printf(\"global_m=%d\\n\",global_m);\n",
    "  return 0;\n",
    "}\n",
    "```\n",
    "\n",
    "together with the corresponding output:\n",
    "\n",
    "    global_m=1\n",
    "    in pass_by_reference: received m=1\n",
    "    in pass_by_reference: changed to m=42\n",
    "    global_m=42"
   ]
  },
  {
   "cell_type": "markdown",
   "metadata": {},
   "source": [
    "# Passagem de Argumentos no Python <a name=\"CP3-pass-arg-py\"></a>\n",
    "\n",
    "\n",
    "No Python, os objetos são passados como os valor es de uma referência (ponteiro idealizado) para o objeto. Dependendo da maneira como a referência é usada na função e dependendo do tipo de objeto que ele faz referência, isso pode resultar em comportamento passagem-por-referência (onde quaisquer alterações no objeto recebido como um argumento de função, são imediatamente refletidas na chamada nível). \n",
    "\n",
    "Aqui estão três exemplos para discutir isso. Começamos passando uma lista para uma função que itera através de todos os elementos na sequência e duplica o valor de cada elemento:"
   ]
  },
  {
   "cell_type": "code",
   "execution_count": 1,
   "metadata": {},
   "outputs": [
    {
     "name": "stdout",
     "output_type": "stream",
     "text": [
      "No programa principal: s=[0, 1, 2, 3, 10]\n",
      "Em duplica_os_valores: l = [0, 1, 2, 3, 10]\n",
      "Em duplica_os_valores: l mudou para l = [0, 2, 4, 6, 20]\n",
      "No programa principal: s=[0, 2, 4, 6, 20]\n"
     ]
    }
   ],
   "source": [
    "def duplica_os_valores(l):\n",
    "    #l=L[:]\n",
    "    print(\"Em duplica_os_valores: l = %s\" % l)\n",
    "    l2=l\n",
    "    for i in range(len(l)):\n",
    "        l2[i] = l2[i] * 2\n",
    "    print(\"Em duplica_os_valores: l mudou para l = %s\" % l)\n",
    "\n",
    "l_global = [0, 1, 2, 3, 10]\n",
    "print(\"No programa principal: s=%s\" % l_global)\n",
    "duplica_os_valores(l_global)\n",
    "print(\"No programa principal: s=%s\" % l_global)"
   ]
  },
  {
   "cell_type": "code",
   "execution_count": 2,
   "metadata": {},
   "outputs": [
    {
     "name": "stdout",
     "output_type": "stream",
     "text": [
      "No programa principal: s=[0, 1, 2, 3, 10]\n",
      "Em duplica_os_valores: l = [0, 1, 2, 3, 10]\n",
      "Em duplica_os_valores: l mudou para l = [0, 2, 4, 6, 20]\n",
      "No programa principal: s=[0, 2, 4, 6, 20]\n"
     ]
    }
   ],
   "source": [
    "def duplica_os_valores(l):\n",
    "    #l=L[:]\n",
    "    print(\"Em duplica_os_valores: l = %s\" % l)\n",
    "    for i in range(len(l)):\n",
    "        l[i] = l[i] * 2\n",
    "    print(\"Em duplica_os_valores: l mudou para l = %s\" % l)\n",
    "\n",
    "l_global = [0, 1, 2, 3, 10]\n",
    "print(\"No programa principal: s=%s\" % l_global)\n",
    "duplica_os_valores(l_global)\n",
    "print(\"No programa principal: s=%s\" % l_global)"
   ]
  },
  {
   "cell_type": "markdown",
   "metadata": {},
   "source": [
    "A variável `l` é uma referência ao objeto lista. A linha `l[i] = l[i]*2` avalia primeiro o lado direito e lê o elemento com o índice `i`, depois multiplica isto por dois. Uma referência a este novo objeto é então armazenada no objeto de lista `l` na posição com índice `i`. Modificámos assim o objecto de lista, que é referenciado através de `l`.\n",
    "\n",
    "A referência ao objeto lista nunca muda: a linha `l[i] = l[i]*2` altera os elementos `l[i]` da lista `l`, mas nunca muda a referência `l` para a Lista. Assim, tanto a função como o nível de chamada estão operando no mesmo objeto através das referências `l` e` global_l`, respectivamente.\n",
    "\n",
    "Em contraste, aqui está um exemplo onde não modificar os elementos da lista dentro da função: que produz esta saída:"
   ]
  },
  {
   "cell_type": "code",
   "execution_count": 3,
   "metadata": {},
   "outputs": [
    {
     "name": "stdout",
     "output_type": "stream",
     "text": [
      "No programa principal, a lista l = O Python é 10! \n",
      "Na função duplica_a_lista, ela recebeu l  = O Python é 10! \n",
      "Na função duplica_a_lista, l mudou para l = O Python é 10! O Python é 10! \n",
      "No programa principal, a lista não mudou l = O Python é 10! \n"
     ]
    }
   ],
   "source": [
    "def duplica_a_lista(l):\n",
    "    print(\"Na função duplica_a_lista, ela recebeu l  = %s\" % l)\n",
    "    l = l + l\n",
    "    print(\"Na função duplica_a_lista, l mudou para l = %s\" % l)\n",
    "\n",
    "Vglobal = \"O Python é 10! \"\n",
    "print(\"No programa principal, a lista l = %s\" % Vglobal)\n",
    "duplica_a_lista(Vglobal)\n",
    "print(\"No programa principal, a lista não mudou l = %s\" % Vglobal)"
   ]
  },
  {
   "cell_type": "code",
   "execution_count": 7,
   "metadata": {},
   "outputs": [
    {
     "name": "stdout",
     "output_type": "stream",
     "text": [
      "no programa principal: x= 7\n",
      "em duplica_os_valores: x= 7\n",
      "em duplica_os_valores: 2*x= 14\n",
      "no programa principal: x= 7\n"
     ]
    }
   ],
   "source": [
    "def Dobra(x):\n",
    "    print(\"em duplica_os_valores: x=\", x)\n",
    "    x=2*x\n",
    "    print(\"em duplica_os_valores: 2*x=\",x)\n",
    "x=7\n",
    "print(\"no programa principal: x=\",x)\n",
    "Dobra(x)\n",
    "print(\"no programa principal: x=\",x)"
   ]
  },
  {
   "cell_type": "markdown",
   "metadata": {},
   "source": [
    "O que aconteceu aqui é que durante a avaliação de `l = l + l` um novo objeto é criado que contendo `l + l`, e em seguida, víncula o nome `l` a ele. No processo, perdemos as referências ao objeto de lista `l` que foi dado à função (e, portanto, não alteramos o objeto de lista dado à função).\n",
    "\n",
    "Finalmente, vamos ver qual produz esta saída:"
   ]
  },
  {
   "cell_type": "code",
   "execution_count": 8,
   "metadata": {},
   "outputs": [
    {
     "name": "stdout",
     "output_type": "stream",
     "text": [
      "No programa principal: l= 32\n",
      "Em duplica_o_valor: l = 32\n",
      "Em duplica_o_valor: l mudou para l = 64\n",
      "No programa principal: l= 32\n"
     ]
    }
   ],
   "source": [
    "def duplica_o_valor(l):\n",
    "    print(\"Em duplica_o_valor: l = %s\" % l)\n",
    "    l = 2 * l\n",
    "    print(\"Em duplica_o_valor: l mudou para l = %s\" % l)\n",
    "\n",
    "l_global = 32\n",
    "print(\"No programa principal: l= %s\" % l_global)\n",
    "duplica_o_valor(l_global)\n",
    "print(\"No programa principal: l= %s\" % l_global)"
   ]
  },
  {
   "cell_type": "markdown",
   "metadata": {},
   "source": [
    "Neste exemplo, também duplicamos o valor (de 32 para 64) dentro da função. No entanto, quando vinculamos o objeto 64 ao nome python `l` (que é a linha `l = l * 2`) criamos um novo objeto (64), e vínculamos o novo objeto a `l`. No processo, perdemos a referência ao objeto 32 dentro da função. Isso não afeta o próprio objeto 32, nem a referência `l_global` a ele.\n",
    "\n",
    "Em resumo, o comportamento do Python de passar argumentos para uma função pode parecer variar (se o visualizarmos a partir passagem por valor versus passagem por referência). No entanto, é sempre chamado por valor, onde o valor é uma referência ao objeto em questão, e o comportamento pode ser explicado através do mesmo raciocínio em todos os casos."
   ]
  },
  {
   "cell_type": "markdown",
   "metadata": {},
   "source": [
    "## Considerações Sobre Performance  <a name=\"CP3-performance\"></a>\n",
    "\n",
    "A chamada de função por valor requerem uma cópia do valor antes desse ser passado para a função. Do ponto de vista de desempenho (tempo de execução e requisitos de memória), este pode ser um processo caro se o valor for grande. (Imagine que o valor é um objeto `numpy.array` que poderia ser vários Megabytes ou Gigabytes em tamanho.)\n",
    "\n",
    "Em geral é preferível fazer chamadas por referência para objetos de dados grandes como neste caso, no qual passa-se apenas um ponteiro para os objetoso, independente do tamanho real do objeto e, portanto, isso é geralmente mais rápido do que uma chamada por valor.\n",
    "\n",
    "A abordagem de Python de (efetivamente) chamar por referência é, portanto, eficiente. No entanto, temos de ter cuidado para que a nossa função não possa modificar os dados que foram dados onde isso é indesejável.\n",
    "\n",
    "\n",
    "## Modificações Inadevertidas de Dados <a name=\"CP3-mod-in-dados\"></a>\n",
    "\n",
    "Geralmente, uma função não deve modificar os dados fornecidos como entrada para ela.\n",
    "\n",
    "Por exemplo, o código a seguir demonstra a tentativa de determinar o valor máximo de uma lista e, inadvertidamente, modifica a lista no processo:"
   ]
  },
  {
   "cell_type": "code",
   "execution_count": 9,
   "metadata": {},
   "outputs": [
    {
     "name": "stdout",
     "output_type": "stream",
     "text": [
      "No programa principal antes de chamar meumax(s): s= [-45, 3, 6, 2, -1]\n",
      "Chamando meumax(s)= 6\n",
      "No programa principal após ter chamado meumax(s): s= [-45, 3, 6, 6, 6]\n"
     ]
    }
   ],
   "source": [
    "def meumax(s):  # demonstra o efeito colateral\n",
    "    if len(s) == 0:\n",
    "        raise ValorError('O arg. de meumax() é uma sequência vazia')\n",
    "    elif len(s) == 1:\n",
    "        return s[0]\n",
    "    else:\n",
    "        for i in range(1, len(s)):\n",
    "            if s[i] < s[i - 1]:\n",
    "                s[i] = s[i - 1]\n",
    "        return s[len(s) - 1]\n",
    "\n",
    "s = [-45, 3, 6, 2, -1]\n",
    "print(\"No programa principal antes de chamar meumax(s): s= %s\" % s)\n",
    "print(\"Chamando meumax(s)= %s\" % meumax(s))\n",
    "print(\"No programa principal após ter chamado meumax(s): s= %s\" % s)"
   ]
  },
  {
   "cell_type": "markdown",
   "metadata": {},
   "source": [
    "O usuário da função `meumax()` não esperaria que o argumento de entrada fosse modificado quando a função é executada. Devemos geralmente evitar isso. Há várias maneiras de encontrar soluções melhores para o problema:\n",
    "\n",
    "- Neste caso particular, poderíamos usar a função interna `max()` do Python para obter o valor máximo de uma sequência.\n",
    "\n",
    "- Se acharmos que precisamos ficar armazenando valores temporários dentro da lista \\[isto não é realmente necessário\\], poderíamos inicialmente criar uma cópia da lista de entrada `s` e então prosseguir com o algoritmo (veja na seção [abaixo](#cop-objs) em copiar objetos).\n",
    "\n",
    "- Use um outro algoritmo o qual faz uso de uma variável temporária extra em vez de abusar da lista para isso. Por exemplo:\n",
    "\n",
    "  + Podemos passar uma tupla (em vez de uma lista) para a função: uma tupla é *imutável* e, portanto, nunca pode ser modificada (isso resultaria em uma exceção sendo levantada quando a função tenta gravar elementos na tupla).\n",
    "\n",
    "\n",
    "## Copiando objetos <a name=\"CP3-cop-objs\"></a>\n",
    "\n",
    "O Python fornece a função `id()` que retorna um número inteiro que é exclusivo para cada objeto. (Na atual implementação CPython, este é o endereço de memória.) Podemos usar isso para identificar se dois objetos são iguais.\n",
    "\n",
    "Para copiar uma sequência de objeto (incluindo listas), podemos fatiá-lo, *isto é* se `a` for uma lista, então `a[:]` retornará uma cópia de `a`. Aqui está uma demonstração:"
   ]
  },
  {
   "cell_type": "code",
   "execution_count": 10,
   "metadata": {},
   "outputs": [
    {
     "data": {
      "text/plain": [
       "[0, 1, 2, 3, 4, 5, 6, 7, 8, 9]"
      ]
     },
     "execution_count": 10,
     "metadata": {},
     "output_type": "execute_result"
    }
   ],
   "source": [
    "a = list(range(10))\n",
    "a"
   ]
  },
  {
   "cell_type": "code",
   "execution_count": 12,
   "metadata": {},
   "outputs": [
    {
     "data": {
      "text/plain": [
       "[0, 1, 4, 9, 16, 25, 36, 49, 64, 81]"
      ]
     },
     "execution_count": 12,
     "metadata": {},
     "output_type": "execute_result"
    }
   ],
   "source": [
    "a1=[i*i for i in range(10)]\n",
    "a1"
   ]
  },
  {
   "cell_type": "code",
   "execution_count": 13,
   "metadata": {},
   "outputs": [
    {
     "data": {
      "text/plain": [
       "[42, 1, 2, 3, 4, 5, 6, 7, 8, 9]"
      ]
     },
     "execution_count": 13,
     "metadata": {},
     "output_type": "execute_result"
    }
   ],
   "source": [
    "b = a\n",
    "b[0] = 42\n",
    "a              # a mudança de b altera a"
   ]
  },
  {
   "cell_type": "code",
   "execution_count": 14,
   "metadata": {},
   "outputs": [
    {
     "data": {
      "text/plain": [
       "139704414482568"
      ]
     },
     "execution_count": 14,
     "metadata": {},
     "output_type": "execute_result"
    }
   ],
   "source": [
    "id(a)"
   ]
  },
  {
   "cell_type": "code",
   "execution_count": 15,
   "metadata": {},
   "outputs": [
    {
     "data": {
      "text/plain": [
       "139704414482568"
      ]
     },
     "execution_count": 15,
     "metadata": {},
     "output_type": "execute_result"
    }
   ],
   "source": [
    "id(b)"
   ]
  },
  {
   "cell_type": "code",
   "execution_count": 18,
   "metadata": {},
   "outputs": [
    {
     "name": "stdout",
     "output_type": "stream",
     "text": [
      "[42, 1, 2, 3, 4, 5, 6, 7, 8, 9]\n"
     ]
    },
    {
     "data": {
      "text/plain": [
       "139704758913032"
      ]
     },
     "execution_count": 18,
     "metadata": {},
     "output_type": "execute_result"
    }
   ],
   "source": [
    "c = a[:] \n",
    "print(c)\n",
    "id(c)          # c é um objeto diferente de a. Aqui o argumento c recebe elemento por elemento de a, como se fizesse uma cópia dos elementos."
   ]
  },
  {
   "cell_type": "code",
   "execution_count": 20,
   "metadata": {},
   "outputs": [
    {
     "data": {
      "text/plain": [
       "[1, 2, 3, 4]"
      ]
     },
     "execution_count": 20,
     "metadata": {},
     "output_type": "execute_result"
    }
   ],
   "source": [
    "d=a[1:5]\n",
    "d"
   ]
  },
  {
   "cell_type": "code",
   "execution_count": 21,
   "metadata": {},
   "outputs": [
    {
     "name": "stdout",
     "output_type": "stream",
     "text": [
      "[100, 1, 2, 3, 4, 5, 6, 7, 8, 9]\n"
     ]
    },
    {
     "data": {
      "text/plain": [
       "[42, 1, 2, 3, 4, 5, 6, 7, 8, 9]"
      ]
     },
     "execution_count": 21,
     "metadata": {},
     "output_type": "execute_result"
    }
   ],
   "source": [
    "c[0] = 100 \n",
    "print(c)\n",
    "a              # a mudança de c não altera a"
   ]
  },
  {
   "cell_type": "code",
   "execution_count": 22,
   "metadata": {},
   "outputs": [
    {
     "name": "stdout",
     "output_type": "stream",
     "text": [
      "0.2972972972972973 11.0 11.0\n",
      "0.0\n"
     ]
    }
   ],
   "source": [
    "a=11.0\n",
    "b=37.0\n",
    "x = float(a/b)\n",
    "y = x * b\n",
    "print(x, y, a)\n",
    "print(abs(y-a))"
   ]
  },
  {
   "cell_type": "markdown",
   "metadata": {},
   "source": [
    "A biblioteca padrão do Python fornece o módulo `copy`, que fornece funções de cópia que podem ser usadas para criar cópias de objetos. Poderíamos ter usado `import copy; c = copy.deepcopy(a)` em vez de `c = a[:] `.\n",
    "\n",
    "# Igualdade e Identidade/Semelhança <a name=\"CP3-Igualdade-identidade\"></a>\n",
    "\n",
    "\n",
    "Uma questão relacionada diz respeito à igualdade dos objetos.\n",
    "\n",
    "\n",
    "## Igualdade <a name=\"CP3-Igualdade\"></a>\n",
    "\n",
    "Os operadores `<`, `>`, `==`, `>=`, `<=`, e `!=` comparam os *valores* de dois objetos. Os objetos não precisam ter o mesmo tipo. Por exemplo:"
   ]
  },
  {
   "cell_type": "code",
   "execution_count": 23,
   "metadata": {},
   "outputs": [
    {
     "name": "stdout",
     "output_type": "stream",
     "text": [
      "eles são diferentes e x =  3.3333333333333335\n"
     ]
    }
   ],
   "source": [
    "x=float(10.0)/3.0\n",
    "if abs(x - 3.33) < 1.0e-20 :\n",
    "    print(\"3.33 = \", x)\n",
    "else:\n",
    "    print(\"eles são diferentes e x = \", x)"
   ]
  },
  {
   "cell_type": "code",
   "execution_count": 24,
   "metadata": {},
   "outputs": [
    {
     "data": {
      "text/plain": [
       "float"
      ]
     },
     "execution_count": 24,
     "metadata": {},
     "output_type": "execute_result"
    }
   ],
   "source": [
    "a = 10.0/10.0; b = 1\n",
    "type(a)"
   ]
  },
  {
   "cell_type": "code",
   "execution_count": 25,
   "metadata": {},
   "outputs": [
    {
     "data": {
      "text/plain": [
       "int"
      ]
     },
     "execution_count": 25,
     "metadata": {},
     "output_type": "execute_result"
    }
   ],
   "source": [
    "type(b)"
   ]
  },
  {
   "cell_type": "code",
   "execution_count": 26,
   "metadata": {},
   "outputs": [
    {
     "data": {
      "text/plain": [
       "True"
      ]
     },
     "execution_count": 26,
     "metadata": {},
     "output_type": "execute_result"
    }
   ],
   "source": [
    "a == b"
   ]
  },
  {
   "cell_type": "markdown",
   "metadata": {},
   "source": [
    "Então o operador `==` verifica se os valores de dois objetos são iguais.\n",
    "\n",
    "\n",
    "## Identidade/Semelhança <a name=\"CP3-Identidade\"></a>\n",
    "\n",
    "\n",
    "Para verificar se dois objetos `a` e` b` são iguais (isto é, `a` e` b` estão referindo ao mesmo lugar na memória), podemos usar o operador `is` (continuação do exemplo acima):"
   ]
  },
  {
   "cell_type": "code",
   "execution_count": 27,
   "metadata": {},
   "outputs": [
    {
     "data": {
      "text/plain": [
       "False"
      ]
     },
     "execution_count": 27,
     "metadata": {},
     "output_type": "execute_result"
    }
   ],
   "source": [
    "a is b"
   ]
  },
  {
   "cell_type": "markdown",
   "metadata": {},
   "source": [
    "Claro que eles são diferentes aqui, já que eles não são do mesmo tipo.\n",
    "\n",
    "Podemos também perguntar a função `id` que, de acordo com a string de documentação do [Python 3.6](https://docs.python.org/3/library/functions.html?highlight=id#id) \"*Retorna a identidade de um objeto. Isto é garantido como sendo única entre objetos  existentes simultaneamente. (Dica: é o endereço de memória do objeto.)*\""
   ]
  },
  {
   "cell_type": "code",
   "execution_count": 28,
   "metadata": {},
   "outputs": [
    {
     "data": {
      "text/plain": [
       "139704867741344"
      ]
     },
     "execution_count": 28,
     "metadata": {},
     "output_type": "execute_result"
    }
   ],
   "source": [
    "id(a)"
   ]
  },
  {
   "cell_type": "code",
   "execution_count": 29,
   "metadata": {},
   "outputs": [
    {
     "data": {
      "text/plain": [
       "10919424"
      ]
     },
     "execution_count": 29,
     "metadata": {},
     "output_type": "execute_result"
    }
   ],
   "source": [
    "id(b)"
   ]
  },
  {
   "cell_type": "markdown",
   "metadata": {},
   "source": [
    "a qual mostra que  `a` e `b` estão armazenados em diferentes lugares da memória.\n",
    "\n",
    "## Exemplo: Igualdade e identidade <a name=\"CP3-Exemplo-ig-id\"></a>\n",
    "\n",
    "Nos aproximamos mais com um exemplo  envolvendo listas:"
   ]
  },
  {
   "cell_type": "code",
   "execution_count": 30,
   "metadata": {},
   "outputs": [
    {
     "data": {
      "text/plain": [
       "True"
      ]
     },
     "execution_count": 30,
     "metadata": {},
     "output_type": "execute_result"
    }
   ],
   "source": [
    "x = [0, 1, 2]\n",
    "y = x\n",
    "x == y"
   ]
  },
  {
   "cell_type": "code",
   "execution_count": 31,
   "metadata": {},
   "outputs": [
    {
     "data": {
      "text/plain": [
       "True"
      ]
     },
     "execution_count": 31,
     "metadata": {},
     "output_type": "execute_result"
    }
   ],
   "source": [
    "x is y"
   ]
  },
  {
   "cell_type": "code",
   "execution_count": 32,
   "metadata": {},
   "outputs": [
    {
     "data": {
      "text/plain": [
       "139704414372040"
      ]
     },
     "execution_count": 32,
     "metadata": {},
     "output_type": "execute_result"
    }
   ],
   "source": [
    "id(x)"
   ]
  },
  {
   "cell_type": "code",
   "execution_count": 33,
   "metadata": {},
   "outputs": [
    {
     "data": {
      "text/plain": [
       "139704414372040"
      ]
     },
     "execution_count": 33,
     "metadata": {},
     "output_type": "execute_result"
    }
   ],
   "source": [
    "id(y)"
   ]
  },
  {
   "cell_type": "markdown",
   "metadata": {},
   "source": [
    "Aqui, `x` e` y` são referências ao mesmo local da memória, eles são assim idênticos e o operador `is` confirma isso. O ponto importante a lembrar é que a linha 2 (`y = x`) cria uma nova referência `y` para o mesmo objeto de lista `x` que é uma referência para ele.\n",
    "\n",
    "Consequentemente, podemos alterar elementos de `x` e de `y` e isso mudará simultaneamente, tanto `x` quanto `y` que referem-se ao mesmo objeto:"
   ]
  },
  {
   "cell_type": "code",
   "execution_count": 34,
   "metadata": {},
   "outputs": [
    {
     "data": {
      "text/plain": [
       "[0, 1, 2]"
      ]
     },
     "execution_count": 34,
     "metadata": {},
     "output_type": "execute_result"
    }
   ],
   "source": [
    "x"
   ]
  },
  {
   "cell_type": "code",
   "execution_count": 35,
   "metadata": {},
   "outputs": [
    {
     "data": {
      "text/plain": [
       "[0, 1, 2]"
      ]
     },
     "execution_count": 35,
     "metadata": {},
     "output_type": "execute_result"
    }
   ],
   "source": [
    "y"
   ]
  },
  {
   "cell_type": "code",
   "execution_count": 36,
   "metadata": {},
   "outputs": [
    {
     "data": {
      "text/plain": [
       "True"
      ]
     },
     "execution_count": 36,
     "metadata": {},
     "output_type": "execute_result"
    }
   ],
   "source": [
    "x is y"
   ]
  },
  {
   "cell_type": "code",
   "execution_count": 37,
   "metadata": {},
   "outputs": [
    {
     "data": {
      "text/plain": [
       "[100, 1, 2]"
      ]
     },
     "execution_count": 37,
     "metadata": {},
     "output_type": "execute_result"
    }
   ],
   "source": [
    "x[0] = 100\n",
    "y"
   ]
  },
  {
   "cell_type": "code",
   "execution_count": 38,
   "metadata": {},
   "outputs": [
    {
     "data": {
      "text/plain": [
       "[100, 1, 2]"
      ]
     },
     "execution_count": 38,
     "metadata": {},
     "output_type": "execute_result"
    }
   ],
   "source": [
    "x"
   ]
  },
  {
   "cell_type": "markdown",
   "metadata": {},
   "source": [
    "Em contraste, se usarmos `z = x[:]` (em vez de `z = x`) para criar um novo nome `z`, então a operação de corte `x[:]` irá realmente criar uma cópia da lista `x` e a nova referência `z` apontará para a cópia. O *valor* de `x` e `z` é igual, mas `x` e` z` não são o mesmo objeto (eles não são idênticos):"
   ]
  },
  {
   "cell_type": "code",
   "execution_count": 39,
   "metadata": {},
   "outputs": [
    {
     "data": {
      "text/plain": [
       "[100, 1, 2]"
      ]
     },
     "execution_count": 39,
     "metadata": {},
     "output_type": "execute_result"
    }
   ],
   "source": [
    "x"
   ]
  },
  {
   "cell_type": "code",
   "execution_count": 40,
   "metadata": {},
   "outputs": [
    {
     "data": {
      "text/plain": [
       "True"
      ]
     },
     "execution_count": 40,
     "metadata": {},
     "output_type": "execute_result"
    }
   ],
   "source": [
    "z = x[:]            # cria uma cópia de x antes de atribuir a z\n",
    "z == x              # são iguais"
   ]
  },
  {
   "cell_type": "code",
   "execution_count": 41,
   "metadata": {},
   "outputs": [
    {
     "data": {
      "text/plain": [
       "False"
      ]
     },
     "execution_count": 41,
     "metadata": {},
     "output_type": "execute_result"
    }
   ],
   "source": [
    "z is x              # Não são o mesmo objeto"
   ]
  },
  {
   "cell_type": "code",
   "execution_count": 42,
   "metadata": {},
   "outputs": [
    {
     "data": {
      "text/plain": [
       "139704414288968"
      ]
     },
     "execution_count": 42,
     "metadata": {},
     "output_type": "execute_result"
    }
   ],
   "source": [
    "id(z)               # Pode-se confirma verificando suas ids"
   ]
  },
  {
   "cell_type": "code",
   "execution_count": 43,
   "metadata": {},
   "outputs": [
    {
     "data": {
      "text/plain": [
       "139704414372040"
      ]
     },
     "execution_count": 43,
     "metadata": {},
     "output_type": "execute_result"
    }
   ],
   "source": [
    "id(x)"
   ]
  },
  {
   "cell_type": "code",
   "execution_count": 44,
   "metadata": {},
   "outputs": [
    {
     "data": {
      "text/plain": [
       "[100, 1, 2]"
      ]
     },
     "execution_count": 44,
     "metadata": {},
     "output_type": "execute_result"
    }
   ],
   "source": [
    "x"
   ]
  },
  {
   "cell_type": "code",
   "execution_count": 45,
   "metadata": {},
   "outputs": [
    {
     "data": {
      "text/plain": [
       "[100, 1, 2]"
      ]
     },
     "execution_count": 45,
     "metadata": {},
     "output_type": "execute_result"
    }
   ],
   "source": [
    "z"
   ]
  },
  {
   "cell_type": "markdown",
   "metadata": {},
   "source": [
    "Consequentemente, pode-se mudar `x` sem alterar `z`, por exemplo (continuação)"
   ]
  },
  {
   "cell_type": "code",
   "execution_count": 46,
   "metadata": {},
   "outputs": [
    {
     "data": {
      "text/plain": [
       "[42, 1, 2]"
      ]
     },
     "execution_count": 46,
     "metadata": {},
     "output_type": "execute_result"
    }
   ],
   "source": [
    "x[0] = 42\n",
    "x"
   ]
  },
  {
   "cell_type": "code",
   "execution_count": 47,
   "metadata": {},
   "outputs": [
    {
     "data": {
      "text/plain": [
       "[100, 1, 2]"
      ]
     },
     "execution_count": 47,
     "metadata": {},
     "output_type": "execute_result"
    }
   ],
   "source": [
    "z"
   ]
  },
  {
   "cell_type": "code",
   "execution_count": null,
   "metadata": {
    "collapsed": true
   },
   "outputs": [],
   "source": []
  }
 ],
 "metadata": {
  "finalized": {
   "timestamp": 1575381566143,
   "trusted": false
  },
  "kernelspec": {
   "display_name": "Python 3",
   "language": "python",
   "name": "python3"
  },
  "language_info": {
   "codemirror_mode": {
    "name": "ipython",
    "version": 3
   },
   "file_extension": ".py",
   "mimetype": "text/x-python",
   "name": "python",
   "nbconvert_exporter": "python",
   "pygments_lexer": "ipython3",
   "version": "3.6.9"
  },
  "latex_envs": {
   "LaTeX_envs_menu_present": true,
   "autoclose": false,
   "autocomplete": true,
   "bibliofile": "biblio.bib",
   "cite_by": "apalike",
   "current_citInitial": 1,
   "eqLabelWithNumbers": true,
   "eqNumInitial": 1,
   "hotkeys": {
    "equation": "Ctrl-E",
    "itemize": "Ctrl-I"
   },
   "labels_anchors": false,
   "latex_user_defs": false,
   "report_style_numbering": false,
   "user_envs_cfg": false
  },
  "nbTranslate": {
   "displayLangs": [
    "pt",
    "en"
   ],
   "hotkey": "alt-t",
   "langInMainMenu": true,
   "sourceLang": "en",
   "targetLang": "pt",
   "useGoogleTranslate": true
  },
  "toc": {
   "base_numbering": 1,
   "nav_menu": {},
   "number_sections": true,
   "sideBar": true,
   "skip_h1_title": false,
   "title_cell": "Table of Contents",
   "title_sidebar": "Contents",
   "toc_cell": false,
   "toc_position": {},
   "toc_section_display": false,
   "toc_window_display": false
  },
  "varInspector": {
   "cols": {
    "lenName": 16,
    "lenType": 16,
    "lenVar": 40
   },
   "kernels_config": {
    "python": {
     "delete_cmd_postfix": "",
     "delete_cmd_prefix": "del ",
     "library": "var_list.py",
     "varRefreshCmd": "print(var_dic_list())"
    },
    "r": {
     "delete_cmd_postfix": ") ",
     "delete_cmd_prefix": "rm(",
     "library": "var_list.r",
     "varRefreshCmd": "cat(var_dic_list()) "
    }
   },
   "types_to_exclude": [
    "module",
    "function",
    "builtin_function_or_method",
    "instance",
    "_Feature"
   ],
   "window_display": false
  }
 },
 "nbformat": 4,
 "nbformat_minor": 2
}
