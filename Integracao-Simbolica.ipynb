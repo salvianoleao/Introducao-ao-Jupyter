{
 "cells": [
  {
   "cell_type": "markdown",
   "metadata": {},
   "source": [
    "# Integração simbólica"
   ]
  },
  {
   "cell_type": "code",
   "execution_count": 1,
   "metadata": {
    "ExecuteTime": {
     "end_time": "2018-08-23T20:43:02.965887Z",
     "start_time": "2018-08-23T20:42:41.595047Z"
    }
   },
   "outputs": [
    {
     "data": {
      "image/png": "[encoded data removed]",
      "text/latex": [
       "$$\\int x^{2}\\, dx = \\frac{x^{3}}{3}$$"
      ],
      "text/plain": [
       "⌠          3\n",
       "⎮  2      x \n",
       "⎮ x  dx = ──\n",
       "⌡         3 "
      ]
     },
     "execution_count": 1,
     "metadata": {},
     "output_type": "execute_result"
    }
   ],
   "source": [
    "import sympy\n",
    "from sympy import Integral, Eq, integrate, sin, exp\n",
    "sympy.init_printing()\n",
    "\n",
    "x, y, sigma = sympy.symbols('x, y, sigma')\n",
    "Eq(Integral(x**2, x), integrate(x**2, x))"
   ]
  },
  {
   "cell_type": "code",
   "execution_count": 2,
   "metadata": {
    "ExecuteTime": {
     "end_time": "2018-08-23T20:43:03.079444Z",
     "start_time": "2018-08-23T20:43:02.971639Z"
    }
   },
   "outputs": [
    {
     "data": {
      "image/png": "[encoded data removed]",
      "text/latex": [
       "$$\\int x^{2}\\, dy = x^{2} y$$"
      ],
      "text/plain": [
       "⌠             \n",
       "⎮  2       2  \n",
       "⎮ x  dy = x ⋅y\n",
       "⌡             "
      ]
     },
     "execution_count": 2,
     "metadata": {},
     "output_type": "execute_result"
    }
   ],
   "source": [
    "Eq(Integral(x**2, y), integrate(x**2, y))"
   ]
  },
  {
   "cell_type": "code",
   "execution_count": 3,
   "metadata": {},
   "outputs": [
    {
     "data": {
      "image/png": "[encoded data removed]",
      "text/latex": [
       "$$\\left ( \\int \\sin{\\left (x \\right )}\\, dx = - \\cos{\\left (x \\right )}, \\quad \\int \\sin{\\left (x \\right )}\\, dy = y \\sin{\\left (x \\right )}\\right )$$"
      ],
      "text/plain": [
       "⎛⌠                      ⌠                     ⎞\n",
       "⎜⎮ sin(x) dx = -cos(x), ⎮ sin(x) dy = y⋅sin(x)⎟\n",
       "⎝⌡                      ⌡                     ⎠"
      ]
     },
     "execution_count": 3,
     "metadata": {},
     "output_type": "execute_result"
    }
   ],
   "source": [
    "ix = (sin(x), x)\n",
    "iy = (sin(x), y)\n",
    "Eq(Integral(*ix), integrate(*ix)), Eq(Integral(*iy), integrate(*iy))"
   ]
  },
  {
   "cell_type": "code",
   "execution_count": 4,
   "metadata": {},
   "outputs": [
    {
     "data": {
      "image/png": "[encoded data removed]",
      "text/latex": [
       "$$\\int - x e^{- \\frac{x^{2}}{2}}\\, dx = e^{- \\frac{x^{2}}{2}}$$"
      ],
      "text/plain": [
       "⌠                    \n",
       "⎮       2          2 \n",
       "⎮     -x         -x  \n",
       "⎮     ────       ────\n",
       "⎮      2          2  \n",
       "⎮ -x⋅ℯ     dx = ℯ    \n",
       "⌡                    "
      ]
     },
     "execution_count": 4,
     "metadata": {},
     "output_type": "execute_result"
    }
   ],
   "source": [
    "e = (-x * exp(-x**2/2), x)\n",
    "Eq(Integral(*e), integrate(*e))"
   ]
  },
  {
   "cell_type": "code",
   "execution_count": 6,
   "metadata": {},
   "outputs": [
    {
     "data": {
      "image/png": "[encoded data removed]",
      "text/latex": [
       "$$\\iiint x^{2}\\, dx\\, dx\\, dy = \\frac{x^{4} y}{12}$$"
      ],
      "text/plain": [
       "⌠ ⌠ ⌠                4  \n",
       "⎮ ⎮ ⎮  2            x ⋅y\n",
       "⎮ ⎮ ⎮ x  dx dx dy = ────\n",
       "⌡ ⌡ ⌡                12 "
      ]
     },
     "execution_count": 6,
     "metadata": {},
     "output_type": "execute_result"
    }
   ],
   "source": [
    "# integral tripla\n",
    "Eq(Integral(x**2, x, x, y), integrate(x**2, x, x, y))   "
   ]
  },
  {
   "cell_type": "code",
   "execution_count": 8,
   "metadata": {},
   "outputs": [
    {
     "data": {
      "image/png": "[encoded data removed]",
      "text/latex": [
       "$$\\left ( \\int\\int\\int_{0}^{2} x^{2}\\, dx\\, dx\\, dy, \\quad \\frac{8 x}{3} y\\right )$$"
      ],
      "text/plain": [
       "⎛    2                   ⎞\n",
       "⎜⌠ ⌠ ⌠                   ⎟\n",
       "⎜⎮ ⎮ ⎮  2           8⋅x⋅y⎟\n",
       "⎜⎮ ⎮ ⎮ x  dx dx dy, ─────⎟\n",
       "⎜⌡ ⌡ ⌡                3  ⎟\n",
       "⎝    0                   ⎠"
      ]
     },
     "execution_count": 8,
     "metadata": {},
     "output_type": "execute_result"
    }
   ],
   "source": [
    "# integral calculada parcialmente\n",
    "e = (x**2, (x,0,2), x, y)\n",
    "Integral(*e), integrate(*e)"
   ]
  },
  {
   "cell_type": "code",
   "execution_count": 7,
   "metadata": {},
   "outputs": [
    {
     "data": {
      "image/png": "[encoded data removed]",
      "text/latex": [
       "$$\\int_{0}^{1}\\int_{0}^{2}\\int_{0}^{2} x^{2}\\, dx\\, dx\\, dy = \\frac{16}{3}$$"
      ],
      "text/plain": [
       "1 2 2                   \n",
       "⌠ ⌠ ⌠                   \n",
       "⎮ ⎮ ⎮  2                \n",
       "⎮ ⎮ ⎮ x  dx dx dy = 16/3\n",
       "⌡ ⌡ ⌡                   \n",
       "0 0 0                   "
      ]
     },
     "execution_count": 7,
     "metadata": {},
     "output_type": "execute_result"
    }
   ],
   "source": [
    "# integral calculada completamente\n",
    "e = (x**2, (x,0,2), (x,0,2), (y,0,1))\n",
    "Eq(Integral(*e), integrate(*e))"
   ]
  },
  {
   "cell_type": "code",
   "execution_count": null,
   "metadata": {
    "collapsed": true
   },
   "outputs": [],
   "source": []
  }
 ],
 "metadata": {
  "jupytext": {},
  "kernelspec": {
   "display_name": "Python 3",
   "language": "python",
   "name": "python3"
  },
  "language_info": {
   "codemirror_mode": {
    "name": "ipython",
    "version": 3
   },
   "file_extension": ".py",
   "mimetype": "text/x-python",
   "name": "python",
   "nbconvert_exporter": "python",
   "pygments_lexer": "ipython3",
   "version": "3.6.6"
  },
  "latex_envs": {
   "LaTeX_envs_menu_present": true,
   "autoclose": false,
   "autocomplete": true,
   "bibliofile": "biblio.bib",
   "cite_by": "apalike",
   "current_citInitial": 1,
   "eqLabelWithNumbers": true,
   "eqNumInitial": 1,
   "hotkeys": {
    "equation": "Ctrl-E",
    "itemize": "Ctrl-I"
   },
   "labels_anchors": false,
   "latex_user_defs": false,
   "report_style_numbering": false,
   "user_envs_cfg": false
  },
  "nbTranslate": {
   "displayLangs": [
    "pt",
    "en"
   ],
   "hotkey": "alt-t",
   "langInMainMenu": true,
   "sourceLang": "en",
   "targetLang": "pt",
   "useGoogleTranslate": true
  },
  "toc": {
   "base_numbering": 1,
   "nav_menu": {},
   "number_sections": true,
   "sideBar": true,
   "skip_h1_title": false,
   "title_cell": "Table of Contents",
   "title_sidebar": "Contents",
   "toc_cell": false,
   "toc_position": {},
   "toc_section_display": true,
   "toc_window_display": false
  },
  "varInspector": {
   "cols": {
    "lenName": 16,
    "lenType": 16,
    "lenVar": 40
   },
   "kernels_config": {
    "python": {
     "delete_cmd_postfix": "",
     "delete_cmd_prefix": "del ",
     "library": "var_list.py",
     "varRefreshCmd": "print(var_dic_list())"
    },
    "r": {
     "delete_cmd_postfix": ") ",
     "delete_cmd_prefix": "rm(",
     "library": "var_list.r",
     "varRefreshCmd": "cat(var_dic_list()) "
    }
   },
   "types_to_exclude": [
    "module",
    "function",
    "builtin_function_or_method",
    "instance",
    "_Feature"
   ],
   "window_display": false
  }
 },
 "nbformat": 4,
 "nbformat_minor": 1
}
