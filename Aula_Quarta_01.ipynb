{
 "cells": [
  {
   "cell_type": "markdown",
   "metadata": {},
   "source": [
    "<img src=\"../Figs/Cab_IF_Red_01.png\" alt=\"drawing\" width=\"80%\"/>\n",
    "\n",
    "\n",
    "<!--\n",
    "\n",
    "<img href=\"Figs/Cab_IF_Red_01.png\" style=\"width: 80%;\" /> doesn't work\n",
    "\n",
    "![Logotipo do IF](../Figs/Cab_IF_Red_01.png){ width=50% }\n",
    "\n",
    "<h1> <span style=\"color:blue\">Curso de Python</span> </h1> \n",
    "-->\n",
    "\n",
    "<p style=\"margin-bottom:1cm;\"> </p>\n",
    "\n",
    "\n",
    "<center> <font size=\"6\" color=\"blue\">Curso de Python</font> </center>\n",
    "\n",
    "\n",
    "<font size=\"4\" color=\"blue\">**Prof. :** Salviano A. Leão -- Instituto de Física - UFG-GO</font>\n",
    "\n"
   ]
  },
  {
   "cell_type": "markdown",
   "metadata": {},
   "source": [
    "# Introspecção"
   ]
  },
  {
   "cell_type": "markdown",
   "metadata": {},
   "source": [
    "## Sumário  <a name=\"sumario\"></a>\n",
    "\n",
    "* [Introdução](#Introducao)\n",
    "* [Função dir()](#func-dir)\n",
    "* [Nomes Mágicos](#Nomes-magicos)\n",
    "* [Função type](#func-type)\n",
    "* [Função isinstance](#func-isinstance)\n",
    "* [Função help](#func-help)\n",
    "* [Documentação docstrings](#docstrings)\n",
    "* [Números Reais](#Numeros-reais)"
   ]
  },
  {
   "cell_type": "markdown",
   "metadata": {},
   "source": [
    "## Introdução <a name=\"Introducao\"></a>\n",
    "\n",
    "Um código Python pode fazer e responder perguntas sobre si mesmo e os objetos que está manipulando."
   ]
  },
  {
   "cell_type": "markdown",
   "metadata": {},
   "source": [
    "# Um pouco mais sobre as funções do python"
   ]
  },
  {
   "cell_type": "markdown",
   "metadata": {},
   "source": [
    "## Função dir() <a name=\"func-dir\"></a>\n",
    "\n",
    "\n",
    "<span>`dir()`</span> é uma função interna (*builtin*) a qual retorna uma lista de todos os nomes pertencentes ao mesmo *namespace*.\n",
    "\n",
    "-   Se nenhum argumento é passado para a função dir (isto é, <span>`dir()`</span>), ela inspeciona o namespace no qual ela foi chamada.\n",
    "\n",
    "-   Se <span>`dir`</span> é dado com um argumento (isto é, <span>`dir(<object>)`</span>, então ela inspeciona o  namespace do objeto o qual foi passado para ela.\n",
    "\n",
    "Por exemplo:"
   ]
  },
  {
   "cell_type": "code",
   "execution_count": 1,
   "metadata": {
    "ExecuteTime": {
     "end_time": "2019-08-14T13:02:43.541001Z",
     "start_time": "2019-08-14T13:02:43.530328Z"
    }
   },
   "outputs": [
    {
     "data": {
      "text/plain": [
       "['__add__',\n",
       " '__class__',\n",
       " '__contains__',\n",
       " '__delattr__',\n",
       " '__delitem__',\n",
       " '__dir__',\n",
       " '__doc__',\n",
       " '__eq__',\n",
       " '__format__',\n",
       " '__ge__',\n",
       " '__getattribute__',\n",
       " '__getitem__',\n",
       " '__gt__',\n",
       " '__hash__',\n",
       " '__iadd__',\n",
       " '__imul__',\n",
       " '__init__',\n",
       " '__init_subclass__',\n",
       " '__iter__',\n",
       " '__le__',\n",
       " '__len__',\n",
       " '__lt__',\n",
       " '__mul__',\n",
       " '__ne__',\n",
       " '__new__',\n",
       " '__reduce__',\n",
       " '__reduce_ex__',\n",
       " '__repr__',\n",
       " '__reversed__',\n",
       " '__rmul__',\n",
       " '__setattr__',\n",
       " '__setitem__',\n",
       " '__sizeof__',\n",
       " '__str__',\n",
       " '__subclasshook__',\n",
       " 'append',\n",
       " 'clear',\n",
       " 'copy',\n",
       " 'count',\n",
       " 'extend',\n",
       " 'index',\n",
       " 'insert',\n",
       " 'pop',\n",
       " 'remove',\n",
       " 'reverse',\n",
       " 'sort']"
      ]
     },
     "execution_count": 1,
     "metadata": {},
     "output_type": "execute_result"
    }
   ],
   "source": [
    "frutas = ['banana', 'manga', 'uva', 'pera', 'abacate', 'abacaxi']\n",
    "dir(frutas)"
   ]
  },
  {
   "cell_type": "code",
   "execution_count": null,
   "metadata": {},
   "outputs": [],
   "source": [
    "dir()"
   ]
  },
  {
   "cell_type": "code",
   "execution_count": null,
   "metadata": {},
   "outputs": [],
   "source": [
    "nome = \"Pedro\"\n",
    "dir(nome)"
   ]
  },
  {
   "cell_type": "markdown",
   "metadata": {},
   "source": [
    "## Nomes Mágicos <a name=\"Nomes-magicos\"></a>\n",
    "\n",
    "\n",
    "Você encontrará muitos nomes que começam e terminam com um sublinhado duplo (por exemplo, <span>`__nome__`</span>). Estes são chamados nomes mágicos. Funções com nomes mágicos fornecem a implementação de funcionalidades particulares do python.\n",
    "\n",
    "Por exemplo, a aplicação do <span>`str`</span> para um objeto <span>`a`</span>, isto é, <span>`str(a)`</span> resultará internamente na chamada do método <span>`a.__str__()`</span>. Este método <span>`__str__` </span> geralmente precisa retornar uma string. A idéia é que o método <span>`__str__()`</span> deve ser definido para todos os objetos (incluindo aqueles que derivam de novas classes que um programador pode criar) para que todos os objetos (independentemente de seu tipo ou classe) possam ser impressos usando a função <span>`str()`</span>. A conversão real de algum objeto <span>`x`</span> para a string é então feita através do método específico do objeto <span>`x.__str__()`</span>.\n",
    "\n",
    "Pode-se demonstrar isso criando uma classe <span>`meu_int`</span> que herda da classe base inteira do Python e substitui o método <span>`__str__`</span>. (Esse exemplo irá exigir mais conhecimento do Python do que o fornecido até este ponto no texto para poder entender todo o exemplo, entretanto ainda assim ele será útil no momento)."
   ]
  },
  {
   "cell_type": "code",
   "execution_count": 2,
   "metadata": {
    "ExecuteTime": {
     "end_time": "2019-08-14T13:05:21.656904Z",
     "start_time": "2019-08-14T13:05:21.650610Z"
    }
   },
   "outputs": [
    {
     "name": "stdout",
     "output_type": "stream",
     "text": [
      "a * b =  12\n",
      "Tipo de a =  <class '__main__.meu_int'> str(a) =  meu_int: 3\n",
      "Tipo de b =  <class 'int'> str(b) =  4\n"
     ]
    }
   ],
   "source": [
    "class meu_int(int): \n",
    "    \"\"\"Herdado dos inteiros (int)\"\"\" \n",
    "    def __str__(self): \n",
    "        \"\"\"Ajusta a representação str do meu_int\"\"\" \n",
    "        return \"meu_int: %s\" % (int.__str__(self))\n",
    " \n",
    "a = meu_int(3)\n",
    "b = int(4)            # equivalente a b = 4\n",
    "print(\"a * b = \", a * b)\n",
    "print(\"Tipo de a = \", type(a), \"str(a) = \", str(a))\n",
    "print(\"Tipo de b = \", type(b), \"str(b) = \", str(b))"
   ]
  },
  {
   "cell_type": "markdown",
   "metadata": {},
   "source": [
    "### Leitura recomendada\n",
    "\n",
    "Veja também a documentação do Python →[Python documentation, Data Model](http://docs.python.org/reference/datamodel.html)\n",
    "\n",
    "## Função type <a name=\"func-type\"></a>\n",
    "\n",
    "A função <span>`type(<object>)`</span> retorna o tipo de um objeto:"
   ]
  },
  {
   "cell_type": "code",
   "execution_count": null,
   "metadata": {},
   "outputs": [],
   "source": [
    "type(1)"
   ]
  },
  {
   "cell_type": "code",
   "execution_count": null,
   "metadata": {
    "scrolled": true
   },
   "outputs": [],
   "source": [
    "type(1.0)"
   ]
  },
  {
   "cell_type": "code",
   "execution_count": null,
   "metadata": {
    "scrolled": true
   },
   "outputs": [],
   "source": [
    "type(\"Python\")"
   ]
  },
  {
   "cell_type": "code",
   "execution_count": null,
   "metadata": {},
   "outputs": [],
   "source": [
    "import math\n",
    "type(math)"
   ]
  },
  {
   "cell_type": "code",
   "execution_count": null,
   "metadata": {},
   "outputs": [],
   "source": [
    "type(math.sin)"
   ]
  },
  {
   "cell_type": "code",
   "execution_count": null,
   "metadata": {},
   "outputs": [],
   "source": [
    "dir(math)"
   ]
  },
  {
   "cell_type": "markdown",
   "metadata": {},
   "source": [
    "## Função isinstance <a name=\"func-isinstance\"></a>\n",
    "\n",
    "\n",
    "<span>`isinstance(<object>, <typespec>)`</span> retorna True se o objeto fornecido  é uma instância de um dado tipo, ou  qualquer uma de suas \"superclasses\". Use <span>`help(isinstance`</span>) para obter uma sintaxe completa da função."
   ]
  },
  {
   "cell_type": "code",
   "execution_count": null,
   "metadata": {},
   "outputs": [],
   "source": [
    "isinstance(2,int)"
   ]
  },
  {
   "cell_type": "code",
   "execution_count": null,
   "metadata": {},
   "outputs": [],
   "source": [
    "isinstance(2.,int)"
   ]
  },
  {
   "cell_type": "code",
   "execution_count": null,
   "metadata": {},
   "outputs": [],
   "source": [
    "isinstance(a,int)    # a é uma instância do meu_int"
   ]
  },
  {
   "cell_type": "code",
   "execution_count": null,
   "metadata": {},
   "outputs": [],
   "source": [
    "type(a)"
   ]
  },
  {
   "cell_type": "markdown",
   "metadata": {},
   "source": [
    "## Função help <a name=\"func-help\"></a>\n",
    "\n",
    "-   A função <span>`help(<object>)`</span> irá reportar a *docstring* (atrituto mágico com o nome <span>`__doc__`</span>) do objeto que é fornecido, algumas vezes complementado com informações adicionais. No caso das funções, <span>`help`</span> também mostrará a lista dos argumentos que a função aceita (mas ela não retorna nenhum valor).\n",
    "\n",
    "-   <span>`help()`</span> inicia um ambiente de ajuda interativo. \n",
    "\n",
    "-   É muito comun usar o comando <span>`help`</span> muitas vezes para lembrar-se da sintaxe e da semântica de alguns comandos. \n",
    "\n",
    "<!-- -->"
   ]
  },
  {
   "cell_type": "code",
   "execution_count": null,
   "metadata": {},
   "outputs": [],
   "source": [
    "help(isinstance)"
   ]
  },
  {
   "cell_type": "code",
   "execution_count": 3,
   "metadata": {
    "ExecuteTime": {
     "end_time": "2019-08-14T13:06:13.976538Z",
     "start_time": "2019-08-14T13:06:13.972268Z"
    }
   },
   "outputs": [
    {
     "name": "stdout",
     "output_type": "stream",
     "text": [
      "Help on built-in function sin in module math:\n",
      "\n",
      "sin(...)\n",
      "    sin(x)\n",
      "    \n",
      "    Return the sine of x (measured in radians).\n",
      "\n"
     ]
    }
   ],
   "source": [
    "import math\n",
    "help(math.sin)"
   ]
  },
  {
   "cell_type": "code",
   "execution_count": null,
   "metadata": {},
   "outputs": [],
   "source": [
    "help(math.log)"
   ]
  },
  {
   "cell_type": "code",
   "execution_count": null,
   "metadata": {},
   "outputs": [],
   "source": [
    "help(math)"
   ]
  },
  {
   "cell_type": "markdown",
   "metadata": {},
   "source": [
    "A função <span>`help`</span> precisa de receber o nome de um objeto (que deve existir no espaço de nome atual). Por exemplo, py<span> help(math.sqrt)</span> não funcionará se o módulo <span>`math`</span> não tiver sido importado antes."
   ]
  },
  {
   "cell_type": "code",
   "execution_count": null,
   "metadata": {},
   "outputs": [],
   "source": [
    "help(math.sqrt)"
   ]
  },
  {
   "cell_type": "code",
   "execution_count": null,
   "metadata": {},
   "outputs": [],
   "source": [
    "import math\n",
    "help(math.sqrt)"
   ]
  },
  {
   "cell_type": "markdown",
   "metadata": {},
   "source": [
    "Em vez de importar o módulo, também poderíamos ter dado a *string* de <span>`math.sqrt`</span> à função de ajuda, isto é:"
   ]
  },
  {
   "cell_type": "code",
   "execution_count": null,
   "metadata": {
    "scrolled": true
   },
   "outputs": [],
   "source": [
    "help('math.sqrt')"
   ]
  },
  {
   "cell_type": "markdown",
   "metadata": {},
   "source": [
    "<Span>`help`</span> é uma função que fornece informações sobre o objeto que é passado como argumento. A maioria das coisas em Python (classes, funções, módulos, etc.) são objetos e, portanto, podem ser passadas para o `help`. Há, no entanto, algumas coisas sobre as quais você gostaria de pedir ajuda, que não são objetos Python existentes. Em tais casos, muitas vezes é possível passar uma string contendo o nome da coisa ou conceito para ajudar, por exemplo\n",
    "\n",
    "- <span>`help('modules')`</span> irá gerar uma lista de todos os módulos que podem ser importados no interpretador atual. Observe que `help(modules)` (note a ausência de aspas) resultará em um NameError (a menos que você seja azarado o suficiente para ter uma variável chamada modules nesse no mesmo namespace, nesse caso você vai obter ajuda sobre como essa variável é referida.\n",
    "\n",
    "- <span>`help('algum_modulo')`</span>, onde `algum_modulo` é um módulo que ainda não foi importado (e por isso ainda não é um objeto), fornecerá as informações de ajuda desse módulo.\n",
    "\n",
    "- <span> `help('alguma_palavra_chave')`</span>: Por exemplo <span>`and`</span>, <span>`if`</span> ou <span>`print`</span> (*isto é,* <span>`help('and')`</span>, <span>`help('if')`</span> and <span>`help('print')`</span> ). Estas são palavras especiais reconhecidas pelo Python: elas não são objetos e, portanto, não podem ser passadas como argumentos para o `help`. Passando o nome da palavra-chave como uma string para o `help` funciona, mas somente se você tiver a documentação HTML do Python instalada e o intérpretador tiver sido informado sobre sua localização definindo a variável de ambiente PYTHONDOCS.\n",
    "\n",
    "\n",
    "\n",
    "## Documentação docstrings <a name=\"docstrings\"></a>\n",
    "\n",
    "\n",
    "O comando <span>`help(<object>)`</span> acessa as strings de documentação dos objetos.\n",
    "\n",
    "Qualquer string literal que surge como primeiro item na definição de uma classe, função, método ou módulo é considerada como sendo sua \"*docstring*\".\n",
    "\n",
    "O <span>`help`</span> inclui a docstring na informação que ele mostra sobre o objeto. \n",
    "\n",
    "Além disso, o docstring pode mostrar algumas outras informações, por exemplo, no caso de funções, ele mostra as assinaturas das funções.\n",
    "\n",
    "\n",
    "A docstring é armazenada no atributo <span>`__doc__`</span> do objeto."
   ]
  },
  {
   "cell_type": "code",
   "execution_count": 4,
   "metadata": {
    "ExecuteTime": {
     "end_time": "2019-08-14T13:06:27.002024Z",
     "start_time": "2019-08-14T13:06:26.998365Z"
    },
    "scrolled": true
   },
   "outputs": [
    {
     "name": "stdout",
     "output_type": "stream",
     "text": [
      "Help on built-in function sin in module math:\n",
      "\n",
      "sin(...)\n",
      "    sin(x)\n",
      "    \n",
      "    Return the sine of x (measured in radians).\n",
      "\n"
     ]
    }
   ],
   "source": [
    "help(math.sin)"
   ]
  },
  {
   "cell_type": "code",
   "execution_count": 5,
   "metadata": {
    "ExecuteTime": {
     "end_time": "2019-08-14T13:06:31.027408Z",
     "start_time": "2019-08-14T13:06:31.022748Z"
    },
    "scrolled": true
   },
   "outputs": [
    {
     "name": "stdout",
     "output_type": "stream",
     "text": [
      "sin(x)\n",
      "\n",
      "Return the sine of x (measured in radians).\n"
     ]
    }
   ],
   "source": [
    "print(math.sin.__doc__)"
   ]
  },
  {
   "cell_type": "markdown",
   "metadata": {},
   "source": [
    "Para funções definidas pelo usuário, classes, tipos, módulos, ...), uma deverá sempre fornecer um docstring.\n",
    "\n",
    "Documentando uma função fornecida pelo usuário:"
   ]
  },
  {
   "cell_type": "code",
   "execution_count": 11,
   "metadata": {
    "ExecuteTime": {
     "end_time": "2019-08-14T13:08:40.758514Z",
     "start_time": "2019-08-14T13:08:40.753818Z"
    }
   },
   "outputs": [
    {
     "data": {
      "text/plain": [
       "(4, 8)"
      ]
     },
     "execution_count": 11,
     "metadata": {},
     "output_type": "execute_result"
    }
   ],
   "source": [
    "def power2e3(x):\n",
    "    \"\"\"Retorna a tupla (x**2, x**3)\n",
    "    Exemplo:\n",
    "    \n",
    "    xxx\n",
    "    \n",
    "    \"\"\"\n",
    "    return x**2 ,x**3\n",
    "\n",
    "power2e3(2)"
   ]
  },
  {
   "cell_type": "code",
   "execution_count": 12,
   "metadata": {
    "ExecuteTime": {
     "end_time": "2019-08-14T13:08:43.729309Z",
     "start_time": "2019-08-14T13:08:43.725046Z"
    }
   },
   "outputs": [
    {
     "data": {
      "text/plain": [
       "(20.25, 91.125)"
      ]
     },
     "execution_count": 12,
     "metadata": {},
     "output_type": "execute_result"
    }
   ],
   "source": [
    "power2e3(4.5)"
   ]
  },
  {
   "cell_type": "code",
   "execution_count": null,
   "metadata": {},
   "outputs": [],
   "source": [
    "power2e3(0+1j)"
   ]
  },
  {
   "cell_type": "code",
   "execution_count": 13,
   "metadata": {
    "ExecuteTime": {
     "end_time": "2019-08-14T13:08:46.383753Z",
     "start_time": "2019-08-14T13:08:46.380128Z"
    }
   },
   "outputs": [
    {
     "name": "stdout",
     "output_type": "stream",
     "text": [
      "Help on function power2e3 in module __main__:\n",
      "\n",
      "power2e3(x)\n",
      "    Retorna a tupla (x**2, x**3)\n",
      "    Exemplo:\n",
      "    \n",
      "    xxx\n",
      "\n"
     ]
    }
   ],
   "source": [
    "help(power2e3)"
   ]
  },
  {
   "cell_type": "code",
   "execution_count": 9,
   "metadata": {
    "ExecuteTime": {
     "end_time": "2019-08-14T13:07:09.413203Z",
     "start_time": "2019-08-14T13:07:09.410175Z"
    },
    "scrolled": true
   },
   "outputs": [
    {
     "name": "stdout",
     "output_type": "stream",
     "text": [
      "Retorna a tupla (x**2, x**3)\n"
     ]
    }
   ],
   "source": [
    "print(power2e3.__doc__)"
   ]
  },
  {
   "cell_type": "code",
   "execution_count": 10,
   "metadata": {
    "ExecuteTime": {
     "end_time": "2019-08-14T13:07:19.039501Z",
     "start_time": "2019-08-14T13:07:19.034039Z"
    }
   },
   "outputs": [
    {
     "name": "stdout",
     "output_type": "stream",
     "text": [
      "Help on function power2e3 in module __main__:\n",
      "\n",
      "power2e3(x)\n",
      "    Retorna a tupla (x**2, x**3)\n",
      "\n"
     ]
    }
   ],
   "source": [
    "help(power2e3)"
   ]
  },
  {
   "cell_type": "code",
   "execution_count": 2,
   "metadata": {
    "ExecuteTime": {
     "end_time": "2019-08-14T11:25:33.636004Z",
     "start_time": "2019-08-14T11:25:33.623584Z"
    }
   },
   "outputs": [
    {
     "data": {
      "text/plain": [
       "False"
      ]
     },
     "execution_count": 2,
     "metadata": {},
     "output_type": "execute_result"
    }
   ],
   "source": [
    "(0.1+0.1+0.1) == 0.3"
   ]
  },
  {
   "cell_type": "code",
   "execution_count": 4,
   "metadata": {
    "ExecuteTime": {
     "end_time": "2019-08-14T11:25:55.684961Z",
     "start_time": "2019-08-14T11:25:55.680980Z"
    }
   },
   "outputs": [
    {
     "data": {
      "text/plain": [
       "490909346529772655309577195498627564297521551249944956511154911718710525472171585646009788403733195227718357156513187851316791861042471890280751482410896345225310546445986192853894181098439730703830718994140625"
      ]
     },
     "execution_count": 4,
     "metadata": {},
     "output_type": "execute_result"
    }
   ],
   "source": [
    "25**150"
   ]
  },
  {
   "cell_type": "markdown",
   "metadata": {},
   "source": [
    "# Raízes\n",
    "\n",
    "Um problema que surge muito nas diversas áreas do conhecimento é o de encontrar as raízes de uma equação da forma $f(x)=0$. No caso em que $f(x)$ é uma função polinomial de ordem $n$, ou uma outra forma, esta deixa de ser uma tarefa simples. Quando temos uma função $f(x)$ do tipo\n",
    "$$ f(x) = e^{x} - 6x =0 $$\n",
    "esta é chamada de uma equação transcendental pois, não um meio de isolar a variável $x$.\n",
    "\n",
    "A seguir usaremos a matplotlib para fazer um gráfico da função"
   ]
  },
  {
   "cell_type": "code",
   "execution_count": 14,
   "metadata": {
    "ExecuteTime": {
     "end_time": "2019-08-14T13:10:05.700967Z",
     "start_time": "2019-08-14T13:10:03.870067Z"
    }
   },
   "outputs": [],
   "source": [
    "# permite que se mostre os gráficos nesse ambiente\n",
    "%matplotlib inline"
   ]
  },
  {
   "cell_type": "code",
   "execution_count": 15,
   "metadata": {
    "ExecuteTime": {
     "end_time": "2019-08-14T13:13:58.761940Z",
     "start_time": "2019-08-14T13:13:58.379391Z"
    },
    "scrolled": false
   },
   "outputs": [
    {
     "data": {
      "image/png": "[encoded data removed]",
      "text/plain": [
       "<Figure size 720x360 with 1 Axes>"
      ]
     },
     "metadata": {
      "needs_background": "light"
     },
     "output_type": "display_data"
    }
   ],
   "source": [
    "# Fazendo o gráfico da função\n",
    "import numpy as np                  # obtém acesso aos rápidos arrays da numpy \n",
    "import matplotlib.pyplot as plt     # Para fazer os gráficos das funções\n",
    "\n",
    "# Definindo a função\n",
    "def f(x):\n",
    "    return np.exp(x) - 6*x\n",
    "\n",
    "x0 = -6     # Valor inicial de x\n",
    "xf = 6      # Valor final de x\n",
    "dx = 0.01   # Passo da discretização dx = (xf - x0)/(np-1)\n",
    "\n",
    "x = np.arange(x0, xf, dx)           # cria um vetor de dados x-data\n",
    "y = f(x)                            # calcula o vetor de dados y-data\n",
    "y1 = np.exp(x)\n",
    "y2 = 6*x\n",
    "\n",
    "largura = 10  # Largura da figura\n",
    "altura  = 5   # Altura da figura\n",
    "plt.figure(figsize =(largura, altura))     # Define o tamanho do gráfico\n",
    "plt.grid()                       # Habilita a grade \n",
    "plt.xlabel('x')\n",
    "plt.ylabel('y')\n",
    "plt.title('Função transcendental')\n",
    "plt.plot(x, y, label=\"exp(x)-6x\")   # Faz o gráfico\n",
    "plt.plot(x, y1, label=\"exp(x)\")     # Faz o gráfico\n",
    "plt.plot(x, y2, label=\"6x\")         # Faz o gráfico\n",
    "plt.legend(loc=\"upper left\")        # Habilita as legendas\n",
    "plt.show()"
   ]
  },
  {
   "cell_type": "markdown",
   "metadata": {},
   "source": [
    "Para avaliar uma funão será sempre necessário fazer um gráfico do seu comportamento e para isso usaremos a seguinte função assim definida:"
   ]
  },
  {
   "cell_type": "code",
   "execution_count": 24,
   "metadata": {
    "ExecuteTime": {
     "end_time": "2019-08-14T13:21:18.457897Z",
     "start_time": "2019-08-14T13:21:18.451778Z"
    }
   },
   "outputs": [],
   "source": [
    "def grafico(f,x0,xf,dx):\n",
    "    \"\"\" Faz o gráfico da função f no intervalo [x0,xf] com:\n",
    "    x0    Valor inicial de x\n",
    "    xf    Valor final de x\n",
    "    dx    Passo da discretização dx = (xf - x0)/(np-1)    \n",
    "    \"\"\"\n",
    "    x = np.arange(x0, xf, dx)           # cria um vetor de dados x-data\n",
    "    y = f(x)                            # calcula o vetor de dados y-data\n",
    "\n",
    "    largura = 10  # Largura da figura\n",
    "    altura  = 5   # Altura da figura\n",
    "    plt.figure(figsize =(largura, altura))     # Define o tamanho do gráfico\n",
    "\n",
    "    plt.grid()                       # Habilita a grade \n",
    "    plt.xlabel('x')\n",
    "    plt.ylabel('y')\n",
    "    #plt.title('Função transcendental')\n",
    "    plt.plot(x, y, label=\"f(x)\")   # Faz o gráfico\n",
    "    plt.legend(loc=\"upper left\")   # Habilita as legendas\n",
    "    plt.savefig('lixo.svg')\n",
    "    plt.show()\n",
    "    return"
   ]
  },
  {
   "cell_type": "code",
   "execution_count": 25,
   "metadata": {
    "ExecuteTime": {
     "end_time": "2019-08-14T13:21:21.285368Z",
     "start_time": "2019-08-14T13:21:20.882166Z"
    }
   },
   "outputs": [
    {
     "data": {
      "image/png": "[encoded data removed]",
      "text/plain": [
       "<Figure size 720x360 with 1 Axes>"
      ]
     },
     "metadata": {
      "needs_background": "light"
     },
     "output_type": "display_data"
    }
   ],
   "source": [
    "def g(x):\n",
    "    return x*x\n",
    "\n",
    "grafico(g, -2,2,0.1)"
   ]
  },
  {
   "cell_type": "code",
   "execution_count": 22,
   "metadata": {
    "ExecuteTime": {
     "end_time": "2019-08-14T13:19:51.516342Z",
     "start_time": "2019-08-14T13:19:51.376560Z"
    }
   },
   "outputs": [
    {
     "name": "stdout",
     "output_type": "stream",
     "text": [
      "lixo.svg\r\n"
     ]
    }
   ],
   "source": [
    "! ls *.svg"
   ]
  },
  {
   "cell_type": "markdown",
   "metadata": {},
   "source": [
    "O problema de calcular as raízes como foi visto anteriormente pode ser dividido em duas etapas:\n",
    "\n",
    "- Encontrar os intervalos que contém uma raiz;\n",
    "- Dado o intervalo encontrar a raiz\n",
    "\n",
    "Como, determinar essa raíz?"
   ]
  },
  {
   "cell_type": "code",
   "execution_count": 27,
   "metadata": {
    "ExecuteTime": {
     "end_time": "2019-08-14T13:22:36.239308Z",
     "start_time": "2019-08-14T13:21:59.873254Z"
    }
   },
   "outputs": [],
   "source": [
    "! inkscape lixo.svg"
   ]
  },
  {
   "cell_type": "code",
   "execution_count": 29,
   "metadata": {
    "ExecuteTime": {
     "end_time": "2019-08-14T13:23:32.747872Z",
     "start_time": "2019-08-14T13:23:32.741427Z"
    }
   },
   "outputs": [
    {
     "name": "stdout",
     "output_type": "stream",
     "text": [
      "Help on function savefig in module matplotlib.pyplot:\n",
      "\n",
      "savefig(*args, **kwargs)\n",
      "    Save the current figure.\n",
      "    \n",
      "    Call signature::\n",
      "    \n",
      "      savefig(fname, dpi=None, facecolor='w', edgecolor='w',\n",
      "              orientation='portrait', papertype=None, format=None,\n",
      "              transparent=False, bbox_inches=None, pad_inches=0.1,\n",
      "              frameon=None, metadata=None)\n",
      "    \n",
      "    The output formats available depend on the backend being used.\n",
      "    \n",
      "    Parameters\n",
      "    ----------\n",
      "    \n",
      "    fname : str or PathLike or file-like object\n",
      "        A path, or a Python file-like object, or\n",
      "        possibly some backend-dependent object such as\n",
      "        `matplotlib.backends.backend_pdf.PdfPages`.\n",
      "    \n",
      "        If *format* is not set, then the output format is inferred from\n",
      "        the extension of *fname*, if any, and from :rc:`savefig.format`\n",
      "        otherwise.  If *format* is set, it determines the output format.\n",
      "    \n",
      "        Hence, if *fname* is not a path or has no extension, remember to\n",
      "        specify *format* to ensure that the correct backend is used.\n",
      "    \n",
      "    Other Parameters\n",
      "    ----------------\n",
      "    \n",
      "    dpi : [ *None* | scalar > 0 | 'figure' ]\n",
      "        The resolution in dots per inch.  If *None*, defaults to\n",
      "        :rc:`savefig.dpi`.  If 'figure', uses the figure's dpi value.\n",
      "    \n",
      "    quality : [ *None* | 1 <= scalar <= 100 ]\n",
      "        The image quality, on a scale from 1 (worst) to 95 (best).\n",
      "        Applicable only if *format* is jpg or jpeg, ignored otherwise.\n",
      "        If *None*, defaults to :rc:`savefig.jpeg_quality` (95 by default).\n",
      "        Values above 95 should be avoided; 100 completely disables the\n",
      "        JPEG quantization stage.\n",
      "    \n",
      "    optimize : bool\n",
      "        If *True*, indicates that the JPEG encoder should make an extra\n",
      "        pass over the image in order to select optimal encoder settings.\n",
      "        Applicable only if *format* is jpg or jpeg, ignored otherwise.\n",
      "        Is *False* by default.\n",
      "    \n",
      "    progressive : bool\n",
      "        If *True*, indicates that this image should be stored as a\n",
      "        progressive JPEG file. Applicable only if *format* is jpg or\n",
      "        jpeg, ignored otherwise. Is *False* by default.\n",
      "    \n",
      "    facecolor : color spec or None, optional\n",
      "        The facecolor of the figure; if *None*, defaults to\n",
      "        :rc:`savefig.facecolor`.\n",
      "    \n",
      "    edgecolor : color spec or None, optional\n",
      "        The edgecolor of the figure; if *None*, defaults to\n",
      "        :rc:`savefig.edgecolor`\n",
      "    \n",
      "    orientation : {'landscape', 'portrait'}\n",
      "        Currently only supported by the postscript backend.\n",
      "    \n",
      "    papertype : str\n",
      "        One of 'letter', 'legal', 'executive', 'ledger', 'a0' through\n",
      "        'a10', 'b0' through 'b10'. Only supported for postscript\n",
      "        output.\n",
      "    \n",
      "    format : str\n",
      "        The file format, e.g. 'png', 'pdf', 'svg', ... The behavior when\n",
      "        this is unset is documented under *fname*.\n",
      "    \n",
      "    transparent : bool\n",
      "        If *True*, the axes patches will all be transparent; the\n",
      "        figure patch will also be transparent unless facecolor\n",
      "        and/or edgecolor are specified via kwargs.\n",
      "        This is useful, for example, for displaying\n",
      "        a plot on top of a colored background on a web page.  The\n",
      "        transparency of these patches will be restored to their\n",
      "        original values upon exit of this function.\n",
      "    \n",
      "    bbox_inches : str or `~matplotlib.transforms.Bbox`, optional\n",
      "        Bbox in inches. Only the given portion of the figure is\n",
      "        saved. If 'tight', try to figure out the tight bbox of\n",
      "        the figure. If None, use savefig.bbox\n",
      "    \n",
      "    pad_inches : scalar, optional\n",
      "        Amount of padding around the figure when bbox_inches is\n",
      "        'tight'. If None, use savefig.pad_inches\n",
      "    \n",
      "    bbox_extra_artists : list of `~matplotlib.artist.Artist`, optional\n",
      "        A list of extra artists that will be considered when the\n",
      "        tight bbox is calculated.\n",
      "    \n",
      "    metadata : dict, optional\n",
      "        Key/value pairs to store in the image metadata. The supported keys\n",
      "        and defaults depend on the image format and backend:\n",
      "    \n",
      "        - 'png' with Agg backend: See the parameter ``metadata`` of\n",
      "          `~.FigureCanvasAgg.print_png`.\n",
      "        - 'pdf' with pdf backend: See the parameter ``metadata`` of\n",
      "          `~.backend_pdf.PdfPages`.\n",
      "        - 'eps' and 'ps' with PS backend: Only 'Creator' is supported.\n",
      "    \n",
      "    pil_kwargs : dict, optional\n",
      "        Additional keyword arguments that are passed to `PIL.Image.save`\n",
      "        when saving the figure.  Only applicable for formats that are saved\n",
      "        using Pillow, i.e. JPEG, TIFF, and (if the keyword is set to a\n",
      "        non-None value) PNG.\n",
      "\n"
     ]
    }
   ],
   "source": [
    "help(plt.savefig)"
   ]
  },
  {
   "cell_type": "markdown",
   "metadata": {},
   "source": [
    "![lixo](lixo.svg)"
   ]
  },
  {
   "cell_type": "code",
   "execution_count": 30,
   "metadata": {
    "ExecuteTime": {
     "end_time": "2019-08-14T13:28:25.542176Z",
     "start_time": "2019-08-14T13:28:25.206745Z"
    }
   },
   "outputs": [
    {
     "data": {
      "image/png": "[encoded data removed]",
      "text/plain": [
       "<Figure size 720x360 with 1 Axes>"
      ]
     },
     "metadata": {
      "needs_background": "light"
     },
     "output_type": "display_data"
    }
   ],
   "source": [
    "grafico(f,2,4.0,0.1)"
   ]
  },
  {
   "cell_type": "markdown",
   "metadata": {},
   "source": [
    "## Método da bisseção\n",
    "\n",
    "O método da bisseção foi um dos primeiros métodos para achar raízes de funções \"complicadas\".\n",
    "Ele é bastante simples, e esta simplicidade é também o seu poder.\n",
    "\n",
    "Suponha que $f$ seja uma função contínua, e que $f(a)$ e $f(b)$ tenham sinais opostos.\n",
    "O **Teorema do valor intermediário** garante que existe uma raiz de $f$ no segmento $[a,b]$.\n",
    "Mais ainda, a _prova_ deste teorema é construtiva e nos dá um algoritmo para achar esta raiz:\n",
    "\n",
    "- Considere $m = (a+b)/2$ o ponto médio de $[a,b]$, e calcule $f(m)$.\n",
    "- Pode ser (com muita sorte) que $f(m) = 0$. Neste caso, acabou.\n",
    "- Senão, $f(m)$ será positivo ou negativo, e como $f(a)$ e $f(b)$ têm sinais contrários, então\n",
    "    - ou $f(a)$ e $f(m)$ têm sinais contrários\n",
    "    - ou $f(b)$ e $f(m)$ têm sinais contrários\n",
    "- Assim, podemos continuar buscando uma raíz na metade \"certa\" do intervalo original."
   ]
  },
  {
   "cell_type": "code",
   "execution_count": 31,
   "metadata": {
    "ExecuteTime": {
     "end_time": "2019-08-14T13:32:49.442928Z",
     "start_time": "2019-08-14T13:32:49.432471Z"
    }
   },
   "outputs": [
    {
     "data": {
      "text/plain": [
       "(2.833147894591093, 28)"
      ]
     },
     "execution_count": 31,
     "metadata": {},
     "output_type": "execute_result"
    }
   ],
   "source": [
    "def Bissecao(f, a, b, nmax, prec):\n",
    "    \"\"\" Método da bisseção para uma função f no intervalo [a,b]. \"\"\"\n",
    "    # Verificar se no intervalo dado há uma raiz\n",
    "    fa = f(a)\n",
    "    fb = f(b)\n",
    "    if fa*fb > 0.0 : \n",
    "        return print(\"Não há raiz no intervalo\")\n",
    "    else: \n",
    "        m =(a+b)/2.0\n",
    "        fm = f(m)\n",
    "        d = b - a\n",
    "        cont = 0\n",
    "        while (abs(d) > prec ) and (cont < nmax) :\n",
    "            cont = cont + 1\n",
    "            if fa * fm < 0:\n",
    "                b = m\n",
    "                m =(a + b)/2\n",
    "                fm =f(m)\n",
    "                d = b - a\n",
    "            else:\n",
    "                a = m\n",
    "                m =(a + b)/2\n",
    "                fm =f(m)\n",
    "                d = b - a\n",
    "        return m, cont\n",
    "\n",
    "Bissecao(f, 2, 4, 100, 1.0e-8)"
   ]
  },
  {
   "cell_type": "code",
   "execution_count": null,
   "metadata": {},
   "outputs": [],
   "source": [
    "def Bissecao1(f, a, b, nmax, prec):\n",
    "    \"\"\" Método da bisseção para encontrar a raiz de uma função f no intervalo [a,b]. \"\"\"\n",
    "    # Verificar se no intervalo dado há uma raiz\n",
    "    fa = f(a)\n",
    "    fb = f(b)\n",
    "    if fa*fb > 0.0 : \n",
    "        return print(\"Não há raiz no intervalo\")\n",
    "    else: \n",
    "        m =(a+b)/2.0\n",
    "        fm = f(m)\n",
    "        d = b - a\n",
    "        cont = 0\n",
    "        while (abs(d) > prec ):\n",
    "            cont = cont + 1\n",
    "            if (cont > nmax) : return print(\"Não achamos uma raiz nas iterações dadas\") \n",
    "            if fa * fm < 0:\n",
    "                b = m\n",
    "                m =(a + b)/2\n",
    "                fm =f(m)\n",
    "                d = b - a\n",
    "            else:\n",
    "                a = m\n",
    "                m =(a + b)/2\n",
    "                fm =f(m)\n",
    "                d = b - a\n",
    "        return m, cont\n",
    "\n",
    "Bissecao1(f, 2, 4, 30, 1.0e-8)"
   ]
  },
  {
   "cell_type": "markdown",
   "metadata": {},
   "source": [
    "## Implementando a bisseção\n",
    "\n",
    "Como vamos usar um computador, temos que levar em consideração que:\n",
    "\n",
    "- As contas no computador podem não dar zero para uma raiz, por erro de precisão;\n",
    "- E mesmo assim, em geral este método nunca termina, pois só obtemos a raiz pelo limite dos intervalos encaixados.\n",
    "\n",
    "Portanto, e de forma bastante razoável, temos que limitar as nossas espectativas.\n",
    "Uma forma interessante é pedir que a raiz seja calculada com uma certa precisão, digamos $10^{-6}$.\n",
    "Neste caso, nós podemos **garantir** que esta precisão será atingida,\n",
    "e portanto a resposta que o nosso método fornece não é apenas \"um chute\", mas ela é **certificada** pelo erro que a acompanha."
   ]
  },
  {
   "cell_type": "code",
   "execution_count": 32,
   "metadata": {
    "ExecuteTime": {
     "end_time": "2019-08-14T13:34:15.374246Z",
     "start_time": "2019-08-14T13:34:15.369774Z"
    }
   },
   "outputs": [],
   "source": [
    "def bissecao(f,a,b,prec):\n",
    "    \"\"\" Método da bisseção para encontrar a raiz de uma função f no intervalo [a,b]\n",
    "    recursivamente . \"\"\"\n",
    "    m = (a+b)/2\n",
    "    # Se já há precisão suficiente, retornamos o ponto médio do intervalo\n",
    "    if abs(b - a) < prec: return m\n",
    "    # Se f(m) == 0, achamos uma raiz exata!\n",
    "    if f(m) == 0 : return m   # Numca fazer essa comparação\n",
    "\n",
    "    # Senão, vamos por recorrência\n",
    "    if f(m)*f(a) < 0: return bissecao(f,a,m,prec)\n",
    "    else: return bissecao(f,m,b,prec)"
   ]
  },
  {
   "cell_type": "code",
   "execution_count": 33,
   "metadata": {
    "ExecuteTime": {
     "end_time": "2019-08-14T13:34:18.177569Z",
     "start_time": "2019-08-14T13:34:18.170574Z"
    }
   },
   "outputs": [
    {
     "name": "stdout",
     "output_type": "stream",
     "text": [
      "Help on function bissecao in module __main__:\n",
      "\n",
      "bissecao(f, a, b, prec)\n",
      "    Método da bisseção para encontrar a raiz de uma função f no intervalo [a,b]\n",
      "    recursivamente .\n",
      "\n"
     ]
    }
   ],
   "source": [
    "help(bissecao)"
   ]
  },
  {
   "cell_type": "code",
   "execution_count": 34,
   "metadata": {
    "ExecuteTime": {
     "end_time": "2019-08-14T13:34:20.686510Z",
     "start_time": "2019-08-14T13:34:20.680309Z"
    }
   },
   "outputs": [
    {
     "data": {
      "text/plain": [
       "0.20448145270347595"
      ]
     },
     "execution_count": 34,
     "metadata": {},
     "output_type": "execute_result"
    }
   ],
   "source": [
    "bissecao(f,0.0, 0.5,0.0000001)"
   ]
  },
  {
   "cell_type": "code",
   "execution_count": 35,
   "metadata": {
    "ExecuteTime": {
     "end_time": "2019-08-14T13:34:27.432403Z",
     "start_time": "2019-08-14T13:34:27.428391Z"
    }
   },
   "outputs": [
    {
     "data": {
      "text/plain": [
       "2.8331479132175446"
      ]
     },
     "execution_count": 35,
     "metadata": {},
     "output_type": "execute_result"
    }
   ],
   "source": [
    "bissecao(f,2.0, 3.0,0.0000001)"
   ]
  },
  {
   "cell_type": "code",
   "execution_count": 36,
   "metadata": {
    "ExecuteTime": {
     "end_time": "2019-08-14T13:34:31.832958Z",
     "start_time": "2019-08-14T13:34:31.828360Z"
    }
   },
   "outputs": [
    {
     "data": {
      "text/plain": [
       "2.328266788254041e-07"
      ]
     },
     "execution_count": 36,
     "metadata": {},
     "output_type": "execute_result"
    }
   ],
   "source": [
    "f(_) # aqui _ significa o resultado da última saída"
   ]
  },
  {
   "cell_type": "code",
   "execution_count": null,
   "metadata": {},
   "outputs": [],
   "source": [
    "x0 = -10\n",
    "xf = 10\n",
    "dx = 0.5\n",
    "x = x0\n",
    "while x <= xf :\n",
    "    fa = f(x)\n",
    "    fb = f(x+dx)\n",
    "    if fa * fb < 0:\n",
    "        print(\"Há uma raiz no intervalo\",x, x+dx)\n",
    "        raiz = bissecao(f,x,x+dx,1.0e-6)\n",
    "        print(\"A raiz é: \", raiz)\n",
    "    x = x+dx"
   ]
  },
  {
   "cell_type": "markdown",
   "metadata": {},
   "source": [
    "## Teste\n",
    "\n",
    "Uma das tarefas mais importantes ao se escrever um programa é ter certeza de que ele funciona corretamente.\n",
    "Pode-se fazer isso de duas formas bastante complementares:\n",
    "\n",
    "- Testando uma quantidade de casos interessantes e conhecidos.\n",
    "- Provando (formalmente) que certas partes sempre irão dar o resultado correto.\n",
    "\n",
    "A primeira maneira é mais simples, e já é capaz de nos dar uma certa confiança na qualidade do nosso programa.\n",
    "A segunda requer uma formalização maior do problema original e da nossa linguagem de programação.\n",
    "Vamos tentar desenvolver as duas em paralelo.\n",
    "\n",
    "Um exemplo de teste: o cosseno tem uma raiz, $\\pi/2$, no intervalo [0,3]."
   ]
  },
  {
   "cell_type": "code",
   "execution_count": null,
   "metadata": {},
   "outputs": [],
   "source": [
    "from math import cos\n",
    "bissecao(cos,0,3, 1e-6)"
   ]
  },
  {
   "cell_type": "code",
   "execution_count": null,
   "metadata": {},
   "outputs": [],
   "source": [
    "from math import pi\n",
    "pi/2 - _"
   ]
  },
  {
   "cell_type": "markdown",
   "metadata": {},
   "source": [
    "Nossa função `bissecao` é muito poderosa: ela aplica o método da bisseção a qualquer função que você possa programar em Python!\n",
    "Por exemplo:"
   ]
  },
  {
   "cell_type": "code",
   "execution_count": 37,
   "metadata": {
    "ExecuteTime": {
     "end_time": "2019-08-14T13:35:02.606599Z",
     "start_time": "2019-08-14T13:35:02.603788Z"
    }
   },
   "outputs": [],
   "source": [
    "def Quad2(x):\n",
    "    return 2**x - x**2"
   ]
  },
  {
   "cell_type": "markdown",
   "metadata": {},
   "source": [
    "Vamos definir uma função que faz o gráfico da função passada no intervalo desejado."
   ]
  },
  {
   "cell_type": "code",
   "execution_count": 38,
   "metadata": {
    "ExecuteTime": {
     "end_time": "2019-08-14T13:35:06.635983Z",
     "start_time": "2019-08-14T13:35:06.333665Z"
    }
   },
   "outputs": [
    {
     "data": {
      "image/png": "[encoded data removed]",
      "text/plain": [
       "<Figure size 720x360 with 1 Axes>"
      ]
     },
     "metadata": {
      "needs_background": "light"
     },
     "output_type": "display_data"
    }
   ],
   "source": [
    "grafico(Quad2,-2,3,0.01)"
   ]
  },
  {
   "cell_type": "code",
   "execution_count": null,
   "metadata": {},
   "outputs": [],
   "source": [
    "bissecao(Quad2, -1, 0, 1e-6)"
   ]
  },
  {
   "cell_type": "code",
   "execution_count": null,
   "metadata": {},
   "outputs": [],
   "source": [
    "bissecao(Quad2, 1.5, 2.5, 1e-6)"
   ]
  },
  {
   "cell_type": "code",
   "execution_count": 39,
   "metadata": {
    "ExecuteTime": {
     "end_time": "2019-08-14T13:35:24.708888Z",
     "start_time": "2019-08-14T13:35:24.357263Z"
    }
   },
   "outputs": [
    {
     "data": {
      "image/png": "[encoded data removed]",
      "text/plain": [
       "<Figure size 720x360 with 1 Axes>"
      ]
     },
     "metadata": {
      "needs_background": "light"
     },
     "output_type": "display_data"
    }
   ],
   "source": [
    "def f1(x):\n",
    "    return  x*np.log(x*x+1) -1\n",
    "\n",
    "grafico(f1,-1,3,0.01)"
   ]
  },
  {
   "cell_type": "markdown",
   "metadata": {},
   "source": [
    "# Uma digressão sobre nomenclatura\n",
    "\n",
    "Vamos, ao longo do curso, tratar de funções de dois tipos:\n",
    "- As funções matemáticas, como seno, exponencial, polinômios, etc.\n",
    "- As funções do seu programa em Python.\n",
    "\n",
    "O simples fato de os nomes serem os mesmos já pode levar a confusão.\n",
    "Mas, principalmente, a maior parte das funções-programas que nós veremos durante o curso irão trabalhar com funções-contas.\n",
    "Assim, à imagem do método da bisseção, teremos muitas vezes funções da forma\n",
    "\n",
    "``` def metodoX(f, a, b, c, ...):\n",
    "    contas...\n",
    "    contas...\n",
    "    return\n",
    "```\n",
    "\n",
    "que irá aplicar o método X à função `f`, uma função-programa que _calcula_ a função matemática muitas vezes também chamada $f$.\n",
    "\n",
    "Para tentar diminuir a ambigüidade, sempre que necessário iremos usar uma palavra computacional, tal como\n",
    "\n",
    "- procedimento, método, rotina, algoritmo\n",
    "\n",
    "para indicar que se trata de um programa em Python, e iremos reservar a palavra função (às vezes incrementada do adjetivo \"matemática\") para as funções abstratas da Matemática."
   ]
  },
  {
   "cell_type": "markdown",
   "metadata": {},
   "source": [
    "Antes de continuar testando, vamos tentar provar que o nosso programa está certo.\n",
    "\n",
    "- A hipótese básica sobre a aritmética do computador é que ele sempre retorna \"o número representável mais próximo do valor real da conta\". Ou seja, se tivermos números $a$ e $b$ e pedirmos para o computador calcular `c = a+b`, ele retornará o número que \"ele conhece\" que está mais próximo de $a+b$.\n",
    "- No caso de \"empate\", ou seja, haver dois números `x` e `y = next_real(x)` que são equidistantes do resultado $a+b$, o computador pode retornar `x` ou `y`.\n",
    "\n",
    "Apenas com isso, não podemos ainda garantir que o nosso programa está correto. Quais outras hipóteses você precisa adicionar para garantir o bom funcionamento do seu algoritmo?"
   ]
  },
  {
   "cell_type": "code",
   "execution_count": null,
   "metadata": {},
   "outputs": [],
   "source": []
  }
 ],
 "metadata": {
  "finalized": {
   "timestamp": 1575381806624,
   "trusted": false
  },
  "kernelspec": {
   "display_name": "Python 3",
   "language": "python",
   "name": "python3"
  },
  "language_info": {
   "codemirror_mode": {
    "name": "ipython",
    "version": 3
   },
   "file_extension": ".py",
   "mimetype": "text/x-python",
   "name": "python",
   "nbconvert_exporter": "python",
   "pygments_lexer": "ipython3",
   "version": "3.6.9"
  },
  "latex_envs": {
   "LaTeX_envs_menu_present": true,
   "autoclose": false,
   "autocomplete": true,
   "bibliofile": "biblio.bib",
   "cite_by": "apalike",
   "current_citInitial": 1,
   "eqLabelWithNumbers": true,
   "eqNumInitial": 1,
   "hotkeys": {
    "equation": "Ctrl-E",
    "itemize": "Ctrl-I"
   },
   "labels_anchors": false,
   "latex_user_defs": false,
   "report_style_numbering": false,
   "user_envs_cfg": false
  },
  "nbTranslate": {
   "displayLangs": [
    "pt",
    "en"
   ],
   "hotkey": "alt-t",
   "langInMainMenu": true,
   "sourceLang": "en",
   "targetLang": "pt",
   "useGoogleTranslate": true
  },
  "toc": {
   "base_numbering": 1,
   "nav_menu": {},
   "number_sections": true,
   "sideBar": true,
   "skip_h1_title": false,
   "title_cell": "Table of Contents",
   "title_sidebar": "Contents",
   "toc_cell": false,
   "toc_position": {},
   "toc_section_display": "block",
   "toc_window_display": false
  },
  "varInspector": {
   "cols": {
    "lenName": 16,
    "lenType": 16,
    "lenVar": 40
   },
   "kernels_config": {
    "python": {
     "delete_cmd_postfix": "",
     "delete_cmd_prefix": "del ",
     "library": "var_list.py",
     "varRefreshCmd": "print(var_dic_list())"
    },
    "r": {
     "delete_cmd_postfix": ") ",
     "delete_cmd_prefix": "rm(",
     "library": "var_list.r",
     "varRefreshCmd": "cat(var_dic_list()) "
    }
   },
   "types_to_exclude": [
    "module",
    "function",
    "builtin_function_or_method",
    "instance",
    "_Feature"
   ],
   "window_display": false
  }
 },
 "nbformat": 4,
 "nbformat_minor": 1
}
