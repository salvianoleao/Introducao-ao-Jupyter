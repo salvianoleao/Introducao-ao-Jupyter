{
 "cells": [
  {
   "cell_type": "markdown",
   "metadata": {},
   "source": [
    "#  Python e o Jupyter/IPython Notebook\n",
    "\n",
    "\n",
    "## Contéudo\n",
    "\n",
    "- [Porque Python](#Porque-Python)\n",
    "  - [Documentação](#Documentação)\n",
    "  - [O projeto Jupyter/IPython](#O-projeto-Jupyter/IPython)\n",
    "- [O que você precisa instalar](#O-que-você-precisa-instalar)\n",
    "- [Instalando o Jupyter Notebook](#Instalando-o-Jupyter-Notebook)\n",
    "- [Pré-requisito: Python](#Prerequisito)\n",
    "- [Instalando o Jupyter Notebook usando o Anaconda e conda](#Anaconda)\n",
    "- [Usuários Linux: Instalar o Jupyter com o pip](#pip)\n",
    "- [Verificando Minha Instalação](#Verificando-Minha-Instalação)\n",
    "- [IPython](#IPython)\n",
    "  * [A saída é assíncrona](#A-saída-é-assíncrona)\n",
    "  * [Introspecção](#Introspecção)\n",
    "  * [Completar com Tab](#Completar-com-Tab)\n",
    "  * [Comandos do sistema](#Comandos-do-sistema)\n",
    "  * [Console  Qt](#Console -Qt)\n",
    "- [Jupyter Notebook](#Jupyter-Notebook)\n",
    "  * [Código Remoto](#Código-Remoto)\n",
    "  * [Suporte ao Mathjax](#Suporte-ao-Mathjax)\n",
    "  * [Suporte SymPy](#Suporte-SymPy)\n",
    "  * [Funções mágicas](#Funções-mágicas)\n",
    "  * [LaTeX](#LaTeX)\n",
    "  * [A biblioteca matplotlib2tikz](#A-biblioteca-matplotlib2tikz)\n",
    "  * [Javascript](#Javascript)\n",
    "- [Instalando o kernel do C](#Instalando-o-kernel-do-C)\n",
    "- [Instalando os kernels do Gnuplot e do Scilab](#Instalando-os-kernels-do-Gnuplot-e-do-Scilab)\n",
    "- [Exportando e Convertendo Notebooks](#Exportando-e-Convertendo-Notebooks)\n",
    "- [Pesquisa Reproduzível](#Pesquisa Reproduzível)\n",
    "- [IPython paralelo](#IPython paralelo)\n",
    "- [Células Markdown](#Células-Markdown)\n",
    "- [Links e Referências](#Links-e-Referências)\n",
    "\n",
    "\n",
    "## Porque Python\n",
    "\n",
    "Python é a linguagem de programação de escolha para muitos cientistas em grande medida porque oferece um grande  poder para analisar e modelar dados científicos com relativamente pouca sobrecarga em termos de aprendizagem, instalação ou tempo de desenvolvimento. É uma linguagem que você pode aprender o básico em um fim de semana, e usa-lá pelo resto de sua vida.\n",
    "\n",
    "### Documentação \n",
    "\n",
    "O Python é uma linguagem muito bem documentada e há muitas opções em português: \n",
    "\n",
    "- [Python](https://www.python.org/) página oficial. Aqui ele disponibiliza um shell iterativo no qual voê pode rodar seu códgio sem precisar instalar ele em sua máquina.\n",
    "- [Python Brasil](http://wiki.python.org.br/PythonBrasil)\n",
    "- [Aulas de Introdução à Computação em Python](https://panda.ime.usp.br/aulasPython/static/aulasPython/index.html)\n",
    "- [O livro \"Python para desenvolvedores\"](https://ark4n.wordpress.com/)\n",
    "- [Como Pensar Como um Cientista da Computação](https://panda.ime.usp.br/pensepy/static/pensepy/index.html)\n",
    "- O livro \"Think Python How to Think Like a Computer Scientist\", pode ser baixado aqui [versão em PDF](http://www.greenteapress.com/thinkpython/thinkpython.pdf )\n",
    "- O livro [A byte of Python](https://www.gitbook.com/book/swaroopch/byte-of-python/details) foi traduzido pelo [Rodrigo Amaral](https://ramaral.wordpress.com/2012/08/05/e-book-do-livro-a-byte-of-python-em-portugues/).\n",
    "- O [Python Tutorial](http://docs.python.org/3/tutorial/) é um ótimo lugar para começar a ter uma idéia da linguagem.\n",
    "- [Aprendendo a Programar](http://www.alan-g.me.uk/tutor/port/). Note entretanto que ela usa a versão 2.7 do Python\n",
    "- [The Runestone Interactive tools](http://runestoneinteractive.org/library.html)\n",
    "\n",
    "\n",
    "\n",
    "## O projeto IPython/Jupyter\n",
    "\n",
    "De acordo com o [site do projeto](http://ipython.org/), o IPython/Jupyter é uma aplicação de código aberto (BSD license) que permite criar e compartilhar documentos que contenham um código iterativo, equações e formulas matemáticas renderizadas pelo LaTeX, visualizações de imagens (via scikit) e gráficos (matplotlib) e textos explicativos. Atualmente o Jupyter notebook é um dos principais ambientes para a análise de dados, onde você pode usar não apenas Python, mas várias outras linguagens como você pode ver aqui.\n",
    "\n",
    "O [IPython](http://ipython.org) fornece uma arquitetura rica para uma computação iterativa com:\n",
    "- Um poderoso shell iterativo.\n",
    "- Um kernel para o [Jupyter](https://jupyter.org/).\n",
    "- Um suporte para visualização de dados iterativa e o use de [GUI toolkits](http://ipython.org/ipython-doc/stable/interactive/reference.html#gui-event-loop-support).\n",
    "- etc.\n",
    "\n",
    "O [IPython](http://ipython.org) é um projeto crescente que foi adicionando diversas linguagens o que se tornou o seu conjunto de linguagens componentes. O IPython 3.x foi o último lançamento monolítico do IPython, contendo o servidor notebook, qtconsole, etc. A partir do IPython 4.0, as partes contendo as diversas linguagens do projeto: o formato do notebook, o protocolo da mensagem, o qtconsole, a aplicação web do notebook, etc. mudaram-se para novos projetos sob o nome de [Jupyter](https://jupyter.org/). O IPython ficou focado somente no Python interativo, parte do qual está fornecendo um kernel Python para o Jupyter.\n",
    "\n",
    "Atualmente no [GitHub](https://github.com/) em uma pesquisa rápida pode-se encontrar centenas de notebooks, pois há uma comunidade de usuários muito grande, os quais estão dipostos a compartilhar seu trabalho. Um grande número de pessoas têm disponibilizado muitos Jupyter/IPython Notebooks os quais serviram de apoio na montagem deste. Usei um grande número de material para a construção deste, particularmente destaco os seguintes:\n",
    "\n",
    "\n",
    "* Hans Fangohr [Python for Computational Science and Engineering](http://www.southampton.ac.uk/~fangohr/index.html) Uma execelente página e contém diversos elementos de programção em python e algumas dicas de bibliotecas para cáculo e visualização.\n",
    "* Rob Johansson's [excellent notebooks](http://jrjohansson.github.io/), incluindo [Scientific Computing with Python](https://github.com/jrjohansson/scientific-python-lectures) e [Computational Quantum Physics with QuTiP](https://github.com/jrjohansson/qutip-lectures) lectures;\n",
    "* [XKCD style graphs in matplotlib](http://nbviewer.ipython.org/url/jakevdp.github.com/downloads/notebooks/XKCD_plots.ipynb);\n",
    "* [A collection of Notebooks for using IPython effectively](https://github.com/ipython/ipython/tree/master/examples/notebooks#a-collection-of-notebooks-for-using-ipython-effectively)\n",
    "* [A gallery of interesting IPython Notebooks](https://github.com/ipython/ipython/wiki/A-gallery-of-interesting-IPython-Notebooks)\n",
    "\n",
    "\n",
    "## O que você precisa instalar\n",
    "\n",
    "Existem atualmente duas versões do Python que estão convivendo entre-si: a sintaxe mais antiga Python 2 e a sintaxe mais recente Python 3. Essa esquizofrenia é em grande parte intencional: quando ficou claro que algumas mudanças não compatíveis com a linguagem eram necessárias, a Python dev-team decidiu passar por uma transição de cinco anos (ou assim), durante o qual os novos recursos de linguagem seria introduzida e a versão 2 da linguagem ainda seria ativamente mantida, para fazer essa transição tão fácil quanto possível. \n",
    "\n",
    "Com isso em mente, essas notas assumem que você tem uma distribuição Python que inclui:\n",
    "\n",
    "* [Python](http://www.python.org) versão $\\ge$ 3.5;\n",
    "* [Numpy](http://www.numpy.org), o núcleo de extensões numéricas para álgebra linear e arrays multidimensionais;\n",
    "* [Scipy](http://www.scipy.org), bibliotecas adicionais para programação científica;\n",
    "* [Matplotlib](http://matplotlib.sf.net), excelente traçado e bibliotecas de gráficos;\n",
    "* [Pandas](http://pandas.pydata.org/), é uma biblioteca de código aberto (BSD-licensed), fácil de usar na análise  e estruturas de dados, para a lingugem python.\n",
    "  - [StatsModels](http://www.statsmodels.org/stable/index.html) é um módulo Python que fornece classes e funções para estimativas de muitos modelos estatísticos diferentes, assim como testes estatíscticos e exploração estatística de dados.\n",
    "  - [scikit-learn](http://scikit-learn.org/stable/) é uma ferramente simples e eficiente para mineração e análise de dados em Python. \n",
    "* [Jupyter/IPython](http://ipython.org), com as bibliotecas adicionais necessárias para a interface do notebook. O projeto do IPythone evolui e agor é chamado de [Jupyter](http://jupyter.org)"
   ]
  },
  {
   "cell_type": "markdown",
   "metadata": {},
   "source": [
    "## Instalação do Jupyter Notebook/JupyterLab\n",
    "\n",
    "Para os usuários menos experientes, a página de documentação do [Jupyter Notebook](http://jupyter.org/) recomenda que se faça uso da distribuição [Anaconda](https://www.continuum.io/) para instalar o Python e o Jupyter, por ser fácil de instalar em qualquer que seja seu sistema operacional. Uma outra boa opção que também é fácil de instalar e que  suporta Mac, Windows e Linux, e que tem todos esses pacotes (e muito mais) é a [Entought Python Distribution](https://www.enthought.com/products/epd), também conhecido como EPD, que parece estar mudando seu nome para Enthought Canopy. Enthought é uma empresa comercial que suporta um monte de muito bom trabalho em desenvolvimento e aplicação científica Python. Você pode adquirir uma licença para usar EPD, ou há também uma [versão gratuita](https://www.enthought.com/products/epd/free/) que você pode baixar e instalar. \n",
    "\n",
    "A seguir descrevemos como instalar o jupyter."
   ]
  },
  {
   "cell_type": "markdown",
   "metadata": {},
   "source": [
    "### Via o Anaconda e conda <a name=\"Anaconda\"></a>\n",
    "\n",
    "Para os usuários menos experientes, a página de documentação do [Jupyter Notebook](http://jupyter.org/) recomenda que se faça uso da distribuição [Anaconda](https://www.continuum.io/) para instalar o Python e o Jupyter, por ser fácil de instalar em qualquer que seja seu sistema operacional. Ela instala todas as bibliotecas essenciais.\n",
    "\n",
    "Os usuários de outros sistemas operacionais e também do linux podem optar por uma distribuição do python e suas bibliotecas chamada  [Anaconda](https://www.continuum.io/). A página oficial do Jupyter Notebook recomenda, que se instale o [Anaconda](https://www.continuum.io/downloads). Isso deve-se ao fato de que o [Anaconda](https://www.continuum.io/) convenientemente instala Python, o [Jupyter Notebook](http://jupyter.org/), e outros pacotes comumente usados para computação científica e nas ciências de análise de dados.\n",
    "\n",
    "\n",
    "Use as seguintes etapas de instalação:\n",
    "\n",
    "- Faça o download do Anaconda. Recomenda-se que você baixe a última versão do Python 3 da Anaconda (atualmente Python 3.7).\n",
    "- Instale a versão do Anaconda que você baixou, seguindo as instruções na página de download.\n",
    "- Ao término da etapa anterior, você terá instalado o Jupyter Notebook. Para executar o notebook, digite na linha de comando:\n",
    "\n",
    "```bash\n",
    "> jupyter-notebook\n",
    "```\n",
    "\n",
    "Para abrir o navegador do anaconda digite na linha de comando\n",
    "\n",
    "```bash\n",
    "> anaconda-navigator\n",
    "```\n",
    "\n",
    "O Repositório do anaconda não é muito completo portanto é necessário adicionar o conda-forge, para isso faça, na linha de comando faça:\n",
    "\n",
    "```bash\n",
    "> conda install -c algum-canal nome-do-pacote\n",
    "```\n",
    "\n",
    "Aqui temos alguns sites que detalham como instalar o anaconda\n",
    "\n",
    "- [Como instalar o anaconda](https://programandociencia.com/2015/08/07/instalando-o-anaconda/)\n",
    "- [Como instalar Python e Jupyter Notebook usando Anaconda](https://paulovasconcellos.com.br/como-baixar-anaconda-31fd49c19bd8)\n",
    "- [How to install anaconda on ubuntu 16.04](https://www.digitalocean.com/community/tutorials/how-to-install-the-anaconda-python-distribution-on-ubuntu-16-04)\n",
    "\n",
    "O repositório `conda-forge` é um canal adicional a partir do qual os pacotes do python podem ser instalados via o `conda`. Neste sentido, não é mais especial que o canal padrão, ou qualquer uma das outras centenas (milhares?) De canais para os quais as pessoas postaram pacotes. Você pode adicionar seu próprio canal se você se inscrever em https://anaconda.org e carregar seus próprios pacotes conda.\n",
    "\n",
    "\n",
    "Há duas maneiras de alterar as opções de canais, o  repositório de pacotes python do `conda`. Uma delas é especificar um canal toda vez que você instalar um pacote:\n",
    "\n",
    "```bash\n",
    "conda install -c algum-canal nome-do-pacote\n",
    "```\n",
    "\n",
    "Claro, o pacote tem que existir nesse canal. Se você estiver usando o mesmo canal com frequência, convém adicioná-lo à sua configuração. Você pode escrever\n",
    "\n",
    "```bash\n",
    "conda config --add channels algum-canal\n",
    "```\n",
    "\n",
    "para adicionar o canal `algum-canal` ao topo da lista de configuração `channels`. Isso dá a `algum-canal` a mais alta prioridade (a prioridade determina ([em parte](http://conda.pydata.org/docs/channels.html)) qual canal é selecionado quando mais de um canal tem um pacote em particular). Para adicionar o canal ao final da lista e dar a menor prioridade, digite\n",
    "\n",
    "```bash\n",
    "conda config --append channels algum-canal\n",
    "```\n",
    "\n",
    "Se você gostaria de remover o canal que você adicionou, você pode fazê-lo escrevendo\n",
    "\n",
    "```bash\n",
    "conda config --remove channels algum-canal\n",
    "```\n",
    "\n",
    "Vejo\n",
    "\n",
    "```bash\n",
    "conda config -h\n",
    "```\n",
    "\n",
    "para mais opções.\n",
    "\n",
    "Com tudo isso dito, existem quatro razões principais para usar o canal `conda-forge` em vez do canal` defaults` mantido pelo Anaconda:\n",
    "\n",
    "1. Pacotes em `conda-forge` *podem ser* mais atualizados que os do canal `defaults`\n",
    "1. Existem pacotes no canal `conda-forge` que não estão disponíveis em `defaults`\n",
    "\n",
    "No caso do `conda-forge`a sugestão é: \n",
    "\n",
    "\n",
    "```bash\n",
    "conda config --append channels conda-forge\n",
    "```"
   ]
  },
  {
   "cell_type": "markdown",
   "metadata": {},
   "source": [
    "# Usuários experientes: Instalando o Jupyter Notebook \n",
    "\n",
    "A seguir será explicado como instalar o Jupyter Notebook e o kernel do IPython em uma máquina Linux baseada no [Debian](http://www.debian.org/), como [Debian](http://www.debian.org/), [Ubuntu](https://www.ubuntu.com/), [LinuxMint](https://linuxmint.com/), etc.\n",
    "\n",
    "\n",
    "## Pré-requisito: Python <a name=\"Prerequisito\"></a>\n",
    "\n",
    "O IPython/Jupyter executa códigos de muitas linguagens de programação, entretanto, o Python é um requisito necessário (Python 3.5 ou superior, ou Python 2.7) para instalar o Jupyter Notebook. Nas distribuições GNU/Linux baseadas no Debian, assim como o Ubuntu e familia, o Linux Mint, etc, a instalação dos seguintes pacotes é essencial para o desenvolvimento do curso:\n",
    "\n",
    "```bash\n",
    "sudo apt-get update\n",
    "sudo apt-get install -y python3 python3-all python3-pip python3-setuptools python3-markdown \n",
    "sudo apt-get install -y ipython3 ipython3-notebook ipython3-qtconsole python3-all-dev \n",
    "sudo apt-get install -y pandoc pandoc-data python3-pandocfilters python3-sphinx\n",
    "```\n",
    "\n",
    "Eu também gosto de instalar a documentação, exemplos e os pacotes para debugs:\n",
    "\n",
    "```bash\n",
    "sudo apt-get install -y python3-doc python3-examples python3-all-dbg\n",
    "```\n",
    "\n",
    "Aqui vai um rápida descrição das bibliotecas acima:\n",
    "- *python3-setuptools* é pacote que permite emapcotar/instalar um aplicativo/biblioiteca python\n",
    "- *python3-markdown* é a liguagem usada nos IPython/Jupyter notebooks\n",
    "- *python3-pandocfilters* é uma ligação python direta com o conversor de linguagem de marcação o *pandoc*\n",
    "- *python3-sphinx* é um gerador de documentação para os projetos python, usando textos restruturados com liguagens de marcação.\n",
    "\n",
    "\n",
    "**OBS.:** O IPython/Jupyter podem exportar os notebooks no formato pdf, gerando um artigo elegante, entretanto para tal ele usa o LaTeX, logo para quem deseja usar dessa funcionalidade recomenda-se que instale o texlive no Linux, no sistema operacional Windows recomenda-se o [MikTeX](https://miktex.org/) ou o próprio [TeX LIve](https://www.tug.org/texlive/)."
   ]
  },
  {
   "cell_type": "markdown",
   "metadata": {},
   "source": [
    "## PyPi\n",
    "\n",
    "As duas características mais relevantes do Python são a sua capacidade de integração com outras linguagens e seu sistema de pacote maduro que é bem incorporado pelo PyPI [O Índice do Pacote Python](https://pypi.python.org/pypi), um repositório comum Para a maioria dos pacotes do Python. O pacote *python3-pip* é que nos permite termos acesso a esse repositório. Pois nem todos os pacotes Python possuem uma versão no repositório da sua distribuição Linux. \n",
    "\n",
    "Digitando somente `pip` no terminal, \n",
    "```bash\n",
    "> pip3 \n",
    "Usage:   \n",
    "  pip <command> [options]\n",
    "\n",
    "Commands:\n",
    "  install                     Install packages.\n",
    "  download                    Download packages.\n",
    "  uninstall                   Uninstall packages.\n",
    "  freeze                      Output installed packages in requirements format.\n",
    "  list                        List installed packages.\n",
    "  show                        Show information about installed packages.\n",
    "  check                       Verify installed packages have compatible dependencies.\n",
    "  search                      Search PyPI for packages.\n",
    "  wheel                       Build wheels from your requirements.\n",
    "  hash                        Compute hashes of package archives.\n",
    "  completion                  A helper command used for command completion.\n",
    "  help                        Show help for commands.\n",
    "\n",
    "General Options:\n",
    "  -h, --help                  Show help.\n",
    "  --isolated                  Run pip in an isolated mode, ignoring\n",
    "                              environment variables and user configuration.\n",
    "  -v, --verbose               Give more output. Option is additive, and can be\n",
    "                              used up to 3 times.\n",
    "  -V, --version               Show version and exit.\n",
    "  -q, --quiet                 Give less output. Option is additive, and can be\n",
    "                              used up to 3 times (corresponding to WARNING,\n",
    "                              ERROR, and CRITICAL logging levels).\n",
    "  --log <path>                Path to a verbose appending log.\n",
    "  --proxy <proxy>             Specify a proxy in the form\n",
    "                              [user:passwd@]proxy.server:port.\n",
    "  --retries <retries>         Maximum number of retries each connection should\n",
    "                              attempt (default 5 times).\n",
    "  --timeout <sec>             Set the socket timeout (default 15 seconds).\n",
    "  --exists-action <action>    Default action when a path already exists:\n",
    "                              (s)witch, (i)gnore, (w)ipe, (b)ackup, (a)bort.\n",
    "  --trusted-host <hostname>   Mark this host as trusted, even though it does\n",
    "                              not have valid or any HTTPS.\n",
    "  --cert <path>               Path to alternate CA bundle.\n",
    "  --client-cert <path>        Path to SSL client certificate, a single file\n",
    "                              containing the private key and the certificate\n",
    "                              in PEM format.\n",
    "  --cache-dir <dir>           Store the cache data in <dir>.\n",
    "  --no-cache-dir              Disable the cache.\n",
    "  --disable-pip-version-check\n",
    "                              Don't periodically check PyPI to determine\n",
    "                              whether a new version of pip is available for\n",
    "                              download. Implied with --no-index.\n",
    "```\n",
    "\n",
    "Então por exemplo, para pesquisar o pacote `qutitp`\n",
    "\n",
    "```bash\n",
    "> pip3 search qutip\n",
    "qutip (4.2.0)  - QuTiP: The Quantum Toolbox in Python\n",
    "  INSTALLED: 4.2.0 (latest)\n",
    "```\n",
    "Esse como pode-se ver já está instalado, mas o pacote `statsmodel`\n",
    "\n",
    "```bash\n",
    "> pip3 search statsmodel\n",
    "scikits.statsmodels (0.3.1)  - Statistical computations and models for use with SciPy\n",
    "statsmodels (0.8.0)          - Statistical computations and models for Python\n",
    "```\n",
    "Mostra que há dois pocatoes disponíveis os quais não estão instalados. Para instalar use\n",
    "\n",
    "```bash\n",
    "> sudo -H pip3 install statsmodels\n",
    "```\n",
    "e ele irá instalar o pacote para todos os usuários do sistema, a opção `-H` do sudo. Instalar no sistema é algo perigoso que pode quebrar o seu sistema, pois  os sistemas modernos possuem muita dependência com o python. Muito cuidado com esse tipo de instalação.\n",
    "\n",
    "\n",
    "\n",
    "Agora o comando \n",
    "\n",
    "```bash\n",
    "> pip3 install statsmodels\n",
    "```\n",
    "irá instalar o pacote localmente na área do usuário. \n",
    "\n",
    "\n",
    "**OBS:** Na instalação use a opção `-U` ou `--upgrade` para força todos os pacotes a fazerem um *upgrade* para a versão mais nova. \n",
    "\n",
    "Para desinstalar o pacote `statsmodels` proceda da seguinte forma:\n",
    "```bash\n",
    "> sudo -H pip3 uninstall statsmodels\n",
    "ou\n",
    "> pip3 uninstall statsmodels\n",
    "```\n",
    "\n",
    "Tanto na instalação \n",
    "\n",
    "```bash\n",
    "> sudo -H pip3 install statsmodels\n",
    "ou \n",
    "> pip3 install statsmodels\n",
    "```\n",
    "\n",
    "Para obter informações do pacote use a opção `show` \n",
    "```bash\n",
    "> pip3 show qutip\n",
    "Name: qutip\n",
    "Version: 4.2.0\n",
    "Summary: QuTiP: The Quantum Toolbox in Python\n",
    "Home-page: http://qutip.org\n",
    "Author: Alexander Pitchford, Paul D. Nation, Robert J. Johansson, Chris Granade, Arne Grimsmo\n",
    "Author-email: alex.pitchford@gmail.com, nonhermitian@gmail.com, jrjohansson@gmail.com, cgranade@cgranade.com, arne.grimsmo@gmail.com\n",
    "License: BSD\n",
    "Location: /usr/local/lib/python3.5/dist-packages\n",
    "Requires: numpy, scipy, cython\n",
    "```"
   ]
  },
  {
   "cell_type": "markdown",
   "metadata": {},
   "source": [
    "### Usuários Linux: Instalar o Jupyter com o pip <a name=\"pip\"></a>\n",
    "\n",
    "#### Importante\n",
    "\n",
    "A instalação do Jupyter requer Python 3.3 ou superior, ou Python 2.7. IPython 1.x, que incluiu as partes que mais tarde se tornou Jupyter, foi a última versão para suportar Python 3.2 e 2.6.\n",
    "\n",
    "Como um usuário mais experiente do Python, você pode querer instalar o Jupyter usando o gerenciador de pacotes do Python, pip, em vez de Anaconda.\n",
    "\n",
    "Nos ambientes GNU/Linu, primeiro, certifique-se de que você tem o pip mais recente; Versões mais antigas podem ter problemas com algumas dependências:\n",
    "\n",
    "```bash\n",
    "> sudo -H pip3 install --upgrade pip3\n",
    "ou\n",
    "> pip3 install --upgrade pip3\n",
    "```\n",
    "\n",
    "ou\n",
    "\n",
    "```bash\n",
    "> sudo -H pip3 install -U pip3\n",
    "ou \n",
    "> pip3 install -U pip3\n",
    "```\n",
    "\n",
    "Em seguida, instale o Jupyter Notebook usando:\n",
    "\n",
    "```bash\n",
    "> sudo -H pip3 install jupyter\n",
    "ou\n",
    "> pip3 install jupyter\n",
    "```\n",
    "\n",
    "(Use pip se estiver usando o Python 2.)\n",
    "\n",
    "Para instalar algumas extensões do jupyter notebook consulte:\n",
    "\n",
    "- [Jupyter notebook extensions](https://github.com/ipython-contrib/jupyter_contrib_nbextensions)\n",
    "- [Notebook extensions](https://carreau.gitbooks.io/jupyter-book/content/notebook-extensions.html)\n",
    "- [Installing Jupyter Notebook Extensions](https://www.oreilly.com/learning/installing-jupyter-notebook-extensions)\n",
    "- [An easy way to install Jupyter Notebook extensions](http://blog.rtwilson.com/an-easy-way-to-install-jupyter-notebook-extensions/)\n",
    "- [Installing jupyter_contrib_nbextensions](http://jupyter-contrib-nbextensions.readthedocs.io/en/latest/install.html)\n",
    "- [Distributing Jupyter Extensions as Python Packages](http://jupyter-notebook.readthedocs.io/en/latest/examples/Notebook/Distributing%20Jupyter%20Extensions%20as%20Python%20Packages.html)"
   ]
  },
  {
   "cell_type": "markdown",
   "metadata": {},
   "source": [
    "## Bibliotecas essenciais <a name=\"CP1-Bibliotecas\"></a>\n",
    "\n",
    "Bibliotecas científicas que todos devem instalar:\n",
    "\n",
    "```bash\n",
    "sudo apt-get install -y python3-matplotlib python3-numpy python3-numpydoc \n",
    "sudo apt-get install -y python3-pandas python3-pandas-lib python3-mpmath \n",
    "sudo apt-get install -y python3-numexpr python3-scipy python3-sympy\n",
    "sudo apt-get install -y python3-pyfftw python3-opengl python3-seaborn\n",
    "sudo apt-get install -y python3-matplotlib-dbg python3-numpy-dbg python3-numexpr-dbg\n",
    "```\n",
    "seus pacotes para permitir debugs:\n",
    "```bash\n",
    "sudo apt-get install -y python3-matplotlib-dbg python3-numpy-dbg python3-numexpr-dbg\n",
    "```\n",
    "Alguns pacotes úteis para tratar imagens, textos html, etc:\n",
    "\n",
    "```bash\n",
    "sudo apt-get install -y python3-html2text python3-html5lib python3-urllib3 python3-bs4 \n",
    "sudo apt-get install -y python3-pdfrw python3-pil python3-pil.imagetk python3-pilkit\n",
    "sudo apt-get install -y python3-img2pdf python3-skimage-lib python3-sklearn-lib \n",
    "sudo apt-get install -y python3-pil-dbg python3-pil.imagetk-dbg python3-pyfftw-dbg \n",
    "```"
   ]
  },
  {
   "cell_type": "markdown",
   "metadata": {},
   "source": [
    "# Descrição das bibliotecas mais importantes\n",
    "\n",
    "## NumPy <a name=\"CP1-Lib-NumPy\"></a>\n",
    "\n",
    "NumPy, que é a criação de Travis Oliphant, é o verdadeiro laboratório analítico da linguagem Python. Ele fornece ao usuário arrays multidimensionais, juntamente com um grande conjunto de funções para lidar com uma multiplicidade de operações matemáticas sobre matrizes (\"arrays\"). Arrays são blocos de dados dispostos ao longo de múltiplas dimensões, que implementam vetores matemáticos e matrizes. As matrizes são úteis não apenas para armazenar dados, mas também para operações de matriz rápida (vectorization), que são indispensáveis quando você deseja resolver problemas ad hoc de ciência de dados.\n",
    "\n",
    "Site: http://www.numpy.org/\n",
    "Versão atual: 1.9.1\n",
    "\n",
    "> Nota: Como uma convenção amplamente adotada pela comunidade Python, ao importar NumPy, sugere-se que você o alias como np:\n",
    ">\n",
    "> import numpy as np\n",
    ">\n",
    "> Estaremos fazendo isso ao longo deste.\n",
    "\n",
    "## SciPy <a name=\"CP1-Lib-SciPy\"></a>\n",
    "\n",
    "Um projeto original de Travis Oliphant, Pearu Peterson e Eric Jones, SciPy completa as funcionalidades do NumPy, oferecendo uma maior variedade de algoritmos científicos para álgebra linear, matrizes esparsas, processamento de sinais e imagens, otimização, transformada rápida de Fourier e muito mais.\n",
    "\n",
    "Site: http://www.scipy.org/\n",
    "Versão atual: 0.14.0\n",
    "\n",
    "\n",
    "## Matplotlib <a name=\"CP1-Lib-Matplotlib\"></a>\n",
    "\n",
    "Originalmente desenvolvido por John Hunter, matplotlib é a biblioteca que contém todos os blocos de construção que são necessários para criar gráficos de qualidade a partir de arrays e visualizá-los interativamente.\n",
    "\n",
    "Você pode encontrar todas as estruturas de plotagem de tipo MATLAB dentro do módulo pylab.\n",
    "\n",
    "Website: http://matplotlib.org/\n",
    "Versão atual: 1.4.2\n",
    "\n",
    ">Você pode simplesmente importar o que você precisa para suas finalidades de visualização com o seguinte comando:\n",
    ">\n",
    ">import matplotlib.pyplot as plt\n",
    "\n",
    "\n",
    "## SymPy\n",
    "\n",
    "SymPy é uma biblioteca Python para matemática simbólica. Ele pretende tornar-se um sistema completo de álgebra computacional (CAS), mantendo o código o mais simples possível para ser compreensível e facilmente extensível. A SymPy foi escrita inteiramente em Python. Você não precisa instalar o SymPy para iniciar o seu uso. Você pode usar o shell on-line em http://live.sympy.org.\n",
    "\n",
    "Página: http://www.sympy.org/\n",
    "\n",
    "\n",
    "## Pandas <a name=\"CP1-Lib-Pandas\"></a>\n",
    "\n",
    "O pacote pandas lida com tudo o que NumPy e SciPy não pode fazer. Graças às suas estruturas de dados de objetos específicos, DataFrames e Series, pandas permite manipular tabelas complexas de dados de diferentes tipos (que é algo que as matrizes de NumPy não podem fazer) e séries temporais. Graças à criação de Wes McKinney, você será capaz de facilmente e sem problemas carregar dados de uma variedade de fontes. Você pode então cortar, fragmentar, manipular elementos ausentes, adicionar, renomear, agregar, reformular e, finalmente, visualizar esses dados em sua vontade.\n",
    "\n",
    "Website: http://pandas.pydata.org/\n",
    "Versão atual: 0.15.2\n",
    "\n",
    ">Convencionalmente, os pandas são importados como pd:\n",
    ">\n",
    ">import pandas as pd\n",
    "\n",
    "\n",
    "## Beautiful Soup <a name=\"CP1-Lib-BeautifulSoup\"></a>\n",
    "\n",
    "Beautiful Soup, uma criação de Leonard Richardson, é uma ótima ferramenta para tratar dados de arquivos HTML e XML obtidos da Internet. Funciona incrivelmente bem, mesmo no caso das sopas de tags (daí o nome), que são coleções de etiquetas malformadas e contraditórias e incorretas. Depois de escolher o analisador (basicamente, o analisador HTML incluído na biblioteca padrão do Python funciona bem), graças à Beautiful Soup, você pode navegar pelos objetos na página e extrair texto, tabelas e qualquer outra informação que possa ser útil.\n",
    "\n",
    "Site: http://www.crummy.com/software/BeautifulSoup/\n",
    "Versão atual: 4.3.2\n",
    "O pacote python: python3-bs4\n",
    "\n",
    ">Nota: Observe que o módulo importado é denominado bs4.\n",
    "> from bs4 import BeautifulSoup\n",
    "\n",
    "\n",
    "## Scikit-learn <a name=\"CP1-Lib-Scikit-learn\"></a>\n",
    "\n",
    "Iniciado como parte do SciKits (SciPy Toolkits), Scikit-learn é o núcleo das operações de ciência de dados em Python. Ele oferece tudo o que você pode precisar em termos de pré-processamento de dados, aprendizado supervisionado e não supervisionado, seleção de modelos, validação e métricas de erro.  O Scikit-learn começou em 2007 como um projeto Google Summer of Code de David Cournapeau. Desde 2013, foi retomado pelos investigadores do INRA (Instituto Francês de Investigação em Informática e Automação).\n",
    "\n",
    "Website: http://scikit-learn.org/stable/\n",
    "Versão atual: 0.15.2\n",
    "instalar via pip3 e o nome do pacote é: scikit-learn\n",
    "\n",
    "> *Nota*: Observe que o módulo importado é denominado sklearn.\n",
    "\n",
    "\n",
    "\n",
    "## Statsmodels <a name=\"CP1-Lib-Statsmodel\"></a>\n",
    "\n",
    "Anteriormente parte de SciKits, statsmodels foi pensado para ser um complemento para SciPy funções estatísticas. Ele apresenta modelos lineares generalizados, modelos de escolha discreta, análise de séries temporais e uma série de estatísticas descritivas, bem como testes paramétricos e não paramétricos.\n",
    "\n",
    "Site: http://statsmodels.sourceforge.net/\n",
    "Versão atual: 0.6.0\n",
    "Instalação via pip3 e o nome do pacote é:\n",
    "- scikits.statsmodels (0.3.1)  - Statistical computations and models for use with SciPy\n",
    "- statsmodels (0.8.0)          - Statistical computations and models for Python\n",
    "\n",
    "## Seaborn\n",
    "\n",
    "É uma biblioteca para visualização de dados estatísticos, baseada na matplotlib.\n",
    "\n",
    "Site:https://seaborn.pydata.org/\n",
    "Versão atual: 0.8.1\n",
    "Instalada via pip, mas possui um pacote debian\n",
    "\n",
    "\n",
    "## NetworkX <a name=\"CP1-Lib-NetworkX\"></a>\n",
    "\n",
    "Desenvolvido pelo Laboratório Nacional de Los Alamos, NetworkX é um pacote especializado na criação, manipulação, análise e representação gráfica de dados de rede da vida real (pode facilmente operar com gráficos compostos de um milhão de nós e bordas). Além de estruturas de dados especializadas para gráficos e métodos de visualização fina (2D e 3D), ele fornece ao usuário muitas medidas de gráfico padrão e algoritmos, como o caminho mais curto, centralidade, componentes, comunidades, cluster e PageRank. \n",
    "\n",
    "Site: https://networkx.github.io/\n",
    "Versão atul: 1.9.1\n",
    "pacote: python3-networkx\n",
    "\n",
    ">Convencionalmente, o NetworkX é importado como nx:\n",
    ">\n",
    ">import networkx as nx\n",
    "\n",
    "\n",
    "## Bokeh\n",
    "\n",
    "A biblioteca gráfica Bokeh é uma biblioteca de visualização interativa voltada para os navegadores da Web modernos para apresentação. Seu objetivo é fornecer uma construção elegante e concisa de gráficos versáteis e estender esse recurso com interatividade de alto desempenho em conjuntos de dados muito grandes ou de fluxo contínuo. O Bokeh pode ajudar qualquer pessoa que queira criar de forma rápida e fácil gráficos interativos, painéis e aplicativos de dados.\n",
    "\n",
    "\n",
    "Site: <https://bokeh.pydata.org/en/latest/>\n"
   ]
  },
  {
   "cell_type": "markdown",
   "metadata": {
    "lang": "pt"
   },
   "source": [
    "## Exemplos"
   ]
  },
  {
   "cell_type": "code",
   "execution_count": null,
   "metadata": {
    "ExecuteTime": {
     "end_time": "2019-08-12T17:45:50.057094Z",
     "start_time": "2019-08-12T17:45:47.802576Z"
    }
   },
   "outputs": [],
   "source": [
    "# Para instalar um pacote via pip usando o corrente Jupyter kernel faça\n",
    "import sys\n",
    "!{sys.executable} -m pip install numpy"
   ]
  },
  {
   "cell_type": "code",
   "execution_count": null,
   "metadata": {
    "ExecuteTime": {
     "end_time": "2019-08-12T17:45:52.796763Z",
     "start_time": "2019-08-12T17:45:52.684926Z"
    }
   },
   "outputs": [],
   "source": [
    "# Para instalar um pacote conda usando o corrente Jupyter kernel faça\n",
    "import sys\n",
    "!conda install --yes --prefix {sys.prefix} numpy"
   ]
  },
  {
   "cell_type": "code",
   "execution_count": null,
   "metadata": {
    "ExecuteTime": {
     "end_time": "2019-08-12T17:45:57.646764Z",
     "start_time": "2019-08-12T17:45:57.536192Z"
    }
   },
   "outputs": [],
   "source": [
    "!type  python3"
   ]
  },
  {
   "cell_type": "code",
   "execution_count": null,
   "metadata": {
    "ExecuteTime": {
     "end_time": "2019-08-12T11:59:28.662794Z",
     "start_time": "2019-08-12T11:59:28.657708Z"
    }
   },
   "outputs": [],
   "source": [
    "%%writefile install_python.sh\n",
    "#!/bin/sh\n",
    "sudo apt-get update H\n",
    "sudo apt-get install -y python3 python3-doc python3-all python3-pip python3-bs4 python3-all-dev python3-examples ipython3 ipython3-notebook ipython3-qtconsole python3-markdown python3-matplotlib python3-numpy python3-pandas python3-opengl python3-mpmath python3-nltk python3-numexpr python3-pandas-lib python3-html2text python3-html5lib python3-img2pdf python3-magic python3-matplotlib-dbg python3-numpy-dbg python3-numexpr-dbg python3-numpydoc python3-pandocfilters python3-setuptools python3-pdfrw python3-pil python3-pil-dbg python3-pil.imagetk python3-pil.imagetk-dbg python3-pilkit python3-pip python3-pyfftw python3-pyfftw-dbg python3-scipy python3-sympy python3-skimage-lib python3-sklearn-lib python3-seaborn python3-sphinx"
   ]
  },
  {
   "cell_type": "code",
   "execution_count": null,
   "metadata": {
    "ExecuteTime": {
     "end_time": "2019-08-12T11:59:56.647931Z",
     "start_time": "2019-08-12T11:59:56.535589Z"
    }
   },
   "outputs": [],
   "source": [
    "! cat install_python.sh"
   ]
  },
  {
   "cell_type": "markdown",
   "metadata": {},
   "source": [
    "Agora para instalar o script abra um terminal na pasta onde enoctra-se o scpript e digite:\n",
    "```bash\n",
    "sh ./install_python.sh\n",
    "```"
   ]
  },
  {
   "cell_type": "markdown",
   "metadata": {},
   "source": [
    "## Ajustando a configuração do Linux\n",
    "\n",
    "Uma das habilidades do Jupyter Notebook reside no fato de que não é necessário deixar o ambiente para realizar muitas das tarefas do sistema, mesmo a instalação de softwares. Entretanto nesse caso é necessário fazer um pequeno ajuste no sistema. Vamos permitir que o administrador da máquina que é quem está usando ela não precise mais de digitar o seu password ao usar o sudo. Para isso edite o arquivo <span style=\"color:blue\">/etc/sudoers</span>\n",
    "e acrescente uma linha contendo\n",
    "\n",
    "```bash\n",
    "login_do_usuario  ALL=(ALL:ALL) NOPASSWD:ALL\n",
    "```\n",
    "\n",
    "Devendo ficar conforme o exemplo abaixo, no qual o meu login é <span style=\"color:blue\">salviano</span>.\n",
    "\n",
    "[Blog do Da2k](https://blog.da2k.com.br \"Clique e acesse agora!\")\n",
    "<span style=\"color:blue\">Esse é um pequeno texto em *azul*</span>"
   ]
  },
  {
   "cell_type": "code",
   "execution_count": null,
   "metadata": {
    "ExecuteTime": {
     "end_time": "2019-08-12T12:01:54.133226Z",
     "start_time": "2019-08-12T12:01:54.013149Z"
    }
   },
   "outputs": [],
   "source": [
    "!sudo cat /etc/sudoers"
   ]
  },
  {
   "cell_type": "markdown",
   "metadata": {},
   "source": [
    "Para ver o seu login:"
   ]
  },
  {
   "cell_type": "code",
   "execution_count": null,
   "metadata": {
    "ExecuteTime": {
     "end_time": "2019-08-12T12:02:00.460287Z",
     "start_time": "2019-08-12T12:02:00.347144Z"
    },
    "scrolled": true
   },
   "outputs": [],
   "source": [
    "! echo $USER"
   ]
  },
  {
   "cell_type": "markdown",
   "metadata": {},
   "source": [
    "Considerando que o resultado do comando acima, ou seja o login do usuário, seja `pedro`, então para ajustar o arquivo `/etc/sudoers` abra um terminal e digite:\n",
    "```bash\n",
    "sudo sed -i \"/^%sudo/ a\\pedro  ALL=(ALL:ALL) NOPASSWD:ALL\" /etc/sudoers\n",
    "```\n",
    "ou \n",
    "```bash\n",
    "sudo sed -i \"/^%sudo/ a\\ $USER  ALL=(ALL:ALL) NOPASSWD:ALL\" /etc/sudoers\n",
    "```\n",
    "\n",
    "\n",
    "A seguir verifique se o comando rodou corretamente. Para isso abra um terminal e digite:\n",
    "```bash\n",
    "sudo cat /etc/gshadow\n",
    "```\n",
    "\n",
    "Se o comando acima não te pedir a senha e mostar a listagem do arquivo `/etc/gshadow`, então pode continuar e executar a próxima célula."
   ]
  },
  {
   "cell_type": "code",
   "execution_count": null,
   "metadata": {},
   "outputs": [],
   "source": [
    "!sudo -H pip3 install version_information"
   ]
  },
  {
   "cell_type": "markdown",
   "metadata": {},
   "source": [
    "## Verificando a instalação\n",
    "\n",
    "Se você instalou tudo corretamente, então abra um terminal e digite\n",
    "\n",
    "> jupyter-notebook\n",
    "\n",
    "Ele então vai abrir o navegador e você terá o jupyter funcionando.\n",
    "\n",
    "Para verificar a versão atual instalada dos pacotes selecionados, considere por exemplo: o numpy, scipy, matplotlib, sympy, pandas, ipython, jupyter. Digite o comando abaixo na célula do Jupyter"
   ]
  },
  {
   "cell_type": "code",
   "execution_count": null,
   "metadata": {
    "ExecuteTime": {
     "end_time": "2019-08-12T12:02:46.413798Z",
     "start_time": "2019-08-12T12:02:41.612738Z"
    }
   },
   "outputs": [],
   "source": [
    "%load_ext version_information\n",
    "%version_information numpy, scipy, matplotlib, sympy, pandas, ipython, jupyter"
   ]
  },
  {
   "cell_type": "markdown",
   "metadata": {},
   "source": [
    "# Jupyter/IPython\n",
    "\n",
    "**Jupyter/IPython** (Python interativo) é um shell Python aprimorado que fornece um ambiente de desenvolvimento mais robusto e produtivo para os usuários. Existem várias características-chave que o diferenciam do shell padrão do Python.\n",
    "\n",
    "### História\n",
    "\n",
    "No Jupyter/IPython, todas as suas entradas e saídas são salvas. Há duas variáveis chamadas `In` e` Out` que são atribuídas à medida que você trabalha com seus resultados. Todas as saídas são salvas automaticamente em variáveis da forma `_N`, onde `N` é o número do prompt, e as entradas para `_iN`. Isso permite que você recupere rapidamente o resultado de uma computação anterior, referindo-se a seu número, mesmo se você se esqueceu de armazená-lo como uma variável.\n"
   ]
  },
  {
   "cell_type": "code",
   "execution_count": null,
   "metadata": {
    "ExecuteTime": {
     "end_time": "2019-08-12T12:04:06.825773Z",
     "start_time": "2019-08-12T12:04:06.821970Z"
    }
   },
   "outputs": [],
   "source": [
    "from math import sqrt\n",
    "sqrt(11.0)"
   ]
  },
  {
   "cell_type": "markdown",
   "metadata": {},
   "source": [
    "Para referenciar o resultado da célula anterior, faça, adicione um `_`antes do número de saída da célula anteriror. Consiere por que seja a célula 3, assim"
   ]
  },
  {
   "cell_type": "code",
   "execution_count": null,
   "metadata": {
    "ExecuteTime": {
     "end_time": "2019-08-12T12:04:23.137634Z",
     "start_time": "2019-08-12T12:04:23.132455Z"
    }
   },
   "outputs": [],
   "source": [
    "_4 * 2.0"
   ]
  },
  {
   "cell_type": "markdown",
   "metadata": {},
   "source": [
    "Você também pode referenciar a entrada, nesse caso considere a entrada da célula 3 anteriror, e nesse caso observe que ela é uma string, logo"
   ]
  },
  {
   "cell_type": "code",
   "execution_count": null,
   "metadata": {
    "ExecuteTime": {
     "end_time": "2019-08-12T12:04:33.204815Z",
     "start_time": "2019-08-12T12:04:33.197227Z"
    }
   },
   "outputs": [],
   "source": [
    "_i4"
   ]
  },
  {
   "cell_type": "code",
   "execution_count": null,
   "metadata": {
    "ExecuteTime": {
     "end_time": "2019-08-12T12:04:50.702104Z",
     "start_time": "2019-08-12T12:04:50.697119Z"
    }
   },
   "outputs": [],
   "source": [
    "_6 / 4."
   ]
  },
  {
   "cell_type": "code",
   "execution_count": null,
   "metadata": {
    "ExecuteTime": {
     "end_time": "2019-08-12T12:05:33.253901Z",
     "start_time": "2019-08-12T12:05:33.249860Z"
    }
   },
   "outputs": [],
   "source": [
    "import math \n",
    "math.sin(3.0)"
   ]
  },
  {
   "cell_type": "code",
   "execution_count": null,
   "metadata": {
    "ExecuteTime": {
     "end_time": "2019-08-12T12:05:40.403737Z",
     "start_time": "2019-08-12T12:05:40.397629Z"
    }
   },
   "outputs": [],
   "source": [
    "dir(math)"
   ]
  },
  {
   "cell_type": "code",
   "execution_count": null,
   "metadata": {
    "ExecuteTime": {
     "end_time": "2019-08-12T12:05:51.684989Z",
     "start_time": "2019-08-12T12:05:51.674894Z"
    }
   },
   "outputs": [],
   "source": [
    "sqrt(13.0)"
   ]
  },
  {
   "cell_type": "markdown",
   "metadata": {},
   "source": [
    "Os notebooks são iterativos "
   ]
  },
  {
   "cell_type": "code",
   "execution_count": null,
   "metadata": {
    "ExecuteTime": {
     "end_time": "2019-08-12T12:06:00.646228Z",
     "start_time": "2019-08-12T12:05:55.746333Z"
    }
   },
   "outputs": [],
   "source": [
    "a=input(\"Entre com o seu nome\")\n",
    "print(\"O nome entrado foi: \",a)"
   ]
  },
  {
   "cell_type": "markdown",
   "metadata": {},
   "source": [
    "### A saída é assíncrona\n",
    "\n",
    "Toda a saída é exibida de forma assíncrona à medida que é gerada no Kernel. Se você executar a próxima célula, você verá a saída uma peça de cada vez, nem todas no final.\n",
    "\n",
    "[comment]: <> (Esse é um comentário, ele não é mostrado)\n",
    "[comment]: <> (no arquivo de saída)\n",
    "\n",
    "[comment]: <> (Podemos ir mais adiante)\n",
    "\n",
    "[//]: <> (Esse também é um comentário .)\n",
    "\n",
    "[//]: <> ( Para melhorar a compatibilidade da plataforma (e salvar uma digitação), também é possível usar # (que é um alvo de hiperlink legítimo) em vez de <>:)\n",
    "\n",
    "[//]: # (Este pode ser o comentário mais independente da plataforma)\n",
    "\n",
    "[//]: <> ($$ \\int\\limits_{0}^{\\infty} f(x) dx$$)\n",
    "\n",
    "\n",
    "\n",
    "[//]: # (Pode-se usar as tags do HTML tags, como:)\n",
    "\n",
    "<!---\n",
    "O seu comentário vem aqui.\n",
    "---\n",
    "Observe o traço triplo no início. A vantagem é que ele funciona com pandoc \n",
    "ao gerar saída de TeX ou HTML. Mais informações estão disponíveis \n",
    "no grupo pandoc-discuss.\n",
    "-->\n",
    "\n",
    "\n"
   ]
  },
  {
   "cell_type": "code",
   "execution_count": null,
   "metadata": {
    "ExecuteTime": {
     "end_time": "2019-08-12T12:06:07.915379Z",
     "start_time": "2019-08-12T12:06:05.405681Z"
    }
   },
   "outputs": [],
   "source": [
    "import time, sys\n",
    "inicio = 1\n",
    "fim    = 10\n",
    "passo  = 2\n",
    "for i in range(inicio,fim,passo):\n",
    "    print(i)\n",
    "    time.sleep(0.5) # delay"
   ]
  },
  {
   "cell_type": "markdown",
   "metadata": {},
   "source": [
    "### Introspecção\n",
    "\n",
    "Se desejar detalhes sobre as propriedades e funcionalidades de qualquer objeto Python atualmente carregado no Jupyter/IPython, você pode usar o `?` Para revelar quaisquer detalhes disponíveis:\n"
   ]
  },
  {
   "cell_type": "code",
   "execution_count": null,
   "metadata": {},
   "outputs": [],
   "source": [
    "i?"
   ]
  },
  {
   "cell_type": "code",
   "execution_count": null,
   "metadata": {},
   "outputs": [],
   "source": [
    "algum_dic = {}\n",
    "algum_dic?"
   ]
  },
  {
   "cell_type": "markdown",
   "metadata": {},
   "source": [
    "Se estiverem disponível, os detalhes adicionais serão fornecidos com dois pontos de interrogação, incluindo o código-fonte do próprio objeto.\n"
   ]
  },
  {
   "cell_type": "code",
   "execution_count": null,
   "metadata": {
    "ExecuteTime": {
     "end_time": "2019-08-12T12:06:32.413984Z",
     "start_time": "2019-08-12T12:06:32.350629Z"
    }
   },
   "outputs": [],
   "source": [
    "from numpy.linalg import cholesky\n",
    "cholesky??"
   ]
  },
  {
   "cell_type": "markdown",
   "metadata": {},
   "source": [
    "Essa sintaxe também pode ser usada para pesquisar *namespaces* com curingas (\\*)."
   ]
  },
  {
   "cell_type": "code",
   "execution_count": null,
   "metadata": {
    "ExecuteTime": {
     "end_time": "2019-08-12T12:06:57.668033Z",
     "start_time": "2019-08-12T12:06:57.294064Z"
    }
   },
   "outputs": [],
   "source": [
    "%matplotlib inline\n",
    "import pylab as plt\n",
    "plt.*plot*?"
   ]
  },
  {
   "cell_type": "code",
   "execution_count": null,
   "metadata": {
    "ExecuteTime": {
     "end_time": "2019-08-12T12:07:40.561790Z",
     "start_time": "2019-08-12T12:07:40.557600Z"
    }
   },
   "outputs": [],
   "source": [
    "%matplotlib --list"
   ]
  },
  {
   "cell_type": "markdown",
   "metadata": {},
   "source": [
    "As opções de visualização da matplotlib são:\n",
    "\n",
    "'auto', 'gtk', 'gtk3', 'inline', 'nbagg', 'notebook', 'osx', 'qt', 'qt4', 'qt5', 'tk', 'wx'\n",
    "\n",
    "\n",
    "\n",
    "%matplotlib --list\n",
    "   Available matplotlib backends: ['osx', 'qt4', 'qt5', 'gtk3', 'notebook', 'wx', 'qt', 'nbagg',\n",
    "   'gtk', 'tk', 'inline']\n",
    "\n",
    "positional arguments:\n",
    "  gui         Name of the matplotlib backend to use ('agg', 'gtk', 'gtk3',\n",
    "              'inline', 'ipympl', 'nbagg', 'notebook', 'osx', 'qt', 'qt4',\n",
    "              'qt5', 'tk', 'wx'). If given, the corresponding matplotlib\n",
    "              backend is used, otherwise it will be matplotlib's default\n",
    "              (which you can set in your matplotlib config file).\n",
    "\n",
    "optional arguments:"
   ]
  },
  {
   "cell_type": "markdown",
   "metadata": {},
   "source": [
    "### Completar com Tab\n",
    "\n",
    "Como o Jupyter/IPython permitem a introspecção, ele é capaz de dar ao usuário a capacidade de completar comandos que foram parcialmente digitados com um tab. Isso é feito pressionando a tecla `<tab>` em qualquer ponto durante o processo de digitar um comando:"
   ]
  },
  {
   "cell_type": "code",
   "execution_count": null,
   "metadata": {},
   "outputs": [],
   "source": [
    "plt.p"
   ]
  },
  {
   "cell_type": "markdown",
   "metadata": {},
   "source": [
    "Isso pode até ser usado para ajudar com a especificação dos argumentos de algumas funções, o que às vezes pode ser difícil de lembrar:"
   ]
  },
  {
   "cell_type": "code",
   "execution_count": null,
   "metadata": {},
   "outputs": [],
   "source": [
    "plt.hist"
   ]
  },
  {
   "cell_type": "markdown",
   "metadata": {},
   "source": [
    "### Comandos do sistema\n",
    "\n",
    "No Jupyter/IPython, você pode digitar `ls` para ver seus arquivos ou `cd` para alterar diretórios, assim como você faria em um prompt do sistema, mas para isso adicione o caracter `!`:"
   ]
  },
  {
   "cell_type": "code",
   "execution_count": null,
   "metadata": {
    "ExecuteTime": {
     "end_time": "2019-08-12T12:08:53.142095Z",
     "start_time": "2019-08-12T12:08:53.004655Z"
    }
   },
   "outputs": [],
   "source": [
    "!ls /home/$USER/"
   ]
  },
  {
   "cell_type": "markdown",
   "metadata": {},
   "source": [
    "Praticamente qualquer comando do sistema pode ser acessado prepending `!`,  o qual passa qualquer comando subsequente diretamente para o sistema operacional."
   ]
  },
  {
   "cell_type": "code",
   "execution_count": null,
   "metadata": {
    "ExecuteTime": {
     "end_time": "2019-08-12T12:09:05.020203Z",
     "start_time": "2019-08-12T12:08:56.780851Z"
    }
   },
   "outputs": [],
   "source": [
    "!locate python3 | grep pdf"
   ]
  },
  {
   "cell_type": "markdown",
   "metadata": {},
   "source": [
    "Você pode até usar variáveis Python em comandos enviados para o sistema operacional:"
   ]
  },
  {
   "cell_type": "code",
   "execution_count": null,
   "metadata": {},
   "outputs": [],
   "source": [
    "file_type = 'ipynb'\n",
    "!ls ./*$file_type"
   ]
  },
  {
   "cell_type": "markdown",
   "metadata": {},
   "source": [
    "A saída de um comando do sistema usando a sintaxe do ponto de exclamação pode ser atribuída a uma variável Python."
   ]
  },
  {
   "cell_type": "code",
   "execution_count": null,
   "metadata": {
    "ExecuteTime": {
     "end_time": "2019-08-12T12:09:12.300469Z",
     "start_time": "2019-08-12T12:09:12.270422Z"
    }
   },
   "outputs": [],
   "source": [
    "notebooks = !ls ./"
   ]
  },
  {
   "cell_type": "code",
   "execution_count": null,
   "metadata": {
    "ExecuteTime": {
     "end_time": "2019-08-12T12:09:28.293742Z",
     "start_time": "2019-08-12T12:09:28.287028Z"
    }
   },
   "outputs": [],
   "source": [
    "notebooks"
   ]
  },
  {
   "cell_type": "code",
   "execution_count": null,
   "metadata": {
    "ExecuteTime": {
     "end_time": "2019-08-12T12:09:33.051525Z",
     "start_time": "2019-08-12T12:09:33.047564Z"
    }
   },
   "outputs": [],
   "source": [
    "type(notebooks)"
   ]
  },
  {
   "cell_type": "markdown",
   "metadata": {},
   "source": [
    "## Console  Qt \n",
    "\n",
    "Se você digitar no prompt do sistema:\n",
    "\n",
    "```bash\n",
    "> ipython3 qtconsole\n",
    "```\n",
    "\n",
    "ou \n",
    "\n",
    "```bash\n",
    "> jupyter-qtconsole\n",
    "```\n",
    "\n",
    "Em vez de abrir em um terminal, IPython irá iniciar um console gráfico que à primeira vista aparece como um terminal, mas que é, de fato, muito mais capaz do que um terminal somente de texto. Este é um terminal especializado projetado para o trabalho científico interativo, e suporta a edição de multi-linha cheia com realce de cor e calltips gráficos para funções, pode manter múltiplas sessões de IPython abertas simultaneamente em abas, e quando scripts funcionam pode exibir os números diretamente Na área de trabalho.\n",
    "\n",
    "![qtconsole](../Figs/Jupyter_QtConsole.png)"
   ]
  },
  {
   "cell_type": "markdown",
   "metadata": {},
   "source": [
    "# Jupyter Notebook\n",
    "\n",
    "\n",
    "Ao longo do tempo, o projeto IPython cresceu para incluir vários componentes, incluindo:\n",
    "\n",
    "* Um shell interativo\n",
    "* Um protocolo REPL (Ela é uma abreviação para <span style=\"color:blue\">Read, Eval, Print and Loop</span>)\n",
    "* Um documento na forma de caderno de anotações\n",
    "* Uma ferramenta de conversão de documentos do notebook\n",
    "* Uma ferramenta de criação de notebooks baseada na web\n",
    "* Ferramentas para a construção de interface interativa (widgets)\n",
    "* Python paralelo interativo\n",
    "\n",
    "O Jupyter foi originalmente desenvolvido como parte do projeto IPython. O projeto IPython foi usado para fornecer acesso on-line interativo ao Python. Ao longo do tempo, tornou-se útil interagir com outras ferramentas de análise de dados, como R, da mesma maneira. Com esta divisão de Python, a ferramenta cresceu em sua manifestação atual de Jupyter. O IPython ainda é uma ferramenta ativa que está disponível para uso. O próprio nome Jupyter é derivado da combinação de Julia, Python e R.\n",
    "\n",
    "\n",
    "O notebook HTML que faz parte do projeto Jupyter suporta ** visualização de dados interativos ** e fácil de alto desempenho ** computação paralela **.\n",
    "\n",
    "$$ \\psi$$\n",
    "\n"
   ]
  },
  {
   "cell_type": "code",
   "execution_count": null,
   "metadata": {
    "ExecuteTime": {
     "end_time": "2019-08-12T12:14:47.333837Z",
     "start_time": "2019-08-12T12:14:47.064501Z"
    }
   },
   "outputs": [],
   "source": [
    "import matplotlib.pyplot as plt\n",
    "import numpy as np\n",
    "plt.style.use('fivethirtyeight')\n",
    "\n",
    "def f(x):\n",
    "    return (x-3)*(x-5)*(x-7)/100-1\n",
    "#\n",
    "\n",
    "import numpy as np\n",
    "x0 = 0 # origem\n",
    "xf = 10  # fim do intervalo\n",
    "n  = 200 # numero de pontos que se discretiza o intervalo (x0,xf)\n",
    "x = np.linspace(x0, xf, n) # cria vetor igaulmente espaçado\n",
    "y = f(x)\n",
    "plt.plot(x,y)\n",
    "plt.savefig('lixo.svg')"
   ]
  },
  {
   "cell_type": "code",
   "execution_count": null,
   "metadata": {
    "ExecuteTime": {
     "end_time": "2019-08-12T12:16:31.192214Z",
     "start_time": "2019-08-12T12:16:31.076491Z"
    }
   },
   "outputs": [],
   "source": [
    "! ls *.svg"
   ]
  },
  {
   "cell_type": "markdown",
   "metadata": {},
   "source": [
    "![lixo](lixo.svg)"
   ]
  },
  {
   "cell_type": "code",
   "execution_count": null,
   "metadata": {
    "ExecuteTime": {
     "end_time": "2019-08-12T12:17:56.449483Z",
     "start_time": "2019-08-12T12:17:56.217353Z"
    }
   },
   "outputs": [],
   "source": [
    "def g(x):\n",
    "    return x**4 -3*x**2 +4*x -x +2\n",
    "\n",
    "x0 = -3 # origem\n",
    "xf = 3  # fim do intervalo\n",
    "n  = 200 # numero de pontos que se discretiza o intervalo (x0,xf)\n",
    "x = np.linspace(x0, xf, n)\n",
    "y = g(x)\n",
    "plt.plot(x,y)"
   ]
  },
  {
   "cell_type": "markdown",
   "metadata": {},
   "source": [
    "O notebook permite documentar seu fluxo de trabalho usando HTML ou Markdown.\n",
    "\n",
    "O Jupyter Notebook consiste em dois componentes relacionados:\n",
    "\n",
    "* Um formato de documento JSON baseado em Notebook para gravação e distribuição de código Python e texto rico.\n",
    "  - subb1\n",
    "  - sub2\n",
    "* Uma interface de usuário baseada na web para a criação e execução de documentos do notebook.\n",
    "\n",
    "O Notebook pode ser usado iniciando o servidor Notebook com o comando:\n",
    "\n",
    "> $ ipython3 notebook\n",
    "    \n",
    "Isso inicia um **mecanismo IPython**, que é uma instância Python que leva comandos Python através de uma conexão de rede.\n",
    "\n",
    "O **controlador IPython** fornece uma interface para trabalhar com um conjunto de mecanismos, aos quais um ou mais **clientes IPython** podem se conectar.\n",
    "\n",
    "O Notebook dá-lhe tudo o que um navegador lhe dá. Por exemplo, você pode incorporar imagens, vídeos ou sites inteiros."
   ]
  },
  {
   "cell_type": "code",
   "execution_count": null,
   "metadata": {
    "ExecuteTime": {
     "end_time": "2019-08-12T12:18:18.954912Z",
     "start_time": "2019-08-12T12:18:18.917259Z"
    }
   },
   "outputs": [],
   "source": [
    "from IPython.display import HTML\n",
    "HTML(\"<iframe src=http://jupyter.org/ width=700 height=350></iframe>\")"
   ]
  },
  {
   "cell_type": "code",
   "execution_count": null,
   "metadata": {
    "ExecuteTime": {
     "end_time": "2019-08-12T12:18:33.496954Z",
     "start_time": "2019-08-12T12:18:32.878829Z"
    },
    "slideshow": {
     "slide_type": "slide"
    }
   },
   "outputs": [],
   "source": [
    "from IPython.display import YouTubeVideo\n",
    "YouTubeVideo(\"rl5DaFbLc60\")"
   ]
  },
  {
   "cell_type": "markdown",
   "metadata": {},
   "source": [
    "### Código Remoto\n",
    "\n",
    "Use `%load` para adicionar um código remoto"
   ]
  },
  {
   "cell_type": "code",
   "execution_count": null,
   "metadata": {},
   "outputs": [],
   "source": [
    "%load http://matplotlib.org/_downloads/legend.py"
   ]
  },
  {
   "cell_type": "code",
   "execution_count": null,
   "metadata": {
    "ExecuteTime": {
     "end_time": "2019-08-12T18:22:27.327922Z",
     "start_time": "2019-08-12T18:22:26.231275Z"
    }
   },
   "outputs": [],
   "source": [
    "%matplotlib qt5"
   ]
  },
  {
   "cell_type": "code",
   "execution_count": null,
   "metadata": {},
   "outputs": [],
   "source": [
    "%load http://matplotlib.org/mpl_examples/shapes_and_collections/scatter_demo.py"
   ]
  },
  {
   "cell_type": "code",
   "execution_count": null,
   "metadata": {},
   "outputs": [],
   "source": [
    "%load http://matplotlib.org/examples/frontpage/plot_contour.py"
   ]
  },
  {
   "cell_type": "code",
   "execution_count": 1,
   "metadata": {
    "ExecuteTime": {
     "end_time": "2019-08-13T10:37:44.015900Z",
     "start_time": "2019-08-13T10:37:43.799123Z"
    }
   },
   "outputs": [],
   "source": [
    "%matplotlib notebook"
   ]
  },
  {
   "cell_type": "code",
   "execution_count": 2,
   "metadata": {
    "ExecuteTime": {
     "end_time": "2019-08-13T10:37:48.430990Z",
     "start_time": "2019-08-13T10:37:48.167002Z"
    }
   },
   "outputs": [
    {
     "data": {
      "application/javascript": [
       "/* Put everything inside the global mpl namespace */\n",
       "window.mpl = {};\n",
       "\n",
       "\n",
       "mpl.get_websocket_type = function() {\n",
       "    if (typeof(WebSocket) !== 'undefined') {\n",
       "        return WebSocket;\n",
       "    } else if (typeof(MozWebSocket) !== 'undefined') {\n",
       "        return MozWebSocket;\n",
       "    } else {\n",
       "        alert('Your browser does not have WebSocket support. ' +\n",
       "              'Please try Chrome, Safari or Firefox ≥ 6. ' +\n",
       "              'Firefox 4 and 5 are also supported but you ' +\n",
       "              'have to enable WebSockets in about:config.');\n",
       "    };\n",
       "}\n",
       "\n",
       "mpl.figure = function(figure_id, websocket, ondownload, parent_element) {\n",
       "    this.id = figure_id;\n",
       "\n",
       "    this.ws = websocket;\n",
       "\n",
       "    this.supports_binary = (this.ws.binaryType != undefined);\n",
       "\n",
       "    if (!this.supports_binary) {\n",
       "        var warnings = document.getElementById(\"mpl-warnings\");\n",
       "        if (warnings) {\n",
       "            warnings.style.display = 'block';\n",
       "            warnings.textContent = (\n",
       "                \"This browser does not support binary websocket messages. \" +\n",
       "                    \"Performance may be slow.\");\n",
       "        }\n",
       "    }\n",
       "\n",
       "    this.imageObj = new Image();\n",
       "\n",
       "    this.context = undefined;\n",
       "    this.message = undefined;\n",
       "    this.canvas = undefined;\n",
       "    this.rubberband_canvas = undefined;\n",
       "    this.rubberband_context = undefined;\n",
       "    this.format_dropdown = undefined;\n",
       "\n",
       "    this.image_mode = 'full';\n",
       "\n",
       "    this.root = $('<div/>');\n",
       "    this._root_extra_style(this.root)\n",
       "    this.root.attr('style', 'display: inline-block');\n",
       "\n",
       "    $(parent_element).append(this.root);\n",
       "\n",
       "    this._init_header(this);\n",
       "    this._init_canvas(this);\n",
       "    this._init_toolbar(this);\n",
       "\n",
       "    var fig = this;\n",
       "\n",
       "    this.waiting = false;\n",
       "\n",
       "    this.ws.onopen =  function () {\n",
       "            fig.send_message(\"supports_binary\", {value: fig.supports_binary});\n",
       "            fig.send_message(\"send_image_mode\", {});\n",
       "            if (mpl.ratio != 1) {\n",
       "                fig.send_message(\"set_dpi_ratio\", {'dpi_ratio': mpl.ratio});\n",
       "            }\n",
       "            fig.send_message(\"refresh\", {});\n",
       "        }\n",
       "\n",
       "    this.imageObj.onload = function() {\n",
       "            if (fig.image_mode == 'full') {\n",
       "                // Full images could contain transparency (where diff images\n",
       "                // almost always do), so we need to clear the canvas so that\n",
       "                // there is no ghosting.\n",
       "                fig.context.clearRect(0, 0, fig.canvas.width, fig.canvas.height);\n",
       "            }\n",
       "            fig.context.drawImage(fig.imageObj, 0, 0);\n",
       "        };\n",
       "\n",
       "    this.imageObj.onunload = function() {\n",
       "        fig.ws.close();\n",
       "    }\n",
       "\n",
       "    this.ws.onmessage = this._make_on_message_function(this);\n",
       "\n",
       "    this.ondownload = ondownload;\n",
       "}\n",
       "\n",
       "mpl.figure.prototype._init_header = function() {\n",
       "    var titlebar = $(\n",
       "        '<div class=\"ui-dialog-titlebar ui-widget-header ui-corner-all ' +\n",
       "        'ui-helper-clearfix\"/>');\n",
       "    var titletext = $(\n",
       "        '<div class=\"ui-dialog-title\" style=\"width: 100%; ' +\n",
       "        'text-align: center; padding: 3px;\"/>');\n",
       "    titlebar.append(titletext)\n",
       "    this.root.append(titlebar);\n",
       "    this.header = titletext[0];\n",
       "}\n",
       "\n",
       "\n",
       "\n",
       "mpl.figure.prototype._canvas_extra_style = function(canvas_div) {\n",
       "\n",
       "}\n",
       "\n",
       "\n",
       "mpl.figure.prototype._root_extra_style = function(canvas_div) {\n",
       "\n",
       "}\n",
       "\n",
       "mpl.figure.prototype._init_canvas = function() {\n",
       "    var fig = this;\n",
       "\n",
       "    var canvas_div = $('<div/>');\n",
       "\n",
       "    canvas_div.attr('style', 'position: relative; clear: both; outline: 0');\n",
       "\n",
       "    function canvas_keyboard_event(event) {\n",
       "        return fig.key_event(event, event['data']);\n",
       "    }\n",
       "\n",
       "    canvas_div.keydown('key_press', canvas_keyboard_event);\n",
       "    canvas_div.keyup('key_release', canvas_keyboard_event);\n",
       "    this.canvas_div = canvas_div\n",
       "    this._canvas_extra_style(canvas_div)\n",
       "    this.root.append(canvas_div);\n",
       "\n",
       "    var canvas = $('<canvas/>');\n",
       "    canvas.addClass('mpl-canvas');\n",
       "    canvas.attr('style', \"left: 0; top: 0; z-index: 0; outline: 0\")\n",
       "\n",
       "    this.canvas = canvas[0];\n",
       "    this.context = canvas[0].getContext(\"2d\");\n",
       "\n",
       "    var backingStore = this.context.backingStorePixelRatio ||\n",
       "\tthis.context.webkitBackingStorePixelRatio ||\n",
       "\tthis.context.mozBackingStorePixelRatio ||\n",
       "\tthis.context.msBackingStorePixelRatio ||\n",
       "\tthis.context.oBackingStorePixelRatio ||\n",
       "\tthis.context.backingStorePixelRatio || 1;\n",
       "\n",
       "    mpl.ratio = (window.devicePixelRatio || 1) / backingStore;\n",
       "\n",
       "    var rubberband = $('<canvas/>');\n",
       "    rubberband.attr('style', \"position: absolute; left: 0; top: 0; z-index: 1;\")\n",
       "\n",
       "    var pass_mouse_events = true;\n",
       "\n",
       "    canvas_div.resizable({\n",
       "        start: function(event, ui) {\n",
       "            pass_mouse_events = false;\n",
       "        },\n",
       "        resize: function(event, ui) {\n",
       "            fig.request_resize(ui.size.width, ui.size.height);\n",
       "        },\n",
       "        stop: function(event, ui) {\n",
       "            pass_mouse_events = true;\n",
       "            fig.request_resize(ui.size.width, ui.size.height);\n",
       "        },\n",
       "    });\n",
       "\n",
       "    function mouse_event_fn(event) {\n",
       "        if (pass_mouse_events)\n",
       "            return fig.mouse_event(event, event['data']);\n",
       "    }\n",
       "\n",
       "    rubberband.mousedown('button_press', mouse_event_fn);\n",
       "    rubberband.mouseup('button_release', mouse_event_fn);\n",
       "    // Throttle sequential mouse events to 1 every 20ms.\n",
       "    rubberband.mousemove('motion_notify', mouse_event_fn);\n",
       "\n",
       "    rubberband.mouseenter('figure_enter', mouse_event_fn);\n",
       "    rubberband.mouseleave('figure_leave', mouse_event_fn);\n",
       "\n",
       "    canvas_div.on(\"wheel\", function (event) {\n",
       "        event = event.originalEvent;\n",
       "        event['data'] = 'scroll'\n",
       "        if (event.deltaY < 0) {\n",
       "            event.step = 1;\n",
       "        } else {\n",
       "            event.step = -1;\n",
       "        }\n",
       "        mouse_event_fn(event);\n",
       "    });\n",
       "\n",
       "    canvas_div.append(canvas);\n",
       "    canvas_div.append(rubberband);\n",
       "\n",
       "    this.rubberband = rubberband;\n",
       "    this.rubberband_canvas = rubberband[0];\n",
       "    this.rubberband_context = rubberband[0].getContext(\"2d\");\n",
       "    this.rubberband_context.strokeStyle = \"#000000\";\n",
       "\n",
       "    this._resize_canvas = function(width, height) {\n",
       "        // Keep the size of the canvas, canvas container, and rubber band\n",
       "        // canvas in synch.\n",
       "        canvas_div.css('width', width)\n",
       "        canvas_div.css('height', height)\n",
       "\n",
       "        canvas.attr('width', width * mpl.ratio);\n",
       "        canvas.attr('height', height * mpl.ratio);\n",
       "        canvas.attr('style', 'width: ' + width + 'px; height: ' + height + 'px;');\n",
       "\n",
       "        rubberband.attr('width', width);\n",
       "        rubberband.attr('height', height);\n",
       "    }\n",
       "\n",
       "    // Set the figure to an initial 600x600px, this will subsequently be updated\n",
       "    // upon first draw.\n",
       "    this._resize_canvas(600, 600);\n",
       "\n",
       "    // Disable right mouse context menu.\n",
       "    $(this.rubberband_canvas).bind(\"contextmenu\",function(e){\n",
       "        return false;\n",
       "    });\n",
       "\n",
       "    function set_focus () {\n",
       "        canvas.focus();\n",
       "        canvas_div.focus();\n",
       "    }\n",
       "\n",
       "    window.setTimeout(set_focus, 100);\n",
       "}\n",
       "\n",
       "mpl.figure.prototype._init_toolbar = function() {\n",
       "    var fig = this;\n",
       "\n",
       "    var nav_element = $('<div/>');\n",
       "    nav_element.attr('style', 'width: 100%');\n",
       "    this.root.append(nav_element);\n",
       "\n",
       "    // Define a callback function for later on.\n",
       "    function toolbar_event(event) {\n",
       "        return fig.toolbar_button_onclick(event['data']);\n",
       "    }\n",
       "    function toolbar_mouse_event(event) {\n",
       "        return fig.toolbar_button_onmouseover(event['data']);\n",
       "    }\n",
       "\n",
       "    for(var toolbar_ind in mpl.toolbar_items) {\n",
       "        var name = mpl.toolbar_items[toolbar_ind][0];\n",
       "        var tooltip = mpl.toolbar_items[toolbar_ind][1];\n",
       "        var image = mpl.toolbar_items[toolbar_ind][2];\n",
       "        var method_name = mpl.toolbar_items[toolbar_ind][3];\n",
       "\n",
       "        if (!name) {\n",
       "            // put a spacer in here.\n",
       "            continue;\n",
       "        }\n",
       "        var button = $('<button/>');\n",
       "        button.addClass('ui-button ui-widget ui-state-default ui-corner-all ' +\n",
       "                        'ui-button-icon-only');\n",
       "        button.attr('role', 'button');\n",
       "        button.attr('aria-disabled', 'false');\n",
       "        button.click(method_name, toolbar_event);\n",
       "        button.mouseover(tooltip, toolbar_mouse_event);\n",
       "\n",
       "        var icon_img = $('<span/>');\n",
       "        icon_img.addClass('ui-button-icon-primary ui-icon');\n",
       "        icon_img.addClass(image);\n",
       "        icon_img.addClass('ui-corner-all');\n",
       "\n",
       "        var tooltip_span = $('<span/>');\n",
       "        tooltip_span.addClass('ui-button-text');\n",
       "        tooltip_span.html(tooltip);\n",
       "\n",
       "        button.append(icon_img);\n",
       "        button.append(tooltip_span);\n",
       "\n",
       "        nav_element.append(button);\n",
       "    }\n",
       "\n",
       "    var fmt_picker_span = $('<span/>');\n",
       "\n",
       "    var fmt_picker = $('<select/>');\n",
       "    fmt_picker.addClass('mpl-toolbar-option ui-widget ui-widget-content');\n",
       "    fmt_picker_span.append(fmt_picker);\n",
       "    nav_element.append(fmt_picker_span);\n",
       "    this.format_dropdown = fmt_picker[0];\n",
       "\n",
       "    for (var ind in mpl.extensions) {\n",
       "        var fmt = mpl.extensions[ind];\n",
       "        var option = $(\n",
       "            '<option/>', {selected: fmt === mpl.default_extension}).html(fmt);\n",
       "        fmt_picker.append(option);\n",
       "    }\n",
       "\n",
       "    // Add hover states to the ui-buttons\n",
       "    $( \".ui-button\" ).hover(\n",
       "        function() { $(this).addClass(\"ui-state-hover\");},\n",
       "        function() { $(this).removeClass(\"ui-state-hover\");}\n",
       "    );\n",
       "\n",
       "    var status_bar = $('<span class=\"mpl-message\"/>');\n",
       "    nav_element.append(status_bar);\n",
       "    this.message = status_bar[0];\n",
       "}\n",
       "\n",
       "mpl.figure.prototype.request_resize = function(x_pixels, y_pixels) {\n",
       "    // Request matplotlib to resize the figure. Matplotlib will then trigger a resize in the client,\n",
       "    // which will in turn request a refresh of the image.\n",
       "    this.send_message('resize', {'width': x_pixels, 'height': y_pixels});\n",
       "}\n",
       "\n",
       "mpl.figure.prototype.send_message = function(type, properties) {\n",
       "    properties['type'] = type;\n",
       "    properties['figure_id'] = this.id;\n",
       "    this.ws.send(JSON.stringify(properties));\n",
       "}\n",
       "\n",
       "mpl.figure.prototype.send_draw_message = function() {\n",
       "    if (!this.waiting) {\n",
       "        this.waiting = true;\n",
       "        this.ws.send(JSON.stringify({type: \"draw\", figure_id: this.id}));\n",
       "    }\n",
       "}\n",
       "\n",
       "\n",
       "mpl.figure.prototype.handle_save = function(fig, msg) {\n",
       "    var format_dropdown = fig.format_dropdown;\n",
       "    var format = format_dropdown.options[format_dropdown.selectedIndex].value;\n",
       "    fig.ondownload(fig, format);\n",
       "}\n",
       "\n",
       "\n",
       "mpl.figure.prototype.handle_resize = function(fig, msg) {\n",
       "    var size = msg['size'];\n",
       "    if (size[0] != fig.canvas.width || size[1] != fig.canvas.height) {\n",
       "        fig._resize_canvas(size[0], size[1]);\n",
       "        fig.send_message(\"refresh\", {});\n",
       "    };\n",
       "}\n",
       "\n",
       "mpl.figure.prototype.handle_rubberband = function(fig, msg) {\n",
       "    var x0 = msg['x0'] / mpl.ratio;\n",
       "    var y0 = (fig.canvas.height - msg['y0']) / mpl.ratio;\n",
       "    var x1 = msg['x1'] / mpl.ratio;\n",
       "    var y1 = (fig.canvas.height - msg['y1']) / mpl.ratio;\n",
       "    x0 = Math.floor(x0) + 0.5;\n",
       "    y0 = Math.floor(y0) + 0.5;\n",
       "    x1 = Math.floor(x1) + 0.5;\n",
       "    y1 = Math.floor(y1) + 0.5;\n",
       "    var min_x = Math.min(x0, x1);\n",
       "    var min_y = Math.min(y0, y1);\n",
       "    var width = Math.abs(x1 - x0);\n",
       "    var height = Math.abs(y1 - y0);\n",
       "\n",
       "    fig.rubberband_context.clearRect(\n",
       "        0, 0, fig.canvas.width / mpl.ratio, fig.canvas.height / mpl.ratio);\n",
       "\n",
       "    fig.rubberband_context.strokeRect(min_x, min_y, width, height);\n",
       "}\n",
       "\n",
       "mpl.figure.prototype.handle_figure_label = function(fig, msg) {\n",
       "    // Updates the figure title.\n",
       "    fig.header.textContent = msg['label'];\n",
       "}\n",
       "\n",
       "mpl.figure.prototype.handle_cursor = function(fig, msg) {\n",
       "    var cursor = msg['cursor'];\n",
       "    switch(cursor)\n",
       "    {\n",
       "    case 0:\n",
       "        cursor = 'pointer';\n",
       "        break;\n",
       "    case 1:\n",
       "        cursor = 'default';\n",
       "        break;\n",
       "    case 2:\n",
       "        cursor = 'crosshair';\n",
       "        break;\n",
       "    case 3:\n",
       "        cursor = 'move';\n",
       "        break;\n",
       "    }\n",
       "    fig.rubberband_canvas.style.cursor = cursor;\n",
       "}\n",
       "\n",
       "mpl.figure.prototype.handle_message = function(fig, msg) {\n",
       "    fig.message.textContent = msg['message'];\n",
       "}\n",
       "\n",
       "mpl.figure.prototype.handle_draw = function(fig, msg) {\n",
       "    // Request the server to send over a new figure.\n",
       "    fig.send_draw_message();\n",
       "}\n",
       "\n",
       "mpl.figure.prototype.handle_image_mode = function(fig, msg) {\n",
       "    fig.image_mode = msg['mode'];\n",
       "}\n",
       "\n",
       "mpl.figure.prototype.updated_canvas_event = function() {\n",
       "    // Called whenever the canvas gets updated.\n",
       "    this.send_message(\"ack\", {});\n",
       "}\n",
       "\n",
       "// A function to construct a web socket function for onmessage handling.\n",
       "// Called in the figure constructor.\n",
       "mpl.figure.prototype._make_on_message_function = function(fig) {\n",
       "    return function socket_on_message(evt) {\n",
       "        if (evt.data instanceof Blob) {\n",
       "            /* FIXME: We get \"Resource interpreted as Image but\n",
       "             * transferred with MIME type text/plain:\" errors on\n",
       "             * Chrome.  But how to set the MIME type?  It doesn't seem\n",
       "             * to be part of the websocket stream */\n",
       "            evt.data.type = \"image/png\";\n",
       "\n",
       "            /* Free the memory for the previous frames */\n",
       "            if (fig.imageObj.src) {\n",
       "                (window.URL || window.webkitURL).revokeObjectURL(\n",
       "                    fig.imageObj.src);\n",
       "            }\n",
       "\n",
       "            fig.imageObj.src = (window.URL || window.webkitURL).createObjectURL(\n",
       "                evt.data);\n",
       "            fig.updated_canvas_event();\n",
       "            fig.waiting = false;\n",
       "            return;\n",
       "        }\n",
       "        else if (typeof evt.data === 'string' && evt.data.slice(0, 21) == \"data:image/png;base64\") {\n",
       "            fig.imageObj.src = evt.data;\n",
       "            fig.updated_canvas_event();\n",
       "            fig.waiting = false;\n",
       "            return;\n",
       "        }\n",
       "\n",
       "        var msg = JSON.parse(evt.data);\n",
       "        var msg_type = msg['type'];\n",
       "\n",
       "        // Call the  \"handle_{type}\" callback, which takes\n",
       "        // the figure and JSON message as its only arguments.\n",
       "        try {\n",
       "            var callback = fig[\"handle_\" + msg_type];\n",
       "        } catch (e) {\n",
       "            console.log(\"No handler for the '\" + msg_type + \"' message type: \", msg);\n",
       "            return;\n",
       "        }\n",
       "\n",
       "        if (callback) {\n",
       "            try {\n",
       "                // console.log(\"Handling '\" + msg_type + \"' message: \", msg);\n",
       "                callback(fig, msg);\n",
       "            } catch (e) {\n",
       "                console.log(\"Exception inside the 'handler_\" + msg_type + \"' callback:\", e, e.stack, msg);\n",
       "            }\n",
       "        }\n",
       "    };\n",
       "}\n",
       "\n",
       "// from http://stackoverflow.com/questions/1114465/getting-mouse-location-in-canvas\n",
       "mpl.findpos = function(e) {\n",
       "    //this section is from http://www.quirksmode.org/js/events_properties.html\n",
       "    var targ;\n",
       "    if (!e)\n",
       "        e = window.event;\n",
       "    if (e.target)\n",
       "        targ = e.target;\n",
       "    else if (e.srcElement)\n",
       "        targ = e.srcElement;\n",
       "    if (targ.nodeType == 3) // defeat Safari bug\n",
       "        targ = targ.parentNode;\n",
       "\n",
       "    // jQuery normalizes the pageX and pageY\n",
       "    // pageX,Y are the mouse positions relative to the document\n",
       "    // offset() returns the position of the element relative to the document\n",
       "    var x = e.pageX - $(targ).offset().left;\n",
       "    var y = e.pageY - $(targ).offset().top;\n",
       "\n",
       "    return {\"x\": x, \"y\": y};\n",
       "};\n",
       "\n",
       "/*\n",
       " * return a copy of an object with only non-object keys\n",
       " * we need this to avoid circular references\n",
       " * http://stackoverflow.com/a/24161582/3208463\n",
       " */\n",
       "function simpleKeys (original) {\n",
       "  return Object.keys(original).reduce(function (obj, key) {\n",
       "    if (typeof original[key] !== 'object')\n",
       "        obj[key] = original[key]\n",
       "    return obj;\n",
       "  }, {});\n",
       "}\n",
       "\n",
       "mpl.figure.prototype.mouse_event = function(event, name) {\n",
       "    var canvas_pos = mpl.findpos(event)\n",
       "\n",
       "    if (name === 'button_press')\n",
       "    {\n",
       "        this.canvas.focus();\n",
       "        this.canvas_div.focus();\n",
       "    }\n",
       "\n",
       "    var x = canvas_pos.x * mpl.ratio;\n",
       "    var y = canvas_pos.y * mpl.ratio;\n",
       "\n",
       "    this.send_message(name, {x: x, y: y, button: event.button,\n",
       "                             step: event.step,\n",
       "                             guiEvent: simpleKeys(event)});\n",
       "\n",
       "    /* This prevents the web browser from automatically changing to\n",
       "     * the text insertion cursor when the button is pressed.  We want\n",
       "     * to control all of the cursor setting manually through the\n",
       "     * 'cursor' event from matplotlib */\n",
       "    event.preventDefault();\n",
       "    return false;\n",
       "}\n",
       "\n",
       "mpl.figure.prototype._key_event_extra = function(event, name) {\n",
       "    // Handle any extra behaviour associated with a key event\n",
       "}\n",
       "\n",
       "mpl.figure.prototype.key_event = function(event, name) {\n",
       "\n",
       "    // Prevent repeat events\n",
       "    if (name == 'key_press')\n",
       "    {\n",
       "        if (event.which === this._key)\n",
       "            return;\n",
       "        else\n",
       "            this._key = event.which;\n",
       "    }\n",
       "    if (name == 'key_release')\n",
       "        this._key = null;\n",
       "\n",
       "    var value = '';\n",
       "    if (event.ctrlKey && event.which != 17)\n",
       "        value += \"ctrl+\";\n",
       "    if (event.altKey && event.which != 18)\n",
       "        value += \"alt+\";\n",
       "    if (event.shiftKey && event.which != 16)\n",
       "        value += \"shift+\";\n",
       "\n",
       "    value += 'k';\n",
       "    value += event.which.toString();\n",
       "\n",
       "    this._key_event_extra(event, name);\n",
       "\n",
       "    this.send_message(name, {key: value,\n",
       "                             guiEvent: simpleKeys(event)});\n",
       "    return false;\n",
       "}\n",
       "\n",
       "mpl.figure.prototype.toolbar_button_onclick = function(name) {\n",
       "    if (name == 'download') {\n",
       "        this.handle_save(this, null);\n",
       "    } else {\n",
       "        this.send_message(\"toolbar_button\", {name: name});\n",
       "    }\n",
       "};\n",
       "\n",
       "mpl.figure.prototype.toolbar_button_onmouseover = function(tooltip) {\n",
       "    this.message.textContent = tooltip;\n",
       "};\n",
       "mpl.toolbar_items = [[\"Home\", \"Reset original view\", \"fa fa-home icon-home\", \"home\"], [\"Back\", \"Back to previous view\", \"fa fa-arrow-left icon-arrow-left\", \"back\"], [\"Forward\", \"Forward to next view\", \"fa fa-arrow-right icon-arrow-right\", \"forward\"], [\"\", \"\", \"\", \"\"], [\"Pan\", \"Pan axes with left mouse, zoom with right\", \"fa fa-arrows icon-move\", \"pan\"], [\"Zoom\", \"Zoom to rectangle\", \"fa fa-square-o icon-check-empty\", \"zoom\"], [\"\", \"\", \"\", \"\"], [\"Download\", \"Download plot\", \"fa fa-floppy-o icon-save\", \"download\"]];\n",
       "\n",
       "mpl.extensions = [\"eps\", \"jpeg\", \"pdf\", \"png\", \"ps\", \"raw\", \"svg\", \"tif\"];\n",
       "\n",
       "mpl.default_extension = \"png\";var comm_websocket_adapter = function(comm) {\n",
       "    // Create a \"websocket\"-like object which calls the given IPython comm\n",
       "    // object with the appropriate methods. Currently this is a non binary\n",
       "    // socket, so there is still some room for performance tuning.\n",
       "    var ws = {};\n",
       "\n",
       "    ws.close = function() {\n",
       "        comm.close()\n",
       "    };\n",
       "    ws.send = function(m) {\n",
       "        //console.log('sending', m);\n",
       "        comm.send(m);\n",
       "    };\n",
       "    // Register the callback with on_msg.\n",
       "    comm.on_msg(function(msg) {\n",
       "        //console.log('receiving', msg['content']['data'], msg);\n",
       "        // Pass the mpl event to the overridden (by mpl) onmessage function.\n",
       "        ws.onmessage(msg['content']['data'])\n",
       "    });\n",
       "    return ws;\n",
       "}\n",
       "\n",
       "mpl.mpl_figure_comm = function(comm, msg) {\n",
       "    // This is the function which gets called when the mpl process\n",
       "    // starts-up an IPython Comm through the \"matplotlib\" channel.\n",
       "\n",
       "    var id = msg.content.data.id;\n",
       "    // Get hold of the div created by the display call when the Comm\n",
       "    // socket was opened in Python.\n",
       "    var element = $(\"#\" + id);\n",
       "    var ws_proxy = comm_websocket_adapter(comm)\n",
       "\n",
       "    function ondownload(figure, format) {\n",
       "        window.open(figure.imageObj.src);\n",
       "    }\n",
       "\n",
       "    var fig = new mpl.figure(id, ws_proxy,\n",
       "                           ondownload,\n",
       "                           element.get(0));\n",
       "\n",
       "    // Call onopen now - mpl needs it, as it is assuming we've passed it a real\n",
       "    // web socket which is closed, not our websocket->open comm proxy.\n",
       "    ws_proxy.onopen();\n",
       "\n",
       "    fig.parent_element = element.get(0);\n",
       "    fig.cell_info = mpl.find_output_cell(\"<div id='\" + id + \"'></div>\");\n",
       "    if (!fig.cell_info) {\n",
       "        console.error(\"Failed to find cell for figure\", id, fig);\n",
       "        return;\n",
       "    }\n",
       "\n",
       "    var output_index = fig.cell_info[2]\n",
       "    var cell = fig.cell_info[0];\n",
       "\n",
       "};\n",
       "\n",
       "mpl.figure.prototype.handle_close = function(fig, msg) {\n",
       "    var width = fig.canvas.width/mpl.ratio\n",
       "    fig.root.unbind('remove')\n",
       "\n",
       "    // Update the output cell to use the data from the current canvas.\n",
       "    fig.push_to_output();\n",
       "    var dataURL = fig.canvas.toDataURL();\n",
       "    // Re-enable the keyboard manager in IPython - without this line, in FF,\n",
       "    // the notebook keyboard shortcuts fail.\n",
       "    IPython.keyboard_manager.enable()\n",
       "    $(fig.parent_element).html('<img src=\"' + dataURL + '\" width=\"' + width + '\">');\n",
       "    fig.close_ws(fig, msg);\n",
       "}\n",
       "\n",
       "mpl.figure.prototype.close_ws = function(fig, msg){\n",
       "    fig.send_message('closing', msg);\n",
       "    // fig.ws.close()\n",
       "}\n",
       "\n",
       "mpl.figure.prototype.push_to_output = function(remove_interactive) {\n",
       "    // Turn the data on the canvas into data in the output cell.\n",
       "    var width = this.canvas.width/mpl.ratio\n",
       "    var dataURL = this.canvas.toDataURL();\n",
       "    this.cell_info[1]['text/html'] = '<img src=\"' + dataURL + '\" width=\"' + width + '\">';\n",
       "}\n",
       "\n",
       "mpl.figure.prototype.updated_canvas_event = function() {\n",
       "    // Tell IPython that the notebook contents must change.\n",
       "    IPython.notebook.set_dirty(true);\n",
       "    this.send_message(\"ack\", {});\n",
       "    var fig = this;\n",
       "    // Wait a second, then push the new image to the DOM so\n",
       "    // that it is saved nicely (might be nice to debounce this).\n",
       "    setTimeout(function () { fig.push_to_output() }, 1000);\n",
       "}\n",
       "\n",
       "mpl.figure.prototype._init_toolbar = function() {\n",
       "    var fig = this;\n",
       "\n",
       "    var nav_element = $('<div/>');\n",
       "    nav_element.attr('style', 'width: 100%');\n",
       "    this.root.append(nav_element);\n",
       "\n",
       "    // Define a callback function for later on.\n",
       "    function toolbar_event(event) {\n",
       "        return fig.toolbar_button_onclick(event['data']);\n",
       "    }\n",
       "    function toolbar_mouse_event(event) {\n",
       "        return fig.toolbar_button_onmouseover(event['data']);\n",
       "    }\n",
       "\n",
       "    for(var toolbar_ind in mpl.toolbar_items){\n",
       "        var name = mpl.toolbar_items[toolbar_ind][0];\n",
       "        var tooltip = mpl.toolbar_items[toolbar_ind][1];\n",
       "        var image = mpl.toolbar_items[toolbar_ind][2];\n",
       "        var method_name = mpl.toolbar_items[toolbar_ind][3];\n",
       "\n",
       "        if (!name) { continue; };\n",
       "\n",
       "        var button = $('<button class=\"btn btn-default\" href=\"#\" title=\"' + name + '\"><i class=\"fa ' + image + ' fa-lg\"></i></button>');\n",
       "        button.click(method_name, toolbar_event);\n",
       "        button.mouseover(tooltip, toolbar_mouse_event);\n",
       "        nav_element.append(button);\n",
       "    }\n",
       "\n",
       "    // Add the status bar.\n",
       "    var status_bar = $('<span class=\"mpl-message\" style=\"text-align:right; float: right;\"/>');\n",
       "    nav_element.append(status_bar);\n",
       "    this.message = status_bar[0];\n",
       "\n",
       "    // Add the close button to the window.\n",
       "    var buttongrp = $('<div class=\"btn-group inline pull-right\"></div>');\n",
       "    var button = $('<button class=\"btn btn-mini btn-primary\" href=\"#\" title=\"Stop Interaction\"><i class=\"fa fa-power-off icon-remove icon-large\"></i></button>');\n",
       "    button.click(function (evt) { fig.handle_close(fig, {}); } );\n",
       "    button.mouseover('Stop Interaction', toolbar_mouse_event);\n",
       "    buttongrp.append(button);\n",
       "    var titlebar = this.root.find($('.ui-dialog-titlebar'));\n",
       "    titlebar.prepend(buttongrp);\n",
       "}\n",
       "\n",
       "mpl.figure.prototype._root_extra_style = function(el){\n",
       "    var fig = this\n",
       "    el.on(\"remove\", function(){\n",
       "\tfig.close_ws(fig, {});\n",
       "    });\n",
       "}\n",
       "\n",
       "mpl.figure.prototype._canvas_extra_style = function(el){\n",
       "    // this is important to make the div 'focusable\n",
       "    el.attr('tabindex', 0)\n",
       "    // reach out to IPython and tell the keyboard manager to turn it's self\n",
       "    // off when our div gets focus\n",
       "\n",
       "    // location in version 3\n",
       "    if (IPython.notebook.keyboard_manager) {\n",
       "        IPython.notebook.keyboard_manager.register_events(el);\n",
       "    }\n",
       "    else {\n",
       "        // location in version 2\n",
       "        IPython.keyboard_manager.register_events(el);\n",
       "    }\n",
       "\n",
       "}\n",
       "\n",
       "mpl.figure.prototype._key_event_extra = function(event, name) {\n",
       "    var manager = IPython.notebook.keyboard_manager;\n",
       "    if (!manager)\n",
       "        manager = IPython.keyboard_manager;\n",
       "\n",
       "    // Check for shift+enter\n",
       "    if (event.shiftKey && event.which == 13) {\n",
       "        this.canvas_div.blur();\n",
       "        event.shiftKey = false;\n",
       "        // Send a \"J\" for go to next cell\n",
       "        event.which = 74;\n",
       "        event.keyCode = 74;\n",
       "        manager.command_mode();\n",
       "        manager.handle_keydown(event);\n",
       "    }\n",
       "}\n",
       "\n",
       "mpl.figure.prototype.handle_save = function(fig, msg) {\n",
       "    fig.ondownload(fig, null);\n",
       "}\n",
       "\n",
       "\n",
       "mpl.find_output_cell = function(html_output) {\n",
       "    // Return the cell and output element which can be found *uniquely* in the notebook.\n",
       "    // Note - this is a bit hacky, but it is done because the \"notebook_saving.Notebook\"\n",
       "    // IPython event is triggered only after the cells have been serialised, which for\n",
       "    // our purposes (turning an active figure into a static one), is too late.\n",
       "    var cells = IPython.notebook.get_cells();\n",
       "    var ncells = cells.length;\n",
       "    for (var i=0; i<ncells; i++) {\n",
       "        var cell = cells[i];\n",
       "        if (cell.cell_type === 'code'){\n",
       "            for (var j=0; j<cell.output_area.outputs.length; j++) {\n",
       "                var data = cell.output_area.outputs[j];\n",
       "                if (data.data) {\n",
       "                    // IPython >= 3 moved mimebundle to data attribute of output\n",
       "                    data = data.data;\n",
       "                }\n",
       "                if (data['text/html'] == html_output) {\n",
       "                    return [cell, data, j];\n",
       "                }\n",
       "            }\n",
       "        }\n",
       "    }\n",
       "}\n",
       "\n",
       "// Register the function which deals with the matplotlib target/channel.\n",
       "// The kernel may be null if the page has been refreshed.\n",
       "if (IPython.notebook.kernel != null) {\n",
       "    IPython.notebook.kernel.comm_manager.register_target('matplotlib', mpl.mpl_figure_comm);\n",
       "}\n"
      ],
      "text/plain": [
       "<IPython.core.display.Javascript object>"
      ]
     },
     "metadata": {},
     "output_type": "display_data"
    },
    {
     "data": {
      "text/html": [
       "<img src=\"data:image/png;base64,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\" width=\"639.9999861283738\">"
      ],
      "text/plain": [
       "<IPython.core.display.HTML object>"
      ]
     },
     "metadata": {},
     "output_type": "display_data"
    }
   ],
   "source": [
    "# %load http://matplotlib.org/mpl_examples/mplot3d/contour3d_demo3.py\n",
    "from mpl_toolkits.mplot3d import axes3d\n",
    "import matplotlib.pyplot as plt\n",
    "from matplotlib import cm\n",
    "\n",
    "fig = plt.figure()\n",
    "ax = fig.gca(projection='3d')\n",
    "X, Y, Z = axes3d.get_test_data(0.05)\n",
    "ax.plot_surface(X, Y, Z, rstride=8, cstride=8, alpha=0.3)\n",
    "cset = ax.contour(X, Y, Z, zdir='z', offset=-100, cmap=cm.coolwarm)\n",
    "cset = ax.contour(X, Y, Z, zdir='x', offset=-40, cmap=cm.coolwarm)\n",
    "cset = ax.contour(X, Y, Z, zdir='y', offset=40, cmap=cm.coolwarm)\n",
    "\n",
    "ax.set_xlabel('X')\n",
    "ax.set_xlim(-40, 40)\n",
    "ax.set_ylabel('Y')\n",
    "ax.set_ylim(-40, 40)\n",
    "ax.set_zlabel('Z')\n",
    "ax.set_zlim(-100, 100)\n",
    "\n",
    "plt.show()"
   ]
  },
  {
   "cell_type": "code",
   "execution_count": 10,
   "metadata": {
    "ExecuteTime": {
     "end_time": "2019-08-13T10:43:05.674917Z",
     "start_time": "2019-08-13T10:43:05.318860Z"
    }
   },
   "outputs": [
    {
     "data": {
      "application/javascript": [
       "/* Put everything inside the global mpl namespace */\n",
       "window.mpl = {};\n",
       "\n",
       "\n",
       "mpl.get_websocket_type = function() {\n",
       "    if (typeof(WebSocket) !== 'undefined') {\n",
       "        return WebSocket;\n",
       "    } else if (typeof(MozWebSocket) !== 'undefined') {\n",
       "        return MozWebSocket;\n",
       "    } else {\n",
       "        alert('Your browser does not have WebSocket support. ' +\n",
       "              'Please try Chrome, Safari or Firefox ≥ 6. ' +\n",
       "              'Firefox 4 and 5 are also supported but you ' +\n",
       "              'have to enable WebSockets in about:config.');\n",
       "    };\n",
       "}\n",
       "\n",
       "mpl.figure = function(figure_id, websocket, ondownload, parent_element) {\n",
       "    this.id = figure_id;\n",
       "\n",
       "    this.ws = websocket;\n",
       "\n",
       "    this.supports_binary = (this.ws.binaryType != undefined);\n",
       "\n",
       "    if (!this.supports_binary) {\n",
       "        var warnings = document.getElementById(\"mpl-warnings\");\n",
       "        if (warnings) {\n",
       "            warnings.style.display = 'block';\n",
       "            warnings.textContent = (\n",
       "                \"This browser does not support binary websocket messages. \" +\n",
       "                    \"Performance may be slow.\");\n",
       "        }\n",
       "    }\n",
       "\n",
       "    this.imageObj = new Image();\n",
       "\n",
       "    this.context = undefined;\n",
       "    this.message = undefined;\n",
       "    this.canvas = undefined;\n",
       "    this.rubberband_canvas = undefined;\n",
       "    this.rubberband_context = undefined;\n",
       "    this.format_dropdown = undefined;\n",
       "\n",
       "    this.image_mode = 'full';\n",
       "\n",
       "    this.root = $('<div/>');\n",
       "    this._root_extra_style(this.root)\n",
       "    this.root.attr('style', 'display: inline-block');\n",
       "\n",
       "    $(parent_element).append(this.root);\n",
       "\n",
       "    this._init_header(this);\n",
       "    this._init_canvas(this);\n",
       "    this._init_toolbar(this);\n",
       "\n",
       "    var fig = this;\n",
       "\n",
       "    this.waiting = false;\n",
       "\n",
       "    this.ws.onopen =  function () {\n",
       "            fig.send_message(\"supports_binary\", {value: fig.supports_binary});\n",
       "            fig.send_message(\"send_image_mode\", {});\n",
       "            if (mpl.ratio != 1) {\n",
       "                fig.send_message(\"set_dpi_ratio\", {'dpi_ratio': mpl.ratio});\n",
       "            }\n",
       "            fig.send_message(\"refresh\", {});\n",
       "        }\n",
       "\n",
       "    this.imageObj.onload = function() {\n",
       "            if (fig.image_mode == 'full') {\n",
       "                // Full images could contain transparency (where diff images\n",
       "                // almost always do), so we need to clear the canvas so that\n",
       "                // there is no ghosting.\n",
       "                fig.context.clearRect(0, 0, fig.canvas.width, fig.canvas.height);\n",
       "            }\n",
       "            fig.context.drawImage(fig.imageObj, 0, 0);\n",
       "        };\n",
       "\n",
       "    this.imageObj.onunload = function() {\n",
       "        fig.ws.close();\n",
       "    }\n",
       "\n",
       "    this.ws.onmessage = this._make_on_message_function(this);\n",
       "\n",
       "    this.ondownload = ondownload;\n",
       "}\n",
       "\n",
       "mpl.figure.prototype._init_header = function() {\n",
       "    var titlebar = $(\n",
       "        '<div class=\"ui-dialog-titlebar ui-widget-header ui-corner-all ' +\n",
       "        'ui-helper-clearfix\"/>');\n",
       "    var titletext = $(\n",
       "        '<div class=\"ui-dialog-title\" style=\"width: 100%; ' +\n",
       "        'text-align: center; padding: 3px;\"/>');\n",
       "    titlebar.append(titletext)\n",
       "    this.root.append(titlebar);\n",
       "    this.header = titletext[0];\n",
       "}\n",
       "\n",
       "\n",
       "\n",
       "mpl.figure.prototype._canvas_extra_style = function(canvas_div) {\n",
       "\n",
       "}\n",
       "\n",
       "\n",
       "mpl.figure.prototype._root_extra_style = function(canvas_div) {\n",
       "\n",
       "}\n",
       "\n",
       "mpl.figure.prototype._init_canvas = function() {\n",
       "    var fig = this;\n",
       "\n",
       "    var canvas_div = $('<div/>');\n",
       "\n",
       "    canvas_div.attr('style', 'position: relative; clear: both; outline: 0');\n",
       "\n",
       "    function canvas_keyboard_event(event) {\n",
       "        return fig.key_event(event, event['data']);\n",
       "    }\n",
       "\n",
       "    canvas_div.keydown('key_press', canvas_keyboard_event);\n",
       "    canvas_div.keyup('key_release', canvas_keyboard_event);\n",
       "    this.canvas_div = canvas_div\n",
       "    this._canvas_extra_style(canvas_div)\n",
       "    this.root.append(canvas_div);\n",
       "\n",
       "    var canvas = $('<canvas/>');\n",
       "    canvas.addClass('mpl-canvas');\n",
       "    canvas.attr('style', \"left: 0; top: 0; z-index: 0; outline: 0\")\n",
       "\n",
       "    this.canvas = canvas[0];\n",
       "    this.context = canvas[0].getContext(\"2d\");\n",
       "\n",
       "    var backingStore = this.context.backingStorePixelRatio ||\n",
       "\tthis.context.webkitBackingStorePixelRatio ||\n",
       "\tthis.context.mozBackingStorePixelRatio ||\n",
       "\tthis.context.msBackingStorePixelRatio ||\n",
       "\tthis.context.oBackingStorePixelRatio ||\n",
       "\tthis.context.backingStorePixelRatio || 1;\n",
       "\n",
       "    mpl.ratio = (window.devicePixelRatio || 1) / backingStore;\n",
       "\n",
       "    var rubberband = $('<canvas/>');\n",
       "    rubberband.attr('style', \"position: absolute; left: 0; top: 0; z-index: 1;\")\n",
       "\n",
       "    var pass_mouse_events = true;\n",
       "\n",
       "    canvas_div.resizable({\n",
       "        start: function(event, ui) {\n",
       "            pass_mouse_events = false;\n",
       "        },\n",
       "        resize: function(event, ui) {\n",
       "            fig.request_resize(ui.size.width, ui.size.height);\n",
       "        },\n",
       "        stop: function(event, ui) {\n",
       "            pass_mouse_events = true;\n",
       "            fig.request_resize(ui.size.width, ui.size.height);\n",
       "        },\n",
       "    });\n",
       "\n",
       "    function mouse_event_fn(event) {\n",
       "        if (pass_mouse_events)\n",
       "            return fig.mouse_event(event, event['data']);\n",
       "    }\n",
       "\n",
       "    rubberband.mousedown('button_press', mouse_event_fn);\n",
       "    rubberband.mouseup('button_release', mouse_event_fn);\n",
       "    // Throttle sequential mouse events to 1 every 20ms.\n",
       "    rubberband.mousemove('motion_notify', mouse_event_fn);\n",
       "\n",
       "    rubberband.mouseenter('figure_enter', mouse_event_fn);\n",
       "    rubberband.mouseleave('figure_leave', mouse_event_fn);\n",
       "\n",
       "    canvas_div.on(\"wheel\", function (event) {\n",
       "        event = event.originalEvent;\n",
       "        event['data'] = 'scroll'\n",
       "        if (event.deltaY < 0) {\n",
       "            event.step = 1;\n",
       "        } else {\n",
       "            event.step = -1;\n",
       "        }\n",
       "        mouse_event_fn(event);\n",
       "    });\n",
       "\n",
       "    canvas_div.append(canvas);\n",
       "    canvas_div.append(rubberband);\n",
       "\n",
       "    this.rubberband = rubberband;\n",
       "    this.rubberband_canvas = rubberband[0];\n",
       "    this.rubberband_context = rubberband[0].getContext(\"2d\");\n",
       "    this.rubberband_context.strokeStyle = \"#000000\";\n",
       "\n",
       "    this._resize_canvas = function(width, height) {\n",
       "        // Keep the size of the canvas, canvas container, and rubber band\n",
       "        // canvas in synch.\n",
       "        canvas_div.css('width', width)\n",
       "        canvas_div.css('height', height)\n",
       "\n",
       "        canvas.attr('width', width * mpl.ratio);\n",
       "        canvas.attr('height', height * mpl.ratio);\n",
       "        canvas.attr('style', 'width: ' + width + 'px; height: ' + height + 'px;');\n",
       "\n",
       "        rubberband.attr('width', width);\n",
       "        rubberband.attr('height', height);\n",
       "    }\n",
       "\n",
       "    // Set the figure to an initial 600x600px, this will subsequently be updated\n",
       "    // upon first draw.\n",
       "    this._resize_canvas(600, 600);\n",
       "\n",
       "    // Disable right mouse context menu.\n",
       "    $(this.rubberband_canvas).bind(\"contextmenu\",function(e){\n",
       "        return false;\n",
       "    });\n",
       "\n",
       "    function set_focus () {\n",
       "        canvas.focus();\n",
       "        canvas_div.focus();\n",
       "    }\n",
       "\n",
       "    window.setTimeout(set_focus, 100);\n",
       "}\n",
       "\n",
       "mpl.figure.prototype._init_toolbar = function() {\n",
       "    var fig = this;\n",
       "\n",
       "    var nav_element = $('<div/>');\n",
       "    nav_element.attr('style', 'width: 100%');\n",
       "    this.root.append(nav_element);\n",
       "\n",
       "    // Define a callback function for later on.\n",
       "    function toolbar_event(event) {\n",
       "        return fig.toolbar_button_onclick(event['data']);\n",
       "    }\n",
       "    function toolbar_mouse_event(event) {\n",
       "        return fig.toolbar_button_onmouseover(event['data']);\n",
       "    }\n",
       "\n",
       "    for(var toolbar_ind in mpl.toolbar_items) {\n",
       "        var name = mpl.toolbar_items[toolbar_ind][0];\n",
       "        var tooltip = mpl.toolbar_items[toolbar_ind][1];\n",
       "        var image = mpl.toolbar_items[toolbar_ind][2];\n",
       "        var method_name = mpl.toolbar_items[toolbar_ind][3];\n",
       "\n",
       "        if (!name) {\n",
       "            // put a spacer in here.\n",
       "            continue;\n",
       "        }\n",
       "        var button = $('<button/>');\n",
       "        button.addClass('ui-button ui-widget ui-state-default ui-corner-all ' +\n",
       "                        'ui-button-icon-only');\n",
       "        button.attr('role', 'button');\n",
       "        button.attr('aria-disabled', 'false');\n",
       "        button.click(method_name, toolbar_event);\n",
       "        button.mouseover(tooltip, toolbar_mouse_event);\n",
       "\n",
       "        var icon_img = $('<span/>');\n",
       "        icon_img.addClass('ui-button-icon-primary ui-icon');\n",
       "        icon_img.addClass(image);\n",
       "        icon_img.addClass('ui-corner-all');\n",
       "\n",
       "        var tooltip_span = $('<span/>');\n",
       "        tooltip_span.addClass('ui-button-text');\n",
       "        tooltip_span.html(tooltip);\n",
       "\n",
       "        button.append(icon_img);\n",
       "        button.append(tooltip_span);\n",
       "\n",
       "        nav_element.append(button);\n",
       "    }\n",
       "\n",
       "    var fmt_picker_span = $('<span/>');\n",
       "\n",
       "    var fmt_picker = $('<select/>');\n",
       "    fmt_picker.addClass('mpl-toolbar-option ui-widget ui-widget-content');\n",
       "    fmt_picker_span.append(fmt_picker);\n",
       "    nav_element.append(fmt_picker_span);\n",
       "    this.format_dropdown = fmt_picker[0];\n",
       "\n",
       "    for (var ind in mpl.extensions) {\n",
       "        var fmt = mpl.extensions[ind];\n",
       "        var option = $(\n",
       "            '<option/>', {selected: fmt === mpl.default_extension}).html(fmt);\n",
       "        fmt_picker.append(option);\n",
       "    }\n",
       "\n",
       "    // Add hover states to the ui-buttons\n",
       "    $( \".ui-button\" ).hover(\n",
       "        function() { $(this).addClass(\"ui-state-hover\");},\n",
       "        function() { $(this).removeClass(\"ui-state-hover\");}\n",
       "    );\n",
       "\n",
       "    var status_bar = $('<span class=\"mpl-message\"/>');\n",
       "    nav_element.append(status_bar);\n",
       "    this.message = status_bar[0];\n",
       "}\n",
       "\n",
       "mpl.figure.prototype.request_resize = function(x_pixels, y_pixels) {\n",
       "    // Request matplotlib to resize the figure. Matplotlib will then trigger a resize in the client,\n",
       "    // which will in turn request a refresh of the image.\n",
       "    this.send_message('resize', {'width': x_pixels, 'height': y_pixels});\n",
       "}\n",
       "\n",
       "mpl.figure.prototype.send_message = function(type, properties) {\n",
       "    properties['type'] = type;\n",
       "    properties['figure_id'] = this.id;\n",
       "    this.ws.send(JSON.stringify(properties));\n",
       "}\n",
       "\n",
       "mpl.figure.prototype.send_draw_message = function() {\n",
       "    if (!this.waiting) {\n",
       "        this.waiting = true;\n",
       "        this.ws.send(JSON.stringify({type: \"draw\", figure_id: this.id}));\n",
       "    }\n",
       "}\n",
       "\n",
       "\n",
       "mpl.figure.prototype.handle_save = function(fig, msg) {\n",
       "    var format_dropdown = fig.format_dropdown;\n",
       "    var format = format_dropdown.options[format_dropdown.selectedIndex].value;\n",
       "    fig.ondownload(fig, format);\n",
       "}\n",
       "\n",
       "\n",
       "mpl.figure.prototype.handle_resize = function(fig, msg) {\n",
       "    var size = msg['size'];\n",
       "    if (size[0] != fig.canvas.width || size[1] != fig.canvas.height) {\n",
       "        fig._resize_canvas(size[0], size[1]);\n",
       "        fig.send_message(\"refresh\", {});\n",
       "    };\n",
       "}\n",
       "\n",
       "mpl.figure.prototype.handle_rubberband = function(fig, msg) {\n",
       "    var x0 = msg['x0'] / mpl.ratio;\n",
       "    var y0 = (fig.canvas.height - msg['y0']) / mpl.ratio;\n",
       "    var x1 = msg['x1'] / mpl.ratio;\n",
       "    var y1 = (fig.canvas.height - msg['y1']) / mpl.ratio;\n",
       "    x0 = Math.floor(x0) + 0.5;\n",
       "    y0 = Math.floor(y0) + 0.5;\n",
       "    x1 = Math.floor(x1) + 0.5;\n",
       "    y1 = Math.floor(y1) + 0.5;\n",
       "    var min_x = Math.min(x0, x1);\n",
       "    var min_y = Math.min(y0, y1);\n",
       "    var width = Math.abs(x1 - x0);\n",
       "    var height = Math.abs(y1 - y0);\n",
       "\n",
       "    fig.rubberband_context.clearRect(\n",
       "        0, 0, fig.canvas.width / mpl.ratio, fig.canvas.height / mpl.ratio);\n",
       "\n",
       "    fig.rubberband_context.strokeRect(min_x, min_y, width, height);\n",
       "}\n",
       "\n",
       "mpl.figure.prototype.handle_figure_label = function(fig, msg) {\n",
       "    // Updates the figure title.\n",
       "    fig.header.textContent = msg['label'];\n",
       "}\n",
       "\n",
       "mpl.figure.prototype.handle_cursor = function(fig, msg) {\n",
       "    var cursor = msg['cursor'];\n",
       "    switch(cursor)\n",
       "    {\n",
       "    case 0:\n",
       "        cursor = 'pointer';\n",
       "        break;\n",
       "    case 1:\n",
       "        cursor = 'default';\n",
       "        break;\n",
       "    case 2:\n",
       "        cursor = 'crosshair';\n",
       "        break;\n",
       "    case 3:\n",
       "        cursor = 'move';\n",
       "        break;\n",
       "    }\n",
       "    fig.rubberband_canvas.style.cursor = cursor;\n",
       "}\n",
       "\n",
       "mpl.figure.prototype.handle_message = function(fig, msg) {\n",
       "    fig.message.textContent = msg['message'];\n",
       "}\n",
       "\n",
       "mpl.figure.prototype.handle_draw = function(fig, msg) {\n",
       "    // Request the server to send over a new figure.\n",
       "    fig.send_draw_message();\n",
       "}\n",
       "\n",
       "mpl.figure.prototype.handle_image_mode = function(fig, msg) {\n",
       "    fig.image_mode = msg['mode'];\n",
       "}\n",
       "\n",
       "mpl.figure.prototype.updated_canvas_event = function() {\n",
       "    // Called whenever the canvas gets updated.\n",
       "    this.send_message(\"ack\", {});\n",
       "}\n",
       "\n",
       "// A function to construct a web socket function for onmessage handling.\n",
       "// Called in the figure constructor.\n",
       "mpl.figure.prototype._make_on_message_function = function(fig) {\n",
       "    return function socket_on_message(evt) {\n",
       "        if (evt.data instanceof Blob) {\n",
       "            /* FIXME: We get \"Resource interpreted as Image but\n",
       "             * transferred with MIME type text/plain:\" errors on\n",
       "             * Chrome.  But how to set the MIME type?  It doesn't seem\n",
       "             * to be part of the websocket stream */\n",
       "            evt.data.type = \"image/png\";\n",
       "\n",
       "            /* Free the memory for the previous frames */\n",
       "            if (fig.imageObj.src) {\n",
       "                (window.URL || window.webkitURL).revokeObjectURL(\n",
       "                    fig.imageObj.src);\n",
       "            }\n",
       "\n",
       "            fig.imageObj.src = (window.URL || window.webkitURL).createObjectURL(\n",
       "                evt.data);\n",
       "            fig.updated_canvas_event();\n",
       "            fig.waiting = false;\n",
       "            return;\n",
       "        }\n",
       "        else if (typeof evt.data === 'string' && evt.data.slice(0, 21) == \"data:image/png;base64\") {\n",
       "            fig.imageObj.src = evt.data;\n",
       "            fig.updated_canvas_event();\n",
       "            fig.waiting = false;\n",
       "            return;\n",
       "        }\n",
       "\n",
       "        var msg = JSON.parse(evt.data);\n",
       "        var msg_type = msg['type'];\n",
       "\n",
       "        // Call the  \"handle_{type}\" callback, which takes\n",
       "        // the figure and JSON message as its only arguments.\n",
       "        try {\n",
       "            var callback = fig[\"handle_\" + msg_type];\n",
       "        } catch (e) {\n",
       "            console.log(\"No handler for the '\" + msg_type + \"' message type: \", msg);\n",
       "            return;\n",
       "        }\n",
       "\n",
       "        if (callback) {\n",
       "            try {\n",
       "                // console.log(\"Handling '\" + msg_type + \"' message: \", msg);\n",
       "                callback(fig, msg);\n",
       "            } catch (e) {\n",
       "                console.log(\"Exception inside the 'handler_\" + msg_type + \"' callback:\", e, e.stack, msg);\n",
       "            }\n",
       "        }\n",
       "    };\n",
       "}\n",
       "\n",
       "// from http://stackoverflow.com/questions/1114465/getting-mouse-location-in-canvas\n",
       "mpl.findpos = function(e) {\n",
       "    //this section is from http://www.quirksmode.org/js/events_properties.html\n",
       "    var targ;\n",
       "    if (!e)\n",
       "        e = window.event;\n",
       "    if (e.target)\n",
       "        targ = e.target;\n",
       "    else if (e.srcElement)\n",
       "        targ = e.srcElement;\n",
       "    if (targ.nodeType == 3) // defeat Safari bug\n",
       "        targ = targ.parentNode;\n",
       "\n",
       "    // jQuery normalizes the pageX and pageY\n",
       "    // pageX,Y are the mouse positions relative to the document\n",
       "    // offset() returns the position of the element relative to the document\n",
       "    var x = e.pageX - $(targ).offset().left;\n",
       "    var y = e.pageY - $(targ).offset().top;\n",
       "\n",
       "    return {\"x\": x, \"y\": y};\n",
       "};\n",
       "\n",
       "/*\n",
       " * return a copy of an object with only non-object keys\n",
       " * we need this to avoid circular references\n",
       " * http://stackoverflow.com/a/24161582/3208463\n",
       " */\n",
       "function simpleKeys (original) {\n",
       "  return Object.keys(original).reduce(function (obj, key) {\n",
       "    if (typeof original[key] !== 'object')\n",
       "        obj[key] = original[key]\n",
       "    return obj;\n",
       "  }, {});\n",
       "}\n",
       "\n",
       "mpl.figure.prototype.mouse_event = function(event, name) {\n",
       "    var canvas_pos = mpl.findpos(event)\n",
       "\n",
       "    if (name === 'button_press')\n",
       "    {\n",
       "        this.canvas.focus();\n",
       "        this.canvas_div.focus();\n",
       "    }\n",
       "\n",
       "    var x = canvas_pos.x * mpl.ratio;\n",
       "    var y = canvas_pos.y * mpl.ratio;\n",
       "\n",
       "    this.send_message(name, {x: x, y: y, button: event.button,\n",
       "                             step: event.step,\n",
       "                             guiEvent: simpleKeys(event)});\n",
       "\n",
       "    /* This prevents the web browser from automatically changing to\n",
       "     * the text insertion cursor when the button is pressed.  We want\n",
       "     * to control all of the cursor setting manually through the\n",
       "     * 'cursor' event from matplotlib */\n",
       "    event.preventDefault();\n",
       "    return false;\n",
       "}\n",
       "\n",
       "mpl.figure.prototype._key_event_extra = function(event, name) {\n",
       "    // Handle any extra behaviour associated with a key event\n",
       "}\n",
       "\n",
       "mpl.figure.prototype.key_event = function(event, name) {\n",
       "\n",
       "    // Prevent repeat events\n",
       "    if (name == 'key_press')\n",
       "    {\n",
       "        if (event.which === this._key)\n",
       "            return;\n",
       "        else\n",
       "            this._key = event.which;\n",
       "    }\n",
       "    if (name == 'key_release')\n",
       "        this._key = null;\n",
       "\n",
       "    var value = '';\n",
       "    if (event.ctrlKey && event.which != 17)\n",
       "        value += \"ctrl+\";\n",
       "    if (event.altKey && event.which != 18)\n",
       "        value += \"alt+\";\n",
       "    if (event.shiftKey && event.which != 16)\n",
       "        value += \"shift+\";\n",
       "\n",
       "    value += 'k';\n",
       "    value += event.which.toString();\n",
       "\n",
       "    this._key_event_extra(event, name);\n",
       "\n",
       "    this.send_message(name, {key: value,\n",
       "                             guiEvent: simpleKeys(event)});\n",
       "    return false;\n",
       "}\n",
       "\n",
       "mpl.figure.prototype.toolbar_button_onclick = function(name) {\n",
       "    if (name == 'download') {\n",
       "        this.handle_save(this, null);\n",
       "    } else {\n",
       "        this.send_message(\"toolbar_button\", {name: name});\n",
       "    }\n",
       "};\n",
       "\n",
       "mpl.figure.prototype.toolbar_button_onmouseover = function(tooltip) {\n",
       "    this.message.textContent = tooltip;\n",
       "};\n",
       "mpl.toolbar_items = [[\"Home\", \"Reset original view\", \"fa fa-home icon-home\", \"home\"], [\"Back\", \"Back to previous view\", \"fa fa-arrow-left icon-arrow-left\", \"back\"], [\"Forward\", \"Forward to next view\", \"fa fa-arrow-right icon-arrow-right\", \"forward\"], [\"\", \"\", \"\", \"\"], [\"Pan\", \"Pan axes with left mouse, zoom with right\", \"fa fa-arrows icon-move\", \"pan\"], [\"Zoom\", \"Zoom to rectangle\", \"fa fa-square-o icon-check-empty\", \"zoom\"], [\"\", \"\", \"\", \"\"], [\"Download\", \"Download plot\", \"fa fa-floppy-o icon-save\", \"download\"]];\n",
       "\n",
       "mpl.extensions = [\"eps\", \"jpeg\", \"pdf\", \"png\", \"ps\", \"raw\", \"svg\", \"tif\"];\n",
       "\n",
       "mpl.default_extension = \"png\";var comm_websocket_adapter = function(comm) {\n",
       "    // Create a \"websocket\"-like object which calls the given IPython comm\n",
       "    // object with the appropriate methods. Currently this is a non binary\n",
       "    // socket, so there is still some room for performance tuning.\n",
       "    var ws = {};\n",
       "\n",
       "    ws.close = function() {\n",
       "        comm.close()\n",
       "    };\n",
       "    ws.send = function(m) {\n",
       "        //console.log('sending', m);\n",
       "        comm.send(m);\n",
       "    };\n",
       "    // Register the callback with on_msg.\n",
       "    comm.on_msg(function(msg) {\n",
       "        //console.log('receiving', msg['content']['data'], msg);\n",
       "        // Pass the mpl event to the overridden (by mpl) onmessage function.\n",
       "        ws.onmessage(msg['content']['data'])\n",
       "    });\n",
       "    return ws;\n",
       "}\n",
       "\n",
       "mpl.mpl_figure_comm = function(comm, msg) {\n",
       "    // This is the function which gets called when the mpl process\n",
       "    // starts-up an IPython Comm through the \"matplotlib\" channel.\n",
       "\n",
       "    var id = msg.content.data.id;\n",
       "    // Get hold of the div created by the display call when the Comm\n",
       "    // socket was opened in Python.\n",
       "    var element = $(\"#\" + id);\n",
       "    var ws_proxy = comm_websocket_adapter(comm)\n",
       "\n",
       "    function ondownload(figure, format) {\n",
       "        window.open(figure.imageObj.src);\n",
       "    }\n",
       "\n",
       "    var fig = new mpl.figure(id, ws_proxy,\n",
       "                           ondownload,\n",
       "                           element.get(0));\n",
       "\n",
       "    // Call onopen now - mpl needs it, as it is assuming we've passed it a real\n",
       "    // web socket which is closed, not our websocket->open comm proxy.\n",
       "    ws_proxy.onopen();\n",
       "\n",
       "    fig.parent_element = element.get(0);\n",
       "    fig.cell_info = mpl.find_output_cell(\"<div id='\" + id + \"'></div>\");\n",
       "    if (!fig.cell_info) {\n",
       "        console.error(\"Failed to find cell for figure\", id, fig);\n",
       "        return;\n",
       "    }\n",
       "\n",
       "    var output_index = fig.cell_info[2]\n",
       "    var cell = fig.cell_info[0];\n",
       "\n",
       "};\n",
       "\n",
       "mpl.figure.prototype.handle_close = function(fig, msg) {\n",
       "    var width = fig.canvas.width/mpl.ratio\n",
       "    fig.root.unbind('remove')\n",
       "\n",
       "    // Update the output cell to use the data from the current canvas.\n",
       "    fig.push_to_output();\n",
       "    var dataURL = fig.canvas.toDataURL();\n",
       "    // Re-enable the keyboard manager in IPython - without this line, in FF,\n",
       "    // the notebook keyboard shortcuts fail.\n",
       "    IPython.keyboard_manager.enable()\n",
       "    $(fig.parent_element).html('<img src=\"' + dataURL + '\" width=\"' + width + '\">');\n",
       "    fig.close_ws(fig, msg);\n",
       "}\n",
       "\n",
       "mpl.figure.prototype.close_ws = function(fig, msg){\n",
       "    fig.send_message('closing', msg);\n",
       "    // fig.ws.close()\n",
       "}\n",
       "\n",
       "mpl.figure.prototype.push_to_output = function(remove_interactive) {\n",
       "    // Turn the data on the canvas into data in the output cell.\n",
       "    var width = this.canvas.width/mpl.ratio\n",
       "    var dataURL = this.canvas.toDataURL();\n",
       "    this.cell_info[1]['text/html'] = '<img src=\"' + dataURL + '\" width=\"' + width + '\">';\n",
       "}\n",
       "\n",
       "mpl.figure.prototype.updated_canvas_event = function() {\n",
       "    // Tell IPython that the notebook contents must change.\n",
       "    IPython.notebook.set_dirty(true);\n",
       "    this.send_message(\"ack\", {});\n",
       "    var fig = this;\n",
       "    // Wait a second, then push the new image to the DOM so\n",
       "    // that it is saved nicely (might be nice to debounce this).\n",
       "    setTimeout(function () { fig.push_to_output() }, 1000);\n",
       "}\n",
       "\n",
       "mpl.figure.prototype._init_toolbar = function() {\n",
       "    var fig = this;\n",
       "\n",
       "    var nav_element = $('<div/>');\n",
       "    nav_element.attr('style', 'width: 100%');\n",
       "    this.root.append(nav_element);\n",
       "\n",
       "    // Define a callback function for later on.\n",
       "    function toolbar_event(event) {\n",
       "        return fig.toolbar_button_onclick(event['data']);\n",
       "    }\n",
       "    function toolbar_mouse_event(event) {\n",
       "        return fig.toolbar_button_onmouseover(event['data']);\n",
       "    }\n",
       "\n",
       "    for(var toolbar_ind in mpl.toolbar_items){\n",
       "        var name = mpl.toolbar_items[toolbar_ind][0];\n",
       "        var tooltip = mpl.toolbar_items[toolbar_ind][1];\n",
       "        var image = mpl.toolbar_items[toolbar_ind][2];\n",
       "        var method_name = mpl.toolbar_items[toolbar_ind][3];\n",
       "\n",
       "        if (!name) { continue; };\n",
       "\n",
       "        var button = $('<button class=\"btn btn-default\" href=\"#\" title=\"' + name + '\"><i class=\"fa ' + image + ' fa-lg\"></i></button>');\n",
       "        button.click(method_name, toolbar_event);\n",
       "        button.mouseover(tooltip, toolbar_mouse_event);\n",
       "        nav_element.append(button);\n",
       "    }\n",
       "\n",
       "    // Add the status bar.\n",
       "    var status_bar = $('<span class=\"mpl-message\" style=\"text-align:right; float: right;\"/>');\n",
       "    nav_element.append(status_bar);\n",
       "    this.message = status_bar[0];\n",
       "\n",
       "    // Add the close button to the window.\n",
       "    var buttongrp = $('<div class=\"btn-group inline pull-right\"></div>');\n",
       "    var button = $('<button class=\"btn btn-mini btn-primary\" href=\"#\" title=\"Stop Interaction\"><i class=\"fa fa-power-off icon-remove icon-large\"></i></button>');\n",
       "    button.click(function (evt) { fig.handle_close(fig, {}); } );\n",
       "    button.mouseover('Stop Interaction', toolbar_mouse_event);\n",
       "    buttongrp.append(button);\n",
       "    var titlebar = this.root.find($('.ui-dialog-titlebar'));\n",
       "    titlebar.prepend(buttongrp);\n",
       "}\n",
       "\n",
       "mpl.figure.prototype._root_extra_style = function(el){\n",
       "    var fig = this\n",
       "    el.on(\"remove\", function(){\n",
       "\tfig.close_ws(fig, {});\n",
       "    });\n",
       "}\n",
       "\n",
       "mpl.figure.prototype._canvas_extra_style = function(el){\n",
       "    // this is important to make the div 'focusable\n",
       "    el.attr('tabindex', 0)\n",
       "    // reach out to IPython and tell the keyboard manager to turn it's self\n",
       "    // off when our div gets focus\n",
       "\n",
       "    // location in version 3\n",
       "    if (IPython.notebook.keyboard_manager) {\n",
       "        IPython.notebook.keyboard_manager.register_events(el);\n",
       "    }\n",
       "    else {\n",
       "        // location in version 2\n",
       "        IPython.keyboard_manager.register_events(el);\n",
       "    }\n",
       "\n",
       "}\n",
       "\n",
       "mpl.figure.prototype._key_event_extra = function(event, name) {\n",
       "    var manager = IPython.notebook.keyboard_manager;\n",
       "    if (!manager)\n",
       "        manager = IPython.keyboard_manager;\n",
       "\n",
       "    // Check for shift+enter\n",
       "    if (event.shiftKey && event.which == 13) {\n",
       "        this.canvas_div.blur();\n",
       "        event.shiftKey = false;\n",
       "        // Send a \"J\" for go to next cell\n",
       "        event.which = 74;\n",
       "        event.keyCode = 74;\n",
       "        manager.command_mode();\n",
       "        manager.handle_keydown(event);\n",
       "    }\n",
       "}\n",
       "\n",
       "mpl.figure.prototype.handle_save = function(fig, msg) {\n",
       "    fig.ondownload(fig, null);\n",
       "}\n",
       "\n",
       "\n",
       "mpl.find_output_cell = function(html_output) {\n",
       "    // Return the cell and output element which can be found *uniquely* in the notebook.\n",
       "    // Note - this is a bit hacky, but it is done because the \"notebook_saving.Notebook\"\n",
       "    // IPython event is triggered only after the cells have been serialised, which for\n",
       "    // our purposes (turning an active figure into a static one), is too late.\n",
       "    var cells = IPython.notebook.get_cells();\n",
       "    var ncells = cells.length;\n",
       "    for (var i=0; i<ncells; i++) {\n",
       "        var cell = cells[i];\n",
       "        if (cell.cell_type === 'code'){\n",
       "            for (var j=0; j<cell.output_area.outputs.length; j++) {\n",
       "                var data = cell.output_area.outputs[j];\n",
       "                if (data.data) {\n",
       "                    // IPython >= 3 moved mimebundle to data attribute of output\n",
       "                    data = data.data;\n",
       "                }\n",
       "                if (data['text/html'] == html_output) {\n",
       "                    return [cell, data, j];\n",
       "                }\n",
       "            }\n",
       "        }\n",
       "    }\n",
       "}\n",
       "\n",
       "// Register the function which deals with the matplotlib target/channel.\n",
       "// The kernel may be null if the page has been refreshed.\n",
       "if (IPython.notebook.kernel != null) {\n",
       "    IPython.notebook.kernel.comm_manager.register_target('matplotlib', mpl.mpl_figure_comm);\n",
       "}\n"
      ],
      "text/plain": [
       "<IPython.core.display.Javascript object>"
      ]
     },
     "metadata": {},
     "output_type": "display_data"
    },
    {
     "data": {
      "text/html": [
       "<img src=\"data:image/png;base64,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\" width=\"639.9999861283738\">"
      ],
      "text/plain": [
       "<IPython.core.display.HTML object>"
      ]
     },
     "metadata": {},
     "output_type": "display_data"
    }
   ],
   "source": [
    "# %load http://matplotlib.org/mpl_examples/mplot3d/contour3d_demo3.py\n",
    "# Para fazer o gráfico em uma janela habilite:\n",
    "# %matplotlib qt ou  %matplotlib qt\n",
    "# Os teminais qt permitem interagir com os gráficos rotacionando eles\n",
    "from mpl_toolkits.mplot3d import axes3d\n",
    "import matplotlib.pyplot as plt\n",
    "from matplotlib import cm\n",
    "\n",
    "fig = plt.figure()\n",
    "ax = fig.gca(projection='3d')\n",
    "X, Y, Z = axes3d.get_test_data(0.01)\n",
    "alfa=0.5 # Transparência do calnal alfa 0, totalmente transparente, 1 sem transparência\n",
    "Rs = 45\n",
    "Cs = 45\n",
    "ax.plot_surface(X, Y, Z, rstride=Rs, cstride=Cs, alpha=alfa)\n",
    "cset = ax.contour(X, Y, Z, zdir='z', offset=-100, cmap=cm.coolwarm)\n",
    "cset = ax.contour(X, Y, Z, zdir='x', offset=-40, cmap=cm.coolwarm)\n",
    "cset = ax.contour(X, Y, Z, zdir='y', offset=40, cmap=cm.coolwarm)\n",
    "\n",
    "ax.set_xlabel('X')\n",
    "ax.set_xlim(-40, 40)\n",
    "ax.set_ylabel('Y')\n",
    "ax.set_ylim(-40, 40)\n",
    "ax.set_zlabel('Z')\n",
    "ax.set_zlim(-100, 100)\n",
    "\n",
    "plt.show()"
   ]
  },
  {
   "cell_type": "markdown",
   "metadata": {},
   "source": [
    "### Suporte ao Mathjax \n",
    "\n",
    "Mathjax é uma implementação javascript $\\alpha$ do LaTeX que permite que as equações sejam incorporadas em HTML. Por exemplo, esta marcação:\n",
    "\n",
    "    \"\"\"$$ \\int_{a}^{b} f(x)\\, dx \\approx \\frac{1}{2} \\sum_{k=1}^{N} \\left( x_{k} - x_{k-1} \\right) \\left( f(x_{k}) + f(x_{k-1}) \\right). $$\"\"\"\n",
    "    \n",
    "torna-se:\n",
    "\n",
    "$$\n",
    "\\int_{a}^{b} f(x)\\, dx \\approx \\frac{1}{2} \\sum_{k=1}^{N} \\left( x_{k} - x_{k-1} \\right) \\left( f(x_{k}) + f(x_{k-1}) \\right).\n",
    "$$\n",
    "\n",
    "```python\n",
    "print(a)\n",
    "```"
   ]
  },
  {
   "cell_type": "markdown",
   "metadata": {},
   "source": [
    "## Suporte SymPy\n",
    "\n",
    "SymPy é uma biblioteca Python para cálculo simbólico mathematics. Ela suporta:\n",
    "\n",
    "* polinômios\n",
    "* cálculo\n",
    "* resolvendo equações\n",
    "* matemática discreta\n",
    "* matrizes"
   ]
  },
  {
   "cell_type": "code",
   "execution_count": null,
   "metadata": {
    "ExecuteTime": {
     "end_time": "2019-08-12T12:24:13.716851Z",
     "start_time": "2019-08-12T12:24:12.962128Z"
    }
   },
   "outputs": [],
   "source": [
    "from sympy import *\n",
    "init_printing()\n",
    "x, y = symbols(\"x y\")"
   ]
  },
  {
   "cell_type": "code",
   "execution_count": null,
   "metadata": {
    "ExecuteTime": {
     "end_time": "2019-08-12T12:24:16.726442Z",
     "start_time": "2019-08-12T12:24:16.237203Z"
    }
   },
   "outputs": [],
   "source": [
    "eq = ((x+y)**2 * (x+1))\n",
    "eq"
   ]
  },
  {
   "cell_type": "code",
   "execution_count": null,
   "metadata": {
    "ExecuteTime": {
     "end_time": "2019-08-12T12:24:24.122921Z",
     "start_time": "2019-08-12T12:24:23.810220Z"
    }
   },
   "outputs": [],
   "source": [
    "expand(eq)"
   ]
  },
  {
   "cell_type": "code",
   "execution_count": null,
   "metadata": {
    "ExecuteTime": {
     "end_time": "2019-08-12T12:24:38.107594Z",
     "start_time": "2019-08-12T12:24:37.467663Z"
    }
   },
   "outputs": [],
   "source": [
    "(1/cos(x)).series(x, 0, 12)"
   ]
  },
  {
   "cell_type": "code",
   "execution_count": null,
   "metadata": {
    "ExecuteTime": {
     "end_time": "2019-08-12T12:24:48.246791Z",
     "start_time": "2019-08-12T12:24:47.821080Z"
    }
   },
   "outputs": [],
   "source": [
    "limit((sin(x)-x)/x**3, x, 0)"
   ]
  },
  {
   "cell_type": "code",
   "execution_count": null,
   "metadata": {
    "ExecuteTime": {
     "end_time": "2019-08-12T12:24:51.483151Z",
     "start_time": "2019-08-12T12:24:51.144827Z"
    }
   },
   "outputs": [],
   "source": [
    "diff(cos(x**2)**2 / (1+x), x)"
   ]
  },
  {
   "cell_type": "code",
   "execution_count": null,
   "metadata": {
    "ExecuteTime": {
     "end_time": "2019-08-12T12:25:01.475330Z",
     "start_time": "2019-08-12T12:25:01.107793Z"
    }
   },
   "outputs": [],
   "source": [
    "integrate(sin(x),x)"
   ]
  },
  {
   "cell_type": "markdown",
   "metadata": {},
   "source": [
    "### Funções mágicas\n",
    "\n",
    "O IPython tem um conjunto de \"funções mágicas\" predefinidas que você pode chamar com uma sintaxe de estilo de linha de comando. Esses incluem:\n",
    "\n",
    "* `%run`\n",
    "* `%edit`\n",
    "* `%debug`\n",
    "* `%timeit`\n",
    "* `%paste`\n",
    "* `%load_ext`\n",
    "* `%load`\n",
    "* `%%writefile`\n"
   ]
  },
  {
   "cell_type": "code",
   "execution_count": null,
   "metadata": {
    "ExecuteTime": {
     "end_time": "2019-08-12T12:25:43.750785Z",
     "start_time": "2019-08-12T12:25:43.739139Z"
    }
   },
   "outputs": [],
   "source": [
    "%lsmagic"
   ]
  },
  {
   "cell_type": "markdown",
   "metadata": {},
   "source": [
    "## Exemplo: O tutor\n",
    "\n",
    "Para executar o código abaixo você precisa de uuma conexão com a internet, pois ele irá executar o comando abaixo no site [Python Tutor](http://pythontutor.com/). Esse site é muito bom para aqueles que estão aprendendo uma linguagem de programação, pois ele linha por linha o que ocorrer na execução de um código. Usando essa ferramenta é possível visualizar códigos escritos nas seguintes linguagens: Python2, Python3, Java, JavaScript, TypeScript, Ruby, C, and C++.\n",
    "\n",
    "Como exemplo, considere o seguinte código:"
   ]
  },
  {
   "cell_type": "code",
   "execution_count": null,
   "metadata": {
    "ExecuteTime": {
     "end_time": "2019-08-12T12:26:46.207644Z",
     "start_time": "2019-08-12T12:26:46.202789Z"
    },
    "scrolled": true
   },
   "outputs": [],
   "source": [
    "%%tutor\n",
    "inicio=4\n",
    "fim= 13 # ele sempre vai terminar um passo antes, ou seja, em 12\n",
    "passo = 2\n",
    "for i in range(inicio,fim,passo):\n",
    "    print(i)"
   ]
  },
  {
   "cell_type": "markdown",
   "metadata": {},
   "source": [
    "Determinando o tempo de execução do código; O comando magic `timeit` existe tanto na forma de linha como de célula:"
   ]
  },
  {
   "cell_type": "code",
   "execution_count": null,
   "metadata": {
    "ExecuteTime": {
     "end_time": "2019-08-12T12:28:31.220572Z",
     "start_time": "2019-08-12T12:28:21.585185Z"
    }
   },
   "outputs": [],
   "source": [
    "import numpy as np\n",
    "%timeit np.linalg.eigvals(np.random.rand(100,100))"
   ]
  },
  {
   "cell_type": "code",
   "execution_count": null,
   "metadata": {
    "ExecuteTime": {
     "end_time": "2019-08-12T12:28:48.203669Z",
     "start_time": "2019-08-12T12:28:38.790253Z"
    }
   },
   "outputs": [],
   "source": [
    "%%timeit a = np.random.rand(100, 100)\n",
    "np.linalg.eigvals(a)"
   ]
  },
  {
   "cell_type": "markdown",
   "metadata": {},
   "source": [
    "O IPython também cria *aliases* para alguns intérpretes comuns, como bash, ruby, perl, etc.\n",
    "\n",
    "Estes são todos equivalentes a `%%script <nome>`"
   ]
  },
  {
   "cell_type": "code",
   "execution_count": null,
   "metadata": {
    "ExecuteTime": {
     "end_time": "2019-08-12T12:28:54.574524Z",
     "start_time": "2019-08-12T12:28:54.138477Z"
    }
   },
   "outputs": [],
   "source": [
    "%%ruby\n",
    "puts \"Hello from Ruby #{RUBY_VERSION}\""
   ]
  },
  {
   "cell_type": "code",
   "execution_count": null,
   "metadata": {
    "ExecuteTime": {
     "end_time": "2019-08-12T12:28:57.138291Z",
     "start_time": "2019-08-12T12:28:57.120900Z"
    }
   },
   "outputs": [],
   "source": [
    "%%bash\n",
    "echo \"hello from $BASH\""
   ]
  },
  {
   "cell_type": "markdown",
   "metadata": {},
   "source": [
    "IPython tem uma extensão `rmagic` que contém algumas funções mágicas para trabalhar com R via rpy2. Esta extensão pode ser carregada usando a magia `%load_ext` da seguinte forma:\n"
   ]
  },
  {
   "cell_type": "code",
   "execution_count": null,
   "metadata": {
    "ExecuteTime": {
     "end_time": "2019-08-12T12:29:09.969887Z",
     "start_time": "2019-08-12T12:29:09.772499Z"
    }
   },
   "outputs": [],
   "source": [
    "%load_ext rpy2.ipython"
   ]
  },
  {
   "cell_type": "markdown",
   "metadata": {},
   "source": [
    "Se o comando anterior gerar um erro, é provável que você não tenha o módulo `rpy2` instalado. Você pode instalar isso agora, em uma nova célula, usando o seguinte código:\n",
    "\n",
    "> !sudo apt install python3-rpy2\n",
    "\n",
    "Caso não encontre o pacote, vocẽ pode instalar ele usando o seguinte código:\n",
    "\n",
    "> !sudo -H pip3 install rpy2"
   ]
  },
  {
   "cell_type": "markdown",
   "metadata": {},
   "source": [
    "A extensão watermark mostra as configuraçãoes dos sistema e das bibliotecas instaladas. Vejamos o seguinte exemplo:"
   ]
  },
  {
   "cell_type": "code",
   "execution_count": null,
   "metadata": {
    "ExecuteTime": {
     "end_time": "2019-08-12T12:29:22.198842Z",
     "start_time": "2019-08-12T12:29:22.166435Z"
    }
   },
   "outputs": [],
   "source": [
    "%load_ext watermark"
   ]
  },
  {
   "cell_type": "code",
   "execution_count": null,
   "metadata": {},
   "outputs": [],
   "source": [
    "%watermark"
   ]
  },
  {
   "cell_type": "code",
   "execution_count": null,
   "metadata": {},
   "outputs": [],
   "source": [
    "%watermark -t -n -u -z"
   ]
  },
  {
   "cell_type": "code",
   "execution_count": null,
   "metadata": {},
   "outputs": [],
   "source": [
    "%watermark -v -m -p numpy,matplotlib,scipy -g"
   ]
  },
  {
   "cell_type": "code",
   "execution_count": null,
   "metadata": {},
   "outputs": [],
   "source": [
    "%watermark?"
   ]
  },
  {
   "cell_type": "markdown",
   "metadata": {},
   "source": [
    "O comando acima retorna a saída:\n",
    "\n",
    "```\n",
    " %watermark [-a AUTHOR] [-d] [-n] [-t] [-i] [-z] [-u] [-c CUSTOM_TIME]\n",
    "                 [-v] [-p PACKAGES] [-h] [-m] [-g] [-r] [-w] [-iv]\n",
    "\n",
    "IPython magic function to print date/time stamps\n",
    "and various system information.\n",
    "\n",
    "optional arguments:\n",
    "  -a AUTHOR, --author AUTHOR\n",
    "                        prints author name\n",
    "  -d, --date            prints current date as YYYY-mm-dd\n",
    "  -n, --datename        prints date with abbrv. day and month names\n",
    "  -t, --time            prints current time as HH-MM-SS\n",
    "  -i, --iso8601         prints the combined date and time including the time\n",
    "                        zone in the ISO 8601 standard with UTC offset\n",
    "  -z, --timezone        appends the local time zone\n",
    "  -u, --updated         appends a string \"Last updated: \"\n",
    "  -c CUSTOM_TIME, --custom_time CUSTOM_TIME\n",
    "                        prints a valid strftime() string\n",
    "  -v, --python          prints Python and IPython version\n",
    "  -p PACKAGES, --packages PACKAGES\n",
    "                        prints versions of specified Python modules and\n",
    "                        packages\n",
    "  -h, --hostname        prints the host name\n",
    "  -m, --machine         prints system and machine info\n",
    "  -g, --githash         prints current Git commit hash\n",
    "  -r, --gitrepo         prints current Git remote address\n",
    "  -w, --watermark       prints the current version of watermark\n",
    "  -iv, --iversions      prints the name/version of all imported modules\n",
    "File:      /usr/local/lib/python3.5/dist-packages/watermark/watermark.py\n",
    "```"
   ]
  },
  {
   "cell_type": "code",
   "execution_count": null,
   "metadata": {
    "scrolled": true
   },
   "outputs": [],
   "source": [
    "x,y = np.arange(10), np.random.normal(size=10)\n",
    "%R print(lm(rnorm(10)~rnorm(10)))"
   ]
  },
  {
   "cell_type": "markdown",
   "metadata": {},
   "source": [
    "Exemplo de uso do R"
   ]
  },
  {
   "cell_type": "code",
   "execution_count": null,
   "metadata": {},
   "outputs": [],
   "source": [
    "%%R -i x,y -o XYcoef\n",
    "lm.fit <- lm(y~x)\n",
    "par(mfrow=c(2,2))\n",
    "print(summary(lm.fit))\n",
    "plot(lm.fit)\n",
    "XYcoef <- coef(lm.fit)"
   ]
  },
  {
   "cell_type": "code",
   "execution_count": null,
   "metadata": {},
   "outputs": [],
   "source": [
    "XYcoef"
   ]
  },
  {
   "cell_type": "markdown",
   "metadata": {},
   "source": [
    "### LaTeX\n",
    "\n",
    "Aqui mostramos alguns sites que te ajudam a escrever equações no LaTeX\n",
    "\n",
    "- [Mathpix - Convert images to LaTeX:](https://mathpix.com/) faz um OCR de quações retornando um código LaTeX\n",
    "- [Editor de equações LaTeX online: HostMath](http://www.hostmath.com/) Editor de equações LaTeX Online\n",
    "- [Editor de equações LaTeX online: CodeCogs](https://latex.codecogs.com/) Editor de equações LaTeX Online\n",
    "- [Only Math editor](https://latex.codecogs.com/eqneditor/editor.php) Editor de equações LaTeX Online\n",
    "- [LaTeX4technics](https://www.latex4technics.com/)\n",
    "- [Daum Equation Editor Online - Muito fácil](http://s1.daumcdn.net/editor/fp/service_nc/pencil/Pencil_chromestore.html) Editor de equações LaTeX Online\n",
    "- [Criador de tabelas online](https://tablesgenerator.com/) Criador de tabelas LaTeX, HTML, Markdown, etc Online \n",
    "\n",
    "\n",
    "$$\n",
    "\\frac{-b\\pm\\sqrt{b^2-4ac}}{2a}\n",
    "$$\n",
    "\n",
    "Nos notebooks, além do suporte MathJax, você pode declarar uma célula LaTeX usando o comando magic `%latex`:\n"
   ]
  },
  {
   "cell_type": "code",
   "execution_count": null,
   "metadata": {
    "ExecuteTime": {
     "end_time": "2019-08-12T12:29:38.067740Z",
     "start_time": "2019-08-12T12:29:38.062479Z"
    }
   },
   "outputs": [],
   "source": [
    "%%latex\n",
    "\\begin{align}\n",
    "\\nabla \\times \\vec{\\mathbf{B}} -\\, \\frac1c\\, \\frac{\\partial\\vec{\\mathbf{E}}}{\\partial t} & = \\frac{4\\pi}{c}\\vec{\\mathbf{j}} \\\\\n",
    "\\nabla \\cdot \\vec{\\mathbf{E}} & = 4 \\pi \\rho \\\\\n",
    "\\nabla \\times \\vec{\\mathbf{E}}\\, +\\, \\frac1c\\, \\frac{\\partial\\vec{\\mathbf{B}}}{\\partial t} & = \\vec{\\mathbf{0}} \\\\\n",
    "\\nabla \\cdot \\vec{\\mathbf{B}} & = 0\n",
    "\\end{align}"
   ]
  },
  {
   "cell_type": "markdown",
   "metadata": {},
   "source": [
    "### A biblioteca matplotlib2tikz\n",
    "\n",
    "A biblioteca [matplotlib2tikz](https://github.com/nschloe/matplotlib2tikz) do Python, é uma ferramenta a qual irá converter as figuras feitas pela biblioteca [matplotlib](#http://matplotlib.org/) em figura PGFPlots (TikZ).\n",
    "\n",
    "\n",
    "This is matplotlib2tikz, a Python tool for converting matplotlib figures into [PGFPlots](#https://www.ctan.org/pkg/pgfplots) ([TikZ](#https://www.ctan.org/pkg/pgf)).\n",
    "\n",
    "Para instalar a biblioteca faça o seguinte:"
   ]
  },
  {
   "cell_type": "code",
   "execution_count": null,
   "metadata": {
    "ExecuteTime": {
     "end_time": "2019-08-12T12:30:45.128441Z",
     "start_time": "2019-08-12T12:30:39.828889Z"
    }
   },
   "outputs": [],
   "source": [
    "!sudo -H pip3 install --upgrade matplotlib2tikz"
   ]
  },
  {
   "cell_type": "code",
   "execution_count": null,
   "metadata": {
    "ExecuteTime": {
     "end_time": "2019-08-12T12:30:48.135600Z",
     "start_time": "2019-08-12T12:30:48.128840Z"
    }
   },
   "outputs": [],
   "source": [
    "%matplotlib inline"
   ]
  },
  {
   "cell_type": "code",
   "execution_count": null,
   "metadata": {
    "ExecuteTime": {
     "end_time": "2019-08-12T12:30:50.469256Z",
     "start_time": "2019-08-12T12:30:50.043751Z"
    }
   },
   "outputs": [],
   "source": [
    "#Agora vamos testar com o seguinte código\n",
    "from matplotlib import pyplot as plt\n",
    "from matplotlib import style\n",
    "import numpy as np\n",
    "fig = plt.figure()\n",
    "style.use('ggplot')\n",
    "t = np.arange(0.0, 2.0, 0.1)\n",
    "s = np.sin(2*np.pi*t)\n",
    "s2 = np.cos(2*np.pi*t)\n",
    "plt.plot(t, s, 'o-', lw=4.1)\n",
    "plt.plot(t, s2, 'o-', lw=4.1)\n",
    "plt.xlabel('time(s)')\n",
    "plt.ylabel('Voltage (mV)')\n",
    "plt.title('Simple plot $\\\\frac{\\\\alpha}{2}$')\n",
    "plt.grid(True)\n",
    "\n",
    "from matplotlib2tikz import save as tikz_save\n",
    "tikz_save('test.pgf')\n",
    "plt.show()"
   ]
  },
  {
   "cell_type": "code",
   "execution_count": null,
   "metadata": {
    "ExecuteTime": {
     "end_time": "2019-08-12T12:31:00.953273Z",
     "start_time": "2019-08-12T12:31:00.836330Z"
    }
   },
   "outputs": [],
   "source": [
    "!cat test.pgf"
   ]
  },
  {
   "cell_type": "markdown",
   "metadata": {},
   "source": [
    "Também é possível usar os `magics` do IPython para mostrar uma imagem do tikz aqui. Primeiro é necessário carregar o `magic` com"
   ]
  },
  {
   "cell_type": "code",
   "execution_count": null,
   "metadata": {
    "ExecuteTime": {
     "end_time": "2019-08-12T12:31:06.960543Z",
     "start_time": "2019-08-12T12:31:06.664436Z"
    }
   },
   "outputs": [],
   "source": [
    "%load_ext tikzmagic"
   ]
  },
  {
   "cell_type": "markdown",
   "metadata": {},
   "source": [
    "**Argumentos Opcionais:**\n",
    "\n",
    "*    -sc or --scale: scaling factor of plots, default=1\n",
    "*    -s or --size: pixel size of plots, e.g., -s width,height, default=400,240\n",
    "*    -f or --format: plot format (png, svg or jpg), default=png\n",
    "*    -e or --encoding: text encoding, default=utf-8\n",
    "*    -x or --preamble: LaTeX preamble to insert before tikz figure, default=None\n",
    "*    -p or --package: LaTeX packages to load, separated by comma, e.g., -p pgfplots,textcomp, default=None\n",
    "*    -l or --library: TikZ libraries to load, separated by comma, e.g., -l matrix,arrows, default=None\n",
    "*    -S or --save: save a copy to file, e.g., -S filename, default=None\n"
   ]
  },
  {
   "cell_type": "code",
   "execution_count": null,
   "metadata": {
    "ExecuteTime": {
     "end_time": "2019-08-12T12:31:21.211946Z",
     "start_time": "2019-08-12T12:31:20.035397Z"
    }
   },
   "outputs": [],
   "source": [
    "%%tikz -f svg\n",
    "\\draw[ultra thick,fill=yellow!60] (1,1) rectangle (9,6);\n",
    "\\begin{scope}\n",
    "  \\clip (6.5,3.5) circle (2);\n",
    "  \\fill[red,ultra thick] (3.5,3.5) circle (2);\n",
    "\\end{scope}\n",
    "\\draw[ultra thick] (3.5,3.5) circle (2) node{\\large A};\n",
    "\\draw[ultra thick] (6.5,3.5) circle (2) node{\\large B};"
   ]
  },
  {
   "cell_type": "code",
   "execution_count": null,
   "metadata": {
    "ExecuteTime": {
     "end_time": "2019-08-12T12:31:44.561052Z",
     "start_time": "2019-08-12T12:31:44.086358Z"
    }
   },
   "outputs": [],
   "source": [
    "%%tikz -s 400,400 -sc 1.2 -f svg\n",
    "\\draw [style=help lines, step=2]                (-1,-1)    grid        (+7,+7);\n",
    "\\draw [line width=0.5mm, fill=blue!40!white]    (+2,+2)    rectangle    (+4,+4);\n",
    " \n",
    "\\draw [blue!60!white] (  2,  2) node[anchor=north east] {$(i  ,j  )$};\n",
    "\\draw [blue!60!white] (  4,  2) node[anchor=north west] {$(i+1,j  )$};\n",
    "\\draw [blue!60!white] (  4,  4) node[anchor=south west] {$(i+1,j+1)$};\n",
    "\\draw [blue!60!white] (  2,  4) node[anchor=south east] {$(i  ,j+1)$};\n",
    "\n",
    "\\filldraw [color=gray]    (0,0) circle (.1);\n",
    "\\filldraw [color=gray]    (0,2) circle (.1);\n",
    "\\filldraw [color=gray]    (0,4) circle (.1);\n",
    "\\filldraw [color=gray]    (0,6) circle (.1);\n",
    "\\filldraw [color=gray]    (2,0) circle (.1);\n",
    "\\filldraw [color=black]    (2,2) circle (.1);\n",
    "\\filldraw [color=black]    (2,4) circle (.1);\n",
    "\\filldraw [color=gray]    (2,6) circle (.1);\n",
    "\\filldraw [color=gray]    (4,0) circle (.1);\n",
    "\\filldraw [color=black]    (4,2) circle (.1);\n",
    "\\filldraw [color=black]    (4,4) circle (.1);\n",
    "\\filldraw [color=gray]    (4,6) circle (.1);\n",
    "\\filldraw [color=gray]    (6,0) circle (.1);\n",
    "\\filldraw [color=gray]    (6,2) circle (.1);\n",
    "\\filldraw [color=gray]    (6,4) circle (.1);\n",
    "\\filldraw [color=gray]    (6,6) circle (.1);"
   ]
  },
  {
   "cell_type": "markdown",
   "metadata": {},
   "source": [
    "##### Uso\n",
    "\n",
    "Gere seu gráfico com a matplotlib como sempre. Agora ao invez de `pyplot.show()`, deve-se chamar a `matplotlib2tikz` \n",
    "da seguinte forma:\n",
    "```python\n",
    "tikz_save('meu_tikz.pgf')\n",
    "```\n",
    "para a criar um arquivo TikZ com o nome de \"meu_tikz.pgf\". Para isso carregue a biblioteca  com:\n",
    "```python\n",
    "from matplotlib2tikz import save as tikz_save\n",
    "```\n",
    "\n",
    "#### Opcional\n",
    "\n",
    "Os scripts aceitam várias opções, por exemplo `height`, `width`, `encoding`, e algumas outras. Chame elas da seguinte forma:\n",
    "```python\n",
    "tikz_save('meu_tikz.pgf', figureheight='4cm', figurewidth='6cm')\n",
    "```\n",
    "\n",
    "Observe que altura e largura devem ser definidas grandes o suficiente; Configurá-lo muito baixo pode resultar em uma falha de compilação do LaTeX ao longo das linhas de dimensões muito grande ou um `Arithmetic Overflow`; Consulte informações sobre esses erros no manual PGFPlots. Para especificar a dimensão do gráfico a partir do documento \\LaTeX, tente\n",
    "\n",
    "```python\n",
    "    tikz_save(\n",
    "        'meu_tikz.pgf',\n",
    "        figureheight = '\\\\figureheight',\n",
    "        figurewidth = '\\\\figurewidth'\n",
    "        )\n",
    "```\n",
    "\n",
    "e no código fonte LaTeX escreva\n",
    "\n",
    "```latex\n",
    "    \\newlength\\figureheight\n",
    "    \\newlength\\figurewidth\n",
    "    \\setlength\\figureheight{4cm}\n",
    "    \\setlength\\figurewidth{6cm}\n",
    "    \\input{mytikz.tex}\n",
    "```\n",
    "Adicione o conteúdo do arquivo \"meu_tikz.pgf\" em seu código-fonte LaTeX; uma maneira conveniente de fazê-lo é através de \\input{/path/to/meu_tikz.pgf}. Também certifique-se de que no cabeçalho do documento os pacotes para PGFPlots e suporte a Unicode adequada e estão incluídos:\n",
    "\n",
    "```latex\n",
    "    \\usepackage[utf8]{inputenc}\n",
    "    \\usepackage{pgfplots}\n",
    "```\n",
    "Adicionalmente, com o LuaLaTeX\n",
    "\n",
    "```latex\n",
    "    \\usepackage{fontspec}\n",
    "```\n",
    "\n",
    "será necessário para compor os caracteres Unicode. Opcionalmente, para usar os recursos PGFPlots mais recentes,\n",
    "\n",
    "```latex\n",
    "    \\pgfplotsset{compat=newest}\n",
    "```"
   ]
  },
  {
   "cell_type": "markdown",
   "metadata": {},
   "source": [
    "## Javscript\n",
    "\n",
    "O Jupyter também permite que os objetos declarem uma representação JavaScript. No início, isso pode parecer estranho como saída é inerentemente visual e JavaScript é uma linguagem de programação. No entanto, isso abre a porta para a saída rica que aproveita toda a potência do JavaScript e bibliotecas associadas, como D3 para a saída.\n"
   ]
  },
  {
   "cell_type": "code",
   "execution_count": null,
   "metadata": {
    "ExecuteTime": {
     "end_time": "2019-08-12T12:32:22.042459Z",
     "start_time": "2019-08-12T12:32:22.035705Z"
    }
   },
   "outputs": [],
   "source": [
    "%%javascript\n",
    "\n",
    "alert(\"Hello world!\");"
   ]
  },
  {
   "cell_type": "markdown",
   "metadata": {},
   "source": [
    "# Instalação dos Kernels de outras linguagens\n",
    "\n",
    "Caso haja o kenrnel no repositório do `conda` para quem usa o anaconda, basta instalar o respectivo pacote.\n",
    "\n",
    "A seguir será uma instalação para o ambiente Linux com o `pip`.\n",
    "\n",
    "## Instalando o kernel do C\n",
    "\n",
    "Para instalar o [kernel do C](https://github.com/brendan-rius/jupyter-c-kernel) siga os passos a seguir:\n",
    "\n",
    "### Instalação Manual \n",
    "\n",
    "Certifique-se que o seu sistemas tem o seguintes programas instalados:\n",
    "\n",
    "- gcc\n",
    "- jupyter\n",
    "- python 3\n",
    "- pip3\n",
    "\n",
    "### Instalação passo a passo\n",
    "\n",
    "Siga as instruções na sequência a seguir:\n",
    "\n",
    "```bash\n",
    "> git clone https://github.com/brendan-rius/jupyter-c-kernel.git\n",
    "> sudo -H pip3 install -U jupyter-c-kernel\n",
    "> cd jupyter-c-kernel\n",
    "> sudo -H jupyter-kernelspec install jupyter_c_kernel/\n",
    "> sudo mv resources /usr/local/lib/python3.5/dist-packages/.\n",
    "> sudo chown -cR root.root /usr/local/lib/python3.5/dist-packages/resources\n",
    "> jupyter-notebook. \n",
    "```\n",
    "Agora é só testar. Reinicie o jupyter notebook "
   ]
  },
  {
   "cell_type": "code",
   "execution_count": null,
   "metadata": {},
   "outputs": [],
   "source": [
    "# Vamos instalar o kernel do C Manualmente\n",
    "!sudo -H pip3 install -U jupyter-c-kernel"
   ]
  },
  {
   "cell_type": "markdown",
   "metadata": {},
   "source": [
    "É necessário informar ao python onde está o kernel e para isso faremos"
   ]
  },
  {
   "cell_type": "code",
   "execution_count": null,
   "metadata": {},
   "outputs": [],
   "source": [
    "!git clone https://github.com/brendan-rius/jupyter-c-kernel.git"
   ]
  },
  {
   "cell_type": "code",
   "execution_count": null,
   "metadata": {},
   "outputs": [],
   "source": [
    "!sudo pip3.5 install jupyter-c-kernel/"
   ]
  },
  {
   "cell_type": "code",
   "execution_count": null,
   "metadata": {},
   "outputs": [],
   "source": [
    "%%bash\n",
    "sudo cat <<FIM > jupyter-c-kernel/jupyter_c_kernel/kernel.json\n",
    "{\n",
    "  \"argv\": [\n",
    "    \"python3\",\n",
    "    \"-m\",\n",
    "    \"jupyter_c_kernel\",\n",
    "    \"-f\",\n",
    "    \"{connection_file}\"\n",
    "  ],\n",
    "  \"display_name\": \"C\",\n",
    "  \"language\": \"c\"\n",
    "}\n",
    "FIM"
   ]
  },
  {
   "cell_type": "code",
   "execution_count": null,
   "metadata": {},
   "outputs": [],
   "source": [
    "! cd jupyter-c-kernel && sudo -H jupyter-kernelspec install jupyter_c_kernel/"
   ]
  },
  {
   "cell_type": "code",
   "execution_count": null,
   "metadata": {},
   "outputs": [],
   "source": [
    "%%bash\n",
    "if [ -d /usr/local/lib/python3.5/dist-packages/ ]\n",
    "then \n",
    "   echo \"O diretório já existe e foi movido o seu conteúdo\"\n",
    "   sudo mv -f jupyter-c-kernel/resources/* /usr/local/lib/python3.5/dist-packages/resources/.\n",
    "else \n",
    "   echo \"O diretório foi movido com o seu conteúdo\"\n",
    "   sudo mv -f resources /usr/local/lib/python3.5/dist-packages/.\n",
    "fi"
   ]
  },
  {
   "cell_type": "code",
   "execution_count": null,
   "metadata": {},
   "outputs": [],
   "source": [
    "!sudo chown -cR root.root /usr/local/lib/python3.5/dist-packages/resources"
   ]
  },
  {
   "cell_type": "code",
   "execution_count": null,
   "metadata": {},
   "outputs": [],
   "source": [
    "# Se tudo ocorreu bem você já pode remover a pasta do jupyte-c-kernel\n",
    "! rm -rf jupyter-c-kernel"
   ]
  },
  {
   "cell_type": "markdown",
   "metadata": {},
   "source": [
    "O kernel deve estar instalado no diretório: /usr/local/share/jupyter/kernels/c_spec"
   ]
  },
  {
   "cell_type": "code",
   "execution_count": null,
   "metadata": {},
   "outputs": [],
   "source": [
    "# Para verificar liste o diretório\n",
    "! ls -alh /usr/local/share/jupyter/kernels/"
   ]
  },
  {
   "cell_type": "code",
   "execution_count": null,
   "metadata": {},
   "outputs": [],
   "source": [
    "# Para verificar se o arquivo foi criado e o seu conteúdo\n",
    "! cat /usr/local/share/jupyter/kernels/jupyter_c_kernel/kernel.json"
   ]
  },
  {
   "cell_type": "markdown",
   "metadata": {},
   "source": [
    "# Instalando os kernels do Gnuplot e do Scilab\n",
    "\n",
    "Ele é um kernel do Jupyter/IPython para o [Gnuplot](https://github.com/has2k1/gnuplot_kernel) e para o [Scilab](https://github.com/Calysto/scilab_kernel).\n",
    "\n",
    "### Instalação Manual \n",
    "\n",
    "Certifique-se que o seu sistemas tem o seguintes programas instalados:\n",
    "\n",
    "- gnuplot\n",
    "- scilab\n",
    "- jupyter\n",
    "- python 3\n",
    "- pip3\n",
    "- [metakernel](https://github.com/Calysto/metakernel)\n",
    "\n",
    "\n",
    "### Instalação passo a passo\n",
    "\n",
    "```bash\n",
    "sudo -H pip3 install --upgrade metakernel\n",
    "sudo -H pip3 install --upgrade gnuplot_kernel\n",
    "sudo -H pip3 install --upgrade scilab_kernel\n",
    "```\n",
    "\n",
    "Será necessário gerar as especificações do metakernel \n",
    "\n",
    "```bash\n",
    "> mkdir metakernel_spec\n",
    "```\n",
    "crie dentro desse diretório o arquivo \"kernel.json\" com o seguinte conteúdo:\n",
    "```json\n",
    "{\n",
    "  \"argv\": [\n",
    "    \"python3\",\n",
    "    \"-m\",\n",
    "    \"metakernel_kernel\",\n",
    "    \"-f\",\n",
    "    \"{connection_file}\"\n",
    "  ],\n",
    "  \"display_name\": \"Metakernel\",\n",
    "  \"language\": \"metakernel\"\n",
    "}\n",
    "```\n",
    "\n",
    "Será necessário gerar as especificações do gnuplot_kernel e para isso faça\n",
    "\n",
    "```bash\n",
    "> mkdir metakernel_spec\n",
    "> mkdir gnuplot_spec\n",
    "```\n",
    "crie dentro desse diretório o arquivo \"kernel.json\" com o seguinte conteúdo:\n",
    "```json\n",
    "{\n",
    "  \"argv\": [\n",
    "    \"python3\",\n",
    "    \"-m\",\n",
    "    \"gnuplot_kernel\",\n",
    "    \"-f\",\n",
    "    \"{connection_file}\"\n",
    "  ],\n",
    "  \"display_name\": \"Gnuplot\",\n",
    "  \"language\": \"gnuplot\"\n",
    "}\n",
    "```\n",
    "\n",
    "Agora ative os dois kernels fazendo:\n",
    "\n",
    "```bash\n",
    "> sudo -H jupyter-kernelspec install metakernel_spec/\n",
    "> sudo -H jupyter-kernelspec install gnuplot_spec/\n",
    "> jupyter-notebook. \n",
    "```\n",
    "\n",
    "O metakernel exige que se adicione o seguinte arquivo\n",
    "```bash\n",
    "# /etc/ipython/ipython_config.py\n",
    "c = get_config()\n",
    "startup = [\n",
    "   'from metakernel import register_ipython_magics',\n",
    "   'register_ipython_magics()',\n",
    "]\n",
    "c.InteractiveShellApp.exec_lines = startup\n",
    "```\n",
    "\n",
    "Agora é só testar. Reinicie o jupyter notebook \n",
    "\n",
    "\n",
    "#### Para instalar execute as células  abaixo\n",
    "\n",
    "Para realizar a instalação do kernel do gnuplot e scilab é necessário instalar o metakernel. Antes vá ao menu Kernel --> Change Kernel e veja quais são os kernels que já se  encontram instalados. \n",
    "\n",
    "Portanto siga os passos das células abaixo: "
   ]
  },
  {
   "cell_type": "code",
   "execution_count": null,
   "metadata": {},
   "outputs": [],
   "source": [
    "!sudo -H pip3 install --upgrade metakernel"
   ]
  },
  {
   "cell_type": "code",
   "execution_count": null,
   "metadata": {},
   "outputs": [],
   "source": [
    "%%file ipython_config.py\n",
    "c = get_config()\n",
    "startup = [\n",
    "   'from metakernel import register_ipython_magics',\n",
    "   'register_ipython_magics()',\n",
    "]\n",
    "c.InteractiveShellApp.exec_lines = startup"
   ]
  },
  {
   "cell_type": "code",
   "execution_count": null,
   "metadata": {},
   "outputs": [],
   "source": [
    "!sudo -p mkdir /etc/ipython"
   ]
  },
  {
   "cell_type": "code",
   "execution_count": null,
   "metadata": {},
   "outputs": [],
   "source": [
    "!sudo mv ipython_config.py /etc/ipython/."
   ]
  },
  {
   "cell_type": "code",
   "execution_count": null,
   "metadata": {},
   "outputs": [],
   "source": [
    "!ls -alh /etc/ipython/"
   ]
  },
  {
   "cell_type": "code",
   "execution_count": null,
   "metadata": {},
   "outputs": [],
   "source": [
    "! sudo chown -c root.root /etc/ipython/ipython_config.py"
   ]
  },
  {
   "cell_type": "code",
   "execution_count": null,
   "metadata": {},
   "outputs": [],
   "source": [
    "!sudo -H pip3 install --upgrade gnuplot_kernel"
   ]
  },
  {
   "cell_type": "code",
   "execution_count": null,
   "metadata": {},
   "outputs": [],
   "source": [
    "!sudo -H pip3 install --upgrade scilab_kernel"
   ]
  },
  {
   "cell_type": "code",
   "execution_count": null,
   "metadata": {},
   "outputs": [],
   "source": [
    "!mkdir -p metakernel_spec"
   ]
  },
  {
   "cell_type": "code",
   "execution_count": null,
   "metadata": {},
   "outputs": [],
   "source": [
    "%%file metakernel_spec/kernel.json\n",
    "{\n",
    "  \"argv\": [\n",
    "    \"python3\",\n",
    "    \"-m\",\n",
    "    \"metakernel_kernel\",\n",
    "    \"-f\",\n",
    "    \"{connection_file}\"\n",
    "  ],\n",
    "  \"display_name\": \"Metakernel\",\n",
    "  \"language\": \"metakernel\"\n",
    "}"
   ]
  },
  {
   "cell_type": "code",
   "execution_count": null,
   "metadata": {},
   "outputs": [],
   "source": [
    "!sudo -H jupyter-kernelspec install metakernel_spec/"
   ]
  },
  {
   "cell_type": "code",
   "execution_count": null,
   "metadata": {},
   "outputs": [],
   "source": [
    "!rm -rf metakernel_spec"
   ]
  },
  {
   "cell_type": "code",
   "execution_count": null,
   "metadata": {},
   "outputs": [],
   "source": [
    "!mkdir -p gnuplot_spec"
   ]
  },
  {
   "cell_type": "code",
   "execution_count": null,
   "metadata": {},
   "outputs": [],
   "source": [
    "%%file gnuplot_spec/kernel.json\n",
    "{\n",
    "  \"argv\": [\n",
    "    \"python3\",\n",
    "    \"-m\",\n",
    "    \"gnuplot_kernel\",\n",
    "    \"-f\",\n",
    "    \"{connection_file}\"\n",
    "  ],\n",
    "  \"display_name\": \"Gnuplot\",\n",
    "  \"language\": \"gnuplot\"\n",
    "}"
   ]
  },
  {
   "cell_type": "code",
   "execution_count": null,
   "metadata": {},
   "outputs": [],
   "source": [
    "!cat gnuplot_spec/kernel.json"
   ]
  },
  {
   "cell_type": "code",
   "execution_count": null,
   "metadata": {},
   "outputs": [],
   "source": [
    "!sudo -H jupyter-kernelspec install gnuplot_spec/"
   ]
  },
  {
   "cell_type": "code",
   "execution_count": null,
   "metadata": {},
   "outputs": [],
   "source": [
    "!rm -rf gnuplot_spec"
   ]
  },
  {
   "cell_type": "code",
   "execution_count": null,
   "metadata": {},
   "outputs": [],
   "source": [
    "!mkdir -p scilab_spec"
   ]
  },
  {
   "cell_type": "code",
   "execution_count": null,
   "metadata": {},
   "outputs": [],
   "source": [
    "%%file scilab_spec/kernel.json\n",
    "{\n",
    "  \"argv\": [\n",
    "    \"python3\",\n",
    "    \"-m\",\n",
    "    \"scilab_kernel\",\n",
    "    \"-f\",\n",
    "    \"{connection_file}\"\n",
    "  ],\n",
    "  \"display_name\": \"Scilab\",\n",
    "  \"language\": \"scilab\"\n",
    "}"
   ]
  },
  {
   "cell_type": "code",
   "execution_count": null,
   "metadata": {},
   "outputs": [],
   "source": [
    "!sudo -H jupyter-kernelspec install scilab_spec/"
   ]
  },
  {
   "cell_type": "code",
   "execution_count": null,
   "metadata": {},
   "outputs": [],
   "source": [
    "!rm -rf scilab_spec"
   ]
  },
  {
   "cell_type": "code",
   "execution_count": null,
   "metadata": {},
   "outputs": [],
   "source": [
    "!sudo -H pip3 install --upgrade bash_kernel"
   ]
  },
  {
   "cell_type": "code",
   "execution_count": null,
   "metadata": {},
   "outputs": [],
   "source": [
    "!mkdir -p bash_spec"
   ]
  },
  {
   "cell_type": "code",
   "execution_count": null,
   "metadata": {},
   "outputs": [],
   "source": [
    "%%file bash_spec/kernel.joson\n",
    "{\n",
    "  \"argv\": [\n",
    "    \"python3\",\n",
    "    \"-m\",\n",
    "    \"bash_kernel\",\n",
    "    \"-f\",\n",
    "    \"{connection_file}\"\n",
    "  ],\n",
    "  \"display_name\": \"Bash\",\n",
    "  \"language\": \"bash\"\n",
    "}"
   ]
  },
  {
   "cell_type": "code",
   "execution_count": null,
   "metadata": {},
   "outputs": [],
   "source": [
    "!sudo -H jupyter-kernelspec install bash_spec/"
   ]
  },
  {
   "cell_type": "code",
   "execution_count": null,
   "metadata": {},
   "outputs": [],
   "source": [
    "!rm -rf bash_spec"
   ]
  },
  {
   "cell_type": "markdown",
   "metadata": {},
   "source": [
    "Agora é só testar. Reinicie o jupyter notebook e depois vá no menu Kernel --> Change Kernel e veja se aparece os kernels instalados? Se apareceu está tudo ok."
   ]
  },
  {
   "cell_type": "markdown",
   "metadata": {},
   "source": [
    "## Kernel do Gnuplot\n",
    "\n",
    "Ao iniciar um novo notebook vocẽ agora deve seelcionar o kernel a ser usado. No caso da selecção ter sido o do gnuplo, todas as células de código serão interpretadas como declarações para gnuplot a menos que a célula magic esteja sendo usada. Da mesma forma, cada linha é uma declaração para gnuplot a menos que seja uma linha magic. Vamos ver o que tudo isso significa.\n",
    "\n",
    "Entretanto aqui o kernel que está sendo usado é do Python 3, conforme mostra o canto superior direito da linha que contém o menu deste notebook.\n",
    "\n",
    "Pode-se fazer alguns gráficos usando o gnuplot, para isso deve-se usar as `magics` do notebook. Para carregar a extensão do gnuplot faça `%load_ext gnuplot_kernel`\n"
   ]
  },
  {
   "cell_type": "code",
   "execution_count": null,
   "metadata": {
    "ExecuteTime": {
     "end_time": "2019-08-12T12:32:43.171155Z",
     "start_time": "2019-08-12T12:32:42.684228Z"
    }
   },
   "outputs": [],
   "source": [
    "# Esse código as magics para o gnuplot\n",
    "%load_ext gnuplot_kernel"
   ]
  },
  {
   "cell_type": "markdown",
   "metadata": {},
   "source": [
    "Agora coloque o seguinte código `%%gnuplot` no início de toda célula que contém um código do gnuplot.\n",
    "\n",
    "Primeiro, um gráfico e um cálculo simples."
   ]
  },
  {
   "cell_type": "code",
   "execution_count": null,
   "metadata": {
    "ExecuteTime": {
     "end_time": "2019-08-12T12:33:07.402382Z",
     "start_time": "2019-08-12T12:33:07.020673Z"
    }
   },
   "outputs": [],
   "source": [
    "%%gnuplot\n",
    "plot sin(x), cos(x),  exp(-x/10)*sin(x)**2"
   ]
  },
  {
   "cell_type": "code",
   "execution_count": 1,
   "metadata": {
    "ExecuteTime": {
     "end_time": "2019-08-12T23:11:08.800201Z",
     "start_time": "2019-08-12T23:11:08.796426Z"
    }
   },
   "outputs": [
    {
     "name": "stderr",
     "output_type": "stream",
     "text": [
      "UsageError: Cell magic `%%gnuplot` not found.\n"
     ]
    }
   ],
   "source": [
    "%%gnuplot\n",
    "set parametric\n",
    "set contour base\n",
    "set grid xtics ytics ztics\n",
    "unset key\n",
    "splot cos(u)*cos(v),2*sin(u)*cos(v),3*sin(v)"
   ]
  },
  {
   "cell_type": "markdown",
   "metadata": {},
   "source": [
    "## Kernel do Fortran\n",
    "\n",
    "A seguir instalaremos o kernel do fortran que é o seguinte pacote: `jupyter-fortran-kernel`"
   ]
  },
  {
   "cell_type": "code",
   "execution_count": null,
   "metadata": {},
   "outputs": [],
   "source": [
    "! sudo -H pip3 install -U jupyter-fortran-kernel"
   ]
  },
  {
   "cell_type": "code",
   "execution_count": null,
   "metadata": {},
   "outputs": [],
   "source": [
    "!mkdir -p Fortran"
   ]
  },
  {
   "cell_type": "code",
   "execution_count": null,
   "metadata": {},
   "outputs": [],
   "source": [
    "%%file Fortran/kernel.joson\n",
    "{\n",
    "  \"argv\": [\n",
    "    \"python3\",\n",
    "    \"-m\",\n",
    "    \"Fortran\",\n",
    "    \"-f\",\n",
    "    \"{connection_file}\"\n",
    "  ],\n",
    "  \"display_name\": \"Fortran\",\n",
    "  \"language\": \"Fortran\"\n",
    "}"
   ]
  },
  {
   "cell_type": "code",
   "execution_count": null,
   "metadata": {},
   "outputs": [],
   "source": [
    "!sudo -H jupyter-kernelspec install Fortran/"
   ]
  },
  {
   "cell_type": "code",
   "execution_count": null,
   "metadata": {},
   "outputs": [],
   "source": [
    "!rm -rf Fortran"
   ]
  },
  {
   "cell_type": "markdown",
   "metadata": {},
   "source": [
    "## Instalando o Fortran-magic\n",
    "\n",
    "\n",
    "Agora será instalado o fortran-magic\n",
    "\n",
    "```bash\n",
    "> sudo -H pip3 install -U fortran-magic\n",
    "```\n",
    "após sua instalção veja, como usá-lo"
   ]
  },
  {
   "cell_type": "code",
   "execution_count": 1,
   "metadata": {
    "ExecuteTime": {
     "end_time": "2019-08-13T19:07:20.112236Z",
     "start_time": "2019-08-13T19:07:17.848989Z"
    }
   },
   "outputs": [
    {
     "name": "stderr",
     "output_type": "stream",
     "text": [
      "/usr/local/lib/python3.6/dist-packages/fortranmagic.py:147: UserWarning: get_ipython_cache_dir has moved to the IPython.paths module since IPython 4.0.\n",
      "  self._lib_dir = os.path.join(get_ipython_cache_dir(), 'fortran')\n"
     ]
    },
    {
     "data": {
      "application/javascript": [
       "new Promise(function(resolve, reject) {\n",
       "\tvar script = document.createElement(\"script\");\n",
       "\tscript.onload = resolve;\n",
       "\tscript.onerror = reject;\n",
       "\tscript.src = \"https://raw.github.com/marijnh/CodeMirror/master/mode/fortran/fortran.js\";\n",
       "\tdocument.head.appendChild(script);\n",
       "}).then(() => {\n",
       "IPython.config.cell_magic_highlight['magic_fortran'] = {'reg':[/^%%fortran/]};\n",
       "});"
      ]
     },
     "metadata": {},
     "output_type": "display_data"
    }
   ],
   "source": [
    "%load_ext fortranmagic"
   ]
  },
  {
   "cell_type": "code",
   "execution_count": 2,
   "metadata": {
    "ExecuteTime": {
     "end_time": "2019-08-13T19:09:09.137634Z",
     "start_time": "2019-08-13T19:09:06.377488Z"
    }
   },
   "outputs": [],
   "source": [
    "%%fortran\n",
    "subroutine compute_fortran(x, y, z)\n",
    "    implicit none\n",
    "    real, intent(in) :: x(:), y(:)\n",
    "    real, intent(out) :: z(size(x, 1))\n",
    "\n",
    "    z = sin(x)*cos(y)\n",
    "\n",
    "end subroutine compute_fortran"
   ]
  },
  {
   "cell_type": "code",
   "execution_count": 3,
   "metadata": {
    "ExecuteTime": {
     "end_time": "2019-08-13T19:09:15.330526Z",
     "start_time": "2019-08-13T19:09:15.322666Z"
    }
   },
   "outputs": [
    {
     "data": {
      "text/plain": [
       "array([-0.5500221 ,  0.2579333 ,  0.13549922], dtype=float32)"
      ]
     },
     "execution_count": 3,
     "metadata": {},
     "output_type": "execute_result"
    }
   ],
   "source": [
    "compute_fortran([1, 2, 3], [4, 5, 6])"
   ]
  },
  {
   "cell_type": "markdown",
   "metadata": {},
   "source": [
    "## Exportando e Convertendo Notebooks\n",
    "\n",
    "No Jupyter, é possível converter um arquivo de documentos do notebook `.ipynb` em vários formatos estáticos através da ferramenta `nbconvert`. Atualmente, nbconvert é uma ferramenta de linha de comando, executado como um script usando Jupyter."
   ]
  },
  {
   "cell_type": "code",
   "execution_count": null,
   "metadata": {},
   "outputs": [],
   "source": [
    "!jupyter nbconvert --to html Seminario-_Introducao_ao_Jupyter.ipynb"
   ]
  },
  {
   "cell_type": "markdown",
   "metadata": {},
   "source": [
    "Atualmente, `nbconvert` suporta HTML (padrão), LaTeX, Markdown, reStructuredText, Python e Slides HTML5 para apresentações. Alguns tipos podem ser pós-processados, como LaTeX para PDF (isso requer [Pandoc](http://johnmacfarlane.net/pandoc/) para ser instalado, no entanto)."
   ]
  },
  {
   "cell_type": "code",
   "execution_count": null,
   "metadata": {},
   "outputs": [],
   "source": [
    "!jupyter nbconvert --to pdf Seminario-_Introducao_ao_Jupyter.ipynb"
   ]
  },
  {
   "cell_type": "code",
   "execution_count": null,
   "metadata": {},
   "outputs": [],
   "source": [
    "!evince Seminario-_Introducao_ao_Jupyter.pdf"
   ]
  },
  {
   "cell_type": "markdown",
   "metadata": {},
   "source": [
    "Um serviço on-line muito útil é o [IPython Notebook Viewer](http://nbviewer.ipython.org) que permite que você exiba seu notebook como uma página HTML estática, que é útil para compartilhar com outras pessoas:"
   ]
  },
  {
   "cell_type": "code",
   "execution_count": null,
   "metadata": {},
   "outputs": [],
   "source": [
    "%%html\n",
    "<iframe src=http://nbviewer.ipython.org/2352771 width=700 height=300></iframe>"
   ]
  },
  {
   "cell_type": "markdown",
   "metadata": {},
   "source": [
    "Além disso, o GitHub suporta [renderização de Notebooks Jupyter](https://github.com/fonnesbeck/Bios8366/blob/master/notebooks/Section1_2-Programming-with-Python.ipynb) armazenado em seus repositórios."
   ]
  },
  {
   "cell_type": "markdown",
   "metadata": {},
   "source": [
    "### Coverter código python em notebook\n",
    "\n",
    "Uma API do IPython possui funções para ler e escrever arquivos do tipo Notebooks. Você deve usar esta API e não criar JSON diretamente. Por exemplo, o seguinte fragmento de código converte um script test.py em um notebook test.ipynb.\n",
    "\n",
    "```python3\n",
    "import IPython.nbformat.current as nbf\n",
    "nb = nbf.read(open('test.py', 'r'), 'py')\n",
    "nbf.write(nb, open('test.ipynb', 'w'), 'ipynb')\n",
    "```\n",
    "\n",
    "veja maiores detalhes em [Converting to (not from) ipython Notebook format](https://stackoverflow.com/questions/23292242/converting-to-not-from-ipython-notebook-format)\n",
    "\n",
    "A seguir apresenta-se um código completo para fazer isso:"
   ]
  },
  {
   "cell_type": "code",
   "execution_count": null,
   "metadata": {},
   "outputs": [],
   "source": [
    "import nbformat\n",
    "from nbformat.v4 import new_code_cell,new_notebook\n",
    "\n",
    "import codecs\n",
    "\n",
    "sourceFile = \"codigo-fonte.py\"       # <<<< Código a ser convertido em ipynb\n",
    "destFile   = \"codigo-fonte.ipynb\"    # <<<< Código convertido em ipynb\n",
    "\n",
    "\n",
    "def parsePy(fn):\n",
    "    \"\"\" Gerador que analisa um arquivo .py exportado de um IPython/Jupyter notebook e\n",
    "extrai as células de código (O que quer que seja entre ocorrências de \"In[*]:\").\n",
    "Retorna uma string contendo uma ou mais linhas\n",
    "\"\"\"\n",
    "    with open(fn,\"r\") as f:\n",
    "        lines = []\n",
    "        for l in f:\n",
    "            l1 = l.strip()\n",
    "            if l1.startswith('# In[') and l1.endswith(']:') and lines:\n",
    "                yield \"\".join(lines)\n",
    "                lines = []\n",
    "                continue\n",
    "            lines.append(l)\n",
    "        if lines:\n",
    "            yield \"\".join(lines)\n",
    "\n",
    "# Cria as células de código analisando o arquido de entrada\n",
    "cells = []\n",
    "for c in parsePy(sourceFile):\n",
    "    cells.append(new_code_cell(source=c))\n",
    "\n",
    "# Essa linha cria um Notebook V4 com as células de código extraídas acima\n",
    "nb0 = new_notebook(cells=cells,\n",
    "                   metadata={'language': 'python',})\n",
    "\n",
    "with codecs.open(destFile, encoding='utf-8', mode='w') as f:\n",
    "    nbformat.write(nb0, f, 4)"
   ]
  },
  {
   "cell_type": "markdown",
   "metadata": {},
   "source": [
    "O código abaixo irá converter todos os arquivos .py em notebooks. Escolha o diretório e excute o código. "
   ]
  },
  {
   "cell_type": "code",
   "execution_count": null,
   "metadata": {},
   "outputs": [],
   "source": [
    "import nbformat\n",
    "from nbformat.v4 import new_code_cell,new_notebook\n",
    "import codecs\n",
    "import os\n",
    "\n",
    "\n",
    "def parsePy(fn):\n",
    "    \"\"\" Generator that parses a .py file exported from a IPython notebook and\n",
    "extracts code cells (whatever is between occurrences of \"In[*]:\").\n",
    "Returns a string containing one or more lines\n",
    "\"\"\"\n",
    "    with open(fn,\"r\") as f:\n",
    "        lines = []\n",
    "        for l in f:\n",
    "            l1 = l.strip()\n",
    "            if l1.startswith('# In[') and l1.endswith(']:') and lines:\n",
    "                yield \"\".join(lines)\n",
    "                lines = []\n",
    "                continue\n",
    "            lines.append(l)\n",
    "        if lines:\n",
    "            yield \"\".join(lines)\n",
    "            \n",
    "def genNb(sourceFile,destFile):\n",
    "    # Create the code cells by parsing the file in input\n",
    "    cells = []\n",
    "    for c in parsePy(sourceFile):\n",
    "        cells.append(new_code_cell(source=c))\n",
    "\n",
    "    # This creates a V4 Notebook with the code cells extracted above\n",
    "    nb0 = new_notebook(cells=cells,\n",
    "                   metadata={'language': 'python',})\n",
    "\n",
    "    with codecs.open(destFile, encoding='utf-8', mode='w') as f:\n",
    "        nbformat.write(nb0, f, 4)\n",
    "\n",
    "\n",
    "dir='.'  # quando vazio significa diretório local\n",
    "\n",
    "# Aqui encontramos todos os arquivo python no diretório \n",
    "arq_python = [x for x in os.listdir(dir) if x.endswith(\".py\")]\n",
    "\n",
    "for x in arq_python :\n",
    "    sourcefile=x\n",
    "    destfile=x.split('.')[0]+'.ipynb'\n",
    "    print(\"Source= \", sourcefile, \" Destino = \", destfile)\n",
    "    genNb(sourcefile,destfile)\n",
    "\n",
    "# Para verificar o resultado\n",
    "arq_conv = [x for x in os.listdir(dir) if x.endswith(\".py\") or x.endswith(\".ipynb\")]\n",
    "print(arq_conv)"
   ]
  },
  {
   "cell_type": "markdown",
   "metadata": {},
   "source": [
    "## IPython paralelo\n",
    "\n",
    "Em um nível alto, há três componentes básicos para paralelizar IPython:\n",
    "\n",
    "* Máquina(s) - os processos remotos ou distribuídos onde seu código é executado.\n",
    "* Cliente - sua interface para executar o código em motores.\n",
    "* Controlador - a coleção de processos que coordenam Motores e Clientes.\n",
    "\n",
    "Esses componentes vivem no pacote `IPython.parallel`, que foi lançado em seu próprio modelo que requer instalação.\n",
    "\n",
    "\n",
    "### Computação Paralela e Iterativa Com o IPython\n",
    "\n",
    "ipyparallel é o novo nome do IPython.parallel. ipyparallel é um pacote Python e uma  coleção de scripts CLI para controlar clusters para Jupyter. \n",
    "\n",
    "ipyparallel contém os seguintes scripts CLI:\n",
    "\n",
    "* ipcluster - inicia/para um cluster\n",
    "* ipcontroller - inicia um agendador\n",
    "* ipengine - inicia um motor\n",
    "\n",
    "\n",
    "### Instalação\n",
    "\n",
    "Para instalar o ipyparallel digite na linha de comando:\n",
    "\n",
    "```bash\n",
    "    sudo -H pip3 install -U ipyparallel\n",
    "```\n",
    "ou via `conda`:\n",
    "\n",
    "```bash\n",
    "sudo -H conda install ipyparallel\n",
    "```\n",
    "\n",
    "Para habilitar a tab do `IPython Clusters` no Jupyter Notebook:\n",
    "\n",
    "```bash\n",
    "sudo -H ipcluster nbextension enable\n",
    "```\n",
    "Para desabilitar ela novamente:\n",
    "\n",
    "```bash\n",
    "sudo -H ipcluster nbextension disable\n",
    "```\n",
    "\n",
    "Para instalar a guia IPython Clusters no Jupyter Notebook, adicione isso ao seu `jupyter_notebook_config.py`:\n",
    "\n",
    "```python\n",
    "c.NotebookApp.server_extensions.append('ipyparallel.nbextension')\n",
    "```\n",
    "\n",
    "Este arquivo reside no subdiretório `~/.jupyter` do seu diretório pessoal e deve ser criado se ele ainda não existir.\n",
    "\n",
    "\n",
    "Veja o [\"documentation on configuring the notebook server\"](https://jupyter-notebook.readthedocs.io/en/latest/public_server.html) para achar seu arquivo de configuração ou sua configuração inicial `jupyter_notebook_config.py`.\n",
    "\n",
    "\n",
    "### Instalando o JupyterHub \n",
    "\n",
    "Para instalar o JupyterHub para todos os usuários, digite:\n",
    "\n",
    "```bash\n",
    "sudo -H jupyter nbextension install --sys-prefix --py ipyparallel\n",
    "sudo -H jupyter nbextension enable --sys-prefix --py ipyparallel\n",
    "sudo -H jupyter serverextension enable --sys-prefix --py ipyparallel\n",
    "```\n",
    "\n",
    "## Rodando\n",
    "\n",
    "Inicia um cluster:\n",
    "\n",
    "```bash\n",
    "ipcluster start\n",
    "```\n",
    "\n",
    "Usado ele a partir do Python:\n",
    "\n",
    "```python\n",
    "import os\n",
    "import ipyparallel as ipp\n",
    "rc = ipp.Client()\n",
    "ar = rc[:].apply_async(os.getpid)\n",
    "pid_map = ar.get_dict()\n",
    "```\n",
    "\n",
    "## Documentação\n",
    "\n",
    "Para maiores detalhes consulte o manual [\"Using IPython for parallel computing\"](http://ipyparallel.readthedocs.io/en/latest/index.html)."
   ]
  },
  {
   "cell_type": "markdown",
   "metadata": {},
   "source": [
    "Antes de executar a próxima célula, certifique-se de ter iniciado o cluster pela primeira vez, você pode usar a guia [clusters no painel](#tab2) para fazer isso."
   ]
  },
  {
   "cell_type": "code",
   "execution_count": 5,
   "metadata": {
    "ExecuteTime": {
     "end_time": "2019-08-13T19:13:30.498103Z",
     "start_time": "2019-08-13T19:13:30.209503Z"
    }
   },
   "outputs": [],
   "source": [
    "import os\n",
    "import ipyparallel as ipp\n",
    "rc = ipp.Client()\n",
    "ar = rc[:].apply_async(os.getpid)\n",
    "pid_map = ar.get_dict()"
   ]
  },
  {
   "cell_type": "code",
   "execution_count": 6,
   "metadata": {
    "ExecuteTime": {
     "end_time": "2019-08-13T19:13:34.549538Z",
     "start_time": "2019-08-13T19:13:34.514824Z"
    }
   },
   "outputs": [],
   "source": [
    "from ipyparallel import Client\n",
    "client = Client()\n",
    "dv = client.direct_view()"
   ]
  },
  {
   "cell_type": "code",
   "execution_count": 7,
   "metadata": {
    "ExecuteTime": {
     "end_time": "2019-08-13T19:13:38.604812Z",
     "start_time": "2019-08-13T19:13:38.597535Z"
    }
   },
   "outputs": [
    {
     "data": {
      "text/plain": [
       "4"
      ]
     },
     "execution_count": 7,
     "metadata": {},
     "output_type": "execute_result"
    }
   ],
   "source": [
    "len(dv)"
   ]
  },
  {
   "cell_type": "code",
   "execution_count": 8,
   "metadata": {
    "ExecuteTime": {
     "end_time": "2019-08-13T19:13:41.276360Z",
     "start_time": "2019-08-13T19:13:41.269446Z"
    }
   },
   "outputs": [],
   "source": [
    "def where_am_i():\n",
    "    import os\n",
    "    import socket\n",
    "    \n",
    "    return \"No processo com pid {0} no nó: '{1}'\".format(\n",
    "        os.getpid(), socket.gethostname())"
   ]
  },
  {
   "cell_type": "code",
   "execution_count": 9,
   "metadata": {
    "ExecuteTime": {
     "end_time": "2019-08-13T19:13:44.595809Z",
     "start_time": "2019-08-13T19:13:44.557344Z"
    }
   },
   "outputs": [
    {
     "data": {
      "text/plain": [
       "[\"No processo com pid 6621 no nó: 'phonon'\",\n",
       " \"No processo com pid 6623 no nó: 'phonon'\",\n",
       " \"No processo com pid 6624 no nó: 'phonon'\",\n",
       " \"No processo com pid 6626 no nó: 'phonon'\"]"
      ]
     },
     "execution_count": 9,
     "metadata": {},
     "output_type": "execute_result"
    }
   ],
   "source": [
    "where_am_i_direct_results = dv.apply(where_am_i)\n",
    "where_am_i_direct_results.get()"
   ]
  },
  {
   "cell_type": "markdown",
   "metadata": {},
   "source": [
    "# Células Markdown"
   ]
  },
  {
   "cell_type": "markdown",
   "metadata": {},
   "source": [
    "O texto pode ser adicionado aos notebooks IPython usando células Markdown. Markdown é uma linguagem de marcação popular que é um superconjunto de HTML. Sua especificação pode ser encontrada aqui:\n",
    "\n",
    "<http://daringfireball.net/projects/markdown/>\n",
    "\n",
    "Há bons editores de Makrdown:\n",
    "\n",
    "1. [Typora](https://typora.io/) Talvez o melhor editor de Markdown\n",
    "1. [Simplenote](https://simplenote.com/) Esse é u8m editor que vocẽ pode ter no celular e no computador, e salva suas notas em uma nuvem prórpria."
   ]
  },
  {
   "cell_type": "markdown",
   "metadata": {},
   "source": [
    "## Noções básicas do Markdown"
   ]
  },
  {
   "cell_type": "markdown",
   "metadata": {},
   "source": [
    "Para adicionar um texto em itálico usa-se `*itálico*` como em *itálico* já para adicionar um em negrito usa-se `**negrito**` como em **negrito**."
   ]
  },
  {
   "cell_type": "markdown",
   "metadata": {},
   "source": [
    "## Listas no Markdown\n",
    "\n",
    "Pode-se criar facilmente listas enumeradas ou enumeradas aninhadas:\n",
    "\n",
    "\n",
    "* Item um\n",
    "    - Sublista tópico 1 do item um\n",
    "        - subitem aninhado do tópico 1\n",
    "    - Sublista tópico 2  do item um\n",
    "        - primeiro subitem aninhado do tópico 2\n",
    "        - segundo subitem aninhado do tópico 2\n",
    "* Item dois\n",
    "  - Sublista do item 2\n",
    "* Item três\n",
    "  - Sublista do item 3\n",
    "\n",
    "Agora uma outra lista, mas agora numerada:\n",
    "\n",
    "1. Esse é o primeiro item  da lista\n",
    "    1. Sublista do primeiro item \n",
    "    1. Sublista do primeiro item\n",
    "1. Essse é o segudo item da lista\n",
    "1. Essse é o terceiro item da lista\n",
    "\n",
    "## Listas de tarefas\n",
    "\n",
    "Para criar uma lista de tarefaz, inicie a lista com `[]`. Mareque a tarefa completada com  `[x]`, conforme o exemplo a seguir\n",
    "\n",
    "- [x] Terminei minhas alterações nesse arquivo \n",
    "- [ ] Levar minhas alterações para o GitHub\n",
    "- [ ] Trabalhar no novo texto"
   ]
  },
  {
   "cell_type": "markdown",
   "metadata": {},
   "source": [
    "Pode-se adicionar linhas horizontais:\n",
    "\n",
    "------"
   ]
  },
  {
   "cell_type": "markdown",
   "metadata": {},
   "source": [
    "Aqui está o bloco de citação:\n",
    "\n",
    "> Bonito é melhor do que feio.\n",
    "> Explicito é melhor do que implícito.\n",
    "> Simples é melhor do que complexo.\n",
    "> Complexo é melhor do que complicado.\n",
    "> Liso é melhor do que aninhado.\n",
    "> Esparso é melhor do que denso.\n",
    "> A legibilidade conta.\n",
    "> Casos especiais não são especiais o suficiente para quebrar as regras.\n",
    "> Embora a praticidade supera a pureza.\n",
    "> Erros nunca devem passar em silêncio.\n",
    "> A menos que seja explicitamente silenciado.\n",
    "> Em face da ambiguidade, recusar a tentação de adivinhar.\n",
    "> Deve haver uma - e preferivelmente somente uma - maneira óbvia de fazê-lo.\n",
    "> Embora essa maneira não pode ser óbvia no início a menos que você seja holandês.\n",
    "> Agora é melhor do que nunca.\n",
    "> Embora nunca seja melhor do que *agora*.\n",
    "> Se a implementação é difícil de explicar, então é uma má idéia.\n",
    "> Se a implementação é fácil de explicar, então pode ser uma boa idéia.\n",
    "> Namespaces são uma boa idéia- vamos fazer mais uso deles!"
   ]
  },
  {
   "cell_type": "markdown",
   "metadata": {},
   "source": [
    "A seguir mostramso uma maneira simples de criar links externos: \n",
    "\n",
    "[O site do Jupyter/IPython](http://jupyter.org)"
   ]
  },
  {
   "cell_type": "markdown",
   "metadata": {},
   "source": [
    "Se desejar, você pode adicionar títulos usando a sintaxe do Markdown:\n",
    "\n",
    "# Cabeçalho 1\n",
    "## Cabeçalho 2\n",
    "## Cabeçalho 2.1\n",
    "## Cabeçalho 2.2\n",
    "### Cabeçalho 3"
   ]
  },
  {
   "cell_type": "markdown",
   "metadata": {},
   "source": [
    "**Na maior parte do tempo deve-se usar as células de cabeçalho do notebook para organizar o conteúdo do seu notebook e manter seu documento estruturado**, pois fornecem estrutura significativa que podem ser interpretada por outras ferramentas, não apenas grandes fontes em negrito."
   ]
  },
  {
   "cell_type": "markdown",
   "metadata": {},
   "source": [
    "Pode-se incorporar código destinado à ilustração em vez de execução em Python:\n",
    "```python\n",
    "    def f(x):\n",
    "        \"\"\"a docstring\"\"\"\n",
    "        return x**2\n",
    "```\n",
    "ou em outras linguagens:\n",
    "```C++\n",
    "    if (i=0; i<n; i++) {\n",
    "      printf(\"hello %d\\n\", i);\n",
    "      x += 4;\n",
    "    }\n",
    "```"
   ]
  },
  {
   "cell_type": "markdown",
   "metadata": {},
   "source": [
    "## Equaçõe LaTeX"
   ]
  },
  {
   "cell_type": "markdown",
   "metadata": {},
   "source": [
    "Para escrever equações matemáticas em uma célula do markdown, usa-se o mesma sintaxe do LaTeX, na qual para escrever uma equação *\"inline\"* no meio do texto deve-se usar o par de símbolos \\$ equação \\$. Para escrever uma equação que seja mostrada sozinha em uma única linha, deve-se usar em uma linhas separadas o par de símbolos \\$\\$ equação \\$\\$.\n",
    "\n",
    "Considere por exemplo a seguinte equação no meio do texto $e^{i\\pi} + 1 = 0$, e q seguinte equação em uma linha sozinha:\n",
    "\n",
    "\n",
    "\\begin{equation}\n",
    "e^x=\\sum_{i=0}^\\infty \\frac{1}{i!}x^i\n",
    "\\end{equation}\n",
    "\n",
    "\n",
    "\n",
    "### Numerando equações LaTeX no notebook\n",
    "\n",
    "Para maiores detalhes colsulte o [link](https://github.com/ipython/ipython/issues/4113).\n",
    "\n",
    "Pode-se ativar a numeração executando a célula abaixo com o seguinte contéudo"
   ]
  },
  {
   "cell_type": "code",
   "execution_count": null,
   "metadata": {},
   "outputs": [],
   "source": [
    "%%javascript MathJax.Hub.Config({ TeX: { equationNumbers: { autoNumber: \n",
    "  \"AMS\" } } });"
   ]
  },
  {
   "cell_type": "markdown",
   "metadata": {},
   "source": [
    "Há também uma extensão para a [numeração de uma equação](https://github.com/ipython-contrib/jupyter_contrib_nbextensions)\n",
    "\n",
    "Para instalar a extensão faça o seguinte:\n",
    "\n",
    "```bash\n",
    "sudo -H pip3 install jupyter_contrib_nbextensions\n",
    "jupyter contrib nbextension install --user\n",
    "jupyter nbextension enable equation-numbering/main\n",
    "```"
   ]
  },
  {
   "cell_type": "markdown",
   "metadata": {},
   "source": [
    "Usando o MathJax, pode-se incluir expressões matemáticas no seu texto, usando a nomenclatura LaTeX, conforme exemplo a seguir:\n",
    "$e^{i\\pi} + 1 = 0$  e mostrado como:\n",
    "\n",
    "$$e^x=\\sum_{i=0}^\\infty \\frac{1}{i!}x^i$$"
   ]
  },
  {
   "cell_type": "markdown",
   "metadata": {},
   "source": [
    "## Tabelas no Markdown\n",
    "\n",
    "Há uma interface web a qual gera uma tabela Markdown para você de forma simples: <http://www.tablesgenerator.com/markdown_tables> \n",
    "\n",
    "Porque Markdown é um superconjunto de HTML você pode até mesmo adicionar coisas como tabelas HTML:\n",
    "\n",
    "<table>\n",
    "<tr>\n",
    "<th>Cabeçalho 1</th>\n",
    "<th>Cabeçalho 2</th>\n",
    "</tr>\n",
    "<tr>\n",
    "<td>linha 1, celula 1</td>\n",
    "<td>linha 1, celula 2</td>\n",
    "</tr>\n",
    "<tr>\n",
    "<td>linha 2, celula 1</td>\n",
    "<td>linha 2, celula 2</td>\n",
    "</tr>\n",
    "</table>\n",
    "\n",
    "Uma outra forma de fazer tabelas é usando o seguinte código \n",
    "\n",
    "```markdown\n",
    "| H1-C1 | H2-C2 | H3-C3 | H4-C4 | H5-C5 |\n",
    "|-------|-------|-------|-------|-------|\n",
    "| L2-C1 | L2-C2 | L2-C3 | L2-C4 | L2-C5 |\n",
    "| L3-C1 | L3-C2 | L3-C3 | L3-C4 | L3-C5 |\n",
    "| L4-C1 | L4-C2 | L4-C3 | L4-C4 | L4-C5 |\n",
    "```\n",
    "\n",
    "obtemos como resultado a seguinte tabela:\n",
    "\n",
    "\n",
    "| H1-C1 | H2-C2 | H3-C3 | H4-C4 | H5-C5 |\n",
    "|-------|-------|-------|-------|-------|\n",
    "| L2-C1 | L2-C2 | L2-C3 | L2-C4 | L2-C5 |\n",
    "| L3-C1 | L3-C2 | L3-C3 | L3-C4 | L3-C5 |\n",
    "| L4-C1 | L4-C2 | L4-C3 | L4-C4 | L4-C5 |\n",
    "\n",
    "\n",
    "Quanto ao alinhamento das coulnas, eles podem ser controlados usando o seguinte código\n",
    "\n",
    "```markdown\n",
    "| Esquerda     | Centralizado   | Direita       |\n",
    "| :---         |     :---:      |          ---: |\n",
    "| git status   | git status     | git status    |\n",
    "| git diff     | git diff       | git diff      |\n",
    "```\n",
    " o qual resulta na seguinte tabela\n",
    "\n",
    "| Esquerda     | Centralizado   | Direita       |\n",
    "| :---         |     :---:      |          ---: |\n",
    "| git status   | git status     | git status    |\n",
    "| git diff     | git diff       | git diff      |\n"
   ]
  },
  {
   "cell_type": "markdown",
   "metadata": {},
   "source": [
    "## Incluindo arquivos locais: imagens, vídeos, etc.\n",
    "\n",
    "Se você tiver arquivos locais no diretório do Notebook, você pode consultar e/ou inserir esses arquivos diretamente nas células do Markdown:\n",
    "\n",
    "![nome](arquivo)\n",
    "\n",
    "    [subdiretorio/]<arquivo>\n",
    "\n",
    "Por exemplo, na pasta de Figs, temos o logotipo Python:\n",
    "\n",
    "    <img src=\"../Figs/python_logo.svg\" />\n",
    "\n",
    "<img src=\"../Figs/python_logo.svg\" />\n",
    "\n",
    "e um vídeo com uma tag de vídeo HTML5:\n",
    "\n",
    "    <video controls src=\"../Figs/animation.m4v\" />\n",
    "\n",
    "<video controls src=\"../Figs/animation.m4v\" />\n",
    "\n",
    "Esses não incorporam os dados no arquivo do notebook e exigem que os arquivos existam quando você estiver visualizando o notebook."
   ]
  },
  {
   "cell_type": "markdown",
   "metadata": {},
   "source": [
    "Note que isso significa que o servidor de notebooks IPython também atua como um servidor de arquivos genérico para arquivos dentro da mesma árvore que seus notebooks. O acesso não é concedido fora da pasta do caderno de modo que você tenha controle estrito sobre quais arquivos são visíveis, mas por esse motivo é altamente recomendável que você não execute o servidor de notebook com um diretório de notebook em um nível alto em seu sistema de arquivos diretório).\n",
    "\n",
    "Quando você executa o notebook de maneira protegida por senha, o acesso a arquivos locais é restrito a usuários autenticados, a menos que as exibições somente leitura estejam ativas."
   ]
  },
  {
   "cell_type": "markdown",
   "metadata": {},
   "source": [
    "## Comentários no Markdown\n",
    "\n",
    "Em geral é sempre muito útil poder introduzir alguns comentários em um texto:\n",
    "\n",
    "<http://daringfireball.net/projects/markdown/syntax#link>\n",
    "\n",
    "```markdown\n",
    "[comment]: <> (This is a comment, it will not be included)\n",
    "[comment]: <> (in  the output file unless you use it in)\n",
    "[comment]: <> (a reference style link.)\n",
    "```\n",
    "\n",
    "Para aperfeiçoar a compatibilidade da platforma tamém, é possível usar # (o qual é uma taga para um hiperlink legitimo)  em vez de  <>:\n",
    "\n",
    "```markdown\n",
    "[//]: # (This may be the most platform independent comment)\n",
    "```"
   ]
  },
  {
   "cell_type": "markdown",
   "metadata": {},
   "source": [
    "## Links e Referências\n",
    "\n",
    "\n",
    "Essas notas foram construídas com as informações coletadas na web, e eu não consigo mais agradecer a todos e nem a rastrear a origem  de todos. \n",
    "\n",
    "A seguir apresentamos alguns site interessantes:\n",
    "\n",
    "- [Jupyter Notebook Examples](http://nbviewer.jupyter.org/github/ipython/ipython/tree/1.x/examples/notebooks/)\n",
    "- [NotebookCloud](https://notebookcloud.appspot.com) Um serviço que permite lançar e controlar servidores IPython Notebook no Amazon EC2 a partir do seu navegador.\n",
    "- [IPython Notebook Viewer](http://nbviewer.ipython.org) Exibe versões HTML estáticas de notebooks e inclui uma galeria de exemplos de cadernos. Esse texto é uma adaptação do seu conteúdo."
   ]
  },
  {
   "cell_type": "code",
   "execution_count": null,
   "metadata": {},
   "outputs": [],
   "source": []
  }
 ],
 "metadata": {
  "anaconda-cloud": {},
  "kernelspec": {
   "display_name": "Python 3",
   "language": "python",
   "name": "python3"
  },
  "language_info": {
   "codemirror_mode": {
    "name": "ipython",
    "version": 3
   },
   "file_extension": ".py",
   "mimetype": "text/x-python",
   "name": "python",
   "nbconvert_exporter": "python",
   "pygments_lexer": "ipython3",
   "version": "3.6.8"
  },
  "latex_envs": {
   "LaTeX_envs_menu_present": true,
   "autoclose": false,
   "autocomplete": false,
   "bibliofile": "biblio.bib",
   "cite_by": "apalike",
   "current_citInitial": 1,
   "eqLabelWithNumbers": true,
   "eqNumInitial": 1,
   "hotkeys": {
    "equation": "Ctrl-E",
    "itemize": "Ctrl-I"
   },
   "labels_anchors": false,
   "latex_user_defs": false,
   "report_style_numbering": false,
   "user_envs_cfg": false
  },
  "nav_menu": {},
  "nbTranslate": {
   "displayLangs": [
    "pt",
    "en"
   ],
   "hotkey": "alt-t",
   "langInMainMenu": true,
   "sourceLang": "en",
   "targetLang": "pt",
   "useGoogleTranslate": true
  },
  "toc": {
   "base_numbering": 1,
   "nav_menu": {},
   "number_sections": false,
   "sideBar": true,
   "skip_h1_title": false,
   "title_cell": "Table of Contents",
   "title_sidebar": "Contents",
   "toc_cell": false,
   "toc_position": {},
   "toc_section_display": "block",
   "toc_window_display": false
  },
  "varInspector": {
   "cols": {
    "lenName": 16,
    "lenType": 16,
    "lenVar": 40
   },
   "kernels_config": {
    "python": {
     "delete_cmd_postfix": "",
     "delete_cmd_prefix": "del ",
     "library": "var_list.py",
     "varRefreshCmd": "print(var_dic_list())"
    },
    "r": {
     "delete_cmd_postfix": ") ",
     "delete_cmd_prefix": "rm(",
     "library": "var_list.r",
     "varRefreshCmd": "cat(var_dic_list()) "
    }
   },
   "types_to_exclude": [
    "module",
    "function",
    "builtin_function_or_method",
    "instance",
    "_Feature"
   ],
   "window_display": false
  }
 },
 "nbformat": 4,
 "nbformat_minor": 1
}
