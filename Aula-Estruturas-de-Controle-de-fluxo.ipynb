{
 "cells": [
  {
   "cell_type": "markdown",
   "metadata": {},
   "source": [
    "<img src=\"../Figs/Cab_IF_Red_01.png\" alt=\"drawing\" width=\"80%\"/>\n",
    "\n",
    "\n",
    "<!--\n",
    "\n",
    "<img href=\"Figs/Cab_IF_Red_01.png\" style=\"width: 80%;\" /> doesn't work\n",
    "\n",
    "![Logotipo do IF](../Figs/Cab_IF_Red_01.png){ width=50% }\n",
    "\n",
    "<h1> <span style=\"color:blue\">Curso de Python</span> </h1> \n",
    "-->\n",
    "\n",
    "<p style=\"margin-bottom:1cm;\"> </p>\n",
    "\n",
    "\n",
    "<center> <font size=\"6\" color=\"blue\">Curso de Python</font> </center>\n",
    "\n",
    "\n",
    "<font size=\"4\" color=\"blue\">**Prof. :** Salviano A. Leão -- Instituto de Física - UFG-GO</font>\n",
    "\n"
   ]
  },
  {
   "cell_type": "markdown",
   "metadata": {},
   "source": [
    "# Controle de Fluxo"
   ]
  },
  {
   "cell_type": "markdown",
   "metadata": {},
   "source": [
    "## Sumário  <a name=\"sumario\"></a>\n",
    "* [Noções Básicas](#CF-nocoes-basicas)\n",
    "* [Condicionais](#CF-condicionais)\n",
    "* [A Estrutura Condicional if-then-else](#CF-if-else)\n",
    "* [A Estrutura de Repetição For](#CF-loop-for)\n",
    "* [A Estrutura de Repetição While](#CF-loop-while)\n",
    "* [Operadores Relacionais (de comparação) nas Instruções `if` e `while` ](#CF-operadores-relacionais)\n",
    "* [Exceções](#CF-excecoes)\n",
    "* [Aumentando Exceções](#CF-aum-execoes)\n",
    "* [Hierarquia das Exceções](#CF-hierarquia-excecoes)\n",
    "* [Criando Nossas Próprias Exceções](#CF-criando-excecoes)"
   ]
  },
  {
   "cell_type": "markdown",
   "metadata": {},
   "source": [
    "## Noções Básicas <a name=\"CF-nocoes-basicas\"></a>\n",
    "\n",
    "\n",
    "Para um determinado arquivo com um programa python, o interpretador python começará na parte superior e processará o arquivo. Demonstramos isso com um programa simples, por exemplo:\n"
   ]
  },
  {
   "cell_type": "code",
   "execution_count": null,
   "metadata": {
    "collapsed": true
   },
   "outputs": [],
   "source": [
    "def f(x):\n",
    "    \"\"\"função que calcula e retorna x*x\"\"\"\n",
    "    return x * x\n",
    "\n",
    "print(\"O programa principal inicia aqui\")\n",
    "print(\"4 * 4 = %s\" % f(4))\n",
    "print(\"Estamos na última linha do programa -- bye-bye\")"
   ]
  },
  {
   "cell_type": "markdown",
   "metadata": {},
   "source": [
    "A regra básica é que os comandos em um arquivo (ou função ou qualquer sequência de comandos) sejam processados de cima para baixo. Se vários comandos são fornecidos na mesma linha (separados por <span>`;`</span>), estes são processados da esquerda para a direita (embora seja desencorajado ter várias instruções por linha para manter uma boa legibilidade do código.)\n",
    "\n",
    "Neste exemplo, o interpretador começa no topo (linha 1). Ele encontra a palavra-chave <span>`def`</span> e lembra para o futuro que a função <span>`f`</span> é definida aqui. (Ele ainda não executará o corpo da função, isto é, a linha 3 - isso só acontece quando chamamos a função.) O interpretador pode ver a partir da indentação onde o corpo da função pára: o recuo na linha 5 é diferente daquele da primeira linha no corpo da função (linha2), e assim o corpo da função terminou, ea execução deve continuar com essa linha. (As linhas vazias não importam para esta análise.)\n",
    "\n",
    "Na linha 5 o interpretador imprimirá a saída `O programa principal inicia aqui`. Então a linha 6 é executada. Isso contém a expressão <span>`f(4)`</span> que chamará a função <span>`f(x)`</span> definida na linha 1 onde <span>`x`</span>  terá o valor <span>`4`</span>. \\[Na verdade <span>`x`</span> é uma referência ao objeto <span>`4`</span>.\\] A função <span>`f`</span> é então executada, calculando (calcula todas as instruções uma por por uma) e retorna <span>`4*4`</span> na linha 3. Esse valor <span>`16`</span> é usado na linha 6 para substituir <span>`f(4)`</span> e então a representação de string <span>`%s`</span> do objeto 16 é impressa como parte do comando de impressão na linha 6.\n",
    "\n",
    "O intérprete passa para a linha 7 antes de o programa terminar.\n",
    "\n",
    "Vamos agora aprender sobre diferentes possibilidades para direcionar esse fluxo de controle ainda mais.\n",
    "\n",
    "## Condicionais <a name=\"CF-condicionais\"></a>\n",
    "\n",
    "Os valores de python <span> `True` </span> e <span>`False`</span> são objetos especiais de construção interna do python:\n",
    "\n"
   ]
  },
  {
   "cell_type": "code",
   "execution_count": null,
   "metadata": {
    "collapsed": true
   },
   "outputs": [],
   "source": [
    "a = True\n",
    "print(a)"
   ]
  },
  {
   "cell_type": "code",
   "execution_count": null,
   "metadata": {
    "collapsed": true
   },
   "outputs": [],
   "source": [
    "type(a)"
   ]
  },
  {
   "cell_type": "code",
   "execution_count": null,
   "metadata": {
    "collapsed": true
   },
   "outputs": [],
   "source": [
    "b = False\n",
    "print(b)"
   ]
  },
  {
   "cell_type": "code",
   "execution_count": null,
   "metadata": {
    "collapsed": true
   },
   "outputs": [],
   "source": [
    "type(b)"
   ]
  },
  {
   "cell_type": "markdown",
   "metadata": {},
   "source": [
    "Podemos operar com estes dois valores lógicos usando a lógica booleana, por exemplo, a lógica e a operação (<span>`and`</span>):\n"
   ]
  },
  {
   "cell_type": "code",
   "execution_count": null,
   "metadata": {
    "collapsed": true
   },
   "outputs": [],
   "source": [
    "True and True          #Operação lógica and"
   ]
  },
  {
   "cell_type": "code",
   "execution_count": null,
   "metadata": {
    "collapsed": true
   },
   "outputs": [],
   "source": [
    "True and False"
   ]
  },
  {
   "cell_type": "code",
   "execution_count": null,
   "metadata": {
    "collapsed": true
   },
   "outputs": [],
   "source": [
    "False and True"
   ]
  },
  {
   "cell_type": "code",
   "execution_count": null,
   "metadata": {
    "collapsed": true
   },
   "outputs": [],
   "source": [
    "False and False"
   ]
  },
  {
   "cell_type": "code",
   "execution_count": null,
   "metadata": {
    "collapsed": true
   },
   "outputs": [],
   "source": [
    "for x in [True, False]:\n",
    "    for y in [True, False]:\n",
    "        print(\"{0} and {1} = {2}\".format(x, y, (x and y)))"
   ]
  },
  {
   "cell_type": "code",
   "execution_count": null,
   "metadata": {
    "collapsed": true,
    "scrolled": true
   },
   "outputs": [],
   "source": [
    "for x in [True, False]:\n",
    "    for y in [True, False]:\n",
    "        print(\"{0} or {1} = {2}\".format(x, y, (x or y)))"
   ]
  },
  {
   "cell_type": "code",
   "execution_count": null,
   "metadata": {
    "collapsed": true
   },
   "outputs": [],
   "source": [
    "c = a and b\n",
    "print(c)"
   ]
  },
  {
   "cell_type": "markdown",
   "metadata": {},
   "source": [
    "Há também a operação lógica ou (<span>`or`</span>) e a negação (<span>`not` </span>):\n"
   ]
  },
  {
   "cell_type": "code",
   "execution_count": null,
   "metadata": {
    "collapsed": true
   },
   "outputs": [],
   "source": [
    "True or False"
   ]
  },
  {
   "cell_type": "code",
   "execution_count": null,
   "metadata": {
    "collapsed": true
   },
   "outputs": [],
   "source": [
    "not True"
   ]
  },
  {
   "cell_type": "code",
   "execution_count": null,
   "metadata": {
    "collapsed": true
   },
   "outputs": [],
   "source": [
    "not False"
   ]
  },
  {
   "cell_type": "code",
   "execution_count": null,
   "metadata": {
    "collapsed": true
   },
   "outputs": [],
   "source": [
    "True and not False"
   ]
  },
  {
   "cell_type": "markdown",
   "metadata": {},
   "source": [
    "## Operadores\n",
    "\n",
    "\n",
    "Aritméticos:\n",
    "\n",
    "\n",
    "|Operador|          Descrição            |          Exemplo              |\n",
    "|:------:|-------------------------------|-------------------------------|\n",
    "| +      | Soma                          | 2+3 = 8    e   'a'+'b' = 'ab' |\n",
    "| -      | Subtração                     | 7-2 = 5                       |\n",
    "| *      | Multiplicação                 | 2 * 3 = 6. e 'Bla! '*3 = 'Bla! Bla! Bla! ' |\n",
    "| /      | Divisão                       | 8/2 = 4                       |\n",
    "| **     | Potência                      | 2**3 = 8                      |\n",
    "| //     | Divisão inteira               | 7 // 2 = 3                    |\n",
    "| %      | função mod. Divisão inteira   | 7 % 2 = 1                     |\n",
    "\n",
    "\n",
    "\n",
    "Comparação:\n",
    "\n",
    "|Operador|          Descrição            |          Exemplo              |\n",
    "|:------:|-------------------------------|-------------------------------|\n",
    "| <      | Maior que                     | 5>3                           |\n",
    "| >      | Menor que                     | 7 < 12                        |\n",
    "| <=     | Maior ou igual                | 8 >= 9                        |\n",
    "| >=     | Menor ou igual                | 8 <= 12                       |\n",
    "| ==     | Igual a                       | 2**3 == 8                     |\n",
    "| !=     | Diferente de                  | 7 != 2                        |\n",
    "\n"
   ]
  },
  {
   "cell_type": "markdown",
   "metadata": {},
   "source": [
    "Em código de computador, muitas vezes precisamos avaliar se uma determinada expressão é verdadeira ou falsa (às vezes chamado de \"predicado\"). Por exemplo:\n"
   ]
  },
  {
   "cell_type": "code",
   "execution_count": null,
   "metadata": {
    "collapsed": true
   },
   "outputs": [],
   "source": [
    "x = 30          # atribui 30 a x\n",
    "x > 15          # x é maior do que 15"
   ]
  },
  {
   "cell_type": "code",
   "execution_count": null,
   "metadata": {
    "collapsed": true
   },
   "outputs": [],
   "source": [
    "x > 42"
   ]
  },
  {
   "cell_type": "code",
   "execution_count": null,
   "metadata": {
    "collapsed": true
   },
   "outputs": [],
   "source": [
    "x == 30         # x é igual a 30?"
   ]
  },
  {
   "cell_type": "code",
   "execution_count": null,
   "metadata": {
    "collapsed": true
   },
   "outputs": [],
   "source": [
    "x == 42"
   ]
  },
  {
   "cell_type": "code",
   "execution_count": null,
   "metadata": {
    "collapsed": true
   },
   "outputs": [],
   "source": [
    "not x == 42     # x não é igual a 42?"
   ]
  },
  {
   "cell_type": "code",
   "execution_count": null,
   "metadata": {
    "collapsed": true
   },
   "outputs": [],
   "source": [
    "x != 42         # x é diferente de 42?"
   ]
  },
  {
   "cell_type": "code",
   "execution_count": null,
   "metadata": {
    "collapsed": true
   },
   "outputs": [],
   "source": [
    "x < 30          # x é menor do que  30?"
   ]
  },
  {
   "cell_type": "code",
   "execution_count": null,
   "metadata": {
    "collapsed": true
   },
   "outputs": [],
   "source": [
    "x > 30          # x é maior do que  30?"
   ]
  },
  {
   "cell_type": "code",
   "execution_count": null,
   "metadata": {
    "collapsed": true
   },
   "outputs": [],
   "source": [
    "x >= 30         # x é maior ou igual a 30?"
   ]
  },
  {
   "cell_type": "code",
   "execution_count": null,
   "metadata": {
    "collapsed": true
   },
   "outputs": [],
   "source": [
    "x <= 30         # x é menor ou igual a 30?"
   ]
  },
  {
   "cell_type": "markdown",
   "metadata": {},
   "source": [
    "## A Estrutura Condicional If-then-else <a name=\"CF-if-else\"></a>\n",
    "\n",
    "\n",
    "##### Mais informações\n",
    "\n",
    "-   Introdução a estrutura condicional If-then em [Python tutorial, section 4.1](http://docs.python.org/tutorial/controlflow.html#if-statements)\n",
    "\n",
    "A instrução <span> `if` </span> permite a execução condicional de código, por exemplo:\n"
   ]
  },
  {
   "cell_type": "code",
   "execution_count": null,
   "metadata": {
    "collapsed": true
   },
   "outputs": [],
   "source": [
    "a = 34\n",
    "if a > 0:\n",
    "    print(\"a é positivo\")"
   ]
  },
  {
   "cell_type": "markdown",
   "metadata": {},
   "source": [
    "A instrução <span>`if`</span> também pode ter uma ramificação <span>`else`</span> que é executada se a condição não for satisfeita:\n"
   ]
  },
  {
   "cell_type": "code",
   "execution_count": null,
   "metadata": {
    "collapsed": true
   },
   "outputs": [],
   "source": [
    "a = -34\n",
    "if a > 0:\n",
    "    print(\"a é positivo\")\n",
    "else:\n",
    "    print(\"a é não-positivo (i.e. negativo ou zero)\")"
   ]
  },
  {
   "cell_type": "markdown",
   "metadata": {},
   "source": [
    "Finalmente, existe a palavra-chave <span>`elif`</span> (lida como \"else if\") que permite verificar várias possibilidades (exclusivas), ou seja, um conjunto de condições exclusivas:\n"
   ]
  },
  {
   "cell_type": "code",
   "execution_count": null,
   "metadata": {
    "collapsed": true
   },
   "outputs": [],
   "source": [
    "a = 17\n",
    "if a == 0:\n",
    "    print(\"a é zero\")\n",
    "elif a < 0:\n",
    "    print(\"a é negativo\")\n",
    "else:\n",
    "    print(\"a é positivo\")"
   ]
  },
  {
   "cell_type": "markdown",
   "metadata": {},
   "source": [
    "## Exercício \n",
    "\n",
    "Escreva uma função para determinar o número de digitos de um número que foi entrado no intervalo de $0\\le n \\le 1000$"
   ]
  },
  {
   "cell_type": "code",
   "execution_count": null,
   "metadata": {
    "collapsed": true
   },
   "outputs": [],
   "source": [
    "n = int(input(\"Entre com um número entre 0 e 1000 \"))"
   ]
  },
  {
   "cell_type": "code",
   "execution_count": null,
   "metadata": {
    "collapsed": true
   },
   "outputs": [],
   "source": [
    "def digitos(n):\n",
    "    if n < 10 : \n",
    "        return 1\n",
    "    elif n < 100:\n",
    "        return 2\n",
    "    else :\n",
    "        return 3\n",
    "\n",
    "n = int(input(\"Entre com um número entre 0 e 1000 \"))\n",
    "    \n",
    "while n > 0 :\n",
    "    print(\"O número {:d} que você entrou possui {:d} dígitos\".format(n, digitos(n)))\n",
    "    n = int(input(\"Entre com um número entre 0 e 1000 (se <0 sai)\"))\n"
   ]
  },
  {
   "cell_type": "markdown",
   "metadata": {},
   "source": [
    "##  A Estrutura de Repetição For <a name=\"CF-loop-for\"></a>\n",
    "\n",
    "\n",
    "A sintaxe do Python não possui a estrutura de repetição `for` tradicional, na qual define-se uma variável, condição e incremento no cabeçalho da estrutura. A ideia, é o trabalho e manipulação de estrutura iteraveis, isto é, a definição de iteradores, ou melhor: objetos iteráveis - iterators.\n",
    "\n",
    "```python\n",
    "for <variavel> in <objeto iteravel>:\n",
    "    bloco de instrucao\n",
    "```\n",
    "\n",
    "A variável a ser declarada na primeira parte da estrutura, receberá, a cada ciclo, um elemento contido na lista que está sendo iterada. Ao término, todos elementos terão sido percorridos e, a cada ciclo, o elemento seguinte contido no objeto iterável terá sido passado pela variável definida inicialmente.\n",
    "\n",
    "A seguir, faremos um exemplo real e percorreremos uma lista numérica."
   ]
  },
  {
   "cell_type": "code",
   "execution_count": null,
   "metadata": {},
   "outputs": [],
   "source": [
    "for item in [3,4,5,6,7]:\n",
    "    print(item)"
   ]
  },
  {
   "cell_type": "markdown",
   "metadata": {},
   "source": [
    "#### Mais informações\n",
    "\n",
    "-   Introduction to for-loops in [Python tutorial, section 4.2](http://docs.python.org/tutorial/controlflow.html#for-statements)\n",
    "\n",
    "A estrutura de repetição <span>`for`</span>, ou simplesmente loop-<span>`for`</span>, permite iterar sobre uma sequência (que por exemplo, pode ser uma string ou uma lista). Aqui está um exemplo:\n",
    "\n",
    "\n",
    "Nós podemos ler o laço de repetição definido acima for item in [3,4,5,6,7]: da seguinte maneira. Para cada elemento contido na lista [3,4,5,6,7] execute o bloco de código a seguir e a cada execução, atribua à variável item for item in um item da lista.\n",
    "\n",
    "Ou entao, podemos ler como estamos estudando... Acima, definimos a variável item e uma lista com 5 elementos [3,4,5,6,7]. A cada ciclo, o elemento seguinte é atribuido à variável item e ao término, teremos executado um ciclo individual para cada elemento contido na lista.\n",
    "\n",
    "Considere o exemplo abaixo de uma lista"
   ]
  },
  {
   "cell_type": "code",
   "execution_count": null,
   "metadata": {
    "collapsed": true
   },
   "outputs": [],
   "source": [
    "for animal in ['cavalo','vaca','boi','cachorro']:\n",
    "    print(animal, animal.upper())"
   ]
  },
  {
   "cell_type": "markdown",
   "metadata": {},
   "source": [
    "Juntamente com o comando `range()` [no capítulo 3](03-Estrutura-e-tipos-de-dados.ipynb#cmd-range), é possível iterar sobre números inteiros crescentes:\n"
   ]
  },
  {
   "cell_type": "code",
   "execution_count": null,
   "metadata": {
    "collapsed": true
   },
   "outputs": [],
   "source": [
    "for i in range(5):\n",
    "    print(i)"
   ]
  },
  {
   "cell_type": "code",
   "execution_count": null,
   "metadata": {
    "collapsed": true
   },
   "outputs": [],
   "source": [
    "for i in range(1,5):\n",
    "    print(i)"
   ]
  },
  {
   "cell_type": "code",
   "execution_count": null,
   "metadata": {
    "collapsed": true
   },
   "outputs": [],
   "source": [
    "for i in range(5,10):\n",
    "    print(i)"
   ]
  },
  {
   "cell_type": "code",
   "execution_count": null,
   "metadata": {},
   "outputs": [],
   "source": [
    "for i in [20, 40, 60, 80]:\n",
    "    print(i)"
   ]
  },
  {
   "cell_type": "markdown",
   "metadata": {},
   "source": [
    "### Definição da instrução for\n",
    "\n",
    "A sintaxe da  estrutura de repetição `for` exige, inicialmente, a definição de uma variável e, em seguida, uma lista que será iterada. A seguir, temos o esquema para o uso da instrução for.\n",
    "\n",
    "A sintaxe completa para o loop `for ... in`  também inclui uma condição opcional `else`:\n",
    "```python\n",
    "for expressao in Um_Iteravel:\n",
    "    Bloco de comando do loop\n",
    "else:\n",
    "    Bloco de comando do final\n",
    "```\n",
    "\n",
    "A expressão é normalmente uma única variável ou uma sequência de variáveis, geralmente na forma de uma tupla. Se uma tupla ou lista for usada para a expressão, cada item é descompactado nos itens da expressão.\n",
    "\n",
    "### Intruções else, break e continue\n",
    "\n",
    "No `for` também podemos usar os coamndos `break` e `continue`. Assim, podemos controlar ainda mais o comportamento do laço. Além disso, há uma particularidade no for do Python que o deixa muito poderoso: podemos usar um `else` ao final do for como no exemplo a seguir:\n",
    "\n",
    "\n",
    "\n"
   ]
  },
  {
   "cell_type": "code",
   "execution_count": null,
   "metadata": {},
   "outputs": [],
   "source": [
    "for i in ['a', 'b', 'c', 'd', 'e', 'f', 'g']:\n",
    "    if i >= 'd':\n",
    "        continue\n",
    "    print(i)\n",
    "else:\n",
    "    print('d')"
   ]
  },
  {
   "cell_type": "markdown",
   "metadata": {},
   "source": [
    "Usando o `else` no final, podemos controlar o que será executado ao final de um execução completa laço `for` e o que será executado se o laço for quebrado por um `break`. Quando o `break` quebra o laço, a execução segue para fora do `else`! Se o laço termina sem ser quebrado por um `break`, ele executa o que está dentro do `else`.\n",
    "\n",
    "Se uma instrução `continue` for executada dentro da suíte `for ... in`, o controle é  passado imediatamente para o início do loop e a próxima iteração começa. Se o loop for executado até o fim e terminar, ele é finalizado normalmente e toda suíte `else` será executada. Se o loop for interrompido devido a uma instrução `break` ou `return` (se o loop estiver em um método ou função), ou se uma exceção for lançada, a cláusula `else` não é executada (se ocorrer uma exceção o Python pula a cláusula `else` e procura por um tradador de exceção). \n",
    "\n",
    "Neste exemplo, foram mostradas as letras a, b, c e d, mas o d não foi impresso dentro do `for`, mas dentro do `else`!\n",
    "\n",
    "Isto é muito importante, pois evita que tenhamos que fazer testes complicados para detectar quando um `for` for quebrado por um `break` que será chamado em condições complexas.\n",
    "\n",
    "Finalmente, muitos devem estar se perguntando: \"Como este `for` pode ser tão poderoso se temos que definir as listas manualmente?\"\n",
    "\n",
    "O fato é que não temos que fazer manualmente se for uma lista de números (assim como não precisamos em outras linguagens).\n",
    "\n",
    "\n",
    "Existe uma função em Python, `range`, que retorna uma lista de números no intervalo especificado. Veja o exemplo:"
   ]
  },
  {
   "cell_type": "code",
   "execution_count": null,
   "metadata": {},
   "outputs": [],
   "source": [
    "for i in range(20):\n",
    "    if i%2 == 0:\n",
    "        print( i, 'é par')\n",
    "    else:\n",
    "        print(i, 'é impar') "
   ]
  },
  {
   "cell_type": "markdown",
   "metadata": {},
   "source": [
    "Quando fazemos range(20), teremos uma lista de inteiros de 0 a 19. (experimente no shell)."
   ]
  },
  {
   "cell_type": "markdown",
   "metadata": {},
   "source": [
    "### Exemplo:\n",
    "\n",
    "Vejamos um exemplo da cláusula `else` em ação. Os métodos `str.index()` e `lista.index()` retornam o índice da posição de uma determinada sequência de caracteres ou item ou aumentam uma exceção de `ValueError` se a sequência de caracteres ou item não for encontrado. O método `str.find()` faz a mesma coisa, mas em caso de falha, em vez de lançar uma exceção retorna um índice de -1. Não há um método equivalente para listas, mas se quiséssemos uma função que fizesse isso, poderíamos criar um usando um loop `for` da seguinte forma:"
   ]
  },
  {
   "cell_type": "code",
   "execution_count": null,
   "metadata": {
    "collapsed": true
   },
   "outputs": [],
   "source": [
    "def find_listaf(lista, alvo):\n",
    "    for index, x in enumerate(lista):\n",
    "        if x == alvo:\n",
    "            break\n",
    "    else:\n",
    "        index = -1\n",
    "    return index"
   ]
  },
  {
   "cell_type": "code",
   "execution_count": null,
   "metadata": {},
   "outputs": [],
   "source": [
    "L=['arara', 'pardal', 'bicudo', 'periquito', 'canário']\n",
    "find_listaf(L,'pardal')"
   ]
  },
  {
   "cell_type": "code",
   "execution_count": null,
   "metadata": {},
   "outputs": [],
   "source": [
    "find_listaf(L,'gaivota')"
   ]
  },
  {
   "cell_type": "code",
   "execution_count": null,
   "metadata": {},
   "outputs": [],
   "source": [
    "# Exemplo simples do uso da instrução ELSE\n",
    "for x in [1,2]:\n",
    "    print(x)\n",
    "    # break\n",
    "else:\n",
    "    print(\"else\")"
   ]
  },
  {
   "cell_type": "markdown",
   "metadata": {},
   "source": [
    "Acima, temos que a estrutura for executou todos os ciclos definidos e no final, executou o bloco da instrução else."
   ]
  },
  {
   "cell_type": "code",
   "execution_count": null,
   "metadata": {},
   "outputs": [],
   "source": [
    "#Implementação sem o uso da instrução ELSE\n",
    "break_executado = False\n",
    "for x in [1,2]:\n",
    "    print(x)\n",
    "    if(True):\n",
    "        break_executado = True\n",
    "        break\n",
    "\n",
    "if(break_executado):\n",
    "    print(\"else\")\n"
   ]
  },
  {
   "cell_type": "markdown",
   "metadata": {},
   "source": [
    "Acima, temos que a estrutura for o primeiro ciclo e neste a instrução break foi invocada, portanto, o laço foi finalizado e o bloco else não foi executado."
   ]
  },
  {
   "cell_type": "markdown",
   "metadata": {},
   "source": [
    "### Exemplo: imprimir todas as letras de uma string\n",
    "\n",
    "Uma String é um conjunto de caracteres e assim, podemos iterar qualquer texto, por exemplo."
   ]
  },
  {
   "cell_type": "code",
   "execution_count": null,
   "metadata": {},
   "outputs": [],
   "source": [
    "for letras in 'Física':\n",
    "   print('ciclo: ', letras)"
   ]
  },
  {
   "cell_type": "markdown",
   "metadata": {},
   "source": [
    "###  Exemplo: imprimir todos os itens de uma lista"
   ]
  },
  {
   "cell_type": "code",
   "execution_count": null,
   "metadata": {},
   "outputs": [],
   "source": [
    "linguagens = [['Fortran', 'C', 'C++', 'Pascal'], ['Python',  'Lua', 'Java', 'Perl'] ]\n",
    "for iterador in linguagens:\n",
    "    for ling in iterador: \n",
    "        print('Linguagem %s é uma linguagem compilada ou interpretada? ' % (ling))"
   ]
  },
  {
   "cell_type": "code",
   "execution_count": null,
   "metadata": {},
   "outputs": [],
   "source": []
  },
  {
   "cell_type": "code",
   "execution_count": null,
   "metadata": {},
   "outputs": [],
   "source": [
    "for ling in linguagens[0]:\n",
    "    print('Linguagem %s é uma linguagem compilada.' % (ling))\n",
    "\n",
    "for ling in linguagens[1]:\n",
    "    print('Linguagem %s é uma linguagem interpretada.' % (ling))"
   ]
  },
  {
   "cell_type": "code",
   "execution_count": null,
   "metadata": {},
   "outputs": [],
   "source": [
    "for i in range(len(linguagens[0])):\n",
    "    print('Linguagem %s é uma linguagem compilada.' % (linguagens[0][i]))\n",
    "    print('Linguagem %s é uma linguagem interpretada.' % (linguagens[1][i]))"
   ]
  },
  {
   "cell_type": "markdown",
   "metadata": {},
   "source": [
    "**Exercício** Implemente a função fatorial usando o loop for, para um n qualquer"
   ]
  },
  {
   "cell_type": "code",
   "execution_count": null,
   "metadata": {
    "collapsed": true
   },
   "outputs": [],
   "source": [
    "def fatorial(n):\n",
    "    \"\"\"Rtorna o fatorial de um número usando um algoritmo direto\"\"\"\n",
    "    if n < 0:\n",
    "        return print(\"Valor errado\")\n",
    "    elif n == 1: \n",
    "        return 1\n",
    "    else:\n",
    "        fat = 1\n",
    "        for i in range(1,n+1):\n",
    "            fat = fat * i \n",
    "        return fat\n",
    "\n",
    "n = int(input(\"Entre com um inteiro positivo \"))\n",
    "    \n",
    "while n > 0 :\n",
    "    print(\"O fatorial de {:d} é {:d} \".format(n, fatorial(n)))\n",
    "    n = int(input(\"Entre com um número positivo (se <0 sai)\"))"
   ]
  },
  {
   "cell_type": "code",
   "execution_count": null,
   "metadata": {
    "collapsed": true
   },
   "outputs": [],
   "source": [
    "%%timeit \n",
    "fatorial(100)"
   ]
  },
  {
   "cell_type": "code",
   "execution_count": null,
   "metadata": {
    "collapsed": true
   },
   "outputs": [],
   "source": [
    "def fatorialr(n):\n",
    "    \"\"\"Rtorna o fatorial de um número usando um algoritmo recursivo\"\"\"\n",
    "    if n < 0:\n",
    "        return print(\"Valor errado\")\n",
    "    elif n <= 1: \n",
    "        return 1\n",
    "    else:\n",
    "        return n*fatorialr(n-1)\n",
    "\n",
    "n = int(input(\"Entre com um inteiro positivo \"))\n",
    "    \n",
    "while n > 0 :\n",
    "    print(\"O fatorial de {:d} é {:d} \".format(n, fatorialr(n)))\n",
    "    n = int(input(\"Entre com um número positivo (se <0 sai)\"))"
   ]
  },
  {
   "cell_type": "code",
   "execution_count": null,
   "metadata": {
    "collapsed": true
   },
   "outputs": [],
   "source": [
    "# Exemplo da convergência do limite sin(x)/x\n",
    "from math import *\n",
    "x=1\n",
    "for i in range(0,11):\n",
    "    s=\"x = {:15.13f}, \\t sen(x) = {:15.13f}, \\t sen(x)/x = {:15.13f} \".format(x,sin(x), sin(x)/x)\n",
    "    print(s)\n",
    "    #print(\"x = \", x, \"seno = \",sin(x),\" sen(x)/x =\", sin(x)/x)\n",
    "    x = x/10"
   ]
  },
  {
   "cell_type": "code",
   "execution_count": null,
   "metadata": {
    "collapsed": true
   },
   "outputs": [],
   "source": [
    "#Exemplo de convergência\n",
    "import numpy as np\n",
    "x0 = 1.0\n",
    "xf = 2.0\n",
    "n  = 11\n",
    "dx = (xf - x0)/(n-1)\n",
    "x1 = np.zeros(n)\n",
    "x2 = np.zeros(n)\n",
    "x1[0] = x0\n",
    "x2[0] = x0\n",
    "\n",
    "for i in range(1,n):\n",
    "    x1[i] = x1[i-1] + dx\n",
    "    x2[i] = x0 + i*dx\n",
    "    print(x1[i], x2[i])\n",
    "    \n",
    "print( x1[n-1] == x2[n-1])\n",
    "print(abs(x2[n-1]-x1[n-1]))\n",
    "\n",
    "print(repr(x1[n-1]), repr(x2[n-1]))\n",
    "\n",
    "# O que ocorreu?"
   ]
  },
  {
   "cell_type": "markdown",
   "metadata": {},
   "source": [
    "## A Estrutura de Repetição While <a name=\"CF-loop-while\"></a>\n",
    "\n",
    "\n",
    "### A estrutura simples do loop while\n",
    "\n",
    "O Laço de Repetição while repete um bloco de instrução enquanto a condição definida em seu cabeçalho seja verdadeira.\n",
    "\n",
    "A estrutura while deve ser entendida como sendo uma variante de uma *Tomada de Decisão*, isto é, da instrução `if` associada a um loop. Porém, ao contrário de repetir o bloco uma única vez, caso a expressão definida seja verdadeira, o bloco será executado indefinidamente, até que a expressão se torne falsa.\n",
    "\n",
    "É super importante entender que a expressão deverá, obrigatoriamente, deixar de ser verdadeira para que a repetição seja interrompida, caso contrário, o código  entrará em um loop infinito e irá congelar, isto é, ele irá travar. Além disso, para iniciar o loop é necessário que a condição já seja verdadeira. A sintaxew é a seguitne\n",
    "\n",
    "```python\n",
    "Cond = true\n",
    "while Cond:\n",
    "    Bloco de comandos do loop \n",
    "```\n",
    "No \"Bloco de comandos do loop\" a \"Cond\" deve ser avaliada novamente, pois o loop só sera interrompido quando ela for `false`.\n",
    "\n",
    "Considere, por exemplo o seguinte problema de contagem:"
   ]
  },
  {
   "cell_type": "code",
   "execution_count": null,
   "metadata": {},
   "outputs": [],
   "source": [
    "conta = 0\n",
    "while(conta <= 10):\n",
    "    conta += 1\n",
    "    print(conta)"
   ]
  },
  {
   "cell_type": "markdown",
   "metadata": {},
   "source": [
    "No código acima, temos uma variável de nome conta inicializada com o valor 0. Em seguida, utilizamos a instrução `while` para definir uma Estrutura de Repetição e, a cada ciclo, o \"Bloco de comandos do loop\", que contém 2 instruções, será executado. Neste bloco, somamos uma unidade à variável conta e imprimimos o valor da mesma, a cada ciclo, na saida padrão com a função `print()`."
   ]
  },
  {
   "cell_type": "markdown",
   "metadata": {},
   "source": [
    "A palavra-chave <span>`while`</span> permite repetir uma operação enquanto uma condição é verdadeira. Suponha que gostaríamos de saber por quantos anos temos de manter R\\$ 1000,00 reais em uma conta poupança para chegar a R\\$ 2000,00 reais simplesmente devido ao pagamento anual de juros a uma taxa de 5% ao ano. Aqui está um programa para calcular que isso levará 15 anos:"
   ]
  },
  {
   "cell_type": "code",
   "execution_count": null,
   "metadata": {
    "collapsed": true
   },
   "outputs": [],
   "source": [
    "cap_inicial = 1000    # Capital inicial\n",
    "acumulado = 2000      # Capital final\n",
    "taxa = 1.05           # Taxa de juros paga 5% \n",
    "tempo = 0\n",
    "while cap_inicial < acumulado:  # Repete até atingir o acumulado \n",
    "    cap_inicial = cap_inicial * taxa\n",
    "    tempo = tempo + 1\n",
    "print('Precisamos de', tempo, 'anos para atingir o montante de', cap_inicial, '.')"
   ]
  },
  {
   "cell_type": "markdown",
   "metadata": {},
   "source": [
    "### A estrutura do loop while com o else\n",
    "\n",
    "A linguagem Python define a instrução else como uma estrutura dependente da instrução while, igual a vista nas instruções `if` e `for`. No Python, há 3 estruturas em que a instrução `else` pode ser utilizado para se definir o bloco de instrução a ser executando quando a condição verificada deixar de ser verdadeira. Nesses casos, temos as instruções `if`, `for` e a instrução `while` que será apresentada na sequência.\n",
    "\n",
    "A sintaxe básica de um instrução `while` completa é \n",
    "\n",
    "```python\n",
    "condicao = True\n",
    "while(condicao):                            \n",
    "    Bloco while                                                  \n",
    "else:\n",
    "    Bloco else\n",
    "```\n",
    "\n",
    "No loop `while`, a cláusula `else` é opcional. Enquanto a \"condicao\" for True, o \"Bloco while\" é executado. Se a \"condicao\" for ou se torna False, então o loop termina, e se a cláusula opcional else estiver presente, o \"Bloco else\" será executado. Dentro da suíte \"Bloco while\", se uma instrução `continue` for executada, o controle é retornado imediatamente para o topo do loop, e a expressão \"condicao\" é avaliada novamente. Se o loop não terminar normalmente, então o conjunto de cláusulas opcional else é ignorado.\n",
    "\n",
    "A cláusula opcional `else` é uma fonte de confusã inicial, uma vez que o \"Bloco else\" da cláusula `else` é sempre executado se o loop terminar normalmente. Se o loop for interrompido devido a uma instrução `break`, ou uma instrução `return` (se o loop estiver em uma função ou método), ou se uma exceção for levantada, o conjunto de instruções do \"Bloco else\" da cláusula opcional `else` não será executado. (Se ocorrer uma exceção, o Python ignora a cláusula `else` e procura um manipulador de exceção adequado - isso é abordado na próxima seção.) No lado positivo, o comportamento da cláusula `else` é o mesmo para os loops `while`, `for ... in `, em loops, `try... except` blocos.\n",
    "\n",
    "Vejamos um exemplo da cláusula else em ação. Os métodos `str.index()` e `list.index()` retornam a posição de índice de uma determinada sequência de caracteres ou item ou aumentam uma exceção de `ValueError` se a sequência de caracteres ou item não for encontrado. O método `str.find()` faz a mesma coisa, mas em caso de falha, em vez de aumentar uma exceção retorna um índice de -1. Não há um método equivalente para listas, mas se quiséssemos uma função que fizesse isso, poderíamos criar um usando um loop while:\n",
    "\n",
    "A execução do código acima envia o seguinte resultado pra saida padrão:\n",
    "\n",
    "```python\n",
    "Bloco while() e condicao==True\n",
    "Bloco else    e condicao==False\n",
    "```\n",
    "\n",
    "O que podemos concluir é que: - `#<1>`: O bloco verdadeiro da estrutura while foi executado, pois, a lógica é repetir até deixar de ser verdadeiro - `#<2>`: a função print() é executada - `#<3>`: e então, a variável condicao é definida como False - `#<1>`: o cursor de execução volta para o cabeçalho da estrutura while, analisa a condição definida e, como o resultado é igual a False o bloco de instrução else será executado, POIS, igualmente ocorre com a instrução if, o bloco else é executado nas vezes em que a condição NÃO for verdadeira.\n",
    "\n",
    "Agora, se por alguma razão a instrução break for invocada, o bloco else não será executado, pois, a lógica estabelecida é que o bloco else só será executado nass vezes em que a condição for False e no caso, isso não aconteceu.\n",
    "\n",
    "A seguir, temos o mesmo exemplo, porém agora, a instrução break será invocada.\n",
    "\n",
    "\n",
    "```python\n",
    "condicao = True\n",
    "while(condicao):\n",
    "    print(\"BLOCO while() e condicao==True\")\n",
    "    condicao = False\n",
    "    break\n",
    "else:\n",
    "    print(\"BLOCO ELSE e condicao==False\")\n",
    "```\n",
    "\n",
    "A execução do código acima envia o seguinte resultado pra saida padrão:\n",
    "\n",
    "\n",
    "```python\n",
    "BLOCO while() e condicao==True\n",
    "```\n",
    "\n",
    "\n",
    "Ou seja, o bloco True da instrução while foi executado, porém, como a instrução break interrompeu a execução de todo o ciclo, o bloco else, isto é, o bloco que é executado nas vezes em que a condição não é verdadeira não foi executado.\n",
    "\n",
    "Assim, o bloco else pode ser executado uma única vez, nos casos em que a expressão definida no cabeçalho da instrução while, deixar de ser verdadeira.\n",
    "\n",
    "Àqueles que entenderam a Tomada de Decisão, isto é, a instrução if, deverão ter facilidade em manipular Laços de Repetição while, como também, conseguirão facilmente implementar a instrução while . Isso porque, como já dito, a instrução while funciona da mesma forma que a instrução if, e o que diferencia as mesmas é só e somente só a quantidade de vezes que o Bloco de Instrução será executado.\n",
    "\n",
    "A seguir, temos um exemplo semelhante ao que fizemos anteriormente, porém agora, numa situação que acontece na vida real."
   ]
  },
  {
   "cell_type": "code",
   "execution_count": null,
   "metadata": {
    "collapsed": true
   },
   "outputs": [],
   "source": [
    "# Revisitando o exemplo da contagem\n",
    "conta = 0\n",
    "while(conta <= 10):\n",
    "    conta += 1\n",
    "    print(x)\n",
    "else:\n",
    "    print(\"Valor da variável conta é: \", conta)"
   ]
  },
  {
   "cell_type": "markdown",
   "metadata": {},
   "source": [
    "No código acima, o Bloco de Instrução para quando a expressão for verdadeira será executado até que o valor da variável conta seja igual a 11. Nesse momento, quando a expressão passar a ser falsa falsa, o Bloco da Instrução else será executado e o Laço de Repetição terá chego ao fim.\n",
    "\n",
    "É importante observar que a instrução else funciona da mesma maneira àquela estudada na Tomada de Decisão ."
   ]
  },
  {
   "cell_type": "markdown",
   "metadata": {},
   "source": [
    "###   Interrupção com o comando break\n",
    "\n",
    "A instrução break finaliza abruptamente a execução das estruturas de repetição e assim, quando essa instrução for executada, o cursor de execução irá interromper a execução das instruções definidas pela Estrutura de Repetição e irá saltar para a linha seguinte após o Laço de Repetição.\n",
    "\n",
    "Em outras palavras, temos que quando a instrução break for utilizada, o cursor de execução não irá passar por dentro do bloco definido pela instrução else, até porque, a instrução break encerra, imediatamente a execução da Estrutura de Repetição.\n"
   ]
  },
  {
   "cell_type": "code",
   "execution_count": null,
   "metadata": {
    "collapsed": true
   },
   "outputs": [],
   "source": [
    "# Considere o  seguinte exemplo\n",
    "x = 0\n",
    "print(\"while\")\n",
    "while(x<10):\n",
    "    print(x)\n",
    "    x=x+1;\n",
    "else:\n",
    "    print(\"else\")\n",
    "print(\"fim\")"
   ]
  },
  {
   "cell_type": "code",
   "execution_count": null,
   "metadata": {
    "collapsed": true
   },
   "outputs": [],
   "source": [
    "def find_lista(lista, alvo):\n",
    "    index = 0\n",
    "    while index < len(lista):\n",
    "        if lista[index] == alvo :\n",
    "            break\n",
    "        index += 1\n",
    "    else:\n",
    "        index = -1\n",
    "    return index"
   ]
  },
  {
   "cell_type": "markdown",
   "metadata": {},
   "source": [
    "Esta função pesquisa a lista dada procurando o alvo. Se o alvo for encontrado, a instrução break encerra o loop, fazendo com que a posição do índice apropriada seja retornada. Se o alvo não for encontrado, o loop é executado até a conclusão e termina normalmente. Após o término normal, o suite else é executado e a posição do índice é definida como -1 e retornada."
   ]
  },
  {
   "cell_type": "code",
   "execution_count": null,
   "metadata": {},
   "outputs": [],
   "source": [
    "L=\"O que essa função pode fazer\"\n",
    "find_lista(L,'o')"
   ]
  },
  {
   "cell_type": "code",
   "execution_count": null,
   "metadata": {},
   "outputs": [],
   "source": [
    "find_lista(L,'y')"
   ]
  },
  {
   "cell_type": "markdown",
   "metadata": {},
   "source": [
    "## Operadores Relacionais  (de Comparação) nas Instruções <span>`if`</span> e <span>`while`</span>  <a name=\"CF-operadores-relacionais\"></a>\n",
    "\n",
    "\n",
    "A forma geral das instruções <span>`if`</span> e <span>`while`</span> é a mesma: seguindo a palavra-chave <span> `if` </span> ou <span>`while`</span>, há uma *condição* seguida de dois pontos. Na próxima linha, um novo (e, portanto, identado!) bloco de comandos inicia que é executado se a condição for True).\n",
    "\n",
    "Por exemplo, a condição poderia ser a igualdade de duas variáveis <span>`a1`</span> e <span>`a2`</span> que é expressa como <span>`a1==a2`</span>:\n",
    "\n"
   ]
  },
  {
   "cell_type": "code",
   "execution_count": null,
   "metadata": {
    "collapsed": true
   },
   "outputs": [],
   "source": [
    "a1 = 42\n",
    "a2 = 42\n",
    "if a1 == a2:\n",
    "    print(\"a1 e a2 os mesmos, ou seja, iguais.\")"
   ]
  },
  {
   "cell_type": "markdown",
   "metadata": {},
   "source": [
    "Outro exemplo é testar se <span>`a1`</span> e <span>`a2`</span> não são os mesmos. Para isso, temos duas possibilidades. A opção número 1 usa o *operador de desigualdade* <span>`!=`</span>:\n"
   ]
  },
  {
   "cell_type": "code",
   "execution_count": null,
   "metadata": {
    "collapsed": true
   },
   "outputs": [],
   "source": [
    "if a1 != a2:\n",
    "    print(\"a1 e a2 são diferentes\")"
   ]
  },
  {
   "cell_type": "markdown",
   "metadata": {},
   "source": [
    "A opção dois usa a palavra-chave <span>`not`</span> na frente da condição:"
   ]
  },
  {
   "cell_type": "code",
   "execution_count": null,
   "metadata": {
    "collapsed": true
   },
   "outputs": [],
   "source": [
    "if not a1==a2:\n",
    "    print(\"a1 e a2 são diferentes\")"
   ]
  },
  {
   "cell_type": "markdown",
   "metadata": {},
   "source": [
    "Comparações para \"maior\" (<span>`>`</span>), \"menor\" (<span>`<`</span>) e maior ou igual (<span>`>=`</span>) e \"menor igual\" (<span>`<=`</span>) são simples e diretos.\n",
    "\n",
    "Finalmente, podemos usar os operadores lógicos \"<span>`and`</span>\" e \"<span>`or`</span>\" para combinar as condições:\n"
   ]
  },
  {
   "cell_type": "code",
   "execution_count": null,
   "metadata": {
    "collapsed": true
   },
   "outputs": [],
   "source": [
    "a=32\n",
    "b=51\n",
    "if a > 10 and b > 20:\n",
    "    print(\"A é maior que 10 e b é maior que 20\")\n",
    "if a > 10 or b < -5:\n",
    "    print(\"Ou a é maior do que 10, ou\"\n",
    "          \"b é menor do que -5, ou ambos.\")"
   ]
  },
  {
   "cell_type": "markdown",
   "metadata": {},
   "source": [
    "\n",
    "Use o prompt do Python para experimentar essas comparações e expressões lógicas. Por exemplo:\n",
    "\n",
    "Use the Python prompt to experiment with these comparisons and logical expressions. For example:"
   ]
  },
  {
   "cell_type": "code",
   "execution_count": null,
   "metadata": {
    "collapsed": true
   },
   "outputs": [],
   "source": [
    "T = -12.5\n",
    "if T < -20:\n",
    "    print(\"Muito frio\")\n",
    "\n",
    "if T < -10:\n",
    "    print(\"Um pouco frio\")"
   ]
  },
  {
   "cell_type": "code",
   "execution_count": null,
   "metadata": {
    "collapsed": true
   },
   "outputs": [],
   "source": [
    "T < -20"
   ]
  },
  {
   "cell_type": "code",
   "execution_count": null,
   "metadata": {
    "collapsed": true
   },
   "outputs": [],
   "source": [
    "T < -10"
   ]
  },
  {
   "cell_type": "markdown",
   "metadata": {},
   "source": [
    "## Exercícios\n",
    "\n",
    "1. Implemente a função fatorial usando o loop while para um n qualquer\n",
    "2. Usando a função magic %timeit compare os tempo de cpu das duas implementações\n",
    "3. Escreva um código python para\n",
    "    1. Usando a função random (procure na biblioteca numpy) escreva um código para criar um arquivo contendo as colunas no formato csv, cujo separador de campo é o \";\". A tabela abaixo ilustra como deve ser a entrada\n",
    "    2. Usando o gerador de números aletórios gere 60 matrículas aleatórias, matendo fixo o ano de 2017 e variando os quatro digitos seguintes entre 0 9999. As notas também devem ser geradas aletóriamente variando de 0 e 10.  Considere que o curso seja de 64 horas e gere uma distribuição aleatória de faltas entre 0 e 64, mas que seja multiplo de 2. \n",
    "    3. Escreva um código para ler essas notas e imprimir a média final com o status de aprovado ou reprovado conforme os seguintes critérios: Média final maior ou igual a 6 e frequência maior ou igual a 75%. Imprima o resultado na tela e em um arquivo csv.\n",
    "    As tabelas são as seguintes:\n",
    "\n",
    "**Tabela de entrada**\n",
    "\n",
    "| Matricula | Nota 1 | Nota 2 | Nota 3 | Nota 4 | Frequência |\n",
    "|:---------:|:------:|:------:|:------:|:------:|:----------:|\n",
    "| 20170001  |  5.0   |  7.0   | 5.5    |  6.0   |    56      |\n",
    "| $\\vdots$  |$\\vdots$|$\\vdots$|$\\vdots$|$\\vdots$|  $\\vdots$  |\n",
    "\n",
    "\n",
    "**Tabela de entrada**\n",
    "\n",
    "| Matricula |   MF   | Status   |\n",
    "|:---------:|:------:|:--------:|\n",
    "| 20170001  |  5.0   |   RM     |\n",
    "| $\\vdots$  |$\\vdots$| $\\vdots$ |\n",
    "\n",
    "Aqui o estatus pode ser:\n",
    "\n",
    " - **RM**: Reprovado por média\n",
    " - **RF**: Reprovado por falta\n",
    " - **RMF**: Reprovado por média e falta\n",
    " - **AP**: Aprovado\n"
   ]
  },
  {
   "cell_type": "code",
   "execution_count": null,
   "metadata": {
    "collapsed": true
   },
   "outputs": [],
   "source": [
    "import numpy as np\n",
    "\n",
    "mat='2017'+str(np.random.randint(0,10000))\n",
    "print(mat)"
   ]
  },
  {
   "cell_type": "code",
   "execution_count": null,
   "metadata": {
    "collapsed": true
   },
   "outputs": [],
   "source": [
    "np.random.randint(0,10,(20,4))"
   ]
  },
  {
   "cell_type": "markdown",
   "metadata": {},
   "source": [
    "## Exceções <a name=\"CF-excecoes\"></a>\n",
    "\n",
    "\n",
    "Mesmo se uma declaração ou expressão estiver sintaticamente correta, pode-se causar um erro ao tentar executá-la. Os erros detectados durante a execução são chamados *exceções* e não são necessariamente fatais: as exceções podem ser *detectadas* e tratadas dentro do programa. A maioria das exceções não são tratadas por programas, no entanto, e resultam em mensagens de erro como mostrado aqui\n"
   ]
  },
  {
   "cell_type": "code",
   "execution_count": null,
   "metadata": {
    "collapsed": true
   },
   "outputs": [],
   "source": [
    "10 * (1/0)"
   ]
  },
  {
   "cell_type": "code",
   "execution_count": null,
   "metadata": {
    "collapsed": true
   },
   "outputs": [],
   "source": [
    "4 + spam*3"
   ]
  },
  {
   "cell_type": "code",
   "execution_count": null,
   "metadata": {
    "collapsed": true
   },
   "outputs": [],
   "source": [
    "'2' + 2"
   ]
  },
  {
   "cell_type": "markdown",
   "metadata": {},
   "source": [
    "Basicamente o código da estrutura de um bloco `try-except` é:\n",
    "\n",
    "```python\n",
    "try:\n",
    "    # código a ser executado \"sob vigilância\"\n",
    "except Exception:\n",
    "    # caso ocorrer alguma exceção no código acima,\n",
    "    # trate-a aqui.\n",
    "```\n",
    "\n",
    "O código localizado entre o `try:` e o `except` é executado de forma que se algo de errado acontecer naquele trcho do código, o `except` a exceção *Exception* vai imediatamente chamar o código localizado abaixo de si para realizar o tratamento da exceção. Ou seja, se algo de errado acontecer na linha 2, as linhas 4-5 serão executadas para tratar esse erro.\n",
    "\n",
    "Por exemplo considere a solução da equação do segundo grau, no qual entra-se com os valores dos coeficientes:"
   ]
  },
  {
   "cell_type": "code",
   "execution_count": null,
   "metadata": {
    "collapsed": true
   },
   "outputs": [],
   "source": [
    "# Resolve a equação do segundo grau: a*x^2 + b*x + c =0\n",
    "\n",
    "import math \n",
    "\n",
    "def raizes(a,b,c):\n",
    "    Disc = b**2 - 4*a*c\n",
    "    try: \n",
    "        r = math.sqrt(Disc)\n",
    "        x1 = (-b + r)/(2*a)\n",
    "        x2 = (-b - r)/(2*a)\n",
    "    except Exception:\n",
    "        print('Discirminante negativo: Raízes imaginárias')\n",
    "        r = math.sqrt(-Disc)\n",
    "        x1 = (-b +1j*r)/(2*a)\n",
    "        x2 = (-b -1j*r)/(2*a)\n",
    "    return x1, x2\n",
    "\n",
    "raizes(1,-3,4)"
   ]
  },
  {
   "cell_type": "markdown",
   "metadata": {},
   "source": [
    "### Exemplo:\n",
    "\n",
    "Para calcular a raiz quadrada de uma expressão algébrica deve-se testá-la para saber se o radicando é um número positivo ou negativo e caso seja negativo deve-se gera um ValueError. Nesse caso deve-se envolver o trecho de código que poderá gerar tal exceção em um bloco `try-except`, da seguinte forma:\n",
    "\n",
    "```python\n",
    "try:\n",
    "    raiz = math.sqrt(x)\n",
    "except Exception:\n",
    "    print('Atenção! Não é possível calcular a raiz quadrada de um número negativo!')\n",
    "```\n",
    "\n",
    "Ao executar o código acima e passar um valor negativo para o segundo operando da divisão, vê-se que o código irá emitir a mensagem de erro em vez de parar. Agora, ao invés de uma mensagem de erro feia na tela, sua mensagem de erro personalizada será apresentada na tela (mais tarde veremos que o mecanismo de exceção não serve só para mandarmos mensagens de erro para o usuário, mas também (e principalmente) para tratar as exceções.)."
   ]
  },
  {
   "cell_type": "markdown",
   "metadata": {},
   "source": [
    "Entretano a estrutua de exceção com todas as opções de captura tem a seguinte forma:"
   ]
  },
  {
   "cell_type": "code",
   "execution_count": null,
   "metadata": {
    "collapsed": true
   },
   "outputs": [],
   "source": [
    "try:\n",
    "   # Bloco de código a ser avaliado \n",
    "except ArithmeticError:\n",
    "   # Aqui deve vir as instruções do que fazer ao encontrar um erro aritmético\n",
    "except LookupError:\n",
    "   # Classe base para as exceções que surgem quando uma chave ou indice\n",
    "   # um mapeamento ou sequencia é inválido: IndexError, KeyError. \n",
    "   # Esta também pode surgir diretamente por codecs.lookup().\n",
    "   # ErroIndex, the_exception:\n",
    "   # A a_excecao refere-se a excecação nesse bloco\n",
    "except BufferError:\n",
    "   # Surge quando uma operação relacionada com o buffer não pode ser realizada\n",
    "except:\n",
    "   # O que fazer para QUALQUER OUTRA EXCEÇÃO \n",
    "else:  # OPCIONAL\n",
    "   # O que fazer se não surgir uma exceção \n",
    "\n",
    "try:\n",
    "   # Corpo do código de body\n",
    "finally:\n",
    "   # O que fazer SEMPRE"
   ]
  },
  {
   "cell_type": "markdown",
   "metadata": {},
   "source": [
    "Começando com o Python 2.5, você pode usar a instrução com para simplificar a escrita de código para algumas funções predefinidas, em particular a função <span>`open`</span> para abrir arquivos: veja <http://docs.python.org/tutorial/ errors.html # predefined-clean-up-actions>.\n",
    "\n",
    "Exemplo: tentamos abrir um arquivo que não existe, e o Python levantará uma exceção do tipo <span>`IOError`</span> que significa que há um erro entrada ou saída (Input Output Error:)\n"
   ]
  },
  {
   "cell_type": "code",
   "execution_count": null,
   "metadata": {
    "collapsed": true
   },
   "outputs": [],
   "source": [
    "f = open(\"NomeDeUmArquivoQueNaoExiste\",\"r\")"
   ]
  },
  {
   "cell_type": "markdown",
   "metadata": {},
   "source": [
    "Se estávamos escrevendo um aplicativo com uma interface de usuário na qual o usuário tem que digitar ou selecionar o nome de um arquivo, não queremos que o aplicativo pare se o arquivo não existir. Em vez disso, precisamos pegar essa exceção e agir de acordo (por exemplo, informando ao usuário que o arquivo selecionado com esse nome não existe e seguida perguntar se ele deseja tentar passar/selecionar outro nome de arquivo). Aqui está o esqueleto para capturar essa exceção:\n"
   ]
  },
  {
   "cell_type": "code",
   "execution_count": null,
   "metadata": {
    "collapsed": true
   },
   "outputs": [],
   "source": [
    "try:\n",
    "    f = open(\"NomeDeUmArquivoQueNaoExiste\",\"r\")\n",
    "except IOError:\n",
    "    print(\"O arquivo não pode ser aberto. Ou ele não existe ou está corrompido.\")"
   ]
  },
  {
   "cell_type": "markdown",
   "metadata": {},
   "source": [
    "Há muito mais a ser dito sobre exceções e seu uso em programas maiores. Comece a ler [Python Tutorial Capítulo 8: Erros e Exceções](http://docs.python.org/tutorial/errors.html#errors-and-exceptions) se você estiver interessado.\n",
    "\n",
    "### Levantando Exceções <a name=\"CF-aum-execoes\"></a>\n",
    "\n",
    "Exceção de elevação também é referida como \"lançando uma exceção\".\n",
    "\n",
    "Possibilidades de levantar uma exceção\n",
    "\n",
    "-   `raise OverflowError`\n",
    "\n",
    "-   `raise OverflowError, Bath is full` (Estilo antigo, seu uso deve ser evitado)\n",
    "\n",
    "-   `raise OverflowError(Bath is full)`\n",
    "\n",
    "-   `e = OverflowError(Bath is full); raise e`\n",
    "\n",
    "#### Hierarquia das Exceções <a name=\"CF-hierarquia-excecoes\"></a>\n",
    "\n",
    "As exceções padrão são organizadas em uma hierarquia de herança, por exemplo, `OverflowError` é uma subclasse da `ArithmeticError` (não `BathroomError`); Isso pode ser visto ao procurar <span>`help('exceptions')`</span> por exemplo. \n",
    "\n",
    "As seguir apresentamos a hierarquia das exceções no python 3 para maiores detalhes consultar [5. Built-in Exceptions](https://docs.python.org/3.6/library/exceptions.html):\n",
    "\n",
    "```python\n",
    "BaseException\n",
    " +-- SystemExit\n",
    " +-- KeyboardInterrupt\n",
    " +-- GeneratorExit\n",
    " +-- Exception\n",
    "      +-- StopIteration\n",
    "      +-- StopAsyncIteration\n",
    "      +-- ArithmeticError\n",
    "      |    +-- FloatingPointError\n",
    "      |    +-- OverflowError\n",
    "      |    +-- ZeroDivisionError\n",
    "      +-- AssertionError\n",
    "      +-- AttributeError\n",
    "      +-- BufferError\n",
    "      +-- EOFError\n",
    "      +-- ImportError\n",
    "           +-- ModuleNotFoundError\n",
    "      +-- LookupError\n",
    "      |    +-- IndexError\n",
    "      |    +-- KeyError\n",
    "      +-- MemoryError\n",
    "      +-- NameError\n",
    "      |    +-- UnboundLocalError\n",
    "      +-- OSError\n",
    "      |    +-- BlockingIOError\n",
    "      |    +-- ChildProcessError\n",
    "      |    +-- ConnectionError\n",
    "      |    |    +-- BrokenPipeError\n",
    "      |    |    +-- ConnectionAbortedError\n",
    "      |    |    +-- ConnectionRefusedError\n",
    "      |    |    +-- ConnectionResetError\n",
    "      |    +-- FileExistsError\n",
    "      |    +-- FileNotFoundError\n",
    "      |    +-- InterruptedError\n",
    "      |    +-- IsADirectoryError\n",
    "      |    +-- NotADirectoryError\n",
    "      |    +-- PermissionError\n",
    "      |    +-- ProcessLookupError\n",
    "      |    +-- TimeoutError\n",
    "      +-- ReferenceError\n",
    "      +-- RuntimeError\n",
    "      |    +-- NotImplementedError\n",
    "      |    +-- RecursionError\n",
    "      +-- SyntaxError\n",
    "      |    +-- IndentationError\n",
    "      |         +-- TabError\n",
    "      +-- SystemError\n",
    "      +-- TypeError\n",
    "      +-- ValueError\n",
    "      |    +-- UnicodeError\n",
    "      |         +-- UnicodeDecodeError\n",
    "      |         +-- UnicodeEncodeError\n",
    "      |         +-- UnicodeTranslateError\n",
    "      +-- Warning\n",
    "           +-- DeprecationWarning\n",
    "           +-- PendingDeprecationWarning\n",
    "           +-- RuntimeWarning\n",
    "           +-- SyntaxWarning\n",
    "           +-- UserWarning\n",
    "           +-- FutureWarning\n",
    "           +-- ImportWarning\n",
    "           +-- UnicodeWarning\n",
    "           +-- BytesWarning\n",
    "           +-- ResourceWarning\n",
    "```\n",
    "\n",
    "\n",
    "Você pode derivar suas próprias exceções de qualquer um dos padrões. É bom estilo que cada módulo defina sua própria exceção base.\n"
   ]
  },
  {
   "cell_type": "markdown",
   "metadata": {},
   "source": [
    "### Criando Nossas Próprias Exceções <a name=\"CF-criando-excecoes\"></a>\n",
    "\n",
    "- Você pode e deve derivar suas próprias exceções da exceção interna.\n",
    "\n",
    "- Para ver quais exceções internas existem, procure nas exceções de módulo (try <span>`help('exceptions')` </span>) ou vá para <http://docs.python.org/library/ Exceptions.html # bltin-exceptions>.\n",
    "\n",
    "### LBYL vs EAFP\n",
    "\n",
    "- LBYL(Look Before You Leap), olhe antes de pular versus\n",
    "\n",
    "- EAFP(Easer to ask forgiveness than permission), mais fácil pedir perdão do que permissão.\n"
   ]
  },
  {
   "cell_type": "code",
   "execution_count": null,
   "metadata": {
    "collapsed": true
   },
   "outputs": [],
   "source": [
    "numerador = 7\n",
    "denominador = 0"
   ]
  },
  {
   "cell_type": "markdown",
   "metadata": {},
   "source": [
    "Exemplo da LBYL:"
   ]
  },
  {
   "cell_type": "code",
   "execution_count": null,
   "metadata": {
    "collapsed": true
   },
   "outputs": [],
   "source": [
    "if denominador == 0:\n",
    "    print(\"Divisão por zero\")\n",
    "else:\n",
    "    print(numerador/denominador)"
   ]
  },
  {
   "cell_type": "markdown",
   "metadata": {},
   "source": [
    "Exemplo da EAFP, mais fácil pedir perdão do que permissão:"
   ]
  },
  {
   "cell_type": "code",
   "execution_count": null,
   "metadata": {
    "collapsed": true
   },
   "outputs": [],
   "source": [
    "try:\n",
    "    print(numerador/denominador)\n",
    "except ZeroDivisionError:\n",
    "    print(\"Divisão por zero\")"
   ]
  },
  {
   "cell_type": "markdown",
   "metadata": {},
   "source": [
    "A documentação do Python diz o seguinte sobre a EAFP:\n",
    "\n",
    "> A EAFP, Mais fácil pedir perdão do que permissão. Este estilo comum de codificação Python assume a existência de chaves ou atributos válidos e captura exceções se a suposição for falsa. Este estilo limpo e rápido é caracterizado pela presença de muitas declarações `try` e `except`. A técnica contrasta com o estilo LBYL comum a muitas outras linguagens como C.\n",
    "\n",
    "Fonte: <http://docs.python.org/glossary.html#term-eafp>\n",
    "\n",
    "\n",
    "\n",
    "A documentação do Python diz o seguinte sobre o LBYL:\n",
    "\n",
    "> A LBYL, Olhe antes de pular. Este estilo de codificação testa explicitamente as pré-condições antes de fazer chamadas ou pesquisas. Este estilo contrasta com a abordagem EAFP e é caracterizado pela presença de muitas declarações `if`.\n",
    ">\n",
    "> Em um ambiente multi-threaded, a abordagem LBYL corre o risco de introduzir uma condição de corrida entre \"o olhar\" e \"o salto\". Por exemplo, o código, se a chave no mapeamento: return mapping \\[key\\] pode falhar se outro thread remove a chave do mapeamento após o teste, mas antes da pesquisa. Esse problema pode ser resolvido com bloqueios ou usando a abordagem EAFP.\n",
    "\n",
    "Fonte: <http://docs.python.org/glossary.html#term-lbyl>\n",
    "\n",
    "EAFP é a forma Pythonic."
   ]
  },
  {
   "cell_type": "markdown",
   "metadata": {},
   "source": [
    "Antes de rodar o último exemplo énecessário instalar os seguintes pacotes:"
   ]
  },
  {
   "cell_type": "code",
   "execution_count": null,
   "metadata": {
    "collapsed": true
   },
   "outputs": [],
   "source": [
    "!sudo apt-get install python3-termcolor python3-xtermcolor"
   ]
  },
  {
   "cell_type": "code",
   "execution_count": null,
   "metadata": {},
   "outputs": [],
   "source": [
    "#!/usr/bin/env python\n",
    "# -*- coding: utf8 -*-\n",
    "# Desenvolvimento Aberto\n",
    "# erros.py\n",
    " \n",
    "# Importa OS\n",
    "import os\n",
    " \n",
    "# Importa Cores\n",
    "from termcolor import colored\n",
    " \n",
    "# Limpa a tela\n",
    "os.system(\"clear\")\n",
    " \n",
    "# Tratamento de erros\n",
    " \n",
    "numero1 = 5\n",
    "numero2 = 0\n",
    " \n",
    "# Tratamento de erros -  Divisões por 0 geram erro.\n",
    " \n",
    "print (colored(\"Erro numero 1: Não para a execução do programa\\n\".center(70), \"yellow\"))\n",
    " \n",
    "try:\n",
    "   print (numero1 / numero2)\n",
    "except:\n",
    "   print (colored(\"Impossivel dividir por zero.\",\"red\", attrs=[\"reverse\", \"blink\"]))\n",
    " \n",
    "# Criando um novo Erro\n",
    " \n",
    "print (colored(\"Erro numero 2: Para a execução do programa\\n\".center(70), \"yellow\"))\n",
    " \n",
    "try:\n",
    "    raise NameError( colored(\"Este é o meu novo erro.\\nErro em outra linha.\" , \"red\"))\n",
    "except NameError:\n",
    "    print (colored(\"Erro gerado propositalmente\\nErro linha 2.\\nErro linha 3.\", \"red\", attrs=[\"reverse\",\"blink\"]))\n",
    "    raise\n"
   ]
  },
  {
   "cell_type": "markdown",
   "metadata": {
    "collapsed": true
   },
   "source": [
    "# Um pouco mais de cáculo numérico \n",
    "\n",
    "## Erros, erros, erros!\n",
    "\n",
    "Em geral, é muito pouco comum que os métodos computacionais que nós vamos usar dêem uma resposta exata.\n",
    "Por exemplo, se queremos calcular $\\sqrt2$, o computador não poderá jamais dar todas as casas decimais deste número.\n",
    "Mais ainda, visto que o computador usa representação em base 2, também não será capaz de escrever $0.1$ exatamente!\n",
    "\n",
    "Mas (para problemas do mundo \"real\") isto não é um problema.\n",
    "Afinal, muitas vezes estes problemas vêem com dados sujeitos a erros de medida, e portanto não faz sentido achar uma resposta tão exata quando o problema original já é inexato.\n",
    "Assim, o mais importante é entender o quão longe da resposta estamos, e (quando possível) **garantir** que não estamos longe demais.\n",
    "\n",
    "Nesta primeira abordagem, vamos nos concentrar em achar um zero de uma função $f:\\mathbf{R}\\to \\mathbf{R}$.\n",
    "A intuição que desenvolveremos aqui servirá para os métodos da bisseção e de Newton (e também para resolver equações lineares $Ax = b$), e pode ser facilmente estendida para a análise de derivadas, integrais e outros problemas de que trataremos ao longo do curso."
   ]
  },
  {
   "cell_type": "markdown",
   "metadata": {},
   "source": [
    "## Intervalos\n",
    "\n",
    "Uma forma relativamente simples de garantir uma raiz de $f$ é dizer que _existe_ uma raiz de $f$ num certo intervalo $[a,b]$.\n",
    "Quanto menor o comprimento do intervalo, mais precisa será a resposta à questão \"_Exiba uma raiz de $f$_\".\n",
    "\n",
    "Observe que o método da bisseção já dá esta informação.\n",
    "Mais ainda, ele permite que, dado um intervalo, possamos \"melhorar\" cada vez mais a qualidade da resposta, calculando $f$ em mais alguns pontos.\n"
   ]
  },
  {
   "cell_type": "markdown",
   "metadata": {},
   "source": [
    "## Erros\n",
    "\n",
    "Mas o mais comum não é garantir um intervalo, porque (muitas vezes) o método que usamos irá mais naturalmente fornecer um único valor $x$ que está perto da raiz \"de verdade\" $z$.\n",
    "\n",
    "Existem duas medidas naturais para o erro: absoluto e relativo."
   ]
  },
  {
   "cell_type": "markdown",
   "metadata": {},
   "source": [
    "## Erro absoluto\n",
    "\n",
    "O erro absoluto é definido como $\\lvert x - z\\rvert$, ou seja, o quanto a resposta do computador difere do valor \"real\"."
   ]
  },
  {
   "cell_type": "markdown",
   "metadata": {},
   "source": [
    "## Erro relativo\n",
    "\n",
    "O erro relativo é definido como $\\displaystyle \\left\\lvert \\frac{x - z}{z} \\right\\rvert$, ou seja, o quanto, _proporcionalmente_, a resposta do computador difere do valor \"real\"."
   ]
  },
  {
   "cell_type": "markdown",
   "metadata": {},
   "source": [
    "### Exercício\n",
    "\n",
    "Dê exemplos de situação onde\n",
    "\n",
    "- O erro relativo seja maior do que o erro absoluto.\n",
    "- O erro absoluto seja maior do que o erro relativo.\n",
    "- O erro absoluto seja igual ao erro relativo."
   ]
  },
  {
   "cell_type": "markdown",
   "metadata": {},
   "source": [
    "### Exercício\n",
    "\n",
    "Escreva uma função que, dados dois números, retorne o erro absoluto e o erro relativo."
   ]
  },
  {
   "cell_type": "code",
   "execution_count": null,
   "metadata": {
    "collapsed": true
   },
   "outputs": [],
   "source": [
    "def erros(target, calculated):\n",
    "    pass"
   ]
  },
  {
   "cell_type": "markdown",
   "metadata": {},
   "source": [
    "Esta função é simétrica? ($f(a,b) = f(b,a)$?)"
   ]
  },
  {
   "cell_type": "markdown",
   "metadata": {},
   "source": [
    "# O método de Newton para calcular raízes\n",
    "\n",
    "O método da bisseção é bastante geral (funciona para qualquer função contínua!), \n",
    "e converge \"geométricamente rápido\": o erro na etapa $n+1$ será, aproximadamente, \n",
    "a metade do erro da etapa anterior.\n",
    "\n",
    "Para funções cuja derivada é conhecida, entretanto, o _método de Newton_ é uma \n",
    "alternativa muito poderosa, pois converge com maior velocidade.\n",
    "Além disso, ele dispensa conhecer dois pontos onde o sinal da função seja diferente.\n",
    "Vejamos como ele funciona."
   ]
  },
  {
   "cell_type": "markdown",
   "metadata": {},
   "source": [
    "## Idéia geométrica\n",
    "\n",
    "Dado um ponto $(x,f(x))$ no gráfico de $f$, se traçarmos a tangente,\n",
    "esta será uma boa aproximação da função \"perto\" de $x$.\n",
    "Assim, seguimos esta reta tangente até que ela encontre o eixo-$x$ no ponto $(z,0)$,\n",
    "esperando que esta interseção esteja próxima da verdadeira raiz,\n",
    "que é a interseção da _curva_ descrita por $f$ e o eixo-$x$.\n",
    "\n",
    "Em fórmulas, temos:\n",
    "$$ (z,0) \\in T = \\big\\{ (x, f(x)) + t (1, f'(x)) \\mid t \\in R \\big\\} $$\n",
    "para o ponto $(z,0)$ que está na reta tangente $T$ e também no eixo-$x$\n",
    "(pois sua coordenada $y = 0$).\n",
    "Resolvendo o sistema, encontramos\n",
    "$$ z = x - \\frac{f(x)}{f'(x)}. $$\n",
    "\n",
    "![alt text](./Figs/Roots_Newton.png \"Ilustração do método de Newton\")"
   ]
  },
  {
   "cell_type": "markdown",
   "metadata": {},
   "source": [
    "A presença de $f'(x)$ no denominador mostra que este método funciona **mal**\n",
    "quando está próximo de uma raiz de $f'$.\n",
    "Além disso, o método de Newton não fornece um \"intervalo de confiança\" como no caso da bisseção.\n",
    "\n",
    "Assim, é muito importante ter aqui um critério de convergência para poder parar as iterações.\n",
    "Em geral, este pode ser dado por três diferentes parâmetros:\n",
    "\n",
    "- O número de iterações feitas: se estamos calculando \"há muito tempo\", talvez o método esteja \"perdido\"\n",
    "- A distância de $f(x)$ para zero: talvez já tenhamos calculado algo suficientemente próximo de uma raiz,\n",
    "    se $\\lvert f(x)\\rvert << 1$\n",
    "- A distância de $x$ para um zero: se a diferença entre dois pontos sucessivos ($x$ e $z$ no nosso exemplo)\n",
    "    for pequena, então é _provável_ que estejamos perto de uma raiz."
   ]
  },
  {
   "cell_type": "markdown",
   "metadata": {},
   "source": [
    "## Exemplo do método de Newton\n",
    "\n",
    "Pelo método de Newton-Raphson a raiz de uma função $f(x)=0$ pode ser obtida por\n",
    "\n",
    "$$ x_{i+1} = x_{i}-\\frac{f(x_i)}{f^{\\prime}(x_i)}. $$\n",
    "\n",
    "A função que permite obter a raiz quadrada de n ($\\sqrt{n}$) é\n",
    "$$ f(x) = x^2 - n$$\n",
    "\n",
    "Então a fórmula de Newton-Raphson é\n",
    "$$x_{i+1} = x_{i}-\\frac{x_{i}^{2}-n}{2x_i}.$$\n",
    "\n",
    "Vamos usar $x_{0}=1$. O script para resolver este sistema é:"
   ]
  },
  {
   "cell_type": "code",
   "execution_count": null,
   "metadata": {
    "collapsed": true
   },
   "outputs": [],
   "source": [
    "# No exemplo a seguir impleenta-se uma forma \n",
    "# iterativa de obter a raiz quadrada do número x:\n",
    "def nsqrt(x,niter):\n",
    "    \"\"\"Função que retorna a raiz quadrada aproximada de x,\n",
    "    após niter iterações\"\"\"\n",
    "    x0 = x\n",
    "    for i in range(niter):\n",
    "        x = x -(x**2 - x0)/(2*x)\n",
    "    return x    "
   ]
  },
  {
   "cell_type": "code",
   "execution_count": null,
   "metadata": {},
   "outputs": [],
   "source": [
    "# Vamos ver como o número de iteraçõe influência no \n",
    "# cácluo do valor da raiz quadrada:\n",
    "x = 2\n",
    "for i in range(2,11):\n",
    "    print(\"Número de iterações %02d e a raiz de %d é %15.12f\" % (i, x, nsqrt(x,i)))"
   ]
  },
  {
   "cell_type": "code",
   "execution_count": null,
   "metadata": {},
   "outputs": [],
   "source": [
    "# Vamos ver como o número de iteraçõe influência no \n",
    "# cácluo do valor da raiz quadrada:\n",
    "x = 3\n",
    "for i in range(2,11):\n",
    "    print(\"Número de iterações %02d e a raiz de %d é %15.12f\" % (i, x, nsqrt(x,i)))"
   ]
  },
  {
   "cell_type": "markdown",
   "metadata": {},
   "source": [
    "### Exercício \n",
    "\n",
    "Implemente o método de Newton para dterminar a raiz de uma função qualquer. Para teste use a função sen(x):"
   ]
  },
  {
   "cell_type": "code",
   "execution_count": null,
   "metadata": {
    "collapsed": true
   },
   "outputs": [],
   "source": [
    "import math\n",
    "\n",
    "def f(x):\n",
    "    return sin(x)\n",
    "\n",
    "def df(x):\n",
    "    return cos(x)\n",
    "\n",
    "def Newton(f,df,x0,tol,MaxIter):\n",
    "    pass\n",
    "\n",
    "\n",
    "raiz=Newton(f,df,1.0,1.0e-6,100)\n"
   ]
  },
  {
   "cell_type": "markdown",
   "metadata": {},
   "source": [
    "## Implementação do método de Newton\n",
    "\n",
    "Para programar o método de Newton como uma função recursiva,\n",
    "podemos fazer um paralelo com o método da bisseção.\n",
    "No caso da bisseção, a cada etapa testávamos se a aproximação já estava suficientemente perto\n",
    "(por exemplo, se uma estimativa do erro absoluto fosse pequena),\n",
    "e caso contrário dividíamos o intervalo por 2 para continuar buscando a raiz.\n",
    "\n",
    "Aqui, também vamos estimar o erro (só que desta vez não há mais _garantia_ de que o erro será menor do que a estimativa),\n",
    "e, se este ainda for \"grande\", vamos produzir um novo ponto (usando a tangente) para continuar buscando uma raiz."
   ]
  },
  {
   "cell_type": "code",
   "execution_count": null,
   "metadata": {
    "collapsed": true
   },
   "outputs": [],
   "source": [
    "def newton(f,df,x, prec=1.0e-8, maxiter=100):\n",
    "    \"\"\" Método de Newton para encontra a raiz de uma função f nas proximidades de x. \"\"\"\n",
    "    dx = 1.0\n",
    "    i = 0\n",
    "    while (abs(dx) > prec) and (i < maxiter) :\n",
    "        dx = f(x)/df(x)\n",
    "        x = x - dx    \n",
    "        i = i + 1\n",
    "    return x"
   ]
  },
  {
   "cell_type": "markdown",
   "metadata": {},
   "source": [
    "## Usando `print` e `format`\n",
    "\n",
    "Vamos escrever uma função para nos ajudar a fazer os testes do método de Newton, e comparar com a bisseção.\n",
    "Como desejamos comparar os valores retornados por ambos os métodos,\n",
    "é importante que estes sejam fáceis de ler na tela.\n",
    "\n",
    "O mecanismo do `Out[]` do IPython (onde bastaria que retornássemos alguns valores) é bastante útil,\n",
    "mas obriga a lembrar todo o contexto.\n",
    "Com `print`, podemos incluir informações textuais a mais,\n",
    "além de formatar os valores de maneira uniforme (usando `.format()` ou `%`),\n",
    "o que ajuda a comparação.\n",
    "\n",
    "- Exemplos: de usos [mais comuns][mkaz], e os [oficiais do Python][py-ex]\n",
    "- Referência: [a documentação do Python][doc]\n",
    "\n",
    "[py-ex]: https://docs.python.org/3/library/string.html#format-examples\n",
    "[doc]:   https://docs.python.org/3/library/string.html#format-string-syntax\n",
    "[mkaz]:  https://mkaz.github.io/2012/10/10/python-string-format/"
   ]
  },
  {
   "cell_type": "code",
   "execution_count": null,
   "metadata": {
    "collapsed": true
   },
   "outputs": [],
   "source": [
    "def testar(f,df,a,b):\n",
    "    xb = bissecao(f,a,b, prec=1e-10)\n",
    "    xn = newton(f,df,a,  prec=1e-10)\n",
    "    print('''\\\n",
    "Bisseção: z ~= {: 18.10e} (f(z) = {: .8f})\n",
    "Newton  : z ~= {: 18.10e} (f(z) = {: .8f})'''.format(xb,f(xb), xn,f(xn)))"
   ]
  },
  {
   "cell_type": "code",
   "execution_count": null,
   "metadata": {
    "collapsed": true
   },
   "outputs": [],
   "source": [
    "def bissecao(f,a,b,prec):\n",
    "    \"\"\" Método da bisseção para encontrar a raiz de uma função f no intervalo [a,b]\n",
    "    recursivamente . \"\"\"\n",
    "    m = (a+b)/2\n",
    "    # Se já há precisão suficiente, retornamos o ponto médio do intervalo\n",
    "    if abs(b - a) < prec/2: return m\n",
    "    # Se f(m) == 0, achamos uma raiz exata!\n",
    "    if f(m) == 0: return m\n",
    "\n",
    "    # Senão, vamos por recorrência\n",
    "    if f(m)*f(a) < 0: return bissecao(f,a,m,prec)\n",
    "    else: return bissecao(f,m,b,prec)"
   ]
  },
  {
   "cell_type": "code",
   "execution_count": null,
   "metadata": {
    "collapsed": true
   },
   "outputs": [],
   "source": [
    "%pylab inline"
   ]
  },
  {
   "cell_type": "code",
   "execution_count": null,
   "metadata": {
    "collapsed": true
   },
   "outputs": [],
   "source": [
    "testar(sin,cos,1.2,4)"
   ]
  },
  {
   "cell_type": "markdown",
   "metadata": {},
   "source": [
    "### Exercício\n",
    "\n",
    "Modifique os métodos da bisseção e de Newton para que eles retornem também o número total de vezes que a função \"entrou\" na recursão, e use essa informação numa nova função `testar`."
   ]
  },
  {
   "cell_type": "code",
   "execution_count": null,
   "metadata": {
    "collapsed": true
   },
   "outputs": [],
   "source": [
    "# algoritmo recursivo\n",
    "def newton(f,df,x, prec=1e-8, maxiter=100):\n",
    "    if maxiter == 0:\n",
    "        return None\n",
    "    dx = f(x)/df(x)\n",
    "    newx = x - dx\n",
    "    \n",
    "    if abs(dx) < prec:\n",
    "        return newx\n",
    "    else:\n",
    "        return newton(f,df,newx, prec,maxiter-1)"
   ]
  },
  {
   "cell_type": "code",
   "execution_count": null,
   "metadata": {
    "collapsed": true
   },
   "outputs": [],
   "source": [
    "def bissecao(f,a,b,prec):\n",
    "    \"\"\" Método da bisseção para uma função f no intervalo [a,b]. \"\"\"\n",
    "    m = (a+b)/2\n",
    "    # Se já há precisão suficiente, retornamos o ponto médio do intervalo\n",
    "    if abs(b - a) < prec/2: return m\n",
    "    # Se f(m) == 0, achamos uma raiz exata!\n",
    "    if f(m) == 0: return m\n",
    "\n",
    "    # Senão, vamos por recorrência\n",
    "    if f(m)*f(a) < 0:\n",
    "        return bissecao(f,a,m,prec)\n",
    "    else:\n",
    "        return bissecao(f,m,b,prec)"
   ]
  },
  {
   "cell_type": "code",
   "execution_count": null,
   "metadata": {
    "collapsed": true
   },
   "outputs": [],
   "source": [
    "def testar(f,df,a,b):\n",
    "    xb = bissecao(f,a,b, prec=1e-10)\n",
    "    xn = newton(f,df,a,  prec=1e-10)\n",
    "    print('''\\\n",
    "Bisseção: z ~= {: 18.10e} (f(z) = {: .8f})\n",
    "Newton  : z ~= {: 18.10e} (f(z) = {: .8f})'''.format(xb,f(xb), xn,f(xn)))"
   ]
  },
  {
   "cell_type": "code",
   "execution_count": null,
   "metadata": {
    "collapsed": true
   },
   "outputs": [],
   "source": [
    "testar(sin,cos,4,1)"
   ]
  },
  {
   "cell_type": "markdown",
   "metadata": {},
   "source": [
    "Escreva uma função e sua derivada para testar:"
   ]
  },
  {
   "cell_type": "code",
   "execution_count": null,
   "metadata": {
    "collapsed": true
   },
   "outputs": [],
   "source": [
    "def f(x):\n",
    "    pass\n",
    "\n",
    "def df(x):\n",
    "    pass"
   ]
  },
  {
   "cell_type": "code",
   "execution_count": null,
   "metadata": {
    "collapsed": true
   },
   "outputs": [],
   "source": [
    "testar(f,df,2.5,0)"
   ]
  }
 ],
 "metadata": {
  "kernelspec": {
   "display_name": "Python 3",
   "language": "python",
   "name": "python3"
  },
  "language_info": {
   "codemirror_mode": {
    "name": "ipython",
    "version": 3
   },
   "file_extension": ".py",
   "mimetype": "text/x-python",
   "name": "python",
   "nbconvert_exporter": "python",
   "pygments_lexer": "ipython3",
   "version": "3.6.8"
  },
  "latex_envs": {
   "LaTeX_envs_menu_present": true,
   "autoclose": false,
   "autocomplete": false,
   "bibliofile": "biblio.bib",
   "cite_by": "apalike",
   "current_citInitial": 1,
   "eqLabelWithNumbers": true,
   "eqNumInitial": 1,
   "hotkeys": {
    "equation": "Ctrl-E",
    "itemize": "Ctrl-I"
   },
   "labels_anchors": false,
   "latex_user_defs": false,
   "report_style_numbering": false,
   "user_envs_cfg": false
  },
  "nbTranslate": {
   "displayLangs": [
    "pt",
    "en"
   ],
   "hotkey": "alt-t",
   "langInMainMenu": true,
   "sourceLang": "en",
   "targetLang": "pt",
   "useGoogleTranslate": true
  },
  "toc": {
   "base_numbering": 1,
   "nav_menu": {},
   "number_sections": true,
   "sideBar": true,
   "skip_h1_title": false,
   "title_cell": "Table of Contents",
   "title_sidebar": "Contents",
   "toc_cell": false,
   "toc_position": {},
   "toc_section_display": true,
   "toc_window_display": false
  },
  "varInspector": {
   "cols": {
    "lenName": 16,
    "lenType": 16,
    "lenVar": 40
   },
   "kernels_config": {
    "python": {
     "delete_cmd_postfix": "",
     "delete_cmd_prefix": "del ",
     "library": "var_list.py",
     "varRefreshCmd": "print(var_dic_list())"
    },
    "r": {
     "delete_cmd_postfix": ") ",
     "delete_cmd_prefix": "rm(",
     "library": "var_list.r",
     "varRefreshCmd": "cat(var_dic_list()) "
    }
   },
   "types_to_exclude": [
    "module",
    "function",
    "builtin_function_or_method",
    "instance",
    "_Feature"
   ],
   "window_display": false
  }
 },
 "nbformat": 4,
 "nbformat_minor": 1
}
