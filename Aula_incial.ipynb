{
 "cells": [
  {
   "cell_type": "markdown",
   "metadata": {
    "slideshow": {
     "slide_type": "slide"
    }
   },
   "source": [
    "<!-- <p style=\"margin-top:1cm;\"> </p> -->\n",
    "\n",
    "<center> <font size=\"8\" color=\"Red\">4ª Semana da Física do IFG</font></center>\n",
    "\n",
    "\n",
    "<p style=\"margin-bottom:1cm;\"> </p>\n",
    "\n",
    "\n",
    "<center> <img src=\"Figs/Scientific_libraries_01.png\" alt=\"drawing\" width=\"30%\"/> </center>\n",
    "\n",
    "<p style=\"margin-bottom:1cm;\"> </p>\n",
    "\n",
    "<center> <font size=\"6\" color=\"blue\">Jupyter Notebook - Computação interativa com Python</font> </center>\n",
    "\n",
    "\n",
    "<font size=\"4\" color=\"blue\">**Prof. :** Salviano A. Leão -- Instituto de Física - UFG-GO</font>\n",
    "\n",
    "<font size=\"4\" color=\"blue\">**email:** salviano@ufg.br</font>"
   ]
  },
  {
   "cell_type": "markdown",
   "metadata": {
    "slideshow": {
     "slide_type": "slide"
    }
   },
   "source": [
    "# O Minicurso\n",
    "\n",
    "\n",
    "**Material:** <https://github.com/salvianoleao/IntroducaoJupyter>\n",
    "\n",
    "Iniciaremos com a instalação  e configuração do Python e  do Jupyter/JupyterLab. A seguir será apresentado o ambiente do Jupyter e a sua Linguagem o  [Markdown](https://pt.wikipedia.org/wiki/Markdown). \n",
    " "
   ]
  },
  {
   "cell_type": "code",
   "execution_count": 2,
   "metadata": {
    "ExecuteTime": {
     "end_time": "2019-08-12T11:40:36.622867Z",
     "start_time": "2019-08-12T11:40:36.617191Z"
    }
   },
   "outputs": [
    {
     "name": "stdout",
     "output_type": "stream",
     "text": [
      "Olá pessoal\n",
      " Boa tarde\n"
     ]
    }
   ],
   "source": [
    "print(\"Olá pessoal\\n Boa tarde\")"
   ]
  },
  {
   "cell_type": "code",
   "execution_count": null,
   "metadata": {},
   "outputs": [],
   "source": []
  },
  {
   "cell_type": "markdown",
   "metadata": {
    "slideshow": {
     "slide_type": "slide"
    }
   },
   "source": [
    "## Aulas:\n",
    "\n",
    "1. Aula 1 - Instalação e configuração do Python, Jupyter e algumas bibliotecas fundamentais.\n",
    "1. Aula 2 - Introdução ao ambiente do Jupyter, da sua linguagem o Markdown e a exportação dos documentos. Introdução à linguagem Python.\n",
    "1. Aula 3 - Noções da linguagem Python.\n",
    "1. Aula 4 - Biblioteca Matplotlib e exemplos de aplicações\n",
    "1. Aula 5 - Bibliotecas Numpy e Scipy com algumas aplicações\n"
   ]
  },
  {
   "cell_type": "markdown",
   "metadata": {
    "slideshow": {
     "slide_type": "slide"
    }
   },
   "source": [
    "\n",
    "# O Jupyter, o Python, e os repositórios PyPI (Python Package Index)  e Anaconda"
   ]
  },
  {
   "cell_type": "markdown",
   "metadata": {
    "lang": "en",
    "slideshow": {
     "slide_type": "fragment"
    }
   },
   "source": [
    "* Instalação e configuração do Python e Jupyter\n",
    "* Os repositórios de bibliotecas do PyPI e Anaconda\n",
    "* A linguagem de marcação Markdown"
   ]
  },
  {
   "cell_type": "markdown",
   "metadata": {
    "slideshow": {
     "slide_type": "slide"
    }
   },
   "source": [
    "## Porque Python ?\n",
    "\n",
    "1. Python é a linguagem de programação **fácil, acessível e livre**;\n",
    "1. Possui um vasta conjunto de bibliotecas já implementadas;\n",
    "1. Bibliotecas científicas Numpy, SciPy, Pandas, SymPy e gráficas Matplotlib\n",
    "1. É orientada a objetos;\n",
    "1. Ela está evoluindo rapidamente.\n"
   ]
  },
  {
   "cell_type": "markdown",
   "metadata": {
    "slideshow": {
     "slide_type": "subslide"
    }
   },
   "source": [
    "### Documentação \n",
    "\n",
    "O Python é uma linguagem muito bem documentada e há muitas: \n",
    "\n",
    "- [Python](https://www.python.org/) página oficial. Aqui ele disponibiliza um shell iterativo no qual voê pode rodar seu códgio sem precisar instalar ele em sua máquina.\n",
    "- [Python Brasil](http://wiki.python.org.br/PythonBrasil)\n",
    "- [Aulas de Introdução à Computação em Python](https://panda.ime.usp.br/aulasPython/static/aulasPython/index.html)\n",
    "- [O livro \"Python para desenvolvedores\"](https://ark4n.wordpress.com/)\n",
    "- [Como Pensar Como um Cientista da Computação](https://panda.ime.usp.br/pensepy/static/pensepy/index.html)\n",
    "- O livro \"Think Python How to Think Like a Computer Scientist\", pode ser baixado aqui [versão em PDF](http://www.greenteapress.com/thinkpython/thinkpython.pdf )\n",
    "- O livro [A byte of Python](https://www.gitbook.com/book/swaroopch/byte-of-python/details) foi traduzido pelo [Rodrigo Amaral](https://ramaral.wordpress.com/2012/08/05/e-book-do-livro-a-byte-of-python-em-portugues/).\n",
    "- O [Python Tutorial](http://docs.python.org/3/tutorial/) é um ótimo lugar para começar a ter uma idéia da linguagem.\n",
    "- [Aprendendo a Programar](http://www.alan-g.me.uk/tutor/port/). Note entretanto que ela usa a versão 2.7 do Python\n",
    "- [The Runestone Interactive tools](http://runestoneinteractive.org/library.html)"
   ]
  },
  {
   "cell_type": "markdown",
   "metadata": {
    "slideshow": {
     "slide_type": "slide"
    }
   },
   "source": [
    "# O  IPython/Jupyter  e JupyterLab\n",
    "\n",
    "Documentação:  <https://jupyter.readthedocs.io/en/latest/index.html>\n",
    "\n",
    "* Sitio do projeto: <http://ipython.org/>, \n",
    "* O IPython/Jupyter é uma aplicação de código aberto (BSD license) que permite criar e compartilhar documentos que contenham um código iterativo, equações e formulas matemáticas renderizadas pelo $\\LaTeX$, visualizações de imagens (via scikit) e gráficos (matplotlib) e textos explicativos. \n",
    "* Atualmente o Jupyter notebook é um dos principais ambientes para a análise de dados, onde você pode usar não apenas Python, mas várias outras linguagens como você pode ver aqui."
   ]
  },
  {
   "cell_type": "markdown",
   "metadata": {
    "slideshow": {
     "slide_type": "slide"
    }
   },
   "source": [
    "![Jupyter](Figs/map.png)"
   ]
  },
  {
   "cell_type": "markdown",
   "metadata": {
    "slideshow": {
     "slide_type": "slide"
    }
   },
   "source": [
    "### IPython"
   ]
  },
  {
   "cell_type": "markdown",
   "metadata": {
    "slideshow": {
     "slide_type": "subslide"
    }
   },
   "source": [
    "* É um poderoso interpretador interativo para Python\n",
    "* É um kernel do jupyter para trabalhar com códigos Python no Jupyter Notebook e em outros ambientes interativos"
   ]
  },
  {
   "cell_type": "markdown",
   "metadata": {
    "slideshow": {
     "slide_type": "subslide"
    }
   },
   "source": [
    "<img src=\"../Figs/ipy_kernel_and_terminal.svg\" alt=\"drawing\" width=\"30%\"/>\n",
    "\n"
   ]
  },
  {
   "cell_type": "markdown",
   "metadata": {
    "slideshow": {
     "slide_type": "slide"
    }
   },
   "source": [
    "### IPython (Características)"
   ]
  },
  {
   "cell_type": "markdown",
   "metadata": {
    "lang": "en",
    "slideshow": {
     "slide_type": "subslide"
    }
   },
   "source": [
    "* Inspeção de objetos\n",
    "* Histórico de entrada\n",
    "* Salva as saídas automaticamente referenciadas\n",
    "* Compressão (extensível) por abas\n",
    "* Comandos mágicos\n",
    "* Configurável\n",
    "* Registro de acesso em sessões protegidas \n",
    "* Acesso ao sistema com aliases (extensíveis)\n",
    "* Sintaxe de realce (conforme você digita)\n",
    "* Integração com o editor de linha de comando\n",
    "* Facilidade de integração com outros programas e GUIs\n",
    "* Acesso integrado ao depurador pdb e profiler\n",
    "* Edição multi-linha graças ao prompt_toolkit."
   ]
  },
  {
   "cell_type": "markdown",
   "metadata": {
    "slideshow": {
     "slide_type": "subslide"
    }
   },
   "source": [
    "### Jupyter Notebook"
   ]
  },
  {
   "cell_type": "markdown",
   "metadata": {
    "slideshow": {
     "slide_type": "subslide"
    }
   },
   "source": [
    "* É um ambiente de computação interativo que permite ao usuário escrever documentos (Notebooks) que podem incluir código, widgets interativos, figuras, texto, equações ($\\LaTeX$), imagens, vídeos etc.\n",
    "* Sua linguagem natural é o Markdown, que é uma linguagem simples de marcação. Veja documentação [Markdown Guide](https://www.markdownguide.org/)\n"
   ]
  },
  {
   "cell_type": "markdown",
   "metadata": {
    "slideshow": {
     "slide_type": "subslide"
    }
   },
   "source": [
    "![nb & components](Figs/notebook_components.png)"
   ]
  },
  {
   "cell_type": "markdown",
   "metadata": {
    "slideshow": {
     "slide_type": "subslide"
    }
   },
   "source": [
    "### Jupyter Notebook (Componentes)"
   ]
  },
  {
   "cell_type": "markdown",
   "metadata": {},
   "source": [
    "* Aplicativo para notebook, ele é um aplicativo interativo da Web que fornece a interface do usuário para escrever e executar código de forma interativa, gerando documentos independentes (notebooks)\n",
    "* Kernels, processos independentes criados pelo aplicativo Notebook que executa o código fornecido pelo usuário e retorna (e exibe) os resultados (na forma de saída através do aplicativo Notebook)\n",
    "* Documentos, artefatos autocontidos que contêm uma representação de todo o conteúdo visível no aplicativo Notebook\n"
   ]
  },
  {
   "cell_type": "markdown",
   "metadata": {
    "slideshow": {
     "slide_type": "subslide"
    }
   },
   "source": [
    "### nbconvert"
   ]
  },
  {
   "cell_type": "markdown",
   "metadata": {},
   "source": [
    "* Converte o documento (arquivo) .ipynb em outros formatos estáticos: HTML (incluindo slides em HTML baseados em Reveal.js), $\\LaTeX$, PDF, Markdown, ReST, entre outros. Faz uso dos filtros pandoc.\n",
    "* Flexibilidade para compartilhar informações em vários e diferentes formatos.\n",
    "* Permite apresentação, publicação, colaboração e compartilhamento de conteúdo\n",
    "* Pode ser usado como uma biblioteca (import nbconvert) para adicionar recursos de conversão de notebooks em seu próprio aplicativo"
   ]
  },
  {
   "cell_type": "markdown",
   "metadata": {
    "slideshow": {
     "slide_type": "subslide"
    }
   },
   "source": [
    "### nbviewer"
   ]
  },
  {
   "cell_type": "markdown",
   "metadata": {},
   "source": [
    "* Modo simples de compartilhar os seus Jupyter notebooks\n",
    "* Funciona com o nbconvert, mas sua converão está centrada no HTML \n",
    "* Sitio: <http://nbviewer.jupyter.org/>"
   ]
  },
  {
   "cell_type": "markdown",
   "metadata": {
    "slideshow": {
     "slide_type": "slide"
    }
   },
   "source": [
    "### Jupyter Widgets"
   ]
  },
  {
   "cell_type": "markdown",
   "metadata": {
    "slideshow": {
     "slide_type": "subslide"
    }
   },
   "source": [
    "* São objetos python com representação no browser, frequentemente como um controlador: um slider, uma caixa de texto, etc.\n",
    "* Pode ser usada para gerar GUI's interativas\n",
    "* Pode ser usada para sincronizar informações entre o Python e o Javascript\n",
    "\n",
    "![Widgets](Figs/widgets.png)\n",
    "\n",
    "* Exemplos:\n",
    "  * https://mybinder.org/v2/gh/binder-examples/jupyter-extension/master?filepath=index.ipynb\n",
    "  * https://ipywidgets.readthedocs.io/en/latest/examples/Widget%20Basics.html#"
   ]
  },
  {
   "cell_type": "code",
   "execution_count": 3,
   "metadata": {
    "ExecuteTime": {
     "end_time": "2019-08-12T11:33:32.100080Z",
     "start_time": "2019-08-12T11:33:32.079127Z"
    },
    "slideshow": {
     "slide_type": "subslide"
    }
   },
   "outputs": [
    {
     "data": {
      "application/vnd.jupyter.widget-view+json": {
       "model_id": "f6ae85d6d1424378a94e30a28df7d19e",
       "version_major": 2,
       "version_minor": 0
      },
      "text/plain": [
       "IntSlider(value=0)"
      ]
     },
     "metadata": {},
     "output_type": "display_data"
    }
   ],
   "source": [
    "import ipywidgets as widgets\n",
    "from IPython.display import display\n",
    "w = widgets.IntSlider()\n",
    "display(w)"
   ]
  },
  {
   "cell_type": "markdown",
   "metadata": {
    "slideshow": {
     "slide_type": "slide"
    }
   },
   "source": [
    "### JupyterHub"
   ]
  },
  {
   "cell_type": "markdown",
   "metadata": {
    "slideshow": {
     "slide_type": "subslide"
    }
   },
   "source": [
    "* JupyterHub é um conjunto de ferramentas que fornecem servidores Jupyter Notebook de usuário único para cada pessoa dentro de um grupo.\n"
   ]
  },
  {
   "cell_type": "markdown",
   "metadata": {
    "slideshow": {
     "slide_type": "slide"
    }
   },
   "source": [
    "### JupyterHub (Componentes)"
   ]
  },
  {
   "cell_type": "markdown",
   "metadata": {
    "slideshow": {
     "slide_type": "subslide"
    }
   },
   "source": [
    "* Hub (Python/Tornado): gerencie contas de usuário, autenticação e coordene os servidores de notebook de um único usuário através de um Spawner\n",
    "* Proxy: a parte pública (exposta ao usuário) do JupyterHub, que usa um proxy dinâmico para rotear a solicitação HTTP para o Hub e para os servidores de notebook de um único usuário.\n",
    "* Servidor Notebook para usuário único (Python/Tornado): servidor Jupyter Notebook de usuário único que cria para cada usuário quando o usuário faz o login e é iniciado pelo Spawner.\n"
   ]
  },
  {
   "cell_type": "markdown",
   "metadata": {
    "slideshow": {
     "slide_type": "subslide"
    }
   },
   "source": [
    "### Google Colab"
   ]
  },
  {
   "cell_type": "markdown",
   "metadata": {
    "slideshow": {
     "slide_type": "slide"
    }
   },
   "source": [
    "* O google fornece um ambiene online, um pouco restrito: <https://colab.research.google.com/>\n",
    "* Veja o sitio: <https://towardsdatascience.com/getting-started-with-google-colab-f2fff97f594c>"
   ]
  },
  {
   "cell_type": "markdown",
   "metadata": {
    "slideshow": {
     "slide_type": "slide"
    }
   },
   "source": [
    "### Jupyter Lab"
   ]
  },
  {
   "cell_type": "markdown",
   "metadata": {
    "slideshow": {
     "slide_type": "subslide"
    }
   },
   "source": [
    "* É o futuro!!!\n",
    "* Uma experiência quasi-IDE, mas no browser e usando as múltiplas tecnologías do ecosistema\n",
    "* Repo: https://github.com/jupyterlab/jupyterlab\n",
    "* Docs: http://jupyterlab-tutorial.readthedocs.io/en/latest/"
   ]
  },
  {
   "cell_type": "markdown",
   "metadata": {
    "slideshow": {
     "slide_type": "slide"
    }
   },
   "source": [
    "# O sistema  Anaconda"
   ]
  },
  {
   "cell_type": "markdown",
   "metadata": {},
   "source": [
    "![Anaconda](anaconda.png)"
   ]
  },
  {
   "cell_type": "markdown",
   "metadata": {
    "slideshow": {
     "slide_type": "slide"
    }
   },
   "source": [
    "## Conda"
   ]
  },
  {
   "cell_type": "markdown",
   "metadata": {},
   "source": [
    "Gerenciamento de pacotes, dependências e ambientes para qualquer linguagem - Python, R, Ruby, Lua, Scala, Java, JavaScript, C/C++, FORTRAN\n",
    "\n",
    "* Gerente de pacotes e dependências\n",
    "* Sistema de gerenciamento de ambiente virtual\n",
    "* Multiplataforma: win, macOS, Linux\n",
    "* Multilinguage: Python, R, Ruby, Lua, Scala, Java, JavaScript, C/C++, FORTRAN\n",
    "* Em sua configuração padrão, ele se conecta a repo.continuum.io (pacotes de +1000), mas também pode trazer pacotes de outras fontes (conda-forge)\n",
    "* Open source"
   ]
  },
  {
   "cell_type": "markdown",
   "metadata": {
    "slideshow": {
     "slide_type": "slide"
    }
   },
   "source": [
    "## Anaconda Distribution"
   ]
  },
  {
   "cell_type": "markdown",
   "metadata": {},
   "source": [
    "![Distribution](distribution.png)"
   ]
  },
  {
   "cell_type": "markdown",
   "metadata": {
    "slideshow": {
     "slide_type": "slide"
    }
   },
   "source": [
    "## Anaconda Enterprise"
   ]
  },
  {
   "cell_type": "markdown",
   "metadata": {},
   "source": [
    "![Enterprise](enterprise.png)"
   ]
  }
 ],
 "metadata": {
  "celltoolbar": "Slideshow",
  "finalized": {
   "timestamp": 1575381912885,
   "trusted": false
  },
  "kernelspec": {
   "display_name": "Python 3",
   "language": "python",
   "name": "python3"
  },
  "language_info": {
   "codemirror_mode": {
    "name": "ipython",
    "version": 3
   },
   "file_extension": ".py",
   "mimetype": "text/x-python",
   "name": "python",
   "nbconvert_exporter": "python",
   "pygments_lexer": "ipython3",
   "version": "3.6.9"
  },
  "latex_envs": {
   "LaTeX_envs_menu_present": true,
   "autoclose": false,
   "autocomplete": false,
   "bibliofile": "biblio.bib",
   "cite_by": "apalike",
   "current_citInitial": 1,
   "eqLabelWithNumbers": true,
   "eqNumInitial": 1,
   "hotkeys": {
    "equation": "Ctrl-E",
    "itemize": "Ctrl-I"
   },
   "labels_anchors": false,
   "latex_user_defs": false,
   "report_style_numbering": false,
   "user_envs_cfg": false
  },
  "livereveal": {
   "autolaunch": true,
   "scroll": true
  },
  "nbTranslate": {
   "displayLangs": [
    "en",
    "pt"
   ],
   "hotkey": "alt-t",
   "langInMainMenu": true,
   "sourceLang": "en",
   "targetLang": "pt",
   "useGoogleTranslate": true
  },
  "rise": {
   "theme": "serif",
   "transition": "zoom"
  },
  "toc": {
   "base_numbering": 1,
   "nav_menu": {},
   "number_sections": true,
   "sideBar": true,
   "skip_h1_title": false,
   "title_cell": "Table of Contents",
   "title_sidebar": "Contents",
   "toc_cell": false,
   "toc_position": {},
   "toc_section_display": true,
   "toc_window_display": false
  },
  "varInspector": {
   "cols": {
    "lenName": 16,
    "lenType": 16,
    "lenVar": 40
   },
   "kernels_config": {
    "python": {
     "delete_cmd_postfix": "",
     "delete_cmd_prefix": "del ",
     "library": "var_list.py",
     "varRefreshCmd": "print(var_dic_list())"
    },
    "r": {
     "delete_cmd_postfix": ") ",
     "delete_cmd_prefix": "rm(",
     "library": "var_list.r",
     "varRefreshCmd": "cat(var_dic_list()) "
    }
   },
   "types_to_exclude": [
    "module",
    "function",
    "builtin_function_or_method",
    "instance",
    "_Feature"
   ],
   "window_display": false
  }
 },
 "nbformat": 4,
 "nbformat_minor": 2
}
