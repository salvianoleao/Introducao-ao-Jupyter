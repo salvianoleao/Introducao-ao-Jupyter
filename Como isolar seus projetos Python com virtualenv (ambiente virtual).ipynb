{
 "cells": [
  {
   "cell_type": "markdown",
   "metadata": {},
   "source": [
    "# Como isolar seus projetos Python com virtualenv\n",
    "\n",
    "O virtualenv é uma ferramenta a qual nos permite isolar o interpretador do Python e as bibliotecas desejadas em um ambiente para cada projetos Python, o que reduz o risco de problemas de versionamento e de quebra de dependências no caso de atualizações de alguma biblioteca e ou do próprio sistema operacional.\n"
   ]
  },
  {
   "cell_type": "markdown",
   "metadata": {},
   "source": [
    "# Introdução\n",
    "    \n",
    "\n",
    "Hoje o Python está presente em 100% das distribuições GNU/Linux, e muitas das ferramentas essenciais do sistema operacional foram criadas nestas linguagem. Porém, assim como na maioria das linguagens, Python também sofre com problemas de compatibilidade entre versões da linguagem e de suas bibliotecas. \n",
    "\n",
    "Atualmente os usuários do Python estão convivendo com duas versões distintas da linguagem: O Python 2 e o Python 3. O estado atual da linguagem Python é o seguinte:\n",
    "\n",
    "- O Python 2, [lançado em outubro de 2000](a versão 2.0 do Python foi lançada em Outubro de 2000.), foi o padrão da linguagem por muito tempo.\n",
    "\n",
    "- O Python 3 introduziu em [Dezembro de 2008](https://pt.wikipedia.org/wiki/Python) com algumas mudanças que quebraram a compatibilidade com a versão anterior o que criou a nessecidade de se manter duas versões da linguagem.\n",
    "\n",
    "- O Python 2 receberá atualizações de segurança até 2020 quando seu suporte será descontinuado.\n",
    "\n",
    "- O Python 3 está constantemente evoluindo e recebendo novas funcionalidades, que não estarão presentes na versão anterior.\n",
    "\n",
    "Sabendo disso, a recomendação é dar sempre que possível preferência ao Python 3, por ser o futuro da linguagem e pelo fato de sua versão anterior estar em processo de descontinuação.\n",
    "\n",
    "Use Python 2 somente quando estiver trabalhando com um software que ainda não foi migrado para Python 3 ou caso precise manter algum sistema legado.\n",
    "\n",
    "As diferenças entre as versões para quem está começando a aprender a linguagem não são tão grandes ao ponto de você não conseguir alternar entre as duas caso necessário.\n",
    "\n",
    "[Desde dezembro de 2008](https://pt.wikipedia.org/wiki/Python) existem basicamente dois tipos de Python, o 2.x e  o 3.x. Muito código escrito em Python 2.x é incompatível com a versão 3.x e vice-versa.  \n",
    "\n",
    "O Python 3.x obviamente traz muitas vantagens sobre o 2.x e atualmente,  para quem está iniciando um projeto, recomenda-se optar pela última  versão da linguagem. \n",
    "\n",
    "Sua distribuição Linux  provavelmente possui as 2 versões do interpretador do comando e  geralmente a versão padrão é a 2.x. Você pode conferir isso digitando: "
   ]
  },
  {
   "cell_type": "code",
   "execution_count": null,
   "metadata": {},
   "outputs": [],
   "source": [
    " > python --version\n",
    "Python 2.7.13\n",
    "\n",
    "> python3 --version\n",
    "Python 3.5.3"
   ]
  },
  {
   "cell_type": "markdown",
   "metadata": {},
   "source": [
    "Para início de conversa, se você está começando um projeto Python, irá  precisar digitar \"python3\" ao invés de apenas \"python\" toda vez que for  executar seus scripts.  \n",
    "\n",
    "Agora vamos supor que você irá usar algumas bibliotecas em seu projeto e  seu código está diretamente atrelado às suas versões. Determinado dia  você acorda, dá um dist-upgrade e bah, descobre que o sistema  operacional atualizou as bibliotecas e seu código se tornou incompatível  com as novas versões. Ok, isso é raro de acontecer, mas é possível. \n",
    "\n",
    "Beleza então, já entendemos os problemas (assim espero), vamos à solução! E ela atende pelo nome `virtualenv`. \n",
    "\n",
    "# Instalando o Python Package Installer\n",
    "\n",
    "Para instalar a biblioteca virtualenv precisaremos do pip (Python  Package Installer). Em distribuições Debian ou derivadas, você pode  instalar com: \n",
    "\n",
    "- Python 2.x: "
   ]
  },
  {
   "cell_type": "code",
   "execution_count": null,
   "metadata": {},
   "outputs": [],
   "source": [
    "> sudo apt install python-pip"
   ]
  },
  {
   "cell_type": "markdown",
   "metadata": {},
   "source": [
    "- Python 3.x: "
   ]
  },
  {
   "cell_type": "code",
   "execution_count": null,
   "metadata": {},
   "outputs": [],
   "source": [
    "> sudo apt install python3-pip"
   ]
  },
  {
   "cell_type": "markdown",
   "metadata": {},
   "source": [
    "Usuários de outras distribuições podem pesquisar em seu gerenciador de  pacotes por \"python pip\", dou garantias de que existe o pacote no  repositório oficial de sua distro. \n",
    "\n",
    "# Instalando o módulo virtualenv\n",
    "\n",
    "O virtualenv é uma biblioteca/módulo Python. Em Debian e derivados é  possível instalá-lo via APT, mas aqui demonstrarei como instalá-lo via  pip. \n",
    "\n",
    "- Python 2.x: "
   ]
  },
  {
   "cell_type": "code",
   "execution_count": null,
   "metadata": {},
   "outputs": [],
   "source": [
    "> pip install virtualenv\n",
    "\n",
    "Collecting virtualenv\n",
    "   Downloading  https://files.pythonhosted.org/packages/7c/17/9b7b6cddfd255388b58c61e25b091047f6814183e1d63741c8df8dcd65a2/virtualenv-16.1.0-py2.py3-none-any.whl  (1.9MB)\n",
    "     100% |████████████████████████████████| 1.9MB 494kB/s \n",
    " Installing collected packages: virtualenv\n",
    " Successfully installed virtualenv-16.1.0"
   ]
  },
  {
   "cell_type": "markdown",
   "metadata": {},
   "source": [
    "- Python 3.x: "
   ]
  },
  {
   "cell_type": "code",
   "execution_count": null,
   "metadata": {
    "lines_to_next_cell": 0
   },
   "outputs": [],
   "source": [
    "> pip3 install virtualenv\n",
    "\n",
    "Collecting virtualenv\n",
    "   Using cached  https://files.pythonhosted.org/packages/7c/17/9b7b6cddfd255388b58c61e25b091047f6814183e1d63741c8df8dcd65a2/virtualenv-16.1.0-py2.py3-none-any.whl\n",
    " Installing collected packages: virtualenv\n",
    " Successfully installed virtualenv-16.1.0"
   ]
  },
  {
   "cell_type": "markdown",
   "metadata": {},
   "source": [
    "E agora vamos testar a instalação, o comando abaixo deverá retornar a página de help do virtualenv: "
   ]
  },
  {
   "cell_type": "code",
   "execution_count": null,
   "metadata": {},
   "outputs": [],
   "source": [
    "> python -m virtualenv"
   ]
  },
  {
   "cell_type": "markdown",
   "metadata": {},
   "source": [
    "ou"
   ]
  },
  {
   "cell_type": "code",
   "execution_count": null,
   "metadata": {
    "lines_to_next_cell": 0
   },
   "outputs": [],
   "source": [
    "> python3 -m virtualenv\n",
    "You must provide a DEST_DIR\n",
    "Usage: virtualenv.py [OPTIONS] DEST_DIR\n",
    "\n",
    "Options:\n",
    "  --version             show program's version number and exit\n",
    "  -h, --help            show this help message and exit\n",
    "  -v, --verbose         Increase verbosity.\n",
    "  -q, --quiet           Decrease verbosity.\n",
    "  -p PYTHON_EXE, --python=PYTHON_EXE\n",
    "                        The Python interpreter to use, e.g.,\n",
    "                        --python=python3.5 will use the python3.5 interpreter\n",
    "                        to create the new environment.  The default is the\n",
    "                        interpreter that virtualenv was installed with\n",
    "                        (/usr/bin/python3)\n",
    "  --clear               Clear out the non-root install and start from scratch.\n",
    "  --no-site-packages    DEPRECATED. Retained only for backward compatibility.\n",
    "                        Not having access to global site-packages is now the\n",
    "                        default behavior.\n",
    "  --system-site-packages\n",
    "                        Give the virtual environment access to the global\n",
    "                        site-packages.\n",
    "  --always-copy         Always copy files rather than symlinking.\n",
    "  --relocatable         Make an EXISTING virtualenv environment relocatable.\n",
    "                        This fixes up scripts and makes all .pth files\n",
    "                        relative.\n",
    "  --no-setuptools       Do not install setuptools in the new virtualenv.\n",
    "  --no-pip              Do not install pip in the new virtualenv.\n",
    "  --no-wheel            Do not install wheel in the new virtualenv.\n",
    "  --extra-search-dir=DIR\n",
    "                        Directory to look for setuptools/pip distributions in.\n",
    "                        This option can be used multiple times.\n",
    "  --download            Download preinstalled packages from PyPI.\n",
    "  --no-download, --never-download\n",
    "                        Do not download preinstalled packages from PyPI.\n",
    "  --prompt=PROMPT       Provides an alternative prompt prefix for this\n",
    "                        environment.\n",
    "  --setuptools          DEPRECATED. Retained only for backward compatibility.\n",
    "                        This option has no effect.\n",
    "  --distribute          DEPRECATED. Retained only for backward compatibility.\n",
    "                        This option has no effect.\n",
    "  --unzip-setuptools    DEPRECATED.  Retained only for backward compatibility.\n",
    "                        This option has no effect."
   ]
  },
  {
   "cell_type": "markdown",
   "metadata": {},
   "source": []
  },
  {
   "cell_type": "markdown",
   "metadata": {},
   "source": [
    "## Criando uma virtualenv\n",
    "\n",
    "Agora que já temos o módulo instalado, vamos criar nosso primeiro projeto usando uma `virtualenv`. \n",
    "\n",
    " O primeiro passo é criar o diretório do projeto: "
   ]
  },
  {
   "cell_type": "raw",
   "metadata": {
    "bas": null
   },
   "source": [
    "> mkdir meuLab\n",
    "> cd meuLab"
   ]
  },
  {
   "cell_type": "markdown",
   "metadata": {},
   "source": [
    " Criar a virtualenv. Neste exemplo utilizarei o Python 3.x: "
   ]
  },
  {
   "cell_type": "code",
   "execution_count": null,
   "metadata": {},
   "outputs": [],
   "source": [
    "> python3 -m virtualenv venv"
   ]
  },
  {
   "cell_type": "markdown",
   "metadata": {},
   "source": [
    " O que aconteceu? O Python criou um diretório chamado \"venv\" no local atual. Veja: \n",
    "\n",
    " "
   ]
  },
  {
   "cell_type": "code",
   "execution_count": null,
   "metadata": {},
   "outputs": [],
   "source": [
    "> find venv\n",
    "\n",
    "venv\n",
    " venv/include\n",
    " venv/include/python3.5m\n",
    " venv/bin\n",
    " venv/bin/python3\n",
    " venv/bin/activate\n",
    " venv/bin/wheel\n",
    " venv/bin/imgurscrot\n",
    " venv/bin/easy_install-3.5\n",
    " venv/bin/activate.ps1\n",
    " venv/bin/activate_this.py\n",
    " venv/bin/chardetect\n",
    " venv/bin/python-config\n",
    " venv/bin/pip\n",
    " venv/bin/python\n",
    " venv/bin/python3.5\n",
    " venv/bin/activate.csh\n",
    " venv/bin/easy_install\n",
    " venv/bin/pip3\n",
    " venv/bin/pip3.5\n",
    " venv/bin/activate.fish\n",
    " venv/lib\n",
    " venv/lib/python3.5\n",
    " venv/lib/python3.5/_weakrefset.py\n",
    " venv/lib/python3.5/operator.py\n",
    " venv/lib/python3.5/fnmatch.py\n",
    " .\n",
    " .\n",
    " .\n",
    " venv/lib/python3.5/orig-prefix.txt\n",
    " venv/lib/python3.5/config-3.5m-x86_64-linux-gnu\n",
    " venv/lib/python3.5/imp.py\n",
    " venv/lib/python3.5/functools.py\n",
    " venv/lib/python3.5/encodings\n",
    " venv/lib/python3.5/os.py\n",
    " venv/lib/python3.5/linecache.py\n",
    " venv/lib/python3.5/_dummy_thread.py\n",
    " venv/lib/python3.5/genericpath.py\n",
    " venv/lib/python3.5/hmac.py\n",
    " venv/lib/python3.5/random.py\n",
    " venv/lib/python3.5/lib-dynload\n",
    " venv/lib/python3.5/sre_constants.py\n",
    " venv/lib/python3.5/heapq.py\n",
    " venv/lib/python3.5/abc.py"
   ]
  },
  {
   "cell_type": "markdown",
   "metadata": {},
   "source": [
    "Agora vamos ativar o ambiente virtual: "
   ]
  },
  {
   "cell_type": "code",
   "execution_count": null,
   "metadata": {},
   "outputs": [],
   "source": [
    " source venv/bin/activate"
   ]
  },
  {
   "cell_type": "markdown",
   "metadata": {},
   "source": [
    "Note que agora há um prefixo \"(venv)\" no seu terminal: "
   ]
  },
  {
   "cell_type": "code",
   "execution_count": null,
   "metadata": {},
   "outputs": [],
   "source": [
    "(venv) $"
   ]
  },
  {
   "cell_type": "markdown",
   "metadata": {},
   "source": [
    "Você agora está enjaulado num ambiente Python 3.x, os comandos \"python\" e  \"pip\", ao invés de invocarem a versão padrão do sistema, que é a 2.x,  invocarão a versão enjaulada que acabaste de criar: "
   ]
  },
  {
   "cell_type": "code",
   "execution_count": null,
   "metadata": {},
   "outputs": [],
   "source": [
    "(venv) $ python --version\n",
    "Python 3.5.3\n",
    "(venv) $ pip --version\n",
    "pip 18.1 from /home/fabio/artigos/meuLab/venv/lib/python3.5/site-packages/pip (python 3.5)"
   ]
  },
  {
   "cell_type": "markdown",
   "metadata": {},
   "source": [
    " Para este artigo criarei um simples script para capturar a tela do  computador que utiliza a biblioteca pyautogui, que por sua vez depende  da Xlib para funcionar. \n",
    "\n",
    " Então vamos lá: "
   ]
  },
  {
   "cell_type": "code",
   "execution_count": null,
   "metadata": {},
   "outputs": [],
   "source": [
    "(venv) $ pip install Xlib pyautogui\n",
    "\n",
    "Collecting Xlib\n",
    "   Using cached  https://files.pythonhosted.org/packages/3f/00/321541273b0ed2167b36c82be9baeb0bdc8af1c11c1b01de9436b84b5eaf/xlib-0.21-py2.py3-none-any.whl\n",
    " Collecting pyautogui\n",
    " Requirement already satisfied: six>=1.10.0 in ./venv/lib/python3.5/site-packages (from Xlib) (1.12.0)\n",
    " Requirement already satisfied: pyscreeze in ./venv/lib/python3.5/site-packages (from pyautogui) (0.1.18)\n",
    " Requirement already satisfied: Pillow in ./venv/lib/python3.5/site-packages (from pyautogui) (5.3.0)\n",
    " Requirement already satisfied: pymsgbox in ./venv/lib/python3.5/site-packages (from pyautogui) (1.0.6)\n",
    " Requirement already satisfied: PyTweening>=1.0.1 in ./venv/lib/python3.5/site-packages (from pyautogui) (1.0.3)\n",
    " Installing collected packages: Xlib, pyautogui\n",
    " Successfully installed Xlib-0.21 pyautogui-0.9.39"
   ]
  },
  {
   "cell_type": "markdown",
   "metadata": {},
   "source": [
    "  Note que ambas as bibliotecas foram instaladas dentro de sua jaula, no diretório \"venv\": \n",
    "\n",
    "-   `venv/lib/python3.5/site-packages/Xlib`\n",
    "-   `venv/lib/python3.5/site-packages/pyautogui`\n",
    "\n",
    "  E agora vamos ao código: "
   ]
  },
  {
   "cell_type": "code",
   "execution_count": null,
   "metadata": {},
   "outputs": [],
   "source": [
    "(venv) $ vim captura-tela.py"
   ]
  },
  {
   "cell_type": "markdown",
   "metadata": {},
   "source": [
    "o comando anterior abre editor de texto `vim` com o seguinte conteúdo:"
   ]
  },
  {
   "cell_type": "code",
   "execution_count": null,
   "metadata": {},
   "outputs": [],
   "source": [
    "%%python\n",
    "import pyautogui\n",
    "pyautogui.screenshot(\"minha-tela.png\")"
   ]
  },
  {
   "cell_type": "markdown",
   "metadata": {},
   "source": [
    "Executar: "
   ]
  },
  {
   "cell_type": "code",
   "execution_count": null,
   "metadata": {},
   "outputs": [],
   "source": [
    "(venv) $ python captura-tela.py"
   ]
  },
  {
   "cell_type": "markdown",
   "metadata": {},
   "source": [
    " NOTA: em caso de erro na execução, instale o scrot, que é dependência do pyautogui.screenshot: "
   ]
  },
  {
   "cell_type": "code",
   "execution_count": null,
   "metadata": {},
   "outputs": [],
   "source": [
    "(venv) $ sudo apt install scrot"
   ]
  },
  {
   "cell_type": "markdown",
   "metadata": {},
   "source": [
    "Para desativar o ambiente virtual basta digitar: "
   ]
  },
  {
   "cell_type": "code",
   "execution_count": null,
   "metadata": {},
   "outputs": [],
   "source": [
    "(venv) $ deactivate"
   ]
  },
  {
   "cell_type": "markdown",
   "metadata": {},
   "source": [
    " E sempre que quiser voltar a trabalhar no ambiente, entre no diretório do projeto e repita o comando: "
   ]
  },
  {
   "cell_type": "code",
   "execution_count": null,
   "metadata": {},
   "outputs": [],
   "source": [
    "> source venv/bin/activate"
   ]
  },
  {
   "cell_type": "markdown",
   "metadata": {},
   "source": [
    "Viram como é simples trabalhar com ambientes virtuais em Python? Não  deixe de adotar essa prática, ela é EXTREMAMENTE recomendável. \n",
    "\n",
    "\n",
    "\n",
    "\n"
   ]
  }
 ],
 "metadata": {
  "jupytext": {
   "cell_metadata_filter": "bas,-all",
   "notebook_metadata_filter": "-all",
   "text_representation": {
    "extension": ".md",
    "format_name": "markdown"
   }
  },
  "kernelspec": {
   "display_name": "MetaKernel Bash",
   "language": "bash",
   "name": "metakernel_bash"
  },
  "language_info": {
   "file_extension": ".sh",
   "help_links": [
    {
     "text": "MetaKernel Magics",
     "url": "https://github.com/calysto/metakernel/blob/master/metakernel/magics/README.md"
    }
   ],
   "mimetype": "text/x-bash",
   "name": "bash"
  },
  "latex_envs": {
   "LaTeX_envs_menu_present": true,
   "autoclose": false,
   "autocomplete": false,
   "bibliofile": "biblio.bib",
   "cite_by": "apalike",
   "current_citInitial": 1,
   "eqLabelWithNumbers": true,
   "eqNumInitial": 1,
   "hotkeys": {
    "equation": "Ctrl-E",
    "itemize": "Ctrl-I"
   },
   "labels_anchors": false,
   "latex_user_defs": false,
   "report_style_numbering": false,
   "user_envs_cfg": false
  },
  "nbTranslate": {
   "displayLangs": [
    "pt",
    "en"
   ],
   "hotkey": "alt-t",
   "langInMainMenu": true,
   "sourceLang": "en",
   "targetLang": "pt",
   "useGoogleTranslate": true
  },
  "varInspector": {
   "cols": {
    "lenName": 16,
    "lenType": 16,
    "lenVar": 40
   },
   "kernels_config": {
    "python": {
     "delete_cmd_postfix": "",
     "delete_cmd_prefix": "del ",
     "library": "var_list.py",
     "varRefreshCmd": "print(var_dic_list())"
    },
    "r": {
     "delete_cmd_postfix": ") ",
     "delete_cmd_prefix": "rm(",
     "library": "var_list.r",
     "varRefreshCmd": "cat(var_dic_list()) "
    }
   },
   "types_to_exclude": [
    "module",
    "function",
    "builtin_function_or_method",
    "instance",
    "_Feature"
   ],
   "window_display": false
  }
 },
 "nbformat": 4,
 "nbformat_minor": 2
}
