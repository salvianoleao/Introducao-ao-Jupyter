{
 "cells": [
  {
   "cell_type": "markdown",
   "metadata": {},
   "source": [
    "<img src=\"../Figs/Cab_IF_Red_01.png\" alt=\"drawing\" width=\"80%\"/>\n",
    "\n",
    "\n",
    "<!--\n",
    "\n",
    "<img href=\"Figs/Cab_IF_Red_01.png\" style=\"width: 80%;\" /> doesn't work\n",
    "\n",
    "![Logotipo do IF](../Figs/Cab_IF_Red_01.png){ width=50% }\n",
    "\n",
    "<h1> <span style=\"color:blue\">Curso de Física Computacional </span> </h1> \n",
    "-->\n",
    "\n",
    "<p style=\"margin-bottom:1cm;\"> </p>\n",
    "\n",
    "\n",
    "<center> <font size=\"6\" color=\"blue\">Curso de Física Computacional</font> </center>\n",
    "\n",
    "\n",
    "<font size=\"4\" color=\"blue\">**Prof. :** Salviano A. Leão -- Instituto de Física - UFG-GO</font>\n",
    "\n",
    "\n",
    "Esse material faz parte do curso de Física Computacional.\n"
   ]
  },
  {
   "cell_type": "markdown",
   "metadata": {},
   "source": [
    "# Noções Básicas da Linguagem de Progamação Python"
   ]
  },
  {
   "cell_type": "markdown",
   "metadata": {
    "toc": true
   },
   "source": [
    "<h1>Table of Contents<span class=\"tocSkip\"></span></h1>\n",
    "<div class=\"toc\"><ul class=\"toc-item\"><li><span><a href=\"#Noções-Básicas-da-Linguagem-de-Progamação-Python\" data-toc-modified-id=\"Noções-Básicas-da-Linguagem-de-Progamação-Python-1\"><span class=\"toc-item-num\">1&nbsp;&nbsp;</span>Noções Básicas da Linguagem de Progamação Python</a></span><ul class=\"toc-item\"><li><span><a href=\"#Referências\" data-toc-modified-id=\"Referências-1.1\"><span class=\"toc-item-num\">1.1&nbsp;&nbsp;</span>Referências</a></span></li></ul></li><li><span><a href=\"#Estrutura-da-Linguagem-de-Programação-Python-\" data-toc-modified-id=\"Estrutura-da-Linguagem-de-Programação-Python--2\"><span class=\"toc-item-num\">2&nbsp;&nbsp;</span>Estrutura da Linguagem de Programação Python <a name=\"CP2-LingPython\"></a></a></span><ul class=\"toc-item\"><li><span><a href=\"#Características-\" data-toc-modified-id=\"Características--2.1\"><span class=\"toc-item-num\">2.1&nbsp;&nbsp;</span>Características <a name=\"CP2-caracteristicas\"></a></a></span></li><li><span><a href=\"#Tipagem-Dinâmica-\" data-toc-modified-id=\"Tipagem-Dinâmica--2.2\"><span class=\"toc-item-num\">2.2&nbsp;&nbsp;</span>Tipagem Dinâmica <a name=\"CP2-tip-din\"></a></a></span></li><li><span><a href=\"#Compilação-e-interpretação-\" data-toc-modified-id=\"Compilação-e-interpretação--2.3\"><span class=\"toc-item-num\">2.3&nbsp;&nbsp;</span>Compilação e interpretação <a name=\"CP2-Comp-interp\"></a></a></span></li><li><span><a href=\"#Origem-\" data-toc-modified-id=\"Origem--2.4\"><span class=\"toc-item-num\">2.4&nbsp;&nbsp;</span>Origem <a name=\"CP2-Origem\"></a></a></span></li><li><span><a href=\"#Sintaxe--\" data-toc-modified-id=\"Sintaxe---2.5\"><span class=\"toc-item-num\">2.5&nbsp;&nbsp;</span>Sintaxe  <a name=\"CP2-Sintaxe\"></a></a></span></li><li><span><a href=\"#Palavras-chave\" data-toc-modified-id=\"Palavras-chave-2.6\"><span class=\"toc-item-num\">2.6&nbsp;&nbsp;</span>Palavras-chave</a></span></li><li><span><a href=\"#Operadores\" data-toc-modified-id=\"Operadores-2.7\"><span class=\"toc-item-num\">2.7&nbsp;&nbsp;</span>Operadores</a></span></li><li><span><a href=\"#Símbolos-especiais\" data-toc-modified-id=\"Símbolos-especiais-2.8\"><span class=\"toc-item-num\">2.8&nbsp;&nbsp;</span>Símbolos especiais</a></span><ul class=\"toc-item\"><li><span><a href=\"#Grupos\" data-toc-modified-id=\"Grupos-2.8.1\"><span class=\"toc-item-num\">2.8.1&nbsp;&nbsp;</span>Grupos</a></span></li><li><span><a href=\"#Outros\" data-toc-modified-id=\"Outros-2.8.2\"><span class=\"toc-item-num\">2.8.2&nbsp;&nbsp;</span>Outros</a></span></li></ul></li><li><span><a href=\"#Blocos-\" data-toc-modified-id=\"Blocos--2.9\"><span class=\"toc-item-num\">2.9&nbsp;&nbsp;</span>Blocos <a name=\"CP2-Blocos\"></a></a></span><ul class=\"toc-item\"><li><ul class=\"toc-item\"><li><span><a href=\"#Grandes-descobertas-da-física\" data-toc-modified-id=\"Grandes-descobertas-da-física-2.9.0.1\"><span class=\"toc-item-num\">2.9.0.1&nbsp;&nbsp;</span>Grandes descobertas da física</a></span></li></ul></li><li><span><a href=\"#Exemplo-de-uso-de-um-bloco\" data-toc-modified-id=\"Exemplo-de-uso-de-um-bloco-2.9.1\"><span class=\"toc-item-num\">2.9.1&nbsp;&nbsp;</span>Exemplo de uso de um bloco</a></span></li></ul></li><li><span><a href=\"#Objetos-\" data-toc-modified-id=\"Objetos--2.10\"><span class=\"toc-item-num\">2.10&nbsp;&nbsp;</span>Objetos <a name=\"CP2-Objetos\"></a></a></span></li></ul></li><li><span><a href=\"#Usando-o-Python-Como-Uma-poderosa-calculadora-\" data-toc-modified-id=\"Usando-o-Python-Como-Uma-poderosa-calculadora--3\"><span class=\"toc-item-num\">3&nbsp;&nbsp;</span>Usando o Python Como Uma poderosa calculadora <a name=\"CP2-Calculadora\"></a></a></span><ul class=\"toc-item\"><li><span><a href=\"#O-prompt-do-Python:-Ler-Calcular-Imprimir-e-a-Repetição-(REPL)-\" data-toc-modified-id=\"O-prompt-do-Python:-Ler-Calcular-Imprimir-e-a-Repetição-(REPL)--3.1\"><span class=\"toc-item-num\">3.1&nbsp;&nbsp;</span>O prompt do Python: Ler-Calcular-Imprimir e a Repetição (REPL) <a name=\"CP2-REPL\"></a></a></span></li><li><span><a href=\"#Calculadora-\" data-toc-modified-id=\"Calculadora--3.2\"><span class=\"toc-item-num\">3.2&nbsp;&nbsp;</span>Calculadora <a name=\"CP2-calculadora\"></a></a></span></li><li><span><a href=\"#Divisão-Inteira-(Integer-division)-\" data-toc-modified-id=\"Divisão-Inteira-(Integer-division)--3.3\"><span class=\"toc-item-num\">3.3&nbsp;&nbsp;</span>Divisão Inteira (Integer division) <a name=\"CP2-DivInt\"></a></a></span><ul class=\"toc-item\"><li><span><a href=\"#Como-evitar-a-divisão-inteira--\" data-toc-modified-id=\"Como-evitar-a-divisão-inteira---3.3.1\"><span class=\"toc-item-num\">3.3.1&nbsp;&nbsp;</span>Como evitar a divisão inteira  <a name=\"CP2-EvitarDivInt\"></a></a></span></li><li><span><a href=\"#Por-que-eu-deveria-me-preocupar-com-esse-problema-de-divisão?-\" data-toc-modified-id=\"Por-que-eu-deveria-me-preocupar-com-esse-problema-de-divisão?--3.3.2\"><span class=\"toc-item-num\">3.3.2&nbsp;&nbsp;</span>Por que eu deveria me preocupar com esse problema de divisão? <a name=\"CP2-PreocDivInt\"></a></a></span></li></ul></li><li><span><a href=\"#Estruturas-de-dados\" data-toc-modified-id=\"Estruturas-de-dados-3.4\"><span class=\"toc-item-num\">3.4&nbsp;&nbsp;</span>Estruturas de dados</a></span></li><li><span><a href=\"#Números\" data-toc-modified-id=\"Números-3.5\"><span class=\"toc-item-num\">3.5&nbsp;&nbsp;</span>Números</a></span><ul class=\"toc-item\"><li><span><a href=\"#Os-números-inteiros\" data-toc-modified-id=\"Os-números-inteiros-3.5.1\"><span class=\"toc-item-num\">3.5.1&nbsp;&nbsp;</span>Os números inteiros</a></span></li></ul></li><li><span><a href=\"#Funções-Matemáticas-\" data-toc-modified-id=\"Funções-Matemáticas--3.6\"><span class=\"toc-item-num\">3.6&nbsp;&nbsp;</span>Funções Matemáticas <a name=\"CP2-FuncoesMat\"></a></a></span></li><li><span><a href=\"#Variáveis-\" data-toc-modified-id=\"Variáveis--3.7\"><span class=\"toc-item-num\">3.7&nbsp;&nbsp;</span>Variáveis <a name=\"CP2-Variaveis\"></a></a></span><ul class=\"toc-item\"><li><span><a href=\"#Terminologia-\" data-toc-modified-id=\"Terminologia--3.7.1\"><span class=\"toc-item-num\">3.7.1&nbsp;&nbsp;</span>Terminologia <a name=\"CP2-Terminologia\"></a></a></span></li></ul></li><li><span><a href=\"#Equações-impossíveis-\" data-toc-modified-id=\"Equações-impossíveis--3.8\"><span class=\"toc-item-num\">3.8&nbsp;&nbsp;</span>Equações impossíveis <a name=\"CP2-EqsImp\"></a></a></span><ul class=\"toc-item\"><li><span><a href=\"#A-notação-+=-\" data-toc-modified-id=\"A-notação-+=--3.8.1\"><span class=\"toc-item-num\">3.8.1&nbsp;&nbsp;</span>A notação <code>+=</code> <a name=\"CP2-Notacao\"></a></a></span></li></ul></li></ul></li><li><span><a href=\"#Variáveis-\" data-toc-modified-id=\"Variáveis--4\"><span class=\"toc-item-num\">4&nbsp;&nbsp;</span>Variáveis <a name=\"CP3-variaveis\"></a></a></span><ul class=\"toc-item\"><li><span><a href=\"#O-que-é-um-tipo?-\" data-toc-modified-id=\"O-que-é-um-tipo?--4.1\"><span class=\"toc-item-num\">4.1&nbsp;&nbsp;</span>O que é um tipo? <a name=\"CP3-o-que-e-um-tipo\"></a></a></span></li></ul></li></ul></div>"
   ]
  },
  {
   "cell_type": "markdown",
   "metadata": {},
   "source": [
    "## Referências\n",
    "\n",
    "* [Python Tutorial](https://docs.python.org/3.7/tutorial/)\n",
    "\n",
    "* [The Python Language Reference](https://docs.python.org/3.7/reference/index.html)  \n",
    "\n",
    "* [Python Reserved Words](https://docs.python.org/3.7/reference/lexical_analysis.html#keywords)\n",
    "\n",
    "* [Python builtin module](http://docs.python.org/3.7/library/functions.html#built-in-functions)\n",
    "\n",
    "* [Python Standard Library](http://docs.python.org/3.7/library/)\n",
    "\n",
    "* [Code Like a Pythonista: Idiomatic Python](https://david.goodger.org/projects/pycon/2007/idiomatic/handout.html)\n",
    "\n",
    "* [Python Package Index](https://pypi.python.org/pypi)"
   ]
  },
  {
   "cell_type": "markdown",
   "metadata": {},
   "source": [
    "# Estrutura da Linguagem de Programação Python <a name=\"CP2-LingPython\"></a>\n",
    "\n",
    "\n",
    "Python é uma linguagem de altíssimo nível (em inglês, *Very High Level Language*) orientada a objeto, de tipagem dinâmica e forte, interpretada e interativa. Ela atualmente é muito popular, por ser fácil e agradável de lidar. Além disso ela é multiplataforma, ou seja, há interpretatodres python para diversos sitemas operacionais, entre eles pode-se citar, os tipo UNIX como o GNU/Linux, o Windows, o Mac OS X, etc.\n",
    "\n",
    "\n",
    "## Características <a name=\"CP2-caracteristicas\"></a>\n",
    "\n",
    "\n",
    "O Python possui uma sintaxe clara e concisa, que favorece a legibilidade do código fonte, tornando a linguagem mais produtiva. Ela é muito expressiva, o que significa que em geral um código em python deve conter menos linhas de programação do que em outras linguagesn de alto nível, como C/C++, Fortran, etc. \n",
    "\n",
    "A linguagem inclui diversas estruturas de alto nível (listas, dicionários, data/hora, complexos e outras) e uma vasta coleção de módulos prontos para uso, além de *frameworks* de terceiros que podem ser adicionados. Também possui\n",
    "recursos encontrados em outras linguagens modernas, tais como: geradores, introspecção, persistência, metaclasses e unidades de teste. Multiparadigma, a linguagem suporta programação modular e funcional, além da orientação a objetos. Mesmo os tipos básicos no Python são objetos. A linguagem é interpretada através de bytecode pela máquina virtual Python, tornando o código portável. Com isso é possível compilar aplicações em uma plataforma e rodar em outros sistemas ou executar direto do código fonte.\n",
    "\n",
    "Python é um software de código aberto (com licença compatível com a *General Public License (GPL)*, porém menos restritiva, permitindo que o Python seja inclusive incorporado em produtos proprietários). A especificação da linguagem é mantida pela *Python Software Foundation (PSF)*.\n",
    "\n",
    "É possível integrar o Python a outras linguagens, como a Linguagem C e Fortran. Em termos gerais, a linguagem apresenta muitas similaridades com outras linguagens dinâmicas, como Perl e Ruby.\n",
    "\n",
    "\n",
    "\n",
    "## Tipagem Dinâmica <a name=\"CP2-tip-din\"></a>\n",
    "\n",
    "Python utiliza tipagem dinâmica, o que significa que o tipo de uma variável é inferido pelo interpretador em tempo de execução (isto é conhecido como *Duck Typing*). No momento em que uma variável é criada através de atribuição, o interpretador define um tipo para a variável, com as operações que podem ser aplicadas.\n",
    "\n",
    "A tipagem do Python é forte, ou seja, o interpretador verifica se as operações são válidas e não faz coerções automáticas entre tipos incompatíveis. No python, coerções são realizadas automaticamente apenas entre tipos que são\n",
    "claramente relacionados, como inteiro e inteiro longo. Para realizar a operação entre tipos não compatíveis, é necessário converter explicitamente o tipo da variável ou variáveis antes da operação.\n",
    "\n",
    "\n",
    "##  Compilação e interpretação <a name=\"CP2-Comp-interp\"></a>\n",
    "\n",
    "\n",
    "O código fonte é traduzido pelo Python para *bytecode*, que é um formato binário com instruções para o interpretador. O *bytecode* é multiplataforma e pode ser distribuído e executado sem o arquivo fonte original.\n",
    "\n",
    "Por padrão, o interpretador compila o código e armazena o *bytecode* em disco, para que a próxima vez que o executar, não precise compilar novamente o programa, reduzindo o tempo de carga na execução. Se os arquivos fontes\n",
    "forem alterados, o interpretador se encarregará de regerar o *bytecode* automaticamente, mesmo utilizando o shell interativo. Quando um programa ou um módulo é evocado, o interpretador realiza a análise do código, converte para símbolos, compila (se não houver *bytecode* atualizado em disco) e executa na máquina virtual Python.\n",
    "\n",
    "O *bytecode* é armazenado em arquivos com extensão \".pyc\" (*bytecode* normal) ou \".pyo\" (*bytecode* otimizado). O *bytecode* também pode ser empacotado junto com o interpretador em um executável, para facilitar a distribuição da aplicação, eliminando a necessidade de instalar Python em cada computador.\n",
    "\n",
    "## Origem <a name=\"CP2-Origem\"></a>\n",
    "\n",
    "\n",
    "O nome Python foi tirado por Guido van Rossum do programa da TV britânica *Monty Python Flying Circus*, e existem várias referências na documentação da linguagem ao programa, como, por exemplo, o repositório oficial de pacotes do Python se chamava *Cheese Shop*, que era o nome de um dos quadros do programa. Atualmente, o nome do repositório é [Python Package Index (PYPI)](http://pypi.python.org/pypi).\n",
    "\n",
    "A comunidade de usuários de Python criou algumas expressões para se referir aos assuntos relacionados à linguagem. Neste jargão, o termo *Pythonic* é usado para indicar que algo é compatível com as premissas de projeto do Python, e *Unpythonic* significa o oposto. Já o usuário da linguagem é chamado de *Pythonist*.\n",
    "\n",
    "As metas do projeto foram resumidas por Tim Peters em um texto chamado Zen of Python, que está disponível no próprio Python através do comando:\n",
    "\n",
    "```python\n",
    "import this\n",
    "```"
   ]
  },
  {
   "cell_type": "code",
   "execution_count": 1,
   "metadata": {
    "ExecuteTime": {
     "end_time": "2019-08-13T19:42:39.947275Z",
     "start_time": "2019-08-13T19:42:39.936025Z"
    }
   },
   "outputs": [
    {
     "name": "stdout",
     "output_type": "stream",
     "text": [
      "The Zen of Python, by Tim Peters\n",
      "\n",
      "Beautiful is better than ugly.\n",
      "Explicit is better than implicit.\n",
      "Simple is better than complex.\n",
      "Complex is better than complicated.\n",
      "Flat is better than nested.\n",
      "Sparse is better than dense.\n",
      "Readability counts.\n",
      "Special cases aren't special enough to break the rules.\n",
      "Although practicality beats purity.\n",
      "Errors should never pass silently.\n",
      "Unless explicitly silenced.\n",
      "In the face of ambiguity, refuse the temptation to guess.\n",
      "There should be one-- and preferably only one --obvious way to do it.\n",
      "Although that way may not be obvious at first unless you're Dutch.\n",
      "Now is better than never.\n",
      "Although never is often better than *right* now.\n",
      "If the implementation is hard to explain, it's a bad idea.\n",
      "If the implementation is easy to explain, it may be a good idea.\n",
      "Namespaces are one honking great idea -- let's do more of those!\n"
     ]
    }
   ],
   "source": [
    "import this"
   ]
  },
  {
   "cell_type": "markdown",
   "metadata": {},
   "source": [
    "O texto enfatiza a postura pragmática do *Benevolent Dictator for Life (BDFL)*, como Guido é conhecido na comunidade Python.\n",
    "\n",
    "\n",
    "## Sintaxe  <a name=\"CP2-Sintaxe\"></a>\n",
    "\n",
    "\n",
    "Um programa feito em Python é constituído de linhas, que podem continuar nas linhas seguintes, pelo uso do caractere de barra invertida (\\) ao final da linha ou parênteses, colchetes ou chaves, em expressões que utilizam tais caracteres.\n",
    "\n",
    "O caractere `#` marca o inicio de comentário. Qualquer texto depois do `#` será ignorado até o fim da linha , com exceção dos comentários funcionais. \n",
    "\n",
    "Comentários funcionais são usados para:\n",
    "\n",
    "* alterar a codificação do arquivo fonte do programa acrescentando um comentário com o texto \"`#-*- coding: <encoding> -*#-`\" no inicio do arquivo, no qual <encoding> é a codificação do arquivo (geralmente latin1 ou utf-8). Alterar a codificação é necessário para suportar caracteres que não fazem parte da linguagem inglesa, no código fonte do programa.\n",
    "\n",
    "* definir o interpretador que será utilizado para rodar o programa em sistemas UNIX, através de um comentário começando com \"`#!`\" no inicio do arquivo, que indica o caminho para o interpretador (geralmente a linha de comentário será algo como \"`#!/usr/bin/env python`\").\n",
    "\n",
    "Exemplo de comentários funcionais:\n",
    "\n",
    "```python\n",
    "#!/usr/bin/env python3\n",
    "# -*- coding: utf-8 -*-\n",
    "# Uma linha de código que mostra o resultado de 7 vezes 3\n",
    "print(7 * 3)\n",
    "```\n",
    "\n",
    "Exemplos de um código com quebra de linhas:\n",
    "\n",
    "```python\n",
    "#!/usr/bin/env python3\n",
    "# -*- coding: utf-8 -*-\n",
    "# Uma linha quebrada por contra-barra\n",
    "a = 7 * 3 + \\\n",
    "    5 / 2\n",
    "# Uma chamada de função (quebrada por vírgula)\n",
    "c = list(range(1,\n",
    "               11))\n",
    "# Uma continuação de linha implicita\n",
    "d = list(range(\n",
    "    1,6))\n",
    "# imprime todos na tela\n",
    "print(a, b, c, d)\n",
    "```"
   ]
  },
  {
   "cell_type": "code",
   "execution_count": 2,
   "metadata": {
    "ExecuteTime": {
     "end_time": "2019-08-13T19:53:06.875259Z",
     "start_time": "2019-08-13T19:53:06.870712Z"
    }
   },
   "outputs": [
    {
     "name": "stdout",
     "output_type": "stream",
     "text": [
      "28.5 ['a', 'b', 'c', 1, 3.5, 'd', 'e'] [1, 2, 3, 4, 5, 6, 7, 8, 9, 10] [1, 2, 3, 4, 5]\n"
     ]
    }
   ],
   "source": [
    "# Uma linha quebrada por contra-barra\n",
    "a = 7 * 3 + \\\n",
    "    5 / 2 + 5\n",
    "# Uma lista (quebrada por vírgula)\n",
    "b = ['a', 'b', 'c', 1, 3.5, \n",
    "     'd', 'e']\n",
    "# Uma chamada de função (quebrada por vírgula)\n",
    "c = list(range(1,\n",
    "               11))\n",
    "# Uma continuação de linha implicita\n",
    "d = list(range(\n",
    "    1,6))\n",
    "# imprime todos na tela\n",
    "print(a, b, c, d)"
   ]
  },
  {
   "cell_type": "markdown",
   "metadata": {},
   "source": [
    "No código abaixo mostramos a tabuada dos 7:"
   ]
  },
  {
   "cell_type": "code",
   "execution_count": 3,
   "metadata": {
    "ExecuteTime": {
     "end_time": "2019-08-13T19:54:34.500140Z",
     "start_time": "2019-08-13T19:54:34.496230Z"
    }
   },
   "outputs": [
    {
     "name": "stdout",
     "output_type": "stream",
     "text": [
      "Como é fácil programar em python\n",
      "7 x 3 =  21\n"
     ]
    }
   ],
   "source": [
    "print(\"Como é fácil programar em python\")\n",
    "print(\"7 x 3 = \", 7 * 3) # Temos uma operação de multiplicação"
   ]
  },
  {
   "cell_type": "code",
   "execution_count": 4,
   "metadata": {
    "ExecuteTime": {
     "end_time": "2019-08-13T19:55:45.283273Z",
     "start_time": "2019-08-13T19:55:45.276156Z"
    }
   },
   "outputs": [
    {
     "name": "stdout",
     "output_type": "stream",
     "text": [
      "Como é fácil programar em python\n",
      "7 x 0 =  0\n",
      "7 x 1 =  7\n",
      "7 x 2 =  14\n",
      "7 x 3 =  21\n",
      "7 x 4 =  28\n",
      "7 x 5 =  35\n",
      "7 x 6 =  42\n",
      "7 x 7 =  49\n",
      "7 x 8 =  56\n",
      "7 x 9 =  63\n",
      "7 x 10 =  70\n",
      "Finalizamos a tabuada\n",
      "Realmente é muito fácil programar em python\n"
     ]
    }
   ],
   "source": [
    "# Aqui vamos gerar a tabuada dos 7\n",
    "print(\"Como é fácil programar em python\")\n",
    "M = \"7 x \"\n",
    "for i in range(0,11):\n",
    "    m = M + str(i) + \" = \"\n",
    "    print(m, 7 *i)\n",
    "print(\"Finalizamos a tabuada\")\n",
    "print(\"Realmente é muito fácil programar em python\")"
   ]
  },
  {
   "cell_type": "markdown",
   "metadata": {},
   "source": [
    "Aqui você deve gerar a tabuada de 8 e 9 uma ao lado da outra. A saída ainda não está formatada"
   ]
  },
  {
   "cell_type": "code",
   "execution_count": 1,
   "metadata": {
    "ExecuteTime": {
     "end_time": "2019-08-13T00:04:12.668764Z",
     "start_time": "2019-08-13T00:04:12.659564Z"
    },
    "scrolled": true
   },
   "outputs": [
    {
     "name": "stdout",
     "output_type": "stream",
     "text": [
      "8 x 0 =  0     9 x 0 =  0\n",
      "8 x 1 =  8     9 x 1 =  9\n",
      "8 x 2 =  16     9 x 2 =  18\n",
      "8 x 3 =  24     9 x 3 =  27\n",
      "8 x 4 =  32     9 x 4 =  36\n",
      "8 x 5 =  40     9 x 5 =  45\n",
      "8 x 6 =  48     9 x 6 =  54\n",
      "8 x 7 =  56     9 x 7 =  63\n",
      "8 x 8 =  64     9 x 8 =  72\n",
      "8 x 9 =  72     9 x 9 =  81\n",
      "8 x 10 =  80     9 x 10 =  90\n"
     ]
    }
   ],
   "source": [
    "# Aqui vamos gerar a tabuada de 8 e 9 uma ao lado da outra\n",
    "# A saída não está formatada\n",
    "for i in range(0,11):\n",
    "    m8 = \"8 x \" + str(i) + \" = \"\n",
    "    m9 = \"9 x \" + str(i) + \" = \"\n",
    "    print(m8, 8*i, \"   \" ,m9, 9*i)"
   ]
  },
  {
   "cell_type": "code",
   "execution_count": 8,
   "metadata": {
    "ExecuteTime": {
     "end_time": "2019-08-13T19:58:19.839070Z",
     "start_time": "2019-08-13T19:58:19.832822Z"
    }
   },
   "outputs": [
    {
     "name": "stdout",
     "output_type": "stream",
     "text": [
      "Bonito Bonito Bonito Bonito \n",
      "Bonito Bonito Bonito \n",
      "====================================================================== <class 'str'>\n",
      "1.0 <class 'float'>\n"
     ]
    }
   ],
   "source": [
    "a = \"Bonito \"\n",
    "print(4*a)\n",
    "b = 3*a\n",
    "print(b)\n",
    "c =  70 * \"=\"\n",
    "print(c, type(c))\n",
    "c=1.0\n",
    "print(c, type(c))"
   ]
  },
  {
   "cell_type": "markdown",
   "metadata": {},
   "source": [
    "## Palavras-chave\n",
    "\n",
    "\n",
    "(veja http://www.programiz.com/python-programming/keyword-list)\n",
    "\n",
    "A seguir mostramos como listar todas as palavras reservadas do python."
   ]
  },
  {
   "cell_type": "code",
   "execution_count": 9,
   "metadata": {
    "ExecuteTime": {
     "end_time": "2019-08-13T19:58:52.289657Z",
     "start_time": "2019-08-13T19:58:52.285847Z"
    }
   },
   "outputs": [
    {
     "name": "stdout",
     "output_type": "stream",
     "text": [
      "['False', 'None', 'True', 'and', 'as', 'assert', 'break', 'class', 'continue', 'def', 'del', 'elif', 'else', 'except', 'finally', 'for', 'from', 'global', 'if', 'import', 'in', 'is', 'lambda', 'nonlocal', 'not', 'or', 'pass', 'raise', 'return', 'try', 'while', 'with', 'yield']\n"
     ]
    }
   ],
   "source": [
    "# Todas as palavras-chave\"\n",
    "import keyword\n",
    "print(keyword.kwlist)"
   ]
  },
  {
   "cell_type": "code",
   "execution_count": 10,
   "metadata": {
    "ExecuteTime": {
     "end_time": "2019-08-13T19:59:37.835735Z",
     "start_time": "2019-08-13T19:59:37.829654Z"
    }
   },
   "outputs": [
    {
     "data": {
      "text/plain": [
       "['__all__',\n",
       " '__builtins__',\n",
       " '__cached__',\n",
       " '__doc__',\n",
       " '__file__',\n",
       " '__loader__',\n",
       " '__name__',\n",
       " '__package__',\n",
       " '__spec__',\n",
       " 'iskeyword',\n",
       " 'kwlist',\n",
       " 'main']"
      ]
     },
     "execution_count": 10,
     "metadata": {},
     "output_type": "execute_result"
    }
   ],
   "source": [
    "dir(keyword)"
   ]
  },
  {
   "cell_type": "code",
   "execution_count": 11,
   "metadata": {
    "ExecuteTime": {
     "end_time": "2019-08-13T20:01:42.090783Z",
     "start_time": "2019-08-13T20:01:42.086627Z"
    }
   },
   "outputs": [
    {
     "name": "stdout",
     "output_type": "stream",
     "text": [
      "Help on built-in function __contains__:\n",
      "\n",
      "__contains__(...) method of builtins.frozenset instance\n",
      "    x.__contains__(y) <==> y in x.\n",
      "\n"
     ]
    }
   ],
   "source": [
    "help(keyword.iskeyword)"
   ]
  },
  {
   "cell_type": "markdown",
   "metadata": {},
   "source": [
    "Em grupos:\n",
    "\n",
    "- `False`, `True`, `None`: valores pré-definidos (os dois booleanos, e um \"_void_\")\n",
    "- `and`, `or`, `not`: conectores lógicos\n",
    "- `in`: operador lógico \"_pertence a_\" (`not in` também existe)\n",
    "- `break`, `continue` ; `if`, `else`, `elif` ; `while`: estruturas de controle de fluxo\n",
    "\n",
    "- `for ... in`: iterador\n",
    "- `def`, `lambda`, `class`, `pass`: definindo funções e classes\n",
    "- `return`, `yield`: retornando de funções e iteradores\n",
    "\n",
    "- `raise`; `try`, `except`, `else`, `finally`: usando excessões\n",
    "\n",
    "- `from`, `import`, `as`: usando módulos\n",
    "\n",
    "Partes mais avançadas:\n",
    "\n",
    "- `assert`: debug\n",
    "\n",
    "- `del`: apaga uma variável do contexto (ou de uma lista / dicionário)\n",
    "- `global`, `nonlocal`: força uma variável a ser considerada global / mais geral do que o contexto da função atual\n",
    "\n",
    "- `is`: igualdade física (ao contrário de ==, que é igualdade semântica) (também existe `is not`)\n",
    "- `with`, `as`: gestão de recursos"
   ]
  },
  {
   "cell_type": "markdown",
   "metadata": {},
   "source": [
    "## Operadores\n",
    "\n",
    "\n",
    "Aritméticos:\n",
    "\n",
    "Propriedades das tabelas:\n",
    "\n",
    "\n",
    " *   :--- ou --- =  alinhamento à esquerda\n",
    " *   ---: = alinhamento à direita\n",
    " *   :---: = centrado \n",
    "\n",
    "\n",
    "|Operador|Descrição|Exemplo |\n",
    "|:--:|-------------------------------|-------------------------------|\n",
    "|+|Soma| 2+3  = 8   e   'a'+'b' = 'ab' |\n",
    "|-|Subtração| 7-2= 5  |\n",
    "|*|Multiplicação| 2 * 3 = 6.   e  'Bla! '*3 = 'Bla! Bla! Bla! ' |\n",
    "|/|Divisão| 8/2 = 4  e   |\n",
    "|**|Potência| |\n",
    "|//| Divisão inteira| |\n",
    "|%|função mod. Divisão inteira| |\n",
    "\n",
    "    +       -       *       **      /       //      %  \n",
    "    <<      >>\n",
    "\n",
    "Lógicos\n",
    "\n",
    "    &       |       ^       ~\n",
    "\n",
    "Comparação\n",
    "\n",
    "    <       >       <=      >=      ==      !=\n"
   ]
  },
  {
   "cell_type": "markdown",
   "metadata": {},
   "source": [
    "## Símbolos especiais\n",
    "\n",
    "\n",
    "### Grupos\n",
    "\n",
    "- `()` : listas de argumentos, precedência\n",
    "- `[]` : construir listas, indexar listas e dicionários, \"fatiar\" listas\n",
    "- `{}` : conjuntos e dicionários\n",
    "\n",
    "Operadores com uso e atribuição da mesma variável: `a $= b` é equivalente a `a = a $ b`\n",
    "\n",
    "    +=      -=      *=      **=     /=      //=     %=\n",
    "    <<=     >>= \n",
    "    &=      |=      ^=\n",
    "\n",
    "### Outros\n",
    "\n",
    "- `=` : atribuição\n",
    "- `,` : separador de elementos em listas (tanto com `[]` como em funções)\n",
    "- `:` : separador de blocos (`if`, `def`, `for`, ...)\n",
    "- `.` : acesso de propriedades (`math.pi`)\n",
    "- `;` : seqüência (quase nunca utilizado)\n",
    "- `@` : decorador\n",
    "- `->` : anotação de funções\n"
   ]
  },
  {
   "cell_type": "markdown",
   "metadata": {},
   "source": [
    "## Blocos <a name=\"CP2-Blocos\"></a>\n",
    "\n",
    "\n",
    "Em Python, os blocos de código são delimitados pelo uso de endentação, que deve ser constante no bloco de código, porém é considerada uma boa prática manter a consistência no projeto todo e evitar a mistura tabulações e espaços.\n",
    "\n",
    "A linha anterior ao bloco sempre termina com dois pontos (:) e representa uma estrutura de controle da linguagem ou uma declaração de uma nova estrutura (uma função, por exemplo).\n",
    "\n",
    "#### Grandes descobertas da física\n",
    "\n",
    "* **1543 - Modelo heliocêntrico:** \n",
    "Em 300 a.C., o grego Aristarco de Samos já defendia que a Terra girava em torno do Sol. Mas foi só com o astrônomo polonês Nicolau Copérnico (1473-1543) que a hipótese ganhou uma base matemática. \n",
    "\n",
    "* **1618 - 3ª Lei de Kepler:** \n",
    "O alemão Johannes Kepler (1571-1630) era um dos poucos defensores da teoria de Copérnico, descobriu que, quanto mais perto um planeta estivesse do Sol, maior seria a velocidade de sua órbita.\n",
    "\n",
    "* **1686 - Teoria da gravitação:** \n",
    "O físico inglês Isaac Newton (1643-1727) descobriu há uma força de atração entre dois corpos massivos, diretamente proporcional ao porduto das massas e inversamente proporcional ao quadrado da distância entre os corpos. \n",
    "\n",
    "* **1803 - Teoria atômica:** \n",
    "O grego Demócrito já defendia em 400 a.C, que a matéria é constituída de átomos. Entretanto foi o químico inglês John Dalton (1766-1844) que ao observar que cada tipo de gás numa mistura se comportava de um jeito diferente, ele então concluiu que eles eram formados por átomos diferentes. \n",
    "\n",
    "* **1873 - Força eletro-magnética:** \n",
    "O físico escocês James Clerk Maxwell (1831-1879), unificou o eletromagnetismo com a óptica ao escrever as chamadas quatro equações de Maxwell.\n",
    "\n",
    "* **1901 - Teoria dos quanta:** \n",
    "O físico alemão Max Planck (1858-1947), em uma tentativa desesperada para explicar o espectro de radiação do corpo negro lançou a hipótese da quantização da energia, para resolver o problema. \n",
    "\n",
    "\n",
    "* **1905 - Teoria da Relatividade Especial:** \n",
    "O físico alemão Albert Einstein (1879-1955) para compatibilzar o eletromagnetismo com a física clássica, foi necessário introduzir as transformações de Lorentz e dai surgiu a relatividade restrita.\n",
    "\n",
    "* **1916 - Teoria da Relatividade Geral:** \n",
    "O físico alemão Albert Einstein (1879-1955), apoiado nos trabalhos de Hermann Minkowski (1864-1909), Einstein generalizou a Teoria da Gravitação de Newton, a qual tem implicações profundas, já que a atração gravitacional não é mais interpretada como uma força, mas como o resultado da geometria do espaço-tempo. Resumindo: quanto mais massa um corpo tiver, mais deforma essa geometria. E, maior a deformação, maior será a gravidade.\n",
    "\n",
    "* **1927 - Teoria quântica:** \n",
    "O físico alemão Werner Heisenberg (1901-1976) formulou sua mecânica matricial para descrever as partícuals atômicas. A década de 1920 foi extremamente frutífera para a física atômica e diversos físsicos contribuiram para seu desenvolvimanto: Niels Bohr, Wolfgang Pauli, Paul A. M. Dirac, Erwin Schrödinger, Max Born, etc.\n",
    "\n",
    "* **1948 - Modelo do Big Bang:** \n",
    "O astrônomo americano Edwin Hubble (1889-1953) percebeu, em 1924, que as galáxias se afastam umas das outras. Com base nisso, o físico russo George Gamow (1904-1968) imaginou que toda a matéria já se reuniu em um ponto infinitesimal, que “explodiu” há 15 bilhões de anos num evento batizado de Big Bang. O Universo ganhava uma data de nascimento.\n",
    "\n",
    "\n",
    "\n",
    "### Exemplo de uso de um bloco \n",
    "\n",
    "\n",
    "Considere por exemplo o seguinte loop em uma lista contendo os anos das descobertas relacionadas ao texto acima:\n",
    "\n",
    "```python\n",
    "# Para i na lista 1543, 1618, 1686, 1803, 1873, 1901, 1905, 1916, 1927, 1948:\n",
    "for i in [1543, 1618, 1686, 1803, 1873, 1901, 1905, 1916, 1927, 1948]:\n",
    "    # Se o resto dividindo por 4 for igual a zero:\n",
    "    if i % 4 == 0:\n",
    "       # Imprime...\n",
    "       print (\"O ano {0:d} pode ser bisexto, pois {0:d}/4 = {1:7.3f}\".format(i,i/4.0))\n",
    "```"
   ]
  },
  {
   "cell_type": "code",
   "execution_count": 12,
   "metadata": {
    "ExecuteTime": {
     "end_time": "2019-08-13T20:09:07.272487Z",
     "start_time": "2019-08-13T20:09:07.267016Z"
    },
    "scrolled": true
   },
   "outputs": [
    {
     "name": "stdout",
     "output_type": "stream",
     "text": [
      "O ano 1916 pode ser bisexto, pois 1916/4 = 479.000\n",
      "Eu anda não sei o que é um ano bisexto\n",
      "O ano 1948 pode ser bisexto, pois 1948/4 = 487.000\n",
      "Eu anda não sei o que é um ano bisexto\n",
      "Acabou\n"
     ]
    }
   ],
   "source": [
    "# Para i na lista 1543, 1618, 1686, 1803, 1873, 1901, 1905, 1916, 1927, 1948:\n",
    "for i in [1543, 1618, 1686, 1803, 1873, 1901, 1905, 1916, 1927, 1948]:\n",
    "    # Se o resto dividindo por 4 for igual a zero:\n",
    "    if i % 4 == 0:\n",
    "       # Imprime...\n",
    "       print (\"O ano {0:d} pode ser bisexto, pois {0:d}/4 = {1:7.3f}\".format(i,i/4.0))\n",
    "       print(\"Eu anda não sei o que é um ano bisexto\")\n",
    "print(\"Acabou\")"
   ]
  },
  {
   "cell_type": "markdown",
   "metadata": {},
   "source": [
    "Aqui você deve gerar a tabuada de 8 e 9 uma ao lado da outra. Agora a saída deve estar formatada"
   ]
  },
  {
   "cell_type": "code",
   "execution_count": null,
   "metadata": {
    "ExecuteTime": {
     "end_time": "2018-07-25T15:44:00.334579Z",
     "start_time": "2018-07-25T15:44:00.329036Z"
    }
   },
   "outputs": [],
   "source": [
    "for i in range(1,11):\n",
    "    tabela = \"8 x {0:2d} = {1:2d}      9 x {0:2d} = {2:2d}\".format(i,i*8, i*9)\n",
    "    print(tabela)"
   ]
  },
  {
   "cell_type": "markdown",
   "metadata": {},
   "source": [
    "Aqui você deve gerar a tabuada de 1 e 9, em trẽs colunas uma ao lado da outra. Agora a saída deve estar formatada."
   ]
  },
  {
   "cell_type": "code",
   "execution_count": 13,
   "metadata": {
    "ExecuteTime": {
     "end_time": "2019-08-13T20:10:30.356312Z",
     "start_time": "2019-08-13T20:10:30.346252Z"
    }
   },
   "outputs": [
    {
     "name": "stdout",
     "output_type": "stream",
     "text": [
      "1 x  1 =  1     2 x  1 =  2     3 x  1 =  3\n",
      "1 x  2 =  2     2 x  2 =  4     3 x  2 =  6\n",
      "1 x  3 =  3     2 x  3 =  6     3 x  3 =  9\n",
      "1 x  4 =  4     2 x  4 =  8     3 x  4 = 12\n",
      "1 x  5 =  5     2 x  5 = 10     3 x  5 = 15\n",
      "1 x  6 =  6     2 x  6 = 12     3 x  6 = 18\n",
      "1 x  7 =  7     2 x  7 = 14     3 x  7 = 21\n",
      "1 x  8 =  8     2 x  8 = 16     3 x  8 = 24\n",
      "1 x  9 =  9     2 x  9 = 18     3 x  9 = 27\n",
      "1 x 10 = 10     2 x 10 = 20     3 x 10 = 30\n",
      "\n",
      "4 x  1 =  4     5 x  1 =  5     6 x  1 =  6\n",
      "4 x  2 =  8     5 x  2 = 10     6 x  2 = 12\n",
      "4 x  3 = 12     5 x  3 = 15     6 x  3 = 18\n",
      "4 x  4 = 16     5 x  4 = 20     6 x  4 = 24\n",
      "4 x  5 = 20     5 x  5 = 25     6 x  5 = 30\n",
      "4 x  6 = 24     5 x  6 = 30     6 x  6 = 36\n",
      "4 x  7 = 28     5 x  7 = 35     6 x  7 = 42\n",
      "4 x  8 = 32     5 x  8 = 40     6 x  8 = 48\n",
      "4 x  9 = 36     5 x  9 = 45     6 x  9 = 54\n",
      "4 x 10 = 40     5 x 10 = 50     6 x 10 = 60\n",
      "\n",
      "7 x  1 =  7     8 x  1 =  8     9 x  1 =  9\n",
      "7 x  2 = 14     8 x  2 = 16     9 x  2 = 18\n",
      "7 x  3 = 21     8 x  3 = 24     9 x  3 = 27\n",
      "7 x  4 = 28     8 x  4 = 32     9 x  4 = 36\n",
      "7 x  5 = 35     8 x  5 = 40     9 x  5 = 45\n",
      "7 x  6 = 42     8 x  6 = 48     9 x  6 = 54\n",
      "7 x  7 = 49     8 x  7 = 56     9 x  7 = 63\n",
      "7 x  8 = 56     8 x  8 = 64     9 x  8 = 72\n",
      "7 x  9 = 63     8 x  9 = 72     9 x  9 = 81\n",
      "7 x 10 = 70     8 x 10 = 80     9 x 10 = 90\n",
      "\n"
     ]
    }
   ],
   "source": [
    "spc = 5 * \" \"\n",
    "for j in [1, 4, 7]:\n",
    "    tabela = str(j) + \" x {0:2d} = {1:2d}\"\n",
    "    for k in range(1,3):\n",
    "        tabela = tabela + spc + str(j+k) + \" x {0:2d} = {\"+str(k+1) +\":2d}\"\n",
    "    for i in range(1,11):\n",
    "        tab = tabela.format(i,i*j,i*(j+1),i*(j+2))\n",
    "        print(tab)\n",
    "    print(\"\")"
   ]
  },
  {
   "cell_type": "markdown",
   "metadata": {},
   "source": [
    "## Objetos <a name=\"CP2-Objetos\"></a>\n",
    "\n",
    "\n",
    "Python é uma linguagem orientada a objeto, sendo assim as estruturas de dados possuem atributos (os dados em si) e métodos (rotinas associadas aos dados). Tanto os atributos quanto os métodos são acessados usando ponto (.).\n",
    "\n",
    "* Para mostrar um atributo:\n",
    "\n",
    "```python\n",
    "print(objeto.atributo)\n",
    "```\n",
    "\n",
    "* Para executar um método:\n",
    "\n",
    "```python\n",
    "objeto.metodo(argumentos)\n",
    "```\n",
    "\n",
    "* Mesmo um método sem argumentos precisa de parênteses:\n",
    "\n",
    "```python\n",
    "objeto.metodo()\n",
    "```\n",
    "\n",
    "O ponto também é usado para acessar estruturas de módulos que foram importados pelo programa."
   ]
  },
  {
   "cell_type": "markdown",
   "metadata": {},
   "source": [
    "# Usando o Python Como Uma poderosa calculadora <a name=\"CP2-Calculadora\"></a>"
   ]
  },
  {
   "cell_type": "markdown",
   "metadata": {},
   "source": [
    "## O prompt do Python: Ler-Calcular-Imprimir e a Repetição (REPL) <a name=\"CP2-REPL\"></a>\n",
    "\n",
    "\n",
    "Python é uma *linguagem interpretada*. Pode-se coletar uma sequência de comandos dentro de um arquivo texto e salvar esse arquivo como um *programa Python*. Por conveção usa-se a extensão \"`.py`\", por exemplo `Ola.py`. \n",
    "\n",
    "Também pode-se inserir comandos individuais no prompt do Python que são imediatamente avaliados e executados pelo interpretador Python. Isso é muito útil para o programador iniciante entender como usar certos comandos (muitas vezes antes de colocar esses comandos em um programa Python mais longo). O papel do Python pode ser descrito como Ler o comando, Avaliar, Imprimir o valor avaliado e repetir (Loop) o ciclo - esta é a origem da abreviatura REPL.\n",
    "\n",
    "O Python vem com um prompt de terminal básico; Você pode ver exemplos disso com `>>>` marcando a entrada:\n",
    "\n",
    "\n",
    "```python\n",
    "    >>> 2 + 2\n",
    "    4\n",
    "```\n",
    "\n",
    "Estamos usando uma interface REPL poderosa, o ipython notebook, atualmente está disonível o poderoso [Jupyter Notebook](https://jupyter.org/). Blocos de código aparecem com um prompt `In` ao lado deles:"
   ]
  },
  {
   "cell_type": "code",
   "execution_count": null,
   "metadata": {},
   "outputs": [],
   "source": [
    "4 + 5 + 3"
   ]
  },
  {
   "cell_type": "markdown",
   "metadata": {},
   "source": [
    "Para editar o código, clique dentro da área de código. Você deve obter uma borda verde em torno dele. Para executá-lo, pressione Shift-Enter."
   ]
  },
  {
   "cell_type": "markdown",
   "metadata": {},
   "source": [
    "## Calculadora <a name=\"CP2-calculadora\"></a>\n",
    "\n",
    "\n",
    "Operações básicas, como adição (`+`), subtração (`-`), multiplicação (`*`), divisão (`/`) e exponenciação (`**`) funcionam como esperado:"
   ]
  },
  {
   "cell_type": "code",
   "execution_count": null,
   "metadata": {},
   "outputs": [],
   "source": [
    "10 + 100 + 1000 + 10000"
   ]
  },
  {
   "cell_type": "code",
   "execution_count": null,
   "metadata": {},
   "outputs": [],
   "source": [
    "4.75 - 1.15, 4 - 1.25"
   ]
  },
  {
   "cell_type": "code",
   "execution_count": null,
   "metadata": {},
   "outputs": [],
   "source": [
    "6.65 - 1.15, 9.15 - 3.25, 2.3 + 1.7"
   ]
  },
  {
   "cell_type": "code",
   "execution_count": null,
   "metadata": {},
   "outputs": [],
   "source": [
    "47 * 11"
   ]
  },
  {
   "cell_type": "code",
   "execution_count": null,
   "metadata": {},
   "outputs": [],
   "source": [
    "10 / 0.5"
   ]
  },
  {
   "cell_type": "code",
   "execution_count": null,
   "metadata": {},
   "outputs": [],
   "source": [
    "2**3   # Exponenciação ('elevar para a potẽncia de') é ** como no Fortran, e não o ^ como em outras linguagens."
   ]
  },
  {
   "cell_type": "code",
   "execution_count": null,
   "metadata": {},
   "outputs": [],
   "source": [
    "4**3 , 2**6"
   ]
  },
  {
   "cell_type": "code",
   "execution_count": null,
   "metadata": {},
   "outputs": [],
   "source": [
    "2**4"
   ]
  },
  {
   "cell_type": "code",
   "execution_count": null,
   "metadata": {},
   "outputs": [],
   "source": [
    "2 + 2"
   ]
  },
  {
   "cell_type": "code",
   "execution_count": null,
   "metadata": {},
   "outputs": [],
   "source": [
    "# Esse é um comentário. Tudo que ficar a direita desse simbolo não será \n",
    "# interpretado pelo interpretador do python\n",
    "4 + 3"
   ]
  },
  {
   "cell_type": "code",
   "execution_count": null,
   "metadata": {},
   "outputs": [],
   "source": [
    "2.3 + 5.1  # Aqui temo uma comentário na mesma linha de código"
   ]
  },
  {
   "cell_type": "markdown",
   "metadata": {},
   "source": [
    "e, usando o fato de que $\\sqrt[n]{x} = x^{1/n}$, podemos calcular $\\sqrt{3} = 1.732050\\dots$ usando o operador `**`:"
   ]
  },
  {
   "cell_type": "code",
   "execution_count": null,
   "metadata": {},
   "outputs": [],
   "source": [
    "3**0.5"
   ]
  },
  {
   "cell_type": "markdown",
   "metadata": {},
   "source": [
    "Os parenteses devem ser usadas para agrupar e definir a prioridade de determinadas operações:"
   ]
  },
  {
   "cell_type": "code",
   "execution_count": null,
   "metadata": {},
   "outputs": [],
   "source": [
    "3 * 15 + 5"
   ]
  },
  {
   "cell_type": "code",
   "execution_count": null,
   "metadata": {},
   "outputs": [],
   "source": [
    "3 * (15 + 5)"
   ]
  },
  {
   "cell_type": "markdown",
   "metadata": {},
   "source": [
    "## Divisão Inteira (Integer division) <a name=\"CP2-DivInt\"></a>\n",
    "\n",
    "\n",
    "No Python 3, a divisão funciona como espoerado, ou seja,"
   ]
  },
  {
   "cell_type": "code",
   "execution_count": null,
   "metadata": {},
   "outputs": [],
   "source": [
    "15/6"
   ]
  },
  {
   "cell_type": "markdown",
   "metadata": {},
   "source": [
    "Já no Python 2, a divisão `15/6` fornecerá como resultado  `2`.\n",
    "\n",
    "\n",
    "Este fenomeno é conhecido (em muitas linguages de programação, incluindo o Fortran e C) como *Divisão Inteira (integer division)*: Porque ao fornece dois números inteiros (`15` e` 6`) ao operador de divisão (`/`), a hipótese é que o valor que será retornado ddeve ser do tipo inteiro (integer). A resposta matematicamente correta é (um número de ponto flutuante) 2.5. (→ Para maiores detalhes veja tipos de dados numéricos em [Capítulo 13] (13-numeric-computation.ipynb).)\n",
    "\n",
    "A convenção para a divisão inteira é truncar os dígitos fracionários e retornar somente a parte inteira (isto é, `2` neste exemplo). É também chamado de \"floor division\".\n",
    "\n",
    "\n",
    "### Como evitar a divisão inteira  <a name=\"CP2-EvitarDivInt\"></a>\n",
    "\n",
    "Há dois modos de evitar o problema da divisão de inteiros:\n",
    "\n",
    "1. Use o estilo de divisão do Python 3: este estilo também está disponível no python 2 com a seguinte declaração:\n",
    "\n",
    "   ```python\n",
    "   >>> from __future__ import division\n",
    "   >>> 15/6\n",
    "   2.5\n",
    "   ```\n",
    "   \n",
    "    Se você quiser usar o recurso `from __future__ import division` em um programa python, ele normalmente deverá ser incluído no início do arquivo.\n",
    "\n",
    "\n",
    "2.  Alternativamente, se nos asseguramos de que pelo menos um número (numerador ou denominador) seja do tipo float (ou complexo), o operador de divisão retornará um número de ponto flutuante. Isso pode ser feito escrevendo `15.` em vez de` 15`, forçando a conversão do número para um float, ou seja, use `float (15)` em vez de `15`:\n",
    "\n",
    "   ```python\n",
    "   >>> 15./6\n",
    "   2.5\n",
    "   >>> float(15)/6\n",
    "   2.5\n",
    "   >>> 15/6.\n",
    "   2.5\n",
    "   >>> 15/float(6)\n",
    "   2.5\n",
    "   >>> 15./6.\n",
    "   2.5\n",
    "   ```\n",
    "\n",
    "Se realmente queremos uma divisão inteira, podemos usar `//`: `1//2` retorna 0, tanto no Python 2 como no 3.\n",
    "\n",
    "No exemplo a seguir forçamos uma divisão inteira, mesmo que tanto o numerador e denominador sejam reais:"
   ]
  },
  {
   "cell_type": "code",
   "execution_count": 14,
   "metadata": {
    "ExecuteTime": {
     "end_time": "2019-08-13T20:11:27.491809Z",
     "start_time": "2019-08-13T20:11:27.485653Z"
    }
   },
   "outputs": [
    {
     "data": {
      "text/plain": [
       "(4.0, 1)"
      ]
     },
     "execution_count": 14,
     "metadata": {},
     "output_type": "execute_result"
    }
   ],
   "source": [
    "9.0//2.0, 9 % 2"
   ]
  },
  {
   "cell_type": "markdown",
   "metadata": {},
   "source": [
    "### Por que eu deveria me preocupar com esse problema de divisão? <a name=\"CP2-PreocDivInt\"></a>\n",
    "\n",
    "A divisão inteira pode resultar em bugs surpreendentes: suponha que você esteja escrevendo código para calcular o valor médio $m = (x +  y )/2$ de dois números $x$ e $y$. A primeira tentativa de escrever isso pode ser:\n",
    "\n",
    "```python\n",
    "m = (x + y) / 2\n",
    "```\n",
    "\n",
    "Considere que isto seja testado com $x = 0.5$ e $y = 0.5$, então a linha acima calcula as respostas corretas $m  = 0.5$ (porque `0.5 + 0.5 = 1.0`, ou seja, 1.0 é um número de ponto flutuante e portanto, `1.0/2` equivale a `0.5`). Ou ainda pode-se usar $x= 10$, $y= 30$, e como `10 + 30 = 40` e `40/2` avaliam como `20`, obtemos a resposta correta $m= 20$. No entanto, Se os inteiros $x  = 0$ e $y=1$ surgissem, então o código retorna $m= 0$ (porque `0 + 1 = 1` e `1/2` é calcualdo como `0`) enquanto $m  = 0.5$ seria  a resposta certa.\n",
    "\n",
    "Temos muitas possibilidades de alterar a linha de código acima para trabalhar com segurança, incluindo estas três versões:\n",
    "\n",
    "\n",
    "```python\n",
    "m = (x + y) / 2.0\n",
    "\n",
    "m = float(x + y) / 2\n",
    "\n",
    "m = (x + y) * 0.5\n",
    "```\n",
    "\n",
    "Esse comportamento de divisão inteira é comum entre a maioria das linguagens de programação (incluindo as linguagens importantes tais como C, C ++ e Fortran), e é importante estar ciente do problema.\n"
   ]
  },
  {
   "cell_type": "markdown",
   "metadata": {},
   "source": [
    "## Estruturas de dados\n",
    "\n",
    "\n",
    "Referência: https://docs.python.org/3/tutorial/index.html, em especial https://docs.python.org/3/tutorial/introduction.html\n",
    "\n",
    "* Primitivas\n",
    "    - Números\n",
    "    - Strings e \"bytestrings\"\n",
    "* Compostas\n",
    "    - Listas, dicionários, conjuntos\n",
    "    - Pares e sequências"
   ]
  },
  {
   "cell_type": "markdown",
   "metadata": {},
   "source": [
    "## Números\n",
    "\n",
    "O computador, e em geral as liguagens de computação moderan reconhecem a saber três tipos de números:\n",
    "1. Inteiros;\n",
    "2. Reais, também conhecidos como números de ponto flutuantes, os **float**;\n",
    "3. Complexos.\n",
    "\n",
    "### Os números inteiros\n",
    "\n",
    "A seguir mostramos como identificamos um número inteiro, um real e um compĺexo"
   ]
  },
  {
   "cell_type": "code",
   "execution_count": 15,
   "metadata": {
    "ExecuteTime": {
     "end_time": "2019-08-13T20:12:27.247137Z",
     "start_time": "2019-08-13T20:12:27.240972Z"
    }
   },
   "outputs": [
    {
     "name": "stdout",
     "output_type": "stream",
     "text": [
      "1 <class 'int'>\n",
      "2.0 <class 'float'>\n",
      "(1+2j) <class 'complex'>\n"
     ]
    }
   ],
   "source": [
    "i=1     # inteiro\n",
    "x=2.0   # real ou float\n",
    "z=1+2j  # complexo\n",
    "print(i, type(i))\n",
    "print(x, type(x))\n",
    "print(z, type(z))"
   ]
  },
  {
   "cell_type": "code",
   "execution_count": null,
   "metadata": {},
   "outputs": [],
   "source": [
    "a = 2.0\n",
    "b = 3.0\n",
    "j=2\n",
    "z=10-4j\n",
    "print(z)"
   ]
  },
  {
   "cell_type": "markdown",
   "metadata": {},
   "source": [
    "Agora vamos avaliar o tipo de cada um:"
   ]
  },
  {
   "cell_type": "markdown",
   "metadata": {},
   "source": [
    "## Funções Matemáticas <a name=\"CP2-FuncoesMat\"></a>\n",
    "\n",
    "\n",
    "Como o Python é uma linguagem de programação de propósito geral, as funções matemáticas comumente usadas, como sin, cos, exp, log e muitas outras, estão localizadas no módulo de matemática com o nome `math`. Podemos fazer uso dele assim que o carregarmos com o comando `import math`, ou seja,:"
   ]
  },
  {
   "cell_type": "code",
   "execution_count": 16,
   "metadata": {
    "ExecuteTime": {
     "end_time": "2019-08-13T20:12:56.703276Z",
     "start_time": "2019-08-13T20:12:56.699738Z"
    }
   },
   "outputs": [
    {
     "data": {
      "text/plain": [
       "2.718281828459045"
      ]
     },
     "execution_count": 16,
     "metadata": {},
     "output_type": "execute_result"
    }
   ],
   "source": [
    "import math\n",
    "math.exp(1.0)"
   ]
  },
  {
   "cell_type": "markdown",
   "metadata": {},
   "source": [
    "Usando a função `dir`, ela mostra o diretório dos objetos disponibilizados no modulo carregado, nesse caso o módulo `math`:"
   ]
  },
  {
   "cell_type": "code",
   "execution_count": 17,
   "metadata": {
    "ExecuteTime": {
     "end_time": "2019-08-13T20:12:59.790289Z",
     "start_time": "2019-08-13T20:12:59.785879Z"
    }
   },
   "outputs": [
    {
     "data": {
      "text/plain": [
       "['__doc__',\n",
       " '__loader__',\n",
       " '__name__',\n",
       " '__package__',\n",
       " '__spec__',\n",
       " 'acos',\n",
       " 'acosh',\n",
       " 'asin',\n",
       " 'asinh',\n",
       " 'atan',\n",
       " 'atan2',\n",
       " 'atanh',\n",
       " 'ceil',\n",
       " 'copysign',\n",
       " 'cos',\n",
       " 'cosh',\n",
       " 'degrees',\n",
       " 'e',\n",
       " 'erf',\n",
       " 'erfc',\n",
       " 'exp',\n",
       " 'expm1',\n",
       " 'fabs',\n",
       " 'factorial',\n",
       " 'floor',\n",
       " 'fmod',\n",
       " 'frexp',\n",
       " 'fsum',\n",
       " 'gamma',\n",
       " 'gcd',\n",
       " 'hypot',\n",
       " 'inf',\n",
       " 'isclose',\n",
       " 'isfinite',\n",
       " 'isinf',\n",
       " 'isnan',\n",
       " 'ldexp',\n",
       " 'lgamma',\n",
       " 'log',\n",
       " 'log10',\n",
       " 'log1p',\n",
       " 'log2',\n",
       " 'modf',\n",
       " 'nan',\n",
       " 'pi',\n",
       " 'pow',\n",
       " 'radians',\n",
       " 'sin',\n",
       " 'sinh',\n",
       " 'sqrt',\n",
       " 'tan',\n",
       " 'tanh',\n",
       " 'tau',\n",
       " 'trunc']"
      ]
     },
     "execution_count": 17,
     "metadata": {},
     "output_type": "execute_result"
    }
   ],
   "source": [
    "dir(math)"
   ]
  },
  {
   "cell_type": "markdown",
   "metadata": {},
   "source": [
    "Como de costume, a função `help` pode fornecer mais informações sobre o módulo (`help(math)`) ou sobre objetos específicos:"
   ]
  },
  {
   "cell_type": "code",
   "execution_count": 18,
   "metadata": {
    "ExecuteTime": {
     "end_time": "2019-08-13T20:13:08.824671Z",
     "start_time": "2019-08-13T20:13:08.820818Z"
    }
   },
   "outputs": [
    {
     "name": "stdout",
     "output_type": "stream",
     "text": [
      "Help on built-in function exp in module math:\n",
      "\n",
      "exp(...)\n",
      "    exp(x)\n",
      "    \n",
      "    Return e raised to the power of x.\n",
      "\n"
     ]
    }
   ],
   "source": [
    "help(math.exp)"
   ]
  },
  {
   "cell_type": "markdown",
   "metadata": {},
   "source": [
    "O módulo matemático define as constantes $\\pi$ e $e$:"
   ]
  },
  {
   "cell_type": "code",
   "execution_count": 19,
   "metadata": {
    "ExecuteTime": {
     "end_time": "2019-08-13T20:13:12.126079Z",
     "start_time": "2019-08-13T20:13:12.119961Z"
    }
   },
   "outputs": [
    {
     "data": {
      "text/plain": [
       "3.141592653589793"
      ]
     },
     "execution_count": 19,
     "metadata": {},
     "output_type": "execute_result"
    }
   ],
   "source": [
    "math.pi"
   ]
  },
  {
   "cell_type": "code",
   "execution_count": null,
   "metadata": {},
   "outputs": [],
   "source": [
    "math.e"
   ]
  },
  {
   "cell_type": "code",
   "execution_count": null,
   "metadata": {},
   "outputs": [],
   "source": [
    "math.cos(math.pi)"
   ]
  },
  {
   "cell_type": "code",
   "execution_count": 20,
   "metadata": {
    "ExecuteTime": {
     "end_time": "2019-08-13T20:13:16.110401Z",
     "start_time": "2019-08-13T20:13:16.106215Z"
    }
   },
   "outputs": [
    {
     "data": {
      "text/plain": [
       "1.0"
      ]
     },
     "execution_count": 20,
     "metadata": {},
     "output_type": "execute_result"
    }
   ],
   "source": [
    "math.log(math.e)"
   ]
  },
  {
   "cell_type": "code",
   "execution_count": 24,
   "metadata": {
    "ExecuteTime": {
     "end_time": "2019-08-13T20:14:28.799423Z",
     "start_time": "2019-08-13T20:14:28.791401Z"
    }
   },
   "outputs": [
    {
     "name": "stdout",
     "output_type": "stream",
     "text": [
      "2.718281828459045\n",
      "7.38905609893065\n",
      "0.1353352832366127\n",
      "0.049787068367863944\n",
      "54.598150033144236\n"
     ]
    }
   ],
   "source": [
    "l=[1, 2, -2 , -3, 4]\n",
    "for x in l:\n",
    "    print(math.exp(x))"
   ]
  },
  {
   "cell_type": "code",
   "execution_count": 26,
   "metadata": {
    "ExecuteTime": {
     "end_time": "2019-08-13T20:16:14.591791Z",
     "start_time": "2019-08-13T20:16:14.587673Z"
    }
   },
   "outputs": [
    {
     "name": "stdout",
     "output_type": "stream",
     "text": [
      "[2.71828183e+00 7.38905610e+00 1.35335283e-01 4.97870684e-02\n",
      " 5.45981500e+01]\n"
     ]
    }
   ],
   "source": [
    "import numpy as np\n",
    "print(np.exp(l))"
   ]
  },
  {
   "cell_type": "code",
   "execution_count": 28,
   "metadata": {
    "ExecuteTime": {
     "end_time": "2019-08-13T20:17:17.827214Z",
     "start_time": "2019-08-13T20:17:17.816994Z"
    }
   },
   "outputs": [
    {
     "data": {
      "text/plain": [
       "['ALLOW_THREADS',\n",
       " 'AxisError',\n",
       " 'BUFSIZE',\n",
       " 'CLIP',\n",
       " 'ComplexWarning',\n",
       " 'DataSource',\n",
       " 'ERR_CALL',\n",
       " 'ERR_DEFAULT',\n",
       " 'ERR_IGNORE',\n",
       " 'ERR_LOG',\n",
       " 'ERR_PRINT',\n",
       " 'ERR_RAISE',\n",
       " 'ERR_WARN',\n",
       " 'FLOATING_POINT_SUPPORT',\n",
       " 'FPE_DIVIDEBYZERO',\n",
       " 'FPE_INVALID',\n",
       " 'FPE_OVERFLOW',\n",
       " 'FPE_UNDERFLOW',\n",
       " 'False_',\n",
       " 'Inf',\n",
       " 'Infinity',\n",
       " 'MAXDIMS',\n",
       " 'MAY_SHARE_BOUNDS',\n",
       " 'MAY_SHARE_EXACT',\n",
       " 'MachAr',\n",
       " 'ModuleDeprecationWarning',\n",
       " 'NAN',\n",
       " 'NINF',\n",
       " 'NZERO',\n",
       " 'NaN',\n",
       " 'PINF',\n",
       " 'PZERO',\n",
       " 'RAISE',\n",
       " 'RankWarning',\n",
       " 'SHIFT_DIVIDEBYZERO',\n",
       " 'SHIFT_INVALID',\n",
       " 'SHIFT_OVERFLOW',\n",
       " 'SHIFT_UNDERFLOW',\n",
       " 'ScalarType',\n",
       " 'Tester',\n",
       " 'TooHardError',\n",
       " 'True_',\n",
       " 'UFUNC_BUFSIZE_DEFAULT',\n",
       " 'UFUNC_PYVALS_NAME',\n",
       " 'VisibleDeprecationWarning',\n",
       " 'WRAP',\n",
       " '_NoValue',\n",
       " '_UFUNC_API',\n",
       " '__NUMPY_SETUP__',\n",
       " '__all__',\n",
       " '__builtins__',\n",
       " '__cached__',\n",
       " '__config__',\n",
       " '__doc__',\n",
       " '__file__',\n",
       " '__git_revision__',\n",
       " '__loader__',\n",
       " '__name__',\n",
       " '__package__',\n",
       " '__path__',\n",
       " '__spec__',\n",
       " '__version__',\n",
       " '_add_newdoc_ufunc',\n",
       " '_distributor_init',\n",
       " '_globals',\n",
       " '_mat',\n",
       " '_pytesttester',\n",
       " 'abs',\n",
       " 'absolute',\n",
       " 'absolute_import',\n",
       " 'add',\n",
       " 'add_docstring',\n",
       " 'add_newdoc',\n",
       " 'add_newdoc_ufunc',\n",
       " 'alen',\n",
       " 'all',\n",
       " 'allclose',\n",
       " 'alltrue',\n",
       " 'amax',\n",
       " 'amin',\n",
       " 'angle',\n",
       " 'any',\n",
       " 'append',\n",
       " 'apply_along_axis',\n",
       " 'apply_over_axes',\n",
       " 'arange',\n",
       " 'arccos',\n",
       " 'arccosh',\n",
       " 'arcsin',\n",
       " 'arcsinh',\n",
       " 'arctan',\n",
       " 'arctan2',\n",
       " 'arctanh',\n",
       " 'argmax',\n",
       " 'argmin',\n",
       " 'argpartition',\n",
       " 'argsort',\n",
       " 'argwhere',\n",
       " 'around',\n",
       " 'array',\n",
       " 'array2string',\n",
       " 'array_equal',\n",
       " 'array_equiv',\n",
       " 'array_repr',\n",
       " 'array_split',\n",
       " 'array_str',\n",
       " 'asanyarray',\n",
       " 'asarray',\n",
       " 'asarray_chkfinite',\n",
       " 'ascontiguousarray',\n",
       " 'asfarray',\n",
       " 'asfortranarray',\n",
       " 'asmatrix',\n",
       " 'asscalar',\n",
       " 'atleast_1d',\n",
       " 'atleast_2d',\n",
       " 'atleast_3d',\n",
       " 'average',\n",
       " 'bartlett',\n",
       " 'base_repr',\n",
       " 'binary_repr',\n",
       " 'bincount',\n",
       " 'bitwise_and',\n",
       " 'bitwise_not',\n",
       " 'bitwise_or',\n",
       " 'bitwise_xor',\n",
       " 'blackman',\n",
       " 'block',\n",
       " 'bmat',\n",
       " 'bool',\n",
       " 'bool8',\n",
       " 'bool_',\n",
       " 'broadcast',\n",
       " 'broadcast_arrays',\n",
       " 'broadcast_to',\n",
       " 'busday_count',\n",
       " 'busday_offset',\n",
       " 'busdaycalendar',\n",
       " 'byte',\n",
       " 'byte_bounds',\n",
       " 'bytes0',\n",
       " 'bytes_',\n",
       " 'c_',\n",
       " 'can_cast',\n",
       " 'cast',\n",
       " 'cbrt',\n",
       " 'cdouble',\n",
       " 'ceil',\n",
       " 'cfloat',\n",
       " 'char',\n",
       " 'character',\n",
       " 'chararray',\n",
       " 'choose',\n",
       " 'clip',\n",
       " 'clongdouble',\n",
       " 'clongfloat',\n",
       " 'column_stack',\n",
       " 'common_type',\n",
       " 'compare_chararrays',\n",
       " 'compat',\n",
       " 'complex',\n",
       " 'complex128',\n",
       " 'complex256',\n",
       " 'complex64',\n",
       " 'complex_',\n",
       " 'complexfloating',\n",
       " 'compress',\n",
       " 'concatenate',\n",
       " 'conj',\n",
       " 'conjugate',\n",
       " 'convolve',\n",
       " 'copy',\n",
       " 'copysign',\n",
       " 'copyto',\n",
       " 'core',\n",
       " 'corrcoef',\n",
       " 'correlate',\n",
       " 'cos',\n",
       " 'cosh',\n",
       " 'count_nonzero',\n",
       " 'cov',\n",
       " 'cross',\n",
       " 'csingle',\n",
       " 'ctypeslib',\n",
       " 'cumprod',\n",
       " 'cumproduct',\n",
       " 'cumsum',\n",
       " 'datetime64',\n",
       " 'datetime_as_string',\n",
       " 'datetime_data',\n",
       " 'deg2rad',\n",
       " 'degrees',\n",
       " 'delete',\n",
       " 'deprecate',\n",
       " 'deprecate_with_doc',\n",
       " 'diag',\n",
       " 'diag_indices',\n",
       " 'diag_indices_from',\n",
       " 'diagflat',\n",
       " 'diagonal',\n",
       " 'diff',\n",
       " 'digitize',\n",
       " 'disp',\n",
       " 'divide',\n",
       " 'division',\n",
       " 'divmod',\n",
       " 'dot',\n",
       " 'double',\n",
       " 'dsplit',\n",
       " 'dstack',\n",
       " 'dtype',\n",
       " 'e',\n",
       " 'ediff1d',\n",
       " 'einsum',\n",
       " 'einsum_path',\n",
       " 'emath',\n",
       " 'empty',\n",
       " 'empty_like',\n",
       " 'equal',\n",
       " 'errstate',\n",
       " 'euler_gamma',\n",
       " 'exp',\n",
       " 'exp2',\n",
       " 'expand_dims',\n",
       " 'expm1',\n",
       " 'extract',\n",
       " 'eye',\n",
       " 'fabs',\n",
       " 'fastCopyAndTranspose',\n",
       " 'fft',\n",
       " 'fill_diagonal',\n",
       " 'find_common_type',\n",
       " 'finfo',\n",
       " 'fix',\n",
       " 'flatiter',\n",
       " 'flatnonzero',\n",
       " 'flexible',\n",
       " 'flip',\n",
       " 'fliplr',\n",
       " 'flipud',\n",
       " 'float',\n",
       " 'float128',\n",
       " 'float16',\n",
       " 'float32',\n",
       " 'float64',\n",
       " 'float_',\n",
       " 'float_power',\n",
       " 'floating',\n",
       " 'floor',\n",
       " 'floor_divide',\n",
       " 'fmax',\n",
       " 'fmin',\n",
       " 'fmod',\n",
       " 'format_float_positional',\n",
       " 'format_float_scientific',\n",
       " 'format_parser',\n",
       " 'frexp',\n",
       " 'frombuffer',\n",
       " 'fromfile',\n",
       " 'fromfunction',\n",
       " 'fromiter',\n",
       " 'frompyfunc',\n",
       " 'fromregex',\n",
       " 'fromstring',\n",
       " 'full',\n",
       " 'full_like',\n",
       " 'fv',\n",
       " 'gcd',\n",
       " 'generic',\n",
       " 'genfromtxt',\n",
       " 'geomspace',\n",
       " 'get_array_wrap',\n",
       " 'get_include',\n",
       " 'get_printoptions',\n",
       " 'getbufsize',\n",
       " 'geterr',\n",
       " 'geterrcall',\n",
       " 'geterrobj',\n",
       " 'gradient',\n",
       " 'greater',\n",
       " 'greater_equal',\n",
       " 'half',\n",
       " 'hamming',\n",
       " 'hanning',\n",
       " 'heaviside',\n",
       " 'histogram',\n",
       " 'histogram2d',\n",
       " 'histogram_bin_edges',\n",
       " 'histogramdd',\n",
       " 'hsplit',\n",
       " 'hstack',\n",
       " 'hypot',\n",
       " 'i0',\n",
       " 'identity',\n",
       " 'iinfo',\n",
       " 'imag',\n",
       " 'in1d',\n",
       " 'index_exp',\n",
       " 'indices',\n",
       " 'inexact',\n",
       " 'inf',\n",
       " 'info',\n",
       " 'infty',\n",
       " 'inner',\n",
       " 'insert',\n",
       " 'int',\n",
       " 'int0',\n",
       " 'int16',\n",
       " 'int32',\n",
       " 'int64',\n",
       " 'int8',\n",
       " 'int_',\n",
       " 'int_asbuffer',\n",
       " 'intc',\n",
       " 'integer',\n",
       " 'interp',\n",
       " 'intersect1d',\n",
       " 'intp',\n",
       " 'invert',\n",
       " 'ipmt',\n",
       " 'irr',\n",
       " 'is_busday',\n",
       " 'isclose',\n",
       " 'iscomplex',\n",
       " 'iscomplexobj',\n",
       " 'isfinite',\n",
       " 'isfortran',\n",
       " 'isin',\n",
       " 'isinf',\n",
       " 'isnan',\n",
       " 'isnat',\n",
       " 'isneginf',\n",
       " 'isposinf',\n",
       " 'isreal',\n",
       " 'isrealobj',\n",
       " 'isscalar',\n",
       " 'issctype',\n",
       " 'issubclass_',\n",
       " 'issubdtype',\n",
       " 'issubsctype',\n",
       " 'iterable',\n",
       " 'ix_',\n",
       " 'kaiser',\n",
       " 'kron',\n",
       " 'lcm',\n",
       " 'ldexp',\n",
       " 'left_shift',\n",
       " 'less',\n",
       " 'less_equal',\n",
       " 'lexsort',\n",
       " 'lib',\n",
       " 'linalg',\n",
       " 'linspace',\n",
       " 'little_endian',\n",
       " 'load',\n",
       " 'loads',\n",
       " 'loadtxt',\n",
       " 'log',\n",
       " 'log10',\n",
       " 'log1p',\n",
       " 'log2',\n",
       " 'logaddexp',\n",
       " 'logaddexp2',\n",
       " 'logical_and',\n",
       " 'logical_not',\n",
       " 'logical_or',\n",
       " 'logical_xor',\n",
       " 'logspace',\n",
       " 'long',\n",
       " 'longcomplex',\n",
       " 'longdouble',\n",
       " 'longfloat',\n",
       " 'longlong',\n",
       " 'lookfor',\n",
       " 'ma',\n",
       " 'mafromtxt',\n",
       " 'mask_indices',\n",
       " 'mat',\n",
       " 'math',\n",
       " 'matmul',\n",
       " 'matrix',\n",
       " 'matrixlib',\n",
       " 'max',\n",
       " 'maximum',\n",
       " 'maximum_sctype',\n",
       " 'may_share_memory',\n",
       " 'mean',\n",
       " 'median',\n",
       " 'memmap',\n",
       " 'meshgrid',\n",
       " 'mgrid',\n",
       " 'min',\n",
       " 'min_scalar_type',\n",
       " 'minimum',\n",
       " 'mintypecode',\n",
       " 'mirr',\n",
       " 'mod',\n",
       " 'modf',\n",
       " 'moveaxis',\n",
       " 'msort',\n",
       " 'multiply',\n",
       " 'nan',\n",
       " 'nan_to_num',\n",
       " 'nanargmax',\n",
       " 'nanargmin',\n",
       " 'nancumprod',\n",
       " 'nancumsum',\n",
       " 'nanmax',\n",
       " 'nanmean',\n",
       " 'nanmedian',\n",
       " 'nanmin',\n",
       " 'nanpercentile',\n",
       " 'nanprod',\n",
       " 'nanquantile',\n",
       " 'nanstd',\n",
       " 'nansum',\n",
       " 'nanvar',\n",
       " 'nbytes',\n",
       " 'ndarray',\n",
       " 'ndenumerate',\n",
       " 'ndfromtxt',\n",
       " 'ndim',\n",
       " 'ndindex',\n",
       " 'nditer',\n",
       " 'negative',\n",
       " 'nested_iters',\n",
       " 'newaxis',\n",
       " 'nextafter',\n",
       " 'nonzero',\n",
       " 'not_equal',\n",
       " 'nper',\n",
       " 'npv',\n",
       " 'numarray',\n",
       " 'number',\n",
       " 'obj2sctype',\n",
       " 'object',\n",
       " 'object0',\n",
       " 'object_',\n",
       " 'ogrid',\n",
       " 'oldnumeric',\n",
       " 'ones',\n",
       " 'ones_like',\n",
       " 'outer',\n",
       " 'packbits',\n",
       " 'pad',\n",
       " 'partition',\n",
       " 'percentile',\n",
       " 'pi',\n",
       " 'piecewise',\n",
       " 'place',\n",
       " 'pmt',\n",
       " 'poly',\n",
       " 'poly1d',\n",
       " 'polyadd',\n",
       " 'polyder',\n",
       " 'polydiv',\n",
       " 'polyfit',\n",
       " 'polyint',\n",
       " 'polymul',\n",
       " 'polynomial',\n",
       " 'polysub',\n",
       " 'polyval',\n",
       " 'positive',\n",
       " 'power',\n",
       " 'ppmt',\n",
       " 'print_function',\n",
       " 'printoptions',\n",
       " 'prod',\n",
       " 'product',\n",
       " 'promote_types',\n",
       " 'ptp',\n",
       " 'put',\n",
       " 'put_along_axis',\n",
       " 'putmask',\n",
       " 'pv',\n",
       " 'quantile',\n",
       " 'r_',\n",
       " 'rad2deg',\n",
       " 'radians',\n",
       " 'random',\n",
       " 'rank',\n",
       " 'rate',\n",
       " 'ravel',\n",
       " 'ravel_multi_index',\n",
       " 'real',\n",
       " 'real_if_close',\n",
       " 'rec',\n",
       " 'recarray',\n",
       " 'recfromcsv',\n",
       " 'recfromtxt',\n",
       " 'reciprocal',\n",
       " 'record',\n",
       " 'remainder',\n",
       " 'repeat',\n",
       " 'require',\n",
       " 'reshape',\n",
       " 'resize',\n",
       " 'result_type',\n",
       " 'right_shift',\n",
       " 'rint',\n",
       " 'roll',\n",
       " 'rollaxis',\n",
       " 'roots',\n",
       " 'rot90',\n",
       " 'round',\n",
       " 'round_',\n",
       " 'row_stack',\n",
       " 's_',\n",
       " 'safe_eval',\n",
       " 'save',\n",
       " 'savetxt',\n",
       " 'savez',\n",
       " 'savez_compressed',\n",
       " 'sctype2char',\n",
       " 'sctypeDict',\n",
       " 'sctypeNA',\n",
       " 'sctypes',\n",
       " 'searchsorted',\n",
       " 'select',\n",
       " 'set_numeric_ops',\n",
       " 'set_printoptions',\n",
       " 'set_string_function',\n",
       " 'setbufsize',\n",
       " 'setdiff1d',\n",
       " 'seterr',\n",
       " 'seterrcall',\n",
       " 'seterrobj',\n",
       " 'setxor1d',\n",
       " 'shape',\n",
       " 'shares_memory',\n",
       " 'short',\n",
       " 'show_config',\n",
       " 'sign',\n",
       " 'signbit',\n",
       " 'signedinteger',\n",
       " 'sin',\n",
       " 'sinc',\n",
       " 'single',\n",
       " 'singlecomplex',\n",
       " 'sinh',\n",
       " 'size',\n",
       " 'sometrue',\n",
       " 'sort',\n",
       " 'sort_complex',\n",
       " 'source',\n",
       " 'spacing',\n",
       " 'split',\n",
       " 'sqrt',\n",
       " 'square',\n",
       " 'squeeze',\n",
       " 'stack',\n",
       " 'std',\n",
       " 'str',\n",
       " 'str0',\n",
       " 'str_',\n",
       " 'string_',\n",
       " 'subtract',\n",
       " 'sum',\n",
       " 'swapaxes',\n",
       " 'sys',\n",
       " 'take',\n",
       " 'take_along_axis',\n",
       " 'tan',\n",
       " 'tanh',\n",
       " 'tensordot',\n",
       " 'test',\n",
       " 'testing',\n",
       " 'tile',\n",
       " 'timedelta64',\n",
       " 'trace',\n",
       " 'tracemalloc_domain',\n",
       " 'transpose',\n",
       " 'trapz',\n",
       " 'tri',\n",
       " 'tril',\n",
       " 'tril_indices',\n",
       " 'tril_indices_from',\n",
       " 'trim_zeros',\n",
       " 'triu',\n",
       " 'triu_indices',\n",
       " 'triu_indices_from',\n",
       " 'true_divide',\n",
       " 'trunc',\n",
       " 'typeDict',\n",
       " 'typeNA',\n",
       " 'typecodes',\n",
       " 'typename',\n",
       " 'ubyte',\n",
       " 'ufunc',\n",
       " 'uint',\n",
       " 'uint0',\n",
       " 'uint16',\n",
       " 'uint32',\n",
       " 'uint64',\n",
       " 'uint8',\n",
       " 'uintc',\n",
       " 'uintp',\n",
       " 'ulonglong',\n",
       " 'unicode',\n",
       " 'unicode_',\n",
       " 'union1d',\n",
       " 'unique',\n",
       " 'unpackbits',\n",
       " 'unravel_index',\n",
       " 'unsignedinteger',\n",
       " 'unwrap',\n",
       " 'ushort',\n",
       " 'vander',\n",
       " 'var',\n",
       " 'vdot',\n",
       " 'vectorize',\n",
       " 'version',\n",
       " 'void',\n",
       " 'void0',\n",
       " 'vsplit',\n",
       " 'vstack',\n",
       " 'warnings',\n",
       " 'where',\n",
       " 'who',\n",
       " 'zeros',\n",
       " 'zeros_like']"
      ]
     },
     "execution_count": 28,
     "metadata": {},
     "output_type": "execute_result"
    }
   ],
   "source": [
    "dir(np)"
   ]
  },
  {
   "cell_type": "code",
   "execution_count": 29,
   "metadata": {
    "ExecuteTime": {
     "end_time": "2019-08-13T20:17:27.419032Z",
     "start_time": "2019-08-13T20:17:27.415336Z"
    }
   },
   "outputs": [
    {
     "name": "stdout",
     "output_type": "stream",
     "text": [
      "Help on function vdot in module numpy:\n",
      "\n",
      "vdot(...)\n",
      "    vdot(a, b)\n",
      "    \n",
      "    Return the dot product of two vectors.\n",
      "    \n",
      "    The vdot(`a`, `b`) function handles complex numbers differently than\n",
      "    dot(`a`, `b`).  If the first argument is complex the complex conjugate\n",
      "    of the first argument is used for the calculation of the dot product.\n",
      "    \n",
      "    Note that `vdot` handles multidimensional arrays differently than `dot`:\n",
      "    it does *not* perform a matrix product, but flattens input arguments\n",
      "    to 1-D vectors first. Consequently, it should only be used for vectors.\n",
      "    \n",
      "    Parameters\n",
      "    ----------\n",
      "    a : array_like\n",
      "        If `a` is complex the complex conjugate is taken before calculation\n",
      "        of the dot product.\n",
      "    b : array_like\n",
      "        Second argument to the dot product.\n",
      "    \n",
      "    Returns\n",
      "    -------\n",
      "    output : ndarray\n",
      "        Dot product of `a` and `b`.  Can be an int, float, or\n",
      "        complex depending on the types of `a` and `b`.\n",
      "    \n",
      "    See Also\n",
      "    --------\n",
      "    dot : Return the dot product without using the complex conjugate of the\n",
      "          first argument.\n",
      "    \n",
      "    Examples\n",
      "    --------\n",
      "    >>> a = np.array([1+2j,3+4j])\n",
      "    >>> b = np.array([5+6j,7+8j])\n",
      "    >>> np.vdot(a, b)\n",
      "    (70-8j)\n",
      "    >>> np.vdot(b, a)\n",
      "    (70+8j)\n",
      "    \n",
      "    Note that higher-dimensional arrays are flattened!\n",
      "    \n",
      "    >>> a = np.array([[1, 4], [5, 6]])\n",
      "    >>> b = np.array([[4, 1], [2, 2]])\n",
      "    >>> np.vdot(a, b)\n",
      "    30\n",
      "    >>> np.vdot(b, a)\n",
      "    30\n",
      "    >>> 1*4 + 4*1 + 5*2 + 6*2\n",
      "    30\n",
      "\n"
     ]
    }
   ],
   "source": []
  },
  {
   "cell_type": "markdown",
   "metadata": {},
   "source": [
    "## Variáveis <a name=\"CP2-Variaveis\"></a>\n",
    "\n",
    "\n",
    "Uma *variável* pode ser usada para armazenar um certo valor ou objeto. No Python, todos os números (e todo o resto, incluindo as funções, módulos e arquivos) são objetos. A variável é criada através da atribuição/declaração:"
   ]
  },
  {
   "cell_type": "code",
   "execution_count": null,
   "metadata": {},
   "outputs": [],
   "source": [
    "x = 0.75"
   ]
  },
  {
   "cell_type": "markdown",
   "metadata": {},
   "source": [
    "Uma vez que a variável `x` foi criada através da atribuição de 0.75 neste exemplo, podemos usá-la:"
   ]
  },
  {
   "cell_type": "code",
   "execution_count": null,
   "metadata": {},
   "outputs": [],
   "source": [
    "x*3"
   ]
  },
  {
   "cell_type": "code",
   "execution_count": null,
   "metadata": {},
   "outputs": [],
   "source": [
    "x**2"
   ]
  },
  {
   "cell_type": "code",
   "execution_count": null,
   "metadata": {},
   "outputs": [],
   "source": [
    "y = 111\n",
    "y + 222\n",
    "print(\"y = \", y)\n",
    "y += 222\n",
    "print(\"y = \", y)"
   ]
  },
  {
   "cell_type": "markdown",
   "metadata": {},
   "source": [
    "Uma variável é substituída se um novo valor é atribuído:"
   ]
  },
  {
   "cell_type": "code",
   "execution_count": null,
   "metadata": {},
   "outputs": [],
   "source": [
    "y = 0.7\n",
    "math.sin(y) ** 2 + math.cos(y) ** 2"
   ]
  },
  {
   "cell_type": "markdown",
   "metadata": {},
   "source": [
    "O sinal de igual (`=`) é usado para atribuir um valor a uma variável."
   ]
  },
  {
   "cell_type": "code",
   "execution_count": null,
   "metadata": {},
   "outputs": [],
   "source": [
    "width = 20\n",
    "height = 5 * 9\n",
    "width * height"
   ]
  },
  {
   "cell_type": "markdown",
   "metadata": {},
   "source": [
    "Um valor pode ser atribuído a várias variáveis simultaneamente:"
   ]
  },
  {
   "cell_type": "code",
   "execution_count": null,
   "metadata": {},
   "outputs": [],
   "source": [
    "x = y = z = 0  # inicializa x, y e z com 0\n",
    "x"
   ]
  },
  {
   "cell_type": "code",
   "execution_count": null,
   "metadata": {},
   "outputs": [],
   "source": [
    "y"
   ]
  },
  {
   "cell_type": "code",
   "execution_count": null,
   "metadata": {},
   "outputs": [],
   "source": [
    "z"
   ]
  },
  {
   "cell_type": "markdown",
   "metadata": {},
   "source": [
    "As variáveis devem ser criadas (atribuindo-se um valor aelas) antes que elas possam ser usadas, ou um erro irá ocorrer:"
   ]
  },
  {
   "cell_type": "code",
   "execution_count": null,
   "metadata": {},
   "outputs": [],
   "source": [
    "# Tente acessar uma variável indefinida\n",
    "n"
   ]
  },
  {
   "cell_type": "markdown",
   "metadata": {},
   "source": [
    "No modo interativo, a última expressão impressa é atribuída à variável `_`. Isso significa que quando você está usando o Python como uma calculadora, é um pouco mais fácil continuar cálculos, por exemplo:"
   ]
  },
  {
   "cell_type": "code",
   "execution_count": null,
   "metadata": {},
   "outputs": [],
   "source": [
    "tax = 12.5 / 100\n",
    "price = 100.50\n",
    "price * tax"
   ]
  },
  {
   "cell_type": "code",
   "execution_count": null,
   "metadata": {},
   "outputs": [],
   "source": [
    "price + _"
   ]
  },
  {
   "cell_type": "markdown",
   "metadata": {},
   "source": [
    "Essa variável deve ser tratada pelo usuário como somente leitura. Não atribua explicitamente um valor a ela - você criaria uma variável local independente com o mesmo nome mascarando a variável embutida com seu comportamento mágico.\n",
    "\n",
    "\n",
    "### Terminologia <a name=\"CP2-Terminologia\"></a>\n",
    "\n",
    "\n",
    "Estritamente falando, o seguinte acontece quando escrevemos"
   ]
  },
  {
   "cell_type": "code",
   "execution_count": null,
   "metadata": {},
   "outputs": [],
   "source": [
    "x = 0.5"
   ]
  },
  {
   "cell_type": "markdown",
   "metadata": {},
   "source": [
    "Primeiro, o Python cria o objeto `0.5`. Tudo em Python é um objeto, assim como o número de ponto flutuante 0.5. Este objeto é armazenado em algum lugar na memória. Em seguida, Python *vincula um nome ao objeto*. O nome é `x`, e muitas vezes nos referimos casualmente a `x` como uma variável, um objeto ou mesmo o valor 0.5. No entanto, tecnicamente, `x` é um nome que está ligado ao objeto `0.5`. Outra maneira de dizer isso é que `x` é uma referência ao objeto.\n",
    "\n",
    "Embora muitas vezes seja suficiente pensar em atribuir 0.5 a uma variável x, há situações em que precisamos nos lembrar do que realmente acontece. Em particular, quando passamos objetos por referências para funções, precisamos perceber que a função pode operar no objeto (em vez de uma cópia do objeto). Isto é discutido em mais detalhes no [próximo capítulo](03-data-types-structures.ipynb).\n",
    "\n",
    "## Equações impossíveis <a name=\"CP2-EqsImp\"></a>\n",
    "\n",
    "\n",
    "Em alguns códigos/programas de computador, muitas vezes encontramos declarações como"
   ]
  },
  {
   "cell_type": "code",
   "execution_count": null,
   "metadata": {},
   "outputs": [],
   "source": [
    "x = x + 1"
   ]
  },
  {
   "cell_type": "markdown",
   "metadata": {},
   "source": [
    "Se lermos isso como uma equação como fazamos a partir da matemática,\n",
    "*x* = *x* + 1\n",
    "poderíamos subtrair *x* em ambos os lados, para encontrar que\n",
    "0 = 1.\n",
    "Sabemos que isso não é verdade, então houve algum erro aqui.\n",
    "\n",
    "A resposta é que \"equações\" em códigos de computador não são equações, mas *atribuições*. Elas sempre precisam ser lidas  em dois passos da seguinte forma:\n",
    "\n",
    "1. Avalie o valor do lado direito do sinal de igualdade\n",
    "\n",
    "2. Atribua esse valor ao nome da variável mostrado no lado esquerdo. (Em Python: vincule o nome do lado esquerdo ao objeto mostrado no lado direito.)\n",
    "\n",
    "Algumas publicações de ciência da computação usam a seguinte notação para expressar atribuições e evitar a confusão com equações matemáticas:\n",
    "\n",
    "$$x \\leftarrow x + 1$$\n",
    "\n",
    "Vamos aplicar nossa regra de dois passos para atribuir `x = x + 1` como dado acima:\n",
    "\n",
    "1. Avalie o valor do lado direito do sinal de igualdade: para isso precisamos saber qual é o valor atual de `x`. Vamos supor que `x` é atualmente` 4`. Nesse caso, o lado direito `x + 1` é avaliado como `5`.\n",
    "\n",
    "2. Atribua este valor (isto é, `5`) ao nome da variável mostrado no lado esquerdo `x`.\n",
    "\n",
    "Vamos confirmar com o prompt do Python que esta é a interpretação correta:"
   ]
  },
  {
   "cell_type": "code",
   "execution_count": null,
   "metadata": {},
   "outputs": [],
   "source": [
    "x = 4     \n",
    "x = x + 1\n",
    "x"
   ]
  },
  {
   "cell_type": "markdown",
   "metadata": {},
   "source": [
    "### A notação `+=` <a name=\"CP2-Notacao\"></a>\n",
    "\n",
    "Como é uma operação bastante comum aumentar uma variável `x` por algum valor fixo `c`, podemos escrever\n",
    "\n",
    "```python\n",
    "x += c\n",
    "```\n",
    "\n",
    "em vez de \n",
    "\n",
    "```python\n",
    "x = x + c\n",
    "```"
   ]
  },
  {
   "cell_type": "markdown",
   "metadata": {},
   "source": [
    "Nosso exemplo inicial acima poderia ter sido escrito"
   ]
  },
  {
   "cell_type": "code",
   "execution_count": null,
   "metadata": {},
   "outputs": [],
   "source": [
    "x = 4\n",
    "x += 1\n",
    "x"
   ]
  },
  {
   "cell_type": "markdown",
   "metadata": {},
   "source": [
    "Os mesmos operadores são definidos para a multiplicação com uma constante (`*=`), subtração de uma constante (`-=`) e divisão por uma constante (`/=`).\n",
    "\n",
    "Note que a ordem de `+` e `=` importa:"
   ]
  },
  {
   "cell_type": "code",
   "execution_count": null,
   "metadata": {},
   "outputs": [],
   "source": [
    "x += 1"
   ]
  },
  {
   "cell_type": "markdown",
   "metadata": {},
   "source": [
    "Irá aumentar a variável `x` por uma"
   ]
  },
  {
   "cell_type": "code",
   "execution_count": null,
   "metadata": {},
   "outputs": [],
   "source": [
    "x =+ 1"
   ]
  },
  {
   "cell_type": "code",
   "execution_count": null,
   "metadata": {},
   "outputs": [],
   "source": [
    "print(x)"
   ]
  },
  {
   "cell_type": "markdown",
   "metadata": {},
   "source": [
    "Atribuirá o valor `+1` à variável `x`."
   ]
  },
  {
   "cell_type": "markdown",
   "metadata": {},
   "source": [
    "# Variáveis <a name=\"CP3-variaveis\"></a>\n",
    "\n",
    "\n",
    "Variáveis no interpretador Python são criadas através da atribuição e destruídas pelo coletor de lixo (garbage collector), quando não existem mais referências a elas.\n",
    "\n",
    "Os nomes das variáveis devem começar com letra (sem acentuação) ou sublinhado (_) e seguido por letras (sem acentuação), dígitos ou sublinhados (_), sendo que maiúsculas e minúsculas são consideradas diferentes.\n",
    "\n",
    "\n",
    "## O que é um tipo? <a name=\"CP3-o-que-e-um-tipo\"></a>\n",
    "\n",
    "\n",
    "Existem vários tipos simples de dados pré-definidos no Python, tais como:\n",
    "\n",
    "+ Números (inteiros, reais, complexos, ... )\n",
    "+ Texto\n",
    "\n",
    "Além disso, existem tipos que funcionam como coleções. Os principais são:\n",
    "\n",
    "+ Lista\n",
    "+ Tupla\n",
    "+ Dicionário\n",
    "+ Conjuntos\n",
    "\n",
    "Os tipos no Python podem ser:\n",
    "\n",
    "+ Mutáveis: permitem que os conteúdos das variáveis sejam alterados.\n",
    "+ Imutáveis: não permitem que os conteúdos das variáveis sejam alterados.\n",
    "\n",
    "Em Python, os nomes de variáveis são referências, que podem ser alteradas em tempos de execução.\n",
    "\n",
    "Os tipos e rotinas mais comuns estão implementados na forma de *builtins*, ou seja, eles estão sempre disponíveis em tempo de execução, sem a necessdade de importar nenhuma biblioteca.\n",
    "\n",
    "O Python conhece diferentes tipos de dados. Para encontrar o tipo de uma variável, use a função `type()`. Como exemplo considere as seguintes atribuições:"
   ]
  },
  {
   "cell_type": "code",
   "execution_count": null,
   "metadata": {},
   "outputs": [],
   "source": [
    "a = 45\n",
    "type(a)"
   ]
  },
  {
   "cell_type": "code",
   "execution_count": null,
   "metadata": {},
   "outputs": [],
   "source": [
    "b = 'Isso é uma string. Um texto ou palavra são strings. '\n",
    "type(b)"
   ]
  },
  {
   "cell_type": "code",
   "execution_count": null,
   "metadata": {},
   "outputs": [],
   "source": [
    "type(z)"
   ]
  },
  {
   "cell_type": "code",
   "execution_count": null,
   "metadata": {},
   "outputs": [],
   "source": [
    "c=\"O que é isso? \" + b"
   ]
  },
  {
   "cell_type": "code",
   "execution_count": null,
   "metadata": {},
   "outputs": [],
   "source": [
    "print(c,2*c)"
   ]
  },
  {
   "cell_type": "markdown",
   "metadata": {},
   "source": [
    "O python é uma linguagem de tipagem dinâmica, observer que antes c era do tipo string a agora:"
   ]
  },
  {
   "cell_type": "code",
   "execution_count": 1,
   "metadata": {
    "ExecuteTime": {
     "end_time": "2019-08-13T16:04:27.400226Z",
     "start_time": "2019-08-13T16:04:27.397636Z"
    }
   },
   "outputs": [],
   "source": [
    "c = 2 + 1j\n",
    "type(c)"
   ]
  },
  {
   "cell_type": "code",
   "execution_count": null,
   "metadata": {},
   "outputs": [],
   "source": [
    "print(c)"
   ]
  },
  {
   "cell_type": "code",
   "execution_count": 2,
   "metadata": {
    "ExecuteTime": {
     "end_time": "2019-08-13T16:07:02.633925Z",
     "start_time": "2019-08-13T16:07:02.621241Z"
    }
   },
   "outputs": [
    {
     "data": {
      "text/plain": [
       "list"
      ]
     },
     "execution_count": 2,
     "metadata": {},
     "output_type": "execute_result"
    }
   ],
   "source": [
    "d = [1, 3, 56]\n",
    "type(d)"
   ]
  },
  {
   "cell_type": "code",
   "execution_count": null,
   "metadata": {},
   "outputs": [],
   "source": []
  }
 ],
 "metadata": {
  "finalized": {
   "timestamp": 1575292261124,
   "trusted": false
  },
  "kernelspec": {
   "display_name": "Python 3",
   "language": "python",
   "name": "python3"
  },
  "language_info": {
   "codemirror_mode": {
    "name": "ipython",
    "version": 3
   },
   "file_extension": ".py",
   "mimetype": "text/x-python",
   "name": "python",
   "nbconvert_exporter": "python",
   "pygments_lexer": "ipython3",
   "version": "3.6.9"
  },
  "latex_envs": {
   "LaTeX_envs_menu_present": true,
   "autoclose": false,
   "autocomplete": true,
   "bibliofile": "biblio.bib",
   "cite_by": "apalike",
   "current_citInitial": 1,
   "eqLabelWithNumbers": true,
   "eqNumInitial": 1,
   "hotkeys": {
    "equation": "Ctrl-E",
    "itemize": "Ctrl-I"
   },
   "labels_anchors": false,
   "latex_user_defs": false,
   "report_style_numbering": false,
   "user_envs_cfg": false
  },
  "nbTranslate": {
   "displayLangs": [
    "pt",
    "en"
   ],
   "hotkey": "alt-t",
   "langInMainMenu": true,
   "sourceLang": "en",
   "targetLang": "pt",
   "useGoogleTranslate": true
  },
  "toc": {
   "base_numbering": 1,
   "nav_menu": {},
   "number_sections": true,
   "sideBar": true,
   "skip_h1_title": false,
   "title_cell": "Table of Contents",
   "title_sidebar": "Contents",
   "toc_cell": true,
   "toc_position": {},
   "toc_section_display": false,
   "toc_window_display": false
  },
  "varInspector": {
   "cols": {
    "lenName": 16,
    "lenType": 16,
    "lenVar": 40
   },
   "kernels_config": {
    "python": {
     "delete_cmd_postfix": "",
     "delete_cmd_prefix": "del ",
     "library": "var_list.py",
     "varRefreshCmd": "print(var_dic_list())"
    },
    "r": {
     "delete_cmd_postfix": ") ",
     "delete_cmd_prefix": "rm(",
     "library": "var_list.r",
     "varRefreshCmd": "cat(var_dic_list()) "
    }
   },
   "types_to_exclude": [
    "module",
    "function",
    "builtin_function_or_method",
    "instance",
    "_Feature"
   ],
   "window_display": false
  }
 },
 "nbformat": 4,
 "nbformat_minor": 2
}
