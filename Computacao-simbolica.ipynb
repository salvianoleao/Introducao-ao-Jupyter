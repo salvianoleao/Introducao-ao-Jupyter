{
 "cells": [
  {
   "cell_type": "markdown",
   "metadata": {},
   "source": [
    "Computação Simbólica\n",
    "====================\n",
    "\n",
    "SymPy\n",
    "-----\n",
    "\n",
    "Nesta seção, apresentamos algumas funcionalidades básicas da biblioteca SymPy (SYMbolic Python). Em contraste com a computação numérica (envolvendo números), no cálculo simbólico estamos processando e transformando variáveis genéricas.\n",
    "\n",
    "A home page do SymPy é <http://sympy.org/> e fornece a documentação completa (e atualizada) para esta biblioteca.\n",
    "\n",
    "A seguir apresentamos uma lista de documentação para a biblioteca SymPy:\n",
    "\n",
    "- [Physics Module](http://docs.sympy.org/latest/modules/physics/index.html)\n",
    "  - [Classical Mechanics](http://docs.sympy.org/0.7.6/modules/physics/mechanics/index.html)\n",
    "  - [Quantum Mechanics](http://docs.sympy.org/latest/modules/physics/quantum/index.html])\n",
    "  - [Optics Module](http://docs.sympy.org/latest/modules/physics/optics/index.html)\n",
    "- [SymPy Papers](https://github.com/sympy/sympy/wiki/SymPy-Papers)\n",
    "- [Scipy 2016 tutorial](https://github.com/sympy/scipy-2016-tutorial)\n",
    "- [SymPy Git](https://github.com/sympy)\n",
    "- [SymPy TUTORIAL for the First Course in Applied Differential Equations](http://www.cfm.brown.edu/people/dobrush/am33/SymPy/index.html)\n",
    "\n",
    "\n",
    "O cálculo simbólico é muito mais lento em comparação com as operações em ponto flutuante (veja por exemplo [cálculo simbólico para decimais](13-numeric-computation.ipynb#Simbólico-cálculo)) e, portanto, geralmente não é usado para simulação direta. No entanto, é uma ferramenta poderosa para apoiar a preparação de código e trabalho simbólico. Ocasionalmente, usamos operações simbólicas em simulações para elaborar o código numérico mais eficiente, antes que seja executado.\n",
    "\n",
    "\n",
    "### Saída\n",
    "\n",
    "Antes de começar a usar o sympy, chamaremos `init_printing`. Isso diz ao sympy para exibir expressões em um formato mais agradável.\n"
   ]
  },
  {
   "cell_type": "code",
   "execution_count": 1,
   "metadata": {
    "ExecuteTime": {
     "end_time": "2019-01-17T14:57:59.906597Z",
     "start_time": "2019-01-17T14:57:56.650494Z"
    }
   },
   "outputs": [],
   "source": [
    "import sympy\n",
    "sympy.init_printing()"
   ]
  },
  {
   "cell_type": "code",
   "execution_count": 2,
   "metadata": {},
   "outputs": [
    {
     "data": {
      "text/plain": [
       "['Abs',\n",
       " 'AccumBounds',\n",
       " 'Add',\n",
       " 'Adjoint',\n",
       " 'AlgebraicField',\n",
       " 'AlgebraicNumber',\n",
       " 'And',\n",
       " 'AppliedPredicate',\n",
       " 'Array',\n",
       " 'AssumptionsContext',\n",
       " 'Atom',\n",
       " 'AtomicExpr',\n",
       " 'BasePolynomialError',\n",
       " 'Basic',\n",
       " 'BlockDiagMatrix',\n",
       " 'BlockMatrix',\n",
       " 'C',\n",
       " 'CC',\n",
       " 'CRootOf',\n",
       " 'Catalan',\n",
       " 'Chi',\n",
       " 'Ci',\n",
       " 'Circle',\n",
       " 'ClassRegistry',\n",
       " 'CoercionFailed',\n",
       " 'Complement',\n",
       " 'ComplexField',\n",
       " 'ComplexRegion',\n",
       " 'ComplexRootOf',\n",
       " 'ComputationFailed',\n",
       " 'ConditionSet',\n",
       " 'Contains',\n",
       " 'CosineTransform',\n",
       " 'Curve',\n",
       " 'DeferredVector',\n",
       " 'DenseNDimArray',\n",
       " 'Derivative',\n",
       " 'Determinant',\n",
       " 'DiagonalMatrix',\n",
       " 'DiagonalOf',\n",
       " 'Dict',\n",
       " 'DiracDelta',\n",
       " 'Domain',\n",
       " 'DomainError',\n",
       " 'DotProduct',\n",
       " 'Dummy',\n",
       " 'E',\n",
       " 'E1',\n",
       " 'EPath',\n",
       " 'EX',\n",
       " 'Ei',\n",
       " 'Eijk',\n",
       " 'Ellipse',\n",
       " 'EmptySequence',\n",
       " 'EmptySet',\n",
       " 'Eq',\n",
       " 'Equality',\n",
       " 'Equivalent',\n",
       " 'EulerGamma',\n",
       " 'EvaluationFailed',\n",
       " 'ExactQuotientFailed',\n",
       " 'Expr',\n",
       " 'ExpressionDomain',\n",
       " 'ExtraneousFactors',\n",
       " 'FF',\n",
       " 'FF_gmpy',\n",
       " 'FF_python',\n",
       " 'FU',\n",
       " 'FallingFactorial',\n",
       " 'FiniteField',\n",
       " 'FiniteSet',\n",
       " 'FlagError',\n",
       " 'Float',\n",
       " 'FourierTransform',\n",
       " 'FractionField',\n",
       " 'Function',\n",
       " 'FunctionClass',\n",
       " 'FunctionMatrix',\n",
       " 'GF',\n",
       " 'GMPYFiniteField',\n",
       " 'GMPYIntegerRing',\n",
       " 'GMPYRationalField',\n",
       " 'Ge',\n",
       " 'GeneratorsError',\n",
       " 'GeneratorsNeeded',\n",
       " 'GeometryError',\n",
       " 'GoldenRatio',\n",
       " 'GramSchmidt',\n",
       " 'GreaterThan',\n",
       " 'GroebnerBasis',\n",
       " 'Gt',\n",
       " 'HadamardProduct',\n",
       " 'HankelTransform',\n",
       " 'Heaviside',\n",
       " 'HeuristicGCDFailed',\n",
       " 'HomomorphismFailed',\n",
       " 'I',\n",
       " 'ITE',\n",
       " 'Id',\n",
       " 'Identity',\n",
       " 'Idx',\n",
       " 'ImageSet',\n",
       " 'ImmutableDenseMatrix',\n",
       " 'ImmutableDenseNDimArray',\n",
       " 'ImmutableMatrix',\n",
       " 'ImmutableSparseMatrix',\n",
       " 'ImmutableSparseNDimArray',\n",
       " 'Implies',\n",
       " 'Indexed',\n",
       " 'IndexedBase',\n",
       " 'Integer',\n",
       " 'IntegerRing',\n",
       " 'Integral',\n",
       " 'Intersection',\n",
       " 'Interval',\n",
       " 'Inverse',\n",
       " 'InverseCosineTransform',\n",
       " 'InverseFourierTransform',\n",
       " 'InverseHankelTransform',\n",
       " 'InverseLaplaceTransform',\n",
       " 'InverseMellinTransform',\n",
       " 'InverseSineTransform',\n",
       " 'IsomorphismFailed',\n",
       " 'KroneckerDelta',\n",
       " 'LC',\n",
       " 'LM',\n",
       " 'LT',\n",
       " 'Lambda',\n",
       " 'LambertW',\n",
       " 'LaplaceTransform',\n",
       " 'Le',\n",
       " 'LessThan',\n",
       " 'LeviCivita',\n",
       " 'Li',\n",
       " 'Limit',\n",
       " 'Line',\n",
       " 'Line2D',\n",
       " 'Line3D',\n",
       " 'Lt',\n",
       " 'MatAdd',\n",
       " 'MatMul',\n",
       " 'MatPow',\n",
       " 'Matrix',\n",
       " 'MatrixBase',\n",
       " 'MatrixExpr',\n",
       " 'MatrixSlice',\n",
       " 'MatrixSymbol',\n",
       " 'Max',\n",
       " 'MellinTransform',\n",
       " 'Min',\n",
       " 'Mod',\n",
       " 'Monomial',\n",
       " 'Mul',\n",
       " 'MultivariatePolynomialError',\n",
       " 'MutableDenseMatrix',\n",
       " 'MutableDenseNDimArray',\n",
       " 'MutableMatrix',\n",
       " 'MutableSparseMatrix',\n",
       " 'MutableSparseNDimArray',\n",
       " 'N',\n",
       " 'NDimArray',\n",
       " 'Nand',\n",
       " 'Ne',\n",
       " 'NonSquareMatrixError',\n",
       " 'Nor',\n",
       " 'Not',\n",
       " 'NotAlgebraic',\n",
       " 'NotInvertible',\n",
       " 'NotReversible',\n",
       " 'Number',\n",
       " 'NumberSymbol',\n",
       " 'O',\n",
       " 'OperationNotSupported',\n",
       " 'OptionError',\n",
       " 'Options',\n",
       " 'Or',\n",
       " 'Order',\n",
       " 'POSform',\n",
       " 'Parabola',\n",
       " 'Piecewise',\n",
       " 'Plane',\n",
       " 'Point',\n",
       " 'Point2D',\n",
       " 'Point3D',\n",
       " 'PoleError',\n",
       " 'PolificationFailed',\n",
       " 'Poly',\n",
       " 'Polygon',\n",
       " 'PolynomialDivisionFailed',\n",
       " 'PolynomialError',\n",
       " 'PolynomialRing',\n",
       " 'Pow',\n",
       " 'PrecisionExhausted',\n",
       " 'Predicate',\n",
       " 'Product',\n",
       " 'ProductSet',\n",
       " 'PurePoly',\n",
       " 'PythonFiniteField',\n",
       " 'PythonIntegerRing',\n",
       " 'PythonRationalField',\n",
       " 'Q',\n",
       " 'QQ',\n",
       " 'QQ_gmpy',\n",
       " 'QQ_python',\n",
       " 'RR',\n",
       " 'Range',\n",
       " 'Rational',\n",
       " 'RationalField',\n",
       " 'Ray',\n",
       " 'Ray2D',\n",
       " 'Ray3D',\n",
       " 'RealField',\n",
       " 'RealNumber',\n",
       " 'RefinementFailed',\n",
       " 'RegularPolygon',\n",
       " 'Rel',\n",
       " 'RisingFactorial',\n",
       " 'RootOf',\n",
       " 'RootSum',\n",
       " 'S',\n",
       " 'SOPform',\n",
       " 'SYMPY_DEBUG',\n",
       " 'Segment',\n",
       " 'Segment2D',\n",
       " 'Segment3D',\n",
       " 'SeqAdd',\n",
       " 'SeqFormula',\n",
       " 'SeqMul',\n",
       " 'SeqPer',\n",
       " 'Set',\n",
       " 'ShapeError',\n",
       " 'Shi',\n",
       " 'Si',\n",
       " 'Sieve',\n",
       " 'SineTransform',\n",
       " 'SingularityFunction',\n",
       " 'SparseMatrix',\n",
       " 'SparseNDimArray',\n",
       " 'StrictGreaterThan',\n",
       " 'StrictLessThan',\n",
       " 'Subs',\n",
       " 'Sum',\n",
       " 'Symbol',\n",
       " 'SymmetricDifference',\n",
       " 'SympifyError',\n",
       " 'TableForm',\n",
       " 'Trace',\n",
       " 'Transpose',\n",
       " 'Triangle',\n",
       " 'Tuple',\n",
       " 'Unequality',\n",
       " 'UnevaluatedExpr',\n",
       " 'UnificationFailed',\n",
       " 'Union',\n",
       " 'UnivariatePolynomialError',\n",
       " 'Wild',\n",
       " 'WildFunction',\n",
       " 'Xor',\n",
       " 'Ynm',\n",
       " 'Ynm_c',\n",
       " 'ZZ',\n",
       " 'ZZ_gmpy',\n",
       " 'ZZ_python',\n",
       " 'ZeroMatrix',\n",
       " 'Znm',\n",
       " '__builtins__',\n",
       " '__cached__',\n",
       " '__doc__',\n",
       " '__file__',\n",
       " '__loader__',\n",
       " '__name__',\n",
       " '__package__',\n",
       " '__path__',\n",
       " '__spec__',\n",
       " '__sympy_debug',\n",
       " '__version__',\n",
       " 'acos',\n",
       " 'acosh',\n",
       " 'acot',\n",
       " 'acoth',\n",
       " 'acsc',\n",
       " 'acsch',\n",
       " 'add',\n",
       " 'adjoint',\n",
       " 'airyai',\n",
       " 'airyaiprime',\n",
       " 'airybi',\n",
       " 'airybiprime',\n",
       " 'apart',\n",
       " 'apart_list',\n",
       " 'apply_finite_diff',\n",
       " 'are_similar',\n",
       " 'arg',\n",
       " 'array',\n",
       " 'as_finite_diff',\n",
       " 'asec',\n",
       " 'asech',\n",
       " 'asin',\n",
       " 'asinh',\n",
       " 'ask',\n",
       " 'ask_generated',\n",
       " 'assemble_partfrac_list',\n",
       " 'assoc_laguerre',\n",
       " 'assoc_legendre',\n",
       " 'assume',\n",
       " 'assuming',\n",
       " 'assumptions',\n",
       " 'atan',\n",
       " 'atan2',\n",
       " 'atanh',\n",
       " 'basic',\n",
       " 'bell',\n",
       " 'bernoulli',\n",
       " 'besseli',\n",
       " 'besselj',\n",
       " 'besselk',\n",
       " 'besselsimp',\n",
       " 'bessely',\n",
       " 'beta',\n",
       " 'binomial',\n",
       " 'binomial_coefficients',\n",
       " 'binomial_coefficients_list',\n",
       " 'bivariate',\n",
       " 'block_collapse',\n",
       " 'blockcut',\n",
       " 'bool_map',\n",
       " 'boolalg',\n",
       " 'bottom_up',\n",
       " 'bspline_basis',\n",
       " 'bspline_basis_set',\n",
       " 'cache',\n",
       " 'cacheit',\n",
       " 'calculus',\n",
       " 'cancel',\n",
       " 'capture',\n",
       " 'cartes',\n",
       " 'casoratian',\n",
       " 'catalan',\n",
       " 'cbrt',\n",
       " 'ccode',\n",
       " 'ceiling',\n",
       " 'centroid',\n",
       " 'chebyshevt',\n",
       " 'chebyshevt_poly',\n",
       " 'chebyshevt_root',\n",
       " 'chebyshevu',\n",
       " 'chebyshevu_poly',\n",
       " 'chebyshevu_root',\n",
       " 'check_assumptions',\n",
       " 'checkodesol',\n",
       " 'checkpdesol',\n",
       " 'checksol',\n",
       " 'class_registry',\n",
       " 'classify_ode',\n",
       " 'classify_pde',\n",
       " 'closest_points',\n",
       " 'codegen',\n",
       " 'cofactors',\n",
       " 'collect',\n",
       " 'collect_const',\n",
       " 'combinatorial',\n",
       " 'combsimp',\n",
       " 'common',\n",
       " 'comp',\n",
       " 'compatibility',\n",
       " 'compose',\n",
       " 'composite',\n",
       " 'compositepi',\n",
       " 'concrete',\n",
       " 'conditionset',\n",
       " 'conjugate',\n",
       " 'construct_domain',\n",
       " 'containers',\n",
       " 'contains',\n",
       " 'content',\n",
       " 'continued_fraction',\n",
       " 'continued_fraction_convergents',\n",
       " 'continued_fraction_iterator',\n",
       " 'continued_fraction_periodic',\n",
       " 'continued_fraction_reduce',\n",
       " 'convex_hull',\n",
       " 'core',\n",
       " 'coreerrors',\n",
       " 'cos',\n",
       " 'cosh',\n",
       " 'cosine_transform',\n",
       " 'cot',\n",
       " 'coth',\n",
       " 'count_ops',\n",
       " 'count_roots',\n",
       " 'csc',\n",
       " 'csch',\n",
       " 'cse',\n",
       " 'cse_main',\n",
       " 'cse_opts',\n",
       " 'curve',\n",
       " 'cycle_length',\n",
       " 'cyclotomic_poly',\n",
       " 'decompogen',\n",
       " 'decompose',\n",
       " 'decorator',\n",
       " 'decorators',\n",
       " 'default_sort_key',\n",
       " 'deg',\n",
       " 'degree',\n",
       " 'degree_list',\n",
       " 'denom',\n",
       " 'dense',\n",
       " 'deprecated',\n",
       " 'derive_by_array',\n",
       " 'det',\n",
       " 'det_quick',\n",
       " 'deutils',\n",
       " 'diag',\n",
       " 'dict_merge',\n",
       " 'diff',\n",
       " 'difference_delta',\n",
       " 'differentiate_finite',\n",
       " 'digamma',\n",
       " 'diophantine',\n",
       " 'dirichlet_eta',\n",
       " 'discrete_log',\n",
       " 'discriminant',\n",
       " 'div',\n",
       " 'divisor_count',\n",
       " 'divisor_sigma',\n",
       " 'divisors',\n",
       " 'doctest',\n",
       " 'dsolve',\n",
       " 'egyptian_fraction',\n",
       " 'elementary',\n",
       " 'ellipse',\n",
       " 'elliptic_e',\n",
       " 'elliptic_f',\n",
       " 'elliptic_k',\n",
       " 'elliptic_pi',\n",
       " 'entity',\n",
       " 'enumerative',\n",
       " 'epath',\n",
       " 'epathtools',\n",
       " 'erf',\n",
       " 'erf2',\n",
       " 'erf2inv',\n",
       " 'erfc',\n",
       " 'erfcinv',\n",
       " 'erfi',\n",
       " 'erfinv',\n",
       " 'euler',\n",
       " 'euler_equations',\n",
       " 'evalf',\n",
       " 'evaluate',\n",
       " 'exceptions',\n",
       " 'exp',\n",
       " 'exp_polar',\n",
       " 'expand',\n",
       " 'expand_complex',\n",
       " 'expand_func',\n",
       " 'expand_log',\n",
       " 'expand_mul',\n",
       " 'expand_multinomial',\n",
       " 'expand_power_base',\n",
       " 'expand_power_exp',\n",
       " 'expand_trig',\n",
       " 'expint',\n",
       " 'expr',\n",
       " 'expr_with_intlimits',\n",
       " 'expr_with_limits',\n",
       " 'expressions',\n",
       " 'exprtools',\n",
       " 'exptrigsimp',\n",
       " 'exquo',\n",
       " 'external',\n",
       " 'eye',\n",
       " 'factor',\n",
       " 'factor_',\n",
       " 'factor_list',\n",
       " 'factor_nc',\n",
       " 'factor_terms',\n",
       " 'factorial',\n",
       " 'factorial2',\n",
       " 'factorint',\n",
       " 'factorrat',\n",
       " 'facts',\n",
       " 'false',\n",
       " 'fancysets',\n",
       " 'farthest_points',\n",
       " 'fcode',\n",
       " 'ff',\n",
       " 'fibonacci',\n",
       " 'field',\n",
       " 'field_isomorphism',\n",
       " 'filldedent',\n",
       " 'finite_diff_weights',\n",
       " 'flatten',\n",
       " 'floor',\n",
       " 'fourier_series',\n",
       " 'fourier_transform',\n",
       " 'fps',\n",
       " 'frac',\n",
       " 'fraction',\n",
       " 'fresnelc',\n",
       " 'fresnels',\n",
       " 'fu',\n",
       " 'function',\n",
       " 'functions',\n",
       " 'gamma',\n",
       " 'gcd',\n",
       " 'gcd_list',\n",
       " 'gcd_terms',\n",
       " 'gcdex',\n",
       " 'gegenbauer',\n",
       " 'generate',\n",
       " 'genocchi',\n",
       " 'geometry',\n",
       " 'get_contraction_structure',\n",
       " 'get_indices',\n",
       " 'gff',\n",
       " 'gff_list',\n",
       " 'gosper',\n",
       " 'grevlex',\n",
       " 'grlex',\n",
       " 'groebner',\n",
       " 'ground_roots',\n",
       " 'group',\n",
       " 'gruntz',\n",
       " 'hadamard_product',\n",
       " 'half_gcdex',\n",
       " 'hankel1',\n",
       " 'hankel2',\n",
       " 'hankel_transform',\n",
       " 'harmonic',\n",
       " 'has_dups',\n",
       " 'has_variety',\n",
       " 'hermite',\n",
       " 'hermite_poly',\n",
       " 'hessian',\n",
       " 'hn1',\n",
       " 'hn2',\n",
       " 'homogeneous_order',\n",
       " 'horner',\n",
       " 'hyper',\n",
       " 'hyperexpand',\n",
       " 'hypersimilar',\n",
       " 'hypersimp',\n",
       " 'idiff',\n",
       " 'igcd',\n",
       " 'igrevlex',\n",
       " 'igrlex',\n",
       " 'ilcm',\n",
       " 'ilex',\n",
       " 'im',\n",
       " 'imageset',\n",
       " 'immutable',\n",
       " 'index_methods',\n",
       " 'indexed',\n",
       " 'inequalities',\n",
       " 'inference',\n",
       " 'init_printing',\n",
       " 'init_session',\n",
       " 'integer_nthroot',\n",
       " 'integrals',\n",
       " 'integrate',\n",
       " 'interactive',\n",
       " 'interactive_traversal',\n",
       " 'interpolate',\n",
       " 'interpolating_poly',\n",
       " 'intersection',\n",
       " 'intervals',\n",
       " 'inv_quick',\n",
       " 'inverse_cosine_transform',\n",
       " 'inverse_fourier_transform',\n",
       " 'inverse_hankel_transform',\n",
       " 'inverse_laplace_transform',\n",
       " 'inverse_mellin_transform',\n",
       " 'inverse_sine_transform',\n",
       " 'invert',\n",
       " 'is_decreasing',\n",
       " 'is_increasing',\n",
       " 'is_monotonic',\n",
       " 'is_nthpow_residue',\n",
       " 'is_primitive_root',\n",
       " 'is_quad_residue',\n",
       " 'is_strictly_decreasing',\n",
       " 'is_strictly_increasing',\n",
       " 'is_zero_dimensional',\n",
       " 'isolate',\n",
       " 'isprime',\n",
       " 'iterables',\n",
       " 'itermonomials',\n",
       " 'jacobi',\n",
       " 'jacobi_normalized',\n",
       " 'jacobi_poly',\n",
       " 'jacobi_symbol',\n",
       " 'jn',\n",
       " 'jn_zeros',\n",
       " 'jordan_cell',\n",
       " 'jscode',\n",
       " 'julia_code',\n",
       " 'laguerre',\n",
       " 'laguerre_poly',\n",
       " 'lambdify',\n",
       " 'laplace_transform',\n",
       " 'latex',\n",
       " 'lcm',\n",
       " 'lcm_list',\n",
       " 'legendre',\n",
       " 'legendre_poly',\n",
       " 'legendre_symbol',\n",
       " 'lerchphi',\n",
       " 'lex',\n",
       " 'li',\n",
       " 'limit',\n",
       " 'limit_seq',\n",
       " 'line',\n",
       " 'line_integrate',\n",
       " 'linear_eq_to_matrix',\n",
       " 'linsolve',\n",
       " 'list2numpy',\n",
       " 'ln',\n",
       " 'log',\n",
       " 'logcombine',\n",
       " 'loggamma',\n",
       " 'logic',\n",
       " 'lowergamma',\n",
       " 'lucas',\n",
       " 'magic',\n",
       " 'manualintegrate',\n",
       " 'mathematica_code',\n",
       " 'mathieuc',\n",
       " 'mathieucprime',\n",
       " 'mathieus',\n",
       " 'mathieusprime',\n",
       " 'matrices',\n",
       " 'matrix2numpy',\n",
       " 'matrix_multiply_elementwise',\n",
       " 'matrix_symbols',\n",
       " 'meijerg',\n",
       " 'meijerint',\n",
       " 'mellin_transform',\n",
       " 'memoization',\n",
       " 'memoize_property',\n",
       " 'minimal_polynomial',\n",
       " 'minpoly',\n",
       " 'misc',\n",
       " 'mobius',\n",
       " 'mod',\n",
       " 'mod_inverse',\n",
       " 'monic',\n",
       " 'mul',\n",
       " 'multidimensional',\n",
       " 'multinomial',\n",
       " 'multinomial_coefficients',\n",
       " 'multiplicity',\n",
       " 'n_order',\n",
       " 'nan',\n",
       " 'nextprime',\n",
       " 'nfloat',\n",
       " 'nonlinsolve',\n",
       " 'not_empty_in',\n",
       " 'npartitions',\n",
       " 'nroots',\n",
       " 'nsimplify',\n",
       " 'nsolve',\n",
       " 'nth_power_roots_poly',\n",
       " 'ntheory',\n",
       " 'nthroot_mod',\n",
       " 'numbered_symbols',\n",
       " 'numbers',\n",
       " 'numer',\n",
       " 'octave_code',\n",
       " 'ode',\n",
       " 'ode_order',\n",
       " 'ones',\n",
       " 'oo',\n",
       " 'operations',\n",
       " 'ordered',\n",
       " 'pager_print',\n",
       " 'parabola',\n",
       " 'parallel_poly_from_expr',\n",
       " 'parsing',\n",
       " 'partitions_',\n",
       " 'pde',\n",
       " 'pde_separate',\n",
       " 'pde_separate_add',\n",
       " 'pde_separate_mul',\n",
       " 'pdiv',\n",
       " 'pdsolve',\n",
       " 'perfect_power',\n",
       " 'periodic_argument',\n",
       " 'periodicity',\n",
       " 'permutedims',\n",
       " 'pexquo',\n",
       " 'physics',\n",
       " 'pi',\n",
       " 'piecewise_fold',\n",
       " 'plane',\n",
       " 'plot',\n",
       " 'plot_backends',\n",
       " 'plot_implicit',\n",
       " 'plotting',\n",
       " 'point',\n",
       " 'polar_lift',\n",
       " 'polarify',\n",
       " 'pollard_pm1',\n",
       " 'pollard_rho',\n",
       " 'poly',\n",
       " 'poly_from_expr',\n",
       " 'polygamma',\n",
       " 'polygon',\n",
       " 'polylog',\n",
       " 'polys',\n",
       " 'polysys',\n",
       " 'posify',\n",
       " 'postfixes',\n",
       " 'postorder_traversal',\n",
       " 'powdenest',\n",
       " 'power',\n",
       " 'powsimp',\n",
       " 'pprint',\n",
       " 'pprint_try_use_unicode',\n",
       " 'pprint_use_unicode',\n",
       " 'pquo',\n",
       " 'prefixes',\n",
       " 'prem',\n",
       " 'preorder_traversal',\n",
       " 'pretty',\n",
       " 'pretty_print',\n",
       " 'preview',\n",
       " 'prevprime',\n",
       " 'prime',\n",
       " 'primefactors',\n",
       " 'primenu',\n",
       " 'primeomega',\n",
       " 'primepi',\n",
       " 'primerange',\n",
       " 'primetest',\n",
       " 'primitive',\n",
       " 'primitive_element',\n",
       " 'primitive_root',\n",
       " 'primorial',\n",
       " 'principal_branch',\n",
       " 'print_gtk',\n",
       " 'print_python',\n",
       " 'print_tree',\n",
       " 'printing',\n",
       " 'prod',\n",
       " 'product',\n",
       " 'products',\n",
       " 'public',\n",
       " 'python',\n",
       " 'quadratic_residues',\n",
       " 'quo',\n",
       " 'rad',\n",
       " 'radsimp',\n",
       " 'randMatrix',\n",
       " 'random_poly',\n",
       " 'randprime',\n",
       " 'rational_interpolate',\n",
       " 'ratsimp',\n",
       " 'ratsimpmodprime',\n",
       " 'rcode',\n",
       " 'rcollect',\n",
       " 're',\n",
       " 'real_root',\n",
       " 'real_roots',\n",
       " 'recurr',\n",
       " 'reduce_abs_inequalities',\n",
       " 'reduce_abs_inequality',\n",
       " 'reduce_inequalities',\n",
       " 'reduced',\n",
       " 'reduced_totient',\n",
       " 'refine',\n",
       " 'refine_root',\n",
       " 'register_handler',\n",
       " 'relational',\n",
       " 'release',\n",
       " 'rem',\n",
       " 'remove_handler',\n",
       " 'reshape',\n",
       " 'residue',\n",
       " 'residue_ntheory',\n",
       " 'resultant',\n",
       " 'rf',\n",
       " 'ring',\n",
       " 'root',\n",
       " 'rootof',\n",
       " 'roots',\n",
       " 'rot_axis1',\n",
       " 'rot_axis2',\n",
       " 'rot_axis3',\n",
       " 'rsolve',\n",
       " 'rsolve_hyper',\n",
       " 'rsolve_poly',\n",
       " 'rsolve_ratio',\n",
       " 'rules',\n",
       " 'runtests',\n",
       " 'rust_code',\n",
       " 'satisfiable',\n",
       " 'sec',\n",
       " 'sech',\n",
       " 'separatevars',\n",
       " 'sequence',\n",
       " 'series',\n",
       " 'seterr',\n",
       " 'sets',\n",
       " 'sfield',\n",
       " 'sieve',\n",
       " 'sift',\n",
       " 'sign',\n",
       " 'signsimp',\n",
       " 'simplify',\n",
       " 'simplify_logic',\n",
       " 'sin',\n",
       " 'sinc',\n",
       " 'sine_transform',\n",
       " 'singleton',\n",
       " 'singularities',\n",
       " 'singularityfunctions',\n",
       " 'singularityintegrate',\n",
       " 'sinh',\n",
       " 'solve',\n",
       " 'solve_linear',\n",
       " 'solve_linear_system',\n",
       " 'solve_linear_system_LU',\n",
       " 'solve_poly_inequality',\n",
       " 'solve_poly_system',\n",
       " 'solve_rational_inequalities',\n",
       " 'solve_triangulated',\n",
       " 'solve_undetermined_coeffs',\n",
       " 'solve_univariate_inequality',\n",
       " 'solvers',\n",
       " 'solveset',\n",
       " 'source',\n",
       " 'sparse',\n",
       " 'special',\n",
       " 'sqf',\n",
       " 'sqf_list',\n",
       " 'sqf_norm',\n",
       " 'sqf_part',\n",
       " 'sqrt',\n",
       " 'sqrt_mod',\n",
       " 'sqrt_mod_iter',\n",
       " 'sqrtdenest',\n",
       " 'srepr',\n",
       " 'sring',\n",
       " 'sstr',\n",
       " 'sstrrepr',\n",
       " 'stieltjes',\n",
       " 'strategies',\n",
       " 'sturm',\n",
       " 'subfactorial',\n",
       " 'subresultants',\n",
       " 'subsets',\n",
       " 'substitution',\n",
       " 'summation',\n",
       " 'summations',\n",
       " 'swinnerton_dyer_poly',\n",
       " 'symarray',\n",
       " 'symbol',\n",
       " 'symbols',\n",
       " 'symmetric_poly',\n",
       " 'symmetrize',\n",
       " 'sympify',\n",
       " 'take',\n",
       " 'tan',\n",
       " 'tanh',\n",
       " 'tensor',\n",
       " 'tensorcontraction',\n",
       " 'tensorproduct',\n",
       " 'terms_gcd',\n",
       " 'test',\n",
       " 'textplot',\n",
       " 'threaded',\n",
       " 'timed',\n",
       " 'timeutils',\n",
       " 'to_cnf',\n",
       " 'to_dnf',\n",
       " 'to_nnf',\n",
       " 'to_number_field',\n",
       " 'together',\n",
       " 'topological_sort',\n",
       " 'totient',\n",
       " 'trace',\n",
       " 'trailing',\n",
       " 'transforms',\n",
       " 'transpose',\n",
       " 'traversaltools',\n",
       " 'trigamma',\n",
       " 'trigonometry',\n",
       " 'trigsimp',\n",
       " 'true',\n",
       " 'trunc',\n",
       " 'unbranched_argument',\n",
       " 'unflatten',\n",
       " 'unpolarify',\n",
       " 'uppergamma',\n",
       " 'use',\n",
       " 'util',\n",
       " 'utilities',\n",
       " 'var',\n",
       " 'variations',\n",
       " 'vectorize',\n",
       " 'vfield',\n",
       " 'viete',\n",
       " 'vring',\n",
       " 'wronskian',\n",
       " 'xfield',\n",
       " 'xring',\n",
       " 'xthreaded',\n",
       " 'yn',\n",
       " 'zeros',\n",
       " 'zeta',\n",
       " 'zoo']"
      ]
     },
     "execution_count": 2,
     "metadata": {},
     "output_type": "execute_result"
    }
   ],
   "source": [
    "dir(sympy)"
   ]
  },
  {
   "cell_type": "markdown",
   "metadata": {},
   "source": [
    "### Simbolos\n",
    "\n",
    "\n",
    "Antes de podermos realizar quaisquer operações simbólicas, precisamos criar variáveis simbólicas usando a função `Symbol` do SymPy:"
   ]
  },
  {
   "cell_type": "code",
   "execution_count": 3,
   "metadata": {
    "ExecuteTime": {
     "end_time": "2019-01-17T14:58:04.631417Z",
     "start_time": "2019-01-17T14:58:04.626429Z"
    }
   },
   "outputs": [
    {
     "data": {
      "text/plain": [
       "sympy.core.symbol.Symbol"
      ]
     },
     "execution_count": 3,
     "metadata": {},
     "output_type": "execute_result"
    }
   ],
   "source": [
    "from sympy import Symbol\n",
    "x = Symbol('x')\n",
    "type(x)"
   ]
  },
  {
   "cell_type": "code",
   "execution_count": 3,
   "metadata": {
    "ExecuteTime": {
     "end_time": "2019-01-09T15:43:00.484055Z",
     "start_time": "2019-01-09T15:42:59.416517Z"
    }
   },
   "outputs": [
    {
     "data": {
      "image/png": "[encoded data removed]",
      "text/latex": [
       "$$x$$"
      ],
      "text/plain": [
       "x"
      ]
     },
     "execution_count": 3,
     "metadata": {},
     "output_type": "execute_result"
    }
   ],
   "source": [
    "y = Symbol('y')\n",
    "2 * x - x"
   ]
  },
  {
   "cell_type": "code",
   "execution_count": 4,
   "metadata": {
    "ExecuteTime": {
     "end_time": "2019-01-09T15:43:02.133464Z",
     "start_time": "2019-01-09T15:43:01.926495Z"
    }
   },
   "outputs": [
    {
     "data": {
      "image/png": "[encoded data removed]",
      "text/latex": [
       "$$2 x + 11 y$$"
      ],
      "text/plain": [
       "2⋅x + 11⋅y"
      ]
     },
     "execution_count": 4,
     "metadata": {},
     "output_type": "execute_result"
    }
   ],
   "source": [
    "x + y + x + 10*y"
   ]
  },
  {
   "cell_type": "code",
   "execution_count": 5,
   "metadata": {
    "ExecuteTime": {
     "end_time": "2019-01-09T15:43:04.169517Z",
     "start_time": "2019-01-09T15:43:04.034201Z"
    }
   },
   "outputs": [
    {
     "data": {
      "image/png": "[encoded data removed]",
      "text/latex": [
       "$$x + 10$$"
      ],
      "text/plain": [
       "x + 10"
      ]
     },
     "execution_count": 5,
     "metadata": {},
     "output_type": "execute_result"
    }
   ],
   "source": [
    "y + x - y + 10"
   ]
  },
  {
   "cell_type": "markdown",
   "metadata": {},
   "source": [
    "Podemos abreviar a criação de várias variáveis simbólicas usando a função `symbols`. Por exemplo, para criar as variáveis simbólicas `x`,` y` e `z`, podemos usar"
   ]
  },
  {
   "cell_type": "code",
   "execution_count": 4,
   "metadata": {
    "ExecuteTime": {
     "end_time": "2019-01-09T15:43:10.884232Z",
     "start_time": "2019-01-09T15:43:10.747469Z"
    }
   },
   "outputs": [
    {
     "data": {
      "image/png": "[encoded data removed]",
      "text/latex": [
       "$$2 y + 3 z$$"
      ],
      "text/plain": [
       "2⋅y + 3⋅z"
      ]
     },
     "execution_count": 4,
     "metadata": {},
     "output_type": "execute_result"
    }
   ],
   "source": [
    "import sympy\n",
    "x, y, z = sympy.symbols('x,y,z')\n",
    "x + 2*y + 3*z - x"
   ]
  },
  {
   "cell_type": "markdown",
   "metadata": {},
   "source": [
    "Assim que concluímos a manipulação de termos, às vezes gostamos de inserir números para variáveis. Isso pode ser feito usando o método `subs`."
   ]
  },
  {
   "cell_type": "code",
   "execution_count": 7,
   "metadata": {
    "ExecuteTime": {
     "end_time": "2019-01-09T15:43:12.242491Z",
     "start_time": "2019-01-09T15:43:12.110731Z"
    }
   },
   "outputs": [
    {
     "data": {
      "image/png": "[encoded data removed]",
      "text/latex": [
       "$$x + 2 y$$"
      ],
      "text/plain": [
       "x + 2⋅y"
      ]
     },
     "execution_count": 7,
     "metadata": {},
     "output_type": "execute_result"
    }
   ],
   "source": [
    "from sympy import symbols\n",
    "x, y = symbols('x,y')\n",
    "x + 2*y"
   ]
  },
  {
   "cell_type": "code",
   "execution_count": 8,
   "metadata": {
    "ExecuteTime": {
     "end_time": "2019-01-09T15:43:12.724576Z",
     "start_time": "2019-01-09T15:43:12.589488Z"
    }
   },
   "outputs": [
    {
     "data": {
      "image/png": "[encoded data removed]",
      "text/latex": [
       "$$x + 2 y$$"
      ],
      "text/plain": [
       "x + 2⋅y"
      ]
     },
     "execution_count": 8,
     "metadata": {},
     "output_type": "execute_result"
    }
   ],
   "source": [
    "x + 2*y.subs(x, 10)"
   ]
  },
  {
   "cell_type": "code",
   "execution_count": 9,
   "metadata": {
    "ExecuteTime": {
     "end_time": "2019-01-09T15:43:13.097625Z",
     "start_time": "2019-01-09T15:43:12.958968Z"
    }
   },
   "outputs": [
    {
     "data": {
      "image/png": "[encoded data removed]",
      "text/latex": [
       "$$2 y + 10$$"
      ],
      "text/plain": [
       "2⋅y + 10"
      ]
     },
     "execution_count": 9,
     "metadata": {},
     "output_type": "execute_result"
    }
   ],
   "source": [
    "(x + 2*y).subs(x, 10)"
   ]
  },
  {
   "cell_type": "code",
   "execution_count": 10,
   "metadata": {
    "ExecuteTime": {
     "end_time": "2019-01-09T15:43:13.432703Z",
     "start_time": "2019-01-09T15:43:13.295447Z"
    }
   },
   "outputs": [
    {
     "data": {
      "image/png": "[encoded data removed]",
      "text/latex": [
       "$$16$$"
      ],
      "text/plain": [
       "16"
      ]
     },
     "execution_count": 10,
     "metadata": {},
     "output_type": "execute_result"
    }
   ],
   "source": [
    "(x + 2*y).subs(x, 10).subs(y, 3)"
   ]
  },
  {
   "cell_type": "code",
   "execution_count": 11,
   "metadata": {
    "ExecuteTime": {
     "end_time": "2019-01-09T15:43:13.865955Z",
     "start_time": "2019-01-09T15:43:13.730339Z"
    }
   },
   "outputs": [
    {
     "data": {
      "image/png": "[encoded data removed]",
      "text/latex": [
       "$$16$$"
      ],
      "text/plain": [
       "16"
      ]
     },
     "execution_count": 11,
     "metadata": {},
     "output_type": "execute_result"
    }
   ],
   "source": [
    "(x + 2*y).subs({x:10, y:3})"
   ]
  },
  {
   "cell_type": "markdown",
   "metadata": {},
   "source": [
    "Também podemos substituir uma variável simbólica por outra, como neste exemplo, onde `y` é substituído por` x` antes de substituir `x` pelo número` 2`."
   ]
  },
  {
   "cell_type": "code",
   "execution_count": 12,
   "metadata": {
    "ExecuteTime": {
     "end_time": "2019-01-09T15:43:17.008300Z",
     "start_time": "2019-01-09T15:43:16.851562Z"
    }
   },
   "outputs": [
    {
     "data": {
      "image/png": "[encoded data removed]",
      "text/latex": [
       "$$3 x + y^{2}$$"
      ],
      "text/plain": [
       "       2\n",
       "3⋅x + y "
      ]
     },
     "execution_count": 12,
     "metadata": {},
     "output_type": "execute_result"
    }
   ],
   "source": [
    "myterm = 3*x + y**2\n",
    "myterm"
   ]
  },
  {
   "cell_type": "code",
   "execution_count": 13,
   "metadata": {
    "ExecuteTime": {
     "end_time": "2019-01-09T15:43:17.704550Z",
     "start_time": "2019-01-09T15:43:17.566048Z"
    }
   },
   "outputs": [
    {
     "data": {
      "image/png": "[encoded data removed]",
      "text/latex": [
       "$$y^{2} + 3 y$$"
      ],
      "text/plain": [
       " 2      \n",
       "y  + 3⋅y"
      ]
     },
     "execution_count": 13,
     "metadata": {},
     "output_type": "execute_result"
    }
   ],
   "source": [
    "myterm.subs(x, y)"
   ]
  },
  {
   "cell_type": "code",
   "execution_count": 14,
   "metadata": {
    "ExecuteTime": {
     "end_time": "2019-01-09T15:43:18.183564Z",
     "start_time": "2019-01-09T15:43:18.048817Z"
    }
   },
   "outputs": [
    {
     "data": {
      "image/png": "[encoded data removed]",
      "text/latex": [
       "$$10$$"
      ],
      "text/plain": [
       "10"
      ]
     },
     "execution_count": 14,
     "metadata": {},
     "output_type": "execute_result"
    }
   ],
   "source": [
    "myterm.subs(x, y).subs(y, 2)"
   ]
  },
  {
   "cell_type": "markdown",
   "metadata": {},
   "source": [
    "Deste ponto em diante, alguns dos fragmentos de código e exemplos que apresentamos assumirão que os símbolos requeridos já foram definidos. Se você tentar um exemplo e SymPy fornecer uma mensagem como `NameError: name ’x’ is not defined` é provavelmente porque você precisa definir o símbolo usando um dos métodos acima."
   ]
  },
  {
   "cell_type": "markdown",
   "metadata": {},
   "source": [
    "### isympy\n",
    " \n",
    "O executável `isympy` é um invólucro em torno de ipython que cria as variáveis simbólicas (reais) `x`, `y` e `z`, as variáveis inteiras simbólicas `k`,` m` e `n` e as variáveis de função simbólicas `F`,` g` e `h` e importa todos os objetos de mais alto nível do SymPy.\n",
    "\n",
    "Isso é conveniente para descobrir novos recursos ou experimentar interativamente\n",
    "\n",
    "\n",
    "    $> isympy\n",
    "    Python 2.6.5 console for SymPy 0.6.7\n",
    "\n",
    "    These commands were executed:\n",
    "    >>> from __future__ import division\n",
    "    >>> from sympy import *\n",
    "    >>> x, y, z = symbols('xyz')\n",
    "    >>> k, m, n = symbols('kmn', integer=True)\n",
    "    >>> f, g, h = map(Function, 'fgh')\n",
    "\n",
    "    Documentation can be found at http://sympy.org/\n",
    "\n",
    "    In [1]: "
   ]
  },
  {
   "cell_type": "markdown",
   "metadata": {},
   "source": [
    "### Tipos Numéricos\n",
    "\n",
    "\n",
    "SymPy possui os tipos numéricos `Rational` e` RealNumber`. A classe Racional representa um número racional como um par de dois inteiros: o numerador e o denominador, então `Rational(1,2)`  representa `1/2`, `Rational(5,2)` representa `5/2` e assim por diante."
   ]
  },
  {
   "cell_type": "code",
   "execution_count": 16,
   "metadata": {
    "collapsed": true
   },
   "outputs": [],
   "source": [
    "from sympy import Rational"
   ]
  },
  {
   "cell_type": "code",
   "execution_count": 17,
   "metadata": {},
   "outputs": [
    {
     "data": {
      "image/png": "[encoded data removed]",
      "text/latex": [
       "$$\\frac{1}{10}$$"
      ],
      "text/plain": [
       "1/10"
      ]
     },
     "execution_count": 17,
     "metadata": {},
     "output_type": "execute_result"
    }
   ],
   "source": [
    "a = Rational(1, 10)\n",
    "a"
   ]
  },
  {
   "cell_type": "code",
   "execution_count": 18,
   "metadata": {},
   "outputs": [
    {
     "data": {
      "image/png": "[encoded data removed]",
      "text/latex": [
       "$$\\frac{45}{67}$$"
      ],
      "text/plain": [
       "45\n",
       "──\n",
       "67"
      ]
     },
     "execution_count": 18,
     "metadata": {},
     "output_type": "execute_result"
    }
   ],
   "source": [
    "b = Rational(45, 67)\n",
    "b"
   ]
  },
  {
   "cell_type": "code",
   "execution_count": 19,
   "metadata": {},
   "outputs": [
    {
     "data": {
      "image/png": "[encoded data removed]",
      "text/latex": [
       "$$\\frac{9}{134}$$"
      ],
      "text/plain": [
       "9/134"
      ]
     },
     "execution_count": 19,
     "metadata": {},
     "output_type": "execute_result"
    }
   ],
   "source": [
    "a * b"
   ]
  },
  {
   "cell_type": "code",
   "execution_count": 20,
   "metadata": {},
   "outputs": [
    {
     "data": {
      "image/png": "[encoded data removed]",
      "text/latex": [
       "$$- \\frac{383}{670}$$"
      ],
      "text/plain": [
       "-383 \n",
       "─────\n",
       " 670 "
      ]
     },
     "execution_count": 20,
     "metadata": {},
     "output_type": "execute_result"
    }
   ],
   "source": [
    "a - b"
   ]
  },
  {
   "cell_type": "code",
   "execution_count": 21,
   "metadata": {},
   "outputs": [
    {
     "data": {
      "image/png": "[encoded data removed]",
      "text/latex": [
       "$$\\frac{517}{670}$$"
      ],
      "text/plain": [
       "517\n",
       "───\n",
       "670"
      ]
     },
     "execution_count": 21,
     "metadata": {},
     "output_type": "execute_result"
    }
   ],
   "source": [
    "a + b"
   ]
  },
  {
   "cell_type": "markdown",
   "metadata": {},
   "source": [
    "Observe que a classe Rational funciona com expressões racionais *exatamente*. Isto está em contraste com o tipo de dados `float` padrão do Python que usa a representação de ponto flutuante para números *aproximados* (racionais).\n",
    "\n",
    "Podemos converter o tipo `sympy.Rational` em uma variável de ponto flutuante Python usando `float` ou o método `evalf` do objeto Rational. O método `evalf` pode ter um argumento que especifica quantos dígitos devem ser calculados para a aproximação de ponto flutuante (nem todos podem ser usados pelo tipo de ponto flutuante do Python, claro)."
   ]
  },
  {
   "cell_type": "code",
   "execution_count": 22,
   "metadata": {},
   "outputs": [
    {
     "data": {
      "image/png": "[encoded data removed]",
      "text/latex": [
       "$$\\frac{2}{3}$$"
      ],
      "text/plain": [
       "2/3"
      ]
     },
     "execution_count": 22,
     "metadata": {},
     "output_type": "execute_result"
    }
   ],
   "source": [
    "c = Rational(2, 3)\n",
    "c"
   ]
  },
  {
   "cell_type": "code",
   "execution_count": 23,
   "metadata": {},
   "outputs": [
    {
     "data": {
      "image/png": "[encoded data removed]",
      "text/latex": [
       "$$0.6666666666666666$$"
      ],
      "text/plain": [
       "0.6666666666666666"
      ]
     },
     "execution_count": 23,
     "metadata": {},
     "output_type": "execute_result"
    }
   ],
   "source": [
    "float(c)"
   ]
  },
  {
   "cell_type": "code",
   "execution_count": 24,
   "metadata": {},
   "outputs": [
    {
     "data": {
      "image/png": "[encoded data removed]",
      "text/latex": [
       "$$0.666666666666667$$"
      ],
      "text/plain": [
       "0.666666666666667"
      ]
     },
     "execution_count": 24,
     "metadata": {},
     "output_type": "execute_result"
    }
   ],
   "source": [
    "c.evalf()"
   ]
  },
  {
   "cell_type": "code",
   "execution_count": 25,
   "metadata": {},
   "outputs": [
    {
     "data": {
      "image/png": "[encoded data removed]",
      "text/latex": [
       "$$0.66666666666666666666666666666666666666666666666667$$"
      ],
      "text/plain": [
       "0.66666666666666666666666666666666666666666666666667"
      ]
     },
     "execution_count": 25,
     "metadata": {},
     "output_type": "execute_result"
    }
   ],
   "source": [
    "c.evalf(50)"
   ]
  },
  {
   "cell_type": "markdown",
   "metadata": {},
   "source": [
    "### Diferenciação e Integração \n",
    "\n",
    "O SymPy é capaz de realizar diferenciação e integração de muitas funções:"
   ]
  },
  {
   "cell_type": "code",
   "execution_count": 7,
   "metadata": {
    "ExecuteTime": {
     "end_time": "2019-01-09T15:43:27.787287Z",
     "start_time": "2019-01-09T15:43:27.634286Z"
    }
   },
   "outputs": [
    {
     "data": {
      "image/png": "[encoded data removed]",
      "text/latex": [
       "$$\\cos{\\left (x \\right )}$$"
      ],
      "text/plain": [
       "cos(x)"
      ]
     },
     "execution_count": 7,
     "metadata": {},
     "output_type": "execute_result"
    }
   ],
   "source": [
    "from sympy import Symbol, exp, sin, sqrt, diff\n",
    "x = Symbol('x')\n",
    "y = Symbol('y')\n",
    "diff(sin(x), x)"
   ]
  },
  {
   "cell_type": "code",
   "execution_count": 8,
   "metadata": {
    "ExecuteTime": {
     "end_time": "2019-01-09T15:43:32.810167Z",
     "start_time": "2019-01-09T15:43:32.672307Z"
    }
   },
   "outputs": [
    {
     "data": {
      "image/png": "[encoded data removed]",
      "text/latex": [
       "$$0$$"
      ],
      "text/plain": [
       "0"
      ]
     },
     "execution_count": 8,
     "metadata": {},
     "output_type": "execute_result"
    }
   ],
   "source": [
    "diff(sin(x), y)"
   ]
  },
  {
   "cell_type": "code",
   "execution_count": 12,
   "metadata": {
    "ExecuteTime": {
     "end_time": "2019-01-09T15:43:37.470345Z",
     "start_time": "2019-01-09T15:43:37.318900Z"
    }
   },
   "outputs": [
    {
     "data": {
      "image/png": "[encoded data removed]",
      "text/latex": [
       "$$9 x^{8} + 26 x$$"
      ],
      "text/plain": [
       "   8       \n",
       "9⋅x  + 26⋅x"
      ]
     },
     "execution_count": 12,
     "metadata": {},
     "output_type": "execute_result"
    }
   ],
   "source": [
    "diff(10 + 3*x**2 + 4*y**2 + 10*x**2 + x**9, x)"
   ]
  },
  {
   "cell_type": "code",
   "execution_count": 29,
   "metadata": {},
   "outputs": [
    {
     "data": {
      "image/png": "[encoded data removed]",
      "text/latex": [
       "$$72 x^{7} + 20$$"
      ],
      "text/plain": [
       "    7     \n",
       "72⋅x  + 20"
      ]
     },
     "execution_count": 29,
     "metadata": {},
     "output_type": "execute_result"
    }
   ],
   "source": [
    "diff(_,x)"
   ]
  },
  {
   "cell_type": "code",
   "execution_count": 5,
   "metadata": {},
   "outputs": [
    {
     "ename": "NameError",
     "evalue": "name 'diff' is not defined",
     "output_type": "error",
     "traceback": [
      "\u001b[0;31m---------------------------------------------------------------------------\u001b[0m",
      "\u001b[0;31mNameError\u001b[0m                                 Traceback (most recent call last)",
      "\u001b[0;32m<ipython-input-5-f6899b7d1571>\u001b[0m in \u001b[0;36m<module>\u001b[0;34m\u001b[0m\n\u001b[0;32m----> 1\u001b[0;31m \u001b[0mdiff\u001b[0m\u001b[0;34m(\u001b[0m\u001b[0;36m10\u001b[0m \u001b[0;34m+\u001b[0m \u001b[0;36m3\u001b[0m\u001b[0;34m*\u001b[0m\u001b[0mx\u001b[0m \u001b[0;34m+\u001b[0m \u001b[0;36m4\u001b[0m\u001b[0;34m*\u001b[0m\u001b[0my\u001b[0m \u001b[0;34m+\u001b[0m \u001b[0;36m10\u001b[0m\u001b[0;34m*\u001b[0m\u001b[0mx\u001b[0m\u001b[0;34m**\u001b[0m\u001b[0;36m2\u001b[0m \u001b[0;34m+\u001b[0m \u001b[0mx\u001b[0m\u001b[0;34m**\u001b[0m\u001b[0;36m9\u001b[0m\u001b[0;34m,\u001b[0m \u001b[0mx\u001b[0m\u001b[0;34m,\u001b[0m\u001b[0;36m2\u001b[0m\u001b[0;34m)\u001b[0m\u001b[0;34m\u001b[0m\u001b[0;34m\u001b[0m\u001b[0m\n\u001b[0m",
      "\u001b[0;31mNameError\u001b[0m: name 'diff' is not defined"
     ]
    }
   ],
   "source": [
    "diff(10 + 3*x + 4*y + 10*x**2 + x**9, x,2)"
   ]
  },
  {
   "cell_type": "code",
   "execution_count": 31,
   "metadata": {},
   "outputs": [
    {
     "data": {
      "image/png": "[encoded data removed]",
      "text/latex": [
       "$$4$$"
      ],
      "text/plain": [
       "4"
      ]
     },
     "execution_count": 31,
     "metadata": {},
     "output_type": "execute_result"
    }
   ],
   "source": [
    "diff(10 + 3*x + 4*y + 10*x**2 + x**9, y)"
   ]
  },
  {
   "cell_type": "code",
   "execution_count": 32,
   "metadata": {},
   "outputs": [
    {
     "data": {
      "image/png": "[encoded data removed]",
      "text/latex": [
       "$$32$$"
      ],
      "text/plain": [
       "32"
      ]
     },
     "execution_count": 32,
     "metadata": {},
     "output_type": "execute_result"
    }
   ],
   "source": [
    "diff(10 + 3*x + 4*y + 10*x**2 + x**9, x).subs(x,1)"
   ]
  },
  {
   "cell_type": "code",
   "execution_count": 33,
   "metadata": {},
   "outputs": [
    {
     "data": {
      "image/png": "[encoded data removed]",
      "text/latex": [
       "$$263.66015625$$"
      ],
      "text/plain": [
       "263.660156250000"
      ]
     },
     "execution_count": 33,
     "metadata": {},
     "output_type": "execute_result"
    }
   ],
   "source": [
    "diff(10 + 3*x + 4*y + 10*x**2 + x**9, x).subs(x,1.5)"
   ]
  },
  {
   "cell_type": "code",
   "execution_count": 34,
   "metadata": {},
   "outputs": [
    {
     "data": {
      "image/png": "[encoded data removed]",
      "text/latex": [
       "$$e^{x}$$"
      ],
      "text/plain": [
       " x\n",
       "ℯ "
      ]
     },
     "execution_count": 34,
     "metadata": {},
     "output_type": "execute_result"
    }
   ],
   "source": [
    "diff(exp(x), x)"
   ]
  },
  {
   "cell_type": "code",
   "execution_count": 36,
   "metadata": {},
   "outputs": [
    {
     "data": {
      "image/png": "[encoded data removed]",
      "text/latex": [
       "$$- x e^{- \\frac{x^{2}}{2}}$$"
      ],
      "text/plain": [
       "      2 \n",
       "    -x  \n",
       "    ────\n",
       "     2  \n",
       "-x⋅ℯ    "
      ]
     },
     "execution_count": 36,
     "metadata": {},
     "output_type": "execute_result"
    }
   ],
   "source": [
    "diff(exp(-x ** 2 / 2), x)"
   ]
  },
  {
   "cell_type": "markdown",
   "metadata": {},
   "source": [
    "A função `diff()` do SymPy toma um mínimo de dois argumentos: a função a ser diferenciada e a variável com respeito à qual a diferenciação é realizada. Derivados mais altos podem ser calculados especificando variáveis adicionais, ou adicionando um argumento inteiro opcional:"
   ]
  },
  {
   "cell_type": "code",
   "execution_count": 37,
   "metadata": {},
   "outputs": [
    {
     "data": {
      "image/png": "[encoded data removed]",
      "text/latex": [
       "$$12 x^{3}$$"
      ],
      "text/plain": [
       "    3\n",
       "12⋅x "
      ]
     },
     "execution_count": 37,
     "metadata": {},
     "output_type": "execute_result"
    }
   ],
   "source": [
    "diff(3*x**4, x)"
   ]
  },
  {
   "cell_type": "code",
   "execution_count": 38,
   "metadata": {},
   "outputs": [
    {
     "data": {
      "image/png": "[encoded data removed]",
      "text/latex": [
       "$$72 x$$"
      ],
      "text/plain": [
       "72⋅x"
      ]
     },
     "execution_count": 38,
     "metadata": {},
     "output_type": "execute_result"
    }
   ],
   "source": [
    "diff(3*x**4, x, x, x)"
   ]
  },
  {
   "cell_type": "code",
   "execution_count": 39,
   "metadata": {},
   "outputs": [
    {
     "data": {
      "image/png": "[encoded data removed]",
      "text/latex": [
       "$$72 x$$"
      ],
      "text/plain": [
       "72⋅x"
      ]
     },
     "execution_count": 39,
     "metadata": {},
     "output_type": "execute_result"
    }
   ],
   "source": [
    "diff(3*x**4, x, 3)"
   ]
  },
  {
   "cell_type": "code",
   "execution_count": 40,
   "metadata": {},
   "outputs": [
    {
     "data": {
      "image/png": "[encoded data removed]",
      "text/latex": [
       "$$1512 x^{2} y^{5}$$"
      ],
      "text/plain": [
       "      2  5\n",
       "1512⋅x ⋅y "
      ]
     },
     "execution_count": 40,
     "metadata": {},
     "output_type": "execute_result"
    }
   ],
   "source": [
    "diff(3*x**4*y**7, x, 2, y, 2)"
   ]
  },
  {
   "cell_type": "code",
   "execution_count": 41,
   "metadata": {},
   "outputs": [
    {
     "data": {
      "image/png": "[encoded data removed]",
      "text/latex": [
       "$$1512 x^{2} y^{5}$$"
      ],
      "text/plain": [
       "      2  5\n",
       "1512⋅x ⋅y "
      ]
     },
     "execution_count": 41,
     "metadata": {},
     "output_type": "execute_result"
    }
   ],
   "source": [
    "diff(diff(3*x**4*y**7, x, x), y, y)"
   ]
  },
  {
   "cell_type": "markdown",
   "metadata": {},
   "source": [
    "Às vezes, SymPy pode retornar um resultado em uma forma desconhecida. Se, por exemplo, você desejar usar o SymPy para verificar se você diferenciou algo corretamente, uma técnica que pode ser útil é subtrair o resultado do SymPy do resultado e verificar se a resposta é zero.\n",
    "\n",
    "Tomando o exemplo simples de uma função de base radial multiquadric, $\\phi(r) = \\sqrt{r^2 + \\sigma^ 2}$ com $r = \\sqrt{x^2 + y^ 2}$ e *σ* uma constante, podemos verificar que a primeira derivada em *x* é $\\partial\\phi/ \\partial x = x /\\sqrt{r^2 + \\sigma^2}$.\n",
    "\n",
    "Neste exemplo, pedimos primeiro a SymPy para imprimir a derivada. Veja que ele é impresso em uma forma diferente para o nosso julgamento derivado, mas a subtração verifica que eles são idênticos:"
   ]
  },
  {
   "cell_type": "code",
   "execution_count": 46,
   "metadata": {},
   "outputs": [
    {
     "name": "stdout",
     "output_type": "stream",
     "text": [
      "x/sqrt(x**2 + y**2 + σ**2)\n"
     ]
    }
   ],
   "source": [
    "r = sqrt(x**2 + y**2)\n",
    "sigma = Symbol('σ')\n",
    "def phi(x,y,sigma):\n",
    "    return sqrt(x**2 + y**2 + sigma**2)\n",
    "\n",
    "mydfdx= x / sqrt(r**2 + sigma**2)\n",
    "print(diff(phi(x, y, sigma), x))"
   ]
  },
  {
   "cell_type": "code",
   "execution_count": 45,
   "metadata": {},
   "outputs": [
    {
     "name": "stdout",
     "output_type": "stream",
     "text": [
      "0\n"
     ]
    }
   ],
   "source": [
    "print(mydfdx - diff(phi(x, y, sigma), x))"
   ]
  },
  {
   "cell_type": "markdown",
   "metadata": {},
   "source": [
    "Aqui é trivial dizer que as expressões são idênticas sem a ajuda de SymPy, mas em exemplos mais complicados pode haver muitos mais termos e nesses casos seria cada vez mais difícil, demorado e propenso a erros para tentar reorganizar nossa derivada de teste e a resposta de SymPy na mesma forma. É nesses casos que esta técnica de subtração é de maior utilidade.\n",
    "\n",
    "Integração usa uma sintaxe semelhante. Para o caso indefinido, especifique a função e a variável com relação à qual a integração é realizada:"
   ]
  },
  {
   "cell_type": "code",
   "execution_count": 50,
   "metadata": {},
   "outputs": [
    {
     "data": {
      "image/png": "[encoded data removed]",
      "text/latex": [
       "$$\\frac{x^{3}}{3}$$"
      ],
      "text/plain": [
       " 3\n",
       "x \n",
       "──\n",
       "3 "
      ]
     },
     "execution_count": 50,
     "metadata": {},
     "output_type": "execute_result"
    }
   ],
   "source": [
    "from sympy import integrate\n",
    "integrate(x**2, x)"
   ]
  },
  {
   "cell_type": "code",
   "execution_count": 51,
   "metadata": {},
   "outputs": [
    {
     "data": {
      "image/png": "[encoded data removed]",
      "text/latex": [
       "$$x^{2} y$$"
      ],
      "text/plain": [
       " 2  \n",
       "x ⋅y"
      ]
     },
     "execution_count": 51,
     "metadata": {},
     "output_type": "execute_result"
    }
   ],
   "source": [
    "integrate(x**2, y)"
   ]
  },
  {
   "cell_type": "code",
   "execution_count": 52,
   "metadata": {},
   "outputs": [
    {
     "data": {
      "image/png": "[encoded data removed]",
      "text/latex": [
       "$$y \\sin{\\left (x \\right )}$$"
      ],
      "text/plain": [
       "y⋅sin(x)"
      ]
     },
     "execution_count": 52,
     "metadata": {},
     "output_type": "execute_result"
    }
   ],
   "source": [
    "integrate(sin(x), y)"
   ]
  },
  {
   "cell_type": "code",
   "execution_count": 53,
   "metadata": {},
   "outputs": [
    {
     "data": {
      "image/png": "[encoded data removed]",
      "text/latex": [
       "$$- \\cos{\\left (x \\right )}$$"
      ],
      "text/plain": [
       "-cos(x)"
      ]
     },
     "execution_count": 53,
     "metadata": {},
     "output_type": "execute_result"
    }
   ],
   "source": [
    "integrate(sin(x), x)"
   ]
  },
  {
   "cell_type": "code",
   "execution_count": 55,
   "metadata": {},
   "outputs": [
    {
     "data": {
      "image/png": "[encoded data removed]",
      "text/latex": [
       "$$e^{- \\frac{x^{2}}{2}}$$"
      ],
      "text/plain": [
       "   2 \n",
       " -x  \n",
       " ────\n",
       "  2  \n",
       "ℯ    "
      ]
     },
     "execution_count": 55,
     "metadata": {},
     "output_type": "execute_result"
    }
   ],
   "source": [
    "integrate(-x*exp(-x**2/2), x)"
   ]
  },
  {
   "cell_type": "code",
   "execution_count": 56,
   "metadata": {},
   "outputs": [
    {
     "data": {
      "image/png": "[encoded data removed]",
      "text/latex": [
       "$$\\operatorname{asinh}{\\left (\\frac{x}{y} \\right )}$$"
      ],
      "text/plain": [
       "     ⎛x⎞\n",
       "asinh⎜─⎟\n",
       "     ⎝y⎠"
      ]
     },
     "execution_count": 56,
     "metadata": {},
     "output_type": "execute_result"
    }
   ],
   "source": [
    "integrate(1/sqrt(x**2+y**2),x)"
   ]
  },
  {
   "cell_type": "markdown",
   "metadata": {},
   "source": [
    "Podemos calcular integrais definidas fornecendo `integrate ()` com uma tupla contendo a variável de interesse, os limites inferior e superior. Se várias variáveis são especificadas, múltipla integração é realizada. Quando o SymPy retorna um resultado na classe `Rational`, é possível avaliá-lo para uma representação de ponto flutuante com qualquer precisão desejada (ver [tipos numéricos](#Numeric-types)).\n"
   ]
  },
  {
   "cell_type": "code",
   "execution_count": 57,
   "metadata": {},
   "outputs": [
    {
     "data": {
      "image/png": "[encoded data removed]",
      "text/latex": [
       "$$1$$"
      ],
      "text/plain": [
       "1"
      ]
     },
     "execution_count": 57,
     "metadata": {},
     "output_type": "execute_result"
    }
   ],
   "source": [
    "integrate(x*2, (x, 0, 1))"
   ]
  },
  {
   "cell_type": "code",
   "execution_count": 58,
   "metadata": {},
   "outputs": [
    {
     "data": {
      "image/png": "[encoded data removed]",
      "text/latex": [
       "$$\\frac{x^{3}}{3}$$"
      ],
      "text/plain": [
       " 3\n",
       "x \n",
       "──\n",
       "3 "
      ]
     },
     "execution_count": 58,
     "metadata": {},
     "output_type": "execute_result"
    }
   ],
   "source": [
    "integrate(x**2, x)"
   ]
  },
  {
   "cell_type": "code",
   "execution_count": 59,
   "metadata": {},
   "outputs": [
    {
     "data": {
      "image/png": "[encoded data removed]",
      "text/latex": [
       "$$\\frac{x^{4}}{12}$$"
      ],
      "text/plain": [
       " 4\n",
       "x \n",
       "──\n",
       "12"
      ]
     },
     "execution_count": 59,
     "metadata": {},
     "output_type": "execute_result"
    }
   ],
   "source": [
    "integrate(x**2, x, x)"
   ]
  },
  {
   "cell_type": "code",
   "execution_count": 60,
   "metadata": {},
   "outputs": [
    {
     "data": {
      "image/png": "[encoded data removed]",
      "text/latex": [
       "$$\\frac{x^{4} y}{12}$$"
      ],
      "text/plain": [
       " 4  \n",
       "x ⋅y\n",
       "────\n",
       " 12 "
      ]
     },
     "execution_count": 60,
     "metadata": {},
     "output_type": "execute_result"
    }
   ],
   "source": [
    "integrate(x**2, x, x, y)"
   ]
  },
  {
   "cell_type": "code",
   "execution_count": 61,
   "metadata": {},
   "outputs": [
    {
     "data": {
      "image/png": "[encoded data removed]",
      "text/latex": [
       "$$\\frac{8}{3}$$"
      ],
      "text/plain": [
       "8/3"
      ]
     },
     "execution_count": 61,
     "metadata": {},
     "output_type": "execute_result"
    }
   ],
   "source": [
    "integrate(x**2, (x, 0, 2))"
   ]
  },
  {
   "cell_type": "code",
   "execution_count": 62,
   "metadata": {},
   "outputs": [
    {
     "data": {
      "image/png": "[encoded data removed]",
      "text/latex": [
       "$$\\frac{16}{3}$$"
      ],
      "text/plain": [
       "16/3"
      ]
     },
     "execution_count": 62,
     "metadata": {},
     "output_type": "execute_result"
    }
   ],
   "source": [
    "integrate(x**2, (x, 0, 2), (x, 0, 2), (y, 0, 1))"
   ]
  },
  {
   "cell_type": "code",
   "execution_count": 63,
   "metadata": {},
   "outputs": [
    {
     "data": {
      "image/png": "[encoded data removed]",
      "text/latex": [
       "$$2.6666666666666665$$"
      ],
      "text/plain": [
       "2.6666666666666665"
      ]
     },
     "execution_count": 63,
     "metadata": {},
     "output_type": "execute_result"
    }
   ],
   "source": [
    "float(integrate(x**2, (x, 0, 2)))"
   ]
  },
  {
   "cell_type": "code",
   "execution_count": 64,
   "metadata": {},
   "outputs": [
    {
     "data": {
      "text/plain": [
       "sympy.core.numbers.Rational"
      ]
     },
     "execution_count": 64,
     "metadata": {},
     "output_type": "execute_result"
    }
   ],
   "source": [
    "type(integrate(x**2, (x, 0, 2)))"
   ]
  },
  {
   "cell_type": "code",
   "execution_count": 65,
   "metadata": {},
   "outputs": [
    {
     "data": {
      "image/png": "[encoded data removed]",
      "text/latex": [
       "$$2.66666666666667$$"
      ],
      "text/plain": [
       "2.66666666666667"
      ]
     },
     "execution_count": 65,
     "metadata": {},
     "output_type": "execute_result"
    }
   ],
   "source": [
    "result_rational=integrate(x**2, (x, 0, 2))\n",
    "result_rational.evalf()"
   ]
  },
  {
   "cell_type": "code",
   "execution_count": 66,
   "metadata": {},
   "outputs": [
    {
     "data": {
      "image/png": "[encoded data removed]",
      "text/latex": [
       "$$2.6666666666666666666666666666666666666666666666667$$"
      ],
      "text/plain": [
       "2.6666666666666666666666666666666666666666666666667"
      ]
     },
     "execution_count": 66,
     "metadata": {},
     "output_type": "execute_result"
    }
   ],
   "source": [
    "result_rational.evalf(50)"
   ]
  },
  {
   "cell_type": "markdown",
   "metadata": {},
   "source": [
    "### Equações diferenciais ordinárias (EDO)\n",
    "\n",
    "SymPy tem suporte incorporado para resolver vários tipos de equação diferencial ordinária através de seu comando `dsolve`. Precisamos configurar a EDO e passá-la como o primeiro argumento, `eq`. O segundo argumento é a função `f(x)` para resolver. Um terceiro argumento opcional, `hint`, influencia o método que `dsolve` usa: alguns métodos são mais adequados para certas classes de EDOs, ou expressam a solução mais simples do que outros.\n",
    "\n",
    "Para configurar o *solver* da EDO, precisamos de uma maneira de se referir à função desconhecida para a qual estamos resolvendo, bem como suas derivadas. As classes `Function` e` Derivative` facilitam isto:\n"
   ]
  },
  {
   "cell_type": "code",
   "execution_count": 68,
   "metadata": {},
   "outputs": [
    {
     "data": {
      "image/png": "[encoded data removed]",
      "text/latex": [
       "$$y{\\left (x \\right )} = C_{1} e^{- 5 x}$$"
      ],
      "text/plain": [
       "           -5⋅x\n",
       "y(x) = C₁⋅ℯ    "
      ]
     },
     "execution_count": 68,
     "metadata": {},
     "output_type": "execute_result"
    }
   ],
   "source": [
    "from sympy import Symbol, dsolve, Function, Derivative, Eq\n",
    "y = Function(\"y\")\n",
    "x = Symbol('x')\n",
    "y_ = Derivative(y(x), x)\n",
    "dsolve(y_ + 5*y(x), y(x))"
   ]
  },
  {
   "cell_type": "markdown",
   "metadata": {},
   "source": [
    "Observe como `dsolve` introduziu uma constante de integração,` C1`. Ele irá introduzir quantas constantes forem necessárias, e todos eles serão chamados `Cn`, onde` n` é um inteiro. Observe também que o primeiro argumento para `dsolve` é considerado igual a zero, a menos que usemos a função `Eq()` para especificar o contrário:"
   ]
  },
  {
   "cell_type": "code",
   "execution_count": 69,
   "metadata": {},
   "outputs": [
    {
     "data": {
      "image/png": "[encoded data removed]",
      "text/latex": [
       "$$y{\\left (x \\right )} = C_{1} e^{- 5 x}$$"
      ],
      "text/plain": [
       "           -5⋅x\n",
       "y(x) = C₁⋅ℯ    "
      ]
     },
     "execution_count": 69,
     "metadata": {},
     "output_type": "execute_result"
    }
   ],
   "source": [
    "dsolve(y_ + 5*y(x), y(x))"
   ]
  },
  {
   "cell_type": "code",
   "execution_count": 70,
   "metadata": {},
   "outputs": [
    {
     "data": {
      "image/png": "[encoded data removed]",
      "text/latex": [
       "$$y{\\left (x \\right )} = C_{1} e^{- 5 x}$$"
      ],
      "text/plain": [
       "           -5⋅x\n",
       "y(x) = C₁⋅ℯ    "
      ]
     },
     "execution_count": 70,
     "metadata": {},
     "output_type": "execute_result"
    }
   ],
   "source": [
    "dsolve(Eq(y_ + 5*y(x), 0), y(x))"
   ]
  },
  {
   "cell_type": "code",
   "execution_count": 71,
   "metadata": {},
   "outputs": [
    {
     "data": {
      "image/png": "[encoded data removed]",
      "text/latex": [
       "$$y{\\left (x \\right )} = \\frac{C_{1}}{5} e^{- 5 x} + \\frac{12}{5}$$"
      ],
      "text/plain": [
       "           -5⋅x     \n",
       "       C₁⋅ℯ       12\n",
       "y(x) = ──────── + ──\n",
       "          5       5 "
      ]
     },
     "execution_count": 71,
     "metadata": {},
     "output_type": "execute_result"
    }
   ],
   "source": [
    "dsolve(Eq(y_ + 5*y(x), 12), y(x))"
   ]
  },
  {
   "cell_type": "markdown",
   "metadata": {},
   "source": [
    "Os resultados de `dsolve` são uma instância da classe `Equality`. Isto tem consequências quando queremos avaliar numericamente a função e usar o resultado em outro lugar (*por exemplo* se queremos plotar *y*(*x*) contra *x*), porque mesmo depois de usar `subs()` e `evalf()`, ainda temos um `Equality`, não qualquer tipo de escalar. A maneira de avaliar a função para um número é através do atributo `rhs` da `Equality`.\n",
    "\n",
    "Note-se que, aqui, usamos `z` para armazenar o `Equality` retornado por `dsolve`, mesmo que seja uma expressão para uma função chamada `y(x)`, para enfatizar a distinção entre o `Equality` e os dados que ela contém."
   ]
  },
  {
   "cell_type": "code",
   "execution_count": 72,
   "metadata": {},
   "outputs": [
    {
     "data": {
      "image/png": "[encoded data removed]",
      "text/latex": [
       "$$y{\\left (x \\right )} = C_{1} e^{- 5 x}$$"
      ],
      "text/plain": [
       "           -5⋅x\n",
       "y(x) = C₁⋅ℯ    "
      ]
     },
     "execution_count": 72,
     "metadata": {},
     "output_type": "execute_result"
    }
   ],
   "source": [
    "z = dsolve(y_ + 5*y(x), y(x))\n",
    "z"
   ]
  },
  {
   "cell_type": "code",
   "execution_count": 73,
   "metadata": {},
   "outputs": [
    {
     "data": {
      "text/plain": [
       "sympy.core.relational.Equality"
      ]
     },
     "execution_count": 73,
     "metadata": {},
     "output_type": "execute_result"
    }
   ],
   "source": [
    "type(z)"
   ]
  },
  {
   "cell_type": "code",
   "execution_count": 74,
   "metadata": {},
   "outputs": [
    {
     "data": {
      "image/png": "[encoded data removed]",
      "text/latex": [
       "$$C_{1} e^{- 5 x}$$"
      ],
      "text/plain": [
       "    -5⋅x\n",
       "C₁⋅ℯ    "
      ]
     },
     "execution_count": 74,
     "metadata": {},
     "output_type": "execute_result"
    }
   ],
   "source": [
    "z.rhs"
   ]
  },
  {
   "cell_type": "code",
   "execution_count": 75,
   "metadata": {},
   "outputs": [
    {
     "data": {
      "image/png": "[encoded data removed]",
      "text/latex": [
       "$$y{\\left (3 \\right )} = \\frac{2}{e^{15}}$$"
      ],
      "text/plain": [
       "          -15\n",
       "y(3) = 2⋅ℯ   "
      ]
     },
     "execution_count": 75,
     "metadata": {},
     "output_type": "execute_result"
    }
   ],
   "source": [
    "C1=Symbol('C1')\n",
    "y3 = z.subs({C1:2, x:3})\n",
    "y3"
   ]
  },
  {
   "cell_type": "code",
   "execution_count": 76,
   "metadata": {},
   "outputs": [
    {
     "data": {
      "image/png": "[encoded data removed]",
      "text/latex": [
       "$$y{\\left (3 \\right )} = 6.11804641 \\cdot 10^{-7}$$"
      ],
      "text/plain": [
       "y(3) = 6.11804641e-7"
      ]
     },
     "execution_count": 76,
     "metadata": {},
     "output_type": "execute_result"
    }
   ],
   "source": [
    "y3.evalf(10)"
   ]
  },
  {
   "cell_type": "code",
   "execution_count": 77,
   "metadata": {},
   "outputs": [
    {
     "data": {
      "image/png": "[encoded data removed]",
      "text/latex": [
       "$$\\frac{2}{e^{15}}$$"
      ],
      "text/plain": [
       "   -15\n",
       "2⋅ℯ   "
      ]
     },
     "execution_count": 77,
     "metadata": {},
     "output_type": "execute_result"
    }
   ],
   "source": [
    "y3.rhs"
   ]
  },
  {
   "cell_type": "code",
   "execution_count": 78,
   "metadata": {},
   "outputs": [
    {
     "data": {
      "image/png": "[encoded data removed]",
      "text/latex": [
       "$$6.11804641 \\cdot 10^{-7}$$"
      ],
      "text/plain": [
       "6.118046410e-7"
      ]
     },
     "execution_count": 78,
     "metadata": {},
     "output_type": "execute_result"
    }
   ],
   "source": [
    "y3.rhs.evalf(10)"
   ]
  },
  {
   "cell_type": "code",
   "execution_count": 79,
   "metadata": {},
   "outputs": [
    {
     "data": {
      "image/png": "[encoded data removed]",
      "text/latex": [
       "$$4.122307245 \\cdot 10^{-9}$$"
      ],
      "text/plain": [
       "4.122307245e-9"
      ]
     },
     "execution_count": 79,
     "metadata": {},
     "output_type": "execute_result"
    }
   ],
   "source": [
    "z.rhs.subs({C1:2, x:4}).evalf(10)"
   ]
  },
  {
   "cell_type": "code",
   "execution_count": 80,
   "metadata": {},
   "outputs": [
    {
     "data": {
      "image/png": "[encoded data removed]",
      "text/latex": [
       "$$2.777588773 \\cdot 10^{-11}$$"
      ],
      "text/plain": [
       "2.777588773e-11"
      ]
     },
     "execution_count": 80,
     "metadata": {},
     "output_type": "execute_result"
    }
   ],
   "source": [
    "z.rhs.subs({C1:2, x:5}).evalf(10)"
   ]
  },
  {
   "cell_type": "code",
   "execution_count": null,
   "metadata": {},
   "outputs": [],
   "source": [
    "type(z.rhs.subs({C1:2, x:5}).evalf(10))"
   ]
  },
  {
   "cell_type": "markdown",
   "metadata": {},
   "source": [
    "Às vezes, `dsolve` pode retornar uma solução muito geral. Um exemplo é quando existe a possibilidade de alguns coeficientes serem complexos. Se sabemos que, por exemplo, eles são sempre reais e positivos, podemos fornecer `dsolve` essas informações para evitar que a solução se torne desnecessariamente complicada:"
   ]
  },
  {
   "cell_type": "code",
   "execution_count": 84,
   "metadata": {},
   "outputs": [
    {
     "data": {
      "image/png": "[encoded data removed]",
      "text/latex": [
       "$$f{\\left (x \\right )} = C_{1} e^{- i a^{2} x} + C_{2} e^{i a^{2} x}$$"
      ],
      "text/plain": [
       "               2            2  \n",
       "           -ⅈ⋅a ⋅x       ⅈ⋅a ⋅x\n",
       "f(x) = C₁⋅ℯ        + C₂⋅ℯ      "
      ]
     },
     "execution_count": 84,
     "metadata": {},
     "output_type": "execute_result"
    }
   ],
   "source": [
    "from sympy import *\n",
    "a, x = symbols('a,x')\n",
    "f = Function('f')\n",
    "dsolve(Derivative(f(x), x, 2) + a**4*f(x), f(x))"
   ]
  },
  {
   "cell_type": "code",
   "execution_count": 82,
   "metadata": {},
   "outputs": [
    {
     "data": {
      "image/png": "[encoded data removed]",
      "text/latex": [
       "$$f{\\left (x \\right )} = C_{1} \\sin{\\left (a^{2} x \\right )} + C_{2} \\cos{\\left (a^{2} x \\right )}$$"
      ],
      "text/plain": [
       "             ⎛ 2  ⎞         ⎛ 2  ⎞\n",
       "f(x) = C₁⋅sin⎝a ⋅x⎠ + C₂⋅cos⎝a ⋅x⎠"
      ]
     },
     "execution_count": 82,
     "metadata": {},
     "output_type": "execute_result"
    }
   ],
   "source": [
    "a=Symbol('a',real=True,positive=True)\n",
    "dsolve(Derivative(f(x), x, 2)+a**4*f(x), f(x))"
   ]
  },
  {
   "cell_type": "code",
   "execution_count": 83,
   "metadata": {},
   "outputs": [
    {
     "name": "stdout",
     "output_type": "stream",
     "text": [
      "ODE:\n"
     ]
    },
    {
     "data": {
      "image/png": "[encoded data removed]",
      "text/latex": [
       "$$k y{\\left (t \\right )} + m \\frac{d^{2}}{d t^{2}}  y{\\left (t \\right )} = 0$$"
      ],
      "text/plain": [
       "             2          \n",
       "            d           \n",
       "k⋅y(t) + m⋅───(y(t)) = 0\n",
       "             2          \n",
       "           dt           "
      ]
     },
     "metadata": {},
     "output_type": "display_data"
    },
    {
     "name": "stdout",
     "output_type": "stream",
     "text": [
      "Generic solution:\n"
     ]
    },
    {
     "data": {
      "image/png": "[encoded data removed]",
      "text/latex": [
       "$$y{\\left (t \\right )} = C_{1} e^{- t \\sqrt{- \\frac{k}{m}}} + C_{2} e^{t \\sqrt{- \\frac{k}{m}}}$$"
      ],
      "text/plain": [
       "                  _____             _____\n",
       "                 ╱ -k              ╱ -k  \n",
       "           -t⋅  ╱  ───        t⋅  ╱  ─── \n",
       "              ╲╱    m           ╲╱    m  \n",
       "y(t) = C₁⋅ℯ             + C₂⋅ℯ           "
      ]
     },
     "metadata": {},
     "output_type": "display_data"
    },
    {
     "name": "stdout",
     "output_type": "stream",
     "text": [
      "Solution with initial conditions:\n"
     ]
    },
    {
     "data": {
      "image/png": "[encoded data removed]",
      "text/latex": [
       "$$y{\\left (t \\right )} = - \\frac{m \\sqrt{- \\frac{k}{m}}}{2 k} \\left(a_{0} \\sqrt{- \\frac{k}{m}} - b_{0} + \\left(a_{0} \\sqrt{- \\frac{k}{m}} + b_{0}\\right) e^{2 t \\sqrt{- \\frac{k}{m}}}\\right) e^{- t \\sqrt{- \\frac{k}{m}}}$$"
      ],
      "text/plain": [
       "                    ⎛                                                 _____⎞  \n",
       "                    ⎜                                                ╱ -k  ⎟  \n",
       "              _____ ⎜       _____        ⎛       _____     ⎞  2⋅t⋅  ╱  ─── ⎟  \n",
       "             ╱ -k   ⎜      ╱ -k          ⎜      ╱ -k       ⎟      ╲╱    m  ⎟  \n",
       "       -m⋅  ╱  ─── ⋅⎜a₀⋅  ╱  ───  - b₀ + ⎜a₀⋅  ╱  ───  + b₀⎟⋅ℯ             ⎟⋅ℯ\n",
       "          ╲╱    m   ⎝   ╲╱    m          ⎝   ╲╱    m       ⎠               ⎠  \n",
       "y(t) = ───────────────────────────────────────────────────────────────────────\n",
       "                                               2⋅k                            \n",
       "\n",
       "       _____ \n",
       "      ╱ -k   \n",
       "-t⋅  ╱  ───  \n",
       "   ╲╱    m   \n",
       "             \n",
       "             \n",
       "─────────────\n",
       "             "
      ]
     },
     "metadata": {},
     "output_type": "display_data"
    }
   ],
   "source": [
    "from IPython.display import display\n",
    "import sympy as sy\n",
    "\n",
    "sy.init_printing()  # LaTeX-like pretty printing for IPython\n",
    "\n",
    "t = sy.Symbol(\"t\", real=True)\n",
    "m, k = sy.symbols('m k', real=True)  # gives C_1 Exp() + C_2 Exp() solution\n",
    "# m, k = sy.symbols('m k', positive=True)  # gives C_1 sin() + C_2 cos() sol.\n",
    "a0, b0 = sy.symbols('a0, b0', real=True)\n",
    "y = sy.Function('y')\n",
    "\n",
    "Eq1 = sy.Eq(m*sy.diff(y(t), t, 2) + k*y(t))\n",
    "print(\"ODE:\")\n",
    "display(Eq1)\n",
    "\n",
    "print(\"Generic solution:\")\n",
    "y_sl0 = sy.dsolve(Eq1, y(t)).rhs  # take only right hand side\n",
    "display(sy.Eq(y(t), y_sl0))\n",
    "\n",
    "# Initial conditions:\n",
    "cnd0 = sy.Eq(y_sl0.subs(t, 0), a0)  # y(0) = a0\n",
    "cnd1 = sy.Eq(y_sl0.diff(t).subs(t, 0), b0)  # y'(0) = b0\n",
    "\n",
    "#  Solve for C1, C2:\n",
    "C1, C2 = sy.symbols(\"C1, C2\")  # generic constants\n",
    "C1C2_sl = sy.solve([cnd0, cnd1], (C1, C2))\n",
    "\n",
    "# Substitute back into solution:\n",
    "y_sl1 = sy.simplify(y_sl0.subs(C1C2_sl))\n",
    "print(\"Solution with initial conditions:\")\n",
    "display(sy.Eq(y(t), y_sl1))"
   ]
  },
  {
   "cell_type": "code",
   "execution_count": 85,
   "metadata": {},
   "outputs": [
    {
     "data": {
      "image/png": "[encoded data removed]",
      "text/latex": [
       "$$u{\\left (t \\right )} = C L \\alpha + C_{1} e^{\\frac{t}{2 L} \\left(- R - \\frac{1}{\\sqrt{C}} \\sqrt{C R^{2} - 4 L}\\right)} + C_{2} e^{\\frac{t}{2 L} \\left(- R + \\frac{1}{\\sqrt{C}} \\sqrt{C R^{2} - 4 L}\\right)}$$"
      ],
      "text/plain": [
       "                     ⎛        ____________⎞         ⎛        ____________⎞\n",
       "                     ⎜       ╱    2       ⎟         ⎜       ╱    2       ⎟\n",
       "                     ⎜     ╲╱  C⋅R  - 4⋅L ⎟         ⎜     ╲╱  C⋅R  - 4⋅L ⎟\n",
       "                   t⋅⎜-R - ───────────────⎟       t⋅⎜-R + ───────────────⎟\n",
       "                     ⎝            √C      ⎠         ⎝            √C      ⎠\n",
       "                   ────────────────────────       ────────────────────────\n",
       "                             2⋅L                            2⋅L           \n",
       "u(t) = C⋅L⋅α + C₁⋅ℯ                         + C₂⋅ℯ                        "
      ]
     },
     "execution_count": 85,
     "metadata": {},
     "output_type": "execute_result"
    }
   ],
   "source": [
    "from sympy import *\n",
    "from sympy.interactive import printing\n",
    "printing.init_printing(use_latex=True)\n",
    "t = symbols(\"t\")\n",
    "u = symbols(\"u\",cls=Function)\n",
    "R, L, C, E_0, alpha = symbols(\"R L C E_0 alpha\",positive=True)\n",
    "\n",
    "eqRLC = Eq( L*C*u(t).diff(t,t) + R*C*u(t).diff(t) + u(t),E_0)\n",
    "dsolve(eqRLC)\n",
    "\n",
    "eqRLC_2 = Eq( u(t).diff(t,t) + R /L*u(t).diff(t) + 1/(L*C)*u(t),E_0/(L*C))\n",
    "dsolve(eqRLC_2)\n",
    "\n",
    "eqRLC3 = Eq( u(t).diff(t,t) + R /L*u(t).diff(t) + 1/(L*C)*u(t), alpha)\n",
    "dsolve(eqRLC3)"
   ]
  },
  {
   "cell_type": "markdown",
   "metadata": {},
   "source": [
    "### Expansões e plotagem da série\n",
    "\n",
    "É possível expandir muitas expressões SymPy como série Taylor. O método `series` torna isso simples. No mínimo, devemos especificar a expressão e a variável em que ela será expandida. Opcionalmente, também podemos especificar o ponto em torno do qual será expandida, o número máximo de termos e a direção da expansão (tente `help (Basic.series)` para obter mais informações).\n"
   ]
  },
  {
   "cell_type": "code",
   "execution_count": 86,
   "metadata": {},
   "outputs": [
    {
     "data": {
      "image/png": "[encoded data removed]",
      "text/latex": [
       "$$x - \\frac{x^{3}}{6} + \\frac{x^{5}}{120} + \\mathcal{O}\\left(x^{6}\\right)$$"
      ],
      "text/plain": [
       "     3     5        \n",
       "    x     x     ⎛ 6⎞\n",
       "x - ── + ─── + O⎝x ⎠\n",
       "    6    120        "
      ]
     },
     "execution_count": 86,
     "metadata": {},
     "output_type": "execute_result"
    }
   ],
   "source": [
    "from sympy import *\n",
    "x = Symbol('x')\n",
    "sin(x).series(x, 0)"
   ]
  },
  {
   "cell_type": "code",
   "execution_count": 100,
   "metadata": {},
   "outputs": [
    {
     "data": {
      "image/png": "[encoded data removed]",
      "text/latex": [
       "$$x - \\frac{x^{3}}{6} + \\frac{x^{5}}{120} + \\mathcal{O}\\left(x^{6}\\right)$$"
      ],
      "text/plain": [
       "     3     5        \n",
       "    x     x     ⎛ 6⎞\n",
       "x - ── + ─── + O⎝x ⎠\n",
       "    6    120        "
      ]
     },
     "execution_count": 100,
     "metadata": {},
     "output_type": "execute_result"
    }
   ],
   "source": [
    "series(sin(x), x, 0)"
   ]
  },
  {
   "cell_type": "code",
   "execution_count": 93,
   "metadata": {},
   "outputs": [
    {
     "data": {
      "image/png": "[encoded data removed]",
      "text/latex": [
       "$$1.11729533119247 - 0.438791280945186 \\left(x - 0.5\\right)^{2} + 0.0799042564340338 \\left(x - 0.5\\right)^{3} + 0.0365659400787655 \\left(x - 0.5\\right)^{4} - 0.00399521282170169 \\left(x - 0.5\\right)^{5} - 0.00121886466929218 \\left(x - 0.5\\right)^{6} + 9.51241148024212 \\cdot 10^{-5} \\left(x - 0.5\\right)^{7} + 2.17654405230747 \\cdot 10^{-5} \\left(x - 0.5\\right)^{8} - 1.32116826114474 \\cdot 10^{-6} \\left(x - 0.5\\right)^{9} - 0.479425538604203 x + \\mathcal{O}\\left(\\left(x - 0.5\\right)^{10}; x\\rightarrow0.5\\right)$$"
      ],
      "text/plain": [
       "                                              2                               \n",
       "1.11729533119247 - 0.438791280945186⋅(x - 0.5)  + 0.0799042564340338⋅(x - 0.5)\n",
       "\n",
       "3                               4                                5            \n",
       "  + 0.0365659400787655⋅(x - 0.5)  - 0.00399521282170169⋅(x - 0.5)  - 0.0012188\n",
       "\n",
       "                    6                                7                        \n",
       "6466929218⋅(x - 0.5)  + 9.51241148024212e-5⋅(x - 0.5)  + 2.17654405230747e-5⋅(\n",
       "\n",
       "        8                                9                          ⎛         \n",
       "x - 0.5)  - 1.32116826114474e-6⋅(x - 0.5)  - 0.479425538604203⋅x + O⎝(x - 0.5)\n",
       "\n",
       "10         ⎞\n",
       "  ; x → 0.5⎠"
      ]
     },
     "execution_count": 93,
     "metadata": {},
     "output_type": "execute_result"
    }
   ],
   "source": [
    "cos(x).series(x, 0.5, 10)"
   ]
  },
  {
   "cell_type": "markdown",
   "metadata": {},
   "source": [
    "Em alguns casos, especialmente para avaliação numérica e plotagem dos resultados, é necessário remover o termo `O(n)`:"
   ]
  },
  {
   "cell_type": "code",
   "execution_count": 94,
   "metadata": {},
   "outputs": [
    {
     "data": {
      "image/png": "[encoded data removed]",
      "text/latex": [
       "$$- 0.479425538604203 x - 1.32116826114474 \\cdot 10^{-6} \\left(x - 0.5\\right)^{9} + 2.17654405230747 \\cdot 10^{-5} \\left(x - 0.5\\right)^{8} + 9.51241148024212 \\cdot 10^{-5} \\left(x - 0.5\\right)^{7} - 0.00121886466929218 \\left(x - 0.5\\right)^{6} - 0.00399521282170169 \\left(x - 0.5\\right)^{5} + 0.0365659400787655 \\left(x - 0.5\\right)^{4} + 0.0799042564340338 \\left(x - 0.5\\right)^{3} - 0.438791280945186 \\left(x - 0.5\\right)^{2} + 1.11729533119247$$"
      ],
      "text/plain": [
       "                                                    9                         \n",
       "-0.479425538604203⋅x - 1.32116826114474e-6⋅(x - 0.5)  + 2.17654405230747e-5⋅(x\n",
       "\n",
       "       8                                7                                6    \n",
       " - 0.5)  + 9.51241148024212e-5⋅(x - 0.5)  - 0.00121886466929218⋅(x - 0.5)  - 0\n",
       "\n",
       "                            5                               4                 \n",
       ".00399521282170169⋅(x - 0.5)  + 0.0365659400787655⋅(x - 0.5)  + 0.079904256434\n",
       "\n",
       "              3                              2                   \n",
       "0338⋅(x - 0.5)  - 0.438791280945186⋅(x - 0.5)  + 1.11729533119247"
      ]
     },
     "execution_count": 94,
     "metadata": {},
     "output_type": "execute_result"
    }
   ],
   "source": [
    "cos(x).series(x, 0.5, 10).removeO()"
   ]
  },
  {
   "cell_type": "markdown",
   "metadata": {},
   "source": [
    "O SymPy fornece duas funções de plotagem embutidas, `Plot()` do módulo `sympy.plotting` e `plot` de `sympy.mpmath.visualization`. No momento da escrita, essas funções não têm a capacidade de adicionar uma chave para o enredo, o que significa que eles são inadequados para a maioria de nossas necessidades. Se você deseja usá-los, no entanto, seu texto de ajuda, o `help()` é útil.\n",
    "\n",
    "Para a maioria de nossos propósitos, Matplotlib deve ser a ferramenta de planejamento de escolha. Os detalhes estão no capítulo \\[cha:visualisingdata\\]. Aqui nós fornecemos apenas um exemplo de como traçar os resultados de uma computação SymPy.\n"
   ]
  },
  {
   "cell_type": "code",
   "execution_count": 96,
   "metadata": {
    "collapsed": true
   },
   "outputs": [],
   "source": [
    "%matplotlib inline"
   ]
  },
  {
   "cell_type": "code",
   "execution_count": 97,
   "metadata": {},
   "outputs": [
    {
     "data": {
      "text/plain": [
       "<matplotlib.figure.Figure at 0x7f00987bb128>"
      ]
     },
     "execution_count": 97,
     "metadata": {},
     "output_type": "execute_result"
    },
    {
     "data": {
      "text/plain": [
       "<matplotlib.figure.Figure at 0x7f00987bb128>"
      ]
     },
     "metadata": {},
     "output_type": "display_data"
    }
   ],
   "source": [
    "from sympy import sin,series,Symbol\n",
    "import pylab\n",
    "x = Symbol('x')\n",
    "s10 = sin(x).series(x,0,10).removeO()\n",
    "s20 = sin(x).series(x,0,20).removeO()\n",
    "s = sin(x)\n",
    "xx = []\n",
    "y10 = []\n",
    "y20 = []\n",
    "y = []\n",
    "for i in range(1000):\n",
    "  xx.append(i / 100.0)\n",
    "  y10.append(float(s10.subs({x:i/100.0})))\n",
    "  y20.append(float(s20.subs({x:i/100.0})))\n",
    "  y.append(float(s.subs({x:i/100.0})))\n",
    "\n",
    "pylab.figure()"
   ]
  },
  {
   "cell_type": "code",
   "execution_count": 98,
   "metadata": {},
   "outputs": [
    {
     "data": {
      "text/plain": [
       "<matplotlib.legend.Legend at 0x7f009678fb70>"
      ]
     },
     "execution_count": 98,
     "metadata": {},
     "output_type": "execute_result"
    },
    {
     "data": {
      "image/png": "[encoded data removed]",
      "text/plain": [
       "<matplotlib.figure.Figure at 0x7f009879c7f0>"
      ]
     },
     "metadata": {},
     "output_type": "display_data"
    }
   ],
   "source": [
    "pylab.plot(xx, y10, label='O(10)')\n",
    "pylab.plot(xx, y20, label='O(20)')\n",
    "pylab.plot(xx, y, label='sin(x)')\n",
    "\n",
    "pylab.axis([0, 10, -4, 4])\n",
    "pylab.xlabel('x')\n",
    "pylab.ylabel('f(x)')\n",
    "\n",
    "pylab.legend()"
   ]
  },
  {
   "cell_type": "markdown",
   "metadata": {},
   "source": [
    "### Equações lineares e inversão matricial\n",
    "\n",
    "O SymPy possui uma classe `Matrix` e funções associadas que permitem a solução simbólica de sistemas de equações lineares (e, obviamente, podemos obter respostas numéricas com `subs()` e `evalf()`)). Consideraremos o exemplo do seguinte par simples de equações lineares:\n",
    "\n",
    "$$\\begin{aligned}\n",
    "3x + 7y&= 12z\\\\\n",
    "4x - 2y&= 5z\\end{aligned}$$\n",
    "\n",
    "Podemos escrever esse sistema na forma $A\\vec{x}=\\vec{b}$ (multiplique *A* por $\\vec{x}$ se você quiser verificar se recuperamos as equações originais), onde\n",
    "\n",
    "$$A=\\left(\\begin{array}{cc}\n",
    "3 & 7\\\\\n",
    "4 & -2 \\end{array} \\right),\\qquad\n",
    "\\vec{x}=\\left(\\begin{array}{c}\n",
    "x\\\\\n",
    "y \\end{array}\\right),\\qquad\n",
    "\\vec{b}=\\left( \\begin{array}{c}\n",
    "12z\\\\\n",
    "5z \\end{array}\\right).$$\n",
    "\n",
    "Aqui incluímos um símbolo, *z*, no lado direito para demonstrar que os símbolos serão propagados para a solução. Em muitos casos teríamos *z* = 1, mas ainda pode haver vantagem em usar o SymPy sobre um solucionador numérico, mesmo quando a solução não contém símbolos por causa de sua capacidade de retornar frações exatas em vez de aproximar `float`s.\n",
    "\n",
    "Uma estratégia para resolver $\\vec{x}$ é inverter a matriz *A* e pré-multiplicar, * ie * $A^{-1}A\\vec{x}=\\vec{x} = A^{-1} \\vec{b}$. A classe `Matrix` do SymPy tem um método `inv()`que nos permite encontrar o inverso, e `*` executa a multiplicação matricial para nós, quando apropriado:"
   ]
  },
  {
   "cell_type": "code",
   "execution_count": 104,
   "metadata": {},
   "outputs": [
    {
     "data": {
      "image/png": "[encoded data removed]",
      "text/latex": [
       "$$\\left[\\begin{matrix}3 & 7\\\\4 & -2\\end{matrix}\\right]$$"
      ],
      "text/plain": [
       "⎡3  7 ⎤\n",
       "⎢     ⎥\n",
       "⎣4  -2⎦"
      ]
     },
     "execution_count": 104,
     "metadata": {},
     "output_type": "execute_result"
    }
   ],
   "source": [
    "from sympy import symbols,Matrix\n",
    "x, y, z = symbols('x,y,z')\n",
    "A = Matrix(([3, 7], [4, -2]))\n",
    "A"
   ]
  },
  {
   "cell_type": "code",
   "execution_count": 105,
   "metadata": {},
   "outputs": [
    {
     "data": {
      "image/png": "[encoded data removed]",
      "text/latex": [
       "$$\\left[\\begin{matrix}\\frac{1}{17} & \\frac{7}{34}\\\\\\frac{2}{17} & - \\frac{3}{34}\\end{matrix}\\right]$$"
      ],
      "text/plain": [
       "⎡1/17  7/34 ⎤\n",
       "⎢           ⎥\n",
       "⎣2/17  -3/34⎦"
      ]
     },
     "execution_count": 105,
     "metadata": {},
     "output_type": "execute_result"
    }
   ],
   "source": [
    "A.inv()"
   ]
  },
  {
   "cell_type": "code",
   "execution_count": 106,
   "metadata": {},
   "outputs": [
    {
     "data": {
      "image/png": "[encoded data removed]",
      "text/latex": [
       "$$\\left[\\begin{matrix}12 z\\\\5 z\\end{matrix}\\right]$$"
      ],
      "text/plain": [
       "⎡12⋅z⎤\n",
       "⎢    ⎥\n",
       "⎣5⋅z ⎦"
      ]
     },
     "execution_count": 106,
     "metadata": {},
     "output_type": "execute_result"
    }
   ],
   "source": [
    "b = Matrix(( 12*z,5*z  ))\n",
    "b"
   ]
  },
  {
   "cell_type": "code",
   "execution_count": 107,
   "metadata": {},
   "outputs": [
    {
     "data": {
      "image/png": "[encoded data removed]",
      "text/latex": [
       "$$\\left[\\begin{matrix}\\frac{59 z}{34}\\\\\\frac{33 z}{34}\\end{matrix}\\right]$$"
      ],
      "text/plain": [
       "⎡59⋅z⎤\n",
       "⎢────⎥\n",
       "⎢ 34 ⎥\n",
       "⎢    ⎥\n",
       "⎢33⋅z⎥\n",
       "⎢────⎥\n",
       "⎣ 34 ⎦"
      ]
     },
     "execution_count": 107,
     "metadata": {},
     "output_type": "execute_result"
    }
   ],
   "source": [
    "x = A.inv()*b\n",
    "x"
   ]
  },
  {
   "cell_type": "code",
   "execution_count": 108,
   "metadata": {},
   "outputs": [
    {
     "data": {
      "image/png": "[encoded data removed]",
      "text/latex": [
       "$$\\left[\\begin{matrix}5.726\\\\3.203\\end{matrix}\\right]$$"
      ],
      "text/plain": [
       "⎡5.726⎤\n",
       "⎢     ⎥\n",
       "⎣3.203⎦"
      ]
     },
     "execution_count": 108,
     "metadata": {},
     "output_type": "execute_result"
    }
   ],
   "source": [
    "x.subs({z:3.3}).evalf(4)"
   ]
  },
  {
   "cell_type": "code",
   "execution_count": 109,
   "metadata": {},
   "outputs": [
    {
     "data": {
      "text/plain": [
       "sympy.matrices.dense.MutableDenseMatrix"
      ]
     },
     "execution_count": 109,
     "metadata": {},
     "output_type": "execute_result"
    }
   ],
   "source": [
    "type(x)"
   ]
  },
  {
   "cell_type": "markdown",
   "metadata": {},
   "source": [
    "Um método alternativo para resolver o mesmo problema é construir o sistema como uma matriz em forma aumentada; que é a forma obtida juntando as colunas de (no nosso exemplo) *A* e $\\vec{b}$. A matriz aumentada é [1]:\n",
    "\n",
    "$$\n",
    "\\begin{equation}\n",
    "(A|\\vec{b})=\\left(\\begin{array}{cc|c}\n",
    "3 & 7 & 12z\\\\\n",
    "4 & -2 & 5z\\end{array} \\right),\n",
    "\\end{equation}\n",
    "$$\n",
    "\n",
    "e como antes construímos isto como um objeto `Matrix` do SymPy, mas neste caso passamos para a função `solve_linear_system()`:"
   ]
  },
  {
   "cell_type": "code",
   "execution_count": 110,
   "metadata": {},
   "outputs": [
    {
     "data": {
      "image/png": "[encoded data removed]",
      "text/latex": [
       "$$\\left[\\begin{matrix}3 & 7 & 12 z\\\\4 & -2 & 5 z\\end{matrix}\\right]$$"
      ],
      "text/plain": [
       "⎡3  7   12⋅z⎤\n",
       "⎢           ⎥\n",
       "⎣4  -2  5⋅z ⎦"
      ]
     },
     "execution_count": 110,
     "metadata": {},
     "output_type": "execute_result"
    }
   ],
   "source": [
    "from sympy import Matrix, symbols, solve_linear_system\n",
    "x, y, z = symbols('x,y,z')\n",
    "system = Matrix(([3, 7, 12*z],[4, -2, 5*z]))\n",
    "system"
   ]
  },
  {
   "cell_type": "code",
   "execution_count": 111,
   "metadata": {},
   "outputs": [
    {
     "data": {
      "image/png": "[encoded data removed]",
      "text/latex": [
       "$$\\left \\{ x : \\frac{59 z}{34}, \\quad y : \\frac{33 z}{34}\\right \\}$$"
      ],
      "text/plain": [
       "⎧   59⋅z     33⋅z⎫\n",
       "⎨x: ────, y: ────⎬\n",
       "⎩    34       34 ⎭"
      ]
     },
     "execution_count": 111,
     "metadata": {},
     "output_type": "execute_result"
    }
   ],
   "source": [
    "sol = solve_linear_system(system,x,y)\n",
    "sol"
   ]
  },
  {
   "cell_type": "code",
   "execution_count": 112,
   "metadata": {},
   "outputs": [
    {
     "data": {
      "text/plain": [
       "dict"
      ]
     },
     "execution_count": 112,
     "metadata": {},
     "output_type": "execute_result"
    }
   ],
   "source": [
    "type(sol)"
   ]
  },
  {
   "cell_type": "code",
   "execution_count": 114,
   "metadata": {},
   "outputs": [
    {
     "name": "stdout",
     "output_type": "stream",
     "text": [
      "x = 5.726\n",
      "y = 3.203\n"
     ]
    }
   ],
   "source": [
    "for k in sol.keys():\n",
    "    print(k,'=',sol[k].subs({z:3.3}).evalf(4))"
   ]
  },
  {
   "cell_type": "markdown",
   "metadata": {},
   "source": [
    "Uma terceira opção é o método `solve()`, cujos argumentos incluem as equações simbólicas individuais, ao invés de quaisquer matrizes. Como `dsolve()` (ver [ODEs](#Ordinary-differential-equations)), `solve()` espera expressões que assumirá iguais a zero, ou `Equality`, que podemos criar convenientemente com `Eq()`:"
   ]
  },
  {
   "cell_type": "code",
   "execution_count": 115,
   "metadata": {},
   "outputs": [
    {
     "data": {
      "image/png": "[encoded data removed]",
      "text/latex": [
       "$$\\left \\{ x : \\frac{59 z}{34}, \\quad y : \\frac{33 z}{34}\\right \\}$$"
      ],
      "text/plain": [
       "⎧   59⋅z     33⋅z⎫\n",
       "⎨x: ────, y: ────⎬\n",
       "⎩    34       34 ⎭"
      ]
     },
     "execution_count": 115,
     "metadata": {},
     "output_type": "execute_result"
    }
   ],
   "source": [
    "from sympy import symbols,solve,Eq\n",
    "x, y, z = symbols('x,y,z')\n",
    "solve((Eq(3*x+7*y,12*z), Eq(4*x-2*y,5*z)), x, y)"
   ]
  },
  {
   "cell_type": "code",
   "execution_count": 116,
   "metadata": {},
   "outputs": [
    {
     "data": {
      "image/png": "[encoded data removed]",
      "text/latex": [
       "$$\\left \\{ x : \\frac{59 z}{34}, \\quad y : \\frac{33 z}{34}\\right \\}$$"
      ],
      "text/plain": [
       "⎧   59⋅z     33⋅z⎫\n",
       "⎨x: ────, y: ────⎬\n",
       "⎩    34       34 ⎭"
      ]
     },
     "execution_count": 116,
     "metadata": {},
     "output_type": "execute_result"
    }
   ],
   "source": [
    "solve((3*x+7*y-12*z, 4*x-2*y-5*z), x, y)"
   ]
  },
  {
   "cell_type": "code",
   "execution_count": 123,
   "metadata": {},
   "outputs": [
    {
     "data": {
      "image/png": "[encoded data removed]",
      "text/latex": [
       "$$\\left \\{ x : \\frac{23}{7}, \\quad y : - \\frac{10}{7}\\right \\}$$"
      ],
      "text/plain": [
       "{x: 23/7, y: -10/7}"
      ]
     },
     "execution_count": 123,
     "metadata": {},
     "output_type": "execute_result"
    }
   ],
   "source": [
    "solve((3*x+2*y-7, 2*x-y-8), x, y)"
   ]
  },
  {
   "cell_type": "markdown",
   "metadata": {},
   "source": [
    "Para mais informações, veja `help(solve)` e `help(solve_linear_system)`.\n",
    "\n",
    "### Equações não lineares\n",
    "\n",
    "Vamos resolver uma equação simples tal como:\n",
    "$x = x^2$. Há obviamente duas soluções: *x* = 0 e *x* = 1. Como podemos pedir a Sympy que as calcule para nós?"
   ]
  },
  {
   "cell_type": "code",
   "execution_count": 124,
   "metadata": {
    "collapsed": true
   },
   "outputs": [],
   "source": [
    "import sympy\n",
    "x, y, z = sympy.symbols('x, y, z')        # cria os simbolos x, y e z\n",
    "eq = x - x ** 2                           # define a equação"
   ]
  },
  {
   "cell_type": "code",
   "execution_count": 125,
   "metadata": {},
   "outputs": [
    {
     "data": {
      "image/png": "[encoded data removed]",
      "text/latex": [
       "$$\\left [ 0, \\quad 1\\right ]$$"
      ],
      "text/plain": [
       "[0, 1]"
      ]
     },
     "execution_count": 125,
     "metadata": {},
     "output_type": "execute_result"
    }
   ],
   "source": [
    "sympy.solve(eq, x)                        # resolve eq = 0"
   ]
  },
  {
   "cell_type": "markdown",
   "metadata": {},
   "source": [
    "A função `solve()` espera uma expressão que, como pretende ser resolvida, para que ela seja avaliada como sendo zero. Para o nosso exemplo, reescrevemos\n",
    "\n",
    "*x* = *x*<sup>2</sup>\n",
    " as\n",
    "*x* − *x*<sup>2</sup> = 0\n",
    "e depois passamos para a função de `solve`.\n",
    "\n",
    "Vamos repetir a mesma equação:\n",
    "*x* = *x*<sup>3</sup>\n",
    "e resolver"
   ]
  },
  {
   "cell_type": "code",
   "execution_count": 130,
   "metadata": {},
   "outputs": [
    {
     "data": {
      "image/png": "[encoded data removed]",
      "text/latex": [
       "$$\\left [ -1, \\quad 0, \\quad 1\\right ]$$"
      ],
      "text/plain": [
       "[-1, 0, 1]"
      ]
     },
     "execution_count": 130,
     "metadata": {},
     "output_type": "execute_result"
    }
   ],
   "source": [
    "eq = x - x ** 3                           # define a equação\n",
    "sympy.solve(eq, x)                        # resolve eq = 0"
   ]
  },
  {
   "cell_type": "markdown",
   "metadata": {},
   "source": [
    "# Gerando resultado em LaTeX\n",
    "\n",
    "Para gerar o resultado de uma expressão em LaTeX use a função `sympy.printing.latex(arg)` onde `arq` deve ser um *symbol* "
   ]
  },
  {
   "cell_type": "code",
   "execution_count": 131,
   "metadata": {},
   "outputs": [
    {
     "data": {
      "text/plain": [
       "'x - \\\\frac{x^{3}}{6} + \\\\frac{x^{5}}{120} + \\\\mathcal{O}\\\\left(x^{6}\\\\right)'"
      ]
     },
     "execution_count": 131,
     "metadata": {},
     "output_type": "execute_result"
    }
   ],
   "source": [
    "y=series(sin(x), x, 0)\n",
    "sympy.printing.latex(y)"
   ]
  },
  {
   "cell_type": "markdown",
   "metadata": {},
   "source": [
    "### Saída: Interface LaTeX e uma impressão bonita\n",
    "\n",
    "Como é o caso de muitos sistemas de álgebra computacional, o SymPy tem a capacidade de formatar sua saída como código LaTeX, para facilitar a inclusão em documentos.\n",
    "\n",
    "No início deste texto, chamamos:\n",
    "\n",
    "\n",
    "```python\n",
    "sympy.init_printing()\n",
    "```\n",
    "\n",
    "Sympy detectou que estava em Jupyter, e permitiu saída de látex. O Jupyter Notebook suporta (alguns) Latex, então isso nos dá a saída bem formatada acima.\n",
    "\n",
    "Também podemos ver a saída de texto simples do Sympy, e o código de látex cru que ele cria:\n"
   ]
  },
  {
   "cell_type": "code",
   "execution_count": 132,
   "metadata": {},
   "outputs": [
    {
     "name": "stdout",
     "output_type": "stream",
     "text": [
      "1/(2*x - x**3/6 + x**5/120 + O(x**6))\n"
     ]
    }
   ],
   "source": [
    "print(series(1/(x+y), y, 0, 3))"
   ]
  },
  {
   "cell_type": "code",
   "execution_count": 133,
   "metadata": {},
   "outputs": [
    {
     "name": "stdout",
     "output_type": "stream",
     "text": [
      "\\frac{1}{2 x - \\frac{x^{3}}{6} + \\frac{x^{5}}{120} + \\mathcal{O}\\left(x^{6}\\right)}\n"
     ]
    }
   ],
   "source": [
    "print(latex(series(1/(x+y), y, 0, 3)))"
   ]
  },
  {
   "cell_type": "code",
   "execution_count": 134,
   "metadata": {},
   "outputs": [
    {
     "name": "stdout",
     "output_type": "stream",
     "text": [
      "$\\frac{1}{2 x - x^{3} / 6 + x^{5} / 120 + \\mathcal{O}\\left(x^{6}\\right)}$\n"
     ]
    }
   ],
   "source": [
    "print(latex(series(1/(x+y), y, 0, 3), mode='inline'))"
   ]
  },
  {
   "cell_type": "markdown",
   "metadata": {},
   "source": [
    "Lembre-se de que no seu modo padrão, `latex()` envia um código que requer que o pacote `amsmath` seja carregado através do comando` \\backslashusepackage{amsmath}` no preâmbulo do documento.\n",
    "\n",
    "O SymPy também suporta uma rotina de saída \"pretty print\" (`pprint()`), que produz uma saída de texto com melhor formatação do que a rotina de impressão padrão, conforme ilustrado abaixo. Note características como os subscritos para elementos de matriz cujos nomes são da forma `T_n`, a constante em itálico *e*, pontos verticalmente centrados para a multiplicação e as bordas e frações bem formadas da matriz.\n",
    "\n",
    "<img src = \"sympy/sympy2.png\" alt = \"Saída bem formatada do pprint().\" style = \"width:80.0%\" />\n",
    "\n",
    "Finalmente, o SymPy oferece `preview()`, que exibe a saída renderizada na tela (verifique `help(preview)` para detalhes).\n"
   ]
  },
  {
   "cell_type": "markdown",
   "metadata": {},
   "source": [
    "### Geração automática de código Fortran  ou C \n",
    "\n",
    "Um ponto forte de muitas bibliotecas simbólicas é que elas podem converter as expressões simbólicas em um código fonte Fortran (ou outro código, como o C) que podem ser posteriormente compiladas para alta velocidade de execução. Aqui está um exemplo que demonstra isso:"
   ]
  },
  {
   "cell_type": "code",
   "execution_count": 135,
   "metadata": {},
   "outputs": [
    {
     "data": {
      "image/png": "[encoded data removed]",
      "text/latex": [
       "$$x - \\frac{x^{3}}{6} + \\frac{x^{5}}{120} + \\mathcal{O}\\left(x^{6}\\right)$$"
      ],
      "text/plain": [
       "     3     5        \n",
       "    x     x     ⎛ 6⎞\n",
       "x - ── + ─── + O⎝x ⎠\n",
       "    6    120        "
      ]
     },
     "execution_count": 135,
     "metadata": {},
     "output_type": "execute_result"
    }
   ],
   "source": [
    "from sympy import *                                                                                    \n",
    "from sympy.utilities.codegen import codegen                                                                            \n",
    "x = Symbol('x')                                                                                                          \n",
    "sin(x).series(x, 0, 6)"
   ]
  },
  {
   "cell_type": "code",
   "execution_count": 136,
   "metadata": {},
   "outputs": [
    {
     "name": "stdout",
     "output_type": "stream",
     "text": [
      "!******************************************************************************\n",
      "!*                       Code generated with sympy 1.0                        *\n",
      "!*                                                                            *\n",
      "!*              See http://www.sympy.org/ for more information.               *\n",
      "!*                                                                            *\n",
      "!*                       This file is part of 'project'                       *\n",
      "!******************************************************************************\n",
      "\n",
      "REAL*8 function taylor_seno(x)\n",
      "implicit none\n",
      "REAL*8, intent(in) :: x\n",
      "\n",
      "REAL*8 :: O(x**6)\n",
      "taylor_seno = x - 1.0d0/6.0d0*x**3 + (1.0d0/120.0d0)*x**5 + O(x**6)\n",
      "\n",
      "end function\n",
      "\n"
     ]
    }
   ],
   "source": [
    "print(codegen((\"taylor_seno\",sin(x).series(x,0,6)), language='F95')[0][1])"
   ]
  },
  {
   "cell_type": "markdown",
   "metadata": {},
   "source": [
    "Para obter o mesmo código em C, faz-se "
   ]
  },
  {
   "cell_type": "code",
   "execution_count": 137,
   "metadata": {},
   "outputs": [
    {
     "name": "stdout",
     "output_type": "stream",
     "text": [
      "/******************************************************************************\n",
      " *                       Code generated with sympy 1.0                        *\n",
      " *                                                                            *\n",
      " *              See http://www.sympy.org/ for more information.               *\n",
      " *                                                                            *\n",
      " *                       This file is part of 'project'                       *\n",
      " ******************************************************************************/\n",
      "#include \"taylor_seno.h\"\n",
      "#include <math.h>\n",
      "\n",
      "double taylor_seno(double x) {\n",
      "\n",
      "   double taylor_seno_result;\n",
      "   taylor_seno_result = x - 1.0L/6.0L*pow(x, 3) + (1.0L/120.0L)*pow(x, 5) + O(x**6);\n",
      "   return taylor_seno_result;\n",
      "\n",
      "}\n",
      "\n"
     ]
    }
   ],
   "source": [
    "print(codegen((\"taylor_seno\",sin(x).series(x,0,6)), language='C')[0][1])"
   ]
  },
  {
   "cell_type": "markdown",
   "metadata": {},
   "source": [
    "Considere o seguinte exemplo:"
   ]
  },
  {
   "cell_type": "code",
   "execution_count": 138,
   "metadata": {},
   "outputs": [
    {
     "name": "stdout",
     "output_type": "stream",
     "text": [
      "!******************************************************************************\n",
      "!*                       Code generated with sympy 1.0                        *\n",
      "!*                                                                            *\n",
      "!*              See http://www.sympy.org/ for more information.               *\n",
      "!*                                                                            *\n",
      "!*                       This file is part of 'project'                       *\n",
      "!******************************************************************************\n",
      "\n",
      "subroutine FuncaoMat(A, B, m, n, C)\n",
      "implicit none\n",
      "INTEGER*4, intent(in) :: m\n",
      "INTEGER*4, intent(in) :: n\n",
      "REAL*8, intent(in), dimension(1:m, 1:n) :: A\n",
      "REAL*8, intent(in), dimension(1:n) :: B\n",
      "REAL*8, intent(out), dimension(1:m) :: C\n",
      "INTEGER*4 :: i\n",
      "INTEGER*4 :: j\n",
      "\n",
      "do i = 1, m\n",
      "   C(i) = 0\n",
      "end do\n",
      "do i = 1, m\n",
      "   do j = 1, n\n",
      "      C(i) = B(j)*A(i, j) + C(i)\n",
      "   end do\n",
      "end do\n",
      "\n",
      "end subroutine\n",
      "\n"
     ]
    }
   ],
   "source": [
    "from sympy import *\n",
    "from sympy.utilities.codegen import codegen\n",
    "A, B, C = symbols('A B C', cls=IndexedBase)\n",
    "m, n = symbols('m n', integer=True)\n",
    "i = Idx('i', m)\n",
    "j = Idx('j', n)\n",
    "expr = Eq(C[i], A[i, j]*B[j])\n",
    "result = codegen(('FuncaoMat', expr), 'F95', 'FuncaoMat')\n",
    "print (result[0][1])"
   ]
  },
  {
   "cell_type": "markdown",
   "metadata": {},
   "source": [
    "Ferramentas Relacionadas \n",
    "-------------\n",
    "\n",
    "Vale a pena notar que a iniciativa SAGE está tentando \"criar uma alternativa livre e viável para Magma, Maple, Mathematica e Matlab\" e inclui a biblioteca SymPy entre muitos outros. Suas capacidades simbólicas são mais poderosas do que SymPy e SAGE, mas os recursos do SymPy já vão cobrir muitas das necessidades que surgem na ciência e na engenharia. SAGE inclui o sistema de álgebra computador Maxima, que também está disponível em <http://maxima.sourceforge.net/>.\n"
   ]
  },
  {
   "cell_type": "code",
   "execution_count": null,
   "metadata": {
    "collapsed": true
   },
   "outputs": [],
   "source": []
  }
 ],
 "metadata": {
  "jupytext": {},
  "kernelspec": {
   "display_name": "Python 3",
   "language": "python",
   "name": "python3"
  },
  "language_info": {
   "codemirror_mode": {
    "name": "ipython",
    "version": 3
   },
   "file_extension": ".py",
   "mimetype": "text/x-python",
   "name": "python",
   "nbconvert_exporter": "python",
   "pygments_lexer": "ipython3",
   "version": "3.6.8"
  },
  "latex_envs": {
   "LaTeX_envs_menu_present": true,
   "autoclose": false,
   "autocomplete": true,
   "bibliofile": "biblio.bib",
   "cite_by": "apalike",
   "current_citInitial": 1,
   "eqLabelWithNumbers": true,
   "eqNumInitial": 1,
   "hotkeys": {
    "equation": "Ctrl-E",
    "itemize": "Ctrl-I"
   },
   "labels_anchors": false,
   "latex_user_defs": false,
   "report_style_numbering": false,
   "user_envs_cfg": false
  },
  "nbTranslate": {
   "displayLangs": [
    "pt",
    "en"
   ],
   "hotkey": "alt-t",
   "langInMainMenu": true,
   "sourceLang": "en",
   "targetLang": "pt",
   "useGoogleTranslate": true
  },
  "toc": {
   "base_numbering": 1,
   "nav_menu": {},
   "number_sections": true,
   "sideBar": true,
   "skip_h1_title": false,
   "title_cell": "Table of Contents",
   "title_sidebar": "Contents",
   "toc_cell": false,
   "toc_position": {},
   "toc_section_display": true,
   "toc_window_display": false
  },
  "varInspector": {
   "cols": {
    "lenName": 16,
    "lenType": 16,
    "lenVar": 40
   },
   "kernels_config": {
    "python": {
     "delete_cmd_postfix": "",
     "delete_cmd_prefix": "del ",
     "library": "var_list.py",
     "varRefreshCmd": "print(var_dic_list())"
    },
    "r": {
     "delete_cmd_postfix": ") ",
     "delete_cmd_prefix": "rm(",
     "library": "var_list.r",
     "varRefreshCmd": "cat(var_dic_list()) "
    }
   },
   "types_to_exclude": [
    "module",
    "function",
    "builtin_function_or_method",
    "instance",
    "_Feature"
   ],
   "window_display": false
  }
 },
 "nbformat": 4,
 "nbformat_minor": 2
}
