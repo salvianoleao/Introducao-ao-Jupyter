{
 "cells": [
  {
   "cell_type": "markdown",
   "metadata": {},
   "source": [
    "<img src=\"Figs/Cab_IF_Red_01.png\" alt=\"drawing\" width=\"80%\"/>\n",
    "\n",
    "\n",
    "<!--\n",
    "\n",
    "<img href=\"Figs/Cab_IF_Red_01.png\" style=\"width: 80%;\" /> doesn't work\n",
    "\n",
    "![Logotipo do IF](../Figs/Cab_IF_Red_01.png){ width=50% }\n",
    "\n",
    "<h1> <span style=\"color:blue\">Curso de Física Computacional </span> </h1> \n",
    "-->\n",
    "\n",
    "<p style=\"margin-bottom:1cm;\"> </p>\n",
    "\n",
    "\n",
    "<center> <font size=\"6\" color=\"blue\">Curso de Física Computacional</font> </center>\n",
    "\n",
    "\n",
    "<font size=\"4\" color=\"blue\">**Prof. :** Salviano A. Leão -- Instituto de Física - UFG-GO</font>\n",
    "\n",
    "\n",
    "<!--\n",
    "\n",
    "\n",
    "Esse material faz parte do curso de Física Computacional.\n",
    "\n",
    "\n",
    "## Aulas do curso de Python\n",
    "\n",
    "Este Curso possui as seguinte aulas:\n",
    "\n",
    "- [Aula 01: Introdução aos Jupyter Notebooks](01-Aula-IPython-e-Jupyter.ipynb)\n",
    "- [Aula 02: Introdução à Computacao Científica](02-Aula-Introducao-Computacao-Cientifica.ipynb)\n",
    "- [Aula 03: Usando o Python como uma calculadora](03-Aula-Uma-poderosa-calculadora.ipynb)\n",
    "- [Aula 04: Estrutura e tipos de dados do Python - Versão 1](04-Aula-Estrutura-e-tipos-de-dados.ipynb)\n",
    "- [Aula 05: Estrutura e tipos de dados do Python - Versão 2](04-Aula-Estrutura-e-tipos-de-dados_Modificada.ipynb)\n",
    "- [Aula 06: Instrospecção raízes e o método da bisseção](05-Aula_Instrospeccao_Raizes_Bissecao.ipynb)\n",
    "- [Aula 07: Instrospecção](05-Aula-Introspeccao.ipynb)\n",
    "- [Aula 08: Entrada e saída de sados](06-Aula-Entrada-e-saida.ipynb)\n",
    "- [Aula 09: Controle de fluxo](07-Aula-Controle-de-fluxo.ipynb)\n",
    "- [Aula 10: Funções e módulos](08-Aula-Funcoes-e-modulos.ipynb)\n",
    "- [Aula 11: Ferramentas funcionais](09-Aula-Ferramentas-funcionais.ipynb)\n",
    "- [Aula 12: Tarefa comuns](10-Aula-Tarefas-comuns.ipynb)\n",
    "- [Aula 13: Scilab no Jupyter](11-Aula-Scilab-para-o-python.ipynb)\n",
    "- [Aula 14: Pyhton Shells](12-Python-shells.ipynb)\n",
    "- [Aula 15: Computação simbólica](13-Computacao-simbolica.ipynb)\n",
    "- [Aula 16: Integração Simbólica](13-Integracao-Simbolica.ipynb)\n",
    "- [Aula 17: Computação numérica](14-Computacao-numerica.ipynb)\n",
    "- [Aula 18: A biblioteca NumPy](15-numpy.ipynb)\n",
    "- [Aula 19: Visualização de dados: A biblioteca Matplotlib](16-Visualizacao-de-dados.ipynb)\n",
    "- [Aula 20: A biblioteca Scipy](17-Scipy.ipynb)\n",
    "- [Aula 21: Erros numéricos](19-Erros-numericos.ipynb)\n",
    "- [Aula 22: Encontrar arquivos](Encontrar-arquivos.ipynb)\n",
    "- [Aula 23: Convertendo código fonte em um Jupyter Notebook](Converte-codigo-fonte-em-notebook.ipynb)\n",
    "- [Aula 24: Uma introdução a biblioteca Matplotlib](Matplotlib-Uma-Introduçao.ipynb)\n",
    "- [Aula 25: Estrutura e análise de dados](Estrutura-e-análise-de-dados.ipynb)\n",
    "\n",
    "-->"
   ]
  },
  {
   "cell_type": "markdown",
   "metadata": {
    "toc": true
   },
   "source": [
    "<h1>Table of Contents<span class=\"tocSkip\"></span></h1>\n",
    "<div class=\"toc\"><ul class=\"toc-item\"><li><ul class=\"toc-item\"><li><span><a href=\"#Aulas-do-curso-de-Python\" data-toc-modified-id=\"Aulas-do-curso-de-Python-0.1\">Aulas do curso de Python</a></span></li></ul></li><li><span><a href=\"#Jupyter/IPython\" data-toc-modified-id=\"Jupyter/IPython-1\">Jupyter/IPython</a></span><ul class=\"toc-item\"><li><ul class=\"toc-item\"><li><span><a href=\"#História\" data-toc-modified-id=\"História-1.0.1\">História</a></span></li><li><span><a href=\"#A-saída-é-assíncrona\" data-toc-modified-id=\"A-saída-é-assíncrona-1.0.2\">A saída é assíncrona</a></span></li><li><span><a href=\"#Introspecção\" data-toc-modified-id=\"Introspecção-1.0.3\">Introspecção</a></span></li><li><span><a href=\"#Completar-com-Tab\" data-toc-modified-id=\"Completar-com-Tab-1.0.4\">Completar com Tab</a></span></li><li><span><a href=\"#Comandos-do-sistema\" data-toc-modified-id=\"Comandos-do-sistema-1.0.5\">Comandos do sistema</a></span></li></ul></li><li><span><a href=\"#Console--Qt\" data-toc-modified-id=\"Console--Qt-1.1\">Console  Qt</a></span></li></ul></li><li><span><a href=\"#Jupyter-Notebook\" data-toc-modified-id=\"Jupyter-Notebook-2\">Jupyter Notebook</a></span><ul class=\"toc-item\"><li><ul class=\"toc-item\"><li><span><a href=\"#Código-Remoto\" data-toc-modified-id=\"Código-Remoto-2.0.1\">Código Remoto</a></span></li><li><span><a href=\"#Suporte-ao-Mathjax\" data-toc-modified-id=\"Suporte-ao-Mathjax-2.0.2\">Suporte ao Mathjax</a></span></li></ul></li><li><span><a href=\"#Suporte-SymPy\" data-toc-modified-id=\"Suporte-SymPy-2.1\">Suporte SymPy</a></span><ul class=\"toc-item\"><li><span><a href=\"#Funções-mágicas\" data-toc-modified-id=\"Funções-mágicas-2.1.1\">Funções mágicas</a></span></li></ul></li><li><span><a href=\"#Exemplo:-O-tutor\" data-toc-modified-id=\"Exemplo:-O-tutor-2.2\">Exemplo: O tutor</a></span></li><li><span><a href=\"#Kernel-do-Fortran\" data-toc-modified-id=\"Kernel-do-Fortran-2.3\">Kernel do Fortran</a></span></li><li><span><a href=\"#Instalando-o-Fortran-magic\" data-toc-modified-id=\"Instalando-o-Fortran-magic-2.4\">Instalando o Fortran-magic</a></span><ul class=\"toc-item\"><li><span><a href=\"#LaTeX\" data-toc-modified-id=\"LaTeX-2.4.1\">LaTeX</a></span></li><li><span><a href=\"#A-biblioteca-matplotlib2tikz\" data-toc-modified-id=\"A-biblioteca-matplotlib2tikz-2.4.2\">A biblioteca matplotlib2tikz</a></span><ul class=\"toc-item\"><li><span><a href=\"#Opcional\" data-toc-modified-id=\"Opcional-2.4.2.1\">Opcional</a></span></li></ul></li></ul></li><li><span><a href=\"#Javscript\" data-toc-modified-id=\"Javscript-2.5\">Javscript</a></span></li><li><span><a href=\"#Exportando-e-Convertendo-Notebooks\" data-toc-modified-id=\"Exportando-e-Convertendo-Notebooks-2.6\">Exportando e Convertendo Notebooks</a></span><ul class=\"toc-item\"><li><span><a href=\"#Coverter-código-python-em-notebook\" data-toc-modified-id=\"Coverter-código-python-em-notebook-2.6.1\">Coverter código python em notebook</a></span><ul class=\"toc-item\"><li><span><a href=\"#Exemplo-de-uso-do-nbconvert\" data-toc-modified-id=\"Exemplo-de-uso-do-nbconvert-2.6.1.1\">Exemplo de uso do nbconvert</a></span></li></ul></li><li><span><a href=\"#Usando-uma-APi-dentro-do-notebook\" data-toc-modified-id=\"Usando-uma-APi-dentro-do-notebook-2.6.2\">Usando uma APi dentro do notebook</a></span></li></ul></li></ul></li><li><span><a href=\"#Células-Markdown\" data-toc-modified-id=\"Células-Markdown-3\">Células Markdown</a></span><ul class=\"toc-item\"><li><span><a href=\"#Noções-básicas-do-Markdown\" data-toc-modified-id=\"Noções-básicas-do-Markdown-3.1\">Noções básicas do Markdown</a></span></li><li><span><a href=\"#Listas-no-Markdown\" data-toc-modified-id=\"Listas-no-Markdown-3.2\">Listas no Markdown</a></span></li><li><span><a href=\"#Listas-de-tarefas\" data-toc-modified-id=\"Listas-de-tarefas-3.3\">Listas de tarefas</a></span></li></ul></li><li><span><a href=\"#Cabeçalho-1\" data-toc-modified-id=\"Cabeçalho-1-4\">Cabeçalho 1</a></span></li><li><span><a href=\"#Cabeçalho-2\" data-toc-modified-id=\"Cabeçalho-2-5\">Cabeçalho 2</a></span><ul class=\"toc-item\"><li><span><a href=\"#Cabeçalho-2.1\" data-toc-modified-id=\"Cabeçalho-2.1-5.1\">Cabeçalho 2.1</a></span></li><li><span><a href=\"#Cabeçalho-2.2\" data-toc-modified-id=\"Cabeçalho-2.2-5.2\">Cabeçalho 2.2</a></span><ul class=\"toc-item\"><li><span><a href=\"#Cabeçalho-3\" data-toc-modified-id=\"Cabeçalho-3-5.2.1\">Cabeçalho 3</a></span></li></ul></li><li><span><a href=\"#Equações-LaTeX\" data-toc-modified-id=\"Equações-LaTeX-5.3\">Equações LaTeX</a></span><ul class=\"toc-item\"><li><span><a href=\"#Numerando-equações-LaTeX-no-notebook\" data-toc-modified-id=\"Numerando-equações-LaTeX-no-notebook-5.3.1\">Numerando equações LaTeX no notebook</a></span></li></ul></li><li><span><a href=\"#Tabelas-no-Markdown\" data-toc-modified-id=\"Tabelas-no-Markdown-5.4\">Tabelas no Markdown</a></span></li><li><span><a href=\"#Incluindo-arquivos-locais:-imagens,-vídeos,-etc.\" data-toc-modified-id=\"Incluindo-arquivos-locais:-imagens,-vídeos,-etc.-5.5\">Incluindo arquivos locais: imagens, vídeos, etc.</a></span></li><li><span><a href=\"#Comentários-no-Markdown\" data-toc-modified-id=\"Comentários-no-Markdown-5.6\">Comentários no Markdown</a></span></li></ul></li></ul></div>"
   ]
  },
  {
   "cell_type": "markdown",
   "metadata": {},
   "source": [
    "# Jupyter/IPython\n",
    "\n",
    "**Jupyter/IPython** (Python interativo) é um shell Python aprimorado que fornece um ambiente de desenvolvimento mais robusto e produtivo para os usuários. Existem várias características-chave que o diferenciam do shell padrão do Python.\n",
    "\n",
    "### História\n",
    "\n",
    "No Jupyter/IPython, todas as suas entradas e saídas são salvas. Há duas variáveis chamadas `In` e` Out` que são atribuídas à medida que você trabalha com seus resultados. Todas as saídas são salvas automaticamente em variáveis da forma `_N`, onde `N` é o número do prompt, e as entradas para `_iN`. Isso permite que você recupere rapidamente o resultado de uma computação anterior, referindo-se a seu número, mesmo se você se esqueceu de armazená-lo como uma variável.\n"
   ]
  },
  {
   "cell_type": "code",
   "execution_count": null,
   "metadata": {
    "ExecuteTime": {
     "end_time": "2018-10-30T16:17:12.908275Z",
     "start_time": "2018-10-30T16:17:12.903222Z"
    }
   },
   "outputs": [],
   "source": [
    "from math import sqrt\n",
    "sqrt(21.0)"
   ]
  },
  {
   "cell_type": "markdown",
   "metadata": {},
   "source": [
    "Para referenciar o resultado da célula anterior, faça"
   ]
  },
  {
   "cell_type": "code",
   "execution_count": null,
   "metadata": {
    "ExecuteTime": {
     "end_time": "2018-10-30T16:17:20.040335Z",
     "start_time": "2018-10-30T16:17:20.037285Z"
    }
   },
   "outputs": [],
   "source": [
    "_12 * 2.0"
   ]
  },
  {
   "cell_type": "markdown",
   "metadata": {},
   "source": [
    "Você também pode referenciar a entrada, nesse caso considere a entrada da célula 3 anteriror, e nesse caso observe que ela é uma string, logo"
   ]
  },
  {
   "cell_type": "code",
   "execution_count": null,
   "metadata": {
    "ExecuteTime": {
     "end_time": "2018-10-30T16:17:27.099078Z",
     "start_time": "2018-10-30T16:17:27.093375Z"
    }
   },
   "outputs": [],
   "source": [
    "_i13"
   ]
  },
  {
   "cell_type": "code",
   "execution_count": null,
   "metadata": {
    "ExecuteTime": {
     "end_time": "2018-10-30T16:17:47.962828Z",
     "start_time": "2018-10-30T16:17:47.957720Z"
    }
   },
   "outputs": [],
   "source": [
    "_12 / 4."
   ]
  },
  {
   "cell_type": "code",
   "execution_count": null,
   "metadata": {
    "ExecuteTime": {
     "end_time": "2018-10-30T16:17:53.096413Z",
     "start_time": "2018-10-30T16:17:53.093453Z"
    }
   },
   "outputs": [],
   "source": [
    "import math\n",
    "math.sin(3.0)"
   ]
  },
  {
   "cell_type": "code",
   "execution_count": null,
   "metadata": {
    "ExecuteTime": {
     "end_time": "2018-10-30T16:17:53.854117Z",
     "start_time": "2018-10-30T16:17:53.850915Z"
    }
   },
   "outputs": [],
   "source": [
    "math.acos(1)"
   ]
  },
  {
   "cell_type": "code",
   "execution_count": null,
   "metadata": {
    "ExecuteTime": {
     "end_time": "2018-10-30T16:17:54.515455Z",
     "start_time": "2018-10-30T16:17:54.512466Z"
    }
   },
   "outputs": [],
   "source": [
    "sqrt(13.0)"
   ]
  },
  {
   "cell_type": "markdown",
   "metadata": {},
   "source": [
    "Os notebooks são iterativos "
   ]
  },
  {
   "cell_type": "code",
   "execution_count": null,
   "metadata": {
    "ExecuteTime": {
     "end_time": "2018-10-30T16:18:13.500221Z",
     "start_time": "2018-10-30T16:17:56.585338Z"
    }
   },
   "outputs": [],
   "source": [
    "a=input(\"Entre com o seu nome\")\n",
    "print(\"O nome entrado foi: \",a)"
   ]
  },
  {
   "cell_type": "markdown",
   "metadata": {},
   "source": [
    "### A saída é assíncrona\n",
    "\n",
    "Toda a saída é exibida de forma assíncrona à medida que é gerada no Kernel. Se você executar a próxima célula, você verá a saída uma peça de cada vez, nem todas no final.\n",
    "\n",
    "[comment]: <> (Esse é um comentário, ele não é mostrado)\n",
    "[comment]: <> (no arquivo de saída)\n",
    "\n",
    "[comment]: <> (Podemos ir mais adiante)\n",
    "\n",
    "[//]: <> (Esse também é um comentário .)\n",
    "\n",
    "[//]: <> ( Para melhorar a compatibilidade da plataforma (e salvar uma digitação), também é possível usar # (que é um alvo de hiperlink legítimo) em vez de <>:)\n",
    "\n",
    "[//]: # (Este pode ser o comentário mais independente da plataforma)\n",
    "\n",
    "[//]: <> ($$ \\int\\limits_{0}^{\\infty} f(x) dx$$)\n",
    "\n",
    "\n",
    "\n",
    "[//]: # (Pode-se usar as tags do HTML tags, como:)\n",
    "\n",
    "<!---\n",
    "O seu comentário vem aqui.\n",
    "---\n",
    "Observe o traço triplo no início. A vantagem é que ele funciona com pandoc \n",
    "ao gerar saída de TeX ou HTML. Mais informações estão disponíveis \n",
    "no grupo pandoc-discuss.\n",
    "-->\n",
    "\n",
    "\n"
   ]
  },
  {
   "cell_type": "code",
   "execution_count": null,
   "metadata": {
    "ExecuteTime": {
     "end_time": "2019-03-06T19:05:53.652306Z",
     "start_time": "2019-03-06T19:05:49.136755Z"
    }
   },
   "outputs": [],
   "source": [
    "import time\n",
    "inicio = 1\n",
    "fim = 9\n",
    "passo = 1\n",
    "for i in range(inicio,fim+1,passo):\n",
    "    print(\"i = \", i)\n",
    "    time.sleep(0.5)\n",
    "print(\"Saiu do loop\")"
   ]
  },
  {
   "cell_type": "markdown",
   "metadata": {},
   "source": [
    "### Introspecção\n",
    "\n",
    "Se desejar detalhes sobre as propriedades e funcionalidades de qualquer objeto Python atualmente carregado no Jupyter/IPython, você pode usar o `?` Para revelar quaisquer detalhes disponíveis:\n"
   ]
  },
  {
   "cell_type": "code",
   "execution_count": null,
   "metadata": {
    "ExecuteTime": {
     "end_time": "2018-10-30T16:18:26.636013Z",
     "start_time": "2018-10-30T16:18:26.630541Z"
    }
   },
   "outputs": [],
   "source": [
    "a?"
   ]
  },
  {
   "cell_type": "code",
   "execution_count": null,
   "metadata": {
    "ExecuteTime": {
     "end_time": "2018-10-30T16:18:27.283266Z",
     "start_time": "2018-10-30T16:18:27.278620Z"
    }
   },
   "outputs": [],
   "source": [
    "algum_dic = {}\n",
    "algum_dic?"
   ]
  },
  {
   "cell_type": "markdown",
   "metadata": {},
   "source": [
    "Se estiverem disponível, os detalhes adicionais serão fornecidos com dois pontos de interrogação, incluindo o código-fonte do próprio objeto.\n"
   ]
  },
  {
   "cell_type": "code",
   "execution_count": null,
   "metadata": {
    "ExecuteTime": {
     "end_time": "2019-03-06T19:06:06.016446Z",
     "start_time": "2019-03-06T19:06:05.918006Z"
    }
   },
   "outputs": [],
   "source": [
    "from numpy.linalg import cholesky\n",
    "cholesky??"
   ]
  },
  {
   "cell_type": "markdown",
   "metadata": {},
   "source": [
    "Essa sintaxe também pode ser usada para pesquisar *namespaces* com curingas (\\*)."
   ]
  },
  {
   "cell_type": "code",
   "execution_count": null,
   "metadata": {
    "ExecuteTime": {
     "end_time": "2019-03-06T19:06:12.487375Z",
     "start_time": "2019-03-06T19:06:12.465527Z"
    }
   },
   "outputs": [],
   "source": [
    "%matplotlib inline"
   ]
  },
  {
   "cell_type": "code",
   "execution_count": null,
   "metadata": {
    "ExecuteTime": {
     "end_time": "2019-03-06T19:06:13.448568Z",
     "start_time": "2019-03-06T19:06:13.408119Z"
    }
   },
   "outputs": [],
   "source": [
    "import pylab as plt\n",
    "plt.*plot*?"
   ]
  },
  {
   "cell_type": "code",
   "execution_count": null,
   "metadata": {
    "ExecuteTime": {
     "end_time": "2019-03-06T19:06:21.176499Z",
     "start_time": "2019-03-06T19:06:21.172117Z"
    }
   },
   "outputs": [],
   "source": [
    "%matplotlib --list"
   ]
  },
  {
   "cell_type": "markdown",
   "metadata": {},
   "source": [
    "As opções de visualização da matplotlib são:\n",
    "\n",
    "'auto', 'gtk', 'gtk3', 'inline', 'nbagg', 'notebook', 'osx', 'qt', 'qt4', 'qt5', 'tk', 'wx'\n",
    "\n",
    "\n",
    "\n",
    "%matplotlib --list\n",
    "   Available matplotlib backends: ['osx', 'qt4', 'qt5', 'gtk3', 'notebook', 'wx', 'qt', 'nbagg',\n",
    "   'gtk', 'tk', 'inline']\n",
    "\n",
    "positional arguments:\n",
    "  gui         Name of the matplotlib backend to use ('agg', 'gtk', 'gtk3',\n",
    "              'inline', 'ipympl', 'nbagg', 'notebook', 'osx', 'qt', 'qt4',\n",
    "              'qt5', 'tk', 'wx'). If given, the corresponding matplotlib\n",
    "              backend is used, otherwise it will be matplotlib's default\n",
    "              (which you can set in your matplotlib config file).\n",
    "\n",
    "optional arguments:"
   ]
  },
  {
   "cell_type": "markdown",
   "metadata": {},
   "source": [
    "### Completar com Tab\n",
    "\n",
    "Como o Jupyter/IPython permitem a introspecção, ele é capaz de dar ao usuário a capacidade de completar comandos que foram parcialmente digitados com um tab. Isso é feito pressionando a tecla `<tab>` em qualquer ponto durante o processo de digitar um comando:"
   ]
  },
  {
   "cell_type": "code",
   "execution_count": null,
   "metadata": {},
   "outputs": [],
   "source": [
    "plt.p"
   ]
  },
  {
   "cell_type": "markdown",
   "metadata": {},
   "source": [
    "Isso pode até ser usado para ajudar com a especificação dos argumentos de algumas funções, o que às vezes pode ser difícil de lembrar:"
   ]
  },
  {
   "cell_type": "code",
   "execution_count": null,
   "metadata": {},
   "outputs": [],
   "source": [
    "plt.hist"
   ]
  },
  {
   "cell_type": "markdown",
   "metadata": {},
   "source": [
    "### Comandos do sistema\n",
    "\n",
    "No Jupyter/IPython, você pode digitar `ls` para ver seus arquivos ou `cd` para alterar diretórios, assim como você faria em um prompt do sistema, mas para isso adicione o caracter `!`:"
   ]
  },
  {
   "cell_type": "code",
   "execution_count": null,
   "metadata": {},
   "outputs": [],
   "source": [
    "!ls /home/salviano/Cursos/FisComp/Python/ipython/Cursos/"
   ]
  },
  {
   "cell_type": "markdown",
   "metadata": {},
   "source": [
    "Praticamente qualquer comando do sistema pode ser acessado prepending `!`,  o qual passa qualquer comando subsequente diretamente para o sistema operacional."
   ]
  },
  {
   "cell_type": "code",
   "execution_count": null,
   "metadata": {},
   "outputs": [],
   "source": [
    "!locate python3 | grep pdf"
   ]
  },
  {
   "cell_type": "markdown",
   "metadata": {},
   "source": [
    "Você pode até usar variáveis Python em comandos enviados para o sistema operacional:"
   ]
  },
  {
   "cell_type": "code",
   "execution_count": null,
   "metadata": {},
   "outputs": [],
   "source": [
    "file_type = 'ipynb'\n",
    "!ls ./*$file_type"
   ]
  },
  {
   "cell_type": "markdown",
   "metadata": {},
   "source": [
    "A saída de um comando do sistema usando a sintaxe do ponto de exclamação pode ser atribuída a uma variável Python."
   ]
  },
  {
   "cell_type": "code",
   "execution_count": null,
   "metadata": {},
   "outputs": [],
   "source": [
    "notebooks = !ls ./"
   ]
  },
  {
   "cell_type": "code",
   "execution_count": null,
   "metadata": {},
   "outputs": [],
   "source": [
    "notebooks"
   ]
  },
  {
   "cell_type": "code",
   "execution_count": null,
   "metadata": {},
   "outputs": [],
   "source": [
    "type(notebooks)"
   ]
  },
  {
   "cell_type": "markdown",
   "metadata": {},
   "source": [
    "## Console  Qt \n",
    "\n",
    "Se você digitar no prompt do sistema:\n",
    "\n",
    "```bash\n",
    "> ipython3 qtconsole\n",
    "```\n",
    "\n",
    "ou \n",
    "\n",
    "```bash\n",
    "> jupyter-qtconsole\n",
    "```\n",
    "\n",
    "Em vez de abrir em um terminal, IPython irá iniciar um console gráfico que à primeira vista aparece como um terminal, mas que é, de fato, muito mais capaz do que um terminal somente de texto. Este é um terminal especializado projetado para o trabalho científico interativo, e suporta a edição de multi-linha cheia com realce de cor e calltips gráficos para funções, pode manter múltiplas sessões de IPython abertas simultaneamente em abas, e quando scripts funcionam pode exibir os números diretamente Na área de trabalho.\n",
    "\n",
    "![qtconsole](Figs/Jupyter_QtConsole.png)"
   ]
  },
  {
   "cell_type": "markdown",
   "metadata": {},
   "source": [
    "# Jupyter Notebook\n",
    "\n",
    "\n",
    "Ao longo do tempo, o projeto IPython cresceu para incluir vários componentes, incluindo:\n",
    "\n",
    "* Um shell interativo\n",
    "* Um protocolo REPL\n",
    "* Um documento de caderno fromat\n",
    "* Uma ferramenta de conversão de documentos do notebook\n",
    "* Uma ferramenta de criação de notebooks baseada na web\n",
    "* Ferramentas para a construção de interface interativa (widgets)\n",
    "* Python paralelo interativo\n",
    "\n",
    "Como cada componente evoluiu, vários tinham crescido ao ponto que eles warrented projetos de seus próprios. Por exemplo, peças como o notebook e o protocolo não são nem mesmo específicas do Python. Como resultado, a equipe do IPython criou o Projeto Jupyter, que é a nova casa de projetos agnósticos de linguagem que começou como parte do IPython, como o notebook no qual você está lendo este texto.\n",
    "\n",
    "O notebook HTML que faz parte do projeto Jupyter suporta ** visualização de dados interativos ** e fácil de alto desempenho ** computação paralela **.\n"
   ]
  },
  {
   "cell_type": "code",
   "execution_count": null,
   "metadata": {
    "ExecuteTime": {
     "end_time": "2019-03-06T19:06:41.762109Z",
     "start_time": "2019-03-06T19:06:41.375559Z"
    }
   },
   "outputs": [],
   "source": [
    "import matplotlib.pyplot as plt\n",
    "import numpy as np\n",
    "plt.style.use('fivethirtyeight')\n",
    "\n",
    "def f(x):\n",
    "    return np.exp(-x**2-10*x)\n",
    "#(x-3)*(x-5)*(x-7)+85\n",
    "\n",
    "import numpy as np\n",
    "x0 = -10 # origem\n",
    "xf = 0  # fim do intervalo\n",
    "n  = 200 # numero de pontos que se discretiza o intervalo (x0,xf)\n",
    "x = np.linspace(x0, xf, n)\n",
    "y = f(x)\n",
    "plt.plot(x,y)"
   ]
  },
  {
   "cell_type": "code",
   "execution_count": null,
   "metadata": {
    "ExecuteTime": {
     "end_time": "2019-03-06T19:06:46.321759Z",
     "start_time": "2019-03-06T19:06:46.023196Z"
    }
   },
   "outputs": [],
   "source": [
    "def g(x):\n",
    "    return x**4 -3*x**2 +4*x -x +2\n",
    "\n",
    "x = np.linspace(-10, 10, 100)\n",
    "y = g(x)\n",
    "plt.plot(x,y)"
   ]
  },
  {
   "cell_type": "markdown",
   "metadata": {},
   "source": [
    "O notebook permite documentar seu fluxo de trabalho usando HTML ou Markdown.\n",
    "\n",
    "O Jupyter Notebook consiste em dois componentes relacionados:\n",
    "\n",
    "* Um formato de documento JSON baseado em Notebook para gravação e distribuição de código Python e texto rico.\n",
    "  - subb1\n",
    "  - sub2\n",
    "* Uma interface de usuário baseada na web para a criação e execução de documentos do notebook.\n",
    "\n",
    "O Notebook pode ser usado iniciando o servidor Notebook com o comando:\n",
    "\n",
    "```bash\n",
    "> jupyter-notebook\n",
    "```\n",
    "\n",
    "Isso inicia um **mecanismo IPython**, que é uma instância Python que leva comandos Python através de uma conexão de rede.\n",
    "\n",
    "O **controlador IPython** fornece uma interface para trabalhar com um conjunto de mecanismos, aos quais um ou mais **clientes IPython** podem se conectar.\n",
    "\n",
    "O Notebook dá-lhe tudo o que um navegador lhe dá. Por exemplo, você pode incorporar imagens, vídeos ou sites inteiros."
   ]
  },
  {
   "cell_type": "code",
   "execution_count": null,
   "metadata": {
    "ExecuteTime": {
     "end_time": "2019-03-06T19:06:53.302076Z",
     "start_time": "2019-03-06T19:06:53.268241Z"
    }
   },
   "outputs": [],
   "source": [
    "from IPython.display import HTML\n",
    "HTML(\"<iframe src=http://jupyter.org/ width=700 height=350></iframe>\")"
   ]
  },
  {
   "cell_type": "code",
   "execution_count": null,
   "metadata": {
    "ExecuteTime": {
     "end_time": "2019-03-06T19:06:58.915053Z",
     "start_time": "2019-03-06T19:06:58.518805Z"
    },
    "slideshow": {
     "slide_type": "slide"
    }
   },
   "outputs": [],
   "source": [
    "from IPython.display import YouTubeVideo\n",
    "YouTubeVideo(\"rl5DaFbLc60\")"
   ]
  },
  {
   "cell_type": "markdown",
   "metadata": {},
   "source": [
    "### Código Remoto\n",
    "\n",
    "Use `%load` para adicionar um código remoto"
   ]
  },
  {
   "cell_type": "code",
   "execution_count": null,
   "metadata": {
    "ExecuteTime": {
     "end_time": "2019-03-06T19:07:06.400113Z",
     "start_time": "2019-03-06T19:07:05.925667Z"
    }
   },
   "outputs": [],
   "source": [
    "%load http://matplotlib.org/_downloads/polar_legend.py"
   ]
  },
  {
   "cell_type": "code",
   "execution_count": null,
   "metadata": {
    "ExecuteTime": {
     "end_time": "2019-03-06T19:07:10.900552Z",
     "start_time": "2019-03-06T19:07:10.676055Z"
    }
   },
   "outputs": [],
   "source": [
    "%load http://matplotlib.org/mpl_examples/shapes_and_collections/scatter_demo.py"
   ]
  },
  {
   "cell_type": "code",
   "execution_count": null,
   "metadata": {
    "ExecuteTime": {
     "end_time": "2019-03-06T19:07:14.397365Z",
     "start_time": "2019-03-06T19:07:13.750576Z"
    }
   },
   "outputs": [],
   "source": [
    "%load http://matplotlib.org/examples/frontpage/plot_contour.py"
   ]
  },
  {
   "cell_type": "code",
   "execution_count": null,
   "metadata": {},
   "outputs": [],
   "source": [
    "%matplotlib qt5"
   ]
  },
  {
   "cell_type": "code",
   "execution_count": null,
   "metadata": {},
   "outputs": [],
   "source": [
    "# %load http://matplotlib.org/mpl_examples/mplot3d/contour3d_demo3.py\n",
    "# Para fazer o gráfico em uma janela habilite:\n",
    "# %matplotlib qt\n",
    "from mpl_toolkits.mplot3d import axes3d\n",
    "import matplotlib.pyplot as plt\n",
    "from matplotlib import cm\n",
    "\n",
    "fig = plt.figure()\n",
    "ax = fig.gca(projection='3d')\n",
    "X, Y, Z = axes3d.get_test_data(0.02)\n",
    "ax.plot_surface(X, Y, Z, rstride=10, cstride=10, alpha=0.3)\n",
    "cset = ax.contour(X, Y, Z, zdir='z', offset=-100, cmap=cm.coolwarm)\n",
    "cset = ax.contour(X, Y, Z, zdir='x', offset=-40, cmap=cm.coolwarm)\n",
    "cset = ax.contour(X, Y, Z, zdir='y', offset=40, cmap=cm.coolwarm)\n",
    "\n",
    "ax.set_xlabel('X')\n",
    "ax.set_xlim(-40, 40)\n",
    "ax.set_ylabel('Y')\n",
    "ax.set_ylim(-40, 40)\n",
    "ax.set_zlabel('Z')\n",
    "ax.set_zlim(-100, 100)\n",
    "\n",
    "plt.show()\n"
   ]
  },
  {
   "cell_type": "markdown",
   "metadata": {},
   "source": [
    "### Suporte ao Mathjax \n",
    "\n",
    "Mathjax é uma implementação javascript $\\alpha$ do LaTeX que permite que as equações sejam incorporadas em HTML. Por exemplo, esta marcação:\n",
    "\n",
    "    \"\"\"$$ \\int_{a}^{b} f(x)\\, dx \\approx \\frac{1}{2} \\sum_{k=1}^{N} \\left( x_{k} - x_{k-1} \\right) \\left( f(x_{k}) + f(x_{k-1}) \\right). $$\"\"\"\n",
    "    \n",
    "torna-se:\n",
    "\n",
    "$$\n",
    "\\int_{a}^{b} f(x)\\, dx \\approx \\frac{1}{2} \\sum_{k=1}^{N} \\left( x_{k} - x_{k-1} \\right) \\left( f(x_{k}) + f(x_{k-1}) \\right).\n",
    "$$"
   ]
  },
  {
   "cell_type": "markdown",
   "metadata": {},
   "source": [
    "## Suporte SymPy\n",
    "\n",
    "SymPy é uma biblioteca Python para cálculo simbólico mathematics. Ela suporta:\n",
    "\n",
    "* polinômios\n",
    "* cálculo\n",
    "* resolvendo equações\n",
    "* matemática discreta\n",
    "* matrizes"
   ]
  },
  {
   "cell_type": "code",
   "execution_count": 1,
   "metadata": {},
   "outputs": [],
   "source": [
    "from sympy import *\n",
    "init_printing()\n",
    "x, y = symbols(\"x y\")"
   ]
  },
  {
   "cell_type": "code",
   "execution_count": 2,
   "metadata": {},
   "outputs": [
    {
     "data": {
      "image/png": "[encoded data removed]",
      "text/latex": [
       "$$\\left(x + 1\\right) \\left(x + y\\right)^{3}$$"
      ],
      "text/plain": [
       "               3\n",
       "(x + 1)⋅(x + y) "
      ]
     },
     "execution_count": 2,
     "metadata": {},
     "output_type": "execute_result"
    }
   ],
   "source": [
    "eq = ((x+y)**3 * (x+1))\n",
    "eq"
   ]
  },
  {
   "cell_type": "code",
   "execution_count": 3,
   "metadata": {},
   "outputs": [
    {
     "data": {
      "image/png": "[encoded data removed]",
      "text/latex": [
       "$$x^{4} + 3 x^{3} y + x^{3} + 3 x^{2} y^{2} + 3 x^{2} y + x y^{3} + 3 x y^{2} + y^{3}$$"
      ],
      "text/plain": [
       " 4      3      3      2  2      2        3        2    3\n",
       "x  + 3⋅x ⋅y + x  + 3⋅x ⋅y  + 3⋅x ⋅y + x⋅y  + 3⋅x⋅y  + y "
      ]
     },
     "execution_count": 3,
     "metadata": {},
     "output_type": "execute_result"
    }
   ],
   "source": [
    "expand(eq)"
   ]
  },
  {
   "cell_type": "code",
   "execution_count": 4,
   "metadata": {},
   "outputs": [
    {
     "data": {
      "image/png": "[encoded data removed]",
      "text/latex": [
       "$$1 + \\frac{x^{2}}{2} + \\frac{5 x^{4}}{24} + \\mathcal{O}\\left(x^{6}\\right)$$"
      ],
      "text/plain": [
       "     2      4        \n",
       "    x    5⋅x     ⎛ 6⎞\n",
       "1 + ── + ──── + O⎝x ⎠\n",
       "    2     24         "
      ]
     },
     "execution_count": 4,
     "metadata": {},
     "output_type": "execute_result"
    }
   ],
   "source": [
    "(1/cos(x)).series(x, 0, 6)"
   ]
  },
  {
   "cell_type": "code",
   "execution_count": null,
   "metadata": {},
   "outputs": [],
   "source": [
    "limit((sin(x)-x)/x**3, x, 0)"
   ]
  },
  {
   "cell_type": "code",
   "execution_count": null,
   "metadata": {},
   "outputs": [],
   "source": [
    "diff(cos(x**2)**2 / (1+x), x)"
   ]
  },
  {
   "cell_type": "markdown",
   "metadata": {},
   "source": [
    "### Funções mágicas\n",
    "\n",
    "O IPython tem um conjunto de \"funções mágicas\" predefinidas que você pode chamar com uma sintaxe de estilo de linha de comando. Esses incluem:\n",
    "\n",
    "* `%run`\n",
    "* `%edit`\n",
    "* `%debug`\n",
    "* `%timeit`\n",
    "* `%paste`\n",
    "* `%load_ext`\n",
    "\n"
   ]
  },
  {
   "cell_type": "code",
   "execution_count": null,
   "metadata": {},
   "outputs": [],
   "source": [
    "%lsmagic"
   ]
  },
  {
   "cell_type": "markdown",
   "metadata": {},
   "source": [
    "## Exemplo: O tutor\n",
    "\n",
    "Para executar o código abaixo você precisa de uuma conexão com a internet, pois ele irá executar o comando abaixo no site [Python Tutor](http://pythontutor.com/). Esse site é muito bom para aqueles que estão aprendendo uma linguagem de programação, pois ele linha por linha o que ocorrer na execução de um código. Usando essa ferramenta é possível visualizar códigos escritos nas seguintes linguagens: Python2, Python3, Java, JavaScript, TypeScript, Ruby, C, and C++.\n",
    "\n",
    "Como exemplo, considere o seguinte código:"
   ]
  },
  {
   "cell_type": "code",
   "execution_count": null,
   "metadata": {},
   "outputs": [],
   "source": [
    "%%tutor\n",
    "inicio=4\n",
    "fim= 13 # ele sempre vai terminar um passo antes, ou seja, em 12\n",
    "passo = 2\n",
    "for i in range(inicio,fim,passo):\n",
    "    print(i)"
   ]
  },
  {
   "cell_type": "markdown",
   "metadata": {},
   "source": [
    "Determinando o tempo de execução do código; O comando magic `timeit` existe tanto na forma de linha como de célula:"
   ]
  },
  {
   "cell_type": "code",
   "execution_count": null,
   "metadata": {},
   "outputs": [],
   "source": [
    "import numpy as np\n",
    "%timeit np.linalg.eigvals(np.random.rand(100,100))"
   ]
  },
  {
   "cell_type": "code",
   "execution_count": null,
   "metadata": {},
   "outputs": [],
   "source": [
    "%%timeit a = np.random.rand(100, 100)\n",
    "np.linalg.eigvals(a)<html>&#36;&#36;</html> equação <html>&#36;&#36;</html>."
   ]
  },
  {
   "cell_type": "markdown",
   "metadata": {},
   "source": [
    "O IPython também cria *aliases* para alguns intérpretes comuns, como bash, ruby, perl, etc.\n",
    "\n",
    "Estes são todos equivalentes a `%%script <nome>`"
   ]
  },
  {
   "cell_type": "code",
   "execution_count": null,
   "metadata": {},
   "outputs": [],
   "source": [
    "%%ruby\n",
    "puts \"Hello from Ruby #{RUBY_VERSION}\""
   ]
  },
  {
   "cell_type": "code",
   "execution_count": null,
   "metadata": {},
   "outputs": [],
   "source": [
    "%%bash\n",
    "echo \"hello from $BASH\""
   ]
  },
  {
   "cell_type": "markdown",
   "metadata": {},
   "source": [
    "IPython tem uma extensão `rmagic` que contém algumas funções mágicas para trabalhar com R via rpy2. Esta extensão pode ser carregada usando a magia `%load_ext` da seguinte forma:\n"
   ]
  },
  {
   "cell_type": "code",
   "execution_count": null,
   "metadata": {
    "ExecuteTime": {
     "end_time": "2019-03-06T19:07:29.068439Z",
     "start_time": "2019-03-06T19:07:28.852559Z"
    }
   },
   "outputs": [],
   "source": [
    "%load_ext rpy2.ipython"
   ]
  },
  {
   "cell_type": "markdown",
   "metadata": {},
   "source": [
    "Se o comando anterior gerar um erro, é provável que você não tenha o módulo `rpy2` instalado. Você pode instalar isso agora, em uma nova célula, usando o seguinte código:\n",
    "\n",
    "```bash\n",
    "> !sudo apt install python3-rpy2\n",
    "```\n",
    "\n",
    "Caso não encontre o pacote, vocẽ pode instalar ele usando o seguinte código:\n",
    "\n",
    "```bash\n",
    "> !sudo -H pip3 install rpy2\n",
    "```"
   ]
  },
  {
   "cell_type": "markdown",
   "metadata": {},
   "source": [
    "## Kernel do Fortran\n",
    "\n",
    "A seguir instalaremos o kernel do fortran que é o seguinte pacote: `jupyter-fortran-kernel`"
   ]
  },
  {
   "cell_type": "code",
   "execution_count": null,
   "metadata": {},
   "outputs": [],
   "source": [
    "! sudo -H pip3 install -U jupyter-fortran-kernel"
   ]
  },
  {
   "cell_type": "code",
   "execution_count": null,
   "metadata": {},
   "outputs": [],
   "source": [
    "!mkdir -p Fortran"
   ]
  },
  {
   "cell_type": "code",
   "execution_count": null,
   "metadata": {},
   "outputs": [],
   "source": [
    "%%file Fortran/kernel.joson\n",
    "{\n",
    "  \"argv\": [\n",
    "    \"python3\",\n",
    "    \"-m\",\n",
    "    \"Fortran\",\n",
    "    \"-f\",\n",
    "    \"{connection_file}\"\n",
    "  ],\n",
    "  \"display_name\": \"Fortran\",\n",
    "  \"language\": \"Fortran\"\n",
    "}"
   ]
  },
  {
   "cell_type": "code",
   "execution_count": null,
   "metadata": {},
   "outputs": [],
   "source": [
    "!sudo -H jupyter-kernelspec install Fortran/"
   ]
  },
  {
   "cell_type": "code",
   "execution_count": null,
   "metadata": {},
   "outputs": [],
   "source": [
    "!rm -rf Fortran"
   ]
  },
  {
   "cell_type": "markdown",
   "metadata": {},
   "source": [
    "## Instalando o Fortran-magic\n",
    "\n",
    "\n",
    "Agora será instalado o fortran-magic\n",
    "\n",
    "```bash\n",
    "> sudo -H pip3 install -U fortran-magic\n",
    "```\n",
    "após sua instalção veja, como usá-lo"
   ]
  },
  {
   "cell_type": "code",
   "execution_count": 4,
   "metadata": {
    "scrolled": true
   },
   "outputs": [
    {
     "data": {
      "application/javascript": [
       "new Promise(function(resolve, reject) {\n",
       "\tvar script = document.createElement(\"script\");\n",
       "\tscript.onload = resolve;\n",
       "\tscript.onerror = reject;\n",
       "\tscript.src = \"https://raw.github.com/marijnh/CodeMirror/master/mode/fortran/fortran.js\";\n",
       "\tdocument.head.appendChild(script);\n",
       "}).then(() => {\n",
       "IPython.config.cell_magic_highlight['magic_fortran'] = {'reg':[/^%%fortran/]};\n",
       "});"
      ]
     },
     "metadata": {},
     "output_type": "display_data"
    }
   ],
   "source": [
    "%load_ext fortranmagic"
   ]
  },
  {
   "cell_type": "code",
   "execution_count": 5,
   "metadata": {},
   "outputs": [],
   "source": [
    "%%fortran\n",
    "subroutine compute_fortran(x, y, z)\n",
    "    real, intent(in) :: x(:), y(:)\n",
    "    real, intent(out) :: z(size(x, 1))\n",
    "\n",
    "    z = sin(x + y)\n",
    "\n",
    "end subroutine compute_fortran"
   ]
  },
  {
   "cell_type": "code",
   "execution_count": 6,
   "metadata": {},
   "outputs": [
    {
     "data": {
      "text/plain": [
       "array([-0.9589243,  0.6569866,  0.4121185], dtype=float32)"
      ]
     },
     "execution_count": 6,
     "metadata": {},
     "output_type": "execute_result"
    }
   ],
   "source": [
    "compute_fortran([1, 2, 3], [4, 5, 6])"
   ]
  },
  {
   "cell_type": "code",
   "execution_count": null,
   "metadata": {},
   "outputs": [],
   "source": [
    "!sudo -H pip3 install -U watermark"
   ]
  },
  {
   "cell_type": "code",
   "execution_count": null,
   "metadata": {},
   "outputs": [],
   "source": [
    "%load_ext watermark"
   ]
  },
  {
   "cell_type": "code",
   "execution_count": null,
   "metadata": {},
   "outputs": [],
   "source": [
    "%watermark"
   ]
  },
  {
   "cell_type": "code",
   "execution_count": null,
   "metadata": {},
   "outputs": [],
   "source": [
    "%watermark -t -n -u -z"
   ]
  },
  {
   "cell_type": "code",
   "execution_count": null,
   "metadata": {},
   "outputs": [],
   "source": [
    "%watermark -v -m -p numpy,matplotlib,scipy -g"
   ]
  },
  {
   "cell_type": "code",
   "execution_count": null,
   "metadata": {},
   "outputs": [],
   "source": [
    "%watermark?"
   ]
  },
  {
   "cell_type": "markdown",
   "metadata": {},
   "source": [
    "O comando acima retorna a saída:\n",
    "\n",
    "```\n",
    " %watermark [-a AUTHOR] [-d] [-n] [-t] [-i] [-z] [-u] [-c CUSTOM_TIME]\n",
    "                 [-v] [-p PACKAGES] [-h] [-m] [-g] [-r] [-w] [-iv]\n",
    "\n",
    "IPython magic function to print date/time stamps\n",
    "and various system information.\n",
    "\n",
    "optional arguments:\n",
    "  -a AUTHOR, --author AUTHOR\n",
    "                        prints author name\n",
    "  -d, --date            prints current date as YYYY-mm-dd\n",
    "  -n, --datename        prints date with abbrv. day and month names\n",
    "  -t, --time            prints current time as HH-MM-SS\n",
    "  -i, --iso8601         prints the combined date and time including the time\n",
    "                        zone in the ISO 8601 standard with UTC offset\n",
    "  -z, --timezone        appends the local time zone\n",
    "  -u, --updated         appends a string \"Last updated: \"\n",
    "  -c CUSTOM_TIME, --custom_time CUSTOM_TIME\n",
    "                        prints a valid strftime() string\n",
    "  -v, --python          prints Python and IPython version\n",
    "  -p PACKAGES, --packages PACKAGES\n",
    "                        prints versions of specified Python modules and\n",
    "                        packages\n",
    "  -h, --hostname        prints the host name\n",
    "  -m, --machine         prints system and machine info\n",
    "  -g, --githash         prints current Git commit hash\n",
    "  -r, --gitrepo         prints current Git remote address\n",
    "  -w, --watermark       prints the current version of watermark\n",
    "  -iv, --iversions      prints the name/version of all imported modules\n",
    "File:      /usr/local/lib/python3.5/dist-packages/watermark/watermark.py\n",
    "```"
   ]
  },
  {
   "cell_type": "code",
   "execution_count": null,
   "metadata": {},
   "outputs": [],
   "source": [
    "x,y = np.arange(10), np.random.normal(size=10)\n",
    "%R print(lm(rnorm(10)~rnorm(10)))"
   ]
  },
  {
   "cell_type": "markdown",
   "metadata": {},
   "source": [
    "Exemplo de uso do R"
   ]
  },
  {
   "cell_type": "code",
   "execution_count": null,
   "metadata": {},
   "outputs": [],
   "source": [
    "%%R -i x,y -o XYcoef\n",
    "lm.fit <- lm(y~x)\n",
    "par(mfrow=c(2,2))\n",
    "print(summary(lm.fit))\n",
    "plot(lm.fit)\n",
    "XYcoef <- coef(lm.fit)"
   ]
  },
  {
   "cell_type": "code",
   "execution_count": null,
   "metadata": {},
   "outputs": [],
   "source": [
    "XYcoef"
   ]
  },
  {
   "cell_type": "markdown",
   "metadata": {},
   "source": [
    "### LaTeX\n",
    "\n",
    "Além do suporte MathJax, você pode declarar uma célula LaTeX usando o comando magic `%latex`:\n"
   ]
  },
  {
   "cell_type": "code",
   "execution_count": null,
   "metadata": {
    "ExecuteTime": {
     "end_time": "2019-01-25T11:01:35.675049Z",
     "start_time": "2019-01-25T11:01:35.663772Z"
    }
   },
   "outputs": [],
   "source": [
    "%%latex\n",
    "\\begin{align}\n",
    "\\nabla \\times \\vec{\\mathbf{B}} -\\, \\frac1c\\, \\frac{\\partial\\vec{\\mathbf{E}}}{\\partial t} & = \\frac{4\\pi}{c}\\vec{\\mathbf{j}} \\\\\n",
    "\\nabla \\cdot \\vec{\\mathbf{E}} & = 4 \\pi \\rho \\\\\n",
    "\\nabla \\times \\vec{\\mathbf{E}}\\, +\\, \\frac1c\\, \\frac{\\partial\\vec{\\mathbf{B}}}{\\partial t} & = \\vec{\\mathbf{0}} \\\\\n",
    "\\nabla \\cdot \\vec{\\mathbf{B}} & = 0\n",
    "\\end{align}"
   ]
  },
  {
   "cell_type": "markdown",
   "metadata": {},
   "source": [
    "### A biblioteca matplotlib2tikz\n",
    "\n",
    "A biblioteca [matplotlib2tikz](https://github.com/nschloe/matplotlib2tikz) do Python, é uma ferramenta a qual irá converter as figuras feitas pela biblioteca [matplotlib](#http://matplotlib.org/) em figura PGFPlots (TikZ).\n",
    "\n",
    "\n",
    "This is matplotlib2tikz, a Python tool for converting matplotlib figures into [PGFPlots](#https://www.ctan.org/pkg/pgfplots) ([TikZ](#https://www.ctan.org/pkg/pgf)).\n",
    "\n",
    "Para instalar a biblioteca faça o seguinte:"
   ]
  },
  {
   "cell_type": "code",
   "execution_count": null,
   "metadata": {
    "ExecuteTime": {
     "end_time": "2019-03-06T19:07:55.761338Z",
     "start_time": "2019-03-06T19:07:52.751603Z"
    }
   },
   "outputs": [],
   "source": [
    "!sudo -H pip3 install --upgrade matplotlib2tikz"
   ]
  },
  {
   "cell_type": "code",
   "execution_count": null,
   "metadata": {},
   "outputs": [],
   "source": [
    "%matplotlib inline"
   ]
  },
  {
   "cell_type": "code",
   "execution_count": null,
   "metadata": {
    "ExecuteTime": {
     "end_time": "2019-03-06T19:08:00.066132Z",
     "start_time": "2019-03-06T19:07:59.230872Z"
    }
   },
   "outputs": [],
   "source": [
    "#Agora vamos testar com o seguinte código\n",
    "from matplotlib import pyplot as plt\n",
    "from matplotlib import style\n",
    "import numpy as np\n",
    "fig = plt.figure()\n",
    "style.use('ggplot')\n",
    "t = np.arange(0.0, 2.0, 0.1)\n",
    "s = np.sin(2*np.pi*t)\n",
    "s2 = np.cos(2*np.pi*t)\n",
    "plt.plot(t, s, 'o-', lw=4.1)\n",
    "plt.plot(t, s2, 'o-', lw=4.1)\n",
    "plt.xlabel('time(s)')\n",
    "plt.ylabel('Voltage (mV)')\n",
    "plt.title('Simple plot $\\\\frac{\\\\alpha}{2}$')\n",
    "plt.grid(True)\n",
    "\n",
    "from matplotlib2tikz import save as tikz_save\n",
    "tikz_save('test.pgf')\n",
    "plt.show()"
   ]
  },
  {
   "cell_type": "code",
   "execution_count": null,
   "metadata": {},
   "outputs": [],
   "source": [
    "!cat test.pgf"
   ]
  },
  {
   "cell_type": "markdown",
   "metadata": {},
   "source": [
    "##### Uso\n",
    "\n",
    "Gere seu gráfico com a matplotlib como sempre. Agora ao invez de `pyplot.show()`, deve-se chamar a `matplotlib2tikz` \n",
    "da seguinte forma:\n",
    "```python\n",
    "tikz_save('meu_tikz.pgf')\n",
    "```\n",
    "para a criar um arquivo TikZ com o nome de \"meu_tikz.pgf\". Para isso carregue a biblioteca  com:\n",
    "```python\n",
    "from matplotlib2tikz import save as tikz_save\n",
    "```\n",
    "\n",
    "#### Opcional\n",
    "\n",
    "Os scripts aceitam várias opções, por exemplo `height`, `width`, `encoding`, e algumas outras. Chame elas da seguinte forma:\n",
    "```python\n",
    "tikz_save('meu_tikz.pgf', figureheight='4cm', figurewidth='6cm')\n",
    "```\n",
    "\n",
    "Observe que altura e largura devem ser definidas grandes o suficiente; Configurá-lo muito baixo pode resultar em uma falha de compilação do LaTeX ao longo das linhas de dimensões muito grande ou um `Arithmetic Overflow`; Consulte informações sobre esses erros no manual PGFPlots. Para especificar a dimensão do gráfico a partir do documento \\LaTeX, tente\n",
    "\n",
    "```python\n",
    "    tikz_save(\n",
    "        'meu_tikz.pgf',\n",
    "        figureheight = '\\\\figureheight',\n",
    "        figurewidth = '\\\\figurewidth'\n",
    "        )\n",
    "```\n",
    "\n",
    "e no código fonte LaTeX escreva\n",
    "\n",
    "```latex\n",
    "    \\newlength\\figureheight\n",
    "    \\newlength\\figurewidth\n",
    "    \\setlength\\figureheight{4cm}\n",
    "    \\setlength\\figurewidth{6cm}\n",
    "    \\input{mytikz.tex}\n",
    "```\n",
    "Adicione o conteúdo do arquivo \"meu_tikz.pgf\" em seu código-fonte LaTeX; uma maneira conveniente de fazê-lo é através de \\input{/path/to/meu_tikz.pgf}. Também certifique-se de que no cabeçalho do documento os pacotes para PGFPlots e suporte a Unicode adequada e estão incluídos:\n",
    "\n",
    "```latex\n",
    "    \\usepackage[utf8]{inputenc}\n",
    "    \\usepackage{pgfplots}\n",
    "```\n",
    "Adicionalmente, com o LuaLaTeX\n",
    "\n",
    "```latex\n",
    "    \\usepackage{fontspec}\n",
    "```\n",
    "\n",
    "será necessário para compor os caracteres Unicode. Opcionalmente, para usar os recursos PGFPlots mais recentes,\n",
    "\n",
    "```latex\n",
    "    \\pgfplotsset{compat=newest}\n",
    "```"
   ]
  },
  {
   "cell_type": "markdown",
   "metadata": {},
   "source": [
    "## Javscript\n",
    "\n",
    "O Jupyter também permite que os objetos declarem uma representação JavaScript. No início, isso pode parecer estranho como saída é inerentemente visual e JavaScript é uma linguagem de programação. No entanto, isso abre a porta para a saída rica que aproveita toda a potência do JavaScript e bibliotecas associadas, como D3 para a saída.\n"
   ]
  },
  {
   "cell_type": "code",
   "execution_count": null,
   "metadata": {},
   "outputs": [],
   "source": [
    "%%javascript\n",
    "\n",
    "alert(\"Hello world!\");"
   ]
  },
  {
   "cell_type": "markdown",
   "metadata": {},
   "source": [
    "## Exportando e Convertendo Notebooks\n",
    "\n",
    "No Jupyter, é possível converter um arquivo de documentos do notebook `.ipynb` em vários formatos estáticos através da ferramenta `nbconvert`. Atualmente, nbconvert é uma ferramenta de linha de comando, executado como um script usando Jupyter."
   ]
  },
  {
   "cell_type": "code",
   "execution_count": null,
   "metadata": {},
   "outputs": [],
   "source": [
    "!jupyter nbconvert --to html Aula_01_IPython_e_Jupyter.ipynb"
   ]
  },
  {
   "cell_type": "markdown",
   "metadata": {},
   "source": [
    "Atualmente, `nbconvert` suporta HTML (padrão), LaTeX, Markdown, reStructuredText, Python e Slides HTML5 para apresentações. Alguns tipos podem ser pós-processados, como LaTeX para PDF (isso requer [Pandoc](http://johnmacfarlane.net/pandoc/) para ser instalado, no entanto)."
   ]
  },
  {
   "cell_type": "code",
   "execution_count": null,
   "metadata": {},
   "outputs": [],
   "source": [
    "!jupyter nbconvert --to pdf Aula_01_IPython_e_Jupyter.ipynb"
   ]
  },
  {
   "cell_type": "code",
   "execution_count": null,
   "metadata": {},
   "outputs": [],
   "source": [
    "!evince Aula_01_IPython_e_Jupyter.pdf"
   ]
  },
  {
   "cell_type": "markdown",
   "metadata": {},
   "source": [
    "Um serviço on-line muito útil é o [IPython Notebook Viewer](http://nbviewer.ipython.org) que permite que você exiba seu notebook como uma página HTML estática, que é útil para compartilhar com outras pessoas:"
   ]
  },
  {
   "cell_type": "code",
   "execution_count": null,
   "metadata": {},
   "outputs": [],
   "source": [
    "%%html\n",
    "<iframe src=http://nbviewer.ipython.org/2352771 width=700 height=300></iframe>"
   ]
  },
  {
   "cell_type": "markdown",
   "metadata": {},
   "source": [
    "Além disso, o GitHub suporta [renderização de Notebooks Jupyter](https://github.com/fonnesbeck/Bios8366/blob/master/notebooks/Section1_2-Programming-with-Python.ipynb) armazenado em seus repositórios."
   ]
  },
  {
   "cell_type": "markdown",
   "metadata": {},
   "source": [
    "### Coverter código python em notebook\n",
    "\n",
    "Pode-se instalar o `notedown` para converter de notebook para markdown e vice-vers:\n",
    "\n",
    "```bash\n",
    "> pip3 show notedown\n",
    "Name: notedown\n",
    "Version: 1.5.1\n",
    "Summary: Convert markdown to IPython notebook.\n",
    "Home-page: http://github.com/aaren/notedown\n",
    "Author: Aaron O'Leary\n",
    "Author-email: dev@aaren.me\n",
    "License: BSD 2-Clause\n",
    "Location: /usr/local/lib/python3.6/dist-packages\n",
    "Requires: nbformat, six, pandoc-attributes, nbconvert\n",
    "Required-by: \n",
    "```\n",
    "\n",
    "Entretanto o pacote `nbconvert` é mais geral.\n",
    "\n",
    "```bash\n",
    "> pip3 show nbconvert\n",
    "Name: nbconvert\n",
    "Version: 5.4.1\n",
    "Summary: Converting Jupyter Notebooks\n",
    "Home-page: https://jupyter.org\n",
    "Author: Jupyter Development Team\n",
    "Author-email: jupyter@googlegroups.com\n",
    "License: BSD\n",
    "Location: /usr/local/lib/python3.6/dist-packages\n",
    "Requires: traitlets, mistune, nbformat, bleach, pandocfilters, entrypoints, pygments, testpath, jinja2, defusedxml, jupyter-core\n",
    "Required-by: thermohw, notedown, notebook, nbconvert-utils, knitty, jupyter, jupyter-server, jupyter-latex-envs, jupyter-contrib-nbextensions\n",
    "```\n",
    "\n",
    "#### Exemplo de uso do nbconvert\n",
    "\n",
    "A forma mais seimples de usar o nbconvert é\n",
    "\n",
    "```bash\n",
    "> jupyter nbconvert mynotebook.ipynb\n",
    "```\n",
    "\n",
    "a qual irá converter mynotebook.ipynb para o formato padrão (provavelmente o HTML).\n",
    "\n",
    "Pode-se especificar o formato de exportação com a opção `--to`. Essa opção inclui os seguintes formatos:\n",
    "['asciidoc', 'custom', 'encoded_python', 'html', 'html_ch', 'html_embed', 'html_toc', 'html_with_lenvs', 'html_with_toclenvs', 'latex', 'latex_with_lenvs', 'markdown', 'notebook', 'pdf', 'python', 'rst', 'script', 'selectLanguage', 'slides', 'slides_with_lenvs']\n",
    "\n",
    "```bash\n",
    "> jupyter nbconvert --to latex mynotebook.ipynb\n",
    "```\n",
    "\n",
    "Ambos os formatos HTML e LaTeX suportam multiplas saídas via templates previamente definidos. O LaTeX inclui os seguintes templates: 'base', 'article' e 'report'. Por sua vez, o HTML inclui os seguintes templates: 'basic' e 'full'. Pode-se também especificar um template para o formato usado.\n",
    "\n",
    "\n",
    "```bash\n",
    "> jupyter nbconvert --to html --template basic mynotebook.ipynb\n",
    "```\n",
    "\n",
    "Pode-se encaminhar a saída padrão via um pipe para a tela `stdout`, em vez de um arquivo \n",
    "\n",
    "```bash\n",
    "> jupyter nbconvert mynotebook.ipynb --stdout\n",
    "```\n",
    "\n",
    "O formato PDF é gerado via o LaTeX,\n",
    "\n",
    "```bash\n",
    "> jupyter nbconvert mynotebook.ipynb --to pdf\n",
    "```\n",
    "\n",
    "Pode-se obter (e ser um servidor) para uma apresentação de slides via Reveal.js\n",
    "\n",
    "```bash\n",
    "> jupyter nbconvert myslides.ipynb --to slides --post serve\n",
    "```\n",
    "\n",
    "Multiplos notebooks podem ser obtidos via linha de comando de diferentes modos:\n",
    "\n",
    "```bash\n",
    "> jupyter nbconvert notebook*.ipynb\n",
    "> jupyter nbconvert notebook1.ipynb notebook2.ipynb\n",
    "```\n",
    "\n",
    "ou pode-se especificar uma lista de notebooks em um arquivo de configuração com o seguinte conteúdo:\n",
    "\n",
    "```python\n",
    "    c.NbConvertApp.notebooks = [\"my_notebook.ipynb\"]\n",
    "```\n",
    "\n",
    "Para converter faz-se \n",
    "\n",
    "```bash\n",
    "> jupyter nbconvert --config mycfg.py\n",
    "```\n",
    "\n",
    "\n",
    "### Usando uma APi dentro do notebook\n",
    "\n",
    "\n",
    "Há uma API IPython que possui funções para ler e escrever arquivos Notebooks. Você deve usar esta API e não criar JSON diretamente. Por exemplo, o seguinte fragmento de código converte um script test.py em um notebook test.ipynb.\n",
    "\n",
    "```python3\n",
    "import IPython.nbformat.current as nbf\n",
    "nb = nbf.read(open('test.py', 'r'), 'py')\n",
    "nbf.write(nb, open('test.ipynb', 'w'), 'ipynb')\n",
    "```\n",
    "\n",
    "veja maiores detalhes em [Converting to (not from) ipython Notebook format](https://stackoverflow.com/questions/23292242/converting-to-not-from-ipython-notebook-format)\n",
    "\n",
    "Aqui temos um código completa para fazer isso:"
   ]
  },
  {
   "cell_type": "code",
   "execution_count": null,
   "metadata": {},
   "outputs": [],
   "source": [
    "import nbformat\n",
    "from nbformat.v4 import new_code_cell,new_notebook\n",
    "\n",
    "import codecs\n",
    "\n",
    "sourceFile = \"codigo-fonte.py\"       # <<<< Código a ser convertido em ipynb\n",
    "destFile   = \"codigo-fonte.ipynb\"    # <<<< Código convertido em ipynb\n",
    "\n",
    "\n",
    "def parsePy(fn):\n",
    "    \"\"\" Generator that parses a .py file exported from a IPython notebook and\n",
    "extracts code cells (whatever is between occurrences of \"In[*]:\").\n",
    "Returns a string containing one or more lines\n",
    "\"\"\"\n",
    "    with open(fn,\"r\") as f:\n",
    "        lines = []\n",
    "        for l in f:\n",
    "            l1 = l.strip()\n",
    "            if l1.startswith('# In[') and l1.endswith(']:') and lines:\n",
    "                yield \"\".join(lines)\n",
    "                lines = []\n",
    "                continue\n",
    "            lines.append(l)\n",
    "        if lines:\n",
    "            yield \"\".join(lines)\n",
    "\n",
    "# Create the code cells by parsing the file in input\n",
    "cells = []\n",
    "for c in parsePy(sourceFile):\n",
    "    cells.append(new_code_cell(source=c))\n",
    "\n",
    "# This creates a V4 Notebook with the code cells extracted above\n",
    "nb0 = new_notebook(cells=cells,\n",
    "                   metadata={'language': 'python',})\n",
    "\n",
    "with codecs.open(destFile, encoding='utf-8', mode='w') as f:\n",
    "    nbformat.write(nb0, f, 4)"
   ]
  },
  {
   "cell_type": "markdown",
   "metadata": {},
   "source": [
    "O código abaixo irá converter todos os arquivos .py em notebooks. Escolha o diretório e excute o código. "
   ]
  },
  {
   "cell_type": "code",
   "execution_count": null,
   "metadata": {},
   "outputs": [],
   "source": [
    "import nbformat\n",
    "from nbformat.v4 import new_code_cell,new_notebook\n",
    "import codecs\n",
    "import os\n",
    "\n",
    "\n",
    "def parsePy(fn):\n",
    "    \"\"\" Generator that parses a .py file exported from a IPython notebook and\n",
    "extracts code cells (whatever is between occurrences of \"In[*]:\").\n",
    "Returns a string containing one or more lines\n",
    "\"\"\"\n",
    "    with open(fn,\"r\") as f:\n",
    "        lines = []\n",
    "        for l in f:\n",
    "            l1 = l.strip()\n",
    "            if l1.startswith('# In[') and l1.endswith(']:') and lines:\n",
    "                yield \"\".join(lines)\n",
    "                lines = []\n",
    "                continue\n",
    "            lines.append(l)\n",
    "        if lines:\n",
    "            yield \"\".join(lines)\n",
    "            \n",
    "def genNb(sourceFile,destFile):\n",
    "    # Create the code cells by parsing the file in input\n",
    "    cells = []\n",
    "    for c in parsePy(sourceFile):\n",
    "        cells.append(new_code_cell(source=c))\n",
    "\n",
    "    # This creates a V4 Notebook with the code cells extracted above\n",
    "    nb0 = new_notebook(cells=cells,\n",
    "                   metadata={'language': 'python',})\n",
    "\n",
    "    with codecs.open(destFile, encoding='utf-8', mode='w') as f:\n",
    "        nbformat.write(nb0, f, 4)\n",
    "\n",
    "\n",
    "dir='.'  # quando vazio significa diretório local\n",
    "\n",
    "# Aqui encontramos todos os arquivo python no diretório \n",
    "arq_python = [x for x in os.listdir(dir) if x.endswith(\".py\")]\n",
    "\n",
    "for x in arq_python :\n",
    "    sourcefile=x\n",
    "    destfile=x.split('.')[0]+'.ipynb'\n",
    "    print(\"Source= \", sourcefile, \" Destino = \", destfile)\n",
    "    genNb(sourcefile,destfile)\n",
    "\n",
    "# Para verificar o resultado\n",
    "arq_conv = [x for x in os.listdir(dir) if x.endswith(\".py\") or x.endswith(\".ipynb\")]\n",
    "print(arq_conv)"
   ]
  },
  {
   "cell_type": "markdown",
   "metadata": {},
   "source": [
    "# Células Markdown"
   ]
  },
  {
   "cell_type": "markdown",
   "metadata": {},
   "source": [
    "O texto pode ser adicionado aos notebooks IPython usando células Markdown. Markdown é uma linguagem de marcação popular que é um superconjunto de HTML. Sua especificação pode ser encontrada aqui:\n",
    "\n",
    "<http://daringfireball.net/projects/markdown/>"
   ]
  },
  {
   "cell_type": "markdown",
   "metadata": {},
   "source": [
    "## Noções básicas do Markdown"
   ]
  },
  {
   "cell_type": "markdown",
   "metadata": {},
   "source": [
    "Para adicionar um texto em itálico usa-se `*itálico*` como em *itálico* já para adicionar um em negrito usa-se `**negrito**` como em **negrito**."
   ]
  },
  {
   "cell_type": "markdown",
   "metadata": {},
   "source": [
    "## Listas no Markdown\n",
    "\n",
    "Pode-se criar facilmente listas enumeradas ou enumeradas aninhadas:\n",
    "\n",
    "\n",
    "* Item um\n",
    "    - Sublista tópico 1 do item um\n",
    "        - subitem aninhado do tópico 1\n",
    "    - Sublista tópico 2  do item um\n",
    "        - primeiro subitem aninhado do tópico 2\n",
    "        - segundo subitem aninhado do tópico 2\n",
    "* Item dois\n",
    "  - Sublista do item 2\n",
    "* Item três\n",
    "  - Sublista do item 3\n",
    "\n",
    "Agora uma outra lista, mas agora numerada:\n",
    "\n",
    "1. Esse é o primeiro item  da lista\n",
    "    1. Sublista do primeiro item \n",
    "    2. Sublista do primeiro item\n",
    "2. Essse é o segudo item da lista\n",
    "3. Essse é o terceiro item da lista\n",
    "\n",
    "## Listas de tarefas\n",
    "\n",
    "Para criar uma lista de tarefaz, inicie a lista com `[]`. Mareque a tarefa completada com  `[x]`, conforme o exemplo a seguir\n",
    "\n",
    "- [x] Terminei minhas alterações nesse arquivo \n",
    "- [ ] Levar minhas alterações para o GitHub\n",
    "- [ ] Trabalhar no novo texto"
   ]
  },
  {
   "cell_type": "markdown",
   "metadata": {},
   "source": [
    "Pode-se adicionar linhas horizontais:\n",
    "\n",
    "---"
   ]
  },
  {
   "cell_type": "markdown",
   "metadata": {},
   "source": [
    "Aqui está o bloco de citação:\n",
    "\n",
    "> Bonito é melhor do que feio.\n",
    "\n",
    "> Explicito é melhor do que implícito.\n",
    "\n",
    "> Simples é melhor do que complexo.\n",
    "\n",
    "> Complexo é melhor do que complicado.\n",
    "\n",
    "> Liso é melhor do que aninhado.\n",
    "\n",
    "> Esparso é melhor do que denso.\n",
    "\n",
    "> A legibilidade conta.\n",
    "\n",
    "> Casos especiais não são especiais o suficiente para quebrar as regras.\n",
    "\n",
    "> Embora a praticidade supera a pureza.\n",
    "\n",
    "> Erros nunca devem passar em silêncio.\n",
    "\n",
    "> A menos que seja explicitamente silenciado.\n",
    "\n",
    "> Em face da ambiguidade, recusar a tentação de adivinhar.\n",
    "\n",
    "> Deve haver uma - e preferivelmente somente uma - maneira óbvia de fazê-lo.\n",
    "\n",
    "> Embora essa maneira não pode ser óbvia no início a menos que você seja holandês.\n",
    "\n",
    "> Agora é melhor do que nunca.\n",
    "\n",
    "> Embora nunca seja melhor do que *agora*.\n",
    "\n",
    "> Se a implementação é difícil de explicar, então é uma má idéia.\n",
    "\n",
    "> Se a implementação é fácil de explicar, então pode ser uma boa idéia.\n",
    "\n",
    "> Namespaces são uma boa idéia- vamos fazer mais uso deles!"
   ]
  },
  {
   "cell_type": "markdown",
   "metadata": {},
   "source": [
    "A seguir mostramso uma maneira simples de criar links externos: \n",
    "\n",
    "[O site do Jupyter/IPython](http://jupyter.org)"
   ]
  },
  {
   "cell_type": "markdown",
   "metadata": {},
   "source": [
    "Se desejar, você pode adicionar títulos usando a sintaxe do Markdown:\n",
    "\n",
    "# Cabeçalho 1\n",
    "# Cabeçalho 2\n",
    "## Cabeçalho 2.1\n",
    "## Cabeçalho 2.2\n",
    "### Cabeçalho 3"
   ]
  },
  {
   "cell_type": "markdown",
   "metadata": {},
   "source": [
    "**Na maior parte do tempo deve-se usar as células de cabeçalho do notebook para organizar o conteúdo do seu notebook e manter seu documento estruturado**, pois fornecem estrutura significativa que podem ser interpretada por outras ferramentas, não apenas grandes fontes em negrito."
   ]
  },
  {
   "cell_type": "markdown",
   "metadata": {},
   "source": [
    "Pode-se incorporar código destinado à ilustração em vez de execução em Python:\n",
    "```python\n",
    "    def f(x):\n",
    "        \"\"\"a docstring\"\"\"\n",
    "        return x**2\n",
    "```\n",
    "ou em outras linguagens:\n",
    "```C++\n",
    "    if (i=0; i<n; i++) {\n",
    "      printf(\"hello %d\\n\", i);\n",
    "      x += 4;\n",
    "    }\n",
    "```"
   ]
  },
  {
   "cell_type": "markdown",
   "metadata": {},
   "source": [
    "## Equações LaTeX"
   ]
  },
  {
   "cell_type": "markdown",
   "metadata": {},
   "source": [
    "Para escrever equações matemáticas em uma célula do markdown, usa-se o mesma sintaxe do LaTeX, na qual para escrever uma equação *\"inline\"* no meio do texto deve-se usar o par de símbolos <html>&#36;</html>equação<html>&#36;</html>. Para escrever uma equação que seja mostrada sozinha em uma única linha, deve-se usar em uma linhas separadas o par de símbolos <html>&#36;&#36;</html>equação<html>&#36;&#36;</html>.\n",
    "\n",
    "Considere por exemplo a seguinte equação no meio do texto $e^{i\\pi} + 1 = 0$, e q seguinte equação em uma linha sozinha:\n",
    "\n",
    "\\begin{equation}\n",
    "e^x=\\sum_{i=0}^\\infty \\frac{1}{i!}x^i\n",
    "\\end{equation}\n",
    "\n",
    "\n",
    "\n",
    "### Numerando equações LaTeX no notebook\n",
    "\n",
    "Para maiores detalhes colsulte o [link](https://github.com/ipython/ipython/issues/4113).\n",
    "\n",
    "Pode-se ativar a numeração executando a célula abaixo com o seguinte contéudo"
   ]
  },
  {
   "cell_type": "code",
   "execution_count": null,
   "metadata": {},
   "outputs": [],
   "source": [
    "%%javascript MathJax.Hub.Config({ TeX: { equationNumbers: { autoNumber: \n",
    "  \"AMS\" } } });"
   ]
  },
  {
   "cell_type": "markdown",
   "metadata": {},
   "source": [
    "Há também uma extensão para a [numeração de uma equação](https://github.com/ipython-contrib/jupyter_contrib_nbextensions)\n",
    "\n",
    "Para instalar a extensão faça o seguinte:\n",
    "\n",
    "```bash\n",
    "sudo -H pip3 install jupyter_contrib_nbextensions\n",
    "jupyter contrib nbextension install --user\n",
    "jupyter nbextension enable equation-numbering/main\n",
    "```"
   ]
  },
  {
   "cell_type": "markdown",
   "metadata": {},
   "source": [
    "Usando o MathJax, pode-se incluir expressões matemáticas no seu texto, usando a nomenclatura LaTeX, conforme exemplo a seguir:\n",
    "$e^{i\\pi} + 1 = 0$  e mostrado como:\n",
    "\n",
    "$$e^x=\\sum_{i=0}^\\infty \\frac{1}{i!}x^i$$"
   ]
  },
  {
   "cell_type": "markdown",
   "metadata": {},
   "source": [
    "## Tabelas no Markdown\n",
    "\n",
    "Há uma interface web a qual gera uma tabela Markdown para você de forma simples: <http://www.tablesgenerator.com/markdown_tables> \n",
    "\n",
    "Porque Markdown é um superconjunto de HTML você pode até mesmo adicionar coisas como tabelas HTML:\n",
    "\n",
    "<table>\n",
    "<tr>\n",
    "<th>Cabeçalho 1</th>\n",
    "<th>Cabeçalho 2</th>\n",
    "</tr>\n",
    "<tr>\n",
    "<td>linha 1, celula 1</td>\n",
    "<td>linha 1, celula 2</td>\n",
    "</tr>\n",
    "<tr>\n",
    "<td>linha 2, celula 1</td>\n",
    "<td>linha 2, celula 2</td>\n",
    "</tr>\n",
    "</table>\n",
    "\n",
    "Uma outra forma de fazer tabelas é usando o seguinte código \n",
    "\n",
    "```markdown\n",
    "| H1-C1 | H2-C2 | H3-C3 | H4-C4 | H5-C5 |\n",
    "|-------|-------|-------|-------|-------|\n",
    "| L2-C1 | L2-C2 | L2-C3 | L2-C4 | L2-C5 |\n",
    "| L3-C1 | L3-C2 | L3-C3 | L3-C4 | L3-C5 |\n",
    "| L4-C1 | L4-C2 | L4-C3 | L4-C4 | L4-C5 |\n",
    "```\n",
    "\n",
    "obtemos como resultado a seguinte tabela:\n",
    "\n",
    "\n",
    "| H1-C1 | H2-C2 | H3-C3 | H4-C4 | H5-C5 |\n",
    "|-------|-------|-------|-------|-------|\n",
    "| L2-C1 | L2-C2 | L2-C3 | L2-C4 | L2-C5 |\n",
    "| L3-C1 | L3-C2 | L3-C3 | L3-C4 | L3-C5 |\n",
    "| L4-C1 | L4-C2 | L4-C3 | L4-C4 | L4-C5 |\n",
    "\n",
    "\n",
    "Quanto ao alinhamento das coulnas, eles podem ser controlados usando o seguinte código\n",
    "\n",
    "```markdown\n",
    "| Esquerda     | Centralizado   | Direita       |\n",
    "| :---         |     :---:      |          ---: |\n",
    "| git status   | git status     | git status    |\n",
    "| git diff     | git diff       | git diff      |\n",
    "```\n",
    " o qual resulta na seguinte tabela\n",
    "\n",
    "| Esquerda     | Centralizado   | Direita       |\n",
    "| :---         |     :---:      |          ---: |\n",
    "| git status   | git status     | git status    |\n",
    "| git diff     | git diff       | git diff      |\n"
   ]
  },
  {
   "cell_type": "markdown",
   "metadata": {},
   "source": [
    "## Incluindo arquivos locais: imagens, vídeos, etc.\n",
    "\n",
    "Se você tiver arquivos locais no diretório do Notebook, você pode consultar e/ou inserir esses arquivos diretamente nas células do Markdown:\n",
    "\n",
    "    [subdiretorio/]<arquivo>\n",
    "\n",
    "Por exemplo, na pasta de Figs, temos o logotipo Python:\n",
    "\n",
    "    <img src=\"Figs/python_logo.svg\" />\n",
    "\n",
    "<img src=\"Figs/python_logo.svg\" />\n",
    "\n",
    "e um vídeo com uma tag de vídeo HTML5:\n",
    "\n",
    "    <video controls src=\"Figs/animation.m4v\" />\n",
    "\n",
    "<video controls src=\"Figs/animation.m4v\" />\n",
    "\n",
    "Esses não incorporam os dados no arquivo do notebook e exigem que os arquivos existam quando você estiver visualizando o notebook."
   ]
  },
  {
   "cell_type": "markdown",
   "metadata": {},
   "source": [
    "Note que isso significa que o servidor de notebooks IPython também atua como um servidor de arquivos genérico para arquivos dentro da mesma árvore que seus notebooks. O acesso não é concedido fora da pasta do caderno de modo que você tenha controle estrito sobre quais arquivos são visíveis, mas por esse motivo é altamente recomendável que você não execute o servidor de notebook com um diretório de notebook em um nível alto em seu sistema de arquivos diretório).\n",
    "\n",
    "Quando você executa o notebook de maneira protegida por senha, o acesso a arquivos locais é restrito a usuários autenticados, a menos que as exibições somente leitura estejam ativas."
   ]
  },
  {
   "cell_type": "markdown",
   "metadata": {},
   "source": [
    "## Comentários no Markdown\n",
    "\n",
    "Em geral é sempre muito útil poder introduzir alguns comentários em um texto:\n",
    "\n",
    "<http://daringfireball.net/projects/markdown/syntax#link>\n",
    "\n",
    "```markdown\n",
    "[comment]: <> (This is a comment, it will not be included)\n",
    "[comment]: <> (in  the output file unless you use it in)\n",
    "[comment]: <> (a reference style link.)\n",
    "```\n",
    "\n",
    "Para aperfeiçoar a compatibilidade da platforma tamém, é possível usar # (o qual é uma taga para um hiperlink legitimo)  em vez de  <>:\n",
    "\n",
    "```markdown\n",
    "[//]: # (This may be the most platform independent comment)\n",
    "```"
   ]
  },
  {
   "cell_type": "code",
   "execution_count": null,
   "metadata": {},
   "outputs": [],
   "source": []
  }
 ],
 "metadata": {
  "anaconda-cloud": {},
  "finalized": {
   "timestamp": 1575381738290,
   "trusted": false
  },
  "kernelspec": {
   "display_name": "Python 3",
   "language": "python",
   "name": "python3"
  },
  "language_info": {
   "codemirror_mode": {
    "name": "ipython",
    "version": 3
   },
   "file_extension": ".py",
   "mimetype": "text/x-python",
   "name": "python",
   "nbconvert_exporter": "python",
   "pygments_lexer": "ipython3",
   "version": "3.6.9"
  },
  "latex_envs": {
   "LaTeX_envs_menu_present": true,
   "autoclose": false,
   "autocomplete": true,
   "bibliofile": "biblio.bib",
   "cite_by": "apalike",
   "current_citInitial": 1,
   "eqLabelWithNumbers": true,
   "eqNumInitial": 1,
   "hotkeys": {
    "equation": "Ctrl-E",
    "itemize": "Ctrl-I"
   },
   "labels_anchors": false,
   "latex_user_defs": false,
   "report_style_numbering": false,
   "user_envs_cfg": false
  },
  "nav_menu": {},
  "nbTranslate": {
   "displayLangs": [
    "pt",
    "en"
   ],
   "hotkey": "alt-t",
   "langInMainMenu": true,
   "sourceLang": "en",
   "targetLang": "pt",
   "useGoogleTranslate": true
  },
  "toc": {
   "base_numbering": 1,
   "nav_menu": {
    "height": "545.994px",
    "width": "626.193px"
   },
   "number_sections": false,
   "sideBar": false,
   "skip_h1_title": false,
   "title_cell": "Table of Contents",
   "title_sidebar": "Contents",
   "toc_cell": true,
   "toc_position": {
    "height": "467px",
    "left": "937px",
    "top": "135.7px",
    "width": "303.2px"
   },
   "toc_section_display": true,
   "toc_window_display": false
  },
  "varInspector": {
   "cols": {
    "lenName": 16,
    "lenType": 16,
    "lenVar": 40
   },
   "kernels_config": {
    "python": {
     "delete_cmd_postfix": "",
     "delete_cmd_prefix": "del ",
     "library": "var_list.py",
     "varRefreshCmd": "print(var_dic_list())"
    },
    "r": {
     "delete_cmd_postfix": ") ",
     "delete_cmd_prefix": "rm(",
     "library": "var_list.r",
     "varRefreshCmd": "cat(var_dic_list()) "
    }
   },
   "types_to_exclude": [
    "module",
    "function",
    "builtin_function_or_method",
    "instance",
    "_Feature"
   ],
   "window_display": false
  }
 },
 "nbformat": 4,
 "nbformat_minor": 4
}
