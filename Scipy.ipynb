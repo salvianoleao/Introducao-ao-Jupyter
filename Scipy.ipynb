{
 "cells": [
  {
   "cell_type": "markdown",
   "metadata": {},
   "source": [
    "<img src=\"Figs/Cab_IF_Red_01.png\" alt=\"drawing\" width=\"80%\"/>\n",
    "\n",
    "\n",
    "<!--\n",
    "\n",
    "<img href=\"Figs/Cab_IF_Red_01.png\" style=\"width: 80%;\" /> doesn't work\n",
    "\n",
    "![Logotipo do IF](../Figs/Cab_IF_Red_01.png){ width=50% }\n",
    "\n",
    "<h1> <span style=\"color:blue\">Curso de Python</span> </h1> \n",
    "-->\n",
    "\n",
    "<p style=\"margin-bottom:1cm;\"> </p>\n",
    "\n",
    "\n",
    "<center> <font size=\"6\" color=\"blue\">Curso de Python</font> </center>\n",
    "\n",
    "\n",
    "<font size=\"4\" color=\"blue\">**Prof. :** Salviano A. Leão -- Instituto de Física - UFG-GO</font>\n",
    "\n"
   ]
  },
  {
   "cell_type": "markdown",
   "metadata": {},
   "source": [
    "# Métodos Numéricos Usando o Python (scipy)\n",
    "\n",
    "\n",
    "## Visão geral\n",
    "\n",
    "\n",
    "O núcleo da linguagem Python (incluindo as bibliotecas padrão) fornece funcionalidades o suficiente para realizar tarefas de pesquisa computacional. No entanto, existem bibliotecas Python dedicadas (de terceiros) que fornecem funcionalidade estendida as quais\n",
    "\n",
    "- fornecer ferramentas numéricas para tarefas freqüentes\n",
    "\n",
    "- são convenientes de usar\n",
    "\n",
    "- e são mais eficientes em termos de tempo de CPU e requisitos de memória do que usar a funcionalidade de código Python sozinho.\n",
    "\n",
    "Em especial, listamos três desses módulos:\n",
    "\n",
    "- O módulo `numpy` fornece um tipo de dados especializado para \"o crunching numérico\" de vetores e matrizes (este é o tipo `array` fornecido por `numpy` como introduzido em [15-numpy.ipynb](14-numpy.ipynb)), e ferramentas de álgebra linear.\n",
    "\n",
    "- O pacote `matplotlib` (também conhecido como `pylab`) fornece recursos para fazer gráficos e visualização (ver [16-Visualizacao-de-dados.ipynb](16-Visualizacao-de-dados.ipynb)) e o\n",
    "\n",
    "- pacote `scipy` (SCIentific PYthon) que fornece uma infinidade de algoritmos numéricos e que será introduzido neste texto.\n",
    "\n",
    "- Dedicamos um texto específico a solução de Equações Diferenciais Ordinárias (EDOs) o [EDOs.ipynb](EDOs.ipynb)\n",
    "\n",
    "Muitos dos algoritmos numéricos disponíveis através de `scipy` e `numpy` são fornecidos por bibliotecas compiladas estabelecidas que são muitas vezes escritas em Fortran ou C. Eles executarão, portanto, muito mais rápido que o código Python puro (que é interpretado). Como regra geral, esperamos que o código compilado seja duas ordens de grandeza mais rápido do que o código Python puro.\n",
    "\n",
    "Você pode usar a função de ajuda para cada método numérico para saber mais sobre a origem da implementação.\n",
    "\n",
    "\n",
    "## Scipy\n",
    "\n",
    "\n",
    "A biblioteca do [SciPy](https://scipy.org/) estende o suporte do Python e da NumPy fornecendo funções matemáticas avançadas, como diferenciação, integração, equações diferenciais, otimização, interpolação, funções estatísticas avançadas, solucionadores de equações e muito mais. A SciPy foi escrita em cima da estrutura de matriz da NumPy. Ela usa as matrizes fornecidas pela NumPy e as operações básicas sobre elas, e as estendeu-a para cobrir a maioria dos aspectos matemáticos que são regularmente exigidos pelos cientistas e engenheiros para suas aplicações.\n",
    "\n",
    "Consulte também o [SciPy Cookbook](http://scipy-cookbook.readthedocs.io/index.html)\n",
    "\n",
    "\n",
    "Antes de qualquer coisa vamos testar se a biblioteca está corretamente instalada e funcionando. Vamos realizar essa verificação, entretanto só faça isso se tiver tempo disponível, pois devido ao tamanho da biblioteca leva-se um bom tempo o teste a seguir. Portanto, se tiver tempo disponível para verificar ela faça: "
   ]
  },
  {
   "cell_type": "code",
   "execution_count": 1,
   "metadata": {
    "ExecuteTime": {
     "end_time": "2019-08-15T13:54:52.612149Z",
     "start_time": "2019-08-15T13:54:51.784625Z"
    }
   },
   "outputs": [],
   "source": [
    "%matplotlib inline"
   ]
  },
  {
   "cell_type": "code",
   "execution_count": 2,
   "metadata": {
    "ExecuteTime": {
     "end_time": "2019-08-15T13:55:58.836835Z",
     "start_time": "2019-08-15T13:54:53.918744Z"
    }
   },
   "outputs": [
    {
     "name": "stdout",
     "output_type": "stream",
     "text": [
      "============================= test session starts ==============================\n",
      "platform linux -- Python 3.6.8, pytest-4.4.1, py-1.8.0, pluggy-0.9.0\n",
      "rootdir: /home/salviano/Cursos/FisComp/Python/ipython/Cursos/Pos\n",
      "collected 17095 items / 1222 deselected / 15873 selected\n",
      "\n",
      "_lib/tests/test__gcutils.py ......                                       [  0%]\n",
      "_lib/tests/test__testutils.py ..                                         [  0%]\n",
      "_lib/tests/test__threadsafety.py ..                                      [  0%]\n",
      "_lib/tests/test__util.py ....                                            [  0%]\n",
      "_lib/tests/test__version.py ........                                     [  0%]\n",
      "_lib/tests/test_ccallback.py ....                                        [  0%]\n",
      "_lib/tests/test_import_cycles.py .                                       [  0%]\n",
      "_lib/tests/test_tmpdirs.py ...                                           [  0%]\n",
      "cluster/tests/test_hierarchy.py ........................................ [  0%]\n",
      ".................................................                        [  0%]\n",
      "cluster/tests/test_vq.py ......................                          [  0%]\n",
      "constants/tests/test_codata.py .......                                   [  0%]\n",
      "constants/tests/test_constants.py ...                                    [  0%]\n",
      "fftpack/tests/test_basic.py ..........x................................. [  1%]\n",
      "........................................................................ [  1%]\n",
      "........................................................................ [  2%]\n",
      "........................................................................ [  2%]\n",
      ".........................................                                [  2%]\n",
      "fftpack/tests/test_helper.py ....................                        [  2%]\n",
      "fftpack/tests/test_import.py .                                           [  2%]\n",
      "fftpack/tests/test_pseudo_diffs.py .............................         [  3%]\n",
      "fftpack/tests/test_real_transforms.py .................................. [  3%]\n",
      "........................................................................ [  3%]\n",
      "........................................................................ [  4%]\n",
      "..............................................                           [  4%]\n",
      "integrate/tests/test_banded_ode_solvers.py .                             [  4%]\n",
      "integrate/tests/test_bvp.py ...............                              [  4%]\n",
      "integrate/tests/test_integrate.py ...................................... [  4%]\n",
      ".........                                                                [  4%]\n",
      "integrate/tests/test_ivp.py .................                            [  5%]\n",
      "integrate/tests/test_odeint_jac.py ..                                    [  5%]\n",
      "integrate/tests/test_quadpack.py ................................        [  5%]\n",
      "integrate/tests/test_quadrature.py ..................                    [  5%]\n",
      "interpolate/tests/test_bsplines.py ................................F.... [  5%]\n",
      "..........x......................                                        [  5%]\n",
      "interpolate/tests/test_fitpack.py ...................                    [  5%]\n",
      "interpolate/tests/test_fitpack2.py ................................      [  6%]\n",
      "interpolate/tests/test_interpnd.py .....................                 [  6%]\n",
      "interpolate/tests/test_interpolate.py .................................. [  6%]\n",
      "........................................................................ [  6%]\n",
      "..............................................                           [  7%]\n",
      "interpolate/tests/test_ndgriddata.py ...........                         [  7%]\n",
      "interpolate/tests/test_pade.py ..                                        [  7%]\n",
      "interpolate/tests/test_polyint.py ...................................... [  7%]\n",
      "..........                                                               [  7%]\n",
      "interpolate/tests/test_rbf.py ........                                   [  7%]\n",
      "interpolate/tests/test_regression.py .                                   [  7%]\n",
      "io/arff/tests/test_arffread.py ......................                    [  7%]\n",
      "io/harwell_boeing/tests/test_fortran_format.py ...........               [  7%]\n",
      "io/harwell_boeing/tests/test_hb.py ..                                    [  7%]\n",
      "io/matlab/tests/test_byteordercodes.py ..                                [  7%]\n",
      "io/matlab/tests/test_mio.py ............................................ [  8%]\n",
      "...........                                                              [  8%]\n",
      "io/matlab/tests/test_mio5_utils.py ......                                [  8%]\n",
      "io/matlab/tests/test_mio_funcs.py .                                      [  8%]\n",
      "io/matlab/tests/test_mio_utils.py ..                                     [  8%]\n",
      "io/matlab/tests/test_miobase.py .                                        [  8%]\n",
      "io/matlab/tests/test_pathological.py ..                                  [  8%]\n",
      "io/matlab/tests/test_streams.py .......                                  [  8%]\n",
      "io/tests/test_fortran.py ......                                          [  8%]\n",
      "io/tests/test_idl.py ................................................... [  8%]\n",
      "...............                                                          [  8%]\n",
      "io/tests/test_mmio.py .................................................. [  9%]\n",
      "................                                                         [  9%]\n",
      "io/tests/test_netcdf.py .........................                        [  9%]\n",
      "io/tests/test_paths.py .........                                         [  9%]\n",
      "io/tests/test_wavfile.py .........                                       [  9%]\n",
      "linalg/tests/test_basic.py ............................................. [  9%]\n",
      "..........s...................\n",
      "\n",
      "=================================== FAILURES ===================================\n",
      "________________________ TestInterop.test_splrep_errors ________________________\n",
      "\n",
      "self = <scipy.interpolate.tests.test_bsplines.TestInterop object at 0x7fb6a8862550>\n",
      "\n",
      "    @pytest.mark.xfail(NumpyVersion(np.__version__) < '1.14.0',\n",
      "                       reason='requires NumPy >= 1.14.0')\n",
      "    def test_splrep_errors(self):\n",
      "        # test that both \"old\" and \"new\" splrep raise for an n-D ``y`` array\n",
      "        # with n > 1\n",
      "        x, y = self.xx, self.yy\n",
      "        y2 = np.c_[y, y]\n",
      "        with assert_raises(ValueError):\n",
      ">           splrep(x, y2)\n",
      "\n",
      "self       = <scipy.interpolate.tests.test_bsplines.TestInterop object at 0x7fb6a8862550>\n",
      "x          = array([ 0.        ,  0.31415927,  0.62831853,  0.9424778 ,  1.25663706,\n",
      "        1.57079633,  1.88495559,  2.19911486, ... 10.36725576, 10.68141502,\n",
      "       10.99557429, 11.30973355, 11.62389282, 11.93805208, 12.25221135,\n",
      "       12.56637061])\n",
      "y          = array([ 1.00000000e+00,  9.51056516e-01,  8.09016994e-01,  5.87785252e-01,\n",
      "        3.09016994e-01,  6.12323400e-17, -3...1, -4.28626380e-16,\n",
      "        3.09016994e-01,  5.87785252e-01,  8.09016994e-01,  9.51056516e-01,\n",
      "        1.00000000e+00])\n",
      "y2         = array([[ 1.00000000e+00,  1.00000000e+00],\n",
      "       [ 9.51056516e-01,  9.51056516e-01],\n",
      "       [ 8.09016994e-01,  8.0901....09016994e-01,  8.09016994e-01],\n",
      "       [ 9.51056516e-01,  9.51056516e-01],\n",
      "       [ 1.00000000e+00,  1.00000000e+00]])\n",
      "\n",
      "/usr/local/lib/python3.6/dist-packages/scipy/interpolate/tests/test_bsplines.py:626: \n",
      "_ _ _ _ _ _ _ _ _ _ _ _ _ _ _ _ _ _ _ _ _ _ _ _ _ _ _ _ _ _ _ _ _ _ _ _ _ _ _ _ \n",
      "/usr/local/lib/python3.6/dist-packages/scipy/interpolate/fitpack.py:289: in splrep\n",
      "    res = _impl.splrep(x, y, w, xb, xe, k, task, s, t, full_output, per, quiet)\n",
      "_ _ _ _ _ _ _ _ _ _ _ _ _ _ _ _ _ _ _ _ _ _ _ _ _ _ _ _ _ _ _ _ _ _ _ _ _ _ _ _ \n",
      "\n",
      "x = array([ 0.        ,  0.31415927,  0.62831853,  0.9424778 ,  1.25663706,\n",
      "        1.57079633,  1.88495559,  2.19911486, ... 10.36725576, 10.68141502,\n",
      "       10.99557429, 11.30973355, 11.62389282, 11.93805208, 12.25221135,\n",
      "       12.56637061])\n",
      "y = array([[ 1.00000000e+00,  1.00000000e+00],\n",
      "       [ 9.51056516e-01,  9.51056516e-01],\n",
      "       [ 8.09016994e-01,  8.0901....09016994e-01,  8.09016994e-01],\n",
      "       [ 9.51056516e-01,  9.51056516e-01],\n",
      "       [ 1.00000000e+00,  1.00000000e+00]])\n",
      "w = array([1., 1., 1., 1., 1., 1., 1., 1., 1., 1., 1., 1., 1., 1., 1., 1., 1.,\n",
      "       1., 1., 1., 1., 1., 1., 1., 1., 1., 1., 1., 1., 1., 1., 1., 1., 1.,\n"
     ]
    },
    {
     "name": "stdout",
     "output_type": "stream",
     "text": [
      "       1., 1., 1., 1., 1., 1., 1.])\n",
      "xb = 0.0, xe = 12.566370614359172, k = 3, task = 0, s = 0.0\n",
      "t = array([ 0.        ,  0.        ,  0.        ,  0.        ,  0.62831853,\n",
      "        0.9424778 ,  1.25663706,  1.57079633, ...141502, 10.99557429, 11.30973355, 11.62389282,\n",
      "       11.93805208, 12.56637061, 12.56637061, 12.56637061, 12.56637061])\n",
      "full_output = 0, per = 0, quiet = 1\n",
      "\n",
      "    def splrep(x, y, w=None, xb=None, xe=None, k=3, task=0, s=None, t=None,\n",
      "               full_output=0, per=0, quiet=1):\n",
      "        \"\"\"\n",
      "        Find the B-spline representation of 1-D curve.\n",
      "    \n",
      "        Given the set of data points ``(x[i], y[i])`` determine a smooth spline\n",
      "        approximation of degree k on the interval ``xb <= x <= xe``.\n",
      "    \n",
      "        Parameters\n",
      "        ----------\n",
      "        x, y : array_like\n",
      "            The data points defining a curve y = f(x).\n",
      "        w : array_like, optional\n",
      "            Strictly positive rank-1 array of weights the same length as x and y.\n",
      "            The weights are used in computing the weighted least-squares spline\n",
      "            fit. If the errors in the y values have standard-deviation given by the\n",
      "            vector d, then w should be 1/d. Default is ones(len(x)).\n",
      "        xb, xe : float, optional\n",
      "            The interval to fit.  If None, these default to x[0] and x[-1]\n",
      "            respectively.\n",
      "        k : int, optional\n",
      "            The order of the spline fit. It is recommended to use cubic splines.\n",
      "            Even order splines should be avoided especially with small s values.\n",
      "            1 <= k <= 5\n",
      "        task : {1, 0, -1}, optional\n",
      "            If task==0 find t and c for a given smoothing factor, s.\n",
      "    \n",
      "            If task==1 find t and c for another value of the smoothing factor, s.\n",
      "            There must have been a previous call with task=0 or task=1 for the same\n",
      "            set of data (t will be stored an used internally)\n",
      "    \n",
      "            If task=-1 find the weighted least square spline for a given set of\n",
      "            knots, t. These should be interior knots as knots on the ends will be\n",
      "            added automatically.\n",
      "        s : float, optional\n",
      "            A smoothing condition. The amount of smoothness is determined by\n",
      "            satisfying the conditions: sum((w * (y - g))**2,axis=0) <= s where g(x)\n",
      "            is the smoothed interpolation of (x,y). The user can use s to control\n",
      "            the tradeoff between closeness and smoothness of fit. Larger s means\n",
      "            more smoothing while smaller values of s indicate less smoothing.\n",
      "            Recommended values of s depend on the weights, w. If the weights\n",
      "            represent the inverse of the standard-deviation of y, then a good s\n",
      "            value should be found in the range (m-sqrt(2*m),m+sqrt(2*m)) where m is\n",
      "            the number of datapoints in x, y, and w. default : s=m-sqrt(2*m) if\n",
      "            weights are supplied. s = 0.0 (interpolating) if no weights are\n",
      "            supplied.\n",
      "        t : array_like, optional\n",
      "            The knots needed for task=-1. If given then task is automatically set\n",
      "            to -1.\n",
      "        full_output : bool, optional\n",
      "            If non-zero, then return optional outputs.\n",
      "        per : bool, optional\n",
      "            If non-zero, data points are considered periodic with period x[m-1] -\n",
      "            x[0] and a smooth periodic spline approximation is returned. Values of\n",
      "            y[m-1] and w[m-1] are not used.\n",
      "        quiet : bool, optional\n",
      "            Non-zero to suppress messages.\n",
      "            This parameter is deprecated; use standard Python warning filters\n",
      "            instead.\n",
      "    \n",
      "        Returns\n",
      "        -------\n",
      "        tck : tuple\n",
      "            (t,c,k) a tuple containing the vector of knots, the B-spline\n",
      "            coefficients, and the degree of the spline.\n",
      "        fp : array, optional\n",
      "            The weighted sum of squared residuals of the spline approximation.\n",
      "        ier : int, optional\n",
      "            An integer flag about splrep success. Success is indicated if ier<=0.\n",
      "            If ier in [1,2,3] an error occurred but was not raised. Otherwise an\n",
      "            error is raised.\n",
      "        msg : str, optional\n",
      "            A message corresponding to the integer flag, ier.\n",
      "    \n",
      "        Notes\n",
      "        -----\n",
      "        See splev for evaluation of the spline and its derivatives.\n",
      "    \n",
      "        The user is responsible for assuring that the values of *x* are unique.\n",
      "        Otherwise, *splrep* will not return sensible results.\n",
      "    \n",
      "        See Also\n",
      "        --------\n",
      "        UnivariateSpline, BivariateSpline\n",
      "        splprep, splev, sproot, spalde, splint\n",
      "        bisplrep, bisplev\n",
      "    \n",
      "        Notes\n",
      "        -----\n",
      "        See splev for evaluation of the spline and its derivatives. Uses the\n",
      "        FORTRAN routine curfit from FITPACK.\n",
      "    \n",
      "        If provided, knots `t` must satisfy the Schoenberg-Whitney conditions,\n",
      "        i.e., there must be a subset of data points ``x[j]`` such that\n",
      "        ``t[j] < x[j] < t[j+k+1]``, for ``j=0, 1,...,n-k-2``.\n",
      "    \n",
      "        References\n",
      "        ----------\n",
      "        Based on algorithms described in [1]_, [2]_, [3]_, and [4]_:\n",
      "    \n",
      "        .. [1] P. Dierckx, \"An algorithm for smoothing, differentiation and\n",
      "           integration of experimental data using spline functions\",\n",
      "           J.Comp.Appl.Maths 1 (1975) 165-184.\n",
      "        .. [2] P. Dierckx, \"A fast algorithm for smoothing data on a rectangular\n",
      "           grid while using spline functions\", SIAM J.Numer.Anal. 19 (1982)\n",
      "           1286-1304.\n",
      "        .. [3] P. Dierckx, \"An improved algorithm for curve fitting with spline\n",
      "           functions\", report tw54, Dept. Computer Science,K.U. Leuven, 1981.\n",
      "        .. [4] P. Dierckx, \"Curve and surface fitting with splines\", Monographs on\n",
      "           Numerical Analysis, Oxford University Press, 1993.\n",
      "    \n",
      "        Examples\n",
      "        --------\n",
      "    \n",
      "        >>> import matplotlib.pyplot as plt\n",
      "        >>> from scipy.interpolate import splev, splrep\n",
      "        >>> x = np.linspace(0, 10, 10)\n",
      "        >>> y = np.sin(x)\n",
      "        >>> tck = splrep(x, y)\n",
      "        >>> x2 = np.linspace(0, 10, 200)\n",
      "        >>> y2 = splev(x2, tck)\n",
      "        >>> plt.plot(x, y, 'o', x2, y2)\n",
      "        >>> plt.show()\n",
      "    \n",
      "        \"\"\"\n",
      "        if task <= 0:\n",
      "            _curfit_cache = {}\n",
      "        x, y = map(atleast_1d, [x, y])\n",
      "        m = len(x)\n",
      "        if w is None:\n",
      "            w = ones(m, float)\n",
      "            if s is None:\n",
      "                s = 0.0\n",
      "        else:\n",
      "            w = atleast_1d(w)\n",
      "            if s is None:\n",
      "                s = m - sqrt(2*m)\n",
      "        if not len(w) == m:\n",
      "            raise TypeError('len(w)=%d is not equal to m=%d' % (len(w), m))\n",
      "        if (m != len(y)) or (m != len(w)):\n",
      "            raise TypeError('Lengths of the first three arguments (x,y,w) must '\n",
      "                            'be equal')\n",
      "        if not (1 <= k <= 5):\n",
      "            raise TypeError('Given degree of the spline (k=%d) is not supported. '\n",
      "                            '(1<=k<=5)' % k)\n",
      "        if m <= k:\n",
      "            raise TypeError('m > k must hold')\n",
      "        if xb is None:\n",
      "            xb = x[0]\n",
      "        if xe is None:\n",
      "            xe = x[-1]\n",
      "        if not (-1 <= task <= 1):\n",
      "            raise TypeError('task must be -1, 0 or 1')\n",
      "        if t is not None:\n",
      "            task = -1\n",
      "        if task == -1:\n",
      "            if t is None:\n",
      "                raise TypeError('Knots must be given for task=-1')\n",
      "            numknots = len(t)\n",
      "            _curfit_cache['t'] = empty((numknots + 2*k + 2,), float)\n",
      "            _curfit_cache['t'][k+1:-k-1] = t\n",
      "            nest = len(_curfit_cache['t'])\n",
      "        elif task == 0:\n",
      "            if per:\n",
      "                nest = max(m + 2*k, 2*k + 3)\n",
      "            else:\n",
      "                nest = max(m + k + 1, 2*k + 3)\n",
      "            t = empty((nest,), float)\n",
      "            _curfit_cache['t'] = t\n",
      "        if task <= 0:\n",
      "            if per:\n",
      "                _curfit_cache['wrk'] = empty((m*(k + 1) + nest*(8 + 5*k),), float)\n",
      "            else:\n",
      "                _curfit_cache['wrk'] = empty((m*(k + 1) + nest*(7 + 3*k),), float)\n",
      "            _curfit_cache['iwrk'] = empty((nest,), intc)\n",
      "        try:\n",
      "            t = _curfit_cache['t']\n",
      "            wrk = _curfit_cache['wrk']\n",
      "            iwrk = _curfit_cache['iwrk']\n",
      "        except KeyError:\n",
      "            raise TypeError(\"must call with task=1 only after\"\n"
     ]
    },
    {
     "name": "stdout",
     "output_type": "stream",
     "text": [
      "                            \" call with task=0,-1\")\n",
      "        if not per:\n",
      "            n, c, fp, ier = dfitpack.curfit(task, x, y, w, t, wrk, iwrk,\n",
      ">                                           xb, xe, k, s)\n",
      "E           dfitpack.error: failed in converting 3rd argument `y' of dfitpack.curfit to C/Fortran array\n",
      "\n",
      "_curfit_cache = {'iwrk': array([   64145840,           0,  -547680393,  1070926854,  -812561380,\n",
      "        1070907834,  1201389454,  107...2709241e+001,\n",
      "       -6.64991729e+001, -8.40939802e+001, -9.31500212e+001,\n",
      "       -9.72091997e+001, -9.89021441e+001])}\n",
      "full_output = 0\n",
      "iwrk       = array([   64145840,           0,  -547680393,  1070926854,  -812561380,\n",
      "        1070907834,  1201389454,  1070808744, ...,   762507841,  1069583366,\n",
      "       -1122429777,  1069158440,  -958381132,  1068836914,           0],\n",
      "      dtype=int32)\n",
      "k          = 3\n",
      "m          = 41\n",
      "nest       = 45\n",
      "per        = 0\n",
      "quiet      = 1\n",
      "s          = 0.0\n",
      "t          = array([ 0.        ,  0.        ,  0.        ,  0.        ,  0.62831853,\n",
      "        0.9424778 ,  1.25663706,  1.57079633, ...141502, 10.99557429, 11.30973355, 11.62389282,\n",
      "       11.93805208, 12.56637061, 12.56637061, 12.56637061, 12.56637061])\n",
      "task       = 0\n",
      "w          = array([1., 1., 1., 1., 1., 1., 1., 1., 1., 1., 1., 1., 1., 1., 1., 1., 1.,\n",
      "       1., 1., 1., 1., 1., 1., 1., 1., 1., 1., 1., 1., 1., 1., 1., 1., 1.,\n",
      "       1., 1., 1., 1., 1., 1., 1.])\n",
      "wrk        = array([ 6.93782289e-310,  4.68779129e-316,  4.68779129e-316,\n",
      "        4.68779129e-316, -5.31375152e-005, -1.06900355e-0...02709241e+001,\n",
      "       -6.64991729e+001, -8.40939802e+001, -9.31500212e+001,\n",
      "       -9.72091997e+001, -9.89021441e+001])\n",
      "x          = array([ 0.        ,  0.31415927,  0.62831853,  0.9424778 ,  1.25663706,\n",
      "        1.57079633,  1.88495559,  2.19911486, ... 10.36725576, 10.68141502,\n",
      "       10.99557429, 11.30973355, 11.62389282, 11.93805208, 12.25221135,\n",
      "       12.56637061])\n",
      "xb         = 0.0\n",
      "xe         = 12.566370614359172\n",
      "y          = array([[ 1.00000000e+00,  1.00000000e+00],\n",
      "       [ 9.51056516e-01,  9.51056516e-01],\n",
      "       [ 8.09016994e-01,  8.0901....09016994e-01,  8.09016994e-01],\n",
      "       [ 9.51056516e-01,  9.51056516e-01],\n",
      "       [ 1.00000000e+00,  1.00000000e+00]])\n",
      "\n",
      "/usr/local/lib/python3.6/dist-packages/scipy/interpolate/_fitpack_impl.py:502: error\n",
      "----------------------------- Captured stderr call -----------------------------\n",
      "too many axes: 2 (effrank=2), expected rank=1\n",
      "!!!!!!!!!!!!!!!!!!!!!!!!!!!!!! KeyboardInterrupt !!!!!!!!!!!!!!!!!!!!!!!!!!!!!!!\n",
      "/usr/local/lib/python3.6/dist-packages/scipy/linalg/basic.py:218: KeyboardInterrupt\n",
      "(to show a full traceback on KeyboardInterrupt use --fulltrace)\n",
      "= 1 failed, 1585 passed, 1 skipped, 1222 deselected, 2 xfailed in 64.40 seconds =\n"
     ]
    },
    {
     "data": {
      "text/plain": [
       "False"
      ]
     },
     "execution_count": 2,
     "metadata": {},
     "output_type": "execute_result"
    }
   ],
   "source": [
    "# Só execute quando tiver tempo pois demora \n",
    "# bastante pouco e sua saída é longa\n",
    "import scipy\n",
    "scipy.test()"
   ]
  },
  {
   "cell_type": "markdown",
   "metadata": {},
   "source": [
    "O resultado final do código acima é algo do tipo:\n",
    "    \n",
    "```python\n",
    "Running unit tests for scipy\n",
    "NumPy version 1.11.0\n",
    "NumPy relaxed strides checking option: False\n",
    "NumPy is installed in /usr/lib/python3/dist-packages/numpy\n",
    "SciPy version 0.18.1\n",
    "SciPy is installed in /usr/local/lib/python3.5/dist-packages/scipy\n",
    "Python version 3.5.2 (default, Nov 17 2016, 17:05:23) [GCC 5.4.0 20160609]\n",
    "nose version 1.3.7\n",
    "   .\n",
    "   .\n",
    "   .\n",
    "----------------------------------------------------------------------\n",
    "Ran 23065 tests in 379.010s\n",
    "\n",
    "OK (KNOWNFAIL=60, SKIP=1776)\n",
    "\n",
    "<nose.result.TextTestResult run=23065 errors=0 failures=0>\n",
    "```\n",
    "\n",
    "Terminando dessa forma significa que sua instalção está ok. Note que o tempo (Ran 23065 tests in 379.010s) depende de sua máquina e da versão da biblioteca (aqui é a 0.18.1) e de sua máquina. Já o número de objetos testados (run=23065) dependem da sua versão da biblioteca."
   ]
  },
  {
   "cell_type": "code",
   "execution_count": 3,
   "metadata": {
    "ExecuteTime": {
     "end_time": "2019-08-15T13:56:09.393095Z",
     "start_time": "2019-08-15T13:56:08.102753Z"
    }
   },
   "outputs": [
    {
     "data": {
      "application/json": {
       "Software versions": [
        {
         "module": "Python",
         "version": "3.6.8 64bit [GCC 8.0.1 20180414 (experimental) [trunk revision 259383]"
        },
        {
         "module": "IPython",
         "version": "7.6.1"
        },
        {
         "module": "OS",
         "version": "Linux 4.15.0 58 generic x86_64 with LinuxMint 19.1 tessa"
        },
        {
         "module": "jupyter",
         "version": "1.0.0"
        },
        {
         "module": "numpy",
         "version": "1.17.0"
        },
        {
         "module": "scipy",
         "version": "1.3.0"
        },
        {
         "module": "matplotlib",
         "version": "3.1.1"
        },
        {
         "module": "sympy",
         "version": "1.4"
        },
        {
         "module": "pandas",
         "version": "0.25.0"
        },
        {
         "module": "qutip",
         "version": "The 'qutip' distribution was not found and is required by the application"
        }
       ]
      },
      "text/html": [
       "<table><tr><th>Software</th><th>Version</th></tr><tr><td>Python</td><td>3.6.8 64bit [GCC 8.0.1 20180414 (experimental) [trunk revision 259383]</td></tr><tr><td>IPython</td><td>7.6.1</td></tr><tr><td>OS</td><td>Linux 4.15.0 58 generic x86_64 with LinuxMint 19.1 tessa</td></tr><tr><td>jupyter</td><td>1.0.0</td></tr><tr><td>numpy</td><td>1.17.0</td></tr><tr><td>scipy</td><td>1.3.0</td></tr><tr><td>matplotlib</td><td>3.1.1</td></tr><tr><td>sympy</td><td>1.4</td></tr><tr><td>pandas</td><td>0.25.0</td></tr><tr><td>qutip</td><td>The 'qutip' distribution was not found and is required by the application</td></tr><tr><td colspan='2'>Thu Aug 15 10:56:09 2019 -03</td></tr></table>"
      ],
      "text/latex": [
       "\\begin{tabular}{|l|l|}\\hline\n",
       "{\\bf Software} & {\\bf Version} \\\\ \\hline\\hline\n",
       "Python & 3.6.8 64bit [GCC 8.0.1 20180414 (experimental) [trunk revision 259383] \\\\ \\hline\n",
       "IPython & 7.6.1 \\\\ \\hline\n",
       "OS & Linux 4.15.0 58 generic x86\\_64 with LinuxMint 19.1 tessa \\\\ \\hline\n",
       "jupyter & 1.0.0 \\\\ \\hline\n",
       "numpy & 1.17.0 \\\\ \\hline\n",
       "scipy & 1.3.0 \\\\ \\hline\n",
       "matplotlib & 3.1.1 \\\\ \\hline\n",
       "sympy & 1.4 \\\\ \\hline\n",
       "pandas & 0.25.0 \\\\ \\hline\n",
       "qutip & The 'qutip' distribution was not found and is required by the application \\\\ \\hline\n",
       "\\hline \\multicolumn{2}{|l|}{Thu Aug 15 10:56:09 2019 -03} \\\\ \\hline\n",
       "\\end{tabular}\n"
      ],
      "text/plain": [
       "Software versions\n",
       "Python 3.6.8 64bit [GCC 8.0.1 20180414 (experimental) [trunk revision 259383]\n",
       "IPython 7.6.1\n",
       "OS Linux 4.15.0 58 generic x86_64 with LinuxMint 19.1 tessa\n",
       "jupyter 1.0.0\n",
       "numpy 1.17.0\n",
       "scipy 1.3.0\n",
       "matplotlib 3.1.1\n",
       "sympy 1.4\n",
       "pandas 0.25.0\n",
       "qutip The 'qutip' distribution was not found and is required by the application\n",
       "Thu Aug 15 10:56:09 2019 -03"
      ]
     },
     "execution_count": 3,
     "metadata": {},
     "output_type": "execute_result"
    }
   ],
   "source": [
    "%load_ext version_information\n",
    "%version_information jupyter, numpy, scipy, matplotlib, sympy, pandas, qutip"
   ]
  },
  {
   "cell_type": "markdown",
   "metadata": {},
   "source": [
    "### O pacote de otimização\n",
    "\n",
    "\n",
    "O pacote de otimização no SciPy fornece a funcionalidade para resolver problemas de minimização univariada e multivariada. Ele fornece soluções para problemas de minimização usando uma série de algoritmos e métodos. O problema de minimização tem uma vasta gama de aplicações em domínios científicos e comerciais. Geralmente, realizamos a regressão linear, procurando os valores mínimos e máximos de uma função, encontrando a raiz de uma função e a programação linear para tais casos. Todas essas funcionalidades são suportadas pelo pacote de otimização.\n",
    "\n",
    "### O pacote de interpolação\n",
    "\n",
    "\n",
    "Uma série de métodos de interpolação e algoritmos são fornecidos no pacote de interpolação como funções incorporadas. Ele fornece a facilidade para executar interpolação univariada e multivariada e splines unidimensionais e bidimensionais. A interpolação univariada é usada quando os dados dependem de uma variável; Se for dependente de mais de uma variável, então deve-se usar a interpolação multivariada. Além dessas funcionalidades, o pacote de interpolação também fornece funcionalidade adicional para polinômios interpoladores de Lagrange e Taylor.\n",
    "\n",
    "### Integração e equações diferenciais na SciPy\n",
    "\n",
    "\n",
    "A integração é uma ferramenta matemática importante para computações científicas. A biblioteca da SciPy de integração fornece algumas funcionalidades para realizar integração numérica. A SciPy fornece uma gama de funções para realizar a integração em equações e dados. Ela também tem um integrador de equações diferenciais ordinárias. Ela fornece várias funções para realizar integrações numéricas com a ajuda de uma série de métodos matemáticos usando análise numérica.\n",
    "\n",
    "### O módulo de estatísticas\n",
    "\n",
    "\n",
    "O módulo SciPy `stats` contém uma função para a maioria das distribuições de probabilidade e funções de grande alcance ou estatísticas. As distribuições de probabilidade suportadas incluem várias distribuições contínuas, distribuições multivariadas e distribuições discretas. As funções estatísticas variam dos coanceitos estatísiticos mais simples aos mais complexos, incluindo skewness, kurtosis, e o teste de qui-quadrado, para citar alguns.\n",
    "\n",
    "### Agrupamentos de pacotes (clustering) e algoritmos espaciais em SciPy\n",
    "\n",
    "\n",
    "A análise de clustering (agrupamentos) é uma técnica de mineração de dados popular que tem uma ampla gama de aplicações em domínios científicos e comerciais. No domínio das ciências, a biologia, a física de partículas, a astronomia, as ciências da vida e a bioinformática são alguns dos temas que utilizam amplamente a análise de clustering para a resolução de problemas. A análise de clustering é utilizada extensivamente em ciência da computação para detecção de fraude computadorizada, análise de segurança, processamento de imagem, e muitas outras áreas. O pacote de `clustering` fornece funcionalidade para o clustering de K-means, quantização de vetor e funções de clustering hierárquico e aglomerado.\n",
    "\n",
    "A classe espacial tem funções para analisar a distância entre pontos de dados usando triangulações, diagramas de Voronoi e cascas convexas de um conjunto de pontos. Ele também tem implementações KDTree para executar a funcionalidade de pesquisa de vizinho mais próximo.\n",
    "\n",
    "### Processamento de imagens em SciPy\n",
    "\n",
    "\n",
    "O SciPy fornece suporte para executar várias operações de processamento de imagem, incluindo leitura e gravação básicas de arquivos de imagem, exibindo imagens e operações simples de manipulação de imagens, como cortar, virar e girar. Ele também tem suporte para funções de filtragem de imagens, como morphing matemático, suavização,remoção de ruídos e nitidez de imagens. Além disso, suporta várias outras operações, tais como segmentação de imagem por rotulagem de pixels correspondentes a diferentes objetos, classificação e extração de recursos, por exemplo, detecção de bordas."
   ]
  },
  {
   "cell_type": "markdown",
   "metadata": {},
   "source": [
    "A biblioteca `Scipy` é construída sobre a `numpy`. Toda a funcionalidade da `numpy` parece estar disponível também no `scipy`. Por exemplo, em vez de"
   ]
  },
  {
   "cell_type": "code",
   "execution_count": 4,
   "metadata": {
    "ExecuteTime": {
     "end_time": "2019-08-15T13:57:21.030530Z",
     "start_time": "2019-08-15T13:57:21.024223Z"
    }
   },
   "outputs": [],
   "source": [
    "import numpy\n",
    "x = numpy.arange(0, 10, 0.1)\n",
    "y = numpy.sin(x)"
   ]
  },
  {
   "cell_type": "markdown",
   "metadata": {},
   "source": [
    "também podemos usar"
   ]
  },
  {
   "cell_type": "code",
   "execution_count": 5,
   "metadata": {
    "ExecuteTime": {
     "end_time": "2019-08-15T13:57:24.287155Z",
     "start_time": "2019-08-15T13:57:24.279385Z"
    },
    "scrolled": true
   },
   "outputs": [],
   "source": [
    "import scipy as scp\n",
    "x = scp.arange(0, 10, 0.1)\n",
    "y = scp.sin(x)\n",
    "z = scp.linspace(0,10,101)"
   ]
  },
  {
   "cell_type": "markdown",
   "metadata": {},
   "source": [
    "Primeiro precisamos importar `scipy`:"
   ]
  },
  {
   "cell_type": "code",
   "execution_count": null,
   "metadata": {
    "ExecuteTime": {
     "end_time": "2018-06-20T11:43:38.715059Z",
     "start_time": "2018-06-20T11:43:38.712132Z"
    }
   },
   "outputs": [],
   "source": [
    "import scipy"
   ]
  },
  {
   "cell_type": "markdown",
   "metadata": {},
   "source": [
    "O pacote `scipy` fornece informações sobre sua própria estrutura quando usamos o comando help:\n",
    "\n",
    "```python\n",
    "help(scipy)\n",
    "```"
   ]
  },
  {
   "cell_type": "markdown",
   "metadata": {},
   "source": [
    "A saída é muito longa, por isso estamos mostrando apenas uma parte dela aqui:\n",
    "\n",
    "    stats       --- Statistical Functions [*]\n",
    "    sparse      --- Sparse matrix [*]\n",
    "    lib         --- Python wrappers to external libraries [*]\n",
    "    linalg      --- Linear algebra routines [*]\n",
    "    signal      --- Signal Processing Tools [*]\n",
    "    misc        --- Various utilities that don't have another home.\n",
    "    interpolate --- Interpolation Tools [*]\n",
    "    optimize    --- Optimization Tools [*]\n",
    "    cluster     --- Vector Quantization / Kmeans [*]\n",
    "    fftpack     --- Discrete Fourier Transform algorithms [*]\n",
    "    io          --- Data input and output [*]\n",
    "    integrate   --- Integration routines [*]\n",
    "    lib.lapack  --- Wrappers to LAPACK library [*]\n",
    "    special     --- Special Functions [*]\n",
    "    lib.blas    --- Wrappers to BLAS library [*]\n",
    "      [*] - using a package requires explicit import (see pkgload)"
   ]
  },
  {
   "cell_type": "markdown",
   "metadata": {},
   "source": [
    "Se procuramos um algoritmo para integrar uma função, podemos explorar o pacote `integrate`:"
   ]
  },
  {
   "cell_type": "markdown",
   "metadata": {},
   "source": [
    "```python\n",
    "import scipy.integrate\n",
    "\n",
    "scipy.integrate?\n",
    "```"
   ]
  },
  {
   "cell_type": "markdown",
   "metadata": {},
   "source": [
    "produz:\n",
    "\n",
    "```text\n",
    "=============================================\n",
    "Integration and ODEs (:mod:`scipy.integrate`)\n",
    "=============================================\n",
    "\n",
    ".. currentmodule:: scipy.integrate\n",
    "\n",
    "Integrating functions, given function object\n",
    "============================================\n",
    "\n",
    ".. autosummary::\n",
    "   :toctree: generated/\n",
    "\n",
    "   quad          -- General purpose integration\n",
    "   dblquad       -- General purpose double integration\n",
    "   tplquad       -- General purpose triple integration\n",
    "   nquad         -- General purpose n-dimensional integration\n",
    "   fixed_quad    -- Integrate func(x) using Gaussian quadrature of order n\n",
    "   quadrature    -- Integrate with given tolerance using Gaussian quadrature\n",
    "   romberg       -- Integrate func using Romberg integration\n",
    "   quad_explain  -- Print information for use of quad\n",
    "   newton_cotes  -- Weights and error coefficient for Newton-Cotes integration\n",
    "   IntegrationWarning -- Warning on issues during integration\n",
    "\n",
    "Integrating functions, given fixed samples\n",
    "==========================================\n",
    "\n",
    ".. autosummary::\n",
    "   :toctree: generated/\n",
    "\n",
    "   trapz         -- Use trapezoidal rule to compute integral.\n",
    "   cumtrapz      -- Use trapezoidal rule to cumulatively compute integral.\n",
    "   simps         -- Use Simpson's rule to compute integral from samples.\n",
    "   romb          -- Use Romberg Integration to compute integral from\n",
    "                 -- (2**k + 1) evenly-spaced samples.\n",
    "\n",
    ".. seealso::\n",
    "\n",
    "   :mod:`scipy.special` for orthogonal polynomials (special) for Gaussian\n",
    "   quadrature roots and weights for other weighting factors and regions.\n",
    "\n",
    "Integrators of ODE systems\n",
    "==========================\n",
    "\n",
    ".. autosummary::\n",
    "   :toctree: generated/\n",
    "\n",
    "   odeint        -- General integration of ordinary differential equations.\n",
    "   ode           -- Integrate ODE using VODE and ZVODE routines.\n",
    "   complex_ode   -- Convert a complex-valued ODE to real-valued and integrate.\n",
    "```"
   ]
  },
  {
   "cell_type": "markdown",
   "metadata": {},
   "source": [
    "As seções a seguir mostram exemplos que demonstram como empregar os algoritmos fornecidos por `scipy`.\n",
    "\n",
    "## Integração numérica\n",
    "\n",
    "\n",
    "A SciPy \"Scientific Python\" fornece uma série de rotinas de integração. Uma ferramenta de propósito geral para resolver integrais *I* do tipo\n",
    "\n",
    "$$I=\\int_a^b f(x) \\mathrm{d} x$$\n",
    "\n",
    "É fornecida pela função `quad()` do módulo `scipy.integrate`.\n",
    "\n",
    "Toma como argumentos de entrada a função *f*(*x*)  a ser integrada (o \"integrando\") e os limites inferior e superior *a* e *b*. Retorna dois valores (em uma tupla): o primeiro é o resultado cálculado e o segundo é uma estimativa do erro numérico desse resultado.\n",
    "\n",
    "Aqui está um exemplo:\n",
    "\n",
    "$$ I=\\int_{-2}^{2} (e^{\\cos(-2 \\pi x)}+3.2) \\, dx $$"
   ]
  },
  {
   "cell_type": "code",
   "execution_count": null,
   "metadata": {
    "ExecuteTime": {
     "end_time": "2018-06-20T11:50:13.201538Z",
     "start_time": "2018-06-20T11:50:13.156596Z"
    }
   },
   "outputs": [],
   "source": [
    "import scipy.integrate\n",
    "scipy.integrate.quad?"
   ]
  },
  {
   "cell_type": "code",
   "execution_count": 6,
   "metadata": {
    "ExecuteTime": {
     "end_time": "2019-08-15T13:59:20.253117Z",
     "start_time": "2019-08-15T13:59:20.234991Z"
    }
   },
   "outputs": [
    {
     "name": "stdout",
     "output_type": "stream",
     "text": [
      "O resultado da integração numérica é 17.864264 (+-1.55117e-11)\n",
      "O resultado da integração numérica é 17.864264 (+-1.55117e-11)\n"
     ]
    }
   ],
   "source": [
    "#from math import pi, cos, exp, \n",
    "import numpy as np\n",
    "from scipy.integrate import quad\n",
    "\n",
    "# Função que queremos integrar\n",
    "def f(x):\n",
    "    return np.exp(np.cos(-2 * x * np.pi)) + 3.2\n",
    "\n",
    "# Chamada quad para integrar f de -2 para 2\n",
    "res, err = quad(f, -2, 2)\n",
    "\n",
    "res1, err1 = quad(f,-2,2, limit=200)\n",
    "\n",
    "res2 = quad(f,-2,2, limit=200)\n",
    "\n",
    "print(\"O resultado da integração numérica é {:f} (+-{:g})\"\n",
    "    .format(res, err))\n",
    "print(\"O resultado da integração numérica é {:f} (+-{:g})\"\n",
    "    .format(res1, err1))"
   ]
  },
  {
   "cell_type": "code",
   "execution_count": 7,
   "metadata": {
    "ExecuteTime": {
     "end_time": "2019-08-15T13:59:25.048996Z",
     "start_time": "2019-08-15T13:59:25.042760Z"
    }
   },
   "outputs": [
    {
     "name": "stdout",
     "output_type": "stream",
     "text": [
      "Romberg integration of <function vectorize1.<locals>.vfunc at 0x7fb6841c8ea0> from [-2, 2]\n",
      "\n",
      " Steps  StepSize   Results\n",
      "     1  4.000000 23.673127 \n",
      "     2  2.000000 23.673127 23.673127 \n",
      "\n",
      "The final result is 23.673127313836186 after 3 function evaluations.\n",
      "O resultado da integração numérica é 23.673127 \n"
     ]
    }
   ],
   "source": [
    "from scipy.integrate import romberg\n",
    "\n",
    "res = romberg(f, -2, 2, tol=1.6e-14,show=True)\n",
    "print(\"O resultado da integração numérica é {:f} \"\n",
    "    .format(res))"
   ]
  },
  {
   "cell_type": "markdown",
   "metadata": {},
   "source": [
    "Note que o resultado da integração pelo método de Romberg, mesmo com um erro de $1.6 \\times 10^{-14}$ é muito diferente do método da quadratura. Seguir vamos verificar o quão bom é resultado de Romberg, vamos usar um resultado da integração, para isso considere a seguinte integral:\n",
    "\n",
    "$$\n",
    "I = \\int_{a}^{b} f(x)\\, dx\n",
    "$$\n",
    "mas essa integral pode ser dividida em duas partes, com \n",
    "$$\n",
    "c = \\frac{a+b}{2}\n",
    "$$\n",
    "assim podemo escrever\n",
    "$$\n",
    "I = \\int_{a}^{b} f(x)\\, dx = \\int_{a}^{c} f(x)\\, dx + \\int_{c}^{b} f(x)\\, dx\n",
    "$$\n",
    "\n",
    "De forma geral, pode-se dividir esse intervalo de integração em $n$ partes iguais, procedendo da seguinte forma:\n",
    "$$\n",
    "dx= \\frac{b-a}{n} \n",
    "$$\n",
    "logo \n",
    "$$\n",
    "I = \\int_{a}^{b} f(x)\\, dx = \\sum_{i=1}^{n} \\int_{a+(i-1)\\cdot dx}^{a+i\\cdot dx} f(x)\\, dx \n",
    "$$"
   ]
  },
  {
   "cell_type": "code",
   "execution_count": 8,
   "metadata": {
    "ExecuteTime": {
     "end_time": "2019-08-15T13:59:39.932681Z",
     "start_time": "2019-08-15T13:59:39.911639Z"
    }
   },
   "outputs": [
    {
     "name": "stdout",
     "output_type": "stream",
     "text": [
      "a =  -2.0 b =  -1.5\n",
      "a =  -1.5 b =  -1.0\n",
      "a =  -1.0 b =  -0.5\n",
      "a =  -0.5 b =  0.0\n",
      "a =  0.0 b =  0.5\n",
      "a =  0.5 b =  1.0\n",
      "a =  1.0 b =  1.5\n",
      "a =  1.5 b =  2.0\n",
      "O resultado da integração numérica é 17.864264 \n"
     ]
    }
   ],
   "source": [
    "from scipy.integrate import romberg\n",
    "\n",
    "# Chamada quad para integrar f de -2 para 2\n",
    "x0 = -2\n",
    "xf = 2\n",
    "dx = 0.5\n",
    "n = int((xf - x0) / dx)  # Numero de intervalos\n",
    "soma =0.0\n",
    "for i in range(n):\n",
    "    a=x0 + i*dx\n",
    "    b=x0 +(i+1)*dx \n",
    "    print(\"a = \", a , \"b = \",b  )\n",
    "    soma = soma + romberg(f, a, b,tol=1.6e-10)    \n",
    "\n",
    "res = soma\n",
    "\n",
    "print(\"O resultado da integração numérica é {:f} \".format(res))"
   ]
  },
  {
   "cell_type": "code",
   "execution_count": 9,
   "metadata": {
    "ExecuteTime": {
     "end_time": "2019-08-15T14:00:08.367607Z",
     "start_time": "2019-08-15T14:00:08.005264Z"
    }
   },
   "outputs": [
    {
     "data": {
      "image/png": "[encoded data removed]",
      "text/plain": [
       "<Figure size 720x432 with 1 Axes>"
      ]
     },
     "metadata": {
      "needs_background": "light"
     },
     "output_type": "display_data"
    }
   ],
   "source": [
    "%matplotlib inline\n",
    "import numpy as np\n",
    "import pylab as plt\n",
    "\n",
    "x0 = -2.0                     # Valor inicial de x\n",
    "xf = 2.0                    # Valor final de x\n",
    "dx = 0.001                    # Passo da discretização dx = (xf - x0)/(np-1)\n",
    "x = np.arange(x0, xf, dx)    # cria um vetor de dados x-data\n",
    "\n",
    "largura = 10  # Largura da figura\n",
    "altura  =  6  # Altura da figura\n",
    "plt.figure(figsize =(largura, altura))     # Define o tamanho do gráfico\n",
    "\n",
    "# Faz os gráficos dos resultados\n",
    "plt.plot(x, f(x), label='integrando')\n",
    "plt.xlabel('x')\n",
    "plt.ylabel('f(x)')\n",
    "plt.legend(loc=0)\n",
    "plt.show()"
   ]
  },
  {
   "cell_type": "code",
   "execution_count": 10,
   "metadata": {
    "ExecuteTime": {
     "end_time": "2019-08-15T14:00:19.460369Z",
     "start_time": "2019-08-15T14:00:19.100211Z"
    }
   },
   "outputs": [
    {
     "data": {
      "image/png": "[encoded data removed]",
      "text/plain": [
       "<Figure size 720x432 with 1 Axes>"
      ]
     },
     "metadata": {
      "needs_background": "light"
     },
     "output_type": "display_data"
    }
   ],
   "source": [
    "import numpy as np\n",
    "\n",
    "def g(x):\n",
    "    return np.sin(1/x)\n",
    "\n",
    "x0 = -0.1\n",
    "xf =  0.1\n",
    "dx = 0.00001                 # Passo da discretização dx = (xf - x0)/(np-1)\n",
    "x = np.arange(x0, xf, dx)    # cria um vetor de dados x-data\n",
    "\n",
    "largura = 10  # Largura da figura\n",
    "altura  =  6  # Altura da figura\n",
    "plt.figure(figsize =(largura, altura))     # Define o tamanho do gráfico\n",
    "\n",
    "# Faz os gráficos dos resultados\n",
    "plt.plot(x, g(x), label='integrando')\n",
    "plt.xlabel('x')\n",
    "plt.ylabel('f(x)')\n",
    "plt.legend(loc=0)\n",
    "plt.show()"
   ]
  },
  {
   "cell_type": "code",
   "execution_count": null,
   "metadata": {
    "ExecuteTime": {
     "end_time": "2018-06-20T12:19:52.084265Z",
     "start_time": "2018-06-20T12:19:52.064960Z"
    }
   },
   "outputs": [],
   "source": [
    "# Chamada quad para integrar f de -2 para 2\n",
    "res, err = quad(g, x0, xf)\n",
    "\n",
    "res1, err1 = quad(g, x0, xf, limit=200)\n",
    "\n",
    "\n",
    "print(\"O resultado da integração numérica é {:f} (+-{:g})\"\n",
    "    .format(res, err))\n",
    "print(\"O resultado da integração numérica é {:f} (+-{:g})\"\n",
    "    .format(res1, err1))"
   ]
  },
  {
   "cell_type": "code",
   "execution_count": 11,
   "metadata": {
    "ExecuteTime": {
     "end_time": "2019-08-15T14:00:35.233665Z",
     "start_time": "2019-08-15T14:00:35.226263Z"
    }
   },
   "outputs": [
    {
     "name": "stdout",
     "output_type": "stream",
     "text": [
      "O resultado da integração numérica é 0.000000 \n"
     ]
    }
   ],
   "source": [
    "dx = 0.25\n",
    "n = int((xf - x0) / dx)  # Numero de intervalos\n",
    "soma =0.0\n",
    "for i in range(n):\n",
    "    a=x0 + i*dx\n",
    "    b=x0 +(i+1)*dx \n",
    "    print(\"a = \", a , \"b = \",b  )\n",
    "    soma = soma + romberg(g, a, b,tol=1.6e-10)    \n",
    "\n",
    "res = soma\n",
    "\n",
    "print(\"O resultado da integração numérica é {:f} \".format(res))"
   ]
  },
  {
   "cell_type": "code",
   "execution_count": null,
   "metadata": {
    "ExecuteTime": {
     "end_time": "2018-06-20T12:14:19.376194Z",
     "start_time": "2018-06-20T12:14:19.371008Z"
    },
    "scrolled": true
   },
   "outputs": [],
   "source": [
    "from scipy.integrate import quadrature\n",
    "#? quadrature\n",
    "#miniter : int, optional\n",
    "\n",
    "#res2, err2 = quadrature(f,-2,2,miniter=48,tol=1.6e-10)"
   ]
  },
  {
   "cell_type": "markdown",
   "metadata": {},
   "source": [
    "Observe que `quad()` usa parâmetros opcionais `epsabs` e `epsrel` para aumentar ou diminuir a precisão de seu cálculo. (Use `help(quad)` para saber mais.) Os valores padrão são `epsabs = 1.5e-8` e `epsrel=1.5e-8`. Para o próximo exercício, os valores padrão são suficientes."
   ]
  },
  {
   "cell_type": "code",
   "execution_count": null,
   "metadata": {},
   "outputs": [],
   "source": [
    "%matplotlib inline"
   ]
  },
  {
   "cell_type": "code",
   "execution_count": null,
   "metadata": {
    "ExecuteTime": {
     "end_time": "2018-06-20T12:14:23.284875Z",
     "start_time": "2018-06-20T12:14:22.873473Z"
    }
   },
   "outputs": [],
   "source": [
    "import pylab as plt\n",
    "import numpy as np\n",
    "\n",
    "# Função que queremos integrar\n",
    "def g(x):\n",
    "    return np.exp(np.cos(-2 * x * np.pi)) + 3.2\n",
    "\n",
    "x0 = -2.0                     # Valor inicial de x\n",
    "xf =  2.0                     # Valor final de x\n",
    "dx = 0.001                    # Passo da discretização dx = (xf - x0)/(np-1)\n",
    "x = np.arange(x0, xf, dx)     # valor de x para a solução\n",
    "y = g(x)                      # Vetor com o valor da função\n",
    "\n",
    "largura = 10  # Largura da figura\n",
    "altura  =  6  # Altura da figura\n",
    "plt.figure(figsize =(largura, altura))     # Define o tamanho do gráfico\n",
    "# Faz os gráficos dos resultados\n",
    "plt.plot(x, y)\n",
    "plt.xlabel('x'); \n",
    "plt.ylabel('y(x)')"
   ]
  },
  {
   "cell_type": "code",
   "execution_count": null,
   "metadata": {
    "ExecuteTime": {
     "end_time": "2018-06-18T21:11:44.041325Z",
     "start_time": "2018-06-18T21:11:44.036725Z"
    }
   },
   "outputs": [],
   "source": [
    "soma = 0.0\n",
    "for a in np.arange(-2.0,2.0,0.5):\n",
    "    res, err=  quad(f,a,a+0.5, limit=2000)\n",
    "    soma = soma + res \n",
    "\n",
    "print(\"O resultado da integração numérica é {:f} (+-{:g})\".format(soma, err))"
   ]
  },
  {
   "cell_type": "code",
   "execution_count": null,
   "metadata": {},
   "outputs": [],
   "source": [
    "? np.arange"
   ]
  },
  {
   "cell_type": "code",
   "execution_count": null,
   "metadata": {
    "ExecuteTime": {
     "end_time": "2018-06-20T12:26:08.828051Z",
     "start_time": "2018-06-20T12:26:08.623440Z"
    }
   },
   "outputs": [],
   "source": [
    "import math\n",
    "\n",
    "# Função que queremos integrar\n",
    "def h(t):\n",
    "    return math.exp(math.cos(-2 * t * math.pi)) + 3.2\n",
    "\n",
    "def trap(f,x0,xf,n):\n",
    "    dx = (xf-x0)/(n-1)\n",
    "    soma = 0.0\n",
    "    for i in range(n):\n",
    "        soma = soma + f(x0+i*dx) + f(x0+(i+1)*dx)\n",
    "    soma = soma * dx *0.5\n",
    "    return soma\n",
    "\n",
    "res = trap(h,-2,2,100001)\n",
    "print('quad = 17.864264 enquanto trapezio = ', res)"
   ]
  },
  {
   "cell_type": "code",
   "execution_count": null,
   "metadata": {
    "ExecuteTime": {
     "end_time": "2018-06-18T21:14:03.464908Z",
     "start_time": "2018-06-18T21:13:49.895339Z"
    }
   },
   "outputs": [],
   "source": [
    "res = trap(h,-2,-1,100001)\n",
    "res += trap(h,-1,0,100001)\n",
    "res += trap(h,0,1,100001)\n",
    "res += trap(h,1,2,100001)\n",
    "print('quad = 17.864264 enquanto trapezio = ', res)\n",
    "res = trap(h,-2,2,10000001)\n",
    "print('quad = 17.864264 enquanto trapezio = ', res)"
   ]
  },
  {
   "cell_type": "markdown",
   "metadata": {},
   "source": [
    "### Exercício: integrar uma função\n",
    "\n",
    "1. Usando a função `quad` do scipy, escreva um programa que resolva numericamente a seguinte integral: $I = \\int_0^1 \\cos(2\\pi x) dx $.\n",
    "\n",
    "2. Encontre a integral analítica e compare-a com a solução numérica.\n",
    "\n",
    "3. Por que é importante ter uma estimativa da precisão (ou do erro) da integral numérica?\n"
   ]
  },
  {
   "cell_type": "markdown",
   "metadata": {},
   "source": [
    "### Exercício: faça o gráfico antes de integrar\n",
    "\n",
    "É uma boa prática fazer um gráfico da função que está sendo integrada para verificar se ela é \"bem comportada\" antes de tentar fazer a integração numérica. Singularidades (ou seja, valores de $x$ onde o $f(x)$ tende para menos ou mais infinito) ou outro comportamento irregular (como $f(x)= \\sin(\\frac{1}{x})$) próximo de $x=0$ são difíceis de manusear numericamente.\n",
    "\n",
    "1. Escreva uma função com o nome `plotquad` que tem os mesmos argumentos que o comando `quad` (isto é, $f$, $a$ e $b$) e que\n",
    "- (i) cria um gráfico do integrando $f(x)$ no intervalo de integração e\n",
    "- (ii) calcula o valor da integral numericamente usando a função `quad`. Os valores de retorno devem ser como para a função `quad`."
   ]
  },
  {
   "cell_type": "markdown",
   "metadata": {},
   "source": [
    "## Resolvendo equações diferenciais ordinárias\n",
    "\n",
    "\n",
    "Para resolver uma equação diferencial ordinária do tipo\n",
    "$$\\frac{\\mathrm{d}y}{\\mathrm{d}t} = f(y,t)$$\n",
    "\n",
    "para um dado $y(t_0) = y_0 $, podemos usar a função `odeint` do `scipy`. Aqui está um programa de exemplo (auto explicativo) (`useodeint.py`) para encontrar a solução"
   ]
  },
  {
   "cell_type": "code",
   "execution_count": 12,
   "metadata": {
    "ExecuteTime": {
     "end_time": "2019-08-15T14:06:50.237724Z",
     "start_time": "2019-08-15T14:06:49.945579Z"
    }
   },
   "outputs": [
    {
     "data": {
      "image/png": "[encoded data removed]",
      "text/plain": [
       "<Figure size 720x432 with 1 Axes>"
      ]
     },
     "metadata": {
      "needs_background": "light"
     },
     "output_type": "display_data"
    }
   ],
   "source": [
    "%matplotlib inline\n",
    "from scipy.integrate import odeint\n",
    "import numpy as np\n",
    "import pylab          # Para fazer o gráfico dos resultado\n",
    "\n",
    "\n",
    "def f(y, t):\n",
    "    \"\"\"Essa é o lado direito (rhs) da EDO a ser integrada, isto é, dy/dt=f(y,t)\"\"\"\n",
    "    return -2 * y * t\n",
    "\n",
    "y0 = 1                # valor inicial\n",
    "t0 = 0.0              # limites de integração inferior para t\n",
    "tf = 2.0              # limites de integração superior para t\n",
    "dt = 0.01             # passo da discretização\n",
    "\n",
    "t = np.arange(t0, tf, dt)  # valor de t para o qual a solução\n",
    "                           #  y(t) foi requerida\n",
    "                          \n",
    "y = odeint(f, y0, t)  # cálculo atual de y(t)\n",
    "\n",
    "# Define as dimensões do gráfico\n",
    "largura = 10  # Largura da figura\n",
    "altura  =  6  # Altura da figura\n",
    "pylab.figure(figsize =(largura, altura))     # Define o tamanho do gráfico\n",
    "# Faz os gráficos dos resultados\n",
    "pylab.plot(t, y)\n",
    "pylab.xlabel('t'); \n",
    "pylab.ylabel('y(t)')\n",
    "pylab.grid()"
   ]
  },
  {
   "cell_type": "markdown",
   "metadata": {},
   "source": [
    "O comando `odeint` tem um número de parâmetros opcionais para alterar a tolerância padrão do erro da integração (e para acionar a produção de uma saída de depuração extra). Use o comando de ajuda para explorar estes:"
   ]
  },
  {
   "cell_type": "markdown",
   "metadata": {
    "collapsed": true
   },
   "source": [
    "```python\n",
    "help(scipy.integrate.odeint)\n",
    "```\n",
    "\n",
    "mostrará:\n",
    "\n",
    "```\n",
    "Help on function odeint in module scipy.integrate.odepack:\n",
    "\n",
    "odeint(func, y0, t, args=(), Dfun=None, col_deriv=0, full_output=0, ml=None, mu=None, rtol=None, atol=None, tcrit=None, h0=0.0, hmax=0.0, hmin=0.0, ixpr=0, mxstep=0, mxhnil=0, mxordn=12, mxords=5, printmessg=0)\n",
    "    Integrate a system of ordinary differential equations.\n",
    "    \n",
    "    Solve a system of ordinary differential equations using lsoda from the\n",
    "    FORTRAN library odepack.\n",
    "    \n",
    "    Solves the initial value problem for stiff or non-stiff systems\n",
    "    of first order ode-s::\n",
    "    \n",
    "        dy/dt = func(y, t0, ...)\n",
    "    \n",
    "    where y can be a vector.\n",
    "    \n",
    "    *Note*: The first two arguments of ``func(y, t0, ...)`` are in the\n",
    "    opposite order of the arguments in the system definition function used\n",
    "    by the `scipy.integrate.ode` class.\n",
    "    \n",
    "    Parameters\n",
    "    ----------\n",
    "    func : callable(y, t0, ...)\n",
    "        Computes the derivative of y at t0.\n",
    "    y0 : array\n",
    "        Initial condition on y (can be a vector).\n",
    "    t : array\n",
    "        A sequence of time points for which to solve for y.  The initial\n",
    "        value point should be the first element of this sequence.\n",
    "    args : tuple, optional\n",
    "        Extra arguments to pass to function.\n",
    "    Dfun : callable(y, t0, ...)\n",
    "        Gradient (Jacobian) of `func`.\n",
    "    col_deriv : bool, optional\n",
    "        True if `Dfun` defines derivatives down columns (faster),\n",
    "        otherwise `Dfun` should define derivatives across rows.\n",
    "    full_output : bool, optional\n",
    "        True if to return a dictionary of optional outputs as the second output\n",
    "    printmessg : bool, optional\n",
    "        Whether to print the convergence message\n",
    "    \n",
    "    Returns\n",
    "    -------\n",
    "    y : array, shape (len(t), len(y0))\n",
    "        Array containing the value of y for each desired time in t,\n",
    "        with the initial value `y0` in the first row.\n",
    "    infodict : dict, only returned if full_output == True\n",
    "        Dictionary containing additional output information\n",
    "    \n",
    "        =======  ============================================================\n",
    "        key      meaning\n",
    "        =======  ============================================================\n",
    "        'hu'     vector of step sizes successfully used for each time step.\n",
    "        'tcur'   vector with the value of t reached for each time step.\n",
    "                 (will always be at least as large as the input times).\n",
    "        'tolsf'  vector of tolerance scale factors, greater than 1.0,\n",
    "                 computed when a request for too much accuracy was detected.\n",
    "        'tsw'    value of t at the time of the last method switch\n",
    "                 (given for each time step)\n",
    "        'nst'    cumulative number of time steps\n",
    "        'nfe'    cumulative number of function evaluations for each time step\n",
    "        'nje'    cumulative number of jacobian evaluations for each time step\n",
    "        'nqu'    a vector of method orders for each successful step.\n",
    "        'imxer'  index of the component of largest magnitude in the\n",
    "                 weighted local error vector (e / ewt) on an error return, -1\n",
    "                 otherwise.\n",
    "        'lenrw'  the length of the double work array required.\n",
    "        'leniw'  the length of integer work array required.\n",
    "        'mused'  a vector of method indicators for each successful time step:\n",
    "                 1: adams (nonstiff), 2: bdf (stiff)\n",
    "        =======  ============================================================\n",
    "    \n",
    "    Other Parameters\n",
    "    ----------------\n",
    "    ml, mu : int, optional\n",
    "        If either of these are not None or non-negative, then the\n",
    "        Jacobian is assumed to be banded.  These give the number of\n",
    "        lower and upper non-zero diagonals in this banded matrix.\n",
    "        For the banded case, `Dfun` should return a matrix whose\n",
    "        rows contain the non-zero bands (starting with the lowest diagonal).\n",
    "        Thus, the return matrix `jac` from `Dfun` should have shape\n",
    "        ``(ml + mu + 1, len(y0))`` when ``ml >=0`` or ``mu >=0``.\n",
    "        The data in `jac` must be stored such that ``jac[i - j + mu, j]``\n",
    "        holds the derivative of the `i`th equation with respect to the `j`th\n",
    "        state variable.  If `col_deriv` is True, the transpose of this\n",
    "        `jac` must be returned.\n",
    "    rtol, atol : float, optional\n",
    "        The input parameters `rtol` and `atol` determine the error\n",
    "        control performed by the solver.  The solver will control the\n",
    "        vector, e, of estimated local errors in y, according to an\n",
    "        inequality of the form ``max-norm of (e / ewt) <= 1``,\n",
    "        where ewt is a vector of positive error weights computed as\n",
    "        ``ewt = rtol * abs(y) + atol``.\n",
    "        rtol and atol can be either vectors the same length as y or scalars.\n",
    "        Defaults to 1.49012e-8.\n",
    "    tcrit : ndarray, optional\n",
    "        Vector of critical points (e.g. singularities) where integration\n",
    "        care should be taken.\n",
    "    h0 : float, (0: solver-determined), optional\n",
    "        The step size to be attempted on the first step.\n",
    "    hmax : float, (0: solver-determined), optional\n",
    "        The maximum absolute step size allowed.\n",
    "    hmin : float, (0: solver-determined), optional\n",
    "        The minimum absolute step size allowed.\n",
    "    ixpr : bool, optional\n",
    "        Whether to generate extra printing at method switches.\n",
    "    mxstep : int, (0: solver-determined), optional\n",
    "        Maximum number of (internally defined) steps allowed for each\n",
    "        integration point in t.\n",
    "    mxhnil : int, (0: solver-determined), optional\n",
    "        Maximum number of messages printed.\n",
    "    mxordn : int, (0: solver-determined), optional\n",
    "        Maximum order to be allowed for the non-stiff (Adams) method.\n",
    "    mxords : int, (0: solver-determined), optional\n",
    "        Maximum order to be allowed for the stiff (BDF) method.\n",
    "    \n",
    "    See Also\n",
    "    --------\n",
    "    ode : a more object-oriented integrator based on VODE.\n",
    "    quad : for finding the area under a curve.\n",
    "    \n",
    "    Examples\n",
    "    --------\n",
    "    The second order differential equation for the angle `theta` of a\n",
    "    pendulum acted on by gravity with friction can be written::\n",
    "    \n",
    "        theta''(t) + b*theta'(t) + c*sin(theta(t)) = 0\n",
    "    \n",
    "    where `b` and `c` are positive constants, and a prime (') denotes a\n",
    "    derivative.  To solve this equation with `odeint`, we must first convert\n",
    "    it to a system of first order equations.  By defining the angular\n",
    "    velocity ``omega(t) = theta'(t)``, we obtain the system::\n",
    "    \n",
    "        theta'(t) = omega(t)\n",
    "        omega'(t) = -b*omega(t) - c*sin(theta(t))\n",
    "    \n",
    "    Let `y` be the vector [`theta`, `omega`].  We implement this system\n",
    "    in python as:\n",
    "    \n",
    "    >>> def pend(y, t, b, c):\n",
    "    ...     theta, omega = y\n",
    "    ...     dydt = [omega, -b*omega - c*np.sin(theta)]\n",
    "    ...     return dydt\n",
    "    ...\n",
    "    \n",
    "    We assume the constants are `b` = 0.25 and `c` = 5.0:\n",
    "    \n",
    "    >>> b = 0.25\n",
    "    >>> c = 5.0\n",
    "    \n",
    "    For initial conditions, we assume the pendulum is nearly vertical\n",
    "    with `theta(0)` = `pi` - 0.1, and it initially at rest, so\n",
    "    `omega(0)` = 0.  Then the vector of initial conditions is\n",
    "    \n",
    "    >>> y0 = [np.pi - 0.1, 0.0]\n",
    "    \n",
    "    We generate a solution 101 evenly spaced samples in the interval\n",
    "    0 <= `t` <= 10.  So our array of times is:\n",
    "    \n",
    "    >>> t = np.linspace(0, 10, 101)\n",
    "    \n",
    "    Call `odeint` to generate the solution.  To pass the parameters\n",
    "    `b` and `c` to `pend`, we give them to `odeint` using the `args`\n",
    "    argument.\n",
    "    \n",
    "    >>> from scipy.integrate import odeint\n",
    "    >>> sol = odeint(pend, y0, t, args=(b, c))\n",
    "    \n",
    "    The solution is an array with shape (101, 2).  The first column\n",
    "    is `theta(t)`, and the second is `omega(t)`.  The following code\n",
    "    plots both components.\n",
    "    \n",
    "    >>> import matplotlib.pyplot as plt\n",
    "    >>> plt.plot(t, sol[:, 0], 'b', label='theta(t)')\n",
    "    >>> plt.plot(t, sol[:, 1], 'g', label='omega(t)')\n",
    "    >>> plt.legend(loc='best')\n",
    "    >>> plt.xlabel('t')\n",
    "    >>> plt.grid()\n",
    "    >>> plt.show()\n",
    "\n",
    "```"
   ]
  },
  {
   "cell_type": "code",
   "execution_count": 13,
   "metadata": {
    "ExecuteTime": {
     "end_time": "2019-08-15T14:07:47.016734Z",
     "start_time": "2019-08-15T14:07:46.730223Z"
    }
   },
   "outputs": [
    {
     "data": {
      "image/png": "[encoded data removed]",
      "text/plain": [
       "<Figure size 720x432 with 1 Axes>"
      ]
     },
     "metadata": {
      "needs_background": "light"
     },
     "output_type": "display_data"
    }
   ],
   "source": [
    "import matplotlib.pyplot as plt\n",
    "import numpy as np\n",
    "import scipy as sp\n",
    "import scipy.integrate\n",
    "\n",
    "t0   = 0.0              # limites de integração inferior para t\n",
    "tmax = 10.0             # Valor máximo de t\n",
    "n   = 1000              # Número de pontos\n",
    "\n",
    "x0 = 0.8\n",
    "\n",
    "def a(t):\n",
    "    if t < tmax / 2.0:\n",
    "        return ((tmax / 2.0) - t) / (tmax / 2.0)\n",
    "    else:\n",
    "        return 1.0\n",
    "\n",
    "def func(x, t, a):\n",
    "    return - (x - a(t))\n",
    "\n",
    "t = np.linspace(t0, tmax, n) # valor de t para a solução\n",
    "\n",
    "args = (a,)\n",
    "y = sp.integrate.odeint(func, x0, t, args)\n",
    "\n",
    "\n",
    "# Define as dimensões do gráfico\n",
    "largura = 10  # Largura da figura\n",
    "altura  =  6  # Altura da figura\n",
    "fig=plt.figure(figsize =(largura, altura))     # Define o tamanho do gráfico\n",
    "# Faz os gráficos dos resultados\n",
    "ax = fig.add_subplot(111)\n",
    "h1, = ax.plot(t, y)\n",
    "h2, = ax.plot(t, [a(s) for s in t])\n",
    "ax.legend([h1, h2], [\"y\", \"a\"])\n",
    "ax.set_xlabel(\"t\")\n",
    "ax.grid()\n",
    "plt.show()"
   ]
  },
  {
   "cell_type": "markdown",
   "metadata": {},
   "source": [
    "### Exercícios: usando `odeint`\n",
    "\n",
    "1. Abra um novo arquivo com o nome `testodeint.py` em um editor de texto.\n",
    "\n",
    "2. Escreva um programa que cálcula a solução *y*(*t*) desta EDO usando o algoritmo `odeint`:\n",
    "     $$\\frac{\\mathrm{d}y}{\\mathrm{d}t} =  -\\exp(-t)(10\\sin(10t)+\\cos(10t))$$\n",
    "      de $t=0$ a $t=10$. O valor inicial é $y(0)=1$.\n",
    "\n",
    "3. Você deve exibir a solução graficamente nos pontos $t=0$, $t= 0.01$, $t=0.02$, ..., $t=9.99$, $t=10$.\n",
    "\n",
    "4. Resolva a EDO do oscilador harmônico amortecido e forçado:\n",
    "\n",
    "$$ \\ddot{y}+2 \\beta \\dot{y} + \\omega_0^2 y = f_0 \\cos(\\omega t) $$\n",
    "\n",
    "Para resolver o sistema transforme essa EDO de segunda ordem em duas EDOs acopladad de  primeira ordem:\n",
    "\n",
    "$$ u_1 = y, \\qquad u_2 = \\dot{y} = u_1 $$\n",
    "\n",
    "logo obtemos o seguinte sistema de equações:\n",
    "\n",
    "\\begin{align*}\n",
    "\\frac{du_1}{dt} & = u_2 \\\\\n",
    "\\frac{du_2}{dt} & = f_0 \\cos(\\omega t) - \\omega_0^2 u_1 - 2 \\beta u_2\n",
    "\\end{align*}\n",
    "\n",
    "Veja o exemplo implementado no [blog do Nathan Typanski](https://nathantypanski.com/blog/2014-08-23-ode-solver-py.html) e na pagina de [Modelling Dynamical Systems](http://www.gribblelab.org/compneuro/2_Modelling_Dynamical_Systems.html)\n",
    "\n",
    "Sugestão: uma parte da solução $y(t)$ é mostrada na figura abaixo.\n",
    "\n",
    "<img src=\"scipy/code/odeintsolution8to10.png\" alt=\"image\" style=\"width:100.0%\" />"
   ]
  },
  {
   "cell_type": "code",
   "execution_count": 14,
   "metadata": {
    "ExecuteTime": {
     "end_time": "2019-08-15T14:10:25.598059Z",
     "start_time": "2019-08-15T14:10:25.350237Z"
    }
   },
   "outputs": [
    {
     "data": {
      "image/png": "[encoded data removed]",
      "text/plain": [
       "<Figure size 720x432 with 1 Axes>"
      ]
     },
     "metadata": {
      "needs_background": "light"
     },
     "output_type": "display_data"
    }
   ],
   "source": [
    "from scipy.integrate import odeint\n",
    "from numpy import arange\n",
    "import pylab as plt\n",
    "\n",
    "f0 = 1.0\n",
    "w  = 1.6\n",
    "B  = 0.4\n",
    "w0 = 0.8\n",
    "\n",
    "def oheq(y, t):\n",
    "    u1, u2 = y\n",
    "    dydt = [u2, f0 * np.cos(w*t) - 2*B*u2 -w0*w0*u1 ]\n",
    "    return dydt\n",
    "\n",
    "largura = 10  # Largura da figura\n",
    "altura  =  6  # Altura da figura\n",
    "plt.figure(figsize =(largura, altura))     # Define o tamanho do gráfico\n",
    "\n",
    "t0 = 0.0              # limites de integração inferior para t\n",
    "tf = 20.0             # limites de integração superior para t\n",
    "dt = 0.05             # passo da discretização\n",
    "\n",
    "t = arange(t0, tf, dt)  # valor de t para o qual a solução\n",
    "\n",
    "init_state = [1, 1]\n",
    "state = odeint(oheq, init_state, t)\n",
    "\n",
    "plt.xlabel('tempo')\n",
    "plt.ylabel('Amplitude')\n",
    "plt.grid(b='on',axis='both')\n",
    "plt.plot(t, state[:, 0], 'r-', alpha=0.9, lw=2)\n",
    "plt.plot(t, state[:, 1], 'b-', alpha=0.9, lw=2)\n",
    "plt.show()"
   ]
  },
  {
   "cell_type": "markdown",
   "metadata": {},
   "source": [
    "## Sistemas de EDOs: Modelo presa-predator"
   ]
  },
  {
   "cell_type": "markdown",
   "metadata": {},
   "source": [
    "Muitas vezes não há solução analítica para sistemas com dinâmicas não-lineares, interagindo. Podemos, entretanto, examinar a dinâmica usando métodos numéricos. Considere o sistema de equações presa-predador, onde há peixes (x) e barcos de pesca (y), o qual é modelado pelo [seguinte sistema](http://www.danham.me/r/2015/10/29/differential-eq.html):\n",
    "\n",
    "\\begin{align*}\n",
    "\\frac{dx}{dt} &= x(\\alpha - \\beta y - x) \\\\\n",
    "\\frac{dy}{dt} &= -y(\\gamma - \\sigma x)\n",
    "\\end{align*}\n",
    "\n",
    "Para resolver o sistema de equações diferenciais ordinárias acima será usada a função odeint incorporada do SciPy, que se baseia no *lsoda* da biblioteca odepack do FORTRAN. Primeiro, definimos uma função que possa ser chamada para calcular as derivadas no tempo para um dado estado, indexado pelo período de tempo. Também serão carregadas as bibliotecas que usadas mais tarde para animar os resultados."
   ]
  },
  {
   "cell_type": "code",
   "execution_count": 15,
   "metadata": {
    "ExecuteTime": {
     "end_time": "2019-08-15T14:11:33.452696Z",
     "start_time": "2019-08-15T14:11:33.447895Z"
    }
   },
   "outputs": [],
   "source": [
    "%matplotlib inline"
   ]
  },
  {
   "cell_type": "code",
   "execution_count": 16,
   "metadata": {
    "ExecuteTime": {
     "end_time": "2019-08-15T14:13:54.853960Z",
     "start_time": "2019-08-15T14:13:53.338048Z"
    }
   },
   "outputs": [],
   "source": [
    "import matplotlib.animation as animation\n",
    "from IPython.display import HTML\n",
    "from scipy.integrate import odeint\n",
    "from numpy import arange\n",
    "import pylab as plt\n",
    "\n",
    "alpha = 2.0\n",
    "beta  = 1.0\n",
    "sigma = 1.5\n",
    "gamma = 1.0\n",
    "\n",
    "def BarcosdePesca(estado, t):\n",
    "    peixe, barco = estado\n",
    "    d_peixe = peixe * (alpha - beta * barco - peixe)\n",
    "    d_barco = -barco * (gamma - sigma * peixe)\n",
    "    return [d_peixe, d_barco]"
   ]
  },
  {
   "cell_type": "markdown",
   "metadata": {},
   "source": [
    "Então, definimos as condições do espaço de estados inicial, de modo que possamos resolver o sistema de equações lineares. O resultado é animado abaixo. "
   ]
  },
  {
   "cell_type": "code",
   "execution_count": 17,
   "metadata": {
    "ExecuteTime": {
     "end_time": "2019-08-15T14:13:56.837566Z",
     "start_time": "2019-08-15T14:13:56.602675Z"
    }
   },
   "outputs": [
    {
     "data": {
      "image/png": "[encoded data removed]",
      "text/plain": [
       "<Figure size 720x432 with 1 Axes>"
      ]
     },
     "metadata": {
      "needs_background": "light"
     },
     "output_type": "display_data"
    }
   ],
   "source": [
    "t0 = 0.0              # limites de integração inferior para t\n",
    "tf = 1000.0           # limites de integração superior para t\n",
    "dt = 0.1             # passo da discretização\n",
    "\n",
    "t = arange(t0, tf, dt)  # valor de t para o qual a solução\n",
    "\n",
    "estado_inicial = [1, 1]\n",
    "estado = odeint(BarcosdePesca, estado_inicial, t)\n",
    "\n",
    "largura = 10  # Largura da figura\n",
    "altura  =  6  # Altura da figura\n",
    "fig = plt.figure(figsize =(largura, altura))     # Define o tamanho do gráfico\n",
    "plt.xlabel('Número de peixes')\n",
    "plt.ylabel('Número de barcos')\n",
    "plt.plot(estado[:, 0], estado[:, 1], 'b-', lw=2, alpha=0.6)\n",
    "\n",
    "def animate(i):\n",
    "    plt.plot(estado[0:i, 0], estado[0:i, 1], 'b-',lw=2)\n",
    "\n",
    "ani = animation.FuncAnimation(fig, animate, frames=120, interval=60, repeat=False)\n",
    "\n",
    "\n",
    "ani\n",
    "plt.show()"
   ]
  },
  {
   "cell_type": "code",
   "execution_count": 18,
   "metadata": {
    "ExecuteTime": {
     "end_time": "2019-08-15T14:15:15.628133Z",
     "start_time": "2019-08-15T14:15:09.348118Z"
    }
   },
   "outputs": [
    {
     "data": {
      "text/html": [
       "<video width=\"720\" height=\"432\" controls autoplay>\n",
       "  <source type=\"video/mp4\" src=\"data:video/mp4;base64,AAAAHGZ0eXBNNFYgAAACAGlzb21pc28yYXZjMQAAAAhmcmVlAAAw0m1kYXQAAAKuBgX//6rcRem9\n",
       "5tlIt5Ys2CDZI+7veDI2NCAtIGNvcmUgMTUyIHIyODU0IGU5YTU5MDMgLSBILjI2NC9NUEVHLTQg\n",
       "QVZDIGNvZGVjIC0gQ29weWxlZnQgMjAwMy0yMDE3IC0gaHR0cDovL3d3dy52aWRlb2xhbi5vcmcv\n",
       "eDI2NC5odG1sIC0gb3B0aW9uczogY2FiYWM9MSByZWY9MyBkZWJsb2NrPTE6MDowIGFuYWx5c2U9\n",
       "MHgzOjB4MTEzIG1lPWhleCBzdWJtZT03IHBzeT0xIHBzeV9yZD0xLjAwOjAuMDAgbWl4ZWRfcmVm\n",
       "PTEgbWVfcmFuZ2U9MTYgY2hyb21hX21lPTEgdHJlbGxpcz0xIDh4OGRjdD0xIGNxbT0wIGRlYWR6\n",
       "b25lPTIxLDExIGZhc3RfcHNraXA9MSBjaHJvbWFfcXBfb2Zmc2V0PS0yIHRocmVhZHM9NiBsb29r\n",
       "YWhlYWRfdGhyZWFkcz0xIHNsaWNlZF90aHJlYWRzPTAgbnI9MCBkZWNpbWF0ZT0xIGludGVybGFj\n",
       "ZWQ9MCBibHVyYXlfY29tcGF0PTAgY29uc3RyYWluZWRfaW50cmE9MCBiZnJhbWVzPTMgYl9weXJh\n",
       "bWlkPTIgYl9hZGFwdD0xIGJfYmlhcz0wIGRpcmVjdD0xIHdlaWdodGI9MSBvcGVuX2dvcD0wIHdl\n",
       "aWdodHA9MiBrZXlpbnQ9MjUwIGtleWludF9taW49MTYgc2NlbmVjdXQ9NDAgaW50cmFfcmVmcmVz\n",
       "aD0wIHJjX2xvb2thaGVhZD00MCByYz1jcmYgbWJ0cmVlPTEgY3JmPTIzLjAgcWNvbXA9MC42MCBx\n",
       "cG1pbj0wIHFwbWF4PTY5IHFwc3RlcD00IGlwX3JhdGlvPTEuNDAgYXE9MToxLjAwAIAAACCkZYiE\n",
       "AD///vdonwKbWkN6gOSVxSXbT4H/q2dwfI/pAwAAAwAAAwAAAwAj/AuQLzeVYYFgAAADADPgCXv5\n",
       "7fSHE4AGsk9S9h8hWtLo/dN/NJ6qql5Zf/60AfuNz/BeFkAVJ/YyTYehJm8WBat6K9XB4XMkNic+\n",
       "dJ2Do/sCuVpzJgkNNzQuAF18ga3q9Mw2c41hi6F6fNuDG02lHmq86M3tREECxVIiTW5YxSxEI1iv\n",
       "n0h5v+0vVnBMKCFkdH+gqLGXS8Cd7ZAErx0UafLYdpsCDfyScmPItkPkkpQ4IGWb2dQ33XerwGyJ\n",
       "0Vh8opGd86Oe/5YqOaXR1E+YHcTxtQIBRy/kLEqjHZt+cf4rJzvtFDwIDkRkJWTPbbLx4uj6VTlH\n",
       "L4vF/0pV7HITmnUxMtTHwmQzhN3YZGuPa6nqj6NO1wwZF93AjorWjksWn8+HAr+di70kfmOnue+Y\n",
       "GZCvTmOEDodNu8AVb13o+FVEWypkYribHTTGiVaVu5gbFb4OYFaN7kNiSxyx5fRXG6qIAGOklAB+\n",
       "DhSP29R8s8YF/QPobxJJhlR8eFntgtg3s5RXsJNvtvL6CSL/J9fUudkSnJdE4oYRjZ/oZBIi//eD\n",
       "yQ/EVZ1CtCHSij0wncr44IQiJnq2TZPKdM+A/nCNsg2OwpfJWqYs0WBuUsNLeoOgkbTVsUdF9Iyc\n",
       "VvEhBMK9T0jJ+BGXeeMDlbql4t3VFt4AwkVSRW14QT5CvU9tMg/l0l+yee4AluX0tRK9i22BO+0W\n",
       "hqlZtFr9rpdBxHRVY/G9Lz7EHpkMgt74+dDMnFgJ/vONvff27E832AXahmp+Dr6Q5iAYJuG/g6ER\n",
       "xhO44mVuuJr+0Br69/gVH2ECeizExVs2TekFsIRyaE51YAro55z/5RaReW65kY1okQL+dqAFNrC2\n",
       "xqrr+30MGrBF4kDPtinm1zWI1Dsii/g9LsdfgV/2UlXqE45QdpYcbwsleC/0pi+qQYRUMh8bzmWJ\n",
       "KsdO6ri7zUsBDDjyjh8gcymsU7PdHDRTmlaRgstJFNIKl/1QFa2FviVvhdwnhjocj84AAAwfwNWS\n",
       "4xx10xWLfE71Y0/yO0Q2q+caw8lIiemmCaZojBXZ77gmhRdh3PXmioWHGY4N0vgBoD01YLUFUFxu\n",
       "YqiIytc3y69INawErcw/+zjldpfhNuZdc8Svmwqjmj70mVtKDL7+08CxliC7ZhuQTd2Z5L+00WxI\n",
       "5WjmLk7jF35hK2eduzj8iBgPGEAzDaCHJXvMEd+nzrlE5uoc1KzjHsyeV3p47QwL44PgLJJHJ8X8\n",
       "W1hJt/2w/x6Yb4OiPmE3KZLrj5mUMAeHDsGHrJ6l1h1DlfjRR0TKxNRxWsgGK6D9QXn9QAsc6NDC\n",
       "GGMQRMA+MWZyKOX64j8741xr7T/fYTItUwNKVyV4deBKVtfaRNbJ5OzsFrisEkbm/h9EWaRMPfFY\n",
       "mlLr24lB1zW5oNt89zc6GRw52hLlwiF0BN62LxTBcCVwSh4SoIgZNAv+pyalnBdgUMSa33MdZJ2q\n",
       "qaobo5sjRes39OVdM1/u8HPBVzhm9fLSow0kki+zWdtF9F578lpjwrbRFgmMkH5GRDZ2DSe7nhbj\n",
       "UXwHLL2o5j0zzVr9B0h5wgUhYcj0iGAgpLyiUuDZ5q8MrnDWNyXsEJJKLw7LtnntPYBnyC14zgA1\n",
       "cxCqVzzFBGBB/IpoX6DRrmdYbimv/vf43XPkUGrizW5J8dzHLUOT/QHeQHalzoetsMGp2Z0MZquG\n",
       "plrvwt5K9bTMlOhF4SNqLJKWi5QWwUX39gu4fN39Lh++8oqfvua7zlCGEyNqCHKU9ua4xVZ/99oB\n",
       "wNhpJPOd7RwsWb0wRYLT1cQcu4aEBdjFPd4+EFH6mV5wFFXadFPkL0jfVSwHKNwlRteky56rS2Em\n",
       "LC6orcnQnYiHsZtiwSJeW4Num1T/tl20udjhpaXsTu2I3tCad5KZligQOvEGkBBQ6/BLXdS4Re1Q\n",
       "OseofqReBGPJ8pNd6kRpOu91IjSc5ndo+pydvo+/iUOU+ogGOgxtBXWOZW/0GUAV8QTV/giZLZyp\n",
       "j7vv4/UO4fGoLWp0FLkHKdb8pp0yk8jqaYjEFvJ3Ue4FfX68LUoRNSUG6yJ8Bmj31QghchXZxmkC\n",
       "0c/A4GWBnsHHJaIPWVWUvwt4/+DaEuxLb1POAMBJ5/mhRnNWJ7irBMlCykgtkolQ3/xbU2fHcch/\n",
       "FPgmMMiuu+Zas6R5vCUtlzQPSAGO0dB3Iu9Npdq89kTOKCKyvr6EtsK9rlQalc667T5fT/UF6SWc\n",
       "NVvLaIYzTwNggnIYDx0lgu+uqjUyGERJcPscw9SXt3k7OcCnXlfzcqSpixvb9Hhrl7CkWCTiH3fK\n",
       "JLLOIgPxUL4DkHNR1G6LVMzBAB8D3mGFHQCeMinFGqcoQvb+XJpYyAsjnag8OnwqeourLz9QqZ50\n",
       "CZpjs1J5zgTdXLUXCL/t16XgqVdftSCg0Q9OCyTQAtPi5OJDyuwHJoYLVBtIz24Yc/fg6Ba+XKZ0\n",
       "0Kc7g4tbrt9oGLa3cNkycFewZ4PDGrEI8M7IWfsaS2lCv7yfUvz2qac4ANV/4+mWpCBYXBRd+zf+\n",
       "Uf3FovK80PvmGWIAUzAP/eDtJGuUoGCCX2B803COqAKk+qMTPt1jr8DJuiS+cwGkcT8No8p3EXLX\n",
       "zinoQz/bv2z3cC+DY97pAlkFLmGEhJ42OUTuL543cCHS1G95dNiWOpj8zn85VkcTX+W+k9VOnncJ\n",
       "oZhxetEiBvIXktMuvMgGPeQK9N14AYr/7Qa0xotyHoGvGuMSupvzs1KND4WvrXCRMEkv0qnGVrm3\n",
       "H9emSz7mbtI6UDqSXsbN62HRbTZwEiQk7zd/6SWrC0pfcu3kpnYLlDPEj81t9cHAyae+6eJa+MXl\n",
       "HFiCos9DF9WUuXE+Kqoakxc816BQd3mdqi9+ya4HJobPsTn1IHvOEb9z5U75kx5GPUG9mmd7enY5\n",
       "EIuAvxM0sRSVPcI92HX2nUN/7AFhqOBx45zl1/1bTRPFBQ4zwK9fvYH3VWJHl0Xz24hNGw4sEJBo\n",
       "gSnb6BZxk5Mk2Fx6oz+Wl2bmKdA0tU2dQ7TzdpcYeICuitYul9Ils7p80SbIDf/VCPsYd4uVzVTp\n",
       "es4LIOBLZBqsA1HKfIkkQxWh5TB2XiDBWqLpzKmG9m/Bg3Z0vynDjtkF1dHuyREu6p0W7lqZkdd1\n",
       "Iqob5cmDmuRdkaoCAPSOAR3SySevCdz1Wd+9+KeiUNDcAlAQWDiRchVlPDyE4P6IA018R/fW0ekA\n",
       "imuz6Nn2UT8N5rnOm3oM4bt8BD2cI7eCQpoEFKtkXbS2iAi6h4BY52WESDAE5TGcPHbUo7oBELon\n",
       "/KqAsNp57xQatLDhcZDhzSI/DlEk4yFD+9RkQkFsiBzMYADB3QaQoqSHjIQtBOwfq+BiV8u4T5Ub\n",
       "l1A29y7frdNwIo/sWx6CFzXdrZBAPewtDIAhOPFVmoyM159/46n9cFcG0yio2WSn7seLZJgKoIC1\n",
       "yFkFKVdy/BRRE5wvcB+AQTFONQNlFZp9UAhYsRXZ30KQSgNU1H8mjn26kLsF3W797LVNfAMzz1XZ\n",
       "C2TLd5efPg6JwE5yoFIiEBtPfCg/ntP1BpZs7b4ZFdJ0IGN1UAkkBaCq/4Tr/B6UipBWcOtM1y94\n",
       "WIoBO8hCP72G99R4uj87cc4bhTEeIqOA6cjiUnfftijzvohOlsb01C3gMouyko5IvIS2lGDUZsGK\n",
       "WW6mQHYFbeMnMVd+4EA1AsFQmR1S39dYBzpML5hsQ7y2SU2t3zU2mjCfUsI0HUqQkhxn3NYHNqf8\n",
       "+aG8v3wXh3kwd/4wOwdBrg45CBjzWPvUzV7HuQ+LEUzn4Kni8MkarZSA6JicIZM6feMF1Ar1VU8q\n",
       "fTYsf/elUrQlNGaAj0Jhsnv6JMhdSqhyCLd9lCseuBv6MN3greVGMAzUZqCiL+H0aW4jU6juFji9\n",
       "1otldmYCr620uO3zdFLB/uUghMvaDsknJEE5v/FYLcHiWAxqv3yQdf1fTmGjSIdDYroaPTv5RlJJ\n",
       "8qmFZKRBPZLoZ6zez2ygaO6tars8WphQ9Zcv9l3U6Zy93svjQy7C90WiKnlfyZmGUDgX8s3L+3m9\n",
       "dz2kuus6z6TfM3Sjk79HrmDFqjEFpA/VL30+RXVFM0z7hcsCwec7GVhngjhX8JEOEp9SFBU6n0gF\n",
       "9eVXdehWbUa+AYdrM5Vr9UD9ThAj7QRKMimJJU4p0lTXlC2PNt4mQbUsP1WwzM164wIICTq4h5EO\n",
       "QctCY5VqDnasGfBvfEok5rCoSmrQhwy/L5iRCKBk0j0fe3hfVEJEGOal5XwoZ5y2OTNFwrWME7as\n",
       "+C9SnGXZZZEh4tid+NxUhrjXkOTZWVmBdZ+Rk/Hx7SgdjgUeidStLYL5wuYSlOgd8vnbYiy6ik2U\n",
       "3gE7sKFJee3wjQjGvbJaRRPZ6gghx+QP7t8KBS5EbYok0wDXrRPYn4mNynZ4+IkpiFGltFPstN2v\n",
       "BDFdw+omnBzNUxfIsY0GJdbAO8OboSAlAhKowTDUM+vUsnLHp/NBjaK9Bv5iWrLtbw/0G8g7dc+q\n",
       "S5qE4uu+8jfkrF+UkMEEMw5RfzVbwLyQJ7F1W0SUR0Nv3oHGFl2AzEz6+nHk1mzCI9yPP0UMTkrs\n",
       "gz9py/SbwS2aDmTRLVB/xDZCs1WX9Ek7HdPEn/cS0YuahCMK15qzW578Xh/Nm/TjmjDCDGNc98cl\n",
       "cAt5wQ8223bRM4/3rk4wTnT5L6TFw2haX0XpzFHgN6p0xebWngPRQKBWGfnMjI8oIeAq/H5KkgfP\n",
       "AEl+F+C0ptG4Kq4+wxCvpmqwHQuPi/Mq7131NzdRdx6gJPO3AYuCHmKGmozWMISDNPj20ax59rAt\n",
       "VzW9iTYDUHHmaFnJMFRnGh/tUtLKn/tnNIuQtI+Wr1I6162vMx71p7oXmtqF9i7mYL6Nu3HDX/DT\n",
       "6iRE/HzhBoKxu9lOUVe2a4B7WpE+02zhxbesl/Bk/e66CRZD18NnQ17qyxxW0Axtz5luqrU3uhF0\n",
       "/GNbPZkiUJKpG5t7nbEzgunqR6pnklsi5b+EMA3+Ff17m7IwTHY9uN8mJNmO+DQQ2jysVrT80jxL\n",
       "mjOGFUXVkN2WfRiT4X1MyUcScKIuqwO0QxKyEwGNhEeS8dm4+BfZvcPyLarFar8mGDh5Kk6RFfQS\n",
       "3WemB9UxZKpu8xXHC93YNXHlfnn3/GwT5N4o/i5WaR45eNWnCG8l7QHNutsdPeenEwvJr9DJwTrk\n",
       "YdWfrI+tZ/5TZ8+cgpc6zNamlZqQKrPm9yFwKnCCBuDpJDyesLTjZVBgEAXmQNp/znmgWQeSmghK\n",
       "/QNlEvhyYE9EjvmYrji7JKuN/wmonQJ8l9nGAkLQv6Rd5h/pDdP6fIQuGZKMjDqkiQBT1R/PYXJN\n",
       "nx3BwPY7fDbK8p02S2YbzzoiPGuOx29KZ7GaRC+1jMrGjMYQqX/FTjV8IK2qSzzftWieFE2qL9kF\n",
       "ZLdWlTHyBzbVcj6nv/hGKPNpNg497A8WnnFP6DWF2jJP/5MtekaCdbu/4Y/923DBv5gC3qlNZpfr\n",
       "SlxyjRSAWg3AMDJ4EVk87cxGY9msHErBUo2bsBy40Mz4bRb6U9fVnZbwG8IPHBWMM4LNCnicZBWF\n",
       "4pzl1C4Vxj/rZfYZ4deEd4SV6HvegVGr7W26WYo8Hy50Soy8T2QDZ6B4jUhA+/jegRwMCrqrVe8h\n",
       "c3onicvNrxaamwqw96Gpn276Dygr3QrjNB4zBxX8TkRCAePI2i2KzLFGlMlXS5wuU0ZLMcli+6GI\n",
       "jkDvnRl3vQnktB4+GWdNRa2M4PTBGRQUXz6fVvgY4GXZPjbR/5ggnBANNz9IrmHG/VHtEhQJqnky\n",
       "3EpjWpN39gBFUG3MXivuYeO9AvSUSHnrk5jGLJI0WZvMUSjXcVviFJMqR3qHaOhCkMb1ky1Xnl4E\n",
       "hhi0pgR/x4nJYCSnET044qVvrHLSyauDRL51uzHCAssjNJzGI0pEEub257psiOKplHwY7/Kbh37Q\n",
       "8zIdrDVMsPAEHudyJ1sWS89gNpsSUXJPiq5x1CHulGOHWfV2Rp5lswOqRPs6cAJBLGtdKUYx2Coa\n",
       "cxSj4wyBvRzPfdCRl/S6GZGUgrA9xgCBv3RqCfP/AhjUTO+s3PE2YZz2bLm3NQ1vL0IMUihpG8Fn\n",
       "lKjCJIlrBD3pPdTfxLYGYwc+2xgaML8cCKyBkYgAPQWYJnH4iJMGgnflAXufVnhrvmCS4n089pS9\n",
       "a81ytK2uiGZAJjobSih5sOLiQCHeDX0MxMPBeL8qqXFZ0QDs2B1YLAwRjY6olNBlw6e0MHXRm9vL\n",
       "U1u5s4PiJyKEzIFYW1vJ9D23ErZkaU1MRimBtV3M7K8Twdh7M46dOXrFmPNfRj9diFZrLg313WHh\n",
       "FVf9mfBuyH9veMP885SyD/VItDlfI0bP/+SiRUdbUXwSqCHSZdfo7mR7WyluvIHnkcuyuq0Iq/NS\n",
       "Z1XFC4lEZPap4Y9IaNpYn9UuEeimxEJaxowdf+LX83eR43Ei5bacVVXJG2kDXTn67W3U23EWtd8v\n",
       "8wORDdYNaPvxTBfm3sE+plV04DTjwEWATXLRorPN2zEewNFen/I5nS0v/XLHufCo+8t9aigb6R5G\n",
       "QLuc7CS8N7uJSpf9ltOF6mpazaFQ4LVZ1AtR/vIVQhKX4zgXusf4kQX5rxwFAEu1f1h1jMtmqzqD\n",
       "D9i4xee2gOxt+Vfx1iJP2EuFct/N1axmMJ/RzFOPlNl5+qXYODX0raiahF39akxPzLCfihhny1GZ\n",
       "5g+xXblXrhd5xa908u8kf82wXi2+jB2itqYFBFoZzQyerSMcyWz7mO54vVQkyjT6a3XzD4L8zuSf\n",
       "et3mqUibeaffeUYNi6/nObADZ1Ib7DNBlXOJfGbzpUQpYpn7PPVtgdqud56zYg+EvJzV994lXThW\n",
       "E2B/TJi1SBDFV1xsZZRhCeRNeFlH8XSaCaqVRw6kpVgZ3O+Y8RSzhpU+5XtQT46Wv7MjnzZxTAVa\n",
       "14Yks2SaayffmX++ZQ7YkO4QCIAi66FpwEOEw2cTmC6lBjryQ0c5caqcV9FMUGsbSw0v7vH+s/gJ\n",
       "//+CGKaEv/+HcRK8if9f1/DcTFsEZ+mU1Z2XY7CQU3i5TAc3KhvRAFNJaCxRjvxKpxix4QTftzgT\n",
       "9i5T5/naCQvc51Zic+OpLYN+BtJTKtt5FMs2l+GOsncoDSUnNfl7nt66GsUblaJA0Bu9vtn0k3zW\n",
       "g3wuqn8JFupd8598P1M3ZAUMDMZ9DlnTSnerwWYgSuze1cIFaDJatKChgUGy4AzI7rfIcchP6o7S\n",
       "Z5vyiIAlqDScxjH66OonFTTKfDNweEu9Py4hXPCO1NOQzh71J+oGBNo3OJGE9UOvYK3RKjCCeEbX\n",
       "5Ej44UGKRT/vtAc3685/So3/8JUkVgJW+0rE1LnF11F7Hen2pqp/2dNGKfLcRicwb0ywJvVlkNLu\n",
       "BlU7tKUNAmXZEGxIzciSWmeYaQjGfSM8ww+nWf/6aizbtLI8jiuEOiwIct5Y5ijY6nQEPfyftEqZ\n",
       "2ve4Co652fZhjmjhQ//GKp+CPddE92Az+smikOgNQBhaH/q6nKnRPIhLJ3F2+iO8XvvKFnPqeAll\n",
       "D50m25OssvmAFDH9ik+zykuuw84saKBT0CAHXbQof6d8in9AtfQSVXNd2R60gN6tcV+A57PVbAAM\n",
       "54+wnuGCPGMblJzDoo8EBrsi+/+sKmzDPO7Ixl8/q8uCS0peuHdOVCUgJARoaYu6Z1eBVhU2wSUT\n",
       "uIOp8YOfELMDqXX375APB54+3wvwvCJYL0YeKrONSzJTGbIxhZoqR6EcaoTQnZfbG1n5rT+G+VOY\n",
       "gm1afANVbZBwn023Gscg21/3rOp3LU3IaKTJnfUGbdaY2ms2eWnI9Zj9YDJuFaryJUzYRF38gpBe\n",
       "RGkdRQB6+1EkqN/Dx8GQHfGRHy0uOiWJrM4ayBHLc7g3XdoKefLzzy1bub1gVVFwuOKWQ6l5K4ax\n",
       "QcCrAh+73x5ITKmWivQg9bzVVFq8b5BgFkniXpPu5Xwmb8ZwVWt865n4dcBsOMaacNsoUpyUqYSA\n",
       "RPhbpiixBwnoQ5qnYjPJRlqJnAm6XD6zEnjRTTZXbyYv7CTlGjB0mB1wvYeo7hDSc23UBwr8zIsO\n",
       "h3sRxMivkAABavnHTjtpNKUYL4wz8lW/5k2Iy4PdGat0Jb4GD29hs7bVgRXoBRaLUr4adfgydeJg\n",
       "nCvJ85rYr3TG9WxGY66Zr8+wjrNysIb08ZYIzruIRtPXFlj/+kOaRNzAy6fubTikIv+VK+90a9xk\n",
       "cMQja2p8F5MGY5AAD4EsgHKzuCXpIAQQCHpNZlPiPfG4IFDYBOZWuqK7lVHEd9Fn6OmXZ2OhFm0+\n",
       "JzLQX7IQnvz5sHekQ9J72zQRrMMncHiCxpQIobb6JmO78Q8GX59WyxOvHGDQjCGXfZCYnSfxkl20\n",
       "u8Ipk3H472/mwTDYcI8BhFzg+EXAukGQUAPdoiM9bEXhMu1R9sRPOBFMjjyBw1bY9/yfoF7T+Cpd\n",
       "T4cKUDfJuRc1UPuZn6vpju5YzczREXD56XLNHgHvC4iaWxKgX0yH95txRTHThJ72vw3NJtkDtDqz\n",
       "/U8BByzHodzk2xZBtqoELRP7XrYFq3bWUnfCwpO8ZjAcdrX9HzPQVjpKWSrhc5nnKDMEGQbx2oSQ\n",
       "e9P35B5hIJEBJeLGvh2PLn5m8pLy52J43bG+qtQJj+NvMfPiQPxWno5ywpdLMoceHLwO3xHYmKwA\n",
       "AJuJe/pmdk08L6UMqJhUUcPpMcJye43eAbfNQyY6fPpuZRGvI555VHdsnv1/WGbGivn5Kk8493gM\n",
       "UxD5L8uW3u0vQNXgJGOcUiVle6B+rG/bt4EkW3VfL8m4Au0rwm5sYq9Huwue7sAB8ojZf2Ut0Eva\n",
       "ANENUIlXBb+yH7VgfGu3cEOFoDIOXC/uyzq2E9JpdBALjKZxU8KUftvSddmf5incjd99wSAj/COZ\n",
       "0jPF3T4Y5BK1r3Hocatp37iPgAigi2l3/rzy6Guzj9Ae4oncjLn7l1dkzmgYuXM6j0qbLfH9ZxhC\n",
       "e8F6izC0XkFXtPdNRRQP6at+3zAySuD45+OS50kl4+5i+7NyKnj/UnU92/LfbnQk3+dfUFnXQ6yf\n",
       "112NcaDBG9uVFF/JRlApxinsAZnUl70SukCTORWC/3uuG65EBId6rHCsydiCoHJ0fBGs6+ILI1gv\n",
       "s6Ue87GvvfnM64MWv9lZCkfpoK/3yx8SH/hdSsuL+SLj0cLGq44zddxK/ptKisQAAC8L8GilmLow\n",
       "vpwVBeFK8Ti3ajBuFYHhdjzewdyj4Hakv3Un0/Ae9dM3t1gsFIWb+lF6L8E/TY4Mj2F0sjNTtiu0\n",
       "2SG0Q8Wvw1VTqfmqBbVBjQ6Fj3YbAcUEte8MFU/7NKo0czsvhYUu6zaHtyyDcKRAf6QW3WabTjd7\n",
       "L9uek/7n65Y/+kg5S02O1HCJOQJi+g9ek9V0pAfk5WWZqYSGW10x97aVM3Bd9QD6d7yTF6iYmXVd\n",
       "WKtiKD+XpzkApy8q+iM4TNbVoswQ819RXZQrilcFj0jRIqKNpHvWbp/eg/L/5weGFCkPOdGp/mAL\n",
       "nN8CGNG941CwgAAFlc9tsF/6ZdtRIGdbYjyVqnXyUshQlPaR1JQyzwOaf1X1Ud7Idqny3mBQBWwM\n",
       "kJSnTVZv4tBmF43LPSnq14OcWRQkib270TrtIToj/Au2sZnNueuioBTCv1SqBUpDCVRrduaQpj2t\n",
       "gUyakOkx9MYRL0js4WLuE2DPmtcLzjZsWNLOTEYRCyP9pA+7YON0f74S1bQ43g777aTxkj0o6z0D\n",
       "8+IFKmfgiHN0DA9TG8tWifELWsrnKetcqNu0i8sWQo9YfqUNVp/5gUGFwfszMgq1D4NctEd33+xh\n",
       "GsuJPKSYQPytf7NaG3EepT7eCltT+21hstN4J6Sor5GaRxKdrc+mfgKxWi8qV/Lj5Qt+psyub4oO\n",
       "YRxJzVpLW7LfYaHvGbsQ+E+stCXoPuw9kZCyFe6EKQbUohjrV0Z9g9KY1AaFHciKl0Zpt3/Do/LK\n",
       "BeMhWHHGTYJpA/uY5bH6HhBYXa9+G67fgn7SsdhrU8mXXOy8selwYLwFWcxCTIOiu+c498fNVHEn\n",
       "9nL9T8HCFUHxpgwNEZnwKa72O+OAM0gQF9vV6HWmiP7Kdzhug/ab5XkKrwMHxxDSBB2jWjiVORrv\n",
       "mC5eeJQlibNa4QZeWBdv3G+53E3kXXti2s5WE+cWQvPtra9f30II+f8kN5eWuRqslEjaLWaNXg38\n",
       "6QhHdsfs5m6PUgFzfhLd4spazi2kMRw3mwXdu3tDjhg9wKI4bosTGMqkQixlYcFWYlCr5/MIexGR\n",
       "ZtGRLKe342uT4xF8DQyXyexYbZd6cfPX4AF3jN5EoYVAc0/B3Z4oHDUhDum61Nn4xce6Nt5Z0H2q\n",
       "B5SY9bQOxgRcl/19rgDLd5J9I/A6m2pOwP3c3SgChsIfsBFrh8w8MwZ9ZYXIzdc0Mj1Rqw7rh64n\n",
       "4A9AIWKj1aQMYmBZug0sD2uKWA3agIcHqiVlnmRsTBAUStmjjILUlW2EKm484wYiHkw6GqftpZ9b\n",
       "va/m1eI2lfdyZ7uY3neKZtvc6cMl4SMreKbfjwQXWFkeGn3RMxJb8kGEBRTMoJgQnu/hiNhi25RD\n",
       "K8HsD4D1wV5NENHIHznF+jVwTTJQD1GkxUCwKRKc9JcBx8N87C4Lc3cGdepfdlCSfg/YLhCvGap+\n",
       "8W4HzLeWwXAoknwHN3SeWvmWn9fO/qGyd5yNKOgD1f+5vRGzPE30G9OB4KQB+TBjatE12SVoSgmz\n",
       "takefCPa3yLwUvTiXRq1m8OPEaT3rQ1GaTNlOAnlOZOy8I5ERB9z6LRsP4u5vhRcDVpaI2QZlUmZ\n",
       "uYcgdgVn0WOM+ReadhVG+MK17GlP8/FhO5MDW2bJUPoj3NONcN5aVEGr9uj3uKPOMxi2hGPqx2em\n",
       "k0B2htViQue+jtiDYQvccTRo66+hwSp1BkkXKMYVU3ILBM7jlraYtFMjnNlS+GvlsPckFB977C0F\n",
       "3zbOcDuI/5klF2UU9+wCyqExlPjXFuMbzoLhNGxLCCwNByLCz6M/zmDn2Z8fKvCL46F9O2etb1Kn\n",
       "y4/Ojy730Je0SmDCIMZ1OkSaBjI03FesHcwAAmUyjwAAAIlBmiRsQ//+qZYAB0l8vAQq5o2fKP+t\n",
       "oDHdblvxDbIxPa8GI/O4eAh/Zi8kaz5LMxs6i5snMDqgb8NF7yhiGTvFS70H6s9WTx6XhqeI+eMg\n",
       "AmeqIa4PBWBsglEcBh8ckPNhkYoUwgSi9uCuDnIVw89VfS1HumScyUTJP08Mf7v5L4seoVrmMOYD\n",
       "pgAAACFBnkJ4hn8ABh/lTyF4WaimIhY+I2DTbGzIKMSfS8vKHI0AAAAVAZ5hdEL/AAADAAGR79p3\n",
       "6vLD9gnAAAAAEwGeY2pC/wAABBc50olt8O4AuIEAAAAeQZpoSahBaJlMCH///qmWAAHHNB6AVxXw\n",
       "AAADAAM/AAAAHUGehkURLDP/AAADAxDDjZ/eWtXm8youApB/Z/ufAAAAEwGepXRC/wAABBYv0olq\n",
       "lO4AuIEAAAATAZ6nakL/AAAEFznSiW3w7gC4gAAAAB5BmqxJqEFsmUwIf//+qZYAAcc0HoBWb3AA\n",
       "AAMAAz4AAAAdQZ7KRRUsM/8AAAMDEMONouLV3rKe4cUVHfXgp8EAAAATAZ7pdEL/AAAEFi/SiWqU\n",
       "7gC4gAAAABMBnutqQv8AAAQXOdKJbfDuALiAAAAAHkGa8EmoQWyZTAh///6plgABxzQegFcV8AAA\n",
       "AwADPwAAAB1Bnw5FFSwz/wAAAwMQw42i4tXesp7hxRUd9eCnwQAAABMBny10Qv8AAAQWL9KJapTu\n",
       "ALiBAAAAEwGfL2pC/wAABBc50olt8O4AuIAAAAAeQZs0SahBbJlMCH///qmWAAHHNB6AVm9wAAAD\n",
       "AAM+AAAAHUGfUkUVLDP/AAADAxDDjaLi1d6ynuHFFR314KfBAAAAEwGfcXRC/wAABBYv0olqlO4A\n",
       "uIAAAAATAZ9zakL/AAAEFznSiW3w7gC4gAAAAB5Bm3hJqEFsmUwIf//+qZYAAcc0HoBXFfAAAAMA\n",
       "Az8AAAAdQZ+WRRUsM/8AAAMDEMONouLV3rKe4cUVHfXgp8AAAAATAZ+1dEL/AAAEFi/SiWqU7gC4\n",
       "gQAAABMBn7dqQv8AAAQXOdKJbfDuALiBAAAAHkGbvEmoQWyZTAh///6plgABxzQegFZvcAAAAwAD\n",
       "PgAAAB1Bn9pFFSwz/wAAAwMQw42i4tXesp7hxRUd9eCnwQAAABMBn/l0Qv8AAAQWL9KJapTuALiA\n",
       "AAAAEwGf+2pC/wAABBc50olt8O4AuIEAAAAeQZvgSahBbJlMCH///qmWAAHHNB6AVxXwAAADAAM/\n",
       "AAAAHUGeHkUVLDP/AAADAxDDjaLi1d6ynuHFFR314KfAAAAAEwGePXRC/wAABBYv0olqlO4AuIAA\n",
       "AAATAZ4/akL/AAAEFznSiW3w7gC4gQAAAB5BmiRJqEFsmUwIf//+qZYAAcc0HoBWb3AAAAMAAz4A\n",
       "AAAdQZ5CRRUsM/8AAAMDEMONouLV3rKe4cUVHfXgp8EAAAATAZ5hdEL/AAAEFi/SiWqU7gC4gAAA\n",
       "ABMBnmNqQv8AAAQXOdKJbfDuALiBAAAAHkGaaEmoQWyZTAh///6plgABxzQegFcV8AAAAwADPwAA\n",
       "AB1BnoZFFSwz/wAAAwMQw42i4tXesp7hxRUd9eCnwQAAABMBnqV0Qv8AAAQWL9KJapTuALiBAAAA\n",
       "EwGep2pC/wAABBc50olt8O4AuIAAAAAeQZqsSahBbJlMCH///qmWAAHHNB6AVm9wAAADAAM+AAAA\n",
       "HUGeykUVLDP/AAADAxDDjaLi1d6ynuHFFR314KfBAAAAEwGe6XRC/wAABBYv0olqlO4AuIAAAAAT\n",
       "AZ7rakL/AAAEFznSiW3w7gC4gAAAAB5BmvBJqEFsmUwIf//+qZYAAcc0HoBXFfAAAAMAAz8AAAAd\n",
       "QZ8ORRUsM/8AAAMDEMONouLV3rKe4cUVHfXgp8EAAAATAZ8tdEL/AAAEFi/SiWqU7gC4gQAAABMB\n",
       "ny9qQv8AAAQXOdKJbfDuALiAAAAAHkGbNEmoQWyZTAh///6plgABxzQegFZvcAAAAwADPgAAAB1B\n",
       "n1JFFSwz/wAAAwMQw42i4tXesp7hxRUd9eCnwQAAABMBn3F0Qv8AAAQWL9KJapTuALiAAAAAEwGf\n",
       "c2pC/wAABBc50olt8O4AuIAAAAAeQZt4SahBbJlMCH///qmWAAHHNB6AVxXwAAADAAM/AAAAHUGf\n",
       "lkUVLDP/AAADAxDDjaLi1d6ynuHFFR314KfAAAAAEwGftXRC/wAABBYv0olqlO4AuIEAAAATAZ+3\n",
       "akL/AAAEFznSiW3w7gC4gQAAAB5Bm7xJqEFsmUwIf//+qZYAAcc0HoBWb3AAAAMAAz4AAAAdQZ/a\n",
       "RRUsM/8AAAMDEMONouLV3rKe4cUVHfXgp8EAAAATAZ/5dEL/AAAEFi/SiWqU7gC4gAAAABMBn/tq\n",
       "Qv8AAAQXOdKJbfDuALiBAAAAHkGb4EmoQWyZTAh///6plgABxzQegFcV8AAAAwADPwAAAB1Bnh5F\n",
       "FSwz/wAAAwMQw42i4tXesp7hxRUd9eCnwAAAABMBnj10Qv8AAAQWL9KJapTuALiAAAAAEwGeP2pC\n",
       "/wAABBc50olt8O4AuIEAAAAeQZokSahBbJlMCH///qmWAAHHNB6AVm9wAAADAAM+AAAAHUGeQkUV\n",
       "LDP/AAADAxDDjaLi1d6ynuHFFR314KfBAAAAEwGeYXRC/wAABBYv0olqlO4AuIAAAAATAZ5jakL/\n",
       "AAAEFznSiW3w7gC4gQAAAB5BmmhJqEFsmUwIf//+qZYAAcc0HoBXFfAAAAMAAz8AAAAdQZ6GRRUs\n",
       "M/8AAAMDEMONouLV3rKe4cUVHfXgp8EAAAATAZ6ldEL/AAAEFi/SiWqU7gC4gQAAABMBnqdqQv8A\n",
       "AAQXOdKJbfDuALiAAAAAHkGarEmoQWyZTAh///6plgABxzQegFZvcAAAAwADPgAAAB1BnspFFSwz\n",
       "/wAAAwMQw42i4tXesp7hxRUd9eCnwQAAABMBnul0Qv8AAAQWL9KJapTuALiAAAAAEwGe62pC/wAA\n",
       "BBc50olt8O4AuIAAAAAeQZrwSahBbJlMCH///qmWAAHHNB6AVxXwAAADAAM/AAAAHUGfDkUVLDP/\n",
       "AAADAxDDjaLi1d6ynuHFFR314KfBAAAAEwGfLXRC/wAABBYv0olqlO4AuIEAAAATAZ8vakL/AAAE\n",
       "FznSiW3w7gC4gAAAAB5BmzRJqEFsmUwIf//+qZYAAcc0HoBWb3AAAAMAAz4AAAAdQZ9SRRUsM/8A\n",
       "AAMDEMONouLV3rKe4cUVHfXgp8EAAAATAZ9xdEL/AAAEFi/SiWqU7gC4gAAAABMBn3NqQv8AAAQX\n",
       "OdKJbfDuALiAAAAAHkGbeEmoQWyZTAh///6plgABxzQegFcV8AAAAwADPwAAAB1Bn5ZFFSwz/wAA\n",
       "AwMQw42i4tXesp7hxRUd9eCnwAAAABMBn7V0Qv8AAAQWL9KJapTuALiBAAAAEwGft2pC/wAABBc5\n",
       "0olt8O4AuIEAAAAZQZu8SahBbJlMCH///qmWAAADAAADAAAeEAAAAB1Bn9pFFSwz/wAAAwMQw42i\n",
       "4tXesp7hxRUd9eCnwQAAABMBn/l0Qv8AAAQWL9KJapTuALiAAAAAEwGf+2pC/wAABBc50olt8O4A\n",
       "uIEAAAAZQZvgSahBbJlMCH///qmWAAADAAADAAAeEQAAAB1Bnh5FFSwz/wAAAwMQw42i4tXesp7h\n",
       "xRUd9eCnwAAAABMBnj10Qv8AAAQWL9KJapTuALiAAAAAEwGeP2pC/wAABBc50olt8O4AuIEAAAAZ\n",
       "QZokSahBbJlMCH///qmWAAADAAADAAAeEAAAAB1BnkJFFSwz/wAAAwMQw42i4tXesp7hxRUd9eCn\n",
       "wQAAABMBnmF0Qv8AAAQWL9KJapTuALiAAAAAEwGeY2pC/wAABBc50olt8O4AuIEAAAAZQZpoSahB\n",
       "bJlMCH///qmWAAADAAADAAAeEQAAAB1BnoZFFSwz/wAAAwMQw42i4tXesp7hxRUd9eCnwQAAABMB\n",
       "nqV0Qv8AAAQWL9KJapTuALiBAAAAEwGep2pC/wAABBc50olt8O4AuIAAAAAZQZqsSahBbJlMCH//\n",
       "/qmWAAADAAADAAAeEAAAAB1BnspFFSwz/wAAAwMQw42i4tXesp7hxRUd9eCnwQAAABMBnul0Qv8A\n",
       "AAQWL9KJapTuALiAAAAAEwGe62pC/wAABBc50olt8O4AuIAAAAAZQZrwSahBbJlMCHf//qmWAAAD\n",
       "AAADAAAeEQAAAB1Bnw5FFSwz/wAAAwMQw42i4tXesp7hxRUd9eCnwQAAABMBny10Qv8AAAQWL9KJ\n",
       "apTuALiBAAAAEwGfL2pC/wAABBc50olt8O4AuIAAAAAZQZs0SahBbJlMCG///qeEAAADAAADAAA7\n",
       "oAAAAB1Bn1JFFSwz/wAAAwMQw42i4tXesp7hxRUd9eCnwQAAABMBn3F0Qv8AAAQWL9KJapTuALiA\n",
       "AAAAEwGfc2pC/wAABBc50olt8O4AuIAAAAAZQZt3SahBbJlMCF///oywAAADAAADAADqgQAAAB1B\n",
       "n5VFFSwz/wAAAwMQw42i4tXesp7hxRUd9eCnwAAAABMBn7ZqQv8AAAQXOdKJbfDuALiBAAAIxm1v\n",
       "b3YAAABsbXZoZAAAAAAAAAAAAAAAAAAAA+gAABwgAAEAAAEAAAAAAAAAAAAAAAABAAAAAAAAAAAA\n",
       "AAAAAAAAAQAAAAAAAAAAAAAAAAAAQAAAAAAAAAAAAAAAAAAAAAAAAAAAAAAAAAAAAAAAAAIAAAfw\n",
       "dHJhawAAAFx0a2hkAAAAAwAAAAAAAAAAAAAAAQAAAAAAABwgAAAAAAAAAAAAAAAAAAAAAAABAAAA\n",
       "AAAAAAAAAAAAAAAAAQAAAAAAAAAAAAAAAAAAQAAAAALQAAABsAAAAAAAJGVkdHMAAAAcZWxzdAAA\n",
       "AAAAAAABAAAcIAAABgAAAQAAAAAHaG1kaWEAAAAgbWRoZAAAAAAAAAAAAAAAAAAAMgAAAWgAVcQA\n",
       "AAAAAC1oZGxyAAAAAAAAAAB2aWRlAAAAAAAAAAAAAAAAVmlkZW9IYW5kbGVyAAAABxNtaW5mAAAA\n",
       "FHZtaGQAAAABAAAAAAAAAAAAAAAkZGluZgAAABxkcmVmAAAAAAAAAAEAAAAMdXJsIAAAAAEAAAbT\n",
       "c3RibAAAALNzdHNkAAAAAAAAAAEAAACjYXZjMQAAAAAAAAABAAAAAAAAAAAAAAAAAAAAAALQAbAA\n",
       "SAAAAEgAAAAAAAAAAQAAAAAAAAAAAAAAAAAAAAAAAAAAAAAAAAAAAAAAAAAAABj//wAAADFhdmND\n",
       "AWQAFv/hABhnZAAWrNlAtDehAAADAAMAAAMAZA8WLZYBAAZo6+PLIsAAAAAcdXVpZGtoQPJfJE/F\n",
       "ujmlG88DI/MAAAAAAAAAGHN0dHMAAAAAAAAAAQAAAHgAAAMAAAAAFHN0c3MAAAAAAAAAAQAAAAEA\n",
       "AAPIY3R0cwAAAAAAAAB3AAAAAQAABgAAAAABAAAPAAAAAAEAAAYAAAAAAQAAAAAAAAABAAADAAAA\n",
       "AAEAAA8AAAAAAQAABgAAAAABAAAAAAAAAAEAAAMAAAAAAQAADwAAAAABAAAGAAAAAAEAAAAAAAAA\n",
       "AQAAAwAAAAABAAAPAAAAAAEAAAYAAAAAAQAAAAAAAAABAAADAAAAAAEAAA8AAAAAAQAABgAAAAAB\n",
       "AAAAAAAAAAEAAAMAAAAAAQAADwAAAAABAAAGAAAAAAEAAAAAAAAAAQAAAwAAAAABAAAPAAAAAAEA\n",
       "AAYAAAAAAQAAAAAAAAABAAADAAAAAAEAAA8AAAAAAQAABgAAAAABAAAAAAAAAAEAAAMAAAAAAQAA\n",
       "DwAAAAABAAAGAAAAAAEAAAAAAAAAAQAAAwAAAAABAAAPAAAAAAEAAAYAAAAAAQAAAAAAAAABAAAD\n",
       "AAAAAAEAAA8AAAAAAQAABgAAAAABAAAAAAAAAAEAAAMAAAAAAQAADwAAAAABAAAGAAAAAAEAAAAA\n",
       "AAAAAQAAAwAAAAABAAAPAAAAAAEAAAYAAAAAAQAAAAAAAAABAAADAAAAAAEAAA8AAAAAAQAABgAA\n",
       "AAABAAAAAAAAAAEAAAMAAAAAAQAADwAAAAABAAAGAAAAAAEAAAAAAAAAAQAAAwAAAAABAAAPAAAA\n",
       "AAEAAAYAAAAAAQAAAAAAAAABAAADAAAAAAEAAA8AAAAAAQAABgAAAAABAAAAAAAAAAEAAAMAAAAA\n",
       "AQAADwAAAAABAAAGAAAAAAEAAAAAAAAAAQAAAwAAAAABAAAPAAAAAAEAAAYAAAAAAQAAAAAAAAAB\n",
       "AAADAAAAAAEAAA8AAAAAAQAABgAAAAABAAAAAAAAAAEAAAMAAAAAAQAADwAAAAABAAAGAAAAAAEA\n",
       "AAAAAAAAAQAAAwAAAAABAAAPAAAAAAEAAAYAAAAAAQAAAAAAAAABAAADAAAAAAEAAA8AAAAAAQAA\n",
       "BgAAAAABAAAAAAAAAAEAAAMAAAAAAQAADwAAAAABAAAGAAAAAAEAAAAAAAAAAQAAAwAAAAABAAAP\n",
       "AAAAAAEAAAYAAAAAAQAAAAAAAAABAAADAAAAAAEAAA8AAAAAAQAABgAAAAABAAAAAAAAAAEAAAMA\n",
       "AAAAAQAADwAAAAABAAAGAAAAAAEAAAAAAAAAAQAAAwAAAAABAAAPAAAAAAEAAAYAAAAAAQAAAAAA\n",
       "AAABAAADAAAAAAEAAA8AAAAAAQAABgAAAAABAAAAAAAAAAEAAAMAAAAAAQAADAAAAAACAAADAAAA\n",
       "ABxzdHNjAAAAAAAAAAEAAAABAAAAeAAAAAEAAAH0c3RzegAAAAAAAAAAAAAAeAAAI1oAAACNAAAA\n",
       "JQAAABkAAAAXAAAAIgAAACEAAAAXAAAAFwAAACIAAAAhAAAAFwAAABcAAAAiAAAAIQAAABcAAAAX\n",
       "AAAAIgAAACEAAAAXAAAAFwAAACIAAAAhAAAAFwAAABcAAAAiAAAAIQAAABcAAAAXAAAAIgAAACEA\n",
       "AAAXAAAAFwAAACIAAAAhAAAAFwAAABcAAAAiAAAAIQAAABcAAAAXAAAAIgAAACEAAAAXAAAAFwAA\n",
       "ACIAAAAhAAAAFwAAABcAAAAiAAAAIQAAABcAAAAXAAAAIgAAACEAAAAXAAAAFwAAACIAAAAhAAAA\n",
       "FwAAABcAAAAiAAAAIQAAABcAAAAXAAAAIgAAACEAAAAXAAAAFwAAACIAAAAhAAAAFwAAABcAAAAi\n",
       "AAAAIQAAABcAAAAXAAAAIgAAACEAAAAXAAAAFwAAACIAAAAhAAAAFwAAABcAAAAiAAAAIQAAABcA\n",
       "AAAXAAAAHQAAACEAAAAXAAAAFwAAAB0AAAAhAAAAFwAAABcAAAAdAAAAIQAAABcAAAAXAAAAHQAA\n",
       "ACEAAAAXAAAAFwAAAB0AAAAhAAAAFwAAABcAAAAdAAAAIQAAABcAAAAXAAAAHQAAACEAAAAXAAAA\n",
       "FwAAAB0AAAAhAAAAFwAAABRzdGNvAAAAAAAAAAEAAAAsAAAAYnVkdGEAAABabWV0YQAAAAAAAAAh\n",
       "aGRscgAAAAAAAAAAbWRpcmFwcGwAAAAAAAAAAAAAAAAtaWxzdAAAACWpdG9vAAAAHWRhdGEAAAAB\n",
       "AAAAAExhdmY1Ny44My4xMDA=\n",
       "\">\n",
       "  Your browser does not support the video tag.\n",
       "</video>"
      ],
      "text/plain": [
       "<IPython.core.display.HTML object>"
      ]
     },
     "execution_count": 18,
     "metadata": {},
     "output_type": "execute_result"
    },
    {
     "data": {
      "image/png": "[encoded data removed]",
      "text/plain": [
       "<Figure size 432x288 with 1 Axes>"
      ]
     },
     "metadata": {
      "needs_background": "light"
     },
     "output_type": "display_data"
    }
   ],
   "source": [
    "HTML(ani.to_html5_video())"
   ]
  },
  {
   "cell_type": "markdown",
   "metadata": {},
   "source": [
    "## Métodos de Euler e Runge-Kutta\n",
    "\n",
    "Existem vários métodos para resolver numericamente resolver equações diferenciais ordinárias (ODE), mas dois métodos muito comuns são o método de Euler e Runge-Kutta. O primeiro é um método de passo único e o último é um método de vários passos. Existem várias formas de Runge-Kutta, sendo as mais populares a quarta ordem (RK4). O método de Euler é mais fácil de programar, mas RK4 produz uma melhor aproximação. As equações para cada informação e adicionais estão em wikipedia. Para testar ambos, usei-os na ODE sob a forma de $dy/dx = 3e^{-x}-0,4y$, com condições iniciais de $x(0) = 0$ e $y (0) = 5$ e um passo de tamanho de 3,5. Eu escolhi um passo bastante grande para mostrar a diferença de precisão entre os dois métodos.\n",
    "\n",
    "[Exemplo](https://joshcashaback.wordpress.com/2012/01/03/numerical-integration-runge-kutta-and-euler-method/)"
   ]
  },
  {
   "cell_type": "code",
   "execution_count": null,
   "metadata": {},
   "outputs": [],
   "source": [
    "#Código implementando o método de Euler\n",
    "def MetEuler(func, x0, y0, xf, nx):\n",
    "    import numpy as np\n",
    "    x = np.linspace(x0,xf,nx)\n",
    "    dx = x[1]-x[0]\n",
    "    y = np.zeros(nx)\n",
    "    y[0] = y0\n",
    "    for i in np.arange(1,nx,1):\n",
    "        y[i] = y[i-1] + func(x[i-1],y[i-1])*dx\n",
    "    return x,y\n",
    "\n",
    "\n",
    "# Definindo a função a ser integrada\n",
    "# Equação: dy/dx = 3*exp(-x) - 0.4y; \n",
    "# Condições iniciais: y(0) = 5, x(0) = 0\n",
    "# Para constar, a solução exata é: y = 10*exp(-0.4x) - 5*exp(-x)\n",
    "def f(x,y):\n",
    "    from math import exp\n",
    "    return 3.0*exp(-x)-0.4*y\n",
    "    \n",
    "def sol_exata(x0,xf,nx):\n",
    "    import numpy as np\n",
    "    from math import exp\n",
    "    x = np.linspace(x0,xf,nx)\n",
    "    y = np.zeros(nx)\n",
    "    for i in np.arange(0,nx,1):\n",
    "        y[i] = 10.0*exp(-0.4*x[i]) - 5.0*exp(-x[i])\n",
    "    return x,y\n",
    "    \n",
    "# Aqui inicia o programa principal:\n",
    "%matplotlib inline\n",
    "\n",
    "# Vamos definir as condições iniciais\n",
    "x0 = 0  # Valor inicial do intervalo \n",
    "xf = 10  # Valor final do intervalo\n",
    "y0 = 5  # Condição inicial y(x0) = y0 = y(0)\n",
    "nx = 50 # número de pontos\n",
    "\n",
    "x, yn = MetEuler(f, x0, y0, xf, nx)\n",
    "x, ye = sol_exata(x0,xf,nx)\n",
    "\n",
    "import pylab as plt         # fazendo o gráfico dos resultados\n",
    "\n",
    "largura = 10  # Largura da figura\n",
    "altura  =  6  # Altura da figura\n",
    "plt.figure(figsize =(largura, altura))     # Define o tamanho do gráfico\n",
    "\n",
    "plt.plot(x, yn, '-or', label='Met. de Euler')\n",
    "plt.plot(x, ye, '-b', label='Sol. Exata')\n",
    "plt.xlabel('x') \n",
    "plt.ylabel('y')\n",
    "plt.legend()\n",
    "plt.show()"
   ]
  },
  {
   "cell_type": "markdown",
   "metadata": {},
   "source": [
    "Agora vamos resolver o mesmo problema, mas usando o método de Runge-Kutta de $4^{\\underline{a}}$ ordem."
   ]
  },
  {
   "cell_type": "code",
   "execution_count": null,
   "metadata": {},
   "outputs": [],
   "source": [
    "# Código implementando o método de Runge-Kutta de 4a ordem\n",
    "def MetRK4(func, x0, y0, xf, nx):\n",
    "    import numpy as np\n",
    "    x = np.linspace(x0,xf,nx)\n",
    "    y = np.zeros(nx)\n",
    "    dx = x[1]-x[0]\n",
    "    y[0] = y0\n",
    "    for i in np.arange(0,nx-1,1):\n",
    "         k1x, k1y = x[i], y[i]\n",
    "         k1 = func(k1x,k1y)\n",
    "         k2x, k2y = x[i] + 0.5*dx, y[i] + 0.5*k1*dx\n",
    "         k2 = func(k2x,k2y)\n",
    "         k3x, k3y = x[i] + 0.5*dx, y[i] + 0.5*k2*dx\n",
    "         k3 = func(k3x,k3y)\n",
    "         k4x, k4y = x[i] + dx, y[i] + k3*dx\n",
    "         k4 = func(k4x,k4y)\n",
    "         y[i+1] = y[i] + ((k1 + 2*k2 + 2*k3 + k4)*dx)/6.0      \n",
    "    return x, y\n",
    "\n",
    "# Definindo a função a ser integrada\n",
    "# Equação: dy/dx = 3*exp(-x) - 0.4y; \n",
    "# Condições iniciais: y(0) = 5, x(0) = 0\n",
    "# Para constar, a solução exata é: y = 10*exp(-0.4x) - 5*exp(-x)\n",
    "def f(x,y):\n",
    "    from math import exp, sin\n",
    "    return 3.0*exp(-x)-0.4*y\n",
    "    \n",
    "def sol_exata(x0,xf,nx):\n",
    "    import numpy as np\n",
    "    from math import exp, sin\n",
    "    x = np.linspace(x0,xf,nx)\n",
    "    y = np.zeros(nx)\n",
    "    for i in np.arange(0,nx,1):\n",
    "        y[i] = 10.0*exp(-0.4*x[i]) - 5.0*exp(-x[i])\n",
    "    return x,y\n",
    "    \n",
    "# Aqui inicia o programa principal:\n",
    "# Vamos definir as condições iniciais\n",
    "x0 = 0  # Valor inicial do intervalo \n",
    "xf = 10  # Valor final do intervalo\n",
    "y0 = 5  # Condição inicial y(x0) = y0 = y(0)\n",
    "nx = 50 # número de pontos\n",
    "\n",
    "x, y1 = MetEuler(f,x0,y0,xf,nx)\n",
    "x, yn = MetRK4(f,x0,y0,xf,nx)\n",
    "x, ye = sol_exata(x0,xf,nx)\n",
    "\n",
    "import pylab          # fazendo o gráfico dos resultados\n",
    "\n",
    "largura = 10  # Largura da figura\n",
    "altura  =  6  # Altura da figura\n",
    "pylab.figure(figsize =(largura, altura))     # Define o tamanho do gráfico\n",
    "plt.grid(b='on',axis='both')                 # Habilita a grade \n",
    "pylab.plot(x, y1, '-+g', label='Met. Euler')\n",
    "pylab.plot(x, yn, '-xr', label='Met. Runge-Kutta')\n",
    "pylab.plot(x, ye, label='Sol. Exata')\n",
    "pylab.xlabel('x') \n",
    "pylab.ylabel('y')\n",
    "pylab.legend()\n",
    "pylab.show()"
   ]
  },
  {
   "cell_type": "markdown",
   "metadata": {},
   "source": [
    "Também é possível resolver EDO acoplado e de ordem superior usando métodos numéricos. Para ilustrar essa aplicação, considere o caso da seguinte EDO de segunda ordem:\n",
    "\n",
    "$$2\\frac{d^2 y}{dx^2} + 3\\frac{dy}{dx} + 5y = 11e^{- x}$$\n",
    "\n",
    "submetida as seguintes condições iniciais: \n",
    "\n",
    "$$\n",
    "y(0) = 7 \\qquad \\left. \\frac{dy}{dx} \\right|_{x=0} = 13\n",
    "$$\n",
    "\n",
    "Usando o método de RK4 pode-se resolver o sitema acima, transformando a equaçõa de segunda ordem em sistema de duas equações diferenciais de primeira ordem, da seguinte forma:\n",
    "\n",
    "$$ \\qquad z = \\frac{dy}{dx} $$\n",
    "\n",
    "com essa transformação a EDO de segunda ordem torna-se \n",
    "\n",
    "\\begin{align*}\n",
    "\\frac{dy}{dx} & = f_1(x,y,z) = z \\\\\n",
    "\\frac{dz}{dx} & = f_2(x,y,z) = \\frac{11}{2}e^{- x} -\\frac{3}{2}z - \\frac{5}{2}y  \n",
    "\\end{align*}\n",
    "\n",
    "No código abaixo implementa-se o método de Runge-Kutta de quarta ordem para resolver o sistema acima:"
   ]
  },
  {
   "cell_type": "code",
   "execution_count": null,
   "metadata": {},
   "outputs": [],
   "source": [
    "# Runge Kutta de Quarta Ordem\n",
    "# Equação original: 2*d**2y/dx**2 + 3*dy/dx + 5y = 11*exp(-x); condições iniciais: y(0) = 7, dy/dx(0) = 13, h = 0.25\n",
    "# Seja dy/dx = z\n",
    "# então, d**2y/dx**2 = dz/dx\n",
    "# 2*dz/dx + 3z + 5y = 11*exp(-x)\n",
    "# quebre em duas funções: f1(x,y,z) = dy/dx = z; e f2(x,y,z) = dz/dx = (11*exp(-x) - 3*z - 5*y)/2\n",
    "import numpy, math, matplotlib\n",
    "from pylab import *\n",
    "\n",
    "# Definindo a função que integra o sistema de EDOs \n",
    "def SistRK4(f, n_edos, n, x0, xf, y0):\n",
    "    import numpy as np\n",
    "    X = np.linspace(x0,xf,n)\n",
    "    Y = np.zeros((n,n_edos), dtype=float)\n",
    "    h = X[1] - X[0]\n",
    "    # vetores auxiliares\n",
    "    k1y = np.zeros((n_edos,1), dtype=float) \n",
    "    k2y = np.zeros((n_edos,1), dtype=float)\n",
    "    k3y = np.zeros((n_edos,1), dtype=float)\n",
    "    k1  = np.zeros((n_edos,1), dtype=float) \n",
    "    k2  = np.zeros((n_edos,1), dtype=float)\n",
    "    k3  = np.zeros((n_edos,1), dtype=float)\n",
    "    k4  = np.zeros((n_edos,1), dtype=float)\n",
    "        \n",
    "    for j in np.arange(0,n_edos,1):\n",
    "        Y[0,j] = y0[j]\n",
    "        \n",
    "    for i in np.arange(0,n-1,1):\n",
    "        for j in np.arange(0,n_edos,1):\n",
    "            k1[j]  = h * f(j,X[i],Y[i,:])\n",
    "            k1y[j] = Y[i,j]+0.5*k1[j]\n",
    "        for j in np.arange(0,n_edos,1): \n",
    "            k2[j]  = h * f(j,X[i]+0.5*h,k1y[:])\n",
    "            k2y[j] = Y[i,j]+0.5*k2[j]\n",
    "        for j in np.arange(0,n_edos,1):           \n",
    "            k3[j]  = h * f(j,X[i]+0.5*h,k2y[:])\n",
    "            k3y[j] = Y[i,j] + 0.5*k3[j]\n",
    "        for j in np.arange(0,n_edos,1):            \n",
    "            k4[j] = h * f(j,X[i]+h,k3y[:])\n",
    "        for j in np.arange(0,n_edos,1):     \n",
    "            Y[i+1,j]  = Y[i,j] +(k1[j]+2*(k2[j]+k3[j])+k4[j])/6.0\n",
    "            \n",
    "    return X,Y\n",
    "\n",
    "\n",
    "def edo1(i,x,y):\n",
    "    import math as math\n",
    "    # Considere as duas equacoes\n",
    "    # y\" = - (3/2)* y' - (5/2)y + (11/2)e^{-x}\n",
    "    # Faz-se y =y1, y1'= y2\n",
    "    #        y2' =  - (3/2)* y' - (5/2)y + (11/2)e^{-x}\n",
    "    # No python os índices iniciema em zero, logo\n",
    "    # y1 = y[0] e y2 = y[1]\n",
    "    #print(y.shape,y[0],y[1])\n",
    "    if i==0:\n",
    "        R = y[1]             # y(2) = \\dot{y1}.\n",
    "    elif i==1:\n",
    "        R = -(3.0/2)*y[1] - (5.0/2)*y[0] + (11.0/2)*math.exp(-x)   \n",
    "    return R\n",
    "\n",
    "# Aqui inicia o programa principal:\n",
    "%matplotlib inline\n",
    "# Implementando o método de RK4 para um sistema de EDOs\n",
    "import numpy as np\n",
    "import math as math\n",
    "\n",
    "# Vamos definir as condições iniciais\n",
    "x0  = 0   # Valor inicial do intervalo \n",
    "xf  = 10  # Valor final do intervalo\n",
    "y0  = 7   # Condição inicial y(x0) = y0 = y(0)\n",
    "y10 = 13\n",
    "nx  = 1000  # Número de pontos\n",
    "n_edos = 2     # Numero de EDOS de 1a ordem\n",
    "# Criando vetor y0 com condições iniciais\n",
    "Y0 = np.zeros((n_edos,1), dtype=float)\n",
    "Y0[0] = y0\n",
    "Y0[1] = y10\n",
    "\n",
    "# Integrando SistRK4(f, m, n, x0, xf, y0):\n",
    "t, xs = SistRK4(edo1, n_edos, nx, x0, xf, Y0)\n",
    "\n",
    "# Início da construção do gráfico dos resultados\n",
    "import pylab as plt\n",
    "largura = 10  # Largura da figura\n",
    "altura  =  6  # Altura da figura\n",
    "plt.figure(figsize =(largura, altura))     # Define o tamanho do gráfico\n",
    "plt.grid(b='on',axis='both')     # Habilita a grade \n",
    "plt.plot(t, xs[:,0], '-b', label='x(t) - sistema')\n",
    "plt.xlabel('t') \n",
    "plt.ylabel('x')\n",
    "plt.legend()\n",
    "plt.show()"
   ]
  },
  {
   "cell_type": "markdown",
   "metadata": {},
   "source": [
    "```python\n",
    "x0, y0, z0, h, n = 0, 7, 13, 0.25, 200\n",
    "a, b, c = [y0], [z0], [x0]\n",
    "for i in arange(0,n,1):\n",
    "    k1x, k1y, k1z = x0 + i*h, y0, z0 # As linhas de 1-9 calcula as dy/dx\n",
    "     k1 = k1z\n",
    "     k2x, k2y, k2z = x0 + i*h + 0.5*h, y0 + 0.5*k1*h, z0 + 0.5*k1*h\n",
    "     k2 = k2z\n",
    "     k3x, k3y, k3z = x0 + i*h + 0.5*h, y0 + 0.5*k2*h, z0 + 0.5*k2*h\n",
    "     k3 = k3z\n",
    "     k4x, k4y, k4z = x0 + i*h + h, y0 + k3*h, z0 + k3*h\n",
    "     k4 = k4z\n",
    "     y1 = y0 + (1/6.0)*(k1 + 2*k2 + 2*k3 + k4)*h # integração de dy/dx\n",
    "     k1 = ((11*exp(-1*k1x) - 3*k1z - 5*k1y)/2)   # redefine k1 para calcular dz/dx (d**2y/dx**2)\n",
    "     k2x, k2y, k2z = x0 + i*h + 0.5*h, y0 + 0.5*k1*h, z0 + 0.5*k1*h\n",
    "     k2 = ((11*exp(-1*k2x) - 3*k2z - 5*k2y)/2)\n",
    "     k3x, k3y, k3z = x0 + i*h + 0.5*h, y0 + 0.5*k2*h, z0 + 0.5*k2*h\n",
    "     k3 = ((11*exp(-1*k3x) - 3*k3z - 5*k3y)/2)\n",
    "     k4x, k4y, k4z = x0 + i*h + h, y0 + k3*h, z0 + k3*h\n",
    "     k4 = ((11*exp(-1*k4x) - 3*k4z - 5*k4y)/2)\n",
    "     z1 = z0 + (1/6.0)*(k1 + 2*k2 + 2*k3 + k4)*h\n",
    "     y0, z0 = y1, z1\n",
    "     a.append(y1)\n",
    "     b.append(z1)\n",
    "     c.append(k1x+h)\n",
    "```"
   ]
  },
  {
   "cell_type": "markdown",
   "metadata": {},
   "source": [
    "[Exemplo do scipy para resolver um sistema de ode](http://scipy.github.io/old-wiki/pages/Cookbook/Zombie_Apocalypse_ODEINT)\n",
    "\n",
    "# Modelando um Apocalise Zumbi \n",
    "\n",
    "Este exemplo demonstra como resolver um sistema de ODE de primeira ordem usando SciPy. Observe que uma equação da ordem N-ésima também pode ser resolvida usando SciPy, transformando-a em um sistema de equações de primeira ordem. Neste exemplo, um sistema de ODEs pode ser usado para modelar uma \"invasão de zumbis\", usando as equações especificadas em Munz et al. 2009.\n",
    "\n",
    "O sistema é dado como:\n",
    "\n",
    "$$\\frac{dS}{dt} = P - B*S*Z - d*S$$\n",
    "\n",
    "$$\\frac{dZ}{dt} = B*S*Z + G*R - A*S*Z$$\n",
    "\n",
    "$$\\frac{dR}{dt} = d*S + A*S*Z - G*R$$"
   ]
  },
  {
   "cell_type": "markdown",
   "metadata": {},
   "source": [
    "na qual a notação usada é a seguinte:\n",
    "\n",
    "     S: número de vítimas susceptíveis\n",
    "     Z: o número de zumbis\n",
    "     R: o número de pessoas \"mortas\"\n",
    "     P: taxa de natalidade da população\n",
    "     D: a chance de uma morte natural\n",
    "     B: a chance de a \"doença zumbi\" ser transmitida (uma pessoa viva se torna um zumbi)\n",
    "     G: a chance de uma pessoa morta é ressuscitada em um zumbi\n",
    "     A chance de um zumbi ser totalmente destruído\n",
    "\n",
    "Isso envolve a resolução de um sistema de ODE de primeira ordem dado por: $ dy/dt = f(y, t)$, na qual y = [S, Z, R].\n",
    "\n",
    "O código utilizado para resolver este sistema está abaixo:"
   ]
  },
  {
   "cell_type": "code",
   "execution_count": null,
   "metadata": {},
   "outputs": [],
   "source": [
    "# Modelagem do apocalipse zombie \n",
    "import numpy as np\n",
    "import matplotlib.pyplot as plt\n",
    "from scipy.integrate import odeint\n",
    "plt.ion()\n",
    "\n",
    "P = 0       # taxa de nascimento\n",
    "d = 0.0001  # porcentagem de morte natural (por dia)\n",
    "B = 0.0095  # porcentagem de transmissão  (por dia)\n",
    "G = 0.0001  # porcentagem de ressurreição (por dia)\n",
    "A = 0.0001  # porcentagem de destruição do zumbi (por dia)\n",
    "\n",
    "# Resolve o sistema dy/dt = f(y, t)\n",
    "def f(y, t):\n",
    "        Si = y[0]\n",
    "        Zi = y[1]\n",
    "        Ri = y[2]\n",
    "        # As equações do modelo  (veja Munz et al. 2009)\n",
    "        f0 = P - B*Si*Zi - d*Si\n",
    "        f1 = B*Si*Zi + G*Ri - A*Si*Zi\n",
    "        f2 = d*Si + A*Si*Zi - G*Ri\n",
    "        return [f0, f1, f2]\n",
    "\n",
    "# Condições iniciais \n",
    "S0 = 500.               # População inicial \n",
    "Z0 = 0                  # População zumbi inicial\n",
    "R0 = 0                  # População inicialmente morta \n",
    "y0 = [S0, Z0, R0]       # Vetor com as condições iniciais  \n",
    "t  = np.linspace(0, 5., 1000)   # Discretização do tempo\n",
    "\n",
    "# Resolve as EDOs\n",
    "soln = odeint(f, y0, t)\n",
    "S = soln[:, 0]\n",
    "Z = soln[:, 1]\n",
    "R = soln[:, 2]\n",
    "\n",
    "# Faz os gráficos dos resultados\n",
    "plt.figure()\n",
    "plt.plot(t, S, label='Vivos')\n",
    "plt.plot(t, Z, label='Zumbis')\n",
    "plt.xlabel('Dias a partir invasão')\n",
    "plt.ylabel('População')\n",
    "plt.title('Apocalise Zumbi  - Não há ningém morto; Sem novos nacimentos')\n",
    "plt.legend(loc=0)\n",
    "\n",
    "# Mudando as condições iniciais \n",
    "R0 = 0.01*S0   # 1% da população está inicialmente morta \n",
    "y0 = [S0, Z0, R0]\n",
    "\n",
    "# Resolve as EDOs\n",
    "soln = odeint(f, y0, t)\n",
    "S = soln[:, 0]\n",
    "Z = soln[:, 1]\n",
    "R = soln[:, 2]\n",
    "\n",
    "# Faz os gráficos dos resultados\n",
    "plt.figure()\n",
    "plt.plot(t, S, label='Vivos')\n",
    "plt.plot(t, Z, label='Zumbis')\n",
    "plt.xlabel('Dias a partir invasão')\n",
    "plt.ylabel('População')\n",
    "plt.title('Apocalise Zumbi  - Inicia com 1% pop. estando morta; Sem novos nacimentos')\n",
    "plt.legend(loc=0)\n",
    "\n",
    "# Mudando as condições iniciais\n",
    "R0 = 0.01*S0   #  # 1% da população está inicialmente morta \n",
    "P  = 10        # 10 novos nascimentos diários\n",
    "y0 = [S0, Z0, R0]\n",
    "\n",
    "# Resolve as EDOs\n",
    "soln = odeint(f, y0, t)\n",
    "S = soln[:, 0]\n",
    "Z = soln[:, 1]\n",
    "R = soln[:, 2]\n",
    "\n",
    "# Faz os gráficos dos resultados\n",
    "plt.figure()\n",
    "plt.plot(t, S, label='Vivos')\n",
    "plt.plot(t, Z, label='Zumbis')\n",
    "plt.xlabel('Dias a partir invasão')\n",
    "plt.ylabel('População')\n",
    "plt.title('Apocalise Zumbi  - Inicia com 1% pop. estando morta; 10 Nacimentos diários ')\n",
    "plt.legend(loc=0)\n",
    "plt.show()\n"
   ]
  },
  {
   "cell_type": "markdown",
   "metadata": {},
   "source": [
    "[Exemplo de uso do scipy](http://scipy.github.io/old-wiki/pages/Cookbook.html)"
   ]
  },
  {
   "cell_type": "markdown",
   "metadata": {},
   "source": [
    "Encontrando Raízes \n",
    "------------\n",
    "\n",
    "Se você tentar encontrar um $x$ tal que\n",
    "$$f(x)=0$$\n",
    "Então isso é chamado de *encontrando raízes (root finding)*. Note que problemas como $g(x)=h(x)$ caem nesta categoria pois você pode reescrevê-los como $f(x)=g(x)-h(x)=0$.\n",
    "\n",
    "Uma série de ferramentas de localização de raízes estão disponíveis no módulo `optimize` do `scipy`. \n",
    "\n",
    "### Encontrando Raiz via o método da bisecção\n",
    "\n",
    "Primeiro, introduzimos o algoritmo 'bisect' que é (i) robusto e (ii) lento, mas conceitualmente muito simples.\n",
    "\n",
    "Suponha que precisamos calcular as raízes de  *f*(*x*)=*x*<sup>3</sup> − 2*x*<sup>2</sup>. Esta função tem uma raiz (dupla) em *x* = 0 (isto é trivial para ver) e outra raiz que está localizada entre *x* = 1.5 (onde *f*(1.5) = -1.125) e *x* = 3 (onde *f*(3) = 9). É bastante simples ver que esta outra raiz está localizada em *x* = 2. Aqui está um programa que determina esta raiz numericamente:"
   ]
  },
  {
   "cell_type": "code",
   "execution_count": 5,
   "metadata": {
    "ExecuteTime": {
     "end_time": "2018-06-20T19:56:05.788255Z",
     "start_time": "2018-06-20T19:56:05.783341Z"
    }
   },
   "outputs": [
    {
     "name": "stdout",
     "output_type": "stream",
     "text": [
      "A raiz x é aproximadamente x= 2.00000023842, \n",
      "e o erro é menor do que 1e-6.\n",
      "O erro exato é -2.38419e-07.\n"
     ]
    }
   ],
   "source": [
    "from scipy.optimize import bisect\n",
    "\n",
    "def f(x):\n",
    "    \"\"\"retorna f(x)=x^3-2x^2. Possui raízes em\n",
    "       x=0 (raiz dupla) e x=2 \"\"\"\n",
    "    return x**3 - 2*x**2\n",
    "\n",
    "# o programa principal inicia aqui \n",
    "x = bisect(f, 1.5, 3, xtol=1e-6)\n",
    "\n",
    "print(\"A raiz x é aproximadamente x=%14.12g, \\n\"\n",
    "       \"e o erro é menor do que 1e-6.\" % (x))\n",
    "print(\"O erro exato é %g.\" % (2 - x))"
   ]
  },
  {
   "cell_type": "markdown",
   "metadata": {},
   "source": [
    "O método `bisect()` toma três argumentos obrigatórios: (i) a função *f*(*x*), (ii) um limite inferior *a* (para o qual escolhemos 1.5 no nosso exemplo) e (ii) Um limite superior *b* (para o qual escolhemos 3). O parâmetro opcional `xtol` determina o erro máximo do método.\n",
    "\n",
    "Uma das exigências do método de bisecção é que o intervalo \\[*a*,*b*\\] tem de ser escolhido de modo que a função seja positiva em *a* e negativa em *b*, ou que a função seja negativa em *a* e positiva em *b*. Em outras palavras: dever haver uma raiz no intervalo *a* e *b*.\n",
    "\n",
    "### Exercício: descoberta de raiz utilizando o método bissect\n",
    "\n",
    "1. Escreva um programa com o nome `sqrttwo.py` para determinar uma aproximação de $\\sqrt{2}$ encontrando uma raiz *x* da função $f(x) = 2 - x^2$ usando o algoritmo de bissecção. Escolha uma tolerância para a aproximação da raiz de 10<sup>-8 </sup>.\n",
    "\n",
    "2. Documente sua escolha do intervalo inicial $[a, b]$ para a raiz: quais valores você escolheu para *a* e para *b* e por quê?\n",
    "\n",
    "3. Estude os resultados:\n",
    "\n",
    "    - Qual valor para a raiz *x* retorna o algoritmo de bissecção?\n",
    "\n",
    "    - Calcule o valor de $\\sqrt{2}$ usando `math.sqrt(2)` e compare isto com a aproximação da raiz. Quão grande é o erro absoluto de *x*? Como isso se compara com `xtol`?\n"
   ]
  },
  {
   "cell_type": "markdown",
   "metadata": {},
   "source": [
    "### Encontrando Raízes Usando a função `fsolve`\n",
    "\n",
    "Um algoritmo (muitas vezes) melhor (no sentido de \"mais eficiente\") do que o algoritmo de bissecção é implementado na função de propósito geral `fsolve()` para a localização de raízes de funções (multidimensionais). Esse algoritmo precisa apenas de um ponto de partida próximo à localização suspeita da raiz (mas não é garantido que ele irá convergir).\n",
    "\n",
    "Aqui está um exemplo:"
   ]
  },
  {
   "cell_type": "code",
   "execution_count": 6,
   "metadata": {
    "ExecuteTime": {
     "end_time": "2018-06-20T19:56:52.187037Z",
     "start_time": "2018-06-20T19:56:52.178338Z"
    }
   },
   "outputs": [
    {
     "name": "stdout",
     "output_type": "stream",
     "text": [
      "A raiz x é aproximadamente x= 2.000000000000006661\n",
      "O erro exato é s -6.66134e-15.\n"
     ]
    }
   ],
   "source": [
    "from scipy.optimize import fsolve\n",
    "\n",
    "def f(x):\n",
    "    return x ** 3 - 2 * x ** 2\n",
    "\n",
    "x = fsolve(f, 3)           # one root is at x=2.0\n",
    "\n",
    "print(\"A raiz x é aproximadamente x=%21.19g\" % x)\n",
    "print(\"O erro exato é s %g.\" % (2 - x))"
   ]
  },
  {
   "cell_type": "markdown",
   "metadata": {},
   "source": [
    "O valor de retorno[6] do `fsolve` é uma matriz da numpy de comprimento *n* para um problema determinar a raiz com *n* variáveis. No exemplo acima, temos *n* = 1."
   ]
  },
  {
   "cell_type": "markdown",
   "metadata": {},
   "source": [
    "## Interpolação\n",
    "\n",
    "Dado um conjunto de *N* pontos $(x_i, y_i)$ com $i = 1, 2, ... N$, às vezes precisamos de uma função $\\hat{f}(x)$ que retorna $y_i = f(x_i)$, onde $x == x_i$, e que, além disso fornece algumas interpolação dos dados $(x_i, y_i)$ para todo $x$.\n",
    "\n",
    "A função `y0=scipy.interpolate.interp1d(x,y,kind=’nearest’)` faz essa interpolação com base em splines de ordem variável. Note que a função `interp1d` retorna uma função `y0` a qual irá então interpolar os dados x-y para um dado $x$ qualquer quando chamado como $y0(x)$.\n",
    "\n",
    "O código abaixo demonstra esta, e mostra os diferentes tipos de interpolação.\n"
   ]
  },
  {
   "cell_type": "code",
   "execution_count": 7,
   "metadata": {
    "ExecuteTime": {
     "end_time": "2018-06-20T19:57:06.431471Z",
     "start_time": "2018-06-20T19:57:05.918893Z"
    }
   },
   "outputs": [
    {
     "data": {
      "text/plain": [
       "Text(0.5,0,'tempo t(s)')"
      ]
     },
     "execution_count": 7,
     "metadata": {},
     "output_type": "execute_result"
    },
    {
     "data": {
      "image/png": "[encoded data removed]",
      "text/plain": [
       "<Figure size 720x432 with 1 Axes>"
      ]
     },
     "metadata": {},
     "output_type": "display_data"
    }
   ],
   "source": [
    "import numpy as np\n",
    "import scipy.interpolate\n",
    "import pylab as plt\n",
    "\n",
    "def create_data(n):\n",
    "    \"\"\"Dado um inteiro n, ele retorna n pontos de dados\n",
    "     t e os valores y como um numpy.array. \"\"\"\n",
    "    tmax = 5.\n",
    "    t = np.linspace(0, tmax, n)\n",
    "    # considere por exemplo um problema de queda livre\n",
    "    y = - t**2\n",
    "    #Torna os dadso do tempo t um pouco irregulares, simulando um erro de medição\n",
    "    y += 1.5 * np.random.normal(size=len(t))\n",
    "    return t, y\n",
    "\n",
    "#Programa principal\n",
    "n = 10\n",
    "# Ao chamar a função não é necessário manter as mesmas \n",
    "# variáveis. Aqui trocamos t por x\n",
    "x, y = create_data(n)\n",
    "\n",
    "#usando uma malha fina e regular para fazer os gráficos\n",
    "xfine = np.linspace(0.1, 4.9, n * 100)\n",
    "#Interpola com pedaços de uma função constante (p=0)\n",
    "y0 = scipy.interpolate.interp1d(x, y, kind='nearest')\n",
    "#Interpola com pedaços de uma função linear (p=1)\n",
    "y1 = scipy.interpolate.interp1d(x, y, kind='linear')\n",
    "#Interpola com pedaços de uma função quadrática (p=2)\n",
    "y2 = scipy.interpolate.interp1d(x, y, kind='quadratic')\n",
    "#Interpola com pedaços de uma função quadrática (p=3)\n",
    "y3 = scipy.interpolate.interp1d(x, y, kind='cubic')\n",
    "\n",
    "largura = 10  # Largura da figura\n",
    "altura  =  6  # Altura da figura\n",
    "plt.figure(figsize =(largura, altura))     # Define o tamanho do gráfico\n",
    "#plt.grid(b='on',axis='both')     # Habilita a grade \n",
    "\n",
    "plt.plot(x, y,'o', label='pontos exp.')\n",
    "plt.plot(xfine, y0(xfine), label='cte.')\n",
    "plt.plot(xfine, y1(xfine), label='linear')\n",
    "plt.plot(xfine, y2(xfine), label='quadratic')\n",
    "plt.plot(xfine, y3(xfine),'b', label='cubic')\n",
    "plt.legend()\n",
    "plt.ylabel('Altura y(m)')\n",
    "plt.xlabel('tempo t(s)')"
   ]
  },
  {
   "cell_type": "code",
   "execution_count": null,
   "metadata": {},
   "outputs": [],
   "source": [
    "dir(scipy.interpolate)"
   ]
  },
  {
   "cell_type": "code",
   "execution_count": null,
   "metadata": {},
   "outputs": [],
   "source": [
    "? scipy.interpolate.interp1d"
   ]
  },
  {
   "cell_type": "markdown",
   "metadata": {},
   "source": [
    "Ajuste de Curvas (fitting)\n",
    "-------------\n",
    "\n",
    "Já vimos no [numpy](14-numpy.ipynb) que podemos ajustar funções polinomiais através de um conjunto de dados usando a função `numpy.polyfit`. Aqui, introduzimos um algoritmo de ajuste de curva mais genérico.\n",
    "\n",
    "Scipy fornece uma função um pouco mais genérica (baseada no algoritmo de Levenburg-Marquardt) através de `scipy.optimize.curve_fit` para ajustar uma determinada função (Python) a um determinado conjunto de dados. A hipótese é que nos foi dado um conjunto de dados com pontos $x_1, x_2,\\ldots, x_N$ e com os respectivos valores da função correspondentes $y_i$ e uma dependência de $y_i$ com $x_i$ tal que $y_i = f(x_i,\\vec{p}) $. Desejamos determinar o vetor de parâmetro $\\vec{p}= (p_1, p_2, \\ldots, p_k)$ para que $r$, a soma dos resíduos, seja tão pequena quanto possível:\n",
    "\n",
    "$$r = \\sum\\limits_{i=1}^N \\left(y_i - f(x_i, \\vec{p})\\right)^2$$\n",
    "\n",
    "O ajuste da curva é particularmente útil se os dados forem ruidosos (por exemplo, aqueles provenientes de uma medição): para um dado $x_i$ e $y_i = f(x_i, \\vec{p})$ temos um termo de erro (desconhecido) $\\epsilon_i$ para que $ y_i = f(x_i, \\vec{p}) + \\epsilon_i $.\n",
    "\n",
    "Usamos o exemplo a seguir para esclarecer isso:\n",
    "$$f(x,\\vec{p}) = a \\exp(-b x) + c, \\quad\\mathrm{i.e.}\\quad \\vec{p}=\\mathtt{a,b,c}$$"
   ]
  },
  {
   "cell_type": "code",
   "execution_count": 8,
   "metadata": {
    "ExecuteTime": {
     "end_time": "2018-06-20T20:02:19.330439Z",
     "start_time": "2018-06-20T20:02:19.324865Z"
    }
   },
   "outputs": [
    {
     "name": "stdout",
     "output_type": "stream",
     "text": [
      "[1.00000000e+00 3.67879441e-01 1.35335283e-01 4.97870684e-02\n",
      " 1.83156389e-02 6.73794700e-03 2.47875218e-03 9.11881966e-04\n",
      " 3.35462628e-04 1.23409804e-04 4.53999298e-05]\n",
      "1.0 1.0673710616626018\n",
      "0.36787944117144233 2.5328366990476505\n",
      "0.1353352832366127 1.9968293174120153\n",
      "0.049787068367863944 0.672054277062887\n",
      "0.01831563888873418 0.49537899191224233\n",
      "0.006737946999085467 1.0139981586501676\n",
      "0.0024787521766663585 1.9414601555461086\n",
      "0.0009118819655545162 1.2604102955712944\n",
      "0.00033546262790251185 -0.8731801455866208\n",
      "0.00012340980408667956 2.0025551364033882\n",
      "4.5399929762484854e-05 0.6603573666639513\n"
     ]
    }
   ],
   "source": [
    "import math\n",
    "import numpy as np\n",
    "x=np.linspace(0,10,11)\n",
    "\n",
    "print(np.exp(-x))\n",
    "\n",
    "for i in range(0,11):\n",
    "    print(math.exp(-x[i]), np.random.normal(1))"
   ]
  },
  {
   "cell_type": "code",
   "execution_count": 9,
   "metadata": {
    "ExecuteTime": {
     "end_time": "2018-06-20T20:02:23.633757Z",
     "start_time": "2018-06-20T20:02:23.592539Z"
    }
   },
   "outputs": [],
   "source": [
    "from scipy.optimize import curve_fit\n",
    "?curve_fit()"
   ]
  },
  {
   "cell_type": "code",
   "execution_count": 11,
   "metadata": {
    "ExecuteTime": {
     "end_time": "2018-06-20T20:05:22.034431Z",
     "start_time": "2018-06-20T20:05:21.636188Z"
    }
   },
   "outputs": [
    {
     "name": "stdout",
     "output_type": "stream",
     "text": [
      "Os parâmetros otimizados são a=2.5384, b=1.38407, e c=0.50868\n"
     ]
    },
    {
     "name": "stderr",
     "output_type": "stream",
     "text": [
      "/usr/local/lib/python3.5/dist-packages/matplotlib/cbook/deprecation.py:107: MatplotlibDeprecationWarning: Passing one of 'on', 'true', 'off', 'false' as a boolean is deprecated; use an actual boolean (True/False) instead.\n",
      "  warnings.warn(message, mplDeprecation, stacklevel=1)\n"
     ]
    },
    {
     "data": {
      "text/plain": [
       "<matplotlib.legend.Legend at 0x7efd92c08780>"
      ]
     },
     "execution_count": 11,
     "metadata": {},
     "output_type": "execute_result"
    },
    {
     "data": {
      "image/png": "[encoded data removed]",
      "text/plain": [
       "<Figure size 720x432 with 1 Axes>"
      ]
     },
     "metadata": {},
     "output_type": "display_data"
    }
   ],
   "source": [
    "import numpy as np\n",
    "from scipy.optimize import curve_fit\n",
    "\n",
    "\n",
    "def f(x, a, b, c):\n",
    "    \"\"\"Ajusta (fita) a função y=f(x,p) com os parâmetros p=(a,b,c). \"\"\"\n",
    "    return a * np.exp(- b * x) + c\n",
    "\n",
    "#cria um conjunto de dados ruidosos, simulando uma medição\n",
    "x = np.linspace(0, 4, 50)\n",
    "y = f(x, a=2.5, b=1.3, c=0.5)\n",
    "#adiciona o ruído\n",
    "yi = y + 0.1 * np.random.normal(size=len(x))\n",
    "\n",
    "#Chama a função que faz o ajuste (fit) da curva\n",
    "popt, pcov = curve_fit(f, x, yi)\n",
    "a, b, c = popt\n",
    "print(\"Os parâmetros otimizados são a=%g, b=%g, e c=%g\" % (a, b, c))\n",
    "\n",
    "#Fazendo o gráfico\n",
    "import pylab as plt\n",
    "\n",
    "largura = 10  # Largura da figura\n",
    "altura  =  6  # Altura da figura\n",
    "plt.figure(figsize =(largura, altura))   # Define o tamanho do gráfico\n",
    "plt.grid(b='on',axis='both')             # Habilita a grade \n",
    "\n",
    "yfitted = f(x, *popt)   # equivalente a f(x, popt[0], popt[1], popt[2])\n",
    "plt.plot(x, yi, 'o', label='dados $y_i$')\n",
    "plt.plot(x, yfitted, '-', label='Fit $f(x_i)$')\n",
    "plt.ylabel('f(x)')\n",
    "plt.xlabel('x')\n",
    "plt.title('Decaimento exponencial')\n",
    "plt.legend()"
   ]
  },
  {
   "cell_type": "markdown",
   "metadata": {},
   "source": [
    "Observe que no código fonte acima definimos a função de ajuste $y =f(x) $ através do código Python. Podemos assim ajustar funções (quase) arbitrárias usando o método `curve_fit`.\n",
    "\n",
    "A função `curve_fit` retorna uma tupla `popt, pcov`. A primeira entrada `popt` contém uma tupla dos Parâmetros OPTimal (no sentido de que estes minimizam a equação (\\[eq:1\\]). A segunda entrada contém a matriz de covariância para todos os parâmetros. As diagonais fornecem a variâncias dos parâmetros de estimativas.\n",
    "\n",
    "Para que o processo de ajuste da curva funcione, o algoritmo de Levenburg-Marquardt precisa iniciar o processo de ajuste com as condições iniciais para os parâmetros finais. Se estes não forem especificados (como no exemplo acima), o valor \"1.0\" é usado como chute inicial (tentativa inicial).\n",
    "\n",
    "Se o algoritmo falhar em ajustar uma função a dados (mesmo que a função descreva os dados razoavelmente), precisamos dar ao algoritmo melhores estimativas para os parâmetros iniciais. Para o exemplo mostrado acima, poderíamos dar as estimativas para a função `curve_fit` alterando a linha\n",
    "\n",
    "\n",
    "```python\n",
    "popt, pcov = curve_fit(f, x, yi)\n",
    "```\n",
    "\n",
    "para\n",
    "\n",
    "```python\n",
    "popt, pcov = curve_fit(f, x, yi, p0=(2,1,0.6))\n",
    "```"
   ]
  },
  {
   "cell_type": "markdown",
   "metadata": {},
   "source": [
    "Se nossas hipóteses iniciais (chutes iniciais) fossem *a* = 2, *b* = 1 e *c* = 0,6. Uma vez que tomamos o algoritmo \"aproximadamente na área direita\" no espaço de parâmetro, o ajuste (fit) geralmente funcionará bem."
   ]
  },
  {
   "cell_type": "markdown",
   "metadata": {},
   "source": [
    "### Ajuste de curvas lendo o arquivo de dados"
   ]
  },
  {
   "cell_type": "markdown",
   "metadata": {},
   "source": [
    "Os problemas de ajuste de curvas em geral devem-se a uma coleta de dados experimentais, e a seguir faremos uma simulação desse processo. Primeiro vamos gerar um arquivo de dados"
   ]
  },
  {
   "cell_type": "code",
   "execution_count": 12,
   "metadata": {
    "ExecuteTime": {
     "end_time": "2018-06-20T20:06:01.816809Z",
     "start_time": "2018-06-20T20:06:01.701592Z"
    }
   },
   "outputs": [],
   "source": [
    "# Cria o diretório data caso ele não exista\n",
    "!mkdir -p data"
   ]
  },
  {
   "cell_type": "code",
   "execution_count": 13,
   "metadata": {
    "ExecuteTime": {
     "end_time": "2018-06-20T20:06:03.588044Z",
     "start_time": "2018-06-20T20:06:03.579740Z"
    }
   },
   "outputs": [
    {
     "name": "stdout",
     "output_type": "stream",
     "text": [
      "Overwriting data/Dados1.dat\n"
     ]
    }
   ],
   "source": [
    "%%file data/Dados1.dat\n",
    "# x  y    erro_x erro_y\n",
    "  1  3     0.5    0.5\n",
    "  4  19    0.5    0.5\n",
    "  6  28    0.5    1.5\n",
    "  12 44    0.5    2.5\n",
    "  20 83    0.5    3.5"
   ]
  },
  {
   "cell_type": "code",
   "execution_count": 14,
   "metadata": {
    "ExecuteTime": {
     "end_time": "2018-06-20T20:06:07.252553Z",
     "start_time": "2018-06-20T20:06:07.136147Z"
    }
   },
   "outputs": [
    {
     "name": "stdout",
     "output_type": "stream",
     "text": [
      "# x  y    erro_x erro_y\r\n",
      "  1  3     0.5    0.5\r\n",
      "  4  19    0.5    0.5\r\n",
      "  6  28    0.5    1.5\r\n",
      "  12 44    0.5    2.5\r\n",
      "  20 83    0.5    3.5"
     ]
    }
   ],
   "source": [
    "# Conferência\n",
    "!cat data/Dados1.dat"
   ]
  },
  {
   "cell_type": "code",
   "execution_count": 15,
   "metadata": {
    "ExecuteTime": {
     "end_time": "2018-06-20T20:06:33.930356Z",
     "start_time": "2018-06-20T20:06:33.918562Z"
    }
   },
   "outputs": [
    {
     "name": "stdout",
     "output_type": "stream",
     "text": [
      "  1  3     0.5    0.5\n",
      "\n",
      "['1', '3', '0.5', '0.5']\n",
      "  4  19    0.5    0.5\n",
      "\n",
      "['4', '19', '0.5', '0.5']\n",
      "  6  28    0.5    1.5\n",
      "\n",
      "['6', '28', '0.5', '1.5']\n",
      "  12 44    0.5    2.5\n",
      "\n",
      "['12', '44', '0.5', '2.5']\n",
      "  20 83    0.5    3.5\n",
      "['20', '83', '0.5', '3.5']\n"
     ]
    }
   ],
   "source": [
    "f = open('data/Dados1.dat')\n",
    "#Para ignorar o cabeçalho faça\n",
    "cabecalho = f.readline()\n",
    "x = []\n",
    "y = []\n",
    "xer = []\n",
    "yer = []\n",
    "for line in f.readlines():\n",
    "    print (line)\n",
    "    colunas = line.split()\n",
    "    print(colunas)\n",
    "    x.append(float(colunas[0]))\n",
    "    y.append(float(colunas[1]))\n",
    "    xer.append(float(colunas[2]))\n",
    "    yer.append(float(colunas[3]))\n",
    "f.close()"
   ]
  },
  {
   "cell_type": "code",
   "execution_count": 16,
   "metadata": {
    "ExecuteTime": {
     "end_time": "2018-06-20T20:06:39.145724Z",
     "start_time": "2018-06-20T20:06:39.142454Z"
    }
   },
   "outputs": [
    {
     "name": "stdout",
     "output_type": "stream",
     "text": [
      "[1.0, 4.0, 6.0, 12.0, 20.0] [3.0, 19.0, 28.0, 44.0, 83.0]\n"
     ]
    }
   ],
   "source": [
    "print(x,y)"
   ]
  },
  {
   "cell_type": "code",
   "execution_count": 17,
   "metadata": {
    "ExecuteTime": {
     "end_time": "2018-06-20T20:06:43.133836Z",
     "start_time": "2018-06-20T20:06:42.654643Z"
    }
   },
   "outputs": [
    {
     "name": "stdout",
     "output_type": "stream",
     "text": [
      "Os parâmetros otimizados são a=0.848592 e b=4.01761\n"
     ]
    },
    {
     "name": "stderr",
     "output_type": "stream",
     "text": [
      "/usr/local/lib/python3.5/dist-packages/matplotlib/cbook/deprecation.py:107: MatplotlibDeprecationWarning: Passing one of 'on', 'true', 'off', 'false' as a boolean is deprecated; use an actual boolean (True/False) instead.\n",
      "  warnings.warn(message, mplDeprecation, stacklevel=1)\n"
     ]
    },
    {
     "data": {
      "text/plain": [
       "<matplotlib.legend.Legend at 0x7efdc847f470>"
      ]
     },
     "execution_count": 17,
     "metadata": {},
     "output_type": "execute_result"
    },
    {
     "data": {
      "image/png": "[encoded data removed]",
      "text/plain": [
       "<Figure size 720x432 with 1 Axes>"
      ]
     },
     "metadata": {},
     "output_type": "display_data"
    }
   ],
   "source": [
    "import numpy as np\n",
    "from scipy.optimize import curve_fit\n",
    "\n",
    "# Defina a função para qual será feito o fit \n",
    "def g(x, a, b):\n",
    "    \"\"\"Ajusta (fita) a função y=f(x,p) com os parâmetros p=(a,b). \"\"\"\n",
    "    return a + b*x\n",
    "\n",
    "# Agora vamos converter as listas em numpy array:\n",
    "x = np.array(x)\n",
    "y = np.array(y)\n",
    "xer = np.array(xer)\n",
    "yer = np.array(yer)\n",
    "\n",
    "#Chama a função que faz o ajuste (fit) da curva\n",
    "popt, pcov = curve_fit(g, x, y)\n",
    "a, b = popt\n",
    "print(\"Os parâmetros otimizados são a=%g e b=%g\" % (a, b))\n",
    "\n",
    "#Fazendo o gráfico\n",
    "import pylab as plt\n",
    "\n",
    "largura = 10  # Largura da figura\n",
    "altura  =  6  # Altura da figura\n",
    "plt.figure(figsize =(largura, altura))   # Define o tamanho do gráfico\n",
    "plt.grid(b='on',axis='both')             # Habilita a grade \n",
    "\n",
    "yfitted = g(x, *popt)     # equivalente a f(x, popt[0], popt[1], popt[2])\n",
    "plt.plot(x, y, 'o', label='dados $y_i$')\n",
    "plt.plot(x, yfitted, '-', label='Fit $f(x_i)$')\n",
    "plt.ylabel('f(x)')\n",
    "plt.xlabel('x')\n",
    "plt.title('Decaimento exponencial')\n",
    "plt.legend()"
   ]
  },
  {
   "cell_type": "markdown",
   "metadata": {},
   "source": [
    "### Lendo o arquivo usando a biblioteca da numpy"
   ]
  },
  {
   "cell_type": "markdown",
   "metadata": {},
   "source": [
    "Agora iremos usar a função loadtxt do numpy. A seguir mostramos alguns exemplos de seu uso\n",
    "\n",
    "```python\n",
    "d = StringIO('''\n",
    "# Abundances of different elements\n",
    "# for TW Hya\n",
    "# taken from Guenther et al. (2007)\n",
    "# element, abund, error, first-ionisation-potential [eV]\n",
    "C  0.2  0.03 11.3\n",
    "N  0.51 0.05 14.6\n",
    "O  0.25 0.01 13.6\n",
    "Ne 2.46 0.08 21.6\n",
    "Fe 0.19 0.01  7.9\n",
    "''')\n",
    "data = np.loadtxt(d, dtype={'names': ('elem', 'abund', 'error', \\\n",
    "    'FIP'),'formats': ('S2', 'f4', 'f4', 'f4')})\n",
    "\n",
    "plt.errorbar(data['FIP'], data['abund'], yerr = data['error'], fmt = 'o')\n",
    "\n",
    "```\n",
    "\n",
    "Um outro exemplo\n",
    "\n",
    "```python\n",
    "from numpy import *\n",
    "data = loadtxt(\"myfile.txt\")                       # myfile.txt contém 4 colunas de números\n",
    "t,z = data[:,0], data[:,3]                         # data é um numpy array 2D \n",
    "\n",
    "t,x,y,z = loadtxt(\"myfile.txt\", unpack=True)               # para desempacotar todas as colunas\n",
    "t,z = loadtxt(\"myfile.txt\", usecols = (0,3), unpack=True)  # para selecionar somente as colunas 1 e 4\n",
    "data = loadtxt(\"myfile.txt\", skiprows = 7)                 # para ignorar as 7 primeiras linhas do arquivo\n",
    "data = loadtxt(\"myfile.txt\", comments = '!')               # use '!' como comentário em vez de '#'\n",
    "data = loadtxt(\"myfile.txt\", delimiter=';')                # use ';' como separador de colunas em vez de espaço e branco\n",
    "data = loadtxt(\"myfile.txt\", dtype = int)                  # o arquivo contém inteiros em vez de floats\n",
    "\n",
    "```"
   ]
  },
  {
   "cell_type": "code",
   "execution_count": null,
   "metadata": {},
   "outputs": [],
   "source": [
    "%matplotlib qt5"
   ]
  },
  {
   "cell_type": "code",
   "execution_count": 18,
   "metadata": {
    "ExecuteTime": {
     "end_time": "2018-06-20T20:09:02.298090Z",
     "start_time": "2018-06-20T20:09:01.822110Z"
    }
   },
   "outputs": [
    {
     "name": "stdout",
     "output_type": "stream",
     "text": [
      "Os parâmetros otimizados são a=0.850523 e b=4.01766\n"
     ]
    },
    {
     "name": "stderr",
     "output_type": "stream",
     "text": [
      "/usr/local/lib/python3.5/dist-packages/matplotlib/cbook/deprecation.py:107: MatplotlibDeprecationWarning: Passing one of 'on', 'true', 'off', 'false' as a boolean is deprecated; use an actual boolean (True/False) instead.\n",
      "  warnings.warn(message, mplDeprecation, stacklevel=1)\n"
     ]
    },
    {
     "data": {
      "text/plain": [
       "<matplotlib.legend.Legend at 0x7efd912c4ba8>"
      ]
     },
     "execution_count": 18,
     "metadata": {},
     "output_type": "execute_result"
    },
    {
     "data": {
      "image/png": "[encoded data removed]",
      "text/plain": [
       "<Figure size 720x432 with 1 Axes>"
      ]
     },
     "metadata": {},
     "output_type": "display_data"
    }
   ],
   "source": [
    "import numpy as np\n",
    "from scipy.optimize import curve_fit\n",
    "\n",
    "# Defina a função para qual será feito o fit \n",
    "def g(x, a, b):\n",
    "    \"\"\"Ajusta (fita) a função y=f(x,p) com os parâmetros p=(a,b). \"\"\"\n",
    "    return a + b*x\n",
    "\n",
    "\n",
    "# Lendo o arquivo de dados \n",
    "\n",
    "dados = np.loadtxt('data/Dados1.dat', dtype={'names': ('x', 'y', 'xerro', \\\n",
    "                    'yerro'),'formats': ('f4', 'f4', 'f4', 'f4')}, skiprows = 1)\n",
    "\n",
    "# Agora vamos converter as listas em numpy array:\n",
    "x = dados['x']\n",
    "y = dados['y']\n",
    "xer = dados['xerro']\n",
    "yer = dados['yerro']\n",
    "\n",
    "#Chama a função que faz o ajuste (fit) da curva\n",
    "popt, pcov = curve_fit(g, x, y)\n",
    "a, b = popt\n",
    "print(\"Os parâmetros otimizados são a=%g e b=%g\" % (a, b))\n",
    "\n",
    "#Fazendo o gráfico\n",
    "import pylab as plt\n",
    "\n",
    "largura = 10  # Largura da figura\n",
    "altura  =  6  # Altura da figura\n",
    "plt.figure(figsize =(largura, altura))   # Define o tamanho do gráfico\n",
    "plt.grid(b='on',axis='both')             # Habilita a grade \n",
    "\n",
    "yfitted = g(x, *popt)     # equivalente a f(x, popt[0], popt[1], popt[2])\n",
    "plt.plot(x, y, 'o', label='dados $y_i$')\n",
    "plt.plot(x, yfitted, '-', label='Fit $f(x_i)$')\n",
    "plt.xlabel('x')\n",
    "plt.title('Decaimento exponencial')\n",
    "plt.legend()"
   ]
  },
  {
   "cell_type": "markdown",
   "metadata": {},
   "source": [
    "## Transformada de Fourier\n",
    "\n",
    "\n",
    "No próximo exemplo, criamos um sinal como uma superposição de uma onda senoidal de 50 Hz e 70 Hz (com um ligeiro desvio de fase entre eles). Então, tomamos a transfomada de Fourier do sinal e fazemos um gráfico  do valor absoluto dos coeficientes (complexos) de transformada de Fourier discreta contra a frequência, e esperamos ver picos em 50 Hz e 70 Hz."
   ]
  },
  {
   "cell_type": "code",
   "execution_count": null,
   "metadata": {},
   "outputs": [],
   "source": [
    "%matplotlib inline"
   ]
  },
  {
   "cell_type": "code",
   "execution_count": 23,
   "metadata": {
    "ExecuteTime": {
     "end_time": "2018-06-20T20:13:10.051388Z",
     "start_time": "2018-06-20T20:13:09.551149Z"
    }
   },
   "outputs": [
    {
     "name": "stderr",
     "output_type": "stream",
     "text": [
      "/usr/local/lib/python3.5/dist-packages/matplotlib/cbook/deprecation.py:107: MatplotlibDeprecationWarning: Passing one of 'on', 'true', 'off', 'false' as a boolean is deprecated; use an actual boolean (True/False) instead.\n",
      "  warnings.warn(message, mplDeprecation, stacklevel=1)\n"
     ]
    },
    {
     "data": {
      "text/plain": [
       "Text(0,0.5,'abs(DFT(sinal))')"
      ]
     },
     "execution_count": 23,
     "metadata": {},
     "output_type": "execute_result"
    },
    {
     "data": {
      "image/png": "[encoded data removed]",
      "text/plain": [
       "<Figure size 720x720 with 2 Axes>"
      ]
     },
     "metadata": {},
     "output_type": "display_data"
    }
   ],
   "source": [
    "import scipy\n",
    "import matplotlib.pyplot as plt\n",
    "pi = scipy.pi\n",
    "\n",
    "signal_length = 0.5   #[segundos]\n",
    "sample_rate=500       #taxa de amostragem [Hz]\n",
    "dt = 1./sample_rate   #tempo entre duas amostras [s]\n",
    "\n",
    "df = 1/signal_length  #frequência entre pontos no \n",
    "                      #domínio das frequências [Hz] \n",
    "t=scipy.arange(0,signal_length,dt) #o vetor contendo o tempo\n",
    "n_t=len(t)            #comprimento do vetor do tempo\n",
    "\n",
    "#cria o sinal\n",
    "y=scipy.sin(2*pi*33*t)+scipy.sin(2*pi*50*t)+scipy.sin(2*pi*70*t+pi/4) + scipy.sin(2*pi*100*t+pi/4)\n",
    "\n",
    "#calcula a transformada de Fourier\n",
    "f=scipy.fft(y)\n",
    "\n",
    "#Trabalha com as frequências significativas da transformada de Fourier\n",
    "freqs=df*scipy.arange(0,(n_t-1)/2.,dtype='d') #d=double precision float\n",
    "n_freq=len(freqs)\n",
    "\n",
    "\n",
    "largura = 10  # Largura da figura\n",
    "altura  = 10  # Altura da figura\n",
    "plt.figure(figsize =(largura, altura))   # Define o tamanho do gráfico\n",
    "plt.grid(b='on',axis='both')             # Habilita a grade \n",
    "\n",
    "#Faz o gráfico dos dados y de entrada em função do tempo\n",
    "plt.subplot(2,1,1)\n",
    "plt.plot(t,y,label='dados de entrada')\n",
    "plt.xlabel('tempo [s]')\n",
    "plt.ylabel('sinal')\n",
    "plt.grid()\n",
    "#Faz um gráfico do espectro de frequência \n",
    "plt.subplot(2,1,2)\n",
    "plt.plot(freqs,abs(f[0:n_freq]),\n",
    "         label='abs(Transformada de Fourier)')\n",
    "plt.xlabel('frequência [Hz]')\n",
    "plt.ylabel('abs(DFT(sinal))')"
   ]
  },
  {
   "cell_type": "markdown",
   "metadata": {},
   "source": [
    "O gráfico inferior mostra a transformada discreta de Fourier calculada a partir dos dados mostrados no gráfico superior. Abaixo segue um outro exemplo de uso da FFT no python."
   ]
  },
  {
   "cell_type": "code",
   "execution_count": 24,
   "metadata": {
    "ExecuteTime": {
     "end_time": "2018-06-20T20:17:25.114408Z",
     "start_time": "2018-06-20T20:17:24.491765Z"
    }
   },
   "outputs": [
    {
     "name": "stdout",
     "output_type": "stream",
     "text": [
      "1/dt =  90.00090000900009\n",
      "frequência max =  44.95050499894566\n",
      "frequência min =  -44.95050499894566\n",
      "df =  0.09989001110876813\n"
     ]
    },
    {
     "name": "stderr",
     "output_type": "stream",
     "text": [
      "/usr/local/lib/python3.5/dist-packages/matplotlib/cbook/deprecation.py:107: MatplotlibDeprecationWarning: Passing one of 'on', 'true', 'off', 'false' as a boolean is deprecated; use an actual boolean (True/False) instead.\n",
      "  warnings.warn(message, mplDeprecation, stacklevel=1)\n"
     ]
    },
    {
     "data": {
      "image/png": "[encoded data removed]",
      "text/plain": [
       "<Figure size 720x432 with 1 Axes>"
      ]
     },
     "metadata": {},
     "output_type": "display_data"
    }
   ],
   "source": [
    "# Exemplo de uso da FFT no python!\n",
    "\n",
    "import numpy as np\n",
    "%matplotlib inline\n",
    "import matplotlib.pyplot as plt\n",
    "from scipy.fftpack import fft, fftfreq\n",
    "from scipy import stats # ela possui muitas funções de distribução\n",
    "\n",
    "# Amostragem\n",
    "dt = 0.011111  #espaço amostral no tempo\n",
    "t_vec = np.arange(0.0,10.0,dt)  #vetor tempo\n",
    "Nt = len(t_vec)\n",
    "\n",
    "freq_vec = fftfreq(Nt,dt) # array da frequência\n",
    "# o vetor frequência depende só do tamanho da janela e da amostragem \n",
    "freq_samp = 1.0/dt\n",
    "print(\"1/dt = \",freq_samp)  # relevante para max/min das frequências\n",
    "\n",
    "# Dimensões do Gráfico\n",
    "largura = 10  # Largura da figura\n",
    "altura  = 6  # Altura da figura\n",
    "plt.figure(figsize =(largura, altura))   # Define o tamanho do gráfico\n",
    "plt.grid(b='on',axis='both')             # Habilita a grade \n",
    "#\n",
    "plt.plot(freq_vec)\n",
    "print(\"frequência max = \",max(freq_vec))  # note que as frequências máximas e mínimas estão relacionadas por 1/dt\n",
    "print(\"frequência min = \",min(freq_vec))\n",
    "plt.xlabel(\"Índice\")\n",
    "plt.ylabel(\"Frequência\")\n",
    "df = freq_vec[1] - freq_vec[0]\n",
    "print(\"df = \",df)\n",
    "\n",
    "# Se mudar dt  então a frequência máxima cresce\n",
    "# Se aumentarmos o tamanho da janela, então df diminui\n"
   ]
  },
  {
   "cell_type": "code",
   "execution_count": 25,
   "metadata": {
    "ExecuteTime": {
     "end_time": "2018-06-20T20:17:29.692471Z",
     "start_time": "2018-06-20T20:17:29.142269Z"
    }
   },
   "outputs": [
    {
     "data": {
      "image/png": "[encoded data removed]",
      "text/plain": [
       "<Figure size 1080x288 with 3 Axes>"
      ]
     },
     "metadata": {},
     "output_type": "display_data"
    }
   ],
   "source": [
    "# cria um conjunto de pontos que são uma função seno + um ruído\n",
    "myfrequency = 3.67\n",
    "function = np.sin(2.0*np.pi*myfrequency*t_vec)\n",
    "noise = stats.uniform.rvs(size=len(t_vec))  # esse deve ser um vetor!\n",
    "#print(noise)\n",
    "function = function + 0.1*noise # adiciona algum ruído\n",
    "func_fft = fft(function)  # toma a fft da função!\n",
    "\n",
    "fig = plt.figure(figsize=(15,4))\n",
    "ax1 = plt.subplot(131);   # 1 gráfico vertical, 3 gráfico horizonal, o primeiro 1 a esquerda\n",
    "ax2 = plt.subplot(132);   # meio\n",
    "ax3 = plt.subplot(133);   # direita\n",
    "ax1.plot(t_vec,function)  # faz o gráfico da função\n",
    "ax1.set_xlabel(\"tempo\");  ax1.set_ylabel(\"função\");\n",
    "ax2.plot(freq_vec,np.real(func_fft))  # gráfico da parte real da fft\n",
    "ax2.set_xlabel(\"frequência\");  ax2.set_ylabel(\"parte real\");\n",
    "ax3.plot(freq_vec,np.imag(func_fft))  # gráfico da parte imaginária da fft\n",
    "ax3.set_xlabel(\"frequência\");  ax3.set_ylabel(\"parte imaginária\");"
   ]
  },
  {
   "cell_type": "code",
   "execution_count": 26,
   "metadata": {
    "ExecuteTime": {
     "end_time": "2018-06-20T20:17:37.018020Z",
     "start_time": "2018-06-20T20:17:36.726472Z"
    }
   },
   "outputs": [
    {
     "data": {
      "text/plain": [
       "(0, 7)"
      ]
     },
     "execution_count": 26,
     "metadata": {},
     "output_type": "execute_result"
    },
    {
     "data": {
      "image/png": "[encoded data removed]",
      "text/plain": [
       "<Figure size 432x288 with 1 Axes>"
      ]
     },
     "metadata": {},
     "output_type": "display_data"
    }
   ],
   "source": [
    "# o Gráfico mostra o pico da frequência\n",
    "power = np.absolute(func_fft)**2  # isso converte um número real e fornece sua **amplitude**\n",
    "\n",
    "plt.xlabel(\"Frequência\")\n",
    "plt.ylabel(\"Amplitude\")\n",
    "plt.plot(freq_vec, power)\n",
    "plt.xlim((0,7))\n",
    "\n",
    "# O pico está onde era esperado? "
   ]
  },
  {
   "cell_type": "code",
   "execution_count": 27,
   "metadata": {
    "ExecuteTime": {
     "end_time": "2018-06-20T20:17:42.514096Z",
     "start_time": "2018-06-20T20:17:42.287793Z"
    }
   },
   "outputs": [
    {
     "data": {
      "text/plain": [
       "(0, 100)"
      ]
     },
     "execution_count": 27,
     "metadata": {},
     "output_type": "execute_result"
    },
    {
     "data": {
      "image/png": "[encoded data removed]",
      "text/plain": [
       "<Figure size 432x288 with 1 Axes>"
      ]
     },
     "metadata": {},
     "output_type": "display_data"
    }
   ],
   "source": [
    "# Faz o gráfico novamente  mostrando o ruído\n",
    "plt.xlabel(\"Frequência\")\n",
    "plt.ylabel(\"Amplitude\")\n",
    "plt.plot(freq_vec, power)\n",
    "plt.xlim((0,30))\n",
    "plt.ylim((0,100))  # Para mostrar o ruído"
   ]
  },
  {
   "cell_type": "markdown",
   "metadata": {},
   "source": [
    "Otimização\n",
    "------------\n",
    "\n",
    "\n",
    "Muitas vezes precisamos encontrar o máximo ou mínimo de uma função qualquer *f*(*x*) onde *f* é uma função escalar, mas *x* pode ser um vetor. As aplicações típicas são a minimização de entidades como custo, risco e erro, ou a maximização da produtividade, eficiência e lucro. As rotinas de otimização geralmente fornecem um método para minimizar uma determinada função: se precisarmos maximizar *f*(*x*) criamos uma nova função *g*(*x*) que inverte o sinal de *f*, ie *g*(*x*) = - *f*(*x*) e minimizamos *g*(*x*).\n",
    "\n",
    "Abaixo, apresentamos um exemplo mostrando (i) a definição da função de teste e (ii) a chamada da função `scipy.optimize.fmin` que assume como argumento uma função *f* para minimizar e um valor inicial *x*<sub>0 </sub> para iniciar a busca pelo mínimo e retorna o valor de *x* para o qual *f*(*x*) é minimizada (localmente). Tipicamente, a pesquisa do mínimo é uma pesquisa local, isto é, o algoritmo segue o gradiente local. Repetimos a busca pelo mínimo para dois valores (*x*<sub>0</sub> = 1,0 e *x*<sub>0</sub> = 2,0, respectivamente) para demonstrar que, dependendo do valor inicial, pode-se encontrar diferente mínimos da função *f*.\n",
    "\n",
    "A maioria dos comandos (após as duas chamadas para `fmin`) no arquivo` fmin1.py` cria o gráfico da função, nos pontos de partida das pesquisas e os mínimos obtidos:\n"
   ]
  },
  {
   "cell_type": "code",
   "execution_count": null,
   "metadata": {},
   "outputs": [],
   "source": [
    "from scipy import arange, cos, exp\n",
    "from scipy.optimize import fmin\n",
    "import pylab as plt\n",
    "\n",
    "def f(x):\n",
    "    return cos(x) - 3 * exp( -(x - 0.2) ** 2)\n",
    "\n",
    "# Encontra o mínimo de f(x),\n",
    "# iniciando em: -2.0, -1.0, 1.0 e 2.0 respectivamente\n",
    "minimo1 = fmin(f, -2.0)\n",
    "print(\"Inicia a pesquisa em x=-2., o mínimo é\", minimo1)\n",
    "minimo2 = fmin(f, -1.0)\n",
    "print(\"Inicia a pesquisa em x=-1., o mínimo é\", minimo2)\n",
    "minimo3 = fmin(f, 1.0)\n",
    "print(\"Inicia a pesquisa em x=1., o mínimo é\", minimo3)\n",
    "minimo4 = fmin(f, 2.0)\n",
    "print(\"Inicia a pesquisa em x=2., o mínimo é\", minimo4)\n",
    "\n",
    "# Dimensões do Gráfico\n",
    "largura = 10  # Largura da figura\n",
    "altura  = 6  # Altura da figura\n",
    "plt.figure(figsize =(largura, altura))   # Define o tamanho do gráfico\n",
    "plt.grid(b='on',axis='both')             # Habilita a grade \n",
    "#\n",
    "\n",
    "# Fazendo o gráfico da função\n",
    "x = arange(-10, 10, 0.1)\n",
    "y = f(x)\n",
    "plt.plot(x, y, label='$\\cos(x)-3e^{-(x-0.2)^2}$')\n",
    "plt.xlabel('x')\n",
    "#plt.grid()\n",
    "plt.axis([-5, 5, -2.2, 0.5])\n",
    "\n",
    "# adiciona o  minimo1 ao gráfico\n",
    "plt.plot(minimo1, f(minimo1), 'vr',\n",
    "           label='minimo 1')\n",
    "# adiciona o início1 ao gráfico\n",
    "plt.plot(-2.0, f(-2.0), 'or', label='início 1')\n",
    "\n",
    "# adiciona o minimo2 ao gráfico\n",
    "plt.plot(minimo2,f(minimo2),'vg',\\\n",
    "           label='minimo 2')\n",
    "# adiciona o início 2 ao gráfico\n",
    "plt.plot(-1.0,f(-1.0),'og',label='início 2')\n",
    "# adiciona o  minimo3 ao gráfico\n",
    "plt.plot(minimo3, f(minimo3), 'vr',\n",
    "           label='minimo 3')\n",
    "# adiciona o início1 ao gráfico\n",
    "plt.plot(1.0, f(1.0), 'or', label='início 3')\n",
    "\n",
    "# adiciona o minimo2 ao gráfico\n",
    "plt.plot(minimo4,f(minimo4),'vg',\\\n",
    "           label='minimo 4')\n",
    "# adiciona o início 2 ao gráfico\n",
    "plt.plot(2.0,f(2.0),'og',label='início 4')\n",
    "\n",
    "\n",
    "plt.legend(loc='lower right')"
   ]
  },
  {
   "cell_type": "markdown",
   "metadata": {},
   "source": [
    "Chamando a função `fmin` irá produzir algum tipo de de diagnóstico da saída, que você também pode ver acima.\n",
    "\n",
    "##### Valor de retorno de `fmin`\n",
    "\n",
    "Observe que o valor de retorno da função `fmin` é um numpy `array` que - para o exemplo acima - contém apenas um número, pois temos apenas um parâmetro (aqui *x*) para variar. Em geral, `fmin` pode ser usado para encontrar o mínimo em um espaço de parâmetros de maior dimensão se houver vários parâmetros. Nesse caso, a matriz numpy iria conter os parâmetros que minimizam a função objetivo. A função objetivo $f(x)$ tem que retornar um escalar mesmo se houver mais parâmetros, isto é, mesmo se $x$ for um vetor como em $f(\\mathbf{x})$.\n"
   ]
  },
  {
   "cell_type": "markdown",
   "metadata": {},
   "source": [
    "Geralmente, na otimização matemática, uma função não convexa chamada função Rosenbrock é usada para testar o desempenho do algoritmo de otimização. O código a seguir demonstra o problema de minimização nesta função. A função de Rosenbrock de N variáveis é dada pela seguinte equação, e tem um valor mínimo 0 em $x_i = 1$:\n",
    "\n",
    "$$ f(x) = \\sum\\limits_{i=1}^{N-1} \\; 100 \\cdot\\left(x_i - x_{i-1}^2\\right)^2 + \\left(1 - x_{i-1}\\right)^2 $$\n",
    "\n",
    "O código para a função precedente é o seguinte:"
   ]
  },
  {
   "cell_type": "code",
   "execution_count": null,
   "metadata": {},
   "outputs": [],
   "source": [
    "import numpy as np\n",
    "from scipy.optimize import minimize\n",
    "# Definição da função de Rosenbrock\n",
    "def rosenbrock(x):\n",
    "    return sum(100.0*(x[1:]-x[:-1]**2.0)**2.0 + (1-x[:-1])**2.0)\n",
    "\n",
    "x0 = np.array([1, 0.7, 0.8, 2.9, 1.1])\n",
    "res = minimize(rosenbrock, x0, method = 'nelder-mead', options =\n",
    "               {'xtol': 1e-8, 'disp': True})\n",
    "print(res.x)"
   ]
  },
  {
   "cell_type": "markdown",
   "metadata": {},
   "source": [
    "Outros Métodos Numéricos\n",
    "-----------------------\n",
    "\n",
    "As bibliotecas Scientific Python e Numpy fornecem acesso a um grande número de outros algoritmos numéricos, incluindo interpolação de funções, transformadas de Fourier, otimização, funções especiais (como funções de Bessel), processamento de sinais e filtros, geração de números aleatórios e muito mais. Comece a explorar as capacidades `scipy` e `numpy` usando a função `help` e a documentação fornecida na web."
   ]
  },
  {
   "cell_type": "markdown",
   "metadata": {},
   "source": [
    "scipy.io: Scipy entrada/saída\n",
    "----------------------------\n",
    "\n",
    "O Scipy fornece rotinas para ler e gravar arquivos do Matlab `mat`. Aqui está um exemplo em que criamos um arquivo compatível com Matlab armazenando uma matriz (1x11), e depois lemos esses dados em uma matriz numpy de Python usando a biblioteca scipy Input-Output:\n",
    "\n",
    "Primeiro criamos um arquivo mat no Octave (Octave é \\[principalmente\\] compatível com Matlab):\n",
    "\n",
    "```octave\n",
    "octave:1> a=-1:0.5:4\n",
    "a =\n",
    "Columns 1 through 6:\n",
    "   -1.0000   -0.5000    0.0000    0.5000    1.0000    1.5000    \n",
    "Columns 7 through 11:\n",
    "   2.0000    2.5000   3.0000    3.5000    4.0000\n",
    "octave:2> save -6 octave_a.mat a       %save as version 6\n",
    "```"
   ]
  },
  {
   "cell_type": "markdown",
   "metadata": {},
   "source": [
    "Em seguida, carregamos essa matriz dentro do python:"
   ]
  },
  {
   "cell_type": "code",
   "execution_count": null,
   "metadata": {},
   "outputs": [],
   "source": [
    "from scipy.io import loadmat\n",
    "mat_contents = loadmat('scipy/code/octave_a.mat')"
   ]
  },
  {
   "cell_type": "code",
   "execution_count": null,
   "metadata": {},
   "outputs": [],
   "source": [
    "mat_contents"
   ]
  },
  {
   "cell_type": "code",
   "execution_count": null,
   "metadata": {},
   "outputs": [],
   "source": [
    "mat_contents['a']"
   ]
  },
  {
   "cell_type": "markdown",
   "metadata": {},
   "source": [
    "A função `loadmat` retorna um dicionário: a chave para cada item no dicionário é uma string que é o nome dessa matriz quando ela foi salva no Matlab. A chave é a matriz real.\n",
    "\n",
    "Um arquivo Matlab matriz pode conter várias matrizes. Cada um deles é apresentado por um par chave-valor no dicionário.\n",
    "\n",
    "Vamos salvar dois arrays do Python para demonstrar que:\n"
   ]
  },
  {
   "cell_type": "code",
   "execution_count": null,
   "metadata": {},
   "outputs": [],
   "source": [
    "import scipy.io\n",
    "import numpy as np\n",
    "\n",
    "# cria dois arrays numpy \n",
    "a = np.linspace(0, 50, 11)\n",
    "b = np.ones((4, 4))\n",
    "\n",
    "# salva como um arquivo do matlab\n",
    "# cria um dicionário para o savemat\n",
    "tmp_d = {'a': a,\n",
    "         'b': b}\n",
    "scipy.io.savemat('data.mat', tmp_d)"
   ]
  },
  {
   "cell_type": "markdown",
   "metadata": {},
   "source": [
    "Esse programa cria o arquivo `data.mat`, o qual podemos subsequentemente ler usando o Matlab ou  Octave:\n",
    "\n",
    "    HAL47:code fangohr$ octave\n",
    "    GNU Octave, version 3.2.4\n",
    "    Copyright (C) 2009 John W. Eaton and others.\n",
    "    <snip>\n",
    "\n",
    "    octave:1> whos\n",
    "    Variables in the current scope:\n",
    "\n",
    "      Attr Name        Size                     Bytes  Class\n",
    "      ==== ====        ====                     =====  ===== \n",
    "           ans         1x11                        92  cell\n",
    "\n",
    "    Total is 11 elements using 92 bytes\n",
    "\n",
    "    octave:2> load data.mat\n",
    "    octave:3> whos\n",
    "    Variables in the current scope:\n",
    "\n",
    "      Attr Name        Size                     Bytes  Class\n",
    "      ==== ====        ====                     =====  ===== \n",
    "           a          11x1                         88  double\n",
    "           ans         1x11                        92  cell\n",
    "           b           4x4                        128  double\n",
    "\n",
    "    Total is 38 elements using 308 bytes\n",
    "\n",
    "    octave:4> a\n",
    "    a =\n",
    "\n",
    "        0\n",
    "        5\n",
    "       10\n",
    "       15\n",
    "       20\n",
    "       25\n",
    "       30\n",
    "       35\n",
    "       40\n",
    "       45\n",
    "       50\n",
    "\n",
    "    octave:5> b\n",
    "    b =\n",
    "\n",
    "       1   1   1   1\n",
    "       1   1   1   1\n",
    "       1   1   1   1\n",
    "       1   1   1   1"
   ]
  },
  {
   "cell_type": "markdown",
   "metadata": {},
   "source": [
    "Observe que existem outras funções para ler e gravar em formatos usados por IDL, Netcdf e outros formatos no `scipy.io`.\n",
    "\n",
    "\n",
    "Para maiores informações  → Veja [Scipy tutorial](http://docs.scipy.org/doc/scipy/reference/tutorial/io.html)."
   ]
  },
  {
   "cell_type": "markdown",
   "metadata": {},
   "source": [
    "Usando o Módulo de Estatística\n",
    "------\n",
    "\n",
    "O módulo de estatísticas do SciPy tem funções para executar operações estatísticas simples e várias distribuições de probabilidade. O programa a seguir demonstra cálculos estatísticos simples usando a função SciPy stats.describe. Esta função única opera em um array e retorna o número de elementos, valor mínimo, valor máximo, média, variância, skewness e kurtosis:\n",
    "\n",
    "Considere o seguinte exemplo:"
   ]
  },
  {
   "cell_type": "code",
   "execution_count": null,
   "metadata": {},
   "outputs": [],
   "source": [
    "import scipy as sp\n",
    "import scipy.stats as st\n",
    "s = sp.randn(100)\n",
    "n, min_max, mean, var, skew, kurt = st.describe(s)\n",
    "print(\"Número de elementos: {0:d}\".format(n))\n",
    "print(\"Mínimo: {0:3.5f} Máximo: {1:2.5f}\".format(min_max[0],\n",
    "min_max[1]))\n",
    "print(\"Média: {0:3.5f}\".format(mean))\n",
    "print(\"Variância: {0:3.5f}\".format(var))\n",
    "print(\"Skewness : {0:3.5f}\".format(skew))\n",
    "print(\"Kurtosis: {0:3.5f}\".format(kurt))"
   ]
  },
  {
   "cell_type": "markdown",
   "metadata": {},
   "source": [
    "Processamento de imagem usando SciPy\n",
    "------\n",
    "\n",
    "Os dois programas a seguir foram desenvolvidos para demonstrar a funcionalidade de processamento de imagem do SciPy. O primeiro destes programas simplesmente exibe uma imagem de teste padrão. Esta imagem é amplamente utilizada no campo do processamento de imagens e é chamada de Lena. O segundo programa aplica transformação geométrica nesta imagem. Ele executa recorte de imagem e rotação em 45 por cento. O programa a seguir exibe a imagem Lena usando a API matplotlib. O método imshow"
   ]
  },
  {
   "cell_type": "code",
   "execution_count": null,
   "metadata": {},
   "outputs": [],
   "source": [
    "%matplotlib\n",
    "from scipy import misc\n",
    "l = misc.face()\n",
    "misc.imsave('guaxini.png', l)\n",
    "import matplotlib.pyplot as plt\n",
    "plt.gray()\n",
    "plt.imshow(l)\n",
    "plt.show()"
   ]
  },
  {
   "cell_type": "code",
   "execution_count": null,
   "metadata": {},
   "outputs": [],
   "source": [
    "?misc.face"
   ]
  },
  {
   "cell_type": "markdown",
   "metadata": {},
   "source": [
    "O programa a seguir realiza uma transformação geométrica. Este programa exibe as imagens transformadas juntamente com a imagem original como uma matriz de quatro eixos:"
   ]
  },
  {
   "cell_type": "code",
   "execution_count": null,
   "metadata": {},
   "outputs": [],
   "source": [
    "import scipy.misc\n",
    "guaxinim = scipy.misc.face()\n",
    "guaxinim.shape\n",
    "scipy.misc.info(guaxinim)"
   ]
  },
  {
   "cell_type": "code",
   "execution_count": null,
   "metadata": {},
   "outputs": [],
   "source": [
    "%matplotlib inline\n",
    "import scipy.misc\n",
    "from scipy import ndimage\n",
    "import matplotlib.pyplot as plt\n",
    "import numpy as np\n",
    "guaxinim = scipy.misc.face()\n",
    "lx, ly, lz= guaxinim.shape\n",
    "crop_guaxinim = guaxinim[lx//4:-lx//4, ly//2:-ly//4]\n",
    "crop_eyes_guaxinim = guaxinim[lx//4:-lx//2, ly//2:-ly//4]\n",
    "rotate_guaxinim = ndimage.rotate(guaxinim, 45)\n",
    "# Quatro eixos, retornados com um array 2-d\n",
    "f, axarr = plt.subplots(2, 2)\n",
    "axarr[0, 0].imshow(guaxinim, cmap=plt.cm.gray)\n",
    "axarr[0, 0].axis('off')\n",
    "axarr[0, 0].set_title('Imagen original')\n",
    "axarr[0, 1].imshow(crop_guaxinim, cmap=plt.cm.gray)\n",
    "axarr[0, 1].axis('off')\n",
    "axarr[0, 1].set_title('Imagem cortada')\n",
    "axarr[1, 0].imshow(crop_eyes_guaxinim, cmap=plt.cm.gray)\n",
    "axarr[1, 0].axis('off')\n",
    "axarr[1, 0].set_title('Imagem dos olhos')\n",
    "axarr[1, 1].imshow(rotate_guaxinim, cmap=plt.cm.gray)\n",
    "axarr[1, 1].axis('off')\n",
    "axarr[1, 1].set_title('Imagem rotacionada de 45')\n",
    "plt.show()"
   ]
  },
  {
   "cell_type": "markdown",
   "metadata": {},
   "source": [
    "Para maiores detalhes consulte [Processamento de imagens](http://www.scipy-lectures.org/advanced/image_processing/) e [Imagens com a NumPy](http://scikit-image.org/docs/dev/user_guide/numpy_images.html)"
   ]
  },
  {
   "cell_type": "code",
   "execution_count": null,
   "metadata": {},
   "outputs": [],
   "source": [
    "?ndimage.geometric_transform"
   ]
  },
  {
   "cell_type": "code",
   "execution_count": null,
   "metadata": {},
   "outputs": [],
   "source": [
    "%matplotlib inline\n",
    "import numpy as np\n",
    "import scipy\n",
    "import scipy.misc\n",
    "import matplotlib.pyplot as plt\n",
    "\n",
    "face = scipy.misc.face(gray=True)\n",
    "face[10:13, 20:23]\n",
    "#face[100:120] = 255\n",
    "\n",
    "lx, ly = face.shape\n",
    "X, Y = np.ogrid[0:lx, 0:ly]\n",
    "mask = (X - lx/2)**2 + (Y - ly/2)**2 > lx*ly/8\n",
    "face[mask] = 0\n",
    "#face[range(400), range(400)] = 255\n",
    "\n",
    "plt.figure(figsize=(3, 3))\n",
    "plt.axes([0, 0, 1, 1])\n",
    "plt.imshow(face, cmap=plt.cm.gray)\n",
    "plt.axis('off')\n",
    "\n",
    "plt.show()"
   ]
  },
  {
   "cell_type": "markdown",
   "metadata": {},
   "source": [
    "## Lendo uma imagem qualquer"
   ]
  },
  {
   "cell_type": "code",
   "execution_count": null,
   "metadata": {},
   "outputs": [],
   "source": [
    "import matplotlib.pyplot as plt\n",
    "import matplotlib.image as mpimg\n",
    "from scipy import ndimage\n",
    "import numpy as np\n",
    "img=mpimg.imread('Figs/Avioes.png')\n",
    "plt.gray()\n",
    "plt.imshow(img)\n",
    "plt.show()\n",
    "\n",
    "lx, ly, lz= img.shape\n",
    "crop_guaxinim = img[lx//4:-lx//4, ly//2:-ly//4]\n",
    "crop_eyes_guaxinim = img[lx//4:-lx//2, ly//2:-ly//4]\n",
    "rotate_guaxinim = ndimage.rotate(img, 45)\n",
    "# Quatro eixos, retornados com um array 2-d\n",
    "f, axarr = plt.subplots(2, 2)\n",
    "axarr[0, 0].imshow(img, cmap=plt.cm.gray)\n",
    "axarr[0, 0].axis('off')\n",
    "axarr[0, 0].set_title('Imagen original')\n",
    "axarr[0, 1].imshow(crop_guaxinim, cmap=plt.cm.gray)\n",
    "axarr[0, 1].axis('off')\n",
    "axarr[0, 1].set_title('Imagem cortada')\n",
    "axarr[1, 0].imshow(crop_eyes_guaxinim, cmap=plt.cm.gray)\n",
    "axarr[1, 0].axis('off')\n",
    "axarr[1, 0].set_title('Imagem dos olhos')\n",
    "axarr[1, 1].imshow(rotate_guaxinim, cmap=plt.cm.gray)\n",
    "axarr[1, 1].axis('off')\n",
    "axarr[1, 1].set_title('Imagem rotacionada de 45')\n",
    "plt.show()"
   ]
  },
  {
   "cell_type": "code",
   "execution_count": null,
   "metadata": {},
   "outputs": [],
   "source": []
  }
 ],
 "metadata": {
  "kernelspec": {
   "display_name": "Python 3",
   "language": "python",
   "name": "python3"
  },
  "language_info": {
   "codemirror_mode": {
    "name": "ipython",
    "version": 3
   },
   "file_extension": ".py",
   "mimetype": "text/x-python",
   "name": "python",
   "nbconvert_exporter": "python",
   "pygments_lexer": "ipython3",
   "version": "3.6.8"
  },
  "latex_envs": {
   "LaTeX_envs_menu_present": true,
   "autoclose": false,
   "autocomplete": true,
   "bibliofile": "biblio.bib",
   "cite_by": "apalike",
   "current_citInitial": 1,
   "eqLabelWithNumbers": true,
   "eqNumInitial": 1,
   "hotkeys": {
    "equation": "Ctrl-E",
    "itemize": "Ctrl-I"
   },
   "labels_anchors": false,
   "latex_user_defs": false,
   "report_style_numbering": false,
   "user_envs_cfg": false
  },
  "nbTranslate": {
   "displayLangs": [
    "pt",
    "en"
   ],
   "hotkey": "alt-t",
   "langInMainMenu": true,
   "sourceLang": "en",
   "targetLang": "pt",
   "useGoogleTranslate": true
  },
  "toc": {
   "base_numbering": 1,
   "nav_menu": {},
   "number_sections": true,
   "sideBar": true,
   "skip_h1_title": false,
   "title_cell": "Table of Contents",
   "title_sidebar": "Contents",
   "toc_cell": false,
   "toc_position": {},
   "toc_section_display": "block",
   "toc_window_display": false
  },
  "varInspector": {
   "cols": {
    "lenName": 16,
    "lenType": 16,
    "lenVar": 40
   },
   "kernels_config": {
    "python": {
     "delete_cmd_postfix": "",
     "delete_cmd_prefix": "del ",
     "library": "var_list.py",
     "varRefreshCmd": "print(var_dic_list())"
    },
    "r": {
     "delete_cmd_postfix": ") ",
     "delete_cmd_prefix": "rm(",
     "library": "var_list.r",
     "varRefreshCmd": "cat(var_dic_list()) "
    }
   },
   "types_to_exclude": [
    "module",
    "function",
    "builtin_function_or_method",
    "instance",
    "_Feature"
   ],
   "window_display": false
  }
 },
 "nbformat": 4,
 "nbformat_minor": 1
}
